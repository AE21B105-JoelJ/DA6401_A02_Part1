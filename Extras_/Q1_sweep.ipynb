{
 "cells": [
  {
   "cell_type": "code",
   "execution_count": 1,
   "id": "5456a244",
   "metadata": {},
   "outputs": [],
   "source": [
    "# Importing the necessary libraries #\n",
    "import torch\n",
    "import gc\n",
    "import numpy as np\n",
    "import torch.nn as nn\n",
    "import torchvision.transforms.functional as F\n",
    "import lightning as L\n",
    "from typing import List\n",
    "from lightning.pytorch import Trainer\n",
    "from torchvision.datasets import MNIST\n",
    "from torchvision import transforms, datasets\n",
    "from torch.utils.data import DataLoader, random_split, Subset\n",
    "from sklearn.metrics import precision_score\n",
    "from torchmetrics import Accuracy\n",
    "from sklearn.model_selection import train_test_split\n",
    "import os"
   ]
  },
  {
   "cell_type": "code",
   "execution_count": 2,
   "id": "f3edf7fc",
   "metadata": {},
   "outputs": [],
   "source": [
    "torch.cuda.empty_cache()\n",
    "torch.set_float32_matmul_precision(\"medium\")"
   ]
  },
  {
   "cell_type": "code",
   "execution_count": 3,
   "id": "a0b4d123",
   "metadata": {},
   "outputs": [
    {
     "name": "stderr",
     "output_type": "stream",
     "text": [
      "\u001b[34m\u001b[1mwandb\u001b[0m: Using wandb-core as the SDK backend.  Please refer to https://wandb.me/wandb-core for more information.\n",
      "\u001b[34m\u001b[1mwandb\u001b[0m: Currently logged in as: \u001b[33mae21b105\u001b[0m to \u001b[32mhttps://api.wandb.ai\u001b[0m. Use \u001b[1m`wandb login --relogin`\u001b[0m to force relogin\n"
     ]
    },
    {
     "data": {
      "text/plain": [
       "True"
      ]
     },
     "execution_count": 3,
     "metadata": {},
     "output_type": "execute_result"
    }
   ],
   "source": [
    "import wandb\n",
    "from lightning.pytorch.loggers import WandbLogger\n",
    "wandb.login()"
   ]
  },
  {
   "cell_type": "code",
   "execution_count": 4,
   "id": "0240fe9a",
   "metadata": {},
   "outputs": [],
   "source": [
    "# Function to give the activation function #\n",
    "def create_activation_function(activation : str = \"ReLU\"):\n",
    "    possible_activations = [\"ReLU\", \"Mish\", \"GELU\", \"SELU\", \"SiLU\", \"LeakyReLU\" ]\n",
    "    # Assertion to be made for the activations possible #\n",
    "    assert activation in possible_activations, f\"activation not in {possible_activations}\"\n",
    "\n",
    "    if activation == \"ReLU\":\n",
    "        return nn.ReLU()\n",
    "    elif activation == \"GELU\":\n",
    "        return nn.GELU()\n",
    "    elif activation == \"SiLU\":\n",
    "        return nn.SiLU()\n",
    "    elif activation == \"SELU\":\n",
    "        return nn.SELU()\n",
    "    elif activation == \"Mish\":\n",
    "        return nn.Mish()\n",
    "    else:\n",
    "        return nn.LeakyReLU()"
   ]
  },
  {
   "cell_type": "code",
   "execution_count": 5,
   "id": "7289a70c",
   "metadata": {},
   "outputs": [],
   "source": [
    "class CNN_(nn.Module):\n",
    "    def __init__(self, config = None):\n",
    "        super().__init__()\n",
    "        # Configuration to build the CNN #\n",
    "        self.config = config\n",
    "        \n",
    "        # Some assertions to be made #\n",
    "        assert config[\"no_of_conv_blocks\"]==len(config[\"no_of_filters\"]), \"The filter number do not match with number of conv layers\"\n",
    "        assert config[\"no_of_conv_blocks\"]==len(config[\"filter_sizes\"]), \"The filter sizes do not match with number of conv layers\"\n",
    "        assert config[\"no_of_conv_blocks\"]==len(config[\"conv_strides\"]), \"The strides do not match with number of conv layers\"\n",
    "        assert config[\"no_of_conv_blocks\"]==len(config[\"conv_padding\"]), \"The padding do not match with number of conv layers\"\n",
    "        assert config[\"no_of_conv_blocks\"]==len(config[\"max_pooling_stride\"]), \"The max pooling stride do not match with number of conv layers\"\n",
    "\n",
    "        # building the convolution blocks #\n",
    "        conv_blocks = []\n",
    "        for block_no in range(config[\"no_of_conv_blocks\"]):\n",
    "            # Getting the hyper-parameters from the config #\n",
    "            if block_no == 0:\n",
    "                in_channels = config[\"input_channels\"]\n",
    "            else:\n",
    "                in_channels = config[\"no_of_filters\"][block_no-1]\n",
    "            out_channels = config[\"no_of_filters\"][block_no]\n",
    "            filter_size = config[\"filter_sizes\"][block_no]\n",
    "            stride = config[\"conv_strides\"][block_no]\n",
    "            padding = config[\"conv_padding\"][block_no]\n",
    "            if padding == None:\n",
    "                padding = int((filter_size - 1)/2) if filter_size > 1 else 0\n",
    "            # Defining the block to add to conv_blocks #\n",
    "            block_add = nn.Sequential(\n",
    "                nn.Conv2d(in_channels=in_channels, out_channels=out_channels, kernel_size=filter_size, stride=stride, padding=padding),\n",
    "                nn.BatchNorm2d(num_features=out_channels) if config[\"batch_norm_conv\"] else nn.Identity(),\n",
    "                create_activation_function(activation=config[\"conv_activation\"][block_no]),\n",
    "                nn.MaxPool2d(kernel_size=config[\"max_pooling_kernel_size\"][block_no],stride=config[\"max_pooling_stride\"][block_no]) if config[\"max_pooling_stride\"][block_no] != None else nn.Identity(),\n",
    "                nn.Dropout(config[\"dropout_conv\"]) if config[\"dropout_conv\"]>0 else nn.Identity(),\n",
    "            )\n",
    "            # Appending the blocks to the total #\n",
    "            conv_blocks.append(block_add)\n",
    "\n",
    "        # Converting the list to a sequential module #\n",
    "        self.conv_blocks = nn.Sequential(*conv_blocks)\n",
    "\n",
    "        # Calculating the size of the output #\n",
    "        dummy_in = torch.randn(size=(1, config[\"input_channels\"],config[\"input_size\"][0], config[\"input_size\"][1]))\n",
    "        dummy_out = self.conv_blocks(dummy_in).flatten()\n",
    "        flat_size = len(dummy_out)\n",
    "\n",
    "        # building the fc blocks #\n",
    "        fc_blocks = []\n",
    "        for block_no in range(config[\"no_of_fc_layers\"]):\n",
    "            if block_no == 0:\n",
    "                in_channels = flat_size\n",
    "            else:\n",
    "                in_channels = config[\"fc_neurons\"][block_no-1]\n",
    "            out_channels = config[\"fc_neurons\"][block_no]\n",
    "            block_add = nn.Sequential(\n",
    "                nn.Linear(in_features=in_channels, out_features=out_channels),\n",
    "                nn.BatchNorm1d(out_channels) if config[\"batch_norm_fc\"] else nn.Identity(),\n",
    "                create_activation_function(activation=config[\"fc_activations\"][block_no]),\n",
    "                nn.Dropout(config[\"dropout_fc\"]) if config[\"dropout_fc\"]>0 else nn.Identity(),\n",
    "            )\n",
    "            # Appending to the fc final\n",
    "            fc_blocks.append(block_add)\n",
    "\n",
    "        # converting the list to a sequential module #\n",
    "        self.fc_layers = nn.Sequential(*fc_blocks)\n",
    "\n",
    "        # Output layer #\n",
    "        self.output_layer = nn.Sequential(\n",
    "            nn.Linear(in_features=config[\"fc_neurons\"][-1], out_features=config[\"num_classes\"]),\n",
    "            nn.Softmax(dim=1)\n",
    "        )\n",
    "\n",
    "    def forward(self, x):\n",
    "        x = self.conv_blocks(x)\n",
    "        x = x.view(x.size(0), -1)\n",
    "        x = self.fc_layers(x)\n",
    "        x = self.output_layer(x)\n",
    "        return x"
   ]
  },
  {
   "cell_type": "code",
   "execution_count": 6,
   "id": "8f2bc53e",
   "metadata": {},
   "outputs": [],
   "source": [
    "class Lightning_CNN(L.LightningModule):\n",
    "    def __init__(self, config):\n",
    "        super().__init__()\n",
    "        self.save_hyperparameters()\n",
    "\n",
    "        # Define the model\n",
    "        self.model = CNN_(config=config)\n",
    "\n",
    "        # Defining the loss and optimizers\n",
    "        self.loss_fn = nn.CrossEntropyLoss()\n",
    "        self.optimizer = torch.optim.Adam(self.parameters(), lr = config[\"learning_rate\"])\n",
    "\n",
    "        # Defining the metrics\n",
    "        self.acc_metric = Accuracy(task=\"multiclass\", num_classes=config[\"num_classes\"], average=\"weighted\")\n",
    "\n",
    "    def forward(self, x):\n",
    "        return self.model(x)\n",
    "    \n",
    "    def training_step(self, batch, batch_idx):\n",
    "        input_, target_ = batch\n",
    "        output_ = self(input_)\n",
    "        # Finding the loss to backprop #\n",
    "        loss = self.loss_fn(output_, target_)\n",
    "        # Logging the metrics #\n",
    "        self.log(\"train_loss\", loss, on_step=False, on_epoch=True, prog_bar=True, logger=True)\n",
    "        return loss\n",
    "    \n",
    "    def validation_step(self, batch, batch_idx):\n",
    "        input_, target_ = batch\n",
    "        output_ = self(input_)\n",
    "        # Finding the loss to backprop #\n",
    "        loss = self.loss_fn(output_, target_)\n",
    "\n",
    "        output_pred = torch.argmax(output_, dim=1) \n",
    "        acc = self.acc_metric(output_pred, target_)\n",
    "        # Logging the metrics #\n",
    "        self.log(\"val_loss\", loss, on_step=False, on_epoch=True, prog_bar=True, logger=True)\n",
    "        self.log(\"val_acc\", acc, on_step=False, on_epoch=True,prog_bar=True, logger=True)\n",
    "        return loss\n",
    "    \n",
    "    def test_step(self, batch, batch_idx):\n",
    "        input_, target_ = batch\n",
    "        output_ = self(input_)\n",
    "        # Finding the loss to backprop #\n",
    "        loss = self.loss_fn(output_, target_)\n",
    "        \n",
    "        output_pred = torch.argmax(output_, dim=1) \n",
    "        acc = self.acc_metric(output_pred, target_)\n",
    "        # Logging the metrics #\n",
    "        self.log(\"test_loss\", loss, prog_bar=True, logger=True, sync_dist=True)\n",
    "        self.log(\"test_acc\", acc, prog_bar=True, logger=True, sync_dist=True)\n",
    "        return loss\n",
    "    \n",
    "    def configure_optimizers(self):\n",
    "        return self.optimizer\n"
   ]
  },
  {
   "cell_type": "code",
   "execution_count": 7,
   "id": "b30e9c20",
   "metadata": {},
   "outputs": [],
   "source": [
    "# class to orient (all images to landscape)\n",
    "class OrientReshape:\n",
    "    def __init__(self, size = (256, 256)):\n",
    "        self.size = size\n",
    "    \n",
    "    def __call__(self, img):\n",
    "        # rotate the image to landscape if potrait #\n",
    "        if img.height > img.width:\n",
    "            img = img.rotate(90, expand = True)\n",
    "        # Reshape to target dimension #\n",
    "        img = F.resize(img, size = self.size)\n",
    "\n",
    "        return img\n",
    "    \n",
    "\n",
    "# Data augementation and transforms\n",
    "def create_data_augment_compose(input_size = (256, 256)):\n",
    "    data_transforms = {\n",
    "        \"orient_\" : transforms.Compose([\n",
    "            OrientReshape(size=input_size),\n",
    "            transforms.ToTensor()\n",
    "        ]),\n",
    "        \"train_\" : transforms.Compose([\n",
    "            transforms.RandomHorizontalFlip(p = 0.3),\n",
    "            transforms.RandomVerticalFlip(p = 0.3),\n",
    "            transforms.RandomRotation(degrees=15),\n",
    "            transforms.RandomAdjustSharpness(sharpness_factor=2, p=0.3),\n",
    "            transforms.GaussianBlur(kernel_size=3),\n",
    "            transforms.ToTensor(),\n",
    "            transforms.RandomErasing(p = 0.2, scale=(0.02, 0.075)),\n",
    "        ])\n",
    "    }\n",
    "\n",
    "    return data_transforms\n",
    "\n",
    "# Create a dataset with the image folders\n",
    "def create_dataset_image_folder(path_, input_size = (256,256)):\n",
    "    # Getting the transform\n",
    "    data_transforms = create_data_augment_compose(input_size)\n",
    "    # Path to dataset\n",
    "    data_dir = path_ #os.path.join(os.path.abspath(\"\"), \"nature_12K/inaturalist_12K/train/\") \n",
    "    # Creating dataset\n",
    "    full_dataset = datasets.ImageFolder(root=data_dir, transform=data_transforms[\"orient_\"])\n",
    "    # Getting the labels for stratified split\n",
    "    labels = [sample[1] for sample in full_dataset.samples]\n",
    "\n",
    "    # Stratified split\n",
    "    train_indices, val_indices = train_test_split(np.arange(len(labels)), test_size=0.2, stratify=labels, random_state=42)\n",
    "\n",
    "    # Create subsets\n",
    "    train_dataset = Subset(full_dataset, train_indices)\n",
    "    val_dataset = Subset(full_dataset, val_indices)\n",
    "    \n",
    "    return train_dataset, val_dataset, data_transforms\n",
    "\n",
    "def create_dataloaders(batch_size, num_workers, train_dataset, val_dataset, is_data_aug, data_transforms):\n",
    "    # Transforming the dataset with transforms\n",
    "    if is_data_aug:\n",
    "        train_dataset.dataset.transform = data_transforms['train_']\n",
    "    else:\n",
    "        train_dataset.dataset.transform = data_transforms['orient_']\n",
    "\n",
    "    val_dataset.dataset.transform = data_transforms['orient_']\n",
    "\n",
    "    train_loader = DataLoader(train_dataset, batch_size=batch_size, shuffle=True, num_workers=num_workers,drop_last=True)\n",
    "    val_loader = DataLoader(val_dataset, batch_size=batch_size, shuffle=False, num_workers=num_workers)\n",
    "\n",
    "    return train_loader, val_loader"
   ]
  },
  {
   "cell_type": "raw",
   "id": "1daa446d",
   "metadata": {
    "vscode": {
     "languageId": "raw"
    }
   },
   "source": [
    "config_sample = {\n",
    "    \"no_of_conv_blocks\" : 5,\n",
    "    \"input_size\" : (400,300),\n",
    "    \"input_channels\" : 3,\n",
    "    \"num_classes\" : 10,\n",
    "    \"no_of_filters\" : [16, 32, 64, 128, 256],\n",
    "    \"conv_activation\" : [\"ReLU\", \"ReLU\", \"ReLU\", \"ReLU\", \"ReLU\"],\n",
    "    \"filter_sizes\" : [3, 3, 3, 3, 3], # Filter sizes has to be odd number\n",
    "    \"conv_strides\" : [1, 1, 1, 1, 1],\n",
    "    \"conv_padding\" : [1, 1, 1, 1, 1], # Use None if you want no reduction in size of image (stride = 1)\n",
    "    \"max_pooling_kernel_size\" : [3, 3, 3, 3, 3],\n",
    "    \"max_pooling_stride\" : [2, 2, 2, 2, 2], # Use None if you dont want a max pooling between layers\n",
    "    \"batch_norm_conv\" : True,\n",
    "    \"dropout_conv\" : 0.1, # if dont need use 0\n",
    "    \"no_of_fc_layers\" : 1, # Ignore the output layer\n",
    "    \"fc_activations\" : [\"GELU\"], \n",
    "    \"fc_neurons\" : [1024],\n",
    "    \"batch_norm_fc\" : True,\n",
    "    \"dropout_fc\" : 0.3, # if dont need use 0\n",
    "    \"learning_rate\" : 1e-3, \n",
    "    \"batch_size\" : 64,\n",
    "    \"num_workers\" : 5,\n",
    "    \"data_aug\" : True,\n",
    "    \"epochs\" : 20\n",
    "}"
   ]
  },
  {
   "cell_type": "code",
   "execution_count": 8,
   "id": "18564314",
   "metadata": {},
   "outputs": [],
   "source": [
    "def trainloop_sweep(config = None):\n",
    "    torch.cuda.empty_cache()\n",
    "    run = wandb.init(config=config)\n",
    "    config = dict(wandb.config)\n",
    "    run_name = f\"bs_{config[\"batch_size\"]}_layer_act_{config[\"conv_activation\"]}_epoch_{config[\"epochs\"]}_filter_mul_{config[\"filter_mul\"]}_num_filters_{config[\"no_of_filters\"]}\"\n",
    "    run.name = run_name\n",
    "\n",
    "    # Closing the runs which are not possible\n",
    "    if config[\"filter_mul\"] == 2 and config[\"no_of_filters\"]>=32:\n",
    "        print(\"Not a good combination !!!\")\n",
    "        wandb.finish()\n",
    "        return\n",
    "    \n",
    "    if config[\"filter_mul\"] == 1 and config[\"no_of_filters\"]==512:\n",
    "        print(\"Not a good combination !!!\")\n",
    "        wandb.finish()\n",
    "        return\n",
    "    \n",
    "    if config[\"filter_mul\"] == 0.5 and config[\"no_of_filters\"]<=64:\n",
    "        print(\"Not a good combination !!!\")\n",
    "        wandb.finish()\n",
    "        return\n",
    "    \n",
    "    # rechanging the configs to match the original config\n",
    "    config[\"conv_activation\"] = [config[\"conv_activation\"]]*5\n",
    "    nf, fm = config[\"no_of_filters\"], config[\"filter_mul\"]\n",
    "    config[\"no_of_filters\"] = list(map(int,[nf, nf*fm, nf*(fm**2), nf*(fm**3), nf*(fm**4)]))\n",
    "    config[\"filter_sizes\"] = [config[\"conv_1_filter_size\"], config[\"conv_2_filter_size\"], config[\"conv_3_filter_size\"], config[\"conv_4_filter_size\"], config[\"conv_5_filter_size\"]]\n",
    "    config[\"max_pooling_kernel_size\"] = [config[\"mp_layer1_kernel_size\"], config[\"mp_layer2_kernel_size\"], config[\"mp_layer3_kernel_size\"], config[\"mp_layer4_kernel_size\"], config[\"mp_layer5_kernel_size\"]]\n",
    "    config[\"max_pooling_stride\"] = [config[\"mp_layer1_stride\"], config[\"mp_layer2_stride\"], config[\"mp_layer3_stride\"], config[\"mp_layer4_stride\"], config[\"mp_layer5_stride\"]]\n",
    "    config[\"fc_activations\"] = [config[\"fc_activations\"]]\n",
    "    config[\"fc_neurons\"] = [config[\"fc_neurons\"]]\n",
    "    config[\"num_workers\"] = 2\n",
    "        \n",
    "    try:\n",
    "        # Loading the dataloaders\n",
    "        train_dataset, val_dataset, data_transforms = create_dataset_image_folder(path_=os.path.join(os.path.abspath(\"\"), \"nature_12K/inaturalist_12K/train/\"), input_size=config[\"input_size\"])\n",
    "        train_loader, val_loader = create_dataloaders(batch_size=config[\"batch_size\"], num_workers=config[\"num_workers\"], train_dataset=train_dataset, val_dataset=val_dataset, is_data_aug=config[\"data_aug\"], data_transforms = data_transforms)\n",
    "\n",
    "        wandb_logger = WandbLogger(log_model=False)\n",
    "        model = Lightning_CNN(config=config)\n",
    "        trainer = Trainer(max_epochs=config[\"epochs\"], accelerator=\"auto\", logger=wandb_logger)\n",
    "        trainer.fit(model, train_dataloaders=train_loader, val_dataloaders=val_loader)\n",
    "        wandb.finish()\n",
    "\n",
    "    except RuntimeError as e:\n",
    "        if \"out of memory\" in str(e):\n",
    "            print(\"⚠️ CUDA Out Of Memory — skipping this run.\")\n",
    "            gc.collect()\n",
    "            torch.cuda.empty_cache()\n",
    "        else:\n",
    "            raise e\n",
    "\n",
    "    finally:\n",
    "      wandb.finish()\n",
    "      del model"
   ]
  },
  {
   "cell_type": "code",
   "execution_count": 9,
   "id": "3a1bcdb3",
   "metadata": {},
   "outputs": [],
   "source": [
    "sweep_config = {\n",
    "    \"name\" : \"Q1_CNN_\",\n",
    "    \"method\" : \"random\",\n",
    "    \"metric\" : {\n",
    "        \"name\" : \"val_acc\",\n",
    "        \"goal\" : \"maximize\"\n",
    "    },\n",
    "    \"parameters\" : {\n",
    "        \"learning_rate\" : {\"values\" : [0.001, 0.0005]},\n",
    "        \"no_of_conv_blocks\" : {\"values\" : [5]},\n",
    "        \"input_size\" : {\"values\" : [(256, 256)]},\n",
    "        \"input_channels\" : {\"values\" : [3]},\n",
    "        \"num_classes\" : {\"values\" : [10]},\n",
    "        \"no_of_filters\" : {\"values\" : [8, 16, 32, 64, 128, 256, 512]},\n",
    "        \"filter_mul\" : {\"values\" : [0.5, 1, 2]},\n",
    "        \"conv_activation\" : {\"values\" : [\"ReLU\", \"GELU\", \"SiLU\", \"SELU\", \"Mish\", \"LeakyReLU\"]},\n",
    "        # Layer wise kernel size\n",
    "        \"conv_1_filter_size\" : {\"values\" : [3, 5, 7]},\n",
    "        \"conv_2_filter_size\" : {\"values\" : [3, 5, 7]},\n",
    "        \"conv_3_filter_size\" : {\"values\" : [3, 5, 7]},\n",
    "        \"conv_4_filter_size\" : {\"values\" : [3, 5, 7]},\n",
    "        \"conv_5_filter_size\" : {\"values\" : [3, 5, 7]},\n",
    "        # Strides are kept 1\n",
    "        \"conv_strides\" : {\"values\" : [(1, 1, 1, 1, 1)] },\n",
    "        \"conv_padding\" : {\"values\" : [(None, None, None, None, None)]}, # Use None if you want no reduction in size of image (stride = 1)\n",
    "        # Layer wise max pooling params\n",
    "        \"mp_layer1_kernel_size\" : {\"values\" : [2, 3, 5]},\n",
    "        \"mp_layer1_stride\" : {\"values\" : [2, 3]},\n",
    "        \"mp_layer2_kernel_size\" : {\"values\" : [2, 3, 5]},\n",
    "        \"mp_layer2_stride\" : {\"values\" : [2, 3]},\n",
    "        \"mp_layer3_kernel_size\" : {\"values\" : [2, 3, 5]},\n",
    "        \"mp_layer3_stride\" : {\"values\" : [2, 3]},\n",
    "        \"mp_layer4_kernel_size\" : {\"values\" : [2, 3]},\n",
    "        \"mp_layer4_stride\" : {\"values\" : [2, 3]},\n",
    "        \"mp_layer5_kernel_size\" : {\"values\" : [2, 3]},\n",
    "        \"mp_layer5_stride\" : {\"values\" : [2, 3]},\n",
    "        # batch norm conv\n",
    "        \"batch_norm_conv\" : {\"values\" : [True, False]},\n",
    "        \"dropout_conv\" : {\"values\" : [0, 0.1, 0.2]}, # if dont need use 0\n",
    "        # Fully connected layers\n",
    "        \"no_of_fc_layers\" : {\"values\" : [1]}, # Ignore the output layer\n",
    "        \"fc_activations\" : {\"values\" : [\"ReLU\", \"GELU\", \"SiLU\", \"SELU\", \"Mish\", \"LeakyReLU\"]},\n",
    "        \"fc_neurons\" : {\"values\" : [512, 1024]},\n",
    "        \"batch_norm_fc\" : {\"values\" : [True]},\n",
    "        \"dropout_fc\" : {\"values\" : [0, 0.2]}, \n",
    "        # Batch size\n",
    "        \"batch_size\" : {\"values\" :  [16, 32, 64]},\n",
    "        \"data_aug\" : {\"values\" : [True, False]},\n",
    "        # Extras\n",
    "        \"num_workers\" : {\"values\" : [10]},\n",
    "        \"epochs\" : {\"values\" : [20]}\n",
    "    }\n",
    "}"
   ]
  },
  {
   "cell_type": "code",
   "execution_count": 10,
   "id": "b4662ee3",
   "metadata": {},
   "outputs": [
    {
     "data": {
      "application/vnd.jupyter.widget-view+json": {
       "model_id": "02689b0ebb2b4b9481eae021a86d7eab",
       "version_major": 2,
       "version_minor": 0
      },
      "text/plain": [
       "Validation: |          | 0/? [00:00<?, ?it/s]"
      ]
     },
     "metadata": {},
     "output_type": "display_data"
    },
    {
     "name": "stderr",
     "output_type": "stream",
     "text": [
      "`Trainer.fit` stopped: `max_epochs=20` reached.\n"
     ]
    },
    {
     "data": {
      "text/html": [],
      "text/plain": [
       "<IPython.core.display.HTML object>"
      ]
     },
     "metadata": {},
     "output_type": "display_data"
    },
    {
     "data": {
      "text/html": [
       "<br>    <style><br>        .wandb-row {<br>            display: flex;<br>            flex-direction: row;<br>            flex-wrap: wrap;<br>            justify-content: flex-start;<br>            width: 100%;<br>        }<br>        .wandb-col {<br>            display: flex;<br>            flex-direction: column;<br>            flex-basis: 100%;<br>            flex: 1;<br>            padding: 10px;<br>        }<br>    </style><br><div class=\"wandb-row\"><div class=\"wandb-col\"><h3>Run history:</h3><br/><table class=\"wandb\"><tr><td>epoch</td><td>▁▁▁▁▂▂▂▂▂▂▃▃▃▃▄▄▄▄▄▄▅▅▅▅▅▅▆▆▆▆▇▇▇▇▇▇████</td></tr><tr><td>train_loss</td><td>█▇▆▆▆▇▅▄▄▃▃▃▃▃▂▂▂▂▁▁</td></tr><tr><td>trainer/global_step</td><td>▁▁▁▁▂▂▂▂▂▂▃▃▃▃▄▄▄▄▄▄▅▅▅▅▅▅▆▆▆▆▇▇▇▇▇▇████</td></tr><tr><td>val_acc</td><td>▁▃▃▁▂▁▅▅▅▄▆▆▇▆▇▅▆▇▇█</td></tr><tr><td>val_loss</td><td>▇▅▅█▇▇▃▄▅▅▃▃▂▂▂▃▃▁▂▁</td></tr></table><br/></div><div class=\"wandb-col\"><h3>Run summary:</h3><br/><table class=\"wandb\"><tr><td>epoch</td><td>19</td></tr><tr><td>train_loss</td><td>2.19639</td></tr><tr><td>trainer/global_step</td><td>2479</td></tr><tr><td>val_acc</td><td>0.226</td></tr><tr><td>val_loss</td><td>2.22264</td></tr></table><br/></div></div>"
      ],
      "text/plain": [
       "<IPython.core.display.HTML object>"
      ]
     },
     "metadata": {},
     "output_type": "display_data"
    },
    {
     "data": {
      "text/html": [
       " View run <strong style=\"color:#cdcd00\">bs_64_layer_act_ReLU_epoch_20_filter_mul_1_num_filters_16</strong> at: <a href='https://wandb.ai/A2_DA6401_DL/Lightning_CNN/runs/yxfru13o' target=\"_blank\">https://wandb.ai/A2_DA6401_DL/Lightning_CNN/runs/yxfru13o</a><br> View project at: <a href='https://wandb.ai/A2_DA6401_DL/Lightning_CNN' target=\"_blank\">https://wandb.ai/A2_DA6401_DL/Lightning_CNN</a><br>Synced 5 W&B file(s), 0 media file(s), 0 artifact file(s) and 0 other file(s)"
      ],
      "text/plain": [
       "<IPython.core.display.HTML object>"
      ]
     },
     "metadata": {},
     "output_type": "display_data"
    },
    {
     "data": {
      "text/html": [
       "Find logs at: <code>./wandb/run-20250416_223110-yxfru13o/logs</code>"
      ],
      "text/plain": [
       "<IPython.core.display.HTML object>"
      ]
     },
     "metadata": {},
     "output_type": "display_data"
    },
    {
     "name": "stderr",
     "output_type": "stream",
     "text": [
      "\u001b[34m\u001b[1mwandb\u001b[0m: Agent Starting Run: sr8lqrng with config:\n",
      "\u001b[34m\u001b[1mwandb\u001b[0m: \tbatch_norm_conv: False\n",
      "\u001b[34m\u001b[1mwandb\u001b[0m: \tbatch_norm_fc: True\n",
      "\u001b[34m\u001b[1mwandb\u001b[0m: \tbatch_size: 32\n",
      "\u001b[34m\u001b[1mwandb\u001b[0m: \tconv_1_filter_size: 7\n",
      "\u001b[34m\u001b[1mwandb\u001b[0m: \tconv_2_filter_size: 5\n",
      "\u001b[34m\u001b[1mwandb\u001b[0m: \tconv_3_filter_size: 7\n",
      "\u001b[34m\u001b[1mwandb\u001b[0m: \tconv_4_filter_size: 7\n",
      "\u001b[34m\u001b[1mwandb\u001b[0m: \tconv_5_filter_size: 5\n",
      "\u001b[34m\u001b[1mwandb\u001b[0m: \tconv_activation: ReLU\n",
      "\u001b[34m\u001b[1mwandb\u001b[0m: \tconv_padding: [None, None, None, None, None]\n",
      "\u001b[34m\u001b[1mwandb\u001b[0m: \tconv_strides: [1, 1, 1, 1, 1]\n",
      "\u001b[34m\u001b[1mwandb\u001b[0m: \tdata_aug: False\n",
      "\u001b[34m\u001b[1mwandb\u001b[0m: \tdropout_conv: 0.1\n",
      "\u001b[34m\u001b[1mwandb\u001b[0m: \tdropout_fc: 0\n",
      "\u001b[34m\u001b[1mwandb\u001b[0m: \tepochs: 20\n",
      "\u001b[34m\u001b[1mwandb\u001b[0m: \tfc_activations: SiLU\n",
      "\u001b[34m\u001b[1mwandb\u001b[0m: \tfc_neurons: 512\n",
      "\u001b[34m\u001b[1mwandb\u001b[0m: \tfilter_mul: 0.5\n",
      "\u001b[34m\u001b[1mwandb\u001b[0m: \tinput_channels: 3\n",
      "\u001b[34m\u001b[1mwandb\u001b[0m: \tinput_size: [256, 256]\n",
      "\u001b[34m\u001b[1mwandb\u001b[0m: \tlearning_rate: 0.001\n",
      "\u001b[34m\u001b[1mwandb\u001b[0m: \tmp_layer1_kernel_size: 2\n",
      "\u001b[34m\u001b[1mwandb\u001b[0m: \tmp_layer1_stride: 2\n",
      "\u001b[34m\u001b[1mwandb\u001b[0m: \tmp_layer2_kernel_size: 3\n",
      "\u001b[34m\u001b[1mwandb\u001b[0m: \tmp_layer2_stride: 3\n",
      "\u001b[34m\u001b[1mwandb\u001b[0m: \tmp_layer3_kernel_size: 5\n",
      "\u001b[34m\u001b[1mwandb\u001b[0m: \tmp_layer3_stride: 3\n",
      "\u001b[34m\u001b[1mwandb\u001b[0m: \tmp_layer4_kernel_size: 3\n",
      "\u001b[34m\u001b[1mwandb\u001b[0m: \tmp_layer4_stride: 3\n",
      "\u001b[34m\u001b[1mwandb\u001b[0m: \tmp_layer5_kernel_size: 2\n",
      "\u001b[34m\u001b[1mwandb\u001b[0m: \tmp_layer5_stride: 3\n",
      "\u001b[34m\u001b[1mwandb\u001b[0m: \tno_of_conv_blocks: 5\n",
      "\u001b[34m\u001b[1mwandb\u001b[0m: \tno_of_fc_layers: 1\n",
      "\u001b[34m\u001b[1mwandb\u001b[0m: \tno_of_filters: 16\n",
      "\u001b[34m\u001b[1mwandb\u001b[0m: \tnum_classes: 10\n",
      "\u001b[34m\u001b[1mwandb\u001b[0m: \tnum_workers: 10\n"
     ]
    },
    {
     "data": {
      "text/html": [
       "Tracking run with wandb version 0.19.9"
      ],
      "text/plain": [
       "<IPython.core.display.HTML object>"
      ]
     },
     "metadata": {},
     "output_type": "display_data"
    },
    {
     "data": {
      "text/html": [
       "Run data is saved locally in <code>/home/joel/Pytorch_CUDA/wandb/run-20250416_224351-sr8lqrng</code>"
      ],
      "text/plain": [
       "<IPython.core.display.HTML object>"
      ]
     },
     "metadata": {},
     "output_type": "display_data"
    },
    {
     "data": {
      "text/html": [
       "Syncing run <strong><a href='https://wandb.ai/A2_DA6401_DL/Lightning_CNN/runs/sr8lqrng' target=\"_blank\">autumn-sweep-380</a></strong> to <a href='https://wandb.ai/A2_DA6401_DL/Lightning_CNN' target=\"_blank\">Weights & Biases</a> (<a href='https://wandb.me/developer-guide' target=\"_blank\">docs</a>)<br>Sweep page: <a href='https://wandb.ai/A2_DA6401_DL/Lightning_CNN/sweeps/8km3fqmz' target=\"_blank\">https://wandb.ai/A2_DA6401_DL/Lightning_CNN/sweeps/8km3fqmz</a>"
      ],
      "text/plain": [
       "<IPython.core.display.HTML object>"
      ]
     },
     "metadata": {},
     "output_type": "display_data"
    },
    {
     "data": {
      "text/html": [
       " View project at <a href='https://wandb.ai/A2_DA6401_DL/Lightning_CNN' target=\"_blank\">https://wandb.ai/A2_DA6401_DL/Lightning_CNN</a>"
      ],
      "text/plain": [
       "<IPython.core.display.HTML object>"
      ]
     },
     "metadata": {},
     "output_type": "display_data"
    },
    {
     "data": {
      "text/html": [
       " View sweep at <a href='https://wandb.ai/A2_DA6401_DL/Lightning_CNN/sweeps/8km3fqmz' target=\"_blank\">https://wandb.ai/A2_DA6401_DL/Lightning_CNN/sweeps/8km3fqmz</a>"
      ],
      "text/plain": [
       "<IPython.core.display.HTML object>"
      ]
     },
     "metadata": {},
     "output_type": "display_data"
    },
    {
     "data": {
      "text/html": [
       " View run at <a href='https://wandb.ai/A2_DA6401_DL/Lightning_CNN/runs/sr8lqrng' target=\"_blank\">https://wandb.ai/A2_DA6401_DL/Lightning_CNN/runs/sr8lqrng</a>"
      ],
      "text/plain": [
       "<IPython.core.display.HTML object>"
      ]
     },
     "metadata": {},
     "output_type": "display_data"
    },
    {
     "name": "stdout",
     "output_type": "stream",
     "text": [
      "Not a good combination !!!\n"
     ]
    },
    {
     "data": {
      "text/html": [],
      "text/plain": [
       "<IPython.core.display.HTML object>"
      ]
     },
     "metadata": {},
     "output_type": "display_data"
    },
    {
     "data": {
      "text/html": [
       " View run <strong style=\"color:#cdcd00\">bs_32_layer_act_ReLU_epoch_20_filter_mul_0.5_num_filters_16</strong> at: <a href='https://wandb.ai/A2_DA6401_DL/Lightning_CNN/runs/sr8lqrng' target=\"_blank\">https://wandb.ai/A2_DA6401_DL/Lightning_CNN/runs/sr8lqrng</a><br> View project at: <a href='https://wandb.ai/A2_DA6401_DL/Lightning_CNN' target=\"_blank\">https://wandb.ai/A2_DA6401_DL/Lightning_CNN</a><br>Synced 5 W&B file(s), 0 media file(s), 0 artifact file(s) and 0 other file(s)"
      ],
      "text/plain": [
       "<IPython.core.display.HTML object>"
      ]
     },
     "metadata": {},
     "output_type": "display_data"
    },
    {
     "data": {
      "text/html": [
       "Find logs at: <code>./wandb/run-20250416_224351-sr8lqrng/logs</code>"
      ],
      "text/plain": [
       "<IPython.core.display.HTML object>"
      ]
     },
     "metadata": {},
     "output_type": "display_data"
    },
    {
     "name": "stderr",
     "output_type": "stream",
     "text": [
      "\u001b[34m\u001b[1mwandb\u001b[0m: Agent Starting Run: wejjinz8 with config:\n",
      "\u001b[34m\u001b[1mwandb\u001b[0m: \tbatch_norm_conv: True\n",
      "\u001b[34m\u001b[1mwandb\u001b[0m: \tbatch_norm_fc: True\n",
      "\u001b[34m\u001b[1mwandb\u001b[0m: \tbatch_size: 32\n",
      "\u001b[34m\u001b[1mwandb\u001b[0m: \tconv_1_filter_size: 5\n",
      "\u001b[34m\u001b[1mwandb\u001b[0m: \tconv_2_filter_size: 7\n",
      "\u001b[34m\u001b[1mwandb\u001b[0m: \tconv_3_filter_size: 5\n",
      "\u001b[34m\u001b[1mwandb\u001b[0m: \tconv_4_filter_size: 7\n",
      "\u001b[34m\u001b[1mwandb\u001b[0m: \tconv_5_filter_size: 7\n",
      "\u001b[34m\u001b[1mwandb\u001b[0m: \tconv_activation: SELU\n",
      "\u001b[34m\u001b[1mwandb\u001b[0m: \tconv_padding: [None, None, None, None, None]\n",
      "\u001b[34m\u001b[1mwandb\u001b[0m: \tconv_strides: [1, 1, 1, 1, 1]\n",
      "\u001b[34m\u001b[1mwandb\u001b[0m: \tdata_aug: True\n",
      "\u001b[34m\u001b[1mwandb\u001b[0m: \tdropout_conv: 0.1\n",
      "\u001b[34m\u001b[1mwandb\u001b[0m: \tdropout_fc: 0\n",
      "\u001b[34m\u001b[1mwandb\u001b[0m: \tepochs: 20\n",
      "\u001b[34m\u001b[1mwandb\u001b[0m: \tfc_activations: Mish\n",
      "\u001b[34m\u001b[1mwandb\u001b[0m: \tfc_neurons: 1024\n",
      "\u001b[34m\u001b[1mwandb\u001b[0m: \tfilter_mul: 2\n",
      "\u001b[34m\u001b[1mwandb\u001b[0m: \tinput_channels: 3\n",
      "\u001b[34m\u001b[1mwandb\u001b[0m: \tinput_size: [256, 256]\n",
      "\u001b[34m\u001b[1mwandb\u001b[0m: \tlearning_rate: 0.001\n",
      "\u001b[34m\u001b[1mwandb\u001b[0m: \tmp_layer1_kernel_size: 2\n",
      "\u001b[34m\u001b[1mwandb\u001b[0m: \tmp_layer1_stride: 2\n",
      "\u001b[34m\u001b[1mwandb\u001b[0m: \tmp_layer2_kernel_size: 2\n",
      "\u001b[34m\u001b[1mwandb\u001b[0m: \tmp_layer2_stride: 3\n",
      "\u001b[34m\u001b[1mwandb\u001b[0m: \tmp_layer3_kernel_size: 3\n",
      "\u001b[34m\u001b[1mwandb\u001b[0m: \tmp_layer3_stride: 3\n",
      "\u001b[34m\u001b[1mwandb\u001b[0m: \tmp_layer4_kernel_size: 3\n",
      "\u001b[34m\u001b[1mwandb\u001b[0m: \tmp_layer4_stride: 3\n",
      "\u001b[34m\u001b[1mwandb\u001b[0m: \tmp_layer5_kernel_size: 3\n",
      "\u001b[34m\u001b[1mwandb\u001b[0m: \tmp_layer5_stride: 3\n",
      "\u001b[34m\u001b[1mwandb\u001b[0m: \tno_of_conv_blocks: 5\n",
      "\u001b[34m\u001b[1mwandb\u001b[0m: \tno_of_fc_layers: 1\n",
      "\u001b[34m\u001b[1mwandb\u001b[0m: \tno_of_filters: 16\n",
      "\u001b[34m\u001b[1mwandb\u001b[0m: \tnum_classes: 10\n",
      "\u001b[34m\u001b[1mwandb\u001b[0m: \tnum_workers: 10\n"
     ]
    },
    {
     "data": {
      "text/html": [
       "Tracking run with wandb version 0.19.9"
      ],
      "text/plain": [
       "<IPython.core.display.HTML object>"
      ]
     },
     "metadata": {},
     "output_type": "display_data"
    },
    {
     "data": {
      "text/html": [
       "Run data is saved locally in <code>/home/joel/Pytorch_CUDA/wandb/run-20250416_224357-wejjinz8</code>"
      ],
      "text/plain": [
       "<IPython.core.display.HTML object>"
      ]
     },
     "metadata": {},
     "output_type": "display_data"
    },
    {
     "data": {
      "text/html": [
       "Syncing run <strong><a href='https://wandb.ai/A2_DA6401_DL/Lightning_CNN/runs/wejjinz8' target=\"_blank\">effortless-sweep-381</a></strong> to <a href='https://wandb.ai/A2_DA6401_DL/Lightning_CNN' target=\"_blank\">Weights & Biases</a> (<a href='https://wandb.me/developer-guide' target=\"_blank\">docs</a>)<br>Sweep page: <a href='https://wandb.ai/A2_DA6401_DL/Lightning_CNN/sweeps/8km3fqmz' target=\"_blank\">https://wandb.ai/A2_DA6401_DL/Lightning_CNN/sweeps/8km3fqmz</a>"
      ],
      "text/plain": [
       "<IPython.core.display.HTML object>"
      ]
     },
     "metadata": {},
     "output_type": "display_data"
    },
    {
     "data": {
      "text/html": [
       " View project at <a href='https://wandb.ai/A2_DA6401_DL/Lightning_CNN' target=\"_blank\">https://wandb.ai/A2_DA6401_DL/Lightning_CNN</a>"
      ],
      "text/plain": [
       "<IPython.core.display.HTML object>"
      ]
     },
     "metadata": {},
     "output_type": "display_data"
    },
    {
     "data": {
      "text/html": [
       " View sweep at <a href='https://wandb.ai/A2_DA6401_DL/Lightning_CNN/sweeps/8km3fqmz' target=\"_blank\">https://wandb.ai/A2_DA6401_DL/Lightning_CNN/sweeps/8km3fqmz</a>"
      ],
      "text/plain": [
       "<IPython.core.display.HTML object>"
      ]
     },
     "metadata": {},
     "output_type": "display_data"
    },
    {
     "data": {
      "text/html": [
       " View run at <a href='https://wandb.ai/A2_DA6401_DL/Lightning_CNN/runs/wejjinz8' target=\"_blank\">https://wandb.ai/A2_DA6401_DL/Lightning_CNN/runs/wejjinz8</a>"
      ],
      "text/plain": [
       "<IPython.core.display.HTML object>"
      ]
     },
     "metadata": {},
     "output_type": "display_data"
    },
    {
     "name": "stderr",
     "output_type": "stream",
     "text": [
      "You are using the plain ModelCheckpoint callback. Consider using LitModelCheckpoint which with seamless uploading to Model registry.\n",
      "GPU available: True (cuda), used: True\n",
      "TPU available: False, using: 0 TPU cores\n",
      "HPU available: False, using: 0 HPUs\n",
      "/home/joel/Pytorch_CUDA/virt_env/lib/python3.12/site-packages/lightning/pytorch/loggers/wandb.py:397: There is a wandb run already in progress and newly created instances of `WandbLogger` will reuse this run. If this is not desired, call `wandb.finish()` before instantiating `WandbLogger`.\n",
      "LOCAL_RANK: 0 - CUDA_VISIBLE_DEVICES: [0]\n",
      "\n",
      "  | Name       | Type               | Params | Mode \n",
      "----------------------------------------------------------\n",
      "0 | model      | CNN_               | 2.4 M  | train\n",
      "1 | loss_fn    | CrossEntropyLoss   | 0      | train\n",
      "2 | acc_metric | MulticlassAccuracy | 0      | train\n",
      "----------------------------------------------------------\n",
      "2.4 M     Trainable params\n",
      "0         Non-trainable params\n",
      "2.4 M     Total params\n",
      "9.446     Total estimated model params size (MB)\n",
      "43        Modules in train mode\n",
      "0         Modules in eval mode\n"
     ]
    },
    {
     "data": {
      "application/vnd.jupyter.widget-view+json": {
       "model_id": "0cc302451e134f3eb6d3accbdfa1142c",
       "version_major": 2,
       "version_minor": 0
      },
      "text/plain": [
       "Sanity Checking: |          | 0/? [00:00<?, ?it/s]"
      ]
     },
     "metadata": {},
     "output_type": "display_data"
    },
    {
     "data": {
      "application/vnd.jupyter.widget-view+json": {
       "model_id": "2fa5dda02c334629bee34c0f3f63a036",
       "version_major": 2,
       "version_minor": 0
      },
      "text/plain": [
       "Training: |          | 0/? [00:00<?, ?it/s]"
      ]
     },
     "metadata": {},
     "output_type": "display_data"
    },
    {
     "data": {
      "application/vnd.jupyter.widget-view+json": {
       "model_id": "c807c5bd084c46e19ecad32f6f1f5691",
       "version_major": 2,
       "version_minor": 0
      },
      "text/plain": [
       "Validation: |          | 0/? [00:00<?, ?it/s]"
      ]
     },
     "metadata": {},
     "output_type": "display_data"
    },
    {
     "data": {
      "application/vnd.jupyter.widget-view+json": {
       "model_id": "415c894da9424ae793fdd316f81d2cf1",
       "version_major": 2,
       "version_minor": 0
      },
      "text/plain": [
       "Validation: |          | 0/? [00:00<?, ?it/s]"
      ]
     },
     "metadata": {},
     "output_type": "display_data"
    },
    {
     "data": {
      "application/vnd.jupyter.widget-view+json": {
       "model_id": "179a681cf7434efe95b1069774ac9d90",
       "version_major": 2,
       "version_minor": 0
      },
      "text/plain": [
       "Validation: |          | 0/? [00:00<?, ?it/s]"
      ]
     },
     "metadata": {},
     "output_type": "display_data"
    },
    {
     "data": {
      "application/vnd.jupyter.widget-view+json": {
       "model_id": "cc2d8e7644294f708a577616d25f438c",
       "version_major": 2,
       "version_minor": 0
      },
      "text/plain": [
       "Validation: |          | 0/? [00:00<?, ?it/s]"
      ]
     },
     "metadata": {},
     "output_type": "display_data"
    },
    {
     "data": {
      "application/vnd.jupyter.widget-view+json": {
       "model_id": "81a1e08b07854256b5647a3da1eca473",
       "version_major": 2,
       "version_minor": 0
      },
      "text/plain": [
       "Validation: |          | 0/? [00:00<?, ?it/s]"
      ]
     },
     "metadata": {},
     "output_type": "display_data"
    },
    {
     "data": {
      "application/vnd.jupyter.widget-view+json": {
       "model_id": "75734edb9b2f4a5e9f11535634f2e821",
       "version_major": 2,
       "version_minor": 0
      },
      "text/plain": [
       "Validation: |          | 0/? [00:00<?, ?it/s]"
      ]
     },
     "metadata": {},
     "output_type": "display_data"
    },
    {
     "data": {
      "application/vnd.jupyter.widget-view+json": {
       "model_id": "d273c601b41e4916aa92d45a44fbfb02",
       "version_major": 2,
       "version_minor": 0
      },
      "text/plain": [
       "Validation: |          | 0/? [00:00<?, ?it/s]"
      ]
     },
     "metadata": {},
     "output_type": "display_data"
    },
    {
     "data": {
      "application/vnd.jupyter.widget-view+json": {
       "model_id": "6a77a229861a40eca87ea14c309b2a07",
       "version_major": 2,
       "version_minor": 0
      },
      "text/plain": [
       "Validation: |          | 0/? [00:00<?, ?it/s]"
      ]
     },
     "metadata": {},
     "output_type": "display_data"
    },
    {
     "data": {
      "application/vnd.jupyter.widget-view+json": {
       "model_id": "24ba439aa8044c7185809124ac640e09",
       "version_major": 2,
       "version_minor": 0
      },
      "text/plain": [
       "Validation: |          | 0/? [00:00<?, ?it/s]"
      ]
     },
     "metadata": {},
     "output_type": "display_data"
    },
    {
     "data": {
      "application/vnd.jupyter.widget-view+json": {
       "model_id": "0f844f873b844c0d8ab133d5a24917a3",
       "version_major": 2,
       "version_minor": 0
      },
      "text/plain": [
       "Validation: |          | 0/? [00:00<?, ?it/s]"
      ]
     },
     "metadata": {},
     "output_type": "display_data"
    },
    {
     "data": {
      "application/vnd.jupyter.widget-view+json": {
       "model_id": "e3999b84602842338f3f6f1db401e0bb",
       "version_major": 2,
       "version_minor": 0
      },
      "text/plain": [
       "Validation: |          | 0/? [00:00<?, ?it/s]"
      ]
     },
     "metadata": {},
     "output_type": "display_data"
    },
    {
     "data": {
      "application/vnd.jupyter.widget-view+json": {
       "model_id": "1ac3448140644cf4bf95825a789e2d8c",
       "version_major": 2,
       "version_minor": 0
      },
      "text/plain": [
       "Validation: |          | 0/? [00:00<?, ?it/s]"
      ]
     },
     "metadata": {},
     "output_type": "display_data"
    },
    {
     "data": {
      "application/vnd.jupyter.widget-view+json": {
       "model_id": "6049f8bebc114cad82bcce8615348558",
       "version_major": 2,
       "version_minor": 0
      },
      "text/plain": [
       "Validation: |          | 0/? [00:00<?, ?it/s]"
      ]
     },
     "metadata": {},
     "output_type": "display_data"
    },
    {
     "data": {
      "application/vnd.jupyter.widget-view+json": {
       "model_id": "e449f75b523b47c586d6ddf9af778b95",
       "version_major": 2,
       "version_minor": 0
      },
      "text/plain": [
       "Validation: |          | 0/? [00:00<?, ?it/s]"
      ]
     },
     "metadata": {},
     "output_type": "display_data"
    },
    {
     "data": {
      "application/vnd.jupyter.widget-view+json": {
       "model_id": "a39c936702e44da4b5461843a5c9f230",
       "version_major": 2,
       "version_minor": 0
      },
      "text/plain": [
       "Validation: |          | 0/? [00:00<?, ?it/s]"
      ]
     },
     "metadata": {},
     "output_type": "display_data"
    },
    {
     "data": {
      "application/vnd.jupyter.widget-view+json": {
       "model_id": "ec5b069ddb564a6ab9436114c1f3a5f6",
       "version_major": 2,
       "version_minor": 0
      },
      "text/plain": [
       "Validation: |          | 0/? [00:00<?, ?it/s]"
      ]
     },
     "metadata": {},
     "output_type": "display_data"
    },
    {
     "data": {
      "application/vnd.jupyter.widget-view+json": {
       "model_id": "5696725002ce41f3915ce13476cb343e",
       "version_major": 2,
       "version_minor": 0
      },
      "text/plain": [
       "Validation: |          | 0/? [00:00<?, ?it/s]"
      ]
     },
     "metadata": {},
     "output_type": "display_data"
    },
    {
     "data": {
      "application/vnd.jupyter.widget-view+json": {
       "model_id": "578cac68d99b4bfc8e33311e33d76fdc",
       "version_major": 2,
       "version_minor": 0
      },
      "text/plain": [
       "Validation: |          | 0/? [00:00<?, ?it/s]"
      ]
     },
     "metadata": {},
     "output_type": "display_data"
    },
    {
     "data": {
      "application/vnd.jupyter.widget-view+json": {
       "model_id": "5b05542dfd004b6d8d23e07a03fb9412",
       "version_major": 2,
       "version_minor": 0
      },
      "text/plain": [
       "Validation: |          | 0/? [00:00<?, ?it/s]"
      ]
     },
     "metadata": {},
     "output_type": "display_data"
    },
    {
     "data": {
      "application/vnd.jupyter.widget-view+json": {
       "model_id": "14b2a9ec2c974117a21a9ea8109e7118",
       "version_major": 2,
       "version_minor": 0
      },
      "text/plain": [
       "Validation: |          | 0/? [00:00<?, ?it/s]"
      ]
     },
     "metadata": {},
     "output_type": "display_data"
    },
    {
     "name": "stderr",
     "output_type": "stream",
     "text": [
      "`Trainer.fit` stopped: `max_epochs=20` reached.\n"
     ]
    },
    {
     "data": {
      "text/html": [],
      "text/plain": [
       "<IPython.core.display.HTML object>"
      ]
     },
     "metadata": {},
     "output_type": "display_data"
    },
    {
     "data": {
      "text/html": [
       "<br>    <style><br>        .wandb-row {<br>            display: flex;<br>            flex-direction: row;<br>            flex-wrap: wrap;<br>            justify-content: flex-start;<br>            width: 100%;<br>        }<br>        .wandb-col {<br>            display: flex;<br>            flex-direction: column;<br>            flex-basis: 100%;<br>            flex: 1;<br>            padding: 10px;<br>        }<br>    </style><br><div class=\"wandb-row\"><div class=\"wandb-col\"><h3>Run history:</h3><br/><table class=\"wandb\"><tr><td>epoch</td><td>▁▁▁▁▂▂▂▂▂▂▃▃▃▃▄▄▄▄▄▄▅▅▅▅▅▅▆▆▆▆▇▇▇▇▇▇████</td></tr><tr><td>train_loss</td><td>█▇▆▆▆▆▅▄▄▄▄▃▃▃▂▂▂▁▁▁</td></tr><tr><td>trainer/global_step</td><td>▁▁▁▁▂▂▂▂▂▂▃▃▃▃▄▄▄▄▄▄▅▅▅▅▅▅▆▆▆▆▇▇▇▇▇▇████</td></tr><tr><td>val_acc</td><td>▂▄▁▄▁▅▆▄▅▆▇▅▅▇▇▇▇▇█▇</td></tr><tr><td>val_loss</td><td>▇▅█▅█▄▂▅▄▃▂▄▄▂▂▂▂▂▁▂</td></tr></table><br/></div><div class=\"wandb-col\"><h3>Run summary:</h3><br/><table class=\"wandb\"><tr><td>epoch</td><td>19</td></tr><tr><td>train_loss</td><td>2.09108</td></tr><tr><td>trainer/global_step</td><td>4979</td></tr><tr><td>val_acc</td><td>0.3025</td></tr><tr><td>val_loss</td><td>2.15314</td></tr></table><br/></div></div>"
      ],
      "text/plain": [
       "<IPython.core.display.HTML object>"
      ]
     },
     "metadata": {},
     "output_type": "display_data"
    },
    {
     "data": {
      "text/html": [
       " View run <strong style=\"color:#cdcd00\">bs_32_layer_act_SELU_epoch_20_filter_mul_2_num_filters_16</strong> at: <a href='https://wandb.ai/A2_DA6401_DL/Lightning_CNN/runs/wejjinz8' target=\"_blank\">https://wandb.ai/A2_DA6401_DL/Lightning_CNN/runs/wejjinz8</a><br> View project at: <a href='https://wandb.ai/A2_DA6401_DL/Lightning_CNN' target=\"_blank\">https://wandb.ai/A2_DA6401_DL/Lightning_CNN</a><br>Synced 5 W&B file(s), 0 media file(s), 0 artifact file(s) and 0 other file(s)"
      ],
      "text/plain": [
       "<IPython.core.display.HTML object>"
      ]
     },
     "metadata": {},
     "output_type": "display_data"
    },
    {
     "data": {
      "text/html": [
       "Find logs at: <code>./wandb/run-20250416_224357-wejjinz8/logs</code>"
      ],
      "text/plain": [
       "<IPython.core.display.HTML object>"
      ]
     },
     "metadata": {},
     "output_type": "display_data"
    },
    {
     "name": "stderr",
     "output_type": "stream",
     "text": [
      "\u001b[34m\u001b[1mwandb\u001b[0m: Sweep Agent: Waiting for job.\n",
      "\u001b[34m\u001b[1mwandb\u001b[0m: Job received.\n",
      "\u001b[34m\u001b[1mwandb\u001b[0m: Agent Starting Run: hethr3zo with config:\n",
      "\u001b[34m\u001b[1mwandb\u001b[0m: \tbatch_norm_conv: False\n",
      "\u001b[34m\u001b[1mwandb\u001b[0m: \tbatch_norm_fc: True\n",
      "\u001b[34m\u001b[1mwandb\u001b[0m: \tbatch_size: 32\n",
      "\u001b[34m\u001b[1mwandb\u001b[0m: \tconv_1_filter_size: 7\n",
      "\u001b[34m\u001b[1mwandb\u001b[0m: \tconv_2_filter_size: 7\n",
      "\u001b[34m\u001b[1mwandb\u001b[0m: \tconv_3_filter_size: 7\n",
      "\u001b[34m\u001b[1mwandb\u001b[0m: \tconv_4_filter_size: 5\n",
      "\u001b[34m\u001b[1mwandb\u001b[0m: \tconv_5_filter_size: 3\n",
      "\u001b[34m\u001b[1mwandb\u001b[0m: \tconv_activation: SiLU\n",
      "\u001b[34m\u001b[1mwandb\u001b[0m: \tconv_padding: [None, None, None, None, None]\n",
      "\u001b[34m\u001b[1mwandb\u001b[0m: \tconv_strides: [1, 1, 1, 1, 1]\n",
      "\u001b[34m\u001b[1mwandb\u001b[0m: \tdata_aug: False\n",
      "\u001b[34m\u001b[1mwandb\u001b[0m: \tdropout_conv: 0\n",
      "\u001b[34m\u001b[1mwandb\u001b[0m: \tdropout_fc: 0\n",
      "\u001b[34m\u001b[1mwandb\u001b[0m: \tepochs: 20\n",
      "\u001b[34m\u001b[1mwandb\u001b[0m: \tfc_activations: ReLU\n",
      "\u001b[34m\u001b[1mwandb\u001b[0m: \tfc_neurons: 512\n",
      "\u001b[34m\u001b[1mwandb\u001b[0m: \tfilter_mul: 0.5\n",
      "\u001b[34m\u001b[1mwandb\u001b[0m: \tinput_channels: 3\n",
      "\u001b[34m\u001b[1mwandb\u001b[0m: \tinput_size: [256, 256]\n",
      "\u001b[34m\u001b[1mwandb\u001b[0m: \tlearning_rate: 0.0005\n",
      "\u001b[34m\u001b[1mwandb\u001b[0m: \tmp_layer1_kernel_size: 3\n",
      "\u001b[34m\u001b[1mwandb\u001b[0m: \tmp_layer1_stride: 3\n",
      "\u001b[34m\u001b[1mwandb\u001b[0m: \tmp_layer2_kernel_size: 2\n",
      "\u001b[34m\u001b[1mwandb\u001b[0m: \tmp_layer2_stride: 2\n",
      "\u001b[34m\u001b[1mwandb\u001b[0m: \tmp_layer3_kernel_size: 2\n",
      "\u001b[34m\u001b[1mwandb\u001b[0m: \tmp_layer3_stride: 2\n",
      "\u001b[34m\u001b[1mwandb\u001b[0m: \tmp_layer4_kernel_size: 2\n",
      "\u001b[34m\u001b[1mwandb\u001b[0m: \tmp_layer4_stride: 2\n",
      "\u001b[34m\u001b[1mwandb\u001b[0m: \tmp_layer5_kernel_size: 3\n",
      "\u001b[34m\u001b[1mwandb\u001b[0m: \tmp_layer5_stride: 2\n",
      "\u001b[34m\u001b[1mwandb\u001b[0m: \tno_of_conv_blocks: 5\n",
      "\u001b[34m\u001b[1mwandb\u001b[0m: \tno_of_fc_layers: 1\n",
      "\u001b[34m\u001b[1mwandb\u001b[0m: \tno_of_filters: 64\n",
      "\u001b[34m\u001b[1mwandb\u001b[0m: \tnum_classes: 10\n",
      "\u001b[34m\u001b[1mwandb\u001b[0m: \tnum_workers: 10\n"
     ]
    },
    {
     "data": {
      "text/html": [
       "Tracking run with wandb version 0.19.9"
      ],
      "text/plain": [
       "<IPython.core.display.HTML object>"
      ]
     },
     "metadata": {},
     "output_type": "display_data"
    },
    {
     "data": {
      "text/html": [
       "Run data is saved locally in <code>/home/joel/Pytorch_CUDA/wandb/run-20250416_225726-hethr3zo</code>"
      ],
      "text/plain": [
       "<IPython.core.display.HTML object>"
      ]
     },
     "metadata": {},
     "output_type": "display_data"
    },
    {
     "data": {
      "text/html": [
       "Syncing run <strong><a href='https://wandb.ai/A2_DA6401_DL/Lightning_CNN/runs/hethr3zo' target=\"_blank\">floral-sweep-383</a></strong> to <a href='https://wandb.ai/A2_DA6401_DL/Lightning_CNN' target=\"_blank\">Weights & Biases</a> (<a href='https://wandb.me/developer-guide' target=\"_blank\">docs</a>)<br>Sweep page: <a href='https://wandb.ai/A2_DA6401_DL/Lightning_CNN/sweeps/8km3fqmz' target=\"_blank\">https://wandb.ai/A2_DA6401_DL/Lightning_CNN/sweeps/8km3fqmz</a>"
      ],
      "text/plain": [
       "<IPython.core.display.HTML object>"
      ]
     },
     "metadata": {},
     "output_type": "display_data"
    },
    {
     "data": {
      "text/html": [
       " View project at <a href='https://wandb.ai/A2_DA6401_DL/Lightning_CNN' target=\"_blank\">https://wandb.ai/A2_DA6401_DL/Lightning_CNN</a>"
      ],
      "text/plain": [
       "<IPython.core.display.HTML object>"
      ]
     },
     "metadata": {},
     "output_type": "display_data"
    },
    {
     "data": {
      "text/html": [
       " View sweep at <a href='https://wandb.ai/A2_DA6401_DL/Lightning_CNN/sweeps/8km3fqmz' target=\"_blank\">https://wandb.ai/A2_DA6401_DL/Lightning_CNN/sweeps/8km3fqmz</a>"
      ],
      "text/plain": [
       "<IPython.core.display.HTML object>"
      ]
     },
     "metadata": {},
     "output_type": "display_data"
    },
    {
     "data": {
      "text/html": [
       " View run at <a href='https://wandb.ai/A2_DA6401_DL/Lightning_CNN/runs/hethr3zo' target=\"_blank\">https://wandb.ai/A2_DA6401_DL/Lightning_CNN/runs/hethr3zo</a>"
      ],
      "text/plain": [
       "<IPython.core.display.HTML object>"
      ]
     },
     "metadata": {},
     "output_type": "display_data"
    },
    {
     "name": "stdout",
     "output_type": "stream",
     "text": [
      "Not a good combination !!!\n"
     ]
    },
    {
     "data": {
      "text/html": [],
      "text/plain": [
       "<IPython.core.display.HTML object>"
      ]
     },
     "metadata": {},
     "output_type": "display_data"
    },
    {
     "data": {
      "text/html": [
       " View run <strong style=\"color:#cdcd00\">bs_32_layer_act_SiLU_epoch_20_filter_mul_0.5_num_filters_64</strong> at: <a href='https://wandb.ai/A2_DA6401_DL/Lightning_CNN/runs/hethr3zo' target=\"_blank\">https://wandb.ai/A2_DA6401_DL/Lightning_CNN/runs/hethr3zo</a><br> View project at: <a href='https://wandb.ai/A2_DA6401_DL/Lightning_CNN' target=\"_blank\">https://wandb.ai/A2_DA6401_DL/Lightning_CNN</a><br>Synced 5 W&B file(s), 0 media file(s), 0 artifact file(s) and 0 other file(s)"
      ],
      "text/plain": [
       "<IPython.core.display.HTML object>"
      ]
     },
     "metadata": {},
     "output_type": "display_data"
    },
    {
     "data": {
      "text/html": [
       "Find logs at: <code>./wandb/run-20250416_225726-hethr3zo/logs</code>"
      ],
      "text/plain": [
       "<IPython.core.display.HTML object>"
      ]
     },
     "metadata": {},
     "output_type": "display_data"
    },
    {
     "name": "stderr",
     "output_type": "stream",
     "text": [
      "\u001b[34m\u001b[1mwandb\u001b[0m: Agent Starting Run: qcx94k8y with config:\n",
      "\u001b[34m\u001b[1mwandb\u001b[0m: \tbatch_norm_conv: False\n",
      "\u001b[34m\u001b[1mwandb\u001b[0m: \tbatch_norm_fc: True\n",
      "\u001b[34m\u001b[1mwandb\u001b[0m: \tbatch_size: 32\n",
      "\u001b[34m\u001b[1mwandb\u001b[0m: \tconv_1_filter_size: 7\n",
      "\u001b[34m\u001b[1mwandb\u001b[0m: \tconv_2_filter_size: 7\n",
      "\u001b[34m\u001b[1mwandb\u001b[0m: \tconv_3_filter_size: 5\n",
      "\u001b[34m\u001b[1mwandb\u001b[0m: \tconv_4_filter_size: 5\n",
      "\u001b[34m\u001b[1mwandb\u001b[0m: \tconv_5_filter_size: 7\n",
      "\u001b[34m\u001b[1mwandb\u001b[0m: \tconv_activation: ReLU\n",
      "\u001b[34m\u001b[1mwandb\u001b[0m: \tconv_padding: [None, None, None, None, None]\n",
      "\u001b[34m\u001b[1mwandb\u001b[0m: \tconv_strides: [1, 1, 1, 1, 1]\n",
      "\u001b[34m\u001b[1mwandb\u001b[0m: \tdata_aug: True\n",
      "\u001b[34m\u001b[1mwandb\u001b[0m: \tdropout_conv: 0\n",
      "\u001b[34m\u001b[1mwandb\u001b[0m: \tdropout_fc: 0\n",
      "\u001b[34m\u001b[1mwandb\u001b[0m: \tepochs: 20\n",
      "\u001b[34m\u001b[1mwandb\u001b[0m: \tfc_activations: ReLU\n",
      "\u001b[34m\u001b[1mwandb\u001b[0m: \tfc_neurons: 1024\n",
      "\u001b[34m\u001b[1mwandb\u001b[0m: \tfilter_mul: 0.5\n",
      "\u001b[34m\u001b[1mwandb\u001b[0m: \tinput_channels: 3\n",
      "\u001b[34m\u001b[1mwandb\u001b[0m: \tinput_size: [256, 256]\n",
      "\u001b[34m\u001b[1mwandb\u001b[0m: \tlearning_rate: 0.0005\n",
      "\u001b[34m\u001b[1mwandb\u001b[0m: \tmp_layer1_kernel_size: 5\n",
      "\u001b[34m\u001b[1mwandb\u001b[0m: \tmp_layer1_stride: 2\n",
      "\u001b[34m\u001b[1mwandb\u001b[0m: \tmp_layer2_kernel_size: 5\n",
      "\u001b[34m\u001b[1mwandb\u001b[0m: \tmp_layer2_stride: 2\n",
      "\u001b[34m\u001b[1mwandb\u001b[0m: \tmp_layer3_kernel_size: 3\n",
      "\u001b[34m\u001b[1mwandb\u001b[0m: \tmp_layer3_stride: 2\n",
      "\u001b[34m\u001b[1mwandb\u001b[0m: \tmp_layer4_kernel_size: 2\n",
      "\u001b[34m\u001b[1mwandb\u001b[0m: \tmp_layer4_stride: 2\n",
      "\u001b[34m\u001b[1mwandb\u001b[0m: \tmp_layer5_kernel_size: 2\n",
      "\u001b[34m\u001b[1mwandb\u001b[0m: \tmp_layer5_stride: 3\n",
      "\u001b[34m\u001b[1mwandb\u001b[0m: \tno_of_conv_blocks: 5\n",
      "\u001b[34m\u001b[1mwandb\u001b[0m: \tno_of_fc_layers: 1\n",
      "\u001b[34m\u001b[1mwandb\u001b[0m: \tno_of_filters: 16\n",
      "\u001b[34m\u001b[1mwandb\u001b[0m: \tnum_classes: 10\n",
      "\u001b[34m\u001b[1mwandb\u001b[0m: \tnum_workers: 10\n"
     ]
    },
    {
     "data": {
      "text/html": [
       "Tracking run with wandb version 0.19.9"
      ],
      "text/plain": [
       "<IPython.core.display.HTML object>"
      ]
     },
     "metadata": {},
     "output_type": "display_data"
    },
    {
     "data": {
      "text/html": [
       "Run data is saved locally in <code>/home/joel/Pytorch_CUDA/wandb/run-20250416_225733-qcx94k8y</code>"
      ],
      "text/plain": [
       "<IPython.core.display.HTML object>"
      ]
     },
     "metadata": {},
     "output_type": "display_data"
    },
    {
     "data": {
      "text/html": [
       "Syncing run <strong><a href='https://wandb.ai/A2_DA6401_DL/Lightning_CNN/runs/qcx94k8y' target=\"_blank\">rose-sweep-384</a></strong> to <a href='https://wandb.ai/A2_DA6401_DL/Lightning_CNN' target=\"_blank\">Weights & Biases</a> (<a href='https://wandb.me/developer-guide' target=\"_blank\">docs</a>)<br>Sweep page: <a href='https://wandb.ai/A2_DA6401_DL/Lightning_CNN/sweeps/8km3fqmz' target=\"_blank\">https://wandb.ai/A2_DA6401_DL/Lightning_CNN/sweeps/8km3fqmz</a>"
      ],
      "text/plain": [
       "<IPython.core.display.HTML object>"
      ]
     },
     "metadata": {},
     "output_type": "display_data"
    },
    {
     "data": {
      "text/html": [
       " View project at <a href='https://wandb.ai/A2_DA6401_DL/Lightning_CNN' target=\"_blank\">https://wandb.ai/A2_DA6401_DL/Lightning_CNN</a>"
      ],
      "text/plain": [
       "<IPython.core.display.HTML object>"
      ]
     },
     "metadata": {},
     "output_type": "display_data"
    },
    {
     "data": {
      "text/html": [
       " View sweep at <a href='https://wandb.ai/A2_DA6401_DL/Lightning_CNN/sweeps/8km3fqmz' target=\"_blank\">https://wandb.ai/A2_DA6401_DL/Lightning_CNN/sweeps/8km3fqmz</a>"
      ],
      "text/plain": [
       "<IPython.core.display.HTML object>"
      ]
     },
     "metadata": {},
     "output_type": "display_data"
    },
    {
     "data": {
      "text/html": [
       " View run at <a href='https://wandb.ai/A2_DA6401_DL/Lightning_CNN/runs/qcx94k8y' target=\"_blank\">https://wandb.ai/A2_DA6401_DL/Lightning_CNN/runs/qcx94k8y</a>"
      ],
      "text/plain": [
       "<IPython.core.display.HTML object>"
      ]
     },
     "metadata": {},
     "output_type": "display_data"
    },
    {
     "name": "stdout",
     "output_type": "stream",
     "text": [
      "Not a good combination !!!\n"
     ]
    },
    {
     "data": {
      "text/html": [],
      "text/plain": [
       "<IPython.core.display.HTML object>"
      ]
     },
     "metadata": {},
     "output_type": "display_data"
    },
    {
     "data": {
      "text/html": [
       " View run <strong style=\"color:#cdcd00\">bs_32_layer_act_ReLU_epoch_20_filter_mul_0.5_num_filters_16</strong> at: <a href='https://wandb.ai/A2_DA6401_DL/Lightning_CNN/runs/qcx94k8y' target=\"_blank\">https://wandb.ai/A2_DA6401_DL/Lightning_CNN/runs/qcx94k8y</a><br> View project at: <a href='https://wandb.ai/A2_DA6401_DL/Lightning_CNN' target=\"_blank\">https://wandb.ai/A2_DA6401_DL/Lightning_CNN</a><br>Synced 5 W&B file(s), 0 media file(s), 0 artifact file(s) and 0 other file(s)"
      ],
      "text/plain": [
       "<IPython.core.display.HTML object>"
      ]
     },
     "metadata": {},
     "output_type": "display_data"
    },
    {
     "data": {
      "text/html": [
       "Find logs at: <code>./wandb/run-20250416_225733-qcx94k8y/logs</code>"
      ],
      "text/plain": [
       "<IPython.core.display.HTML object>"
      ]
     },
     "metadata": {},
     "output_type": "display_data"
    },
    {
     "name": "stderr",
     "output_type": "stream",
     "text": [
      "\u001b[34m\u001b[1mwandb\u001b[0m: Agent Starting Run: 6cfyj495 with config:\n",
      "\u001b[34m\u001b[1mwandb\u001b[0m: \tbatch_norm_conv: True\n",
      "\u001b[34m\u001b[1mwandb\u001b[0m: \tbatch_norm_fc: True\n",
      "\u001b[34m\u001b[1mwandb\u001b[0m: \tbatch_size: 32\n",
      "\u001b[34m\u001b[1mwandb\u001b[0m: \tconv_1_filter_size: 3\n",
      "\u001b[34m\u001b[1mwandb\u001b[0m: \tconv_2_filter_size: 7\n",
      "\u001b[34m\u001b[1mwandb\u001b[0m: \tconv_3_filter_size: 3\n",
      "\u001b[34m\u001b[1mwandb\u001b[0m: \tconv_4_filter_size: 5\n",
      "\u001b[34m\u001b[1mwandb\u001b[0m: \tconv_5_filter_size: 5\n",
      "\u001b[34m\u001b[1mwandb\u001b[0m: \tconv_activation: ReLU\n",
      "\u001b[34m\u001b[1mwandb\u001b[0m: \tconv_padding: [None, None, None, None, None]\n",
      "\u001b[34m\u001b[1mwandb\u001b[0m: \tconv_strides: [1, 1, 1, 1, 1]\n",
      "\u001b[34m\u001b[1mwandb\u001b[0m: \tdata_aug: True\n",
      "\u001b[34m\u001b[1mwandb\u001b[0m: \tdropout_conv: 0.1\n",
      "\u001b[34m\u001b[1mwandb\u001b[0m: \tdropout_fc: 0.2\n",
      "\u001b[34m\u001b[1mwandb\u001b[0m: \tepochs: 20\n",
      "\u001b[34m\u001b[1mwandb\u001b[0m: \tfc_activations: ReLU\n",
      "\u001b[34m\u001b[1mwandb\u001b[0m: \tfc_neurons: 1024\n",
      "\u001b[34m\u001b[1mwandb\u001b[0m: \tfilter_mul: 1\n",
      "\u001b[34m\u001b[1mwandb\u001b[0m: \tinput_channels: 3\n",
      "\u001b[34m\u001b[1mwandb\u001b[0m: \tinput_size: [256, 256]\n",
      "\u001b[34m\u001b[1mwandb\u001b[0m: \tlearning_rate: 0.0005\n",
      "\u001b[34m\u001b[1mwandb\u001b[0m: \tmp_layer1_kernel_size: 2\n",
      "\u001b[34m\u001b[1mwandb\u001b[0m: \tmp_layer1_stride: 2\n",
      "\u001b[34m\u001b[1mwandb\u001b[0m: \tmp_layer2_kernel_size: 2\n",
      "\u001b[34m\u001b[1mwandb\u001b[0m: \tmp_layer2_stride: 2\n",
      "\u001b[34m\u001b[1mwandb\u001b[0m: \tmp_layer3_kernel_size: 3\n",
      "\u001b[34m\u001b[1mwandb\u001b[0m: \tmp_layer3_stride: 2\n",
      "\u001b[34m\u001b[1mwandb\u001b[0m: \tmp_layer4_kernel_size: 3\n",
      "\u001b[34m\u001b[1mwandb\u001b[0m: \tmp_layer4_stride: 3\n",
      "\u001b[34m\u001b[1mwandb\u001b[0m: \tmp_layer5_kernel_size: 2\n",
      "\u001b[34m\u001b[1mwandb\u001b[0m: \tmp_layer5_stride: 3\n",
      "\u001b[34m\u001b[1mwandb\u001b[0m: \tno_of_conv_blocks: 5\n",
      "\u001b[34m\u001b[1mwandb\u001b[0m: \tno_of_fc_layers: 1\n",
      "\u001b[34m\u001b[1mwandb\u001b[0m: \tno_of_filters: 256\n",
      "\u001b[34m\u001b[1mwandb\u001b[0m: \tnum_classes: 10\n",
      "\u001b[34m\u001b[1mwandb\u001b[0m: \tnum_workers: 10\n"
     ]
    },
    {
     "data": {
      "text/html": [
       "Tracking run with wandb version 0.19.9"
      ],
      "text/plain": [
       "<IPython.core.display.HTML object>"
      ]
     },
     "metadata": {},
     "output_type": "display_data"
    },
    {
     "data": {
      "text/html": [
       "Run data is saved locally in <code>/home/joel/Pytorch_CUDA/wandb/run-20250416_225738-6cfyj495</code>"
      ],
      "text/plain": [
       "<IPython.core.display.HTML object>"
      ]
     },
     "metadata": {},
     "output_type": "display_data"
    },
    {
     "data": {
      "text/html": [
       "Syncing run <strong><a href='https://wandb.ai/A2_DA6401_DL/Lightning_CNN/runs/6cfyj495' target=\"_blank\">polished-sweep-385</a></strong> to <a href='https://wandb.ai/A2_DA6401_DL/Lightning_CNN' target=\"_blank\">Weights & Biases</a> (<a href='https://wandb.me/developer-guide' target=\"_blank\">docs</a>)<br>Sweep page: <a href='https://wandb.ai/A2_DA6401_DL/Lightning_CNN/sweeps/8km3fqmz' target=\"_blank\">https://wandb.ai/A2_DA6401_DL/Lightning_CNN/sweeps/8km3fqmz</a>"
      ],
      "text/plain": [
       "<IPython.core.display.HTML object>"
      ]
     },
     "metadata": {},
     "output_type": "display_data"
    },
    {
     "data": {
      "text/html": [
       " View project at <a href='https://wandb.ai/A2_DA6401_DL/Lightning_CNN' target=\"_blank\">https://wandb.ai/A2_DA6401_DL/Lightning_CNN</a>"
      ],
      "text/plain": [
       "<IPython.core.display.HTML object>"
      ]
     },
     "metadata": {},
     "output_type": "display_data"
    },
    {
     "data": {
      "text/html": [
       " View sweep at <a href='https://wandb.ai/A2_DA6401_DL/Lightning_CNN/sweeps/8km3fqmz' target=\"_blank\">https://wandb.ai/A2_DA6401_DL/Lightning_CNN/sweeps/8km3fqmz</a>"
      ],
      "text/plain": [
       "<IPython.core.display.HTML object>"
      ]
     },
     "metadata": {},
     "output_type": "display_data"
    },
    {
     "data": {
      "text/html": [
       " View run at <a href='https://wandb.ai/A2_DA6401_DL/Lightning_CNN/runs/6cfyj495' target=\"_blank\">https://wandb.ai/A2_DA6401_DL/Lightning_CNN/runs/6cfyj495</a>"
      ],
      "text/plain": [
       "<IPython.core.display.HTML object>"
      ]
     },
     "metadata": {},
     "output_type": "display_data"
    },
    {
     "name": "stderr",
     "output_type": "stream",
     "text": [
      "You are using the plain ModelCheckpoint callback. Consider using LitModelCheckpoint which with seamless uploading to Model registry.\n",
      "GPU available: True (cuda), used: True\n",
      "TPU available: False, using: 0 TPU cores\n",
      "HPU available: False, using: 0 HPUs\n",
      "/home/joel/Pytorch_CUDA/virt_env/lib/python3.12/site-packages/lightning/pytorch/loggers/wandb.py:397: There is a wandb run already in progress and newly created instances of `WandbLogger` will reuse this run. If this is not desired, call `wandb.finish()` before instantiating `WandbLogger`.\n",
      "LOCAL_RANK: 0 - CUDA_VISIBLE_DEVICES: [0]\n",
      "\n",
      "  | Name       | Type               | Params | Mode \n",
      "----------------------------------------------------------\n",
      "0 | model      | CNN_               | 9.5 M  | train\n",
      "1 | loss_fn    | CrossEntropyLoss   | 0      | train\n",
      "2 | acc_metric | MulticlassAccuracy | 0      | train\n",
      "----------------------------------------------------------\n",
      "9.5 M     Trainable params\n",
      "0         Non-trainable params\n",
      "9.5 M     Total params\n",
      "37.845    Total estimated model params size (MB)\n",
      "43        Modules in train mode\n",
      "0         Modules in eval mode\n"
     ]
    },
    {
     "data": {
      "application/vnd.jupyter.widget-view+json": {
       "model_id": "346725dfd5154c18b14c7fdec44bd518",
       "version_major": 2,
       "version_minor": 0
      },
      "text/plain": [
       "Sanity Checking: |          | 0/? [00:00<?, ?it/s]"
      ]
     },
     "metadata": {},
     "output_type": "display_data"
    },
    {
     "name": "stdout",
     "output_type": "stream",
     "text": [
      "⚠️ CUDA Out Of Memory — skipping this run.\n"
     ]
    },
    {
     "data": {
      "text/html": [],
      "text/plain": [
       "<IPython.core.display.HTML object>"
      ]
     },
     "metadata": {},
     "output_type": "display_data"
    },
    {
     "data": {
      "text/html": [
       " View run <strong style=\"color:#cdcd00\">bs_32_layer_act_ReLU_epoch_20_filter_mul_1_num_filters_256</strong> at: <a href='https://wandb.ai/A2_DA6401_DL/Lightning_CNN/runs/6cfyj495' target=\"_blank\">https://wandb.ai/A2_DA6401_DL/Lightning_CNN/runs/6cfyj495</a><br> View project at: <a href='https://wandb.ai/A2_DA6401_DL/Lightning_CNN' target=\"_blank\">https://wandb.ai/A2_DA6401_DL/Lightning_CNN</a><br>Synced 5 W&B file(s), 0 media file(s), 0 artifact file(s) and 0 other file(s)"
      ],
      "text/plain": [
       "<IPython.core.display.HTML object>"
      ]
     },
     "metadata": {},
     "output_type": "display_data"
    },
    {
     "data": {
      "text/html": [
       "Find logs at: <code>./wandb/run-20250416_225738-6cfyj495/logs</code>"
      ],
      "text/plain": [
       "<IPython.core.display.HTML object>"
      ]
     },
     "metadata": {},
     "output_type": "display_data"
    },
    {
     "name": "stderr",
     "output_type": "stream",
     "text": [
      "\u001b[34m\u001b[1mwandb\u001b[0m: Sweep Agent: Waiting for job.\n",
      "\u001b[34m\u001b[1mwandb\u001b[0m: Job received.\n",
      "\u001b[34m\u001b[1mwandb\u001b[0m: Agent Starting Run: 68wve4xo with config:\n",
      "\u001b[34m\u001b[1mwandb\u001b[0m: \tbatch_norm_conv: True\n",
      "\u001b[34m\u001b[1mwandb\u001b[0m: \tbatch_norm_fc: True\n",
      "\u001b[34m\u001b[1mwandb\u001b[0m: \tbatch_size: 64\n",
      "\u001b[34m\u001b[1mwandb\u001b[0m: \tconv_1_filter_size: 3\n",
      "\u001b[34m\u001b[1mwandb\u001b[0m: \tconv_2_filter_size: 5\n",
      "\u001b[34m\u001b[1mwandb\u001b[0m: \tconv_3_filter_size: 3\n",
      "\u001b[34m\u001b[1mwandb\u001b[0m: \tconv_4_filter_size: 7\n",
      "\u001b[34m\u001b[1mwandb\u001b[0m: \tconv_5_filter_size: 7\n",
      "\u001b[34m\u001b[1mwandb\u001b[0m: \tconv_activation: Mish\n",
      "\u001b[34m\u001b[1mwandb\u001b[0m: \tconv_padding: [None, None, None, None, None]\n",
      "\u001b[34m\u001b[1mwandb\u001b[0m: \tconv_strides: [1, 1, 1, 1, 1]\n",
      "\u001b[34m\u001b[1mwandb\u001b[0m: \tdata_aug: True\n",
      "\u001b[34m\u001b[1mwandb\u001b[0m: \tdropout_conv: 0\n",
      "\u001b[34m\u001b[1mwandb\u001b[0m: \tdropout_fc: 0.2\n",
      "\u001b[34m\u001b[1mwandb\u001b[0m: \tepochs: 20\n",
      "\u001b[34m\u001b[1mwandb\u001b[0m: \tfc_activations: Mish\n",
      "\u001b[34m\u001b[1mwandb\u001b[0m: \tfc_neurons: 512\n",
      "\u001b[34m\u001b[1mwandb\u001b[0m: \tfilter_mul: 2\n",
      "\u001b[34m\u001b[1mwandb\u001b[0m: \tinput_channels: 3\n",
      "\u001b[34m\u001b[1mwandb\u001b[0m: \tinput_size: [256, 256]\n",
      "\u001b[34m\u001b[1mwandb\u001b[0m: \tlearning_rate: 0.0005\n",
      "\u001b[34m\u001b[1mwandb\u001b[0m: \tmp_layer1_kernel_size: 2\n",
      "\u001b[34m\u001b[1mwandb\u001b[0m: \tmp_layer1_stride: 2\n",
      "\u001b[34m\u001b[1mwandb\u001b[0m: \tmp_layer2_kernel_size: 5\n",
      "\u001b[34m\u001b[1mwandb\u001b[0m: \tmp_layer2_stride: 3\n",
      "\u001b[34m\u001b[1mwandb\u001b[0m: \tmp_layer3_kernel_size: 5\n",
      "\u001b[34m\u001b[1mwandb\u001b[0m: \tmp_layer3_stride: 2\n",
      "\u001b[34m\u001b[1mwandb\u001b[0m: \tmp_layer4_kernel_size: 3\n",
      "\u001b[34m\u001b[1mwandb\u001b[0m: \tmp_layer4_stride: 2\n",
      "\u001b[34m\u001b[1mwandb\u001b[0m: \tmp_layer5_kernel_size: 2\n",
      "\u001b[34m\u001b[1mwandb\u001b[0m: \tmp_layer5_stride: 3\n",
      "\u001b[34m\u001b[1mwandb\u001b[0m: \tno_of_conv_blocks: 5\n",
      "\u001b[34m\u001b[1mwandb\u001b[0m: \tno_of_fc_layers: 1\n",
      "\u001b[34m\u001b[1mwandb\u001b[0m: \tno_of_filters: 256\n",
      "\u001b[34m\u001b[1mwandb\u001b[0m: \tnum_classes: 10\n",
      "\u001b[34m\u001b[1mwandb\u001b[0m: \tnum_workers: 10\n"
     ]
    },
    {
     "data": {
      "text/html": [
       "Tracking run with wandb version 0.19.9"
      ],
      "text/plain": [
       "<IPython.core.display.HTML object>"
      ]
     },
     "metadata": {},
     "output_type": "display_data"
    },
    {
     "data": {
      "text/html": [
       "Run data is saved locally in <code>/home/joel/Pytorch_CUDA/wandb/run-20250416_225752-68wve4xo</code>"
      ],
      "text/plain": [
       "<IPython.core.display.HTML object>"
      ]
     },
     "metadata": {},
     "output_type": "display_data"
    },
    {
     "data": {
      "text/html": [
       "Syncing run <strong><a href='https://wandb.ai/A2_DA6401_DL/Lightning_CNN/runs/68wve4xo' target=\"_blank\">sparkling-sweep-386</a></strong> to <a href='https://wandb.ai/A2_DA6401_DL/Lightning_CNN' target=\"_blank\">Weights & Biases</a> (<a href='https://wandb.me/developer-guide' target=\"_blank\">docs</a>)<br>Sweep page: <a href='https://wandb.ai/A2_DA6401_DL/Lightning_CNN/sweeps/8km3fqmz' target=\"_blank\">https://wandb.ai/A2_DA6401_DL/Lightning_CNN/sweeps/8km3fqmz</a>"
      ],
      "text/plain": [
       "<IPython.core.display.HTML object>"
      ]
     },
     "metadata": {},
     "output_type": "display_data"
    },
    {
     "data": {
      "text/html": [
       " View project at <a href='https://wandb.ai/A2_DA6401_DL/Lightning_CNN' target=\"_blank\">https://wandb.ai/A2_DA6401_DL/Lightning_CNN</a>"
      ],
      "text/plain": [
       "<IPython.core.display.HTML object>"
      ]
     },
     "metadata": {},
     "output_type": "display_data"
    },
    {
     "data": {
      "text/html": [
       " View sweep at <a href='https://wandb.ai/A2_DA6401_DL/Lightning_CNN/sweeps/8km3fqmz' target=\"_blank\">https://wandb.ai/A2_DA6401_DL/Lightning_CNN/sweeps/8km3fqmz</a>"
      ],
      "text/plain": [
       "<IPython.core.display.HTML object>"
      ]
     },
     "metadata": {},
     "output_type": "display_data"
    },
    {
     "data": {
      "text/html": [
       " View run at <a href='https://wandb.ai/A2_DA6401_DL/Lightning_CNN/runs/68wve4xo' target=\"_blank\">https://wandb.ai/A2_DA6401_DL/Lightning_CNN/runs/68wve4xo</a>"
      ],
      "text/plain": [
       "<IPython.core.display.HTML object>"
      ]
     },
     "metadata": {},
     "output_type": "display_data"
    },
    {
     "name": "stdout",
     "output_type": "stream",
     "text": [
      "Not a good combination !!!\n"
     ]
    },
    {
     "data": {
      "text/html": [],
      "text/plain": [
       "<IPython.core.display.HTML object>"
      ]
     },
     "metadata": {},
     "output_type": "display_data"
    },
    {
     "data": {
      "text/html": [
       " View run <strong style=\"color:#cdcd00\">bs_64_layer_act_Mish_epoch_20_filter_mul_2_num_filters_256</strong> at: <a href='https://wandb.ai/A2_DA6401_DL/Lightning_CNN/runs/68wve4xo' target=\"_blank\">https://wandb.ai/A2_DA6401_DL/Lightning_CNN/runs/68wve4xo</a><br> View project at: <a href='https://wandb.ai/A2_DA6401_DL/Lightning_CNN' target=\"_blank\">https://wandb.ai/A2_DA6401_DL/Lightning_CNN</a><br>Synced 5 W&B file(s), 0 media file(s), 0 artifact file(s) and 0 other file(s)"
      ],
      "text/plain": [
       "<IPython.core.display.HTML object>"
      ]
     },
     "metadata": {},
     "output_type": "display_data"
    },
    {
     "data": {
      "text/html": [
       "Find logs at: <code>./wandb/run-20250416_225752-68wve4xo/logs</code>"
      ],
      "text/plain": [
       "<IPython.core.display.HTML object>"
      ]
     },
     "metadata": {},
     "output_type": "display_data"
    },
    {
     "name": "stderr",
     "output_type": "stream",
     "text": [
      "\u001b[34m\u001b[1mwandb\u001b[0m: Agent Starting Run: 9a2bk7f7 with config:\n",
      "\u001b[34m\u001b[1mwandb\u001b[0m: \tbatch_norm_conv: False\n",
      "\u001b[34m\u001b[1mwandb\u001b[0m: \tbatch_norm_fc: True\n",
      "\u001b[34m\u001b[1mwandb\u001b[0m: \tbatch_size: 16\n",
      "\u001b[34m\u001b[1mwandb\u001b[0m: \tconv_1_filter_size: 7\n",
      "\u001b[34m\u001b[1mwandb\u001b[0m: \tconv_2_filter_size: 5\n",
      "\u001b[34m\u001b[1mwandb\u001b[0m: \tconv_3_filter_size: 5\n",
      "\u001b[34m\u001b[1mwandb\u001b[0m: \tconv_4_filter_size: 7\n",
      "\u001b[34m\u001b[1mwandb\u001b[0m: \tconv_5_filter_size: 5\n",
      "\u001b[34m\u001b[1mwandb\u001b[0m: \tconv_activation: LeakyReLU\n",
      "\u001b[34m\u001b[1mwandb\u001b[0m: \tconv_padding: [None, None, None, None, None]\n",
      "\u001b[34m\u001b[1mwandb\u001b[0m: \tconv_strides: [1, 1, 1, 1, 1]\n",
      "\u001b[34m\u001b[1mwandb\u001b[0m: \tdata_aug: True\n",
      "\u001b[34m\u001b[1mwandb\u001b[0m: \tdropout_conv: 0.1\n",
      "\u001b[34m\u001b[1mwandb\u001b[0m: \tdropout_fc: 0\n",
      "\u001b[34m\u001b[1mwandb\u001b[0m: \tepochs: 20\n",
      "\u001b[34m\u001b[1mwandb\u001b[0m: \tfc_activations: GELU\n",
      "\u001b[34m\u001b[1mwandb\u001b[0m: \tfc_neurons: 512\n",
      "\u001b[34m\u001b[1mwandb\u001b[0m: \tfilter_mul: 2\n",
      "\u001b[34m\u001b[1mwandb\u001b[0m: \tinput_channels: 3\n",
      "\u001b[34m\u001b[1mwandb\u001b[0m: \tinput_size: [256, 256]\n",
      "\u001b[34m\u001b[1mwandb\u001b[0m: \tlearning_rate: 0.001\n",
      "\u001b[34m\u001b[1mwandb\u001b[0m: \tmp_layer1_kernel_size: 3\n",
      "\u001b[34m\u001b[1mwandb\u001b[0m: \tmp_layer1_stride: 3\n",
      "\u001b[34m\u001b[1mwandb\u001b[0m: \tmp_layer2_kernel_size: 2\n",
      "\u001b[34m\u001b[1mwandb\u001b[0m: \tmp_layer2_stride: 3\n",
      "\u001b[34m\u001b[1mwandb\u001b[0m: \tmp_layer3_kernel_size: 2\n",
      "\u001b[34m\u001b[1mwandb\u001b[0m: \tmp_layer3_stride: 3\n",
      "\u001b[34m\u001b[1mwandb\u001b[0m: \tmp_layer4_kernel_size: 2\n",
      "\u001b[34m\u001b[1mwandb\u001b[0m: \tmp_layer4_stride: 2\n",
      "\u001b[34m\u001b[1mwandb\u001b[0m: \tmp_layer5_kernel_size: 3\n",
      "\u001b[34m\u001b[1mwandb\u001b[0m: \tmp_layer5_stride: 2\n",
      "\u001b[34m\u001b[1mwandb\u001b[0m: \tno_of_conv_blocks: 5\n",
      "\u001b[34m\u001b[1mwandb\u001b[0m: \tno_of_fc_layers: 1\n",
      "\u001b[34m\u001b[1mwandb\u001b[0m: \tno_of_filters: 8\n",
      "\u001b[34m\u001b[1mwandb\u001b[0m: \tnum_classes: 10\n",
      "\u001b[34m\u001b[1mwandb\u001b[0m: \tnum_workers: 10\n"
     ]
    },
    {
     "data": {
      "text/html": [
       "Tracking run with wandb version 0.19.9"
      ],
      "text/plain": [
       "<IPython.core.display.HTML object>"
      ]
     },
     "metadata": {},
     "output_type": "display_data"
    },
    {
     "data": {
      "text/html": [
       "Run data is saved locally in <code>/home/joel/Pytorch_CUDA/wandb/run-20250416_225759-9a2bk7f7</code>"
      ],
      "text/plain": [
       "<IPython.core.display.HTML object>"
      ]
     },
     "metadata": {},
     "output_type": "display_data"
    },
    {
     "data": {
      "text/html": [
       "Syncing run <strong><a href='https://wandb.ai/A2_DA6401_DL/Lightning_CNN/runs/9a2bk7f7' target=\"_blank\">true-sweep-387</a></strong> to <a href='https://wandb.ai/A2_DA6401_DL/Lightning_CNN' target=\"_blank\">Weights & Biases</a> (<a href='https://wandb.me/developer-guide' target=\"_blank\">docs</a>)<br>Sweep page: <a href='https://wandb.ai/A2_DA6401_DL/Lightning_CNN/sweeps/8km3fqmz' target=\"_blank\">https://wandb.ai/A2_DA6401_DL/Lightning_CNN/sweeps/8km3fqmz</a>"
      ],
      "text/plain": [
       "<IPython.core.display.HTML object>"
      ]
     },
     "metadata": {},
     "output_type": "display_data"
    },
    {
     "data": {
      "text/html": [
       " View project at <a href='https://wandb.ai/A2_DA6401_DL/Lightning_CNN' target=\"_blank\">https://wandb.ai/A2_DA6401_DL/Lightning_CNN</a>"
      ],
      "text/plain": [
       "<IPython.core.display.HTML object>"
      ]
     },
     "metadata": {},
     "output_type": "display_data"
    },
    {
     "data": {
      "text/html": [
       " View sweep at <a href='https://wandb.ai/A2_DA6401_DL/Lightning_CNN/sweeps/8km3fqmz' target=\"_blank\">https://wandb.ai/A2_DA6401_DL/Lightning_CNN/sweeps/8km3fqmz</a>"
      ],
      "text/plain": [
       "<IPython.core.display.HTML object>"
      ]
     },
     "metadata": {},
     "output_type": "display_data"
    },
    {
     "data": {
      "text/html": [
       " View run at <a href='https://wandb.ai/A2_DA6401_DL/Lightning_CNN/runs/9a2bk7f7' target=\"_blank\">https://wandb.ai/A2_DA6401_DL/Lightning_CNN/runs/9a2bk7f7</a>"
      ],
      "text/plain": [
       "<IPython.core.display.HTML object>"
      ]
     },
     "metadata": {},
     "output_type": "display_data"
    },
    {
     "name": "stderr",
     "output_type": "stream",
     "text": [
      "You are using the plain ModelCheckpoint callback. Consider using LitModelCheckpoint which with seamless uploading to Model registry.\n",
      "GPU available: True (cuda), used: True\n",
      "TPU available: False, using: 0 TPU cores\n",
      "HPU available: False, using: 0 HPUs\n",
      "/home/joel/Pytorch_CUDA/virt_env/lib/python3.12/site-packages/lightning/pytorch/loggers/wandb.py:397: There is a wandb run already in progress and newly created instances of `WandbLogger` will reuse this run. If this is not desired, call `wandb.finish()` before instantiating `WandbLogger`.\n",
      "LOCAL_RANK: 0 - CUDA_VISIBLE_DEVICES: [0]\n",
      "\n",
      "  | Name       | Type               | Params | Mode \n",
      "----------------------------------------------------------\n",
      "0 | model      | CNN_               | 394 K  | train\n",
      "1 | loss_fn    | CrossEntropyLoss   | 0      | train\n",
      "2 | acc_metric | MulticlassAccuracy | 0      | train\n",
      "----------------------------------------------------------\n",
      "394 K     Trainable params\n",
      "0         Non-trainable params\n",
      "394 K     Total params\n",
      "1.579     Total estimated model params size (MB)\n",
      "43        Modules in train mode\n",
      "0         Modules in eval mode\n"
     ]
    },
    {
     "data": {
      "application/vnd.jupyter.widget-view+json": {
       "model_id": "535a51cff2bb427eb5c368d248027789",
       "version_major": 2,
       "version_minor": 0
      },
      "text/plain": [
       "Sanity Checking: |          | 0/? [00:00<?, ?it/s]"
      ]
     },
     "metadata": {},
     "output_type": "display_data"
    },
    {
     "data": {
      "application/vnd.jupyter.widget-view+json": {
       "model_id": "74530eeabb214753882a87208f927a34",
       "version_major": 2,
       "version_minor": 0
      },
      "text/plain": [
       "Training: |          | 0/? [00:00<?, ?it/s]"
      ]
     },
     "metadata": {},
     "output_type": "display_data"
    },
    {
     "data": {
      "application/vnd.jupyter.widget-view+json": {
       "model_id": "9656b0486ed147a4b4a7740fcb71054d",
       "version_major": 2,
       "version_minor": 0
      },
      "text/plain": [
       "Validation: |          | 0/? [00:00<?, ?it/s]"
      ]
     },
     "metadata": {},
     "output_type": "display_data"
    },
    {
     "data": {
      "application/vnd.jupyter.widget-view+json": {
       "model_id": "0294960cabdf4432975b5212ebd665a7",
       "version_major": 2,
       "version_minor": 0
      },
      "text/plain": [
       "Validation: |          | 0/? [00:00<?, ?it/s]"
      ]
     },
     "metadata": {},
     "output_type": "display_data"
    },
    {
     "data": {
      "application/vnd.jupyter.widget-view+json": {
       "model_id": "d5eebaeaee3e4c17a617309608060035",
       "version_major": 2,
       "version_minor": 0
      },
      "text/plain": [
       "Validation: |          | 0/? [00:00<?, ?it/s]"
      ]
     },
     "metadata": {},
     "output_type": "display_data"
    },
    {
     "data": {
      "application/vnd.jupyter.widget-view+json": {
       "model_id": "ba9aeba32e944165951a88ff675c8cbe",
       "version_major": 2,
       "version_minor": 0
      },
      "text/plain": [
       "Validation: |          | 0/? [00:00<?, ?it/s]"
      ]
     },
     "metadata": {},
     "output_type": "display_data"
    },
    {
     "data": {
      "application/vnd.jupyter.widget-view+json": {
       "model_id": "b86543f126584e419da12e3ed6418cf6",
       "version_major": 2,
       "version_minor": 0
      },
      "text/plain": [
       "Validation: |          | 0/? [00:00<?, ?it/s]"
      ]
     },
     "metadata": {},
     "output_type": "display_data"
    },
    {
     "data": {
      "application/vnd.jupyter.widget-view+json": {
       "model_id": "7efa7742a03649c0a7d0894e595b4ecd",
       "version_major": 2,
       "version_minor": 0
      },
      "text/plain": [
       "Validation: |          | 0/? [00:00<?, ?it/s]"
      ]
     },
     "metadata": {},
     "output_type": "display_data"
    },
    {
     "data": {
      "application/vnd.jupyter.widget-view+json": {
       "model_id": "c900c8730c3b4c3c8684082c063966c8",
       "version_major": 2,
       "version_minor": 0
      },
      "text/plain": [
       "Validation: |          | 0/? [00:00<?, ?it/s]"
      ]
     },
     "metadata": {},
     "output_type": "display_data"
    },
    {
     "data": {
      "application/vnd.jupyter.widget-view+json": {
       "model_id": "1fda9afc901f44b48e9ea63eb5252cee",
       "version_major": 2,
       "version_minor": 0
      },
      "text/plain": [
       "Validation: |          | 0/? [00:00<?, ?it/s]"
      ]
     },
     "metadata": {},
     "output_type": "display_data"
    },
    {
     "data": {
      "application/vnd.jupyter.widget-view+json": {
       "model_id": "1d2ac340c6bb49c2bde181a9b155173e",
       "version_major": 2,
       "version_minor": 0
      },
      "text/plain": [
       "Validation: |          | 0/? [00:00<?, ?it/s]"
      ]
     },
     "metadata": {},
     "output_type": "display_data"
    },
    {
     "data": {
      "application/vnd.jupyter.widget-view+json": {
       "model_id": "5e9a3e5390d84b8195f87f3101eb9a91",
       "version_major": 2,
       "version_minor": 0
      },
      "text/plain": [
       "Validation: |          | 0/? [00:00<?, ?it/s]"
      ]
     },
     "metadata": {},
     "output_type": "display_data"
    },
    {
     "data": {
      "application/vnd.jupyter.widget-view+json": {
       "model_id": "ccd3a03c148e4497bd2a14ef57e2e29b",
       "version_major": 2,
       "version_minor": 0
      },
      "text/plain": [
       "Validation: |          | 0/? [00:00<?, ?it/s]"
      ]
     },
     "metadata": {},
     "output_type": "display_data"
    },
    {
     "data": {
      "application/vnd.jupyter.widget-view+json": {
       "model_id": "c7ab3eb351cd4de984260a85af85798b",
       "version_major": 2,
       "version_minor": 0
      },
      "text/plain": [
       "Validation: |          | 0/? [00:00<?, ?it/s]"
      ]
     },
     "metadata": {},
     "output_type": "display_data"
    },
    {
     "data": {
      "application/vnd.jupyter.widget-view+json": {
       "model_id": "60538fc044f54d2b882fb700df00cf4f",
       "version_major": 2,
       "version_minor": 0
      },
      "text/plain": [
       "Validation: |          | 0/? [00:00<?, ?it/s]"
      ]
     },
     "metadata": {},
     "output_type": "display_data"
    },
    {
     "data": {
      "application/vnd.jupyter.widget-view+json": {
       "model_id": "d9c0000278a5478bbe4b4b654032c11a",
       "version_major": 2,
       "version_minor": 0
      },
      "text/plain": [
       "Validation: |          | 0/? [00:00<?, ?it/s]"
      ]
     },
     "metadata": {},
     "output_type": "display_data"
    },
    {
     "data": {
      "application/vnd.jupyter.widget-view+json": {
       "model_id": "6d4ff8f8ebd1440d880028ee2b65353d",
       "version_major": 2,
       "version_minor": 0
      },
      "text/plain": [
       "Validation: |          | 0/? [00:00<?, ?it/s]"
      ]
     },
     "metadata": {},
     "output_type": "display_data"
    },
    {
     "data": {
      "application/vnd.jupyter.widget-view+json": {
       "model_id": "104a19f78c4a4cf8b7ed2cf69c818d60",
       "version_major": 2,
       "version_minor": 0
      },
      "text/plain": [
       "Validation: |          | 0/? [00:00<?, ?it/s]"
      ]
     },
     "metadata": {},
     "output_type": "display_data"
    },
    {
     "data": {
      "application/vnd.jupyter.widget-view+json": {
       "model_id": "9d82f69b0d1f485ab20469495faaacc9",
       "version_major": 2,
       "version_minor": 0
      },
      "text/plain": [
       "Validation: |          | 0/? [00:00<?, ?it/s]"
      ]
     },
     "metadata": {},
     "output_type": "display_data"
    },
    {
     "data": {
      "application/vnd.jupyter.widget-view+json": {
       "model_id": "e5b436e40787421bbfcdc71007dca65a",
       "version_major": 2,
       "version_minor": 0
      },
      "text/plain": [
       "Validation: |          | 0/? [00:00<?, ?it/s]"
      ]
     },
     "metadata": {},
     "output_type": "display_data"
    },
    {
     "data": {
      "application/vnd.jupyter.widget-view+json": {
       "model_id": "8314f3a4174a43cab444e3570f37019f",
       "version_major": 2,
       "version_minor": 0
      },
      "text/plain": [
       "Validation: |          | 0/? [00:00<?, ?it/s]"
      ]
     },
     "metadata": {},
     "output_type": "display_data"
    },
    {
     "data": {
      "application/vnd.jupyter.widget-view+json": {
       "model_id": "95a4b18a17644ce9bb769314a97ca80d",
       "version_major": 2,
       "version_minor": 0
      },
      "text/plain": [
       "Validation: |          | 0/? [00:00<?, ?it/s]"
      ]
     },
     "metadata": {},
     "output_type": "display_data"
    },
    {
     "name": "stderr",
     "output_type": "stream",
     "text": [
      "`Trainer.fit` stopped: `max_epochs=20` reached.\n"
     ]
    },
    {
     "data": {
      "text/html": [],
      "text/plain": [
       "<IPython.core.display.HTML object>"
      ]
     },
     "metadata": {},
     "output_type": "display_data"
    },
    {
     "data": {
      "text/html": [
       "<br>    <style><br>        .wandb-row {<br>            display: flex;<br>            flex-direction: row;<br>            flex-wrap: wrap;<br>            justify-content: flex-start;<br>            width: 100%;<br>        }<br>        .wandb-col {<br>            display: flex;<br>            flex-direction: column;<br>            flex-basis: 100%;<br>            flex: 1;<br>            padding: 10px;<br>        }<br>    </style><br><div class=\"wandb-row\"><div class=\"wandb-col\"><h3>Run history:</h3><br/><table class=\"wandb\"><tr><td>epoch</td><td>▁▁▁▁▂▂▂▂▂▂▃▃▃▃▄▄▄▄▄▄▅▅▅▅▅▅▆▆▆▆▇▇▇▇▇▇████</td></tr><tr><td>train_loss</td><td>███▇▆▅▅▄▄▃▃▃▂▂▂▁▂▂▁▁</td></tr><tr><td>trainer/global_step</td><td>▁▁▁▁▂▂▂▂▂▂▃▃▃▃▄▄▄▄▄▄▅▅▅▅▅▅▆▆▆▆▇▇▇▇▇▇████</td></tr><tr><td>val_acc</td><td>▁▂▂▅▂▆▃▅▆▆▇▇▆▆▇▇▇██▇</td></tr><tr><td>val_loss</td><td>█▇▇▅█▄▆▄▃▃▃▂▃▃▂▂▂▂▁▂</td></tr></table><br/></div><div class=\"wandb-col\"><h3>Run summary:</h3><br/><table class=\"wandb\"><tr><td>epoch</td><td>19</td></tr><tr><td>train_loss</td><td>2.18735</td></tr><tr><td>trainer/global_step</td><td>9979</td></tr><tr><td>val_acc</td><td>0.2415</td></tr><tr><td>val_loss</td><td>2.20259</td></tr></table><br/></div></div>"
      ],
      "text/plain": [
       "<IPython.core.display.HTML object>"
      ]
     },
     "metadata": {},
     "output_type": "display_data"
    },
    {
     "data": {
      "text/html": [
       " View run <strong style=\"color:#cdcd00\">bs_16_layer_act_LeakyReLU_epoch_20_filter_mul_2_num_filters_8</strong> at: <a href='https://wandb.ai/A2_DA6401_DL/Lightning_CNN/runs/9a2bk7f7' target=\"_blank\">https://wandb.ai/A2_DA6401_DL/Lightning_CNN/runs/9a2bk7f7</a><br> View project at: <a href='https://wandb.ai/A2_DA6401_DL/Lightning_CNN' target=\"_blank\">https://wandb.ai/A2_DA6401_DL/Lightning_CNN</a><br>Synced 5 W&B file(s), 0 media file(s), 0 artifact file(s) and 0 other file(s)"
      ],
      "text/plain": [
       "<IPython.core.display.HTML object>"
      ]
     },
     "metadata": {},
     "output_type": "display_data"
    },
    {
     "data": {
      "text/html": [
       "Find logs at: <code>./wandb/run-20250416_225759-9a2bk7f7/logs</code>"
      ],
      "text/plain": [
       "<IPython.core.display.HTML object>"
      ]
     },
     "metadata": {},
     "output_type": "display_data"
    },
    {
     "name": "stderr",
     "output_type": "stream",
     "text": [
      "\u001b[34m\u001b[1mwandb\u001b[0m: Agent Starting Run: doo6yvg0 with config:\n",
      "\u001b[34m\u001b[1mwandb\u001b[0m: \tbatch_norm_conv: False\n",
      "\u001b[34m\u001b[1mwandb\u001b[0m: \tbatch_norm_fc: True\n",
      "\u001b[34m\u001b[1mwandb\u001b[0m: \tbatch_size: 64\n",
      "\u001b[34m\u001b[1mwandb\u001b[0m: \tconv_1_filter_size: 5\n",
      "\u001b[34m\u001b[1mwandb\u001b[0m: \tconv_2_filter_size: 7\n",
      "\u001b[34m\u001b[1mwandb\u001b[0m: \tconv_3_filter_size: 5\n",
      "\u001b[34m\u001b[1mwandb\u001b[0m: \tconv_4_filter_size: 7\n",
      "\u001b[34m\u001b[1mwandb\u001b[0m: \tconv_5_filter_size: 5\n",
      "\u001b[34m\u001b[1mwandb\u001b[0m: \tconv_activation: LeakyReLU\n",
      "\u001b[34m\u001b[1mwandb\u001b[0m: \tconv_padding: [None, None, None, None, None]\n",
      "\u001b[34m\u001b[1mwandb\u001b[0m: \tconv_strides: [1, 1, 1, 1, 1]\n",
      "\u001b[34m\u001b[1mwandb\u001b[0m: \tdata_aug: True\n",
      "\u001b[34m\u001b[1mwandb\u001b[0m: \tdropout_conv: 0\n",
      "\u001b[34m\u001b[1mwandb\u001b[0m: \tdropout_fc: 0\n",
      "\u001b[34m\u001b[1mwandb\u001b[0m: \tepochs: 20\n",
      "\u001b[34m\u001b[1mwandb\u001b[0m: \tfc_activations: SELU\n",
      "\u001b[34m\u001b[1mwandb\u001b[0m: \tfc_neurons: 512\n",
      "\u001b[34m\u001b[1mwandb\u001b[0m: \tfilter_mul: 2\n",
      "\u001b[34m\u001b[1mwandb\u001b[0m: \tinput_channels: 3\n",
      "\u001b[34m\u001b[1mwandb\u001b[0m: \tinput_size: [256, 256]\n",
      "\u001b[34m\u001b[1mwandb\u001b[0m: \tlearning_rate: 0.001\n",
      "\u001b[34m\u001b[1mwandb\u001b[0m: \tmp_layer1_kernel_size: 3\n",
      "\u001b[34m\u001b[1mwandb\u001b[0m: \tmp_layer1_stride: 2\n",
      "\u001b[34m\u001b[1mwandb\u001b[0m: \tmp_layer2_kernel_size: 2\n",
      "\u001b[34m\u001b[1mwandb\u001b[0m: \tmp_layer2_stride: 2\n",
      "\u001b[34m\u001b[1mwandb\u001b[0m: \tmp_layer3_kernel_size: 2\n",
      "\u001b[34m\u001b[1mwandb\u001b[0m: \tmp_layer3_stride: 2\n",
      "\u001b[34m\u001b[1mwandb\u001b[0m: \tmp_layer4_kernel_size: 3\n",
      "\u001b[34m\u001b[1mwandb\u001b[0m: \tmp_layer4_stride: 2\n",
      "\u001b[34m\u001b[1mwandb\u001b[0m: \tmp_layer5_kernel_size: 3\n",
      "\u001b[34m\u001b[1mwandb\u001b[0m: \tmp_layer5_stride: 3\n",
      "\u001b[34m\u001b[1mwandb\u001b[0m: \tno_of_conv_blocks: 5\n",
      "\u001b[34m\u001b[1mwandb\u001b[0m: \tno_of_fc_layers: 1\n",
      "\u001b[34m\u001b[1mwandb\u001b[0m: \tno_of_filters: 16\n",
      "\u001b[34m\u001b[1mwandb\u001b[0m: \tnum_classes: 10\n",
      "\u001b[34m\u001b[1mwandb\u001b[0m: \tnum_workers: 10\n"
     ]
    },
    {
     "data": {
      "text/html": [
       "Tracking run with wandb version 0.19.9"
      ],
      "text/plain": [
       "<IPython.core.display.HTML object>"
      ]
     },
     "metadata": {},
     "output_type": "display_data"
    },
    {
     "data": {
      "text/html": [
       "Run data is saved locally in <code>/home/joel/Pytorch_CUDA/wandb/run-20250416_231036-doo6yvg0</code>"
      ],
      "text/plain": [
       "<IPython.core.display.HTML object>"
      ]
     },
     "metadata": {},
     "output_type": "display_data"
    },
    {
     "data": {
      "text/html": [
       "Syncing run <strong><a href='https://wandb.ai/A2_DA6401_DL/Lightning_CNN/runs/doo6yvg0' target=\"_blank\">driven-sweep-390</a></strong> to <a href='https://wandb.ai/A2_DA6401_DL/Lightning_CNN' target=\"_blank\">Weights & Biases</a> (<a href='https://wandb.me/developer-guide' target=\"_blank\">docs</a>)<br>Sweep page: <a href='https://wandb.ai/A2_DA6401_DL/Lightning_CNN/sweeps/8km3fqmz' target=\"_blank\">https://wandb.ai/A2_DA6401_DL/Lightning_CNN/sweeps/8km3fqmz</a>"
      ],
      "text/plain": [
       "<IPython.core.display.HTML object>"
      ]
     },
     "metadata": {},
     "output_type": "display_data"
    },
    {
     "data": {
      "text/html": [
       " View project at <a href='https://wandb.ai/A2_DA6401_DL/Lightning_CNN' target=\"_blank\">https://wandb.ai/A2_DA6401_DL/Lightning_CNN</a>"
      ],
      "text/plain": [
       "<IPython.core.display.HTML object>"
      ]
     },
     "metadata": {},
     "output_type": "display_data"
    },
    {
     "data": {
      "text/html": [
       " View sweep at <a href='https://wandb.ai/A2_DA6401_DL/Lightning_CNN/sweeps/8km3fqmz' target=\"_blank\">https://wandb.ai/A2_DA6401_DL/Lightning_CNN/sweeps/8km3fqmz</a>"
      ],
      "text/plain": [
       "<IPython.core.display.HTML object>"
      ]
     },
     "metadata": {},
     "output_type": "display_data"
    },
    {
     "data": {
      "text/html": [
       " View run at <a href='https://wandb.ai/A2_DA6401_DL/Lightning_CNN/runs/doo6yvg0' target=\"_blank\">https://wandb.ai/A2_DA6401_DL/Lightning_CNN/runs/doo6yvg0</a>"
      ],
      "text/plain": [
       "<IPython.core.display.HTML object>"
      ]
     },
     "metadata": {},
     "output_type": "display_data"
    },
    {
     "name": "stderr",
     "output_type": "stream",
     "text": [
      "You are using the plain ModelCheckpoint callback. Consider using LitModelCheckpoint which with seamless uploading to Model registry.\n",
      "GPU available: True (cuda), used: True\n",
      "TPU available: False, using: 0 TPU cores\n",
      "HPU available: False, using: 0 HPUs\n",
      "/home/joel/Pytorch_CUDA/virt_env/lib/python3.12/site-packages/lightning/pytorch/loggers/wandb.py:397: There is a wandb run already in progress and newly created instances of `WandbLogger` will reuse this run. If this is not desired, call `wandb.finish()` before instantiating `WandbLogger`.\n",
      "LOCAL_RANK: 0 - CUDA_VISIBLE_DEVICES: [0]\n",
      "\n",
      "  | Name       | Type               | Params | Mode \n",
      "----------------------------------------------------------\n",
      "0 | model      | CNN_               | 4.6 M  | train\n",
      "1 | loss_fn    | CrossEntropyLoss   | 0      | train\n",
      "2 | acc_metric | MulticlassAccuracy | 0      | train\n",
      "----------------------------------------------------------\n",
      "4.6 M     Trainable params\n",
      "0         Non-trainable params\n",
      "4.6 M     Total params\n",
      "18.328    Total estimated model params size (MB)\n",
      "43        Modules in train mode\n",
      "0         Modules in eval mode\n"
     ]
    },
    {
     "data": {
      "application/vnd.jupyter.widget-view+json": {
       "model_id": "6c1a26885d734dae9beb73c12142c3dd",
       "version_major": 2,
       "version_minor": 0
      },
      "text/plain": [
       "Sanity Checking: |          | 0/? [00:00<?, ?it/s]"
      ]
     },
     "metadata": {},
     "output_type": "display_data"
    },
    {
     "data": {
      "application/vnd.jupyter.widget-view+json": {
       "model_id": "6f616155606d4d8da14f56667c12ba64",
       "version_major": 2,
       "version_minor": 0
      },
      "text/plain": [
       "Training: |          | 0/? [00:00<?, ?it/s]"
      ]
     },
     "metadata": {},
     "output_type": "display_data"
    },
    {
     "data": {
      "application/vnd.jupyter.widget-view+json": {
       "model_id": "2c10f8b97f6c42058c0c12e98b283d37",
       "version_major": 2,
       "version_minor": 0
      },
      "text/plain": [
       "Validation: |          | 0/? [00:00<?, ?it/s]"
      ]
     },
     "metadata": {},
     "output_type": "display_data"
    },
    {
     "data": {
      "application/vnd.jupyter.widget-view+json": {
       "model_id": "fb2098dc61324f8ca5abba6d45ce98e0",
       "version_major": 2,
       "version_minor": 0
      },
      "text/plain": [
       "Validation: |          | 0/? [00:00<?, ?it/s]"
      ]
     },
     "metadata": {},
     "output_type": "display_data"
    },
    {
     "data": {
      "application/vnd.jupyter.widget-view+json": {
       "model_id": "3b7e5dcb3aa4451ea1db72c3ae61e9c6",
       "version_major": 2,
       "version_minor": 0
      },
      "text/plain": [
       "Validation: |          | 0/? [00:00<?, ?it/s]"
      ]
     },
     "metadata": {},
     "output_type": "display_data"
    },
    {
     "data": {
      "application/vnd.jupyter.widget-view+json": {
       "model_id": "73c940ca28194d3dbeaa67485399eb46",
       "version_major": 2,
       "version_minor": 0
      },
      "text/plain": [
       "Validation: |          | 0/? [00:00<?, ?it/s]"
      ]
     },
     "metadata": {},
     "output_type": "display_data"
    },
    {
     "data": {
      "application/vnd.jupyter.widget-view+json": {
       "model_id": "178beaf9338e4e7faddb7033ec64d7d6",
       "version_major": 2,
       "version_minor": 0
      },
      "text/plain": [
       "Validation: |          | 0/? [00:00<?, ?it/s]"
      ]
     },
     "metadata": {},
     "output_type": "display_data"
    },
    {
     "data": {
      "application/vnd.jupyter.widget-view+json": {
       "model_id": "ac80f241b8cd4f2891d168fcbc3379c3",
       "version_major": 2,
       "version_minor": 0
      },
      "text/plain": [
       "Validation: |          | 0/? [00:00<?, ?it/s]"
      ]
     },
     "metadata": {},
     "output_type": "display_data"
    },
    {
     "data": {
      "application/vnd.jupyter.widget-view+json": {
       "model_id": "f9e45fdf2e974904ab4f695cc6a703ad",
       "version_major": 2,
       "version_minor": 0
      },
      "text/plain": [
       "Validation: |          | 0/? [00:00<?, ?it/s]"
      ]
     },
     "metadata": {},
     "output_type": "display_data"
    },
    {
     "data": {
      "application/vnd.jupyter.widget-view+json": {
       "model_id": "df8590e99d3c479e871bfc351e9ed56b",
       "version_major": 2,
       "version_minor": 0
      },
      "text/plain": [
       "Validation: |          | 0/? [00:00<?, ?it/s]"
      ]
     },
     "metadata": {},
     "output_type": "display_data"
    },
    {
     "data": {
      "application/vnd.jupyter.widget-view+json": {
       "model_id": "0b373ba8c6af4f53aebddb61744b3aa5",
       "version_major": 2,
       "version_minor": 0
      },
      "text/plain": [
       "Validation: |          | 0/? [00:00<?, ?it/s]"
      ]
     },
     "metadata": {},
     "output_type": "display_data"
    },
    {
     "data": {
      "application/vnd.jupyter.widget-view+json": {
       "model_id": "ab45bf8ee78343e3860dcb080e2e4d45",
       "version_major": 2,
       "version_minor": 0
      },
      "text/plain": [
       "Validation: |          | 0/? [00:00<?, ?it/s]"
      ]
     },
     "metadata": {},
     "output_type": "display_data"
    },
    {
     "data": {
      "application/vnd.jupyter.widget-view+json": {
       "model_id": "41be5d3eb0e04ec4adf88d4128efad94",
       "version_major": 2,
       "version_minor": 0
      },
      "text/plain": [
       "Validation: |          | 0/? [00:00<?, ?it/s]"
      ]
     },
     "metadata": {},
     "output_type": "display_data"
    },
    {
     "data": {
      "application/vnd.jupyter.widget-view+json": {
       "model_id": "0e3b152c60c7445886f282d3b8147684",
       "version_major": 2,
       "version_minor": 0
      },
      "text/plain": [
       "Validation: |          | 0/? [00:00<?, ?it/s]"
      ]
     },
     "metadata": {},
     "output_type": "display_data"
    },
    {
     "data": {
      "application/vnd.jupyter.widget-view+json": {
       "model_id": "87e66f0282d1478ab25a104c552e7462",
       "version_major": 2,
       "version_minor": 0
      },
      "text/plain": [
       "Validation: |          | 0/? [00:00<?, ?it/s]"
      ]
     },
     "metadata": {},
     "output_type": "display_data"
    },
    {
     "data": {
      "application/vnd.jupyter.widget-view+json": {
       "model_id": "8cfa9d09b7204ffaa221962b2a9a7e04",
       "version_major": 2,
       "version_minor": 0
      },
      "text/plain": [
       "Validation: |          | 0/? [00:00<?, ?it/s]"
      ]
     },
     "metadata": {},
     "output_type": "display_data"
    },
    {
     "data": {
      "application/vnd.jupyter.widget-view+json": {
       "model_id": "ab938fc505cd4d99bf1ab643b216e55a",
       "version_major": 2,
       "version_minor": 0
      },
      "text/plain": [
       "Validation: |          | 0/? [00:00<?, ?it/s]"
      ]
     },
     "metadata": {},
     "output_type": "display_data"
    },
    {
     "data": {
      "application/vnd.jupyter.widget-view+json": {
       "model_id": "4ed9f293ffaf4310a312dc8c79fcd2a1",
       "version_major": 2,
       "version_minor": 0
      },
      "text/plain": [
       "Validation: |          | 0/? [00:00<?, ?it/s]"
      ]
     },
     "metadata": {},
     "output_type": "display_data"
    },
    {
     "data": {
      "application/vnd.jupyter.widget-view+json": {
       "model_id": "69fc5c05ec814ebea615d64e34572c2b",
       "version_major": 2,
       "version_minor": 0
      },
      "text/plain": [
       "Validation: |          | 0/? [00:00<?, ?it/s]"
      ]
     },
     "metadata": {},
     "output_type": "display_data"
    },
    {
     "data": {
      "application/vnd.jupyter.widget-view+json": {
       "model_id": "03a5abc4a13349a9ac994413655d63e7",
       "version_major": 2,
       "version_minor": 0
      },
      "text/plain": [
       "Validation: |          | 0/? [00:00<?, ?it/s]"
      ]
     },
     "metadata": {},
     "output_type": "display_data"
    },
    {
     "data": {
      "application/vnd.jupyter.widget-view+json": {
       "model_id": "6ce738f925f148f1b4d31da1e4141dd0",
       "version_major": 2,
       "version_minor": 0
      },
      "text/plain": [
       "Validation: |          | 0/? [00:00<?, ?it/s]"
      ]
     },
     "metadata": {},
     "output_type": "display_data"
    },
    {
     "data": {
      "application/vnd.jupyter.widget-view+json": {
       "model_id": "23ee10dbb0674016a9a36299004a8cde",
       "version_major": 2,
       "version_minor": 0
      },
      "text/plain": [
       "Validation: |          | 0/? [00:00<?, ?it/s]"
      ]
     },
     "metadata": {},
     "output_type": "display_data"
    },
    {
     "name": "stderr",
     "output_type": "stream",
     "text": [
      "`Trainer.fit` stopped: `max_epochs=20` reached.\n"
     ]
    },
    {
     "data": {
      "text/html": [],
      "text/plain": [
       "<IPython.core.display.HTML object>"
      ]
     },
     "metadata": {},
     "output_type": "display_data"
    },
    {
     "data": {
      "text/html": [
       "<br>    <style><br>        .wandb-row {<br>            display: flex;<br>            flex-direction: row;<br>            flex-wrap: wrap;<br>            justify-content: flex-start;<br>            width: 100%;<br>        }<br>        .wandb-col {<br>            display: flex;<br>            flex-direction: column;<br>            flex-basis: 100%;<br>            flex: 1;<br>            padding: 10px;<br>        }<br>    </style><br><div class=\"wandb-row\"><div class=\"wandb-col\"><h3>Run history:</h3><br/><table class=\"wandb\"><tr><td>epoch</td><td>▁▁▁▁▂▂▂▂▂▂▃▃▃▃▄▄▄▄▄▄▅▅▅▅▅▅▆▆▆▆▇▇▇▇▇▇████</td></tr><tr><td>train_loss</td><td>█▆▆▅▅▅▅▄▄▄▃▃▃▃▂▂▂▂▁▁</td></tr><tr><td>trainer/global_step</td><td>▁▁▁▁▂▂▂▂▂▂▃▃▃▃▄▄▄▄▄▄▅▅▅▅▅▅▆▆▆▆▇▇▇▇▇▇████</td></tr><tr><td>val_acc</td><td>▁▃▆▄▅█▆▆▇▇▇▆▇███▇▇█▇</td></tr><tr><td>val_loss</td><td>█▆▃▅▄▂▃▃▂▂▂▃▂▂▁▂▂▂▁▂</td></tr></table><br/></div><div class=\"wandb-col\"><h3>Run summary:</h3><br/><table class=\"wandb\"><tr><td>epoch</td><td>19</td></tr><tr><td>train_loss</td><td>2.12347</td></tr><tr><td>trainer/global_step</td><td>2479</td></tr><tr><td>val_acc</td><td>0.2665</td></tr><tr><td>val_loss</td><td>2.18219</td></tr></table><br/></div></div>"
      ],
      "text/plain": [
       "<IPython.core.display.HTML object>"
      ]
     },
     "metadata": {},
     "output_type": "display_data"
    },
    {
     "data": {
      "text/html": [
       " View run <strong style=\"color:#cdcd00\">bs_64_layer_act_LeakyReLU_epoch_20_filter_mul_2_num_filters_16</strong> at: <a href='https://wandb.ai/A2_DA6401_DL/Lightning_CNN/runs/doo6yvg0' target=\"_blank\">https://wandb.ai/A2_DA6401_DL/Lightning_CNN/runs/doo6yvg0</a><br> View project at: <a href='https://wandb.ai/A2_DA6401_DL/Lightning_CNN' target=\"_blank\">https://wandb.ai/A2_DA6401_DL/Lightning_CNN</a><br>Synced 5 W&B file(s), 0 media file(s), 0 artifact file(s) and 0 other file(s)"
      ],
      "text/plain": [
       "<IPython.core.display.HTML object>"
      ]
     },
     "metadata": {},
     "output_type": "display_data"
    },
    {
     "data": {
      "text/html": [
       "Find logs at: <code>./wandb/run-20250416_231036-doo6yvg0/logs</code>"
      ],
      "text/plain": [
       "<IPython.core.display.HTML object>"
      ]
     },
     "metadata": {},
     "output_type": "display_data"
    },
    {
     "name": "stderr",
     "output_type": "stream",
     "text": [
      "\u001b[34m\u001b[1mwandb\u001b[0m: Agent Starting Run: i9v75f5o with config:\n",
      "\u001b[34m\u001b[1mwandb\u001b[0m: \tbatch_norm_conv: True\n",
      "\u001b[34m\u001b[1mwandb\u001b[0m: \tbatch_norm_fc: True\n",
      "\u001b[34m\u001b[1mwandb\u001b[0m: \tbatch_size: 32\n",
      "\u001b[34m\u001b[1mwandb\u001b[0m: \tconv_1_filter_size: 7\n",
      "\u001b[34m\u001b[1mwandb\u001b[0m: \tconv_2_filter_size: 5\n",
      "\u001b[34m\u001b[1mwandb\u001b[0m: \tconv_3_filter_size: 3\n",
      "\u001b[34m\u001b[1mwandb\u001b[0m: \tconv_4_filter_size: 7\n",
      "\u001b[34m\u001b[1mwandb\u001b[0m: \tconv_5_filter_size: 5\n",
      "\u001b[34m\u001b[1mwandb\u001b[0m: \tconv_activation: SiLU\n",
      "\u001b[34m\u001b[1mwandb\u001b[0m: \tconv_padding: [None, None, None, None, None]\n",
      "\u001b[34m\u001b[1mwandb\u001b[0m: \tconv_strides: [1, 1, 1, 1, 1]\n",
      "\u001b[34m\u001b[1mwandb\u001b[0m: \tdata_aug: False\n",
      "\u001b[34m\u001b[1mwandb\u001b[0m: \tdropout_conv: 0\n",
      "\u001b[34m\u001b[1mwandb\u001b[0m: \tdropout_fc: 0.2\n",
      "\u001b[34m\u001b[1mwandb\u001b[0m: \tepochs: 20\n",
      "\u001b[34m\u001b[1mwandb\u001b[0m: \tfc_activations: ReLU\n",
      "\u001b[34m\u001b[1mwandb\u001b[0m: \tfc_neurons: 512\n",
      "\u001b[34m\u001b[1mwandb\u001b[0m: \tfilter_mul: 0.5\n",
      "\u001b[34m\u001b[1mwandb\u001b[0m: \tinput_channels: 3\n",
      "\u001b[34m\u001b[1mwandb\u001b[0m: \tinput_size: [256, 256]\n",
      "\u001b[34m\u001b[1mwandb\u001b[0m: \tlearning_rate: 0.001\n",
      "\u001b[34m\u001b[1mwandb\u001b[0m: \tmp_layer1_kernel_size: 3\n",
      "\u001b[34m\u001b[1mwandb\u001b[0m: \tmp_layer1_stride: 2\n",
      "\u001b[34m\u001b[1mwandb\u001b[0m: \tmp_layer2_kernel_size: 3\n",
      "\u001b[34m\u001b[1mwandb\u001b[0m: \tmp_layer2_stride: 2\n",
      "\u001b[34m\u001b[1mwandb\u001b[0m: \tmp_layer3_kernel_size: 2\n",
      "\u001b[34m\u001b[1mwandb\u001b[0m: \tmp_layer3_stride: 3\n",
      "\u001b[34m\u001b[1mwandb\u001b[0m: \tmp_layer4_kernel_size: 3\n",
      "\u001b[34m\u001b[1mwandb\u001b[0m: \tmp_layer4_stride: 3\n",
      "\u001b[34m\u001b[1mwandb\u001b[0m: \tmp_layer5_kernel_size: 3\n",
      "\u001b[34m\u001b[1mwandb\u001b[0m: \tmp_layer5_stride: 3\n",
      "\u001b[34m\u001b[1mwandb\u001b[0m: \tno_of_conv_blocks: 5\n",
      "\u001b[34m\u001b[1mwandb\u001b[0m: \tno_of_fc_layers: 1\n",
      "\u001b[34m\u001b[1mwandb\u001b[0m: \tno_of_filters: 256\n",
      "\u001b[34m\u001b[1mwandb\u001b[0m: \tnum_classes: 10\n",
      "\u001b[34m\u001b[1mwandb\u001b[0m: \tnum_workers: 10\n"
     ]
    },
    {
     "data": {
      "text/html": [
       "Tracking run with wandb version 0.19.9"
      ],
      "text/plain": [
       "<IPython.core.display.HTML object>"
      ]
     },
     "metadata": {},
     "output_type": "display_data"
    },
    {
     "data": {
      "text/html": [
       "Run data is saved locally in <code>/home/joel/Pytorch_CUDA/wandb/run-20250416_232346-i9v75f5o</code>"
      ],
      "text/plain": [
       "<IPython.core.display.HTML object>"
      ]
     },
     "metadata": {},
     "output_type": "display_data"
    },
    {
     "data": {
      "text/html": [
       "Syncing run <strong><a href='https://wandb.ai/A2_DA6401_DL/Lightning_CNN/runs/i9v75f5o' target=\"_blank\">glamorous-sweep-395</a></strong> to <a href='https://wandb.ai/A2_DA6401_DL/Lightning_CNN' target=\"_blank\">Weights & Biases</a> (<a href='https://wandb.me/developer-guide' target=\"_blank\">docs</a>)<br>Sweep page: <a href='https://wandb.ai/A2_DA6401_DL/Lightning_CNN/sweeps/8km3fqmz' target=\"_blank\">https://wandb.ai/A2_DA6401_DL/Lightning_CNN/sweeps/8km3fqmz</a>"
      ],
      "text/plain": [
       "<IPython.core.display.HTML object>"
      ]
     },
     "metadata": {},
     "output_type": "display_data"
    },
    {
     "data": {
      "text/html": [
       " View project at <a href='https://wandb.ai/A2_DA6401_DL/Lightning_CNN' target=\"_blank\">https://wandb.ai/A2_DA6401_DL/Lightning_CNN</a>"
      ],
      "text/plain": [
       "<IPython.core.display.HTML object>"
      ]
     },
     "metadata": {},
     "output_type": "display_data"
    },
    {
     "data": {
      "text/html": [
       " View sweep at <a href='https://wandb.ai/A2_DA6401_DL/Lightning_CNN/sweeps/8km3fqmz' target=\"_blank\">https://wandb.ai/A2_DA6401_DL/Lightning_CNN/sweeps/8km3fqmz</a>"
      ],
      "text/plain": [
       "<IPython.core.display.HTML object>"
      ]
     },
     "metadata": {},
     "output_type": "display_data"
    },
    {
     "data": {
      "text/html": [
       " View run at <a href='https://wandb.ai/A2_DA6401_DL/Lightning_CNN/runs/i9v75f5o' target=\"_blank\">https://wandb.ai/A2_DA6401_DL/Lightning_CNN/runs/i9v75f5o</a>"
      ],
      "text/plain": [
       "<IPython.core.display.HTML object>"
      ]
     },
     "metadata": {},
     "output_type": "display_data"
    },
    {
     "name": "stderr",
     "output_type": "stream",
     "text": [
      "You are using the plain ModelCheckpoint callback. Consider using LitModelCheckpoint which with seamless uploading to Model registry.\n",
      "GPU available: True (cuda), used: True\n",
      "TPU available: False, using: 0 TPU cores\n",
      "HPU available: False, using: 0 HPUs\n",
      "/home/joel/Pytorch_CUDA/virt_env/lib/python3.12/site-packages/lightning/pytorch/loggers/wandb.py:397: There is a wandb run already in progress and newly created instances of `WandbLogger` will reuse this run. If this is not desired, call `wandb.finish()` before instantiating `WandbLogger`.\n",
      "LOCAL_RANK: 0 - CUDA_VISIBLE_DEVICES: [0]\n",
      "\n",
      "  | Name       | Type               | Params | Mode \n",
      "----------------------------------------------------------\n",
      "0 | model      | CNN_               | 1.1 M  | train\n",
      "1 | loss_fn    | CrossEntropyLoss   | 0      | train\n",
      "2 | acc_metric | MulticlassAccuracy | 0      | train\n",
      "----------------------------------------------------------\n",
      "1.1 M     Trainable params\n",
      "0         Non-trainable params\n",
      "1.1 M     Total params\n",
      "4.339     Total estimated model params size (MB)\n",
      "43        Modules in train mode\n",
      "0         Modules in eval mode\n"
     ]
    },
    {
     "data": {
      "application/vnd.jupyter.widget-view+json": {
       "model_id": "aa54f2094b954075964075504084bc7d",
       "version_major": 2,
       "version_minor": 0
      },
      "text/plain": [
       "Sanity Checking: |          | 0/? [00:00<?, ?it/s]"
      ]
     },
     "metadata": {},
     "output_type": "display_data"
    },
    {
     "name": "stdout",
     "output_type": "stream",
     "text": [
      "⚠️ CUDA Out Of Memory — skipping this run.\n"
     ]
    },
    {
     "data": {
      "text/html": [],
      "text/plain": [
       "<IPython.core.display.HTML object>"
      ]
     },
     "metadata": {},
     "output_type": "display_data"
    },
    {
     "data": {
      "text/html": [
       " View run <strong style=\"color:#cdcd00\">bs_32_layer_act_SiLU_epoch_20_filter_mul_0.5_num_filters_256</strong> at: <a href='https://wandb.ai/A2_DA6401_DL/Lightning_CNN/runs/i9v75f5o' target=\"_blank\">https://wandb.ai/A2_DA6401_DL/Lightning_CNN/runs/i9v75f5o</a><br> View project at: <a href='https://wandb.ai/A2_DA6401_DL/Lightning_CNN' target=\"_blank\">https://wandb.ai/A2_DA6401_DL/Lightning_CNN</a><br>Synced 5 W&B file(s), 0 media file(s), 0 artifact file(s) and 0 other file(s)"
      ],
      "text/plain": [
       "<IPython.core.display.HTML object>"
      ]
     },
     "metadata": {},
     "output_type": "display_data"
    },
    {
     "data": {
      "text/html": [
       "Find logs at: <code>./wandb/run-20250416_232346-i9v75f5o/logs</code>"
      ],
      "text/plain": [
       "<IPython.core.display.HTML object>"
      ]
     },
     "metadata": {},
     "output_type": "display_data"
    },
    {
     "name": "stderr",
     "output_type": "stream",
     "text": [
      "\u001b[34m\u001b[1mwandb\u001b[0m: Sweep Agent: Waiting for job.\n",
      "\u001b[34m\u001b[1mwandb\u001b[0m: Job received.\n",
      "\u001b[34m\u001b[1mwandb\u001b[0m: Agent Starting Run: vq266ii2 with config:\n",
      "\u001b[34m\u001b[1mwandb\u001b[0m: \tbatch_norm_conv: False\n",
      "\u001b[34m\u001b[1mwandb\u001b[0m: \tbatch_norm_fc: True\n",
      "\u001b[34m\u001b[1mwandb\u001b[0m: \tbatch_size: 32\n",
      "\u001b[34m\u001b[1mwandb\u001b[0m: \tconv_1_filter_size: 3\n",
      "\u001b[34m\u001b[1mwandb\u001b[0m: \tconv_2_filter_size: 5\n",
      "\u001b[34m\u001b[1mwandb\u001b[0m: \tconv_3_filter_size: 7\n",
      "\u001b[34m\u001b[1mwandb\u001b[0m: \tconv_4_filter_size: 3\n",
      "\u001b[34m\u001b[1mwandb\u001b[0m: \tconv_5_filter_size: 3\n",
      "\u001b[34m\u001b[1mwandb\u001b[0m: \tconv_activation: GELU\n",
      "\u001b[34m\u001b[1mwandb\u001b[0m: \tconv_padding: [None, None, None, None, None]\n",
      "\u001b[34m\u001b[1mwandb\u001b[0m: \tconv_strides: [1, 1, 1, 1, 1]\n",
      "\u001b[34m\u001b[1mwandb\u001b[0m: \tdata_aug: True\n",
      "\u001b[34m\u001b[1mwandb\u001b[0m: \tdropout_conv: 0.1\n",
      "\u001b[34m\u001b[1mwandb\u001b[0m: \tdropout_fc: 0\n",
      "\u001b[34m\u001b[1mwandb\u001b[0m: \tepochs: 20\n",
      "\u001b[34m\u001b[1mwandb\u001b[0m: \tfc_activations: GELU\n",
      "\u001b[34m\u001b[1mwandb\u001b[0m: \tfc_neurons: 512\n",
      "\u001b[34m\u001b[1mwandb\u001b[0m: \tfilter_mul: 2\n",
      "\u001b[34m\u001b[1mwandb\u001b[0m: \tinput_channels: 3\n",
      "\u001b[34m\u001b[1mwandb\u001b[0m: \tinput_size: [256, 256]\n",
      "\u001b[34m\u001b[1mwandb\u001b[0m: \tlearning_rate: 0.001\n",
      "\u001b[34m\u001b[1mwandb\u001b[0m: \tmp_layer1_kernel_size: 3\n",
      "\u001b[34m\u001b[1mwandb\u001b[0m: \tmp_layer1_stride: 3\n",
      "\u001b[34m\u001b[1mwandb\u001b[0m: \tmp_layer2_kernel_size: 3\n",
      "\u001b[34m\u001b[1mwandb\u001b[0m: \tmp_layer2_stride: 3\n",
      "\u001b[34m\u001b[1mwandb\u001b[0m: \tmp_layer3_kernel_size: 3\n",
      "\u001b[34m\u001b[1mwandb\u001b[0m: \tmp_layer3_stride: 3\n",
      "\u001b[34m\u001b[1mwandb\u001b[0m: \tmp_layer4_kernel_size: 3\n",
      "\u001b[34m\u001b[1mwandb\u001b[0m: \tmp_layer4_stride: 3\n",
      "\u001b[34m\u001b[1mwandb\u001b[0m: \tmp_layer5_kernel_size: 3\n",
      "\u001b[34m\u001b[1mwandb\u001b[0m: \tmp_layer5_stride: 2\n",
      "\u001b[34m\u001b[1mwandb\u001b[0m: \tno_of_conv_blocks: 5\n",
      "\u001b[34m\u001b[1mwandb\u001b[0m: \tno_of_fc_layers: 1\n",
      "\u001b[34m\u001b[1mwandb\u001b[0m: \tno_of_filters: 64\n",
      "\u001b[34m\u001b[1mwandb\u001b[0m: \tnum_classes: 10\n",
      "\u001b[34m\u001b[1mwandb\u001b[0m: \tnum_workers: 10\n"
     ]
    },
    {
     "data": {
      "text/html": [
       "Tracking run with wandb version 0.19.9"
      ],
      "text/plain": [
       "<IPython.core.display.HTML object>"
      ]
     },
     "metadata": {},
     "output_type": "display_data"
    },
    {
     "data": {
      "text/html": [
       "Run data is saved locally in <code>/home/joel/Pytorch_CUDA/wandb/run-20250416_232401-vq266ii2</code>"
      ],
      "text/plain": [
       "<IPython.core.display.HTML object>"
      ]
     },
     "metadata": {},
     "output_type": "display_data"
    },
    {
     "data": {
      "text/html": [
       "Syncing run <strong><a href='https://wandb.ai/A2_DA6401_DL/Lightning_CNN/runs/vq266ii2' target=\"_blank\">decent-sweep-396</a></strong> to <a href='https://wandb.ai/A2_DA6401_DL/Lightning_CNN' target=\"_blank\">Weights & Biases</a> (<a href='https://wandb.me/developer-guide' target=\"_blank\">docs</a>)<br>Sweep page: <a href='https://wandb.ai/A2_DA6401_DL/Lightning_CNN/sweeps/8km3fqmz' target=\"_blank\">https://wandb.ai/A2_DA6401_DL/Lightning_CNN/sweeps/8km3fqmz</a>"
      ],
      "text/plain": [
       "<IPython.core.display.HTML object>"
      ]
     },
     "metadata": {},
     "output_type": "display_data"
    },
    {
     "data": {
      "text/html": [
       " View project at <a href='https://wandb.ai/A2_DA6401_DL/Lightning_CNN' target=\"_blank\">https://wandb.ai/A2_DA6401_DL/Lightning_CNN</a>"
      ],
      "text/plain": [
       "<IPython.core.display.HTML object>"
      ]
     },
     "metadata": {},
     "output_type": "display_data"
    },
    {
     "data": {
      "text/html": [
       " View sweep at <a href='https://wandb.ai/A2_DA6401_DL/Lightning_CNN/sweeps/8km3fqmz' target=\"_blank\">https://wandb.ai/A2_DA6401_DL/Lightning_CNN/sweeps/8km3fqmz</a>"
      ],
      "text/plain": [
       "<IPython.core.display.HTML object>"
      ]
     },
     "metadata": {},
     "output_type": "display_data"
    },
    {
     "data": {
      "text/html": [
       " View run at <a href='https://wandb.ai/A2_DA6401_DL/Lightning_CNN/runs/vq266ii2' target=\"_blank\">https://wandb.ai/A2_DA6401_DL/Lightning_CNN/runs/vq266ii2</a>"
      ],
      "text/plain": [
       "<IPython.core.display.HTML object>"
      ]
     },
     "metadata": {},
     "output_type": "display_data"
    },
    {
     "name": "stdout",
     "output_type": "stream",
     "text": [
      "Not a good combination !!!\n"
     ]
    },
    {
     "data": {
      "text/html": [],
      "text/plain": [
       "<IPython.core.display.HTML object>"
      ]
     },
     "metadata": {},
     "output_type": "display_data"
    },
    {
     "data": {
      "text/html": [
       " View run <strong style=\"color:#cdcd00\">bs_32_layer_act_GELU_epoch_20_filter_mul_2_num_filters_64</strong> at: <a href='https://wandb.ai/A2_DA6401_DL/Lightning_CNN/runs/vq266ii2' target=\"_blank\">https://wandb.ai/A2_DA6401_DL/Lightning_CNN/runs/vq266ii2</a><br> View project at: <a href='https://wandb.ai/A2_DA6401_DL/Lightning_CNN' target=\"_blank\">https://wandb.ai/A2_DA6401_DL/Lightning_CNN</a><br>Synced 5 W&B file(s), 0 media file(s), 0 artifact file(s) and 0 other file(s)"
      ],
      "text/plain": [
       "<IPython.core.display.HTML object>"
      ]
     },
     "metadata": {},
     "output_type": "display_data"
    },
    {
     "data": {
      "text/html": [
       "Find logs at: <code>./wandb/run-20250416_232401-vq266ii2/logs</code>"
      ],
      "text/plain": [
       "<IPython.core.display.HTML object>"
      ]
     },
     "metadata": {},
     "output_type": "display_data"
    },
    {
     "name": "stderr",
     "output_type": "stream",
     "text": [
      "\u001b[34m\u001b[1mwandb\u001b[0m: Agent Starting Run: 5zm8tyix with config:\n",
      "\u001b[34m\u001b[1mwandb\u001b[0m: \tbatch_norm_conv: False\n",
      "\u001b[34m\u001b[1mwandb\u001b[0m: \tbatch_norm_fc: True\n",
      "\u001b[34m\u001b[1mwandb\u001b[0m: \tbatch_size: 64\n",
      "\u001b[34m\u001b[1mwandb\u001b[0m: \tconv_1_filter_size: 5\n",
      "\u001b[34m\u001b[1mwandb\u001b[0m: \tconv_2_filter_size: 7\n",
      "\u001b[34m\u001b[1mwandb\u001b[0m: \tconv_3_filter_size: 5\n",
      "\u001b[34m\u001b[1mwandb\u001b[0m: \tconv_4_filter_size: 7\n",
      "\u001b[34m\u001b[1mwandb\u001b[0m: \tconv_5_filter_size: 7\n",
      "\u001b[34m\u001b[1mwandb\u001b[0m: \tconv_activation: SiLU\n",
      "\u001b[34m\u001b[1mwandb\u001b[0m: \tconv_padding: [None, None, None, None, None]\n",
      "\u001b[34m\u001b[1mwandb\u001b[0m: \tconv_strides: [1, 1, 1, 1, 1]\n",
      "\u001b[34m\u001b[1mwandb\u001b[0m: \tdata_aug: True\n",
      "\u001b[34m\u001b[1mwandb\u001b[0m: \tdropout_conv: 0.1\n",
      "\u001b[34m\u001b[1mwandb\u001b[0m: \tdropout_fc: 0.2\n",
      "\u001b[34m\u001b[1mwandb\u001b[0m: \tepochs: 20\n",
      "\u001b[34m\u001b[1mwandb\u001b[0m: \tfc_activations: SiLU\n",
      "\u001b[34m\u001b[1mwandb\u001b[0m: \tfc_neurons: 512\n",
      "\u001b[34m\u001b[1mwandb\u001b[0m: \tfilter_mul: 1\n",
      "\u001b[34m\u001b[1mwandb\u001b[0m: \tinput_channels: 3\n",
      "\u001b[34m\u001b[1mwandb\u001b[0m: \tinput_size: [256, 256]\n",
      "\u001b[34m\u001b[1mwandb\u001b[0m: \tlearning_rate: 0.001\n",
      "\u001b[34m\u001b[1mwandb\u001b[0m: \tmp_layer1_kernel_size: 5\n",
      "\u001b[34m\u001b[1mwandb\u001b[0m: \tmp_layer1_stride: 2\n",
      "\u001b[34m\u001b[1mwandb\u001b[0m: \tmp_layer2_kernel_size: 5\n",
      "\u001b[34m\u001b[1mwandb\u001b[0m: \tmp_layer2_stride: 3\n",
      "\u001b[34m\u001b[1mwandb\u001b[0m: \tmp_layer3_kernel_size: 5\n",
      "\u001b[34m\u001b[1mwandb\u001b[0m: \tmp_layer3_stride: 3\n",
      "\u001b[34m\u001b[1mwandb\u001b[0m: \tmp_layer4_kernel_size: 3\n",
      "\u001b[34m\u001b[1mwandb\u001b[0m: \tmp_layer4_stride: 3\n",
      "\u001b[34m\u001b[1mwandb\u001b[0m: \tmp_layer5_kernel_size: 3\n",
      "\u001b[34m\u001b[1mwandb\u001b[0m: \tmp_layer5_stride: 2\n",
      "\u001b[34m\u001b[1mwandb\u001b[0m: \tno_of_conv_blocks: 5\n",
      "\u001b[34m\u001b[1mwandb\u001b[0m: \tno_of_fc_layers: 1\n",
      "\u001b[34m\u001b[1mwandb\u001b[0m: \tno_of_filters: 32\n",
      "\u001b[34m\u001b[1mwandb\u001b[0m: \tnum_classes: 10\n",
      "\u001b[34m\u001b[1mwandb\u001b[0m: \tnum_workers: 10\n"
     ]
    },
    {
     "data": {
      "text/html": [
       "Tracking run with wandb version 0.19.9"
      ],
      "text/plain": [
       "<IPython.core.display.HTML object>"
      ]
     },
     "metadata": {},
     "output_type": "display_data"
    },
    {
     "data": {
      "text/html": [
       "Run data is saved locally in <code>/home/joel/Pytorch_CUDA/wandb/run-20250416_232407-5zm8tyix</code>"
      ],
      "text/plain": [
       "<IPython.core.display.HTML object>"
      ]
     },
     "metadata": {},
     "output_type": "display_data"
    },
    {
     "data": {
      "text/html": [
       "Syncing run <strong><a href='https://wandb.ai/A2_DA6401_DL/Lightning_CNN/runs/5zm8tyix' target=\"_blank\">polar-sweep-398</a></strong> to <a href='https://wandb.ai/A2_DA6401_DL/Lightning_CNN' target=\"_blank\">Weights & Biases</a> (<a href='https://wandb.me/developer-guide' target=\"_blank\">docs</a>)<br>Sweep page: <a href='https://wandb.ai/A2_DA6401_DL/Lightning_CNN/sweeps/8km3fqmz' target=\"_blank\">https://wandb.ai/A2_DA6401_DL/Lightning_CNN/sweeps/8km3fqmz</a>"
      ],
      "text/plain": [
       "<IPython.core.display.HTML object>"
      ]
     },
     "metadata": {},
     "output_type": "display_data"
    },
    {
     "data": {
      "text/html": [
       " View project at <a href='https://wandb.ai/A2_DA6401_DL/Lightning_CNN' target=\"_blank\">https://wandb.ai/A2_DA6401_DL/Lightning_CNN</a>"
      ],
      "text/plain": [
       "<IPython.core.display.HTML object>"
      ]
     },
     "metadata": {},
     "output_type": "display_data"
    },
    {
     "data": {
      "text/html": [
       " View sweep at <a href='https://wandb.ai/A2_DA6401_DL/Lightning_CNN/sweeps/8km3fqmz' target=\"_blank\">https://wandb.ai/A2_DA6401_DL/Lightning_CNN/sweeps/8km3fqmz</a>"
      ],
      "text/plain": [
       "<IPython.core.display.HTML object>"
      ]
     },
     "metadata": {},
     "output_type": "display_data"
    },
    {
     "data": {
      "text/html": [
       " View run at <a href='https://wandb.ai/A2_DA6401_DL/Lightning_CNN/runs/5zm8tyix' target=\"_blank\">https://wandb.ai/A2_DA6401_DL/Lightning_CNN/runs/5zm8tyix</a>"
      ],
      "text/plain": [
       "<IPython.core.display.HTML object>"
      ]
     },
     "metadata": {},
     "output_type": "display_data"
    },
    {
     "name": "stderr",
     "output_type": "stream",
     "text": [
      "You are using the plain ModelCheckpoint callback. Consider using LitModelCheckpoint which with seamless uploading to Model registry.\n",
      "GPU available: True (cuda), used: True\n",
      "TPU available: False, using: 0 TPU cores\n",
      "HPU available: False, using: 0 HPUs\n",
      "/home/joel/Pytorch_CUDA/virt_env/lib/python3.12/site-packages/lightning/pytorch/loggers/wandb.py:397: There is a wandb run already in progress and newly created instances of `WandbLogger` will reuse this run. If this is not desired, call `wandb.finish()` before instantiating `WandbLogger`.\n",
      "LOCAL_RANK: 0 - CUDA_VISIBLE_DEVICES: [0]\n",
      "\n",
      "  | Name       | Type               | Params | Mode \n",
      "----------------------------------------------------------\n",
      "0 | model      | CNN_               | 201 K  | train\n",
      "1 | loss_fn    | CrossEntropyLoss   | 0      | train\n",
      "2 | acc_metric | MulticlassAccuracy | 0      | train\n",
      "----------------------------------------------------------\n",
      "201 K     Trainable params\n",
      "0         Non-trainable params\n",
      "201 K     Total params\n",
      "0.807     Total estimated model params size (MB)\n",
      "43        Modules in train mode\n",
      "0         Modules in eval mode\n"
     ]
    },
    {
     "data": {
      "application/vnd.jupyter.widget-view+json": {
       "model_id": "5e12870e276f423f9cde51261c307754",
       "version_major": 2,
       "version_minor": 0
      },
      "text/plain": [
       "Sanity Checking: |          | 0/? [00:00<?, ?it/s]"
      ]
     },
     "metadata": {},
     "output_type": "display_data"
    },
    {
     "data": {
      "application/vnd.jupyter.widget-view+json": {
       "model_id": "acc366ae5be1474b8656d53cf030e44c",
       "version_major": 2,
       "version_minor": 0
      },
      "text/plain": [
       "Training: |          | 0/? [00:00<?, ?it/s]"
      ]
     },
     "metadata": {},
     "output_type": "display_data"
    },
    {
     "data": {
      "application/vnd.jupyter.widget-view+json": {
       "model_id": "3cec6fa55b994cd1a12fecb6b10fcc41",
       "version_major": 2,
       "version_minor": 0
      },
      "text/plain": [
       "Validation: |          | 0/? [00:00<?, ?it/s]"
      ]
     },
     "metadata": {},
     "output_type": "display_data"
    },
    {
     "data": {
      "application/vnd.jupyter.widget-view+json": {
       "model_id": "ee79b6312bab47328b7afcd7c651a610",
       "version_major": 2,
       "version_minor": 0
      },
      "text/plain": [
       "Validation: |          | 0/? [00:00<?, ?it/s]"
      ]
     },
     "metadata": {},
     "output_type": "display_data"
    },
    {
     "data": {
      "application/vnd.jupyter.widget-view+json": {
       "model_id": "8d205477fe234a09b99173b06f7da303",
       "version_major": 2,
       "version_minor": 0
      },
      "text/plain": [
       "Validation: |          | 0/? [00:00<?, ?it/s]"
      ]
     },
     "metadata": {},
     "output_type": "display_data"
    },
    {
     "data": {
      "application/vnd.jupyter.widget-view+json": {
       "model_id": "224c0111dd0940ad8f79b4613f2c6275",
       "version_major": 2,
       "version_minor": 0
      },
      "text/plain": [
       "Validation: |          | 0/? [00:00<?, ?it/s]"
      ]
     },
     "metadata": {},
     "output_type": "display_data"
    },
    {
     "data": {
      "application/vnd.jupyter.widget-view+json": {
       "model_id": "2a041051afc84a9eb7d8e2328027d839",
       "version_major": 2,
       "version_minor": 0
      },
      "text/plain": [
       "Validation: |          | 0/? [00:00<?, ?it/s]"
      ]
     },
     "metadata": {},
     "output_type": "display_data"
    },
    {
     "data": {
      "application/vnd.jupyter.widget-view+json": {
       "model_id": "d6899ff185f5489e8e1cc6f321eb54b9",
       "version_major": 2,
       "version_minor": 0
      },
      "text/plain": [
       "Validation: |          | 0/? [00:00<?, ?it/s]"
      ]
     },
     "metadata": {},
     "output_type": "display_data"
    },
    {
     "data": {
      "application/vnd.jupyter.widget-view+json": {
       "model_id": "aa8f482e095c47dc9e1a70235ca7e6bc",
       "version_major": 2,
       "version_minor": 0
      },
      "text/plain": [
       "Validation: |          | 0/? [00:00<?, ?it/s]"
      ]
     },
     "metadata": {},
     "output_type": "display_data"
    },
    {
     "data": {
      "application/vnd.jupyter.widget-view+json": {
       "model_id": "c18ce36bb6a94534adb09783b138cde2",
       "version_major": 2,
       "version_minor": 0
      },
      "text/plain": [
       "Validation: |          | 0/? [00:00<?, ?it/s]"
      ]
     },
     "metadata": {},
     "output_type": "display_data"
    },
    {
     "data": {
      "application/vnd.jupyter.widget-view+json": {
       "model_id": "619400d551e642b18f37cdd99ee37de5",
       "version_major": 2,
       "version_minor": 0
      },
      "text/plain": [
       "Validation: |          | 0/? [00:00<?, ?it/s]"
      ]
     },
     "metadata": {},
     "output_type": "display_data"
    },
    {
     "data": {
      "application/vnd.jupyter.widget-view+json": {
       "model_id": "4f58a13738ff45a3962849f8ee400cb4",
       "version_major": 2,
       "version_minor": 0
      },
      "text/plain": [
       "Validation: |          | 0/? [00:00<?, ?it/s]"
      ]
     },
     "metadata": {},
     "output_type": "display_data"
    },
    {
     "data": {
      "application/vnd.jupyter.widget-view+json": {
       "model_id": "c710ec95d14c420bb58b3bb727dab11b",
       "version_major": 2,
       "version_minor": 0
      },
      "text/plain": [
       "Validation: |          | 0/? [00:00<?, ?it/s]"
      ]
     },
     "metadata": {},
     "output_type": "display_data"
    },
    {
     "data": {
      "application/vnd.jupyter.widget-view+json": {
       "model_id": "980c915f57e94691be3ad8ff9ec84861",
       "version_major": 2,
       "version_minor": 0
      },
      "text/plain": [
       "Validation: |          | 0/? [00:00<?, ?it/s]"
      ]
     },
     "metadata": {},
     "output_type": "display_data"
    },
    {
     "data": {
      "application/vnd.jupyter.widget-view+json": {
       "model_id": "3229ea5a906a4c14a338ff8abdf557e3",
       "version_major": 2,
       "version_minor": 0
      },
      "text/plain": [
       "Validation: |          | 0/? [00:00<?, ?it/s]"
      ]
     },
     "metadata": {},
     "output_type": "display_data"
    },
    {
     "data": {
      "application/vnd.jupyter.widget-view+json": {
       "model_id": "860d5a5df04d4af1bb2ec8218e1ef3a2",
       "version_major": 2,
       "version_minor": 0
      },
      "text/plain": [
       "Validation: |          | 0/? [00:00<?, ?it/s]"
      ]
     },
     "metadata": {},
     "output_type": "display_data"
    },
    {
     "data": {
      "application/vnd.jupyter.widget-view+json": {
       "model_id": "2a35d70e9bf04e2c875dd003fcc79078",
       "version_major": 2,
       "version_minor": 0
      },
      "text/plain": [
       "Validation: |          | 0/? [00:00<?, ?it/s]"
      ]
     },
     "metadata": {},
     "output_type": "display_data"
    },
    {
     "data": {
      "application/vnd.jupyter.widget-view+json": {
       "model_id": "650804bb247c4028af006bdf684172d4",
       "version_major": 2,
       "version_minor": 0
      },
      "text/plain": [
       "Validation: |          | 0/? [00:00<?, ?it/s]"
      ]
     },
     "metadata": {},
     "output_type": "display_data"
    },
    {
     "data": {
      "application/vnd.jupyter.widget-view+json": {
       "model_id": "24f91c74a3fd48798570df86328802b6",
       "version_major": 2,
       "version_minor": 0
      },
      "text/plain": [
       "Validation: |          | 0/? [00:00<?, ?it/s]"
      ]
     },
     "metadata": {},
     "output_type": "display_data"
    },
    {
     "data": {
      "application/vnd.jupyter.widget-view+json": {
       "model_id": "9e045246e27e445a84b0efb1b3033b67",
       "version_major": 2,
       "version_minor": 0
      },
      "text/plain": [
       "Validation: |          | 0/? [00:00<?, ?it/s]"
      ]
     },
     "metadata": {},
     "output_type": "display_data"
    },
    {
     "data": {
      "application/vnd.jupyter.widget-view+json": {
       "model_id": "ed9e0eb0be134938993cce66b60e65e5",
       "version_major": 2,
       "version_minor": 0
      },
      "text/plain": [
       "Validation: |          | 0/? [00:00<?, ?it/s]"
      ]
     },
     "metadata": {},
     "output_type": "display_data"
    },
    {
     "data": {
      "application/vnd.jupyter.widget-view+json": {
       "model_id": "b6f2927aaf9b4531b03b9a64996bff24",
       "version_major": 2,
       "version_minor": 0
      },
      "text/plain": [
       "Validation: |          | 0/? [00:00<?, ?it/s]"
      ]
     },
     "metadata": {},
     "output_type": "display_data"
    },
    {
     "name": "stderr",
     "output_type": "stream",
     "text": [
      "`Trainer.fit` stopped: `max_epochs=20` reached.\n"
     ]
    },
    {
     "data": {
      "text/html": [],
      "text/plain": [
       "<IPython.core.display.HTML object>"
      ]
     },
     "metadata": {},
     "output_type": "display_data"
    },
    {
     "data": {
      "text/html": [
       "<br>    <style><br>        .wandb-row {<br>            display: flex;<br>            flex-direction: row;<br>            flex-wrap: wrap;<br>            justify-content: flex-start;<br>            width: 100%;<br>        }<br>        .wandb-col {<br>            display: flex;<br>            flex-direction: column;<br>            flex-basis: 100%;<br>            flex: 1;<br>            padding: 10px;<br>        }<br>    </style><br><div class=\"wandb-row\"><div class=\"wandb-col\"><h3>Run history:</h3><br/><table class=\"wandb\"><tr><td>epoch</td><td>▁▁▁▁▂▂▂▂▂▂▃▃▃▃▄▄▄▄▄▄▅▅▅▅▅▅▆▆▆▆▇▇▇▇▇▇████</td></tr><tr><td>train_loss</td><td>█▇▆▅▄▅▄▄▃▃▃▃▃▃▂▂▂▁▁▁</td></tr><tr><td>trainer/global_step</td><td>▁▁▁▁▂▂▂▂▂▂▃▃▃▃▄▄▄▄▄▄▅▅▅▅▅▅▆▆▆▆▇▇▇▇▇▇████</td></tr><tr><td>val_acc</td><td>▁▁▄▄▃▃▄▅▅▅▄▇▆▆▇▇█▇▇█</td></tr><tr><td>val_loss</td><td>██▆▆▆▇▅▄▄▃▅▂▄▃▂▂▁▁▂▁</td></tr></table><br/></div><div class=\"wandb-col\"><h3>Run summary:</h3><br/><table class=\"wandb\"><tr><td>epoch</td><td>19</td></tr><tr><td>train_loss</td><td>2.11815</td></tr><tr><td>trainer/global_step</td><td>2479</td></tr><tr><td>val_acc</td><td>0.3235</td></tr><tr><td>val_loss</td><td>2.13312</td></tr></table><br/></div></div>"
      ],
      "text/plain": [
       "<IPython.core.display.HTML object>"
      ]
     },
     "metadata": {},
     "output_type": "display_data"
    },
    {
     "data": {
      "text/html": [
       " View run <strong style=\"color:#cdcd00\">bs_64_layer_act_SiLU_epoch_20_filter_mul_1_num_filters_32</strong> at: <a href='https://wandb.ai/A2_DA6401_DL/Lightning_CNN/runs/5zm8tyix' target=\"_blank\">https://wandb.ai/A2_DA6401_DL/Lightning_CNN/runs/5zm8tyix</a><br> View project at: <a href='https://wandb.ai/A2_DA6401_DL/Lightning_CNN' target=\"_blank\">https://wandb.ai/A2_DA6401_DL/Lightning_CNN</a><br>Synced 5 W&B file(s), 0 media file(s), 0 artifact file(s) and 0 other file(s)"
      ],
      "text/plain": [
       "<IPython.core.display.HTML object>"
      ]
     },
     "metadata": {},
     "output_type": "display_data"
    },
    {
     "data": {
      "text/html": [
       "Find logs at: <code>./wandb/run-20250416_232407-5zm8tyix/logs</code>"
      ],
      "text/plain": [
       "<IPython.core.display.HTML object>"
      ]
     },
     "metadata": {},
     "output_type": "display_data"
    },
    {
     "name": "stderr",
     "output_type": "stream",
     "text": [
      "\u001b[34m\u001b[1mwandb\u001b[0m: Agent Starting Run: f93zz80a with config:\n",
      "\u001b[34m\u001b[1mwandb\u001b[0m: \tbatch_norm_conv: False\n",
      "\u001b[34m\u001b[1mwandb\u001b[0m: \tbatch_norm_fc: True\n",
      "\u001b[34m\u001b[1mwandb\u001b[0m: \tbatch_size: 64\n",
      "\u001b[34m\u001b[1mwandb\u001b[0m: \tconv_1_filter_size: 7\n",
      "\u001b[34m\u001b[1mwandb\u001b[0m: \tconv_2_filter_size: 5\n",
      "\u001b[34m\u001b[1mwandb\u001b[0m: \tconv_3_filter_size: 5\n",
      "\u001b[34m\u001b[1mwandb\u001b[0m: \tconv_4_filter_size: 7\n",
      "\u001b[34m\u001b[1mwandb\u001b[0m: \tconv_5_filter_size: 5\n",
      "\u001b[34m\u001b[1mwandb\u001b[0m: \tconv_activation: SiLU\n",
      "\u001b[34m\u001b[1mwandb\u001b[0m: \tconv_padding: [None, None, None, None, None]\n",
      "\u001b[34m\u001b[1mwandb\u001b[0m: \tconv_strides: [1, 1, 1, 1, 1]\n",
      "\u001b[34m\u001b[1mwandb\u001b[0m: \tdata_aug: True\n",
      "\u001b[34m\u001b[1mwandb\u001b[0m: \tdropout_conv: 0.2\n",
      "\u001b[34m\u001b[1mwandb\u001b[0m: \tdropout_fc: 0.2\n",
      "\u001b[34m\u001b[1mwandb\u001b[0m: \tepochs: 20\n",
      "\u001b[34m\u001b[1mwandb\u001b[0m: \tfc_activations: SiLU\n",
      "\u001b[34m\u001b[1mwandb\u001b[0m: \tfc_neurons: 512\n",
      "\u001b[34m\u001b[1mwandb\u001b[0m: \tfilter_mul: 2\n",
      "\u001b[34m\u001b[1mwandb\u001b[0m: \tinput_channels: 3\n",
      "\u001b[34m\u001b[1mwandb\u001b[0m: \tinput_size: [256, 256]\n",
      "\u001b[34m\u001b[1mwandb\u001b[0m: \tlearning_rate: 0.001\n",
      "\u001b[34m\u001b[1mwandb\u001b[0m: \tmp_layer1_kernel_size: 5\n",
      "\u001b[34m\u001b[1mwandb\u001b[0m: \tmp_layer1_stride: 2\n",
      "\u001b[34m\u001b[1mwandb\u001b[0m: \tmp_layer2_kernel_size: 2\n",
      "\u001b[34m\u001b[1mwandb\u001b[0m: \tmp_layer2_stride: 3\n",
      "\u001b[34m\u001b[1mwandb\u001b[0m: \tmp_layer3_kernel_size: 2\n",
      "\u001b[34m\u001b[1mwandb\u001b[0m: \tmp_layer3_stride: 2\n",
      "\u001b[34m\u001b[1mwandb\u001b[0m: \tmp_layer4_kernel_size: 3\n",
      "\u001b[34m\u001b[1mwandb\u001b[0m: \tmp_layer4_stride: 3\n",
      "\u001b[34m\u001b[1mwandb\u001b[0m: \tmp_layer5_kernel_size: 2\n",
      "\u001b[34m\u001b[1mwandb\u001b[0m: \tmp_layer5_stride: 2\n",
      "\u001b[34m\u001b[1mwandb\u001b[0m: \tno_of_conv_blocks: 5\n",
      "\u001b[34m\u001b[1mwandb\u001b[0m: \tno_of_fc_layers: 1\n",
      "\u001b[34m\u001b[1mwandb\u001b[0m: \tno_of_filters: 16\n",
      "\u001b[34m\u001b[1mwandb\u001b[0m: \tnum_classes: 10\n",
      "\u001b[34m\u001b[1mwandb\u001b[0m: \tnum_workers: 10\n"
     ]
    },
    {
     "data": {
      "text/html": [
       "Tracking run with wandb version 0.19.9"
      ],
      "text/plain": [
       "<IPython.core.display.HTML object>"
      ]
     },
     "metadata": {},
     "output_type": "display_data"
    },
    {
     "data": {
      "text/html": [
       "Run data is saved locally in <code>/home/joel/Pytorch_CUDA/wandb/run-20250416_233724-f93zz80a</code>"
      ],
      "text/plain": [
       "<IPython.core.display.HTML object>"
      ]
     },
     "metadata": {},
     "output_type": "display_data"
    },
    {
     "data": {
      "text/html": [
       "Syncing run <strong><a href='https://wandb.ai/A2_DA6401_DL/Lightning_CNN/runs/f93zz80a' target=\"_blank\">dutiful-sweep-401</a></strong> to <a href='https://wandb.ai/A2_DA6401_DL/Lightning_CNN' target=\"_blank\">Weights & Biases</a> (<a href='https://wandb.me/developer-guide' target=\"_blank\">docs</a>)<br>Sweep page: <a href='https://wandb.ai/A2_DA6401_DL/Lightning_CNN/sweeps/8km3fqmz' target=\"_blank\">https://wandb.ai/A2_DA6401_DL/Lightning_CNN/sweeps/8km3fqmz</a>"
      ],
      "text/plain": [
       "<IPython.core.display.HTML object>"
      ]
     },
     "metadata": {},
     "output_type": "display_data"
    },
    {
     "data": {
      "text/html": [
       " View project at <a href='https://wandb.ai/A2_DA6401_DL/Lightning_CNN' target=\"_blank\">https://wandb.ai/A2_DA6401_DL/Lightning_CNN</a>"
      ],
      "text/plain": [
       "<IPython.core.display.HTML object>"
      ]
     },
     "metadata": {},
     "output_type": "display_data"
    },
    {
     "data": {
      "text/html": [
       " View sweep at <a href='https://wandb.ai/A2_DA6401_DL/Lightning_CNN/sweeps/8km3fqmz' target=\"_blank\">https://wandb.ai/A2_DA6401_DL/Lightning_CNN/sweeps/8km3fqmz</a>"
      ],
      "text/plain": [
       "<IPython.core.display.HTML object>"
      ]
     },
     "metadata": {},
     "output_type": "display_data"
    },
    {
     "data": {
      "text/html": [
       " View run at <a href='https://wandb.ai/A2_DA6401_DL/Lightning_CNN/runs/f93zz80a' target=\"_blank\">https://wandb.ai/A2_DA6401_DL/Lightning_CNN/runs/f93zz80a</a>"
      ],
      "text/plain": [
       "<IPython.core.display.HTML object>"
      ]
     },
     "metadata": {},
     "output_type": "display_data"
    },
    {
     "name": "stderr",
     "output_type": "stream",
     "text": [
      "You are using the plain ModelCheckpoint callback. Consider using LitModelCheckpoint which with seamless uploading to Model registry.\n",
      "GPU available: True (cuda), used: True\n",
      "TPU available: False, using: 0 TPU cores\n",
      "HPU available: False, using: 0 HPUs\n",
      "/home/joel/Pytorch_CUDA/virt_env/lib/python3.12/site-packages/lightning/pytorch/loggers/wandb.py:397: There is a wandb run already in progress and newly created instances of `WandbLogger` will reuse this run. If this is not desired, call `wandb.finish()` before instantiating `WandbLogger`.\n",
      "LOCAL_RANK: 0 - CUDA_VISIBLE_DEVICES: [0]\n",
      "\n",
      "  | Name       | Type               | Params | Mode \n",
      "----------------------------------------------------------\n",
      "0 | model      | CNN_               | 2.5 M  | train\n",
      "1 | loss_fn    | CrossEntropyLoss   | 0      | train\n",
      "2 | acc_metric | MulticlassAccuracy | 0      | train\n",
      "----------------------------------------------------------\n",
      "2.5 M     Trainable params\n",
      "0         Non-trainable params\n",
      "2.5 M     Total params\n",
      "9.895     Total estimated model params size (MB)\n",
      "43        Modules in train mode\n",
      "0         Modules in eval mode\n"
     ]
    },
    {
     "data": {
      "application/vnd.jupyter.widget-view+json": {
       "model_id": "556000c69e89471fa4cf0da4060d2542",
       "version_major": 2,
       "version_minor": 0
      },
      "text/plain": [
       "Sanity Checking: |          | 0/? [00:00<?, ?it/s]"
      ]
     },
     "metadata": {},
     "output_type": "display_data"
    },
    {
     "data": {
      "application/vnd.jupyter.widget-view+json": {
       "model_id": "aa78a2042e5e44529cdfa5fd346d9e71",
       "version_major": 2,
       "version_minor": 0
      },
      "text/plain": [
       "Training: |          | 0/? [00:00<?, ?it/s]"
      ]
     },
     "metadata": {},
     "output_type": "display_data"
    },
    {
     "data": {
      "application/vnd.jupyter.widget-view+json": {
       "model_id": "57235c48455545f7af2bb04616cb6c2f",
       "version_major": 2,
       "version_minor": 0
      },
      "text/plain": [
       "Validation: |          | 0/? [00:00<?, ?it/s]"
      ]
     },
     "metadata": {},
     "output_type": "display_data"
    },
    {
     "data": {
      "application/vnd.jupyter.widget-view+json": {
       "model_id": "8ed89b7fa477465b8c5830343be15037",
       "version_major": 2,
       "version_minor": 0
      },
      "text/plain": [
       "Validation: |          | 0/? [00:00<?, ?it/s]"
      ]
     },
     "metadata": {},
     "output_type": "display_data"
    },
    {
     "data": {
      "application/vnd.jupyter.widget-view+json": {
       "model_id": "0fc31bb424364cdeaf78ea1fe123ead2",
       "version_major": 2,
       "version_minor": 0
      },
      "text/plain": [
       "Validation: |          | 0/? [00:00<?, ?it/s]"
      ]
     },
     "metadata": {},
     "output_type": "display_data"
    },
    {
     "data": {
      "application/vnd.jupyter.widget-view+json": {
       "model_id": "2adcd426f50b4e00ae29aa4724009fd0",
       "version_major": 2,
       "version_minor": 0
      },
      "text/plain": [
       "Validation: |          | 0/? [00:00<?, ?it/s]"
      ]
     },
     "metadata": {},
     "output_type": "display_data"
    },
    {
     "data": {
      "application/vnd.jupyter.widget-view+json": {
       "model_id": "4820e7fa6efe4e919a26b6f9071bc283",
       "version_major": 2,
       "version_minor": 0
      },
      "text/plain": [
       "Validation: |          | 0/? [00:00<?, ?it/s]"
      ]
     },
     "metadata": {},
     "output_type": "display_data"
    },
    {
     "data": {
      "application/vnd.jupyter.widget-view+json": {
       "model_id": "bdb13ab8424f4dc3be9bd6a77b81bf24",
       "version_major": 2,
       "version_minor": 0
      },
      "text/plain": [
       "Validation: |          | 0/? [00:00<?, ?it/s]"
      ]
     },
     "metadata": {},
     "output_type": "display_data"
    },
    {
     "data": {
      "application/vnd.jupyter.widget-view+json": {
       "model_id": "8e7fd9bc49a14fa18dcdc1872e653ebd",
       "version_major": 2,
       "version_minor": 0
      },
      "text/plain": [
       "Validation: |          | 0/? [00:00<?, ?it/s]"
      ]
     },
     "metadata": {},
     "output_type": "display_data"
    },
    {
     "data": {
      "application/vnd.jupyter.widget-view+json": {
       "model_id": "10819a4f51d449ceb33de5b56ad6b268",
       "version_major": 2,
       "version_minor": 0
      },
      "text/plain": [
       "Validation: |          | 0/? [00:00<?, ?it/s]"
      ]
     },
     "metadata": {},
     "output_type": "display_data"
    },
    {
     "data": {
      "application/vnd.jupyter.widget-view+json": {
       "model_id": "f248fce79e164ef48adb98cfb0c2daf9",
       "version_major": 2,
       "version_minor": 0
      },
      "text/plain": [
       "Validation: |          | 0/? [00:00<?, ?it/s]"
      ]
     },
     "metadata": {},
     "output_type": "display_data"
    },
    {
     "data": {
      "application/vnd.jupyter.widget-view+json": {
       "model_id": "084b0f2403b741c3919df6007b0523a7",
       "version_major": 2,
       "version_minor": 0
      },
      "text/plain": [
       "Validation: |          | 0/? [00:00<?, ?it/s]"
      ]
     },
     "metadata": {},
     "output_type": "display_data"
    },
    {
     "data": {
      "application/vnd.jupyter.widget-view+json": {
       "model_id": "ff23fc7db9ea447f996429bcb0e7e383",
       "version_major": 2,
       "version_minor": 0
      },
      "text/plain": [
       "Validation: |          | 0/? [00:00<?, ?it/s]"
      ]
     },
     "metadata": {},
     "output_type": "display_data"
    },
    {
     "data": {
      "application/vnd.jupyter.widget-view+json": {
       "model_id": "edd7ce300feb4362b48bea319d9b80bc",
       "version_major": 2,
       "version_minor": 0
      },
      "text/plain": [
       "Validation: |          | 0/? [00:00<?, ?it/s]"
      ]
     },
     "metadata": {},
     "output_type": "display_data"
    },
    {
     "data": {
      "application/vnd.jupyter.widget-view+json": {
       "model_id": "ae648e0eb2f5409499180af140d8408f",
       "version_major": 2,
       "version_minor": 0
      },
      "text/plain": [
       "Validation: |          | 0/? [00:00<?, ?it/s]"
      ]
     },
     "metadata": {},
     "output_type": "display_data"
    },
    {
     "data": {
      "application/vnd.jupyter.widget-view+json": {
       "model_id": "af6a81b2b0154f84860f2d37e821e1c1",
       "version_major": 2,
       "version_minor": 0
      },
      "text/plain": [
       "Validation: |          | 0/? [00:00<?, ?it/s]"
      ]
     },
     "metadata": {},
     "output_type": "display_data"
    },
    {
     "data": {
      "application/vnd.jupyter.widget-view+json": {
       "model_id": "2c9afab57e7244c08c40a90f59357bde",
       "version_major": 2,
       "version_minor": 0
      },
      "text/plain": [
       "Validation: |          | 0/? [00:00<?, ?it/s]"
      ]
     },
     "metadata": {},
     "output_type": "display_data"
    },
    {
     "data": {
      "application/vnd.jupyter.widget-view+json": {
       "model_id": "d1a12819ce5244d98af3ae40eedf23d8",
       "version_major": 2,
       "version_minor": 0
      },
      "text/plain": [
       "Validation: |          | 0/? [00:00<?, ?it/s]"
      ]
     },
     "metadata": {},
     "output_type": "display_data"
    },
    {
     "data": {
      "application/vnd.jupyter.widget-view+json": {
       "model_id": "e62a945aa9df455585de1f6921018211",
       "version_major": 2,
       "version_minor": 0
      },
      "text/plain": [
       "Validation: |          | 0/? [00:00<?, ?it/s]"
      ]
     },
     "metadata": {},
     "output_type": "display_data"
    },
    {
     "data": {
      "application/vnd.jupyter.widget-view+json": {
       "model_id": "e3c3a2c9d7cb4ee4b551bde8a3fe09a5",
       "version_major": 2,
       "version_minor": 0
      },
      "text/plain": [
       "Validation: |          | 0/? [00:00<?, ?it/s]"
      ]
     },
     "metadata": {},
     "output_type": "display_data"
    },
    {
     "data": {
      "application/vnd.jupyter.widget-view+json": {
       "model_id": "3be1e2257f964fb7af8980fb73773cfd",
       "version_major": 2,
       "version_minor": 0
      },
      "text/plain": [
       "Validation: |          | 0/? [00:00<?, ?it/s]"
      ]
     },
     "metadata": {},
     "output_type": "display_data"
    },
    {
     "data": {
      "application/vnd.jupyter.widget-view+json": {
       "model_id": "7f773e2e9db04747868d736507e34021",
       "version_major": 2,
       "version_minor": 0
      },
      "text/plain": [
       "Validation: |          | 0/? [00:00<?, ?it/s]"
      ]
     },
     "metadata": {},
     "output_type": "display_data"
    },
    {
     "name": "stderr",
     "output_type": "stream",
     "text": [
      "`Trainer.fit` stopped: `max_epochs=20` reached.\n"
     ]
    },
    {
     "data": {
      "text/html": [],
      "text/plain": [
       "<IPython.core.display.HTML object>"
      ]
     },
     "metadata": {},
     "output_type": "display_data"
    },
    {
     "data": {
      "text/html": [
       "<br>    <style><br>        .wandb-row {<br>            display: flex;<br>            flex-direction: row;<br>            flex-wrap: wrap;<br>            justify-content: flex-start;<br>            width: 100%;<br>        }<br>        .wandb-col {<br>            display: flex;<br>            flex-direction: column;<br>            flex-basis: 100%;<br>            flex: 1;<br>            padding: 10px;<br>        }<br>    </style><br><div class=\"wandb-row\"><div class=\"wandb-col\"><h3>Run history:</h3><br/><table class=\"wandb\"><tr><td>epoch</td><td>▁▁▁▁▂▂▂▂▂▂▃▃▃▃▄▄▄▄▄▄▅▅▅▅▅▅▆▆▆▆▇▇▇▇▇▇████</td></tr><tr><td>train_loss</td><td>█▇▆▆▅▅▅▅▅▄▄▄▃▃▃▂▂▂▂▁</td></tr><tr><td>trainer/global_step</td><td>▁▁▁▁▂▂▂▂▂▂▃▃▃▃▄▄▄▄▄▄▅▅▅▅▅▅▆▆▆▆▇▇▇▇▇▇████</td></tr><tr><td>val_acc</td><td>▂▁▃▃▅▅▅▅▆▆▆▆▇▇▆█▇▇█▆</td></tr><tr><td>val_loss</td><td>▇█▆▅▅▄▄▄▃▄▃▂▂▃▃▁▂▂▁▃</td></tr></table><br/></div><div class=\"wandb-col\"><h3>Run summary:</h3><br/><table class=\"wandb\"><tr><td>epoch</td><td>19</td></tr><tr><td>train_loss</td><td>2.05442</td></tr><tr><td>trainer/global_step</td><td>2479</td></tr><tr><td>val_acc</td><td>0.3025</td></tr><tr><td>val_loss</td><td>2.15026</td></tr></table><br/></div></div>"
      ],
      "text/plain": [
       "<IPython.core.display.HTML object>"
      ]
     },
     "metadata": {},
     "output_type": "display_data"
    },
    {
     "data": {
      "text/html": [
       " View run <strong style=\"color:#cdcd00\">bs_64_layer_act_SiLU_epoch_20_filter_mul_2_num_filters_16</strong> at: <a href='https://wandb.ai/A2_DA6401_DL/Lightning_CNN/runs/f93zz80a' target=\"_blank\">https://wandb.ai/A2_DA6401_DL/Lightning_CNN/runs/f93zz80a</a><br> View project at: <a href='https://wandb.ai/A2_DA6401_DL/Lightning_CNN' target=\"_blank\">https://wandb.ai/A2_DA6401_DL/Lightning_CNN</a><br>Synced 5 W&B file(s), 0 media file(s), 0 artifact file(s) and 0 other file(s)"
      ],
      "text/plain": [
       "<IPython.core.display.HTML object>"
      ]
     },
     "metadata": {},
     "output_type": "display_data"
    },
    {
     "data": {
      "text/html": [
       "Find logs at: <code>./wandb/run-20250416_233724-f93zz80a/logs</code>"
      ],
      "text/plain": [
       "<IPython.core.display.HTML object>"
      ]
     },
     "metadata": {},
     "output_type": "display_data"
    },
    {
     "name": "stderr",
     "output_type": "stream",
     "text": [
      "\u001b[34m\u001b[1mwandb\u001b[0m: Agent Starting Run: n3ptswxw with config:\n",
      "\u001b[34m\u001b[1mwandb\u001b[0m: \tbatch_norm_conv: False\n",
      "\u001b[34m\u001b[1mwandb\u001b[0m: \tbatch_norm_fc: True\n",
      "\u001b[34m\u001b[1mwandb\u001b[0m: \tbatch_size: 64\n",
      "\u001b[34m\u001b[1mwandb\u001b[0m: \tconv_1_filter_size: 5\n",
      "\u001b[34m\u001b[1mwandb\u001b[0m: \tconv_2_filter_size: 5\n",
      "\u001b[34m\u001b[1mwandb\u001b[0m: \tconv_3_filter_size: 5\n",
      "\u001b[34m\u001b[1mwandb\u001b[0m: \tconv_4_filter_size: 3\n",
      "\u001b[34m\u001b[1mwandb\u001b[0m: \tconv_5_filter_size: 5\n",
      "\u001b[34m\u001b[1mwandb\u001b[0m: \tconv_activation: SELU\n",
      "\u001b[34m\u001b[1mwandb\u001b[0m: \tconv_padding: [None, None, None, None, None]\n",
      "\u001b[34m\u001b[1mwandb\u001b[0m: \tconv_strides: [1, 1, 1, 1, 1]\n",
      "\u001b[34m\u001b[1mwandb\u001b[0m: \tdata_aug: True\n",
      "\u001b[34m\u001b[1mwandb\u001b[0m: \tdropout_conv: 0\n",
      "\u001b[34m\u001b[1mwandb\u001b[0m: \tdropout_fc: 0\n",
      "\u001b[34m\u001b[1mwandb\u001b[0m: \tepochs: 20\n",
      "\u001b[34m\u001b[1mwandb\u001b[0m: \tfc_activations: GELU\n",
      "\u001b[34m\u001b[1mwandb\u001b[0m: \tfc_neurons: 1024\n",
      "\u001b[34m\u001b[1mwandb\u001b[0m: \tfilter_mul: 0.5\n",
      "\u001b[34m\u001b[1mwandb\u001b[0m: \tinput_channels: 3\n",
      "\u001b[34m\u001b[1mwandb\u001b[0m: \tinput_size: [256, 256]\n",
      "\u001b[34m\u001b[1mwandb\u001b[0m: \tlearning_rate: 0.001\n",
      "\u001b[34m\u001b[1mwandb\u001b[0m: \tmp_layer1_kernel_size: 5\n",
      "\u001b[34m\u001b[1mwandb\u001b[0m: \tmp_layer1_stride: 3\n",
      "\u001b[34m\u001b[1mwandb\u001b[0m: \tmp_layer2_kernel_size: 3\n",
      "\u001b[34m\u001b[1mwandb\u001b[0m: \tmp_layer2_stride: 3\n",
      "\u001b[34m\u001b[1mwandb\u001b[0m: \tmp_layer3_kernel_size: 5\n",
      "\u001b[34m\u001b[1mwandb\u001b[0m: \tmp_layer3_stride: 3\n",
      "\u001b[34m\u001b[1mwandb\u001b[0m: \tmp_layer4_kernel_size: 2\n",
      "\u001b[34m\u001b[1mwandb\u001b[0m: \tmp_layer4_stride: 2\n",
      "\u001b[34m\u001b[1mwandb\u001b[0m: \tmp_layer5_kernel_size: 2\n",
      "\u001b[34m\u001b[1mwandb\u001b[0m: \tmp_layer5_stride: 2\n",
      "\u001b[34m\u001b[1mwandb\u001b[0m: \tno_of_conv_blocks: 5\n",
      "\u001b[34m\u001b[1mwandb\u001b[0m: \tno_of_fc_layers: 1\n",
      "\u001b[34m\u001b[1mwandb\u001b[0m: \tno_of_filters: 512\n",
      "\u001b[34m\u001b[1mwandb\u001b[0m: \tnum_classes: 10\n",
      "\u001b[34m\u001b[1mwandb\u001b[0m: \tnum_workers: 10\n"
     ]
    },
    {
     "data": {
      "text/html": [
       "Tracking run with wandb version 0.19.9"
      ],
      "text/plain": [
       "<IPython.core.display.HTML object>"
      ]
     },
     "metadata": {},
     "output_type": "display_data"
    },
    {
     "data": {
      "text/html": [
       "Run data is saved locally in <code>/home/joel/Pytorch_CUDA/wandb/run-20250416_235015-n3ptswxw</code>"
      ],
      "text/plain": [
       "<IPython.core.display.HTML object>"
      ]
     },
     "metadata": {},
     "output_type": "display_data"
    },
    {
     "data": {
      "text/html": [
       "Syncing run <strong><a href='https://wandb.ai/A2_DA6401_DL/Lightning_CNN/runs/n3ptswxw' target=\"_blank\">dainty-sweep-403</a></strong> to <a href='https://wandb.ai/A2_DA6401_DL/Lightning_CNN' target=\"_blank\">Weights & Biases</a> (<a href='https://wandb.me/developer-guide' target=\"_blank\">docs</a>)<br>Sweep page: <a href='https://wandb.ai/A2_DA6401_DL/Lightning_CNN/sweeps/8km3fqmz' target=\"_blank\">https://wandb.ai/A2_DA6401_DL/Lightning_CNN/sweeps/8km3fqmz</a>"
      ],
      "text/plain": [
       "<IPython.core.display.HTML object>"
      ]
     },
     "metadata": {},
     "output_type": "display_data"
    },
    {
     "data": {
      "text/html": [
       " View project at <a href='https://wandb.ai/A2_DA6401_DL/Lightning_CNN' target=\"_blank\">https://wandb.ai/A2_DA6401_DL/Lightning_CNN</a>"
      ],
      "text/plain": [
       "<IPython.core.display.HTML object>"
      ]
     },
     "metadata": {},
     "output_type": "display_data"
    },
    {
     "data": {
      "text/html": [
       " View sweep at <a href='https://wandb.ai/A2_DA6401_DL/Lightning_CNN/sweeps/8km3fqmz' target=\"_blank\">https://wandb.ai/A2_DA6401_DL/Lightning_CNN/sweeps/8km3fqmz</a>"
      ],
      "text/plain": [
       "<IPython.core.display.HTML object>"
      ]
     },
     "metadata": {},
     "output_type": "display_data"
    },
    {
     "data": {
      "text/html": [
       " View run at <a href='https://wandb.ai/A2_DA6401_DL/Lightning_CNN/runs/n3ptswxw' target=\"_blank\">https://wandb.ai/A2_DA6401_DL/Lightning_CNN/runs/n3ptswxw</a>"
      ],
      "text/plain": [
       "<IPython.core.display.HTML object>"
      ]
     },
     "metadata": {},
     "output_type": "display_data"
    },
    {
     "name": "stderr",
     "output_type": "stream",
     "text": [
      "You are using the plain ModelCheckpoint callback. Consider using LitModelCheckpoint which with seamless uploading to Model registry.\n",
      "GPU available: True (cuda), used: True\n",
      "TPU available: False, using: 0 TPU cores\n",
      "HPU available: False, using: 0 HPUs\n",
      "/home/joel/Pytorch_CUDA/virt_env/lib/python3.12/site-packages/lightning/pytorch/loggers/wandb.py:397: There is a wandb run already in progress and newly created instances of `WandbLogger` will reuse this run. If this is not desired, call `wandb.finish()` before instantiating `WandbLogger`.\n",
      "LOCAL_RANK: 0 - CUDA_VISIBLE_DEVICES: [0]\n",
      "\n",
      "  | Name       | Type               | Params | Mode \n",
      "----------------------------------------------------------\n",
      "0 | model      | CNN_               | 4.4 M  | train\n",
      "1 | loss_fn    | CrossEntropyLoss   | 0      | train\n",
      "2 | acc_metric | MulticlassAccuracy | 0      | train\n",
      "----------------------------------------------------------\n",
      "4.4 M     Trainable params\n",
      "0         Non-trainable params\n",
      "4.4 M     Total params\n",
      "17.619    Total estimated model params size (MB)\n",
      "43        Modules in train mode\n",
      "0         Modules in eval mode\n"
     ]
    },
    {
     "data": {
      "application/vnd.jupyter.widget-view+json": {
       "model_id": "9b732f2eacaf4bf8996ecf81ab6bb8b4",
       "version_major": 2,
       "version_minor": 0
      },
      "text/plain": [
       "Sanity Checking: |          | 0/? [00:00<?, ?it/s]"
      ]
     },
     "metadata": {},
     "output_type": "display_data"
    },
    {
     "name": "stdout",
     "output_type": "stream",
     "text": [
      "⚠️ CUDA Out Of Memory — skipping this run.\n"
     ]
    },
    {
     "data": {
      "text/html": [],
      "text/plain": [
       "<IPython.core.display.HTML object>"
      ]
     },
     "metadata": {},
     "output_type": "display_data"
    },
    {
     "data": {
      "text/html": [
       " View run <strong style=\"color:#cdcd00\">bs_64_layer_act_SELU_epoch_20_filter_mul_0.5_num_filters_512</strong> at: <a href='https://wandb.ai/A2_DA6401_DL/Lightning_CNN/runs/n3ptswxw' target=\"_blank\">https://wandb.ai/A2_DA6401_DL/Lightning_CNN/runs/n3ptswxw</a><br> View project at: <a href='https://wandb.ai/A2_DA6401_DL/Lightning_CNN' target=\"_blank\">https://wandb.ai/A2_DA6401_DL/Lightning_CNN</a><br>Synced 5 W&B file(s), 0 media file(s), 0 artifact file(s) and 0 other file(s)"
      ],
      "text/plain": [
       "<IPython.core.display.HTML object>"
      ]
     },
     "metadata": {},
     "output_type": "display_data"
    },
    {
     "data": {
      "text/html": [
       "Find logs at: <code>./wandb/run-20250416_235015-n3ptswxw/logs</code>"
      ],
      "text/plain": [
       "<IPython.core.display.HTML object>"
      ]
     },
     "metadata": {},
     "output_type": "display_data"
    },
    {
     "name": "stderr",
     "output_type": "stream",
     "text": [
      "\u001b[34m\u001b[1mwandb\u001b[0m: Agent Starting Run: znqj5gjl with config:\n",
      "\u001b[34m\u001b[1mwandb\u001b[0m: \tbatch_norm_conv: True\n",
      "\u001b[34m\u001b[1mwandb\u001b[0m: \tbatch_norm_fc: True\n",
      "\u001b[34m\u001b[1mwandb\u001b[0m: \tbatch_size: 32\n",
      "\u001b[34m\u001b[1mwandb\u001b[0m: \tconv_1_filter_size: 5\n",
      "\u001b[34m\u001b[1mwandb\u001b[0m: \tconv_2_filter_size: 5\n",
      "\u001b[34m\u001b[1mwandb\u001b[0m: \tconv_3_filter_size: 3\n",
      "\u001b[34m\u001b[1mwandb\u001b[0m: \tconv_4_filter_size: 7\n",
      "\u001b[34m\u001b[1mwandb\u001b[0m: \tconv_5_filter_size: 7\n",
      "\u001b[34m\u001b[1mwandb\u001b[0m: \tconv_activation: GELU\n",
      "\u001b[34m\u001b[1mwandb\u001b[0m: \tconv_padding: [None, None, None, None, None]\n",
      "\u001b[34m\u001b[1mwandb\u001b[0m: \tconv_strides: [1, 1, 1, 1, 1]\n",
      "\u001b[34m\u001b[1mwandb\u001b[0m: \tdata_aug: False\n",
      "\u001b[34m\u001b[1mwandb\u001b[0m: \tdropout_conv: 0.2\n",
      "\u001b[34m\u001b[1mwandb\u001b[0m: \tdropout_fc: 0.2\n",
      "\u001b[34m\u001b[1mwandb\u001b[0m: \tepochs: 20\n",
      "\u001b[34m\u001b[1mwandb\u001b[0m: \tfc_activations: GELU\n",
      "\u001b[34m\u001b[1mwandb\u001b[0m: \tfc_neurons: 1024\n",
      "\u001b[34m\u001b[1mwandb\u001b[0m: \tfilter_mul: 0.5\n",
      "\u001b[34m\u001b[1mwandb\u001b[0m: \tinput_channels: 3\n",
      "\u001b[34m\u001b[1mwandb\u001b[0m: \tinput_size: [256, 256]\n",
      "\u001b[34m\u001b[1mwandb\u001b[0m: \tlearning_rate: 0.0005\n",
      "\u001b[34m\u001b[1mwandb\u001b[0m: \tmp_layer1_kernel_size: 3\n",
      "\u001b[34m\u001b[1mwandb\u001b[0m: \tmp_layer1_stride: 3\n",
      "\u001b[34m\u001b[1mwandb\u001b[0m: \tmp_layer2_kernel_size: 5\n",
      "\u001b[34m\u001b[1mwandb\u001b[0m: \tmp_layer2_stride: 3\n",
      "\u001b[34m\u001b[1mwandb\u001b[0m: \tmp_layer3_kernel_size: 3\n",
      "\u001b[34m\u001b[1mwandb\u001b[0m: \tmp_layer3_stride: 3\n",
      "\u001b[34m\u001b[1mwandb\u001b[0m: \tmp_layer4_kernel_size: 3\n",
      "\u001b[34m\u001b[1mwandb\u001b[0m: \tmp_layer4_stride: 3\n",
      "\u001b[34m\u001b[1mwandb\u001b[0m: \tmp_layer5_kernel_size: 2\n",
      "\u001b[34m\u001b[1mwandb\u001b[0m: \tmp_layer5_stride: 3\n",
      "\u001b[34m\u001b[1mwandb\u001b[0m: \tno_of_conv_blocks: 5\n",
      "\u001b[34m\u001b[1mwandb\u001b[0m: \tno_of_fc_layers: 1\n",
      "\u001b[34m\u001b[1mwandb\u001b[0m: \tno_of_filters: 256\n",
      "\u001b[34m\u001b[1mwandb\u001b[0m: \tnum_classes: 10\n",
      "\u001b[34m\u001b[1mwandb\u001b[0m: \tnum_workers: 10\n"
     ]
    },
    {
     "data": {
      "text/html": [
       "Tracking run with wandb version 0.19.9"
      ],
      "text/plain": [
       "<IPython.core.display.HTML object>"
      ]
     },
     "metadata": {},
     "output_type": "display_data"
    },
    {
     "data": {
      "text/html": [
       "Run data is saved locally in <code>/home/joel/Pytorch_CUDA/wandb/run-20250416_235026-znqj5gjl</code>"
      ],
      "text/plain": [
       "<IPython.core.display.HTML object>"
      ]
     },
     "metadata": {},
     "output_type": "display_data"
    },
    {
     "data": {
      "text/html": [
       "Syncing run <strong><a href='https://wandb.ai/A2_DA6401_DL/Lightning_CNN/runs/znqj5gjl' target=\"_blank\">ancient-sweep-404</a></strong> to <a href='https://wandb.ai/A2_DA6401_DL/Lightning_CNN' target=\"_blank\">Weights & Biases</a> (<a href='https://wandb.me/developer-guide' target=\"_blank\">docs</a>)<br>Sweep page: <a href='https://wandb.ai/A2_DA6401_DL/Lightning_CNN/sweeps/8km3fqmz' target=\"_blank\">https://wandb.ai/A2_DA6401_DL/Lightning_CNN/sweeps/8km3fqmz</a>"
      ],
      "text/plain": [
       "<IPython.core.display.HTML object>"
      ]
     },
     "metadata": {},
     "output_type": "display_data"
    },
    {
     "data": {
      "text/html": [
       " View project at <a href='https://wandb.ai/A2_DA6401_DL/Lightning_CNN' target=\"_blank\">https://wandb.ai/A2_DA6401_DL/Lightning_CNN</a>"
      ],
      "text/plain": [
       "<IPython.core.display.HTML object>"
      ]
     },
     "metadata": {},
     "output_type": "display_data"
    },
    {
     "data": {
      "text/html": [
       " View sweep at <a href='https://wandb.ai/A2_DA6401_DL/Lightning_CNN/sweeps/8km3fqmz' target=\"_blank\">https://wandb.ai/A2_DA6401_DL/Lightning_CNN/sweeps/8km3fqmz</a>"
      ],
      "text/plain": [
       "<IPython.core.display.HTML object>"
      ]
     },
     "metadata": {},
     "output_type": "display_data"
    },
    {
     "data": {
      "text/html": [
       " View run at <a href='https://wandb.ai/A2_DA6401_DL/Lightning_CNN/runs/znqj5gjl' target=\"_blank\">https://wandb.ai/A2_DA6401_DL/Lightning_CNN/runs/znqj5gjl</a>"
      ],
      "text/plain": [
       "<IPython.core.display.HTML object>"
      ]
     },
     "metadata": {},
     "output_type": "display_data"
    },
    {
     "name": "stderr",
     "output_type": "stream",
     "text": [
      "You are using the plain ModelCheckpoint callback. Consider using LitModelCheckpoint which with seamless uploading to Model registry.\n",
      "GPU available: True (cuda), used: True\n",
      "TPU available: False, using: 0 TPU cores\n",
      "HPU available: False, using: 0 HPUs\n",
      "/home/joel/Pytorch_CUDA/virt_env/lib/python3.12/site-packages/lightning/pytorch/loggers/wandb.py:397: There is a wandb run already in progress and newly created instances of `WandbLogger` will reuse this run. If this is not desired, call `wandb.finish()` before instantiating `WandbLogger`.\n",
      "LOCAL_RANK: 0 - CUDA_VISIBLE_DEVICES: [0]\n",
      "\n",
      "  | Name       | Type               | Params | Mode \n",
      "----------------------------------------------------------\n",
      "0 | model      | CNN_               | 1.1 M  | train\n",
      "1 | loss_fn    | CrossEntropyLoss   | 0      | train\n",
      "2 | acc_metric | MulticlassAccuracy | 0      | train\n",
      "----------------------------------------------------------\n",
      "1.1 M     Trainable params\n",
      "0         Non-trainable params\n",
      "1.1 M     Total params\n",
      "4.275     Total estimated model params size (MB)\n",
      "43        Modules in train mode\n",
      "0         Modules in eval mode\n"
     ]
    },
    {
     "data": {
      "application/vnd.jupyter.widget-view+json": {
       "model_id": "f13b0c03dd1949b09257892014224bca",
       "version_major": 2,
       "version_minor": 0
      },
      "text/plain": [
       "Sanity Checking: |          | 0/? [00:00<?, ?it/s]"
      ]
     },
     "metadata": {},
     "output_type": "display_data"
    },
    {
     "name": "stdout",
     "output_type": "stream",
     "text": [
      "⚠️ CUDA Out Of Memory — skipping this run.\n"
     ]
    },
    {
     "data": {
      "text/html": [],
      "text/plain": [
       "<IPython.core.display.HTML object>"
      ]
     },
     "metadata": {},
     "output_type": "display_data"
    },
    {
     "data": {
      "text/html": [
       " View run <strong style=\"color:#cdcd00\">bs_32_layer_act_GELU_epoch_20_filter_mul_0.5_num_filters_256</strong> at: <a href='https://wandb.ai/A2_DA6401_DL/Lightning_CNN/runs/znqj5gjl' target=\"_blank\">https://wandb.ai/A2_DA6401_DL/Lightning_CNN/runs/znqj5gjl</a><br> View project at: <a href='https://wandb.ai/A2_DA6401_DL/Lightning_CNN' target=\"_blank\">https://wandb.ai/A2_DA6401_DL/Lightning_CNN</a><br>Synced 5 W&B file(s), 0 media file(s), 0 artifact file(s) and 0 other file(s)"
      ],
      "text/plain": [
       "<IPython.core.display.HTML object>"
      ]
     },
     "metadata": {},
     "output_type": "display_data"
    },
    {
     "data": {
      "text/html": [
       "Find logs at: <code>./wandb/run-20250416_235026-znqj5gjl/logs</code>"
      ],
      "text/plain": [
       "<IPython.core.display.HTML object>"
      ]
     },
     "metadata": {},
     "output_type": "display_data"
    },
    {
     "name": "stderr",
     "output_type": "stream",
     "text": [
      "\u001b[34m\u001b[1mwandb\u001b[0m: Agent Starting Run: jesqeivi with config:\n",
      "\u001b[34m\u001b[1mwandb\u001b[0m: \tbatch_norm_conv: True\n",
      "\u001b[34m\u001b[1mwandb\u001b[0m: \tbatch_norm_fc: True\n",
      "\u001b[34m\u001b[1mwandb\u001b[0m: \tbatch_size: 32\n",
      "\u001b[34m\u001b[1mwandb\u001b[0m: \tconv_1_filter_size: 3\n",
      "\u001b[34m\u001b[1mwandb\u001b[0m: \tconv_2_filter_size: 7\n",
      "\u001b[34m\u001b[1mwandb\u001b[0m: \tconv_3_filter_size: 3\n",
      "\u001b[34m\u001b[1mwandb\u001b[0m: \tconv_4_filter_size: 7\n",
      "\u001b[34m\u001b[1mwandb\u001b[0m: \tconv_5_filter_size: 3\n",
      "\u001b[34m\u001b[1mwandb\u001b[0m: \tconv_activation: GELU\n",
      "\u001b[34m\u001b[1mwandb\u001b[0m: \tconv_padding: [None, None, None, None, None]\n",
      "\u001b[34m\u001b[1mwandb\u001b[0m: \tconv_strides: [1, 1, 1, 1, 1]\n",
      "\u001b[34m\u001b[1mwandb\u001b[0m: \tdata_aug: True\n",
      "\u001b[34m\u001b[1mwandb\u001b[0m: \tdropout_conv: 0.2\n",
      "\u001b[34m\u001b[1mwandb\u001b[0m: \tdropout_fc: 0.2\n",
      "\u001b[34m\u001b[1mwandb\u001b[0m: \tepochs: 20\n",
      "\u001b[34m\u001b[1mwandb\u001b[0m: \tfc_activations: Mish\n",
      "\u001b[34m\u001b[1mwandb\u001b[0m: \tfc_neurons: 1024\n",
      "\u001b[34m\u001b[1mwandb\u001b[0m: \tfilter_mul: 1\n",
      "\u001b[34m\u001b[1mwandb\u001b[0m: \tinput_channels: 3\n",
      "\u001b[34m\u001b[1mwandb\u001b[0m: \tinput_size: [256, 256]\n",
      "\u001b[34m\u001b[1mwandb\u001b[0m: \tlearning_rate: 0.0005\n",
      "\u001b[34m\u001b[1mwandb\u001b[0m: \tmp_layer1_kernel_size: 5\n",
      "\u001b[34m\u001b[1mwandb\u001b[0m: \tmp_layer1_stride: 2\n",
      "\u001b[34m\u001b[1mwandb\u001b[0m: \tmp_layer2_kernel_size: 2\n",
      "\u001b[34m\u001b[1mwandb\u001b[0m: \tmp_layer2_stride: 2\n",
      "\u001b[34m\u001b[1mwandb\u001b[0m: \tmp_layer3_kernel_size: 3\n",
      "\u001b[34m\u001b[1mwandb\u001b[0m: \tmp_layer3_stride: 3\n",
      "\u001b[34m\u001b[1mwandb\u001b[0m: \tmp_layer4_kernel_size: 3\n",
      "\u001b[34m\u001b[1mwandb\u001b[0m: \tmp_layer4_stride: 3\n",
      "\u001b[34m\u001b[1mwandb\u001b[0m: \tmp_layer5_kernel_size: 3\n",
      "\u001b[34m\u001b[1mwandb\u001b[0m: \tmp_layer5_stride: 2\n",
      "\u001b[34m\u001b[1mwandb\u001b[0m: \tno_of_conv_blocks: 5\n",
      "\u001b[34m\u001b[1mwandb\u001b[0m: \tno_of_fc_layers: 1\n",
      "\u001b[34m\u001b[1mwandb\u001b[0m: \tno_of_filters: 512\n",
      "\u001b[34m\u001b[1mwandb\u001b[0m: \tnum_classes: 10\n",
      "\u001b[34m\u001b[1mwandb\u001b[0m: \tnum_workers: 10\n"
     ]
    },
    {
     "data": {
      "text/html": [
       "Tracking run with wandb version 0.19.9"
      ],
      "text/plain": [
       "<IPython.core.display.HTML object>"
      ]
     },
     "metadata": {},
     "output_type": "display_data"
    },
    {
     "data": {
      "text/html": [
       "Run data is saved locally in <code>/home/joel/Pytorch_CUDA/wandb/run-20250416_235031-jesqeivi</code>"
      ],
      "text/plain": [
       "<IPython.core.display.HTML object>"
      ]
     },
     "metadata": {},
     "output_type": "display_data"
    },
    {
     "data": {
      "text/html": [
       "Syncing run <strong><a href='https://wandb.ai/A2_DA6401_DL/Lightning_CNN/runs/jesqeivi' target=\"_blank\">blooming-sweep-405</a></strong> to <a href='https://wandb.ai/A2_DA6401_DL/Lightning_CNN' target=\"_blank\">Weights & Biases</a> (<a href='https://wandb.me/developer-guide' target=\"_blank\">docs</a>)<br>Sweep page: <a href='https://wandb.ai/A2_DA6401_DL/Lightning_CNN/sweeps/8km3fqmz' target=\"_blank\">https://wandb.ai/A2_DA6401_DL/Lightning_CNN/sweeps/8km3fqmz</a>"
      ],
      "text/plain": [
       "<IPython.core.display.HTML object>"
      ]
     },
     "metadata": {},
     "output_type": "display_data"
    },
    {
     "data": {
      "text/html": [
       " View project at <a href='https://wandb.ai/A2_DA6401_DL/Lightning_CNN' target=\"_blank\">https://wandb.ai/A2_DA6401_DL/Lightning_CNN</a>"
      ],
      "text/plain": [
       "<IPython.core.display.HTML object>"
      ]
     },
     "metadata": {},
     "output_type": "display_data"
    },
    {
     "data": {
      "text/html": [
       " View sweep at <a href='https://wandb.ai/A2_DA6401_DL/Lightning_CNN/sweeps/8km3fqmz' target=\"_blank\">https://wandb.ai/A2_DA6401_DL/Lightning_CNN/sweeps/8km3fqmz</a>"
      ],
      "text/plain": [
       "<IPython.core.display.HTML object>"
      ]
     },
     "metadata": {},
     "output_type": "display_data"
    },
    {
     "data": {
      "text/html": [
       " View run at <a href='https://wandb.ai/A2_DA6401_DL/Lightning_CNN/runs/jesqeivi' target=\"_blank\">https://wandb.ai/A2_DA6401_DL/Lightning_CNN/runs/jesqeivi</a>"
      ],
      "text/plain": [
       "<IPython.core.display.HTML object>"
      ]
     },
     "metadata": {},
     "output_type": "display_data"
    },
    {
     "name": "stdout",
     "output_type": "stream",
     "text": [
      "Not a good combination !!!\n"
     ]
    },
    {
     "data": {
      "text/html": [],
      "text/plain": [
       "<IPython.core.display.HTML object>"
      ]
     },
     "metadata": {},
     "output_type": "display_data"
    },
    {
     "data": {
      "text/html": [
       " View run <strong style=\"color:#cdcd00\">bs_32_layer_act_GELU_epoch_20_filter_mul_1_num_filters_512</strong> at: <a href='https://wandb.ai/A2_DA6401_DL/Lightning_CNN/runs/jesqeivi' target=\"_blank\">https://wandb.ai/A2_DA6401_DL/Lightning_CNN/runs/jesqeivi</a><br> View project at: <a href='https://wandb.ai/A2_DA6401_DL/Lightning_CNN' target=\"_blank\">https://wandb.ai/A2_DA6401_DL/Lightning_CNN</a><br>Synced 5 W&B file(s), 0 media file(s), 0 artifact file(s) and 0 other file(s)"
      ],
      "text/plain": [
       "<IPython.core.display.HTML object>"
      ]
     },
     "metadata": {},
     "output_type": "display_data"
    },
    {
     "data": {
      "text/html": [
       "Find logs at: <code>./wandb/run-20250416_235031-jesqeivi/logs</code>"
      ],
      "text/plain": [
       "<IPython.core.display.HTML object>"
      ]
     },
     "metadata": {},
     "output_type": "display_data"
    },
    {
     "name": "stderr",
     "output_type": "stream",
     "text": [
      "\u001b[34m\u001b[1mwandb\u001b[0m: Agent Starting Run: x6u2xx1x with config:\n",
      "\u001b[34m\u001b[1mwandb\u001b[0m: \tbatch_norm_conv: True\n",
      "\u001b[34m\u001b[1mwandb\u001b[0m: \tbatch_norm_fc: True\n",
      "\u001b[34m\u001b[1mwandb\u001b[0m: \tbatch_size: 16\n",
      "\u001b[34m\u001b[1mwandb\u001b[0m: \tconv_1_filter_size: 5\n",
      "\u001b[34m\u001b[1mwandb\u001b[0m: \tconv_2_filter_size: 5\n",
      "\u001b[34m\u001b[1mwandb\u001b[0m: \tconv_3_filter_size: 7\n",
      "\u001b[34m\u001b[1mwandb\u001b[0m: \tconv_4_filter_size: 3\n",
      "\u001b[34m\u001b[1mwandb\u001b[0m: \tconv_5_filter_size: 3\n",
      "\u001b[34m\u001b[1mwandb\u001b[0m: \tconv_activation: ReLU\n",
      "\u001b[34m\u001b[1mwandb\u001b[0m: \tconv_padding: [None, None, None, None, None]\n",
      "\u001b[34m\u001b[1mwandb\u001b[0m: \tconv_strides: [1, 1, 1, 1, 1]\n",
      "\u001b[34m\u001b[1mwandb\u001b[0m: \tdata_aug: True\n",
      "\u001b[34m\u001b[1mwandb\u001b[0m: \tdropout_conv: 0.1\n",
      "\u001b[34m\u001b[1mwandb\u001b[0m: \tdropout_fc: 0\n",
      "\u001b[34m\u001b[1mwandb\u001b[0m: \tepochs: 20\n",
      "\u001b[34m\u001b[1mwandb\u001b[0m: \tfc_activations: SiLU\n",
      "\u001b[34m\u001b[1mwandb\u001b[0m: \tfc_neurons: 512\n",
      "\u001b[34m\u001b[1mwandb\u001b[0m: \tfilter_mul: 2\n",
      "\u001b[34m\u001b[1mwandb\u001b[0m: \tinput_channels: 3\n",
      "\u001b[34m\u001b[1mwandb\u001b[0m: \tinput_size: [256, 256]\n",
      "\u001b[34m\u001b[1mwandb\u001b[0m: \tlearning_rate: 0.001\n",
      "\u001b[34m\u001b[1mwandb\u001b[0m: \tmp_layer1_kernel_size: 5\n",
      "\u001b[34m\u001b[1mwandb\u001b[0m: \tmp_layer1_stride: 2\n",
      "\u001b[34m\u001b[1mwandb\u001b[0m: \tmp_layer2_kernel_size: 2\n",
      "\u001b[34m\u001b[1mwandb\u001b[0m: \tmp_layer2_stride: 3\n",
      "\u001b[34m\u001b[1mwandb\u001b[0m: \tmp_layer3_kernel_size: 3\n",
      "\u001b[34m\u001b[1mwandb\u001b[0m: \tmp_layer3_stride: 2\n",
      "\u001b[34m\u001b[1mwandb\u001b[0m: \tmp_layer4_kernel_size: 2\n",
      "\u001b[34m\u001b[1mwandb\u001b[0m: \tmp_layer4_stride: 2\n",
      "\u001b[34m\u001b[1mwandb\u001b[0m: \tmp_layer5_kernel_size: 2\n",
      "\u001b[34m\u001b[1mwandb\u001b[0m: \tmp_layer5_stride: 3\n",
      "\u001b[34m\u001b[1mwandb\u001b[0m: \tno_of_conv_blocks: 5\n",
      "\u001b[34m\u001b[1mwandb\u001b[0m: \tno_of_fc_layers: 1\n",
      "\u001b[34m\u001b[1mwandb\u001b[0m: \tno_of_filters: 256\n",
      "\u001b[34m\u001b[1mwandb\u001b[0m: \tnum_classes: 10\n",
      "\u001b[34m\u001b[1mwandb\u001b[0m: \tnum_workers: 10\n"
     ]
    },
    {
     "data": {
      "text/html": [
       "Tracking run with wandb version 0.19.9"
      ],
      "text/plain": [
       "<IPython.core.display.HTML object>"
      ]
     },
     "metadata": {},
     "output_type": "display_data"
    },
    {
     "data": {
      "text/html": [
       "Run data is saved locally in <code>/home/joel/Pytorch_CUDA/wandb/run-20250416_235037-x6u2xx1x</code>"
      ],
      "text/plain": [
       "<IPython.core.display.HTML object>"
      ]
     },
     "metadata": {},
     "output_type": "display_data"
    },
    {
     "data": {
      "text/html": [
       "Syncing run <strong><a href='https://wandb.ai/A2_DA6401_DL/Lightning_CNN/runs/x6u2xx1x' target=\"_blank\">polar-sweep-406</a></strong> to <a href='https://wandb.ai/A2_DA6401_DL/Lightning_CNN' target=\"_blank\">Weights & Biases</a> (<a href='https://wandb.me/developer-guide' target=\"_blank\">docs</a>)<br>Sweep page: <a href='https://wandb.ai/A2_DA6401_DL/Lightning_CNN/sweeps/8km3fqmz' target=\"_blank\">https://wandb.ai/A2_DA6401_DL/Lightning_CNN/sweeps/8km3fqmz</a>"
      ],
      "text/plain": [
       "<IPython.core.display.HTML object>"
      ]
     },
     "metadata": {},
     "output_type": "display_data"
    },
    {
     "data": {
      "text/html": [
       " View project at <a href='https://wandb.ai/A2_DA6401_DL/Lightning_CNN' target=\"_blank\">https://wandb.ai/A2_DA6401_DL/Lightning_CNN</a>"
      ],
      "text/plain": [
       "<IPython.core.display.HTML object>"
      ]
     },
     "metadata": {},
     "output_type": "display_data"
    },
    {
     "data": {
      "text/html": [
       " View sweep at <a href='https://wandb.ai/A2_DA6401_DL/Lightning_CNN/sweeps/8km3fqmz' target=\"_blank\">https://wandb.ai/A2_DA6401_DL/Lightning_CNN/sweeps/8km3fqmz</a>"
      ],
      "text/plain": [
       "<IPython.core.display.HTML object>"
      ]
     },
     "metadata": {},
     "output_type": "display_data"
    },
    {
     "data": {
      "text/html": [
       " View run at <a href='https://wandb.ai/A2_DA6401_DL/Lightning_CNN/runs/x6u2xx1x' target=\"_blank\">https://wandb.ai/A2_DA6401_DL/Lightning_CNN/runs/x6u2xx1x</a>"
      ],
      "text/plain": [
       "<IPython.core.display.HTML object>"
      ]
     },
     "metadata": {},
     "output_type": "display_data"
    },
    {
     "name": "stdout",
     "output_type": "stream",
     "text": [
      "Not a good combination !!!\n"
     ]
    },
    {
     "data": {
      "text/html": [],
      "text/plain": [
       "<IPython.core.display.HTML object>"
      ]
     },
     "metadata": {},
     "output_type": "display_data"
    },
    {
     "data": {
      "text/html": [
       " View run <strong style=\"color:#cdcd00\">bs_16_layer_act_ReLU_epoch_20_filter_mul_2_num_filters_256</strong> at: <a href='https://wandb.ai/A2_DA6401_DL/Lightning_CNN/runs/x6u2xx1x' target=\"_blank\">https://wandb.ai/A2_DA6401_DL/Lightning_CNN/runs/x6u2xx1x</a><br> View project at: <a href='https://wandb.ai/A2_DA6401_DL/Lightning_CNN' target=\"_blank\">https://wandb.ai/A2_DA6401_DL/Lightning_CNN</a><br>Synced 5 W&B file(s), 0 media file(s), 0 artifact file(s) and 0 other file(s)"
      ],
      "text/plain": [
       "<IPython.core.display.HTML object>"
      ]
     },
     "metadata": {},
     "output_type": "display_data"
    },
    {
     "data": {
      "text/html": [
       "Find logs at: <code>./wandb/run-20250416_235037-x6u2xx1x/logs</code>"
      ],
      "text/plain": [
       "<IPython.core.display.HTML object>"
      ]
     },
     "metadata": {},
     "output_type": "display_data"
    },
    {
     "name": "stderr",
     "output_type": "stream",
     "text": [
      "\u001b[34m\u001b[1mwandb\u001b[0m: Sweep Agent: Waiting for job.\n",
      "\u001b[34m\u001b[1mwandb\u001b[0m: Job received.\n",
      "\u001b[34m\u001b[1mwandb\u001b[0m: Agent Starting Run: fgwe4024 with config:\n",
      "\u001b[34m\u001b[1mwandb\u001b[0m: \tbatch_norm_conv: False\n",
      "\u001b[34m\u001b[1mwandb\u001b[0m: \tbatch_norm_fc: True\n",
      "\u001b[34m\u001b[1mwandb\u001b[0m: \tbatch_size: 32\n",
      "\u001b[34m\u001b[1mwandb\u001b[0m: \tconv_1_filter_size: 5\n",
      "\u001b[34m\u001b[1mwandb\u001b[0m: \tconv_2_filter_size: 5\n",
      "\u001b[34m\u001b[1mwandb\u001b[0m: \tconv_3_filter_size: 3\n",
      "\u001b[34m\u001b[1mwandb\u001b[0m: \tconv_4_filter_size: 7\n",
      "\u001b[34m\u001b[1mwandb\u001b[0m: \tconv_5_filter_size: 5\n",
      "\u001b[34m\u001b[1mwandb\u001b[0m: \tconv_activation: SiLU\n",
      "\u001b[34m\u001b[1mwandb\u001b[0m: \tconv_padding: [None, None, None, None, None]\n",
      "\u001b[34m\u001b[1mwandb\u001b[0m: \tconv_strides: [1, 1, 1, 1, 1]\n",
      "\u001b[34m\u001b[1mwandb\u001b[0m: \tdata_aug: False\n",
      "\u001b[34m\u001b[1mwandb\u001b[0m: \tdropout_conv: 0\n",
      "\u001b[34m\u001b[1mwandb\u001b[0m: \tdropout_fc: 0\n",
      "\u001b[34m\u001b[1mwandb\u001b[0m: \tepochs: 20\n",
      "\u001b[34m\u001b[1mwandb\u001b[0m: \tfc_activations: GELU\n",
      "\u001b[34m\u001b[1mwandb\u001b[0m: \tfc_neurons: 512\n",
      "\u001b[34m\u001b[1mwandb\u001b[0m: \tfilter_mul: 1\n",
      "\u001b[34m\u001b[1mwandb\u001b[0m: \tinput_channels: 3\n",
      "\u001b[34m\u001b[1mwandb\u001b[0m: \tinput_size: [256, 256]\n",
      "\u001b[34m\u001b[1mwandb\u001b[0m: \tlearning_rate: 0.001\n",
      "\u001b[34m\u001b[1mwandb\u001b[0m: \tmp_layer1_kernel_size: 2\n",
      "\u001b[34m\u001b[1mwandb\u001b[0m: \tmp_layer1_stride: 2\n",
      "\u001b[34m\u001b[1mwandb\u001b[0m: \tmp_layer2_kernel_size: 3\n",
      "\u001b[34m\u001b[1mwandb\u001b[0m: \tmp_layer2_stride: 2\n",
      "\u001b[34m\u001b[1mwandb\u001b[0m: \tmp_layer3_kernel_size: 5\n",
      "\u001b[34m\u001b[1mwandb\u001b[0m: \tmp_layer3_stride: 2\n",
      "\u001b[34m\u001b[1mwandb\u001b[0m: \tmp_layer4_kernel_size: 2\n",
      "\u001b[34m\u001b[1mwandb\u001b[0m: \tmp_layer4_stride: 2\n",
      "\u001b[34m\u001b[1mwandb\u001b[0m: \tmp_layer5_kernel_size: 2\n",
      "\u001b[34m\u001b[1mwandb\u001b[0m: \tmp_layer5_stride: 2\n",
      "\u001b[34m\u001b[1mwandb\u001b[0m: \tno_of_conv_blocks: 5\n",
      "\u001b[34m\u001b[1mwandb\u001b[0m: \tno_of_fc_layers: 1\n",
      "\u001b[34m\u001b[1mwandb\u001b[0m: \tno_of_filters: 128\n",
      "\u001b[34m\u001b[1mwandb\u001b[0m: \tnum_classes: 10\n",
      "\u001b[34m\u001b[1mwandb\u001b[0m: \tnum_workers: 10\n"
     ]
    },
    {
     "data": {
      "text/html": [
       "Tracking run with wandb version 0.19.9"
      ],
      "text/plain": [
       "<IPython.core.display.HTML object>"
      ]
     },
     "metadata": {},
     "output_type": "display_data"
    },
    {
     "data": {
      "text/html": [
       "Run data is saved locally in <code>/home/joel/Pytorch_CUDA/wandb/run-20250416_235052-fgwe4024</code>"
      ],
      "text/plain": [
       "<IPython.core.display.HTML object>"
      ]
     },
     "metadata": {},
     "output_type": "display_data"
    },
    {
     "data": {
      "text/html": [
       "Syncing run <strong><a href='https://wandb.ai/A2_DA6401_DL/Lightning_CNN/runs/fgwe4024' target=\"_blank\">stilted-sweep-407</a></strong> to <a href='https://wandb.ai/A2_DA6401_DL/Lightning_CNN' target=\"_blank\">Weights & Biases</a> (<a href='https://wandb.me/developer-guide' target=\"_blank\">docs</a>)<br>Sweep page: <a href='https://wandb.ai/A2_DA6401_DL/Lightning_CNN/sweeps/8km3fqmz' target=\"_blank\">https://wandb.ai/A2_DA6401_DL/Lightning_CNN/sweeps/8km3fqmz</a>"
      ],
      "text/plain": [
       "<IPython.core.display.HTML object>"
      ]
     },
     "metadata": {},
     "output_type": "display_data"
    },
    {
     "data": {
      "text/html": [
       " View project at <a href='https://wandb.ai/A2_DA6401_DL/Lightning_CNN' target=\"_blank\">https://wandb.ai/A2_DA6401_DL/Lightning_CNN</a>"
      ],
      "text/plain": [
       "<IPython.core.display.HTML object>"
      ]
     },
     "metadata": {},
     "output_type": "display_data"
    },
    {
     "data": {
      "text/html": [
       " View sweep at <a href='https://wandb.ai/A2_DA6401_DL/Lightning_CNN/sweeps/8km3fqmz' target=\"_blank\">https://wandb.ai/A2_DA6401_DL/Lightning_CNN/sweeps/8km3fqmz</a>"
      ],
      "text/plain": [
       "<IPython.core.display.HTML object>"
      ]
     },
     "metadata": {},
     "output_type": "display_data"
    },
    {
     "data": {
      "text/html": [
       " View run at <a href='https://wandb.ai/A2_DA6401_DL/Lightning_CNN/runs/fgwe4024' target=\"_blank\">https://wandb.ai/A2_DA6401_DL/Lightning_CNN/runs/fgwe4024</a>"
      ],
      "text/plain": [
       "<IPython.core.display.HTML object>"
      ]
     },
     "metadata": {},
     "output_type": "display_data"
    },
    {
     "name": "stderr",
     "output_type": "stream",
     "text": [
      "You are using the plain ModelCheckpoint callback. Consider using LitModelCheckpoint which with seamless uploading to Model registry.\n",
      "GPU available: True (cuda), used: True\n",
      "TPU available: False, using: 0 TPU cores\n",
      "HPU available: False, using: 0 HPUs\n",
      "/home/joel/Pytorch_CUDA/virt_env/lib/python3.12/site-packages/lightning/pytorch/loggers/wandb.py:397: There is a wandb run already in progress and newly created instances of `WandbLogger` will reuse this run. If this is not desired, call `wandb.finish()` before instantiating `WandbLogger`.\n",
      "LOCAL_RANK: 0 - CUDA_VISIBLE_DEVICES: [0]\n",
      "\n",
      "  | Name       | Type               | Params | Mode \n",
      "----------------------------------------------------------\n",
      "0 | model      | CNN_               | 5.0 M  | train\n",
      "1 | loss_fn    | CrossEntropyLoss   | 0      | train\n",
      "2 | acc_metric | MulticlassAccuracy | 0      | train\n",
      "----------------------------------------------------------\n",
      "5.0 M     Trainable params\n",
      "0         Non-trainable params\n",
      "5.0 M     Total params\n",
      "19.991    Total estimated model params size (MB)\n",
      "43        Modules in train mode\n",
      "0         Modules in eval mode\n"
     ]
    },
    {
     "data": {
      "application/vnd.jupyter.widget-view+json": {
       "model_id": "80a52e5417d14fcd8871cfa7bd5c5b8c",
       "version_major": 2,
       "version_minor": 0
      },
      "text/plain": [
       "Sanity Checking: |          | 0/? [00:00<?, ?it/s]"
      ]
     },
     "metadata": {},
     "output_type": "display_data"
    },
    {
     "data": {
      "application/vnd.jupyter.widget-view+json": {
       "model_id": "03f786fef4604664910cac4144e21adc",
       "version_major": 2,
       "version_minor": 0
      },
      "text/plain": [
       "Training: |          | 0/? [00:00<?, ?it/s]"
      ]
     },
     "metadata": {},
     "output_type": "display_data"
    },
    {
     "name": "stdout",
     "output_type": "stream",
     "text": [
      "⚠️ CUDA Out Of Memory — skipping this run.\n"
     ]
    },
    {
     "data": {
      "text/html": [],
      "text/plain": [
       "<IPython.core.display.HTML object>"
      ]
     },
     "metadata": {},
     "output_type": "display_data"
    },
    {
     "data": {
      "text/html": [
       " View run <strong style=\"color:#cdcd00\">bs_32_layer_act_SiLU_epoch_20_filter_mul_1_num_filters_128</strong> at: <a href='https://wandb.ai/A2_DA6401_DL/Lightning_CNN/runs/fgwe4024' target=\"_blank\">https://wandb.ai/A2_DA6401_DL/Lightning_CNN/runs/fgwe4024</a><br> View project at: <a href='https://wandb.ai/A2_DA6401_DL/Lightning_CNN' target=\"_blank\">https://wandb.ai/A2_DA6401_DL/Lightning_CNN</a><br>Synced 5 W&B file(s), 0 media file(s), 0 artifact file(s) and 0 other file(s)"
      ],
      "text/plain": [
       "<IPython.core.display.HTML object>"
      ]
     },
     "metadata": {},
     "output_type": "display_data"
    },
    {
     "data": {
      "text/html": [
       "Find logs at: <code>./wandb/run-20250416_235052-fgwe4024/logs</code>"
      ],
      "text/plain": [
       "<IPython.core.display.HTML object>"
      ]
     },
     "metadata": {},
     "output_type": "display_data"
    },
    {
     "name": "stderr",
     "output_type": "stream",
     "text": [
      "\u001b[34m\u001b[1mwandb\u001b[0m: Agent Starting Run: 51gpe3ua with config:\n",
      "\u001b[34m\u001b[1mwandb\u001b[0m: \tbatch_norm_conv: False\n",
      "\u001b[34m\u001b[1mwandb\u001b[0m: \tbatch_norm_fc: True\n",
      "\u001b[34m\u001b[1mwandb\u001b[0m: \tbatch_size: 64\n",
      "\u001b[34m\u001b[1mwandb\u001b[0m: \tconv_1_filter_size: 3\n",
      "\u001b[34m\u001b[1mwandb\u001b[0m: \tconv_2_filter_size: 3\n",
      "\u001b[34m\u001b[1mwandb\u001b[0m: \tconv_3_filter_size: 3\n",
      "\u001b[34m\u001b[1mwandb\u001b[0m: \tconv_4_filter_size: 7\n",
      "\u001b[34m\u001b[1mwandb\u001b[0m: \tconv_5_filter_size: 7\n",
      "\u001b[34m\u001b[1mwandb\u001b[0m: \tconv_activation: LeakyReLU\n",
      "\u001b[34m\u001b[1mwandb\u001b[0m: \tconv_padding: [None, None, None, None, None]\n",
      "\u001b[34m\u001b[1mwandb\u001b[0m: \tconv_strides: [1, 1, 1, 1, 1]\n",
      "\u001b[34m\u001b[1mwandb\u001b[0m: \tdata_aug: True\n",
      "\u001b[34m\u001b[1mwandb\u001b[0m: \tdropout_conv: 0\n",
      "\u001b[34m\u001b[1mwandb\u001b[0m: \tdropout_fc: 0.2\n",
      "\u001b[34m\u001b[1mwandb\u001b[0m: \tepochs: 20\n",
      "\u001b[34m\u001b[1mwandb\u001b[0m: \tfc_activations: ReLU\n",
      "\u001b[34m\u001b[1mwandb\u001b[0m: \tfc_neurons: 512\n",
      "\u001b[34m\u001b[1mwandb\u001b[0m: \tfilter_mul: 1\n",
      "\u001b[34m\u001b[1mwandb\u001b[0m: \tinput_channels: 3\n",
      "\u001b[34m\u001b[1mwandb\u001b[0m: \tinput_size: [256, 256]\n",
      "\u001b[34m\u001b[1mwandb\u001b[0m: \tlearning_rate: 0.001\n",
      "\u001b[34m\u001b[1mwandb\u001b[0m: \tmp_layer1_kernel_size: 5\n",
      "\u001b[34m\u001b[1mwandb\u001b[0m: \tmp_layer1_stride: 2\n",
      "\u001b[34m\u001b[1mwandb\u001b[0m: \tmp_layer2_kernel_size: 5\n",
      "\u001b[34m\u001b[1mwandb\u001b[0m: \tmp_layer2_stride: 2\n",
      "\u001b[34m\u001b[1mwandb\u001b[0m: \tmp_layer3_kernel_size: 2\n",
      "\u001b[34m\u001b[1mwandb\u001b[0m: \tmp_layer3_stride: 2\n",
      "\u001b[34m\u001b[1mwandb\u001b[0m: \tmp_layer4_kernel_size: 3\n",
      "\u001b[34m\u001b[1mwandb\u001b[0m: \tmp_layer4_stride: 3\n",
      "\u001b[34m\u001b[1mwandb\u001b[0m: \tmp_layer5_kernel_size: 2\n",
      "\u001b[34m\u001b[1mwandb\u001b[0m: \tmp_layer5_stride: 3\n",
      "\u001b[34m\u001b[1mwandb\u001b[0m: \tno_of_conv_blocks: 5\n",
      "\u001b[34m\u001b[1mwandb\u001b[0m: \tno_of_fc_layers: 1\n",
      "\u001b[34m\u001b[1mwandb\u001b[0m: \tno_of_filters: 64\n",
      "\u001b[34m\u001b[1mwandb\u001b[0m: \tnum_classes: 10\n",
      "\u001b[34m\u001b[1mwandb\u001b[0m: \tnum_workers: 10\n"
     ]
    },
    {
     "data": {
      "text/html": [
       "Tracking run with wandb version 0.19.9"
      ],
      "text/plain": [
       "<IPython.core.display.HTML object>"
      ]
     },
     "metadata": {},
     "output_type": "display_data"
    },
    {
     "data": {
      "text/html": [
       "Run data is saved locally in <code>/home/joel/Pytorch_CUDA/wandb/run-20250416_235059-51gpe3ua</code>"
      ],
      "text/plain": [
       "<IPython.core.display.HTML object>"
      ]
     },
     "metadata": {},
     "output_type": "display_data"
    },
    {
     "data": {
      "text/html": [
       "Syncing run <strong><a href='https://wandb.ai/A2_DA6401_DL/Lightning_CNN/runs/51gpe3ua' target=\"_blank\">wise-sweep-408</a></strong> to <a href='https://wandb.ai/A2_DA6401_DL/Lightning_CNN' target=\"_blank\">Weights & Biases</a> (<a href='https://wandb.me/developer-guide' target=\"_blank\">docs</a>)<br>Sweep page: <a href='https://wandb.ai/A2_DA6401_DL/Lightning_CNN/sweeps/8km3fqmz' target=\"_blank\">https://wandb.ai/A2_DA6401_DL/Lightning_CNN/sweeps/8km3fqmz</a>"
      ],
      "text/plain": [
       "<IPython.core.display.HTML object>"
      ]
     },
     "metadata": {},
     "output_type": "display_data"
    },
    {
     "data": {
      "text/html": [
       " View project at <a href='https://wandb.ai/A2_DA6401_DL/Lightning_CNN' target=\"_blank\">https://wandb.ai/A2_DA6401_DL/Lightning_CNN</a>"
      ],
      "text/plain": [
       "<IPython.core.display.HTML object>"
      ]
     },
     "metadata": {},
     "output_type": "display_data"
    },
    {
     "data": {
      "text/html": [
       " View sweep at <a href='https://wandb.ai/A2_DA6401_DL/Lightning_CNN/sweeps/8km3fqmz' target=\"_blank\">https://wandb.ai/A2_DA6401_DL/Lightning_CNN/sweeps/8km3fqmz</a>"
      ],
      "text/plain": [
       "<IPython.core.display.HTML object>"
      ]
     },
     "metadata": {},
     "output_type": "display_data"
    },
    {
     "data": {
      "text/html": [
       " View run at <a href='https://wandb.ai/A2_DA6401_DL/Lightning_CNN/runs/51gpe3ua' target=\"_blank\">https://wandb.ai/A2_DA6401_DL/Lightning_CNN/runs/51gpe3ua</a>"
      ],
      "text/plain": [
       "<IPython.core.display.HTML object>"
      ]
     },
     "metadata": {},
     "output_type": "display_data"
    },
    {
     "name": "stderr",
     "output_type": "stream",
     "text": [
      "You are using the plain ModelCheckpoint callback. Consider using LitModelCheckpoint which with seamless uploading to Model registry.\n",
      "GPU available: True (cuda), used: True\n",
      "TPU available: False, using: 0 TPU cores\n",
      "HPU available: False, using: 0 HPUs\n",
      "/home/joel/Pytorch_CUDA/virt_env/lib/python3.12/site-packages/lightning/pytorch/loggers/wandb.py:397: There is a wandb run already in progress and newly created instances of `WandbLogger` will reuse this run. If this is not desired, call `wandb.finish()` before instantiating `WandbLogger`.\n",
      "LOCAL_RANK: 0 - CUDA_VISIBLE_DEVICES: [0]\n",
      "\n",
      "  | Name       | Type               | Params | Mode \n",
      "----------------------------------------------------------\n",
      "0 | model      | CNN_               | 778 K  | train\n",
      "1 | loss_fn    | CrossEntropyLoss   | 0      | train\n",
      "2 | acc_metric | MulticlassAccuracy | 0      | train\n",
      "----------------------------------------------------------\n",
      "778 K     Trainable params\n",
      "0         Non-trainable params\n",
      "778 K     Total params\n",
      "3.115     Total estimated model params size (MB)\n",
      "43        Modules in train mode\n",
      "0         Modules in eval mode\n"
     ]
    },
    {
     "data": {
      "application/vnd.jupyter.widget-view+json": {
       "model_id": "cbb53fe730374ea9bffcfa9ddc1cc4b9",
       "version_major": 2,
       "version_minor": 0
      },
      "text/plain": [
       "Sanity Checking: |          | 0/? [00:00<?, ?it/s]"
      ]
     },
     "metadata": {},
     "output_type": "display_data"
    },
    {
     "data": {
      "application/vnd.jupyter.widget-view+json": {
       "model_id": "f03e49a7f42e4ddfb75a3c468fed140a",
       "version_major": 2,
       "version_minor": 0
      },
      "text/plain": [
       "Training: |          | 0/? [00:00<?, ?it/s]"
      ]
     },
     "metadata": {},
     "output_type": "display_data"
    },
    {
     "name": "stdout",
     "output_type": "stream",
     "text": [
      "⚠️ CUDA Out Of Memory — skipping this run.\n"
     ]
    },
    {
     "data": {
      "text/html": [],
      "text/plain": [
       "<IPython.core.display.HTML object>"
      ]
     },
     "metadata": {},
     "output_type": "display_data"
    },
    {
     "data": {
      "text/html": [
       " View run <strong style=\"color:#cdcd00\">bs_64_layer_act_LeakyReLU_epoch_20_filter_mul_1_num_filters_64</strong> at: <a href='https://wandb.ai/A2_DA6401_DL/Lightning_CNN/runs/51gpe3ua' target=\"_blank\">https://wandb.ai/A2_DA6401_DL/Lightning_CNN/runs/51gpe3ua</a><br> View project at: <a href='https://wandb.ai/A2_DA6401_DL/Lightning_CNN' target=\"_blank\">https://wandb.ai/A2_DA6401_DL/Lightning_CNN</a><br>Synced 5 W&B file(s), 0 media file(s), 0 artifact file(s) and 0 other file(s)"
      ],
      "text/plain": [
       "<IPython.core.display.HTML object>"
      ]
     },
     "metadata": {},
     "output_type": "display_data"
    },
    {
     "data": {
      "text/html": [
       "Find logs at: <code>./wandb/run-20250416_235059-51gpe3ua/logs</code>"
      ],
      "text/plain": [
       "<IPython.core.display.HTML object>"
      ]
     },
     "metadata": {},
     "output_type": "display_data"
    },
    {
     "name": "stderr",
     "output_type": "stream",
     "text": [
      "\u001b[34m\u001b[1mwandb\u001b[0m: Agent Starting Run: qr5mg2v6 with config:\n",
      "\u001b[34m\u001b[1mwandb\u001b[0m: \tbatch_norm_conv: False\n",
      "\u001b[34m\u001b[1mwandb\u001b[0m: \tbatch_norm_fc: True\n",
      "\u001b[34m\u001b[1mwandb\u001b[0m: \tbatch_size: 32\n",
      "\u001b[34m\u001b[1mwandb\u001b[0m: \tconv_1_filter_size: 7\n",
      "\u001b[34m\u001b[1mwandb\u001b[0m: \tconv_2_filter_size: 5\n",
      "\u001b[34m\u001b[1mwandb\u001b[0m: \tconv_3_filter_size: 5\n",
      "\u001b[34m\u001b[1mwandb\u001b[0m: \tconv_4_filter_size: 5\n",
      "\u001b[34m\u001b[1mwandb\u001b[0m: \tconv_5_filter_size: 5\n",
      "\u001b[34m\u001b[1mwandb\u001b[0m: \tconv_activation: Mish\n",
      "\u001b[34m\u001b[1mwandb\u001b[0m: \tconv_padding: [None, None, None, None, None]\n",
      "\u001b[34m\u001b[1mwandb\u001b[0m: \tconv_strides: [1, 1, 1, 1, 1]\n",
      "\u001b[34m\u001b[1mwandb\u001b[0m: \tdata_aug: False\n",
      "\u001b[34m\u001b[1mwandb\u001b[0m: \tdropout_conv: 0.2\n",
      "\u001b[34m\u001b[1mwandb\u001b[0m: \tdropout_fc: 0.2\n",
      "\u001b[34m\u001b[1mwandb\u001b[0m: \tepochs: 20\n",
      "\u001b[34m\u001b[1mwandb\u001b[0m: \tfc_activations: LeakyReLU\n",
      "\u001b[34m\u001b[1mwandb\u001b[0m: \tfc_neurons: 512\n",
      "\u001b[34m\u001b[1mwandb\u001b[0m: \tfilter_mul: 0.5\n",
      "\u001b[34m\u001b[1mwandb\u001b[0m: \tinput_channels: 3\n",
      "\u001b[34m\u001b[1mwandb\u001b[0m: \tinput_size: [256, 256]\n",
      "\u001b[34m\u001b[1mwandb\u001b[0m: \tlearning_rate: 0.0005\n",
      "\u001b[34m\u001b[1mwandb\u001b[0m: \tmp_layer1_kernel_size: 2\n",
      "\u001b[34m\u001b[1mwandb\u001b[0m: \tmp_layer1_stride: 2\n",
      "\u001b[34m\u001b[1mwandb\u001b[0m: \tmp_layer2_kernel_size: 3\n",
      "\u001b[34m\u001b[1mwandb\u001b[0m: \tmp_layer2_stride: 2\n",
      "\u001b[34m\u001b[1mwandb\u001b[0m: \tmp_layer3_kernel_size: 3\n",
      "\u001b[34m\u001b[1mwandb\u001b[0m: \tmp_layer3_stride: 3\n",
      "\u001b[34m\u001b[1mwandb\u001b[0m: \tmp_layer4_kernel_size: 3\n",
      "\u001b[34m\u001b[1mwandb\u001b[0m: \tmp_layer4_stride: 2\n",
      "\u001b[34m\u001b[1mwandb\u001b[0m: \tmp_layer5_kernel_size: 2\n",
      "\u001b[34m\u001b[1mwandb\u001b[0m: \tmp_layer5_stride: 3\n",
      "\u001b[34m\u001b[1mwandb\u001b[0m: \tno_of_conv_blocks: 5\n",
      "\u001b[34m\u001b[1mwandb\u001b[0m: \tno_of_fc_layers: 1\n",
      "\u001b[34m\u001b[1mwandb\u001b[0m: \tno_of_filters: 64\n",
      "\u001b[34m\u001b[1mwandb\u001b[0m: \tnum_classes: 10\n",
      "\u001b[34m\u001b[1mwandb\u001b[0m: \tnum_workers: 10\n"
     ]
    },
    {
     "data": {
      "text/html": [
       "Tracking run with wandb version 0.19.9"
      ],
      "text/plain": [
       "<IPython.core.display.HTML object>"
      ]
     },
     "metadata": {},
     "output_type": "display_data"
    },
    {
     "data": {
      "text/html": [
       "Run data is saved locally in <code>/home/joel/Pytorch_CUDA/wandb/run-20250416_235109-qr5mg2v6</code>"
      ],
      "text/plain": [
       "<IPython.core.display.HTML object>"
      ]
     },
     "metadata": {},
     "output_type": "display_data"
    },
    {
     "data": {
      "text/html": [
       "Syncing run <strong><a href='https://wandb.ai/A2_DA6401_DL/Lightning_CNN/runs/qr5mg2v6' target=\"_blank\">golden-sweep-409</a></strong> to <a href='https://wandb.ai/A2_DA6401_DL/Lightning_CNN' target=\"_blank\">Weights & Biases</a> (<a href='https://wandb.me/developer-guide' target=\"_blank\">docs</a>)<br>Sweep page: <a href='https://wandb.ai/A2_DA6401_DL/Lightning_CNN/sweeps/8km3fqmz' target=\"_blank\">https://wandb.ai/A2_DA6401_DL/Lightning_CNN/sweeps/8km3fqmz</a>"
      ],
      "text/plain": [
       "<IPython.core.display.HTML object>"
      ]
     },
     "metadata": {},
     "output_type": "display_data"
    },
    {
     "data": {
      "text/html": [
       " View project at <a href='https://wandb.ai/A2_DA6401_DL/Lightning_CNN' target=\"_blank\">https://wandb.ai/A2_DA6401_DL/Lightning_CNN</a>"
      ],
      "text/plain": [
       "<IPython.core.display.HTML object>"
      ]
     },
     "metadata": {},
     "output_type": "display_data"
    },
    {
     "data": {
      "text/html": [
       " View sweep at <a href='https://wandb.ai/A2_DA6401_DL/Lightning_CNN/sweeps/8km3fqmz' target=\"_blank\">https://wandb.ai/A2_DA6401_DL/Lightning_CNN/sweeps/8km3fqmz</a>"
      ],
      "text/plain": [
       "<IPython.core.display.HTML object>"
      ]
     },
     "metadata": {},
     "output_type": "display_data"
    },
    {
     "data": {
      "text/html": [
       " View run at <a href='https://wandb.ai/A2_DA6401_DL/Lightning_CNN/runs/qr5mg2v6' target=\"_blank\">https://wandb.ai/A2_DA6401_DL/Lightning_CNN/runs/qr5mg2v6</a>"
      ],
      "text/plain": [
       "<IPython.core.display.HTML object>"
      ]
     },
     "metadata": {},
     "output_type": "display_data"
    },
    {
     "name": "stdout",
     "output_type": "stream",
     "text": [
      "Not a good combination !!!\n"
     ]
    },
    {
     "data": {
      "text/html": [],
      "text/plain": [
       "<IPython.core.display.HTML object>"
      ]
     },
     "metadata": {},
     "output_type": "display_data"
    },
    {
     "data": {
      "text/html": [
       " View run <strong style=\"color:#cdcd00\">bs_32_layer_act_Mish_epoch_20_filter_mul_0.5_num_filters_64</strong> at: <a href='https://wandb.ai/A2_DA6401_DL/Lightning_CNN/runs/qr5mg2v6' target=\"_blank\">https://wandb.ai/A2_DA6401_DL/Lightning_CNN/runs/qr5mg2v6</a><br> View project at: <a href='https://wandb.ai/A2_DA6401_DL/Lightning_CNN' target=\"_blank\">https://wandb.ai/A2_DA6401_DL/Lightning_CNN</a><br>Synced 5 W&B file(s), 0 media file(s), 0 artifact file(s) and 0 other file(s)"
      ],
      "text/plain": [
       "<IPython.core.display.HTML object>"
      ]
     },
     "metadata": {},
     "output_type": "display_data"
    },
    {
     "data": {
      "text/html": [
       "Find logs at: <code>./wandb/run-20250416_235109-qr5mg2v6/logs</code>"
      ],
      "text/plain": [
       "<IPython.core.display.HTML object>"
      ]
     },
     "metadata": {},
     "output_type": "display_data"
    },
    {
     "name": "stderr",
     "output_type": "stream",
     "text": [
      "\u001b[34m\u001b[1mwandb\u001b[0m: Sweep Agent: Waiting for job.\n",
      "\u001b[34m\u001b[1mwandb\u001b[0m: Job received.\n",
      "\u001b[34m\u001b[1mwandb\u001b[0m: Agent Starting Run: dzma1xwh with config:\n",
      "\u001b[34m\u001b[1mwandb\u001b[0m: \tbatch_norm_conv: False\n",
      "\u001b[34m\u001b[1mwandb\u001b[0m: \tbatch_norm_fc: True\n",
      "\u001b[34m\u001b[1mwandb\u001b[0m: \tbatch_size: 32\n",
      "\u001b[34m\u001b[1mwandb\u001b[0m: \tconv_1_filter_size: 7\n",
      "\u001b[34m\u001b[1mwandb\u001b[0m: \tconv_2_filter_size: 7\n",
      "\u001b[34m\u001b[1mwandb\u001b[0m: \tconv_3_filter_size: 7\n",
      "\u001b[34m\u001b[1mwandb\u001b[0m: \tconv_4_filter_size: 5\n",
      "\u001b[34m\u001b[1mwandb\u001b[0m: \tconv_5_filter_size: 7\n",
      "\u001b[34m\u001b[1mwandb\u001b[0m: \tconv_activation: SELU\n",
      "\u001b[34m\u001b[1mwandb\u001b[0m: \tconv_padding: [None, None, None, None, None]\n",
      "\u001b[34m\u001b[1mwandb\u001b[0m: \tconv_strides: [1, 1, 1, 1, 1]\n",
      "\u001b[34m\u001b[1mwandb\u001b[0m: \tdata_aug: False\n",
      "\u001b[34m\u001b[1mwandb\u001b[0m: \tdropout_conv: 0.2\n",
      "\u001b[34m\u001b[1mwandb\u001b[0m: \tdropout_fc: 0\n",
      "\u001b[34m\u001b[1mwandb\u001b[0m: \tepochs: 20\n",
      "\u001b[34m\u001b[1mwandb\u001b[0m: \tfc_activations: GELU\n",
      "\u001b[34m\u001b[1mwandb\u001b[0m: \tfc_neurons: 512\n",
      "\u001b[34m\u001b[1mwandb\u001b[0m: \tfilter_mul: 2\n",
      "\u001b[34m\u001b[1mwandb\u001b[0m: \tinput_channels: 3\n",
      "\u001b[34m\u001b[1mwandb\u001b[0m: \tinput_size: [256, 256]\n",
      "\u001b[34m\u001b[1mwandb\u001b[0m: \tlearning_rate: 0.0005\n",
      "\u001b[34m\u001b[1mwandb\u001b[0m: \tmp_layer1_kernel_size: 3\n",
      "\u001b[34m\u001b[1mwandb\u001b[0m: \tmp_layer1_stride: 3\n",
      "\u001b[34m\u001b[1mwandb\u001b[0m: \tmp_layer2_kernel_size: 5\n",
      "\u001b[34m\u001b[1mwandb\u001b[0m: \tmp_layer2_stride: 2\n",
      "\u001b[34m\u001b[1mwandb\u001b[0m: \tmp_layer3_kernel_size: 5\n",
      "\u001b[34m\u001b[1mwandb\u001b[0m: \tmp_layer3_stride: 3\n",
      "\u001b[34m\u001b[1mwandb\u001b[0m: \tmp_layer4_kernel_size: 2\n",
      "\u001b[34m\u001b[1mwandb\u001b[0m: \tmp_layer4_stride: 3\n",
      "\u001b[34m\u001b[1mwandb\u001b[0m: \tmp_layer5_kernel_size: 3\n",
      "\u001b[34m\u001b[1mwandb\u001b[0m: \tmp_layer5_stride: 2\n",
      "\u001b[34m\u001b[1mwandb\u001b[0m: \tno_of_conv_blocks: 5\n",
      "\u001b[34m\u001b[1mwandb\u001b[0m: \tno_of_fc_layers: 1\n",
      "\u001b[34m\u001b[1mwandb\u001b[0m: \tno_of_filters: 16\n",
      "\u001b[34m\u001b[1mwandb\u001b[0m: \tnum_classes: 10\n",
      "\u001b[34m\u001b[1mwandb\u001b[0m: \tnum_workers: 10\n"
     ]
    },
    {
     "data": {
      "text/html": [
       "Tracking run with wandb version 0.19.9"
      ],
      "text/plain": [
       "<IPython.core.display.HTML object>"
      ]
     },
     "metadata": {},
     "output_type": "display_data"
    },
    {
     "data": {
      "text/html": [
       "Run data is saved locally in <code>/home/joel/Pytorch_CUDA/wandb/run-20250416_235124-dzma1xwh</code>"
      ],
      "text/plain": [
       "<IPython.core.display.HTML object>"
      ]
     },
     "metadata": {},
     "output_type": "display_data"
    },
    {
     "data": {
      "text/html": [
       "Syncing run <strong><a href='https://wandb.ai/A2_DA6401_DL/Lightning_CNN/runs/dzma1xwh' target=\"_blank\">vibrant-sweep-410</a></strong> to <a href='https://wandb.ai/A2_DA6401_DL/Lightning_CNN' target=\"_blank\">Weights & Biases</a> (<a href='https://wandb.me/developer-guide' target=\"_blank\">docs</a>)<br>Sweep page: <a href='https://wandb.ai/A2_DA6401_DL/Lightning_CNN/sweeps/8km3fqmz' target=\"_blank\">https://wandb.ai/A2_DA6401_DL/Lightning_CNN/sweeps/8km3fqmz</a>"
      ],
      "text/plain": [
       "<IPython.core.display.HTML object>"
      ]
     },
     "metadata": {},
     "output_type": "display_data"
    },
    {
     "data": {
      "text/html": [
       " View project at <a href='https://wandb.ai/A2_DA6401_DL/Lightning_CNN' target=\"_blank\">https://wandb.ai/A2_DA6401_DL/Lightning_CNN</a>"
      ],
      "text/plain": [
       "<IPython.core.display.HTML object>"
      ]
     },
     "metadata": {},
     "output_type": "display_data"
    },
    {
     "data": {
      "text/html": [
       " View sweep at <a href='https://wandb.ai/A2_DA6401_DL/Lightning_CNN/sweeps/8km3fqmz' target=\"_blank\">https://wandb.ai/A2_DA6401_DL/Lightning_CNN/sweeps/8km3fqmz</a>"
      ],
      "text/plain": [
       "<IPython.core.display.HTML object>"
      ]
     },
     "metadata": {},
     "output_type": "display_data"
    },
    {
     "data": {
      "text/html": [
       " View run at <a href='https://wandb.ai/A2_DA6401_DL/Lightning_CNN/runs/dzma1xwh' target=\"_blank\">https://wandb.ai/A2_DA6401_DL/Lightning_CNN/runs/dzma1xwh</a>"
      ],
      "text/plain": [
       "<IPython.core.display.HTML object>"
      ]
     },
     "metadata": {},
     "output_type": "display_data"
    },
    {
     "name": "stderr",
     "output_type": "stream",
     "text": [
      "You are using the plain ModelCheckpoint callback. Consider using LitModelCheckpoint which with seamless uploading to Model registry.\n",
      "GPU available: True (cuda), used: True\n",
      "TPU available: False, using: 0 TPU cores\n",
      "HPU available: False, using: 0 HPUs\n",
      "/home/joel/Pytorch_CUDA/virt_env/lib/python3.12/site-packages/lightning/pytorch/loggers/wandb.py:397: There is a wandb run already in progress and newly created instances of `WandbLogger` will reuse this run. If this is not desired, call `wandb.finish()` before instantiating `WandbLogger`.\n",
      "LOCAL_RANK: 0 - CUDA_VISIBLE_DEVICES: [0]\n",
      "\n",
      "  | Name       | Type               | Params | Mode \n",
      "----------------------------------------------------------\n",
      "0 | model      | CNN_               | 2.1 M  | train\n",
      "1 | loss_fn    | CrossEntropyLoss   | 0      | train\n",
      "2 | acc_metric | MulticlassAccuracy | 0      | train\n",
      "----------------------------------------------------------\n",
      "2.1 M     Trainable params\n",
      "0         Non-trainable params\n",
      "2.1 M     Total params\n",
      "8.306     Total estimated model params size (MB)\n",
      "43        Modules in train mode\n",
      "0         Modules in eval mode\n"
     ]
    },
    {
     "data": {
      "application/vnd.jupyter.widget-view+json": {
       "model_id": "c236cde038cb40c883c4517191d2bcd9",
       "version_major": 2,
       "version_minor": 0
      },
      "text/plain": [
       "Sanity Checking: |          | 0/? [00:00<?, ?it/s]"
      ]
     },
     "metadata": {},
     "output_type": "display_data"
    },
    {
     "data": {
      "application/vnd.jupyter.widget-view+json": {
       "model_id": "257db4f4a5c0444b8e0d7d957af818dc",
       "version_major": 2,
       "version_minor": 0
      },
      "text/plain": [
       "Training: |          | 0/? [00:00<?, ?it/s]"
      ]
     },
     "metadata": {},
     "output_type": "display_data"
    },
    {
     "data": {
      "application/vnd.jupyter.widget-view+json": {
       "model_id": "11ecc25bdada4e52a0ff4c3d6eaa84a0",
       "version_major": 2,
       "version_minor": 0
      },
      "text/plain": [
       "Validation: |          | 0/? [00:00<?, ?it/s]"
      ]
     },
     "metadata": {},
     "output_type": "display_data"
    },
    {
     "data": {
      "application/vnd.jupyter.widget-view+json": {
       "model_id": "6387419c568d4df7938b61ca8d7ae138",
       "version_major": 2,
       "version_minor": 0
      },
      "text/plain": [
       "Validation: |          | 0/? [00:00<?, ?it/s]"
      ]
     },
     "metadata": {},
     "output_type": "display_data"
    },
    {
     "data": {
      "application/vnd.jupyter.widget-view+json": {
       "model_id": "1b6466c72605412bb10c08631a654912",
       "version_major": 2,
       "version_minor": 0
      },
      "text/plain": [
       "Validation: |          | 0/? [00:00<?, ?it/s]"
      ]
     },
     "metadata": {},
     "output_type": "display_data"
    },
    {
     "data": {
      "application/vnd.jupyter.widget-view+json": {
       "model_id": "52891f853546499aad3f350d7b4f6b89",
       "version_major": 2,
       "version_minor": 0
      },
      "text/plain": [
       "Validation: |          | 0/? [00:00<?, ?it/s]"
      ]
     },
     "metadata": {},
     "output_type": "display_data"
    },
    {
     "data": {
      "application/vnd.jupyter.widget-view+json": {
       "model_id": "b96f28fef3be444d8337ccb0d862c821",
       "version_major": 2,
       "version_minor": 0
      },
      "text/plain": [
       "Validation: |          | 0/? [00:00<?, ?it/s]"
      ]
     },
     "metadata": {},
     "output_type": "display_data"
    },
    {
     "data": {
      "application/vnd.jupyter.widget-view+json": {
       "model_id": "a117475b3ddc4141a3329b96951b17ac",
       "version_major": 2,
       "version_minor": 0
      },
      "text/plain": [
       "Validation: |          | 0/? [00:00<?, ?it/s]"
      ]
     },
     "metadata": {},
     "output_type": "display_data"
    },
    {
     "data": {
      "application/vnd.jupyter.widget-view+json": {
       "model_id": "7db819b5952f4b79b45d00d13787dfcc",
       "version_major": 2,
       "version_minor": 0
      },
      "text/plain": [
       "Validation: |          | 0/? [00:00<?, ?it/s]"
      ]
     },
     "metadata": {},
     "output_type": "display_data"
    },
    {
     "data": {
      "application/vnd.jupyter.widget-view+json": {
       "model_id": "3b74836b05e44f42a6b01c83984a5e3b",
       "version_major": 2,
       "version_minor": 0
      },
      "text/plain": [
       "Validation: |          | 0/? [00:00<?, ?it/s]"
      ]
     },
     "metadata": {},
     "output_type": "display_data"
    },
    {
     "data": {
      "application/vnd.jupyter.widget-view+json": {
       "model_id": "8ef565bee08248ec89061cda63e73258",
       "version_major": 2,
       "version_minor": 0
      },
      "text/plain": [
       "Validation: |          | 0/? [00:00<?, ?it/s]"
      ]
     },
     "metadata": {},
     "output_type": "display_data"
    },
    {
     "data": {
      "application/vnd.jupyter.widget-view+json": {
       "model_id": "e95f686ed8d14de28247b128d2546ae4",
       "version_major": 2,
       "version_minor": 0
      },
      "text/plain": [
       "Validation: |          | 0/? [00:00<?, ?it/s]"
      ]
     },
     "metadata": {},
     "output_type": "display_data"
    },
    {
     "data": {
      "application/vnd.jupyter.widget-view+json": {
       "model_id": "6b4ecdd950404c1fa060f75c8ff84e3e",
       "version_major": 2,
       "version_minor": 0
      },
      "text/plain": [
       "Validation: |          | 0/? [00:00<?, ?it/s]"
      ]
     },
     "metadata": {},
     "output_type": "display_data"
    },
    {
     "data": {
      "application/vnd.jupyter.widget-view+json": {
       "model_id": "2de3d9fa60004d78b8da65b18e45fac4",
       "version_major": 2,
       "version_minor": 0
      },
      "text/plain": [
       "Validation: |          | 0/? [00:00<?, ?it/s]"
      ]
     },
     "metadata": {},
     "output_type": "display_data"
    },
    {
     "data": {
      "application/vnd.jupyter.widget-view+json": {
       "model_id": "c67c31b79b0d40158b764278292f1984",
       "version_major": 2,
       "version_minor": 0
      },
      "text/plain": [
       "Validation: |          | 0/? [00:00<?, ?it/s]"
      ]
     },
     "metadata": {},
     "output_type": "display_data"
    },
    {
     "data": {
      "application/vnd.jupyter.widget-view+json": {
       "model_id": "b26e961c585c49eda1619bf5522bc686",
       "version_major": 2,
       "version_minor": 0
      },
      "text/plain": [
       "Validation: |          | 0/? [00:00<?, ?it/s]"
      ]
     },
     "metadata": {},
     "output_type": "display_data"
    },
    {
     "data": {
      "application/vnd.jupyter.widget-view+json": {
       "model_id": "8208ab7f062146da926a2ad24124de9c",
       "version_major": 2,
       "version_minor": 0
      },
      "text/plain": [
       "Validation: |          | 0/? [00:00<?, ?it/s]"
      ]
     },
     "metadata": {},
     "output_type": "display_data"
    },
    {
     "data": {
      "application/vnd.jupyter.widget-view+json": {
       "model_id": "32a38af3d099454db1cd458f61a810c4",
       "version_major": 2,
       "version_minor": 0
      },
      "text/plain": [
       "Validation: |          | 0/? [00:00<?, ?it/s]"
      ]
     },
     "metadata": {},
     "output_type": "display_data"
    },
    {
     "data": {
      "application/vnd.jupyter.widget-view+json": {
       "model_id": "030fb8ab518546929ae53fe33187b398",
       "version_major": 2,
       "version_minor": 0
      },
      "text/plain": [
       "Validation: |          | 0/? [00:00<?, ?it/s]"
      ]
     },
     "metadata": {},
     "output_type": "display_data"
    },
    {
     "data": {
      "application/vnd.jupyter.widget-view+json": {
       "model_id": "cc74524c11e04612a965b261ddc9b3b5",
       "version_major": 2,
       "version_minor": 0
      },
      "text/plain": [
       "Validation: |          | 0/? [00:00<?, ?it/s]"
      ]
     },
     "metadata": {},
     "output_type": "display_data"
    },
    {
     "data": {
      "application/vnd.jupyter.widget-view+json": {
       "model_id": "82ee8ff809bd4528b9f3de0a7c140e31",
       "version_major": 2,
       "version_minor": 0
      },
      "text/plain": [
       "Validation: |          | 0/? [00:00<?, ?it/s]"
      ]
     },
     "metadata": {},
     "output_type": "display_data"
    },
    {
     "data": {
      "application/vnd.jupyter.widget-view+json": {
       "model_id": "0f9212924faa467593213672ca63a03e",
       "version_major": 2,
       "version_minor": 0
      },
      "text/plain": [
       "Validation: |          | 0/? [00:00<?, ?it/s]"
      ]
     },
     "metadata": {},
     "output_type": "display_data"
    },
    {
     "name": "stderr",
     "output_type": "stream",
     "text": [
      "`Trainer.fit` stopped: `max_epochs=20` reached.\n"
     ]
    },
    {
     "data": {
      "text/html": [],
      "text/plain": [
       "<IPython.core.display.HTML object>"
      ]
     },
     "metadata": {},
     "output_type": "display_data"
    },
    {
     "data": {
      "text/html": [
       "<br>    <style><br>        .wandb-row {<br>            display: flex;<br>            flex-direction: row;<br>            flex-wrap: wrap;<br>            justify-content: flex-start;<br>            width: 100%;<br>        }<br>        .wandb-col {<br>            display: flex;<br>            flex-direction: column;<br>            flex-basis: 100%;<br>            flex: 1;<br>            padding: 10px;<br>        }<br>    </style><br><div class=\"wandb-row\"><div class=\"wandb-col\"><h3>Run history:</h3><br/><table class=\"wandb\"><tr><td>epoch</td><td>▁▁▁▁▂▂▂▂▂▂▃▃▃▃▄▄▄▄▄▄▅▅▅▅▅▅▆▆▆▆▇▇▇▇▇▇████</td></tr><tr><td>train_loss</td><td>█▇▆▅▄▄▄▄▃▃▃▃▃▃▂▂▂▂▁▁</td></tr><tr><td>trainer/global_step</td><td>▁▁▁▁▂▂▂▂▂▂▃▃▃▃▄▄▄▄▄▄▅▅▅▅▅▅▆▆▆▆▇▇▇▇▇▇████</td></tr><tr><td>val_acc</td><td>▁▃▃▃▄▄▅▆▅▇▆▆▇▅▆▇▇▇██</td></tr><tr><td>val_loss</td><td>█▇▆▆▅▅▄▄▄▂▄▄▂▅▃▃▂▂▁▁</td></tr></table><br/></div><div class=\"wandb-col\"><h3>Run summary:</h3><br/><table class=\"wandb\"><tr><td>epoch</td><td>19</td></tr><tr><td>train_loss</td><td>2.11794</td></tr><tr><td>trainer/global_step</td><td>4979</td></tr><tr><td>val_acc</td><td>0.319</td></tr><tr><td>val_loss</td><td>2.13369</td></tr></table><br/></div></div>"
      ],
      "text/plain": [
       "<IPython.core.display.HTML object>"
      ]
     },
     "metadata": {},
     "output_type": "display_data"
    },
    {
     "data": {
      "text/html": [
       " View run <strong style=\"color:#cdcd00\">bs_32_layer_act_SELU_epoch_20_filter_mul_2_num_filters_16</strong> at: <a href='https://wandb.ai/A2_DA6401_DL/Lightning_CNN/runs/dzma1xwh' target=\"_blank\">https://wandb.ai/A2_DA6401_DL/Lightning_CNN/runs/dzma1xwh</a><br> View project at: <a href='https://wandb.ai/A2_DA6401_DL/Lightning_CNN' target=\"_blank\">https://wandb.ai/A2_DA6401_DL/Lightning_CNN</a><br>Synced 5 W&B file(s), 0 media file(s), 0 artifact file(s) and 0 other file(s)"
      ],
      "text/plain": [
       "<IPython.core.display.HTML object>"
      ]
     },
     "metadata": {},
     "output_type": "display_data"
    },
    {
     "data": {
      "text/html": [
       "Find logs at: <code>./wandb/run-20250416_235124-dzma1xwh/logs</code>"
      ],
      "text/plain": [
       "<IPython.core.display.HTML object>"
      ]
     },
     "metadata": {},
     "output_type": "display_data"
    },
    {
     "name": "stderr",
     "output_type": "stream",
     "text": [
      "\u001b[34m\u001b[1mwandb\u001b[0m: Agent Starting Run: juwmiw2f with config:\n",
      "\u001b[34m\u001b[1mwandb\u001b[0m: \tbatch_norm_conv: True\n",
      "\u001b[34m\u001b[1mwandb\u001b[0m: \tbatch_norm_fc: True\n",
      "\u001b[34m\u001b[1mwandb\u001b[0m: \tbatch_size: 16\n",
      "\u001b[34m\u001b[1mwandb\u001b[0m: \tconv_1_filter_size: 5\n",
      "\u001b[34m\u001b[1mwandb\u001b[0m: \tconv_2_filter_size: 5\n",
      "\u001b[34m\u001b[1mwandb\u001b[0m: \tconv_3_filter_size: 3\n",
      "\u001b[34m\u001b[1mwandb\u001b[0m: \tconv_4_filter_size: 7\n",
      "\u001b[34m\u001b[1mwandb\u001b[0m: \tconv_5_filter_size: 5\n",
      "\u001b[34m\u001b[1mwandb\u001b[0m: \tconv_activation: LeakyReLU\n",
      "\u001b[34m\u001b[1mwandb\u001b[0m: \tconv_padding: [None, None, None, None, None]\n",
      "\u001b[34m\u001b[1mwandb\u001b[0m: \tconv_strides: [1, 1, 1, 1, 1]\n",
      "\u001b[34m\u001b[1mwandb\u001b[0m: \tdata_aug: True\n",
      "\u001b[34m\u001b[1mwandb\u001b[0m: \tdropout_conv: 0.1\n",
      "\u001b[34m\u001b[1mwandb\u001b[0m: \tdropout_fc: 0\n",
      "\u001b[34m\u001b[1mwandb\u001b[0m: \tepochs: 20\n",
      "\u001b[34m\u001b[1mwandb\u001b[0m: \tfc_activations: GELU\n",
      "\u001b[34m\u001b[1mwandb\u001b[0m: \tfc_neurons: 1024\n",
      "\u001b[34m\u001b[1mwandb\u001b[0m: \tfilter_mul: 1\n",
      "\u001b[34m\u001b[1mwandb\u001b[0m: \tinput_channels: 3\n",
      "\u001b[34m\u001b[1mwandb\u001b[0m: \tinput_size: [256, 256]\n",
      "\u001b[34m\u001b[1mwandb\u001b[0m: \tlearning_rate: 0.001\n",
      "\u001b[34m\u001b[1mwandb\u001b[0m: \tmp_layer1_kernel_size: 5\n",
      "\u001b[34m\u001b[1mwandb\u001b[0m: \tmp_layer1_stride: 2\n",
      "\u001b[34m\u001b[1mwandb\u001b[0m: \tmp_layer2_kernel_size: 5\n",
      "\u001b[34m\u001b[1mwandb\u001b[0m: \tmp_layer2_stride: 3\n",
      "\u001b[34m\u001b[1mwandb\u001b[0m: \tmp_layer3_kernel_size: 3\n",
      "\u001b[34m\u001b[1mwandb\u001b[0m: \tmp_layer3_stride: 2\n",
      "\u001b[34m\u001b[1mwandb\u001b[0m: \tmp_layer4_kernel_size: 2\n",
      "\u001b[34m\u001b[1mwandb\u001b[0m: \tmp_layer4_stride: 3\n",
      "\u001b[34m\u001b[1mwandb\u001b[0m: \tmp_layer5_kernel_size: 3\n",
      "\u001b[34m\u001b[1mwandb\u001b[0m: \tmp_layer5_stride: 2\n",
      "\u001b[34m\u001b[1mwandb\u001b[0m: \tno_of_conv_blocks: 5\n",
      "\u001b[34m\u001b[1mwandb\u001b[0m: \tno_of_fc_layers: 1\n",
      "\u001b[34m\u001b[1mwandb\u001b[0m: \tno_of_filters: 32\n",
      "\u001b[34m\u001b[1mwandb\u001b[0m: \tnum_classes: 10\n",
      "\u001b[34m\u001b[1mwandb\u001b[0m: \tnum_workers: 10\n"
     ]
    },
    {
     "data": {
      "text/html": [
       "Tracking run with wandb version 0.19.9"
      ],
      "text/plain": [
       "<IPython.core.display.HTML object>"
      ]
     },
     "metadata": {},
     "output_type": "display_data"
    },
    {
     "data": {
      "text/html": [
       "Run data is saved locally in <code>/home/joel/Pytorch_CUDA/wandb/run-20250417_000409-juwmiw2f</code>"
      ],
      "text/plain": [
       "<IPython.core.display.HTML object>"
      ]
     },
     "metadata": {},
     "output_type": "display_data"
    },
    {
     "data": {
      "text/html": [
       "Syncing run <strong><a href='https://wandb.ai/A2_DA6401_DL/Lightning_CNN/runs/juwmiw2f' target=\"_blank\">glowing-sweep-413</a></strong> to <a href='https://wandb.ai/A2_DA6401_DL/Lightning_CNN' target=\"_blank\">Weights & Biases</a> (<a href='https://wandb.me/developer-guide' target=\"_blank\">docs</a>)<br>Sweep page: <a href='https://wandb.ai/A2_DA6401_DL/Lightning_CNN/sweeps/8km3fqmz' target=\"_blank\">https://wandb.ai/A2_DA6401_DL/Lightning_CNN/sweeps/8km3fqmz</a>"
      ],
      "text/plain": [
       "<IPython.core.display.HTML object>"
      ]
     },
     "metadata": {},
     "output_type": "display_data"
    },
    {
     "data": {
      "text/html": [
       " View project at <a href='https://wandb.ai/A2_DA6401_DL/Lightning_CNN' target=\"_blank\">https://wandb.ai/A2_DA6401_DL/Lightning_CNN</a>"
      ],
      "text/plain": [
       "<IPython.core.display.HTML object>"
      ]
     },
     "metadata": {},
     "output_type": "display_data"
    },
    {
     "data": {
      "text/html": [
       " View sweep at <a href='https://wandb.ai/A2_DA6401_DL/Lightning_CNN/sweeps/8km3fqmz' target=\"_blank\">https://wandb.ai/A2_DA6401_DL/Lightning_CNN/sweeps/8km3fqmz</a>"
      ],
      "text/plain": [
       "<IPython.core.display.HTML object>"
      ]
     },
     "metadata": {},
     "output_type": "display_data"
    },
    {
     "data": {
      "text/html": [
       " View run at <a href='https://wandb.ai/A2_DA6401_DL/Lightning_CNN/runs/juwmiw2f' target=\"_blank\">https://wandb.ai/A2_DA6401_DL/Lightning_CNN/runs/juwmiw2f</a>"
      ],
      "text/plain": [
       "<IPython.core.display.HTML object>"
      ]
     },
     "metadata": {},
     "output_type": "display_data"
    },
    {
     "name": "stderr",
     "output_type": "stream",
     "text": [
      "You are using the plain ModelCheckpoint callback. Consider using LitModelCheckpoint which with seamless uploading to Model registry.\n",
      "GPU available: True (cuda), used: True\n",
      "TPU available: False, using: 0 TPU cores\n",
      "HPU available: False, using: 0 HPUs\n",
      "/home/joel/Pytorch_CUDA/virt_env/lib/python3.12/site-packages/lightning/pytorch/loggers/wandb.py:397: There is a wandb run already in progress and newly created instances of `WandbLogger` will reuse this run. If this is not desired, call `wandb.finish()` before instantiating `WandbLogger`.\n",
      "LOCAL_RANK: 0 - CUDA_VISIBLE_DEVICES: [0]\n",
      "\n",
      "  | Name       | Type               | Params | Mode \n",
      "----------------------------------------------------------\n",
      "0 | model      | CNN_               | 421 K  | train\n",
      "1 | loss_fn    | CrossEntropyLoss   | 0      | train\n",
      "2 | acc_metric | MulticlassAccuracy | 0      | train\n",
      "----------------------------------------------------------\n",
      "421 K     Trainable params\n",
      "0         Non-trainable params\n",
      "421 K     Total params\n",
      "1.687     Total estimated model params size (MB)\n",
      "43        Modules in train mode\n",
      "0         Modules in eval mode\n"
     ]
    },
    {
     "data": {
      "application/vnd.jupyter.widget-view+json": {
       "model_id": "340a74d333a741b393cce319af087323",
       "version_major": 2,
       "version_minor": 0
      },
      "text/plain": [
       "Sanity Checking: |          | 0/? [00:00<?, ?it/s]"
      ]
     },
     "metadata": {},
     "output_type": "display_data"
    },
    {
     "data": {
      "application/vnd.jupyter.widget-view+json": {
       "model_id": "8465082d75d142ed924bb9b853e0279a",
       "version_major": 2,
       "version_minor": 0
      },
      "text/plain": [
       "Training: |          | 0/? [00:00<?, ?it/s]"
      ]
     },
     "metadata": {},
     "output_type": "display_data"
    },
    {
     "data": {
      "application/vnd.jupyter.widget-view+json": {
       "model_id": "857519e9554d4a54b444562920463ad1",
       "version_major": 2,
       "version_minor": 0
      },
      "text/plain": [
       "Validation: |          | 0/? [00:00<?, ?it/s]"
      ]
     },
     "metadata": {},
     "output_type": "display_data"
    },
    {
     "data": {
      "application/vnd.jupyter.widget-view+json": {
       "model_id": "d6c77759196549acad05ffc58b07ab01",
       "version_major": 2,
       "version_minor": 0
      },
      "text/plain": [
       "Validation: |          | 0/? [00:00<?, ?it/s]"
      ]
     },
     "metadata": {},
     "output_type": "display_data"
    },
    {
     "data": {
      "application/vnd.jupyter.widget-view+json": {
       "model_id": "d9b2beb0f7104fc294de0fd4163cb5f9",
       "version_major": 2,
       "version_minor": 0
      },
      "text/plain": [
       "Validation: |          | 0/? [00:00<?, ?it/s]"
      ]
     },
     "metadata": {},
     "output_type": "display_data"
    },
    {
     "data": {
      "application/vnd.jupyter.widget-view+json": {
       "model_id": "29eac43ba8e946b8a113627c1c39ace0",
       "version_major": 2,
       "version_minor": 0
      },
      "text/plain": [
       "Validation: |          | 0/? [00:00<?, ?it/s]"
      ]
     },
     "metadata": {},
     "output_type": "display_data"
    },
    {
     "data": {
      "application/vnd.jupyter.widget-view+json": {
       "model_id": "eb2813d147b3426c8f3a677f083b6595",
       "version_major": 2,
       "version_minor": 0
      },
      "text/plain": [
       "Validation: |          | 0/? [00:00<?, ?it/s]"
      ]
     },
     "metadata": {},
     "output_type": "display_data"
    },
    {
     "data": {
      "application/vnd.jupyter.widget-view+json": {
       "model_id": "0e86493d703d4e38b5c3eb01d148a788",
       "version_major": 2,
       "version_minor": 0
      },
      "text/plain": [
       "Validation: |          | 0/? [00:00<?, ?it/s]"
      ]
     },
     "metadata": {},
     "output_type": "display_data"
    },
    {
     "data": {
      "application/vnd.jupyter.widget-view+json": {
       "model_id": "c2c3b9497a8b4df0ada6320a3f28549f",
       "version_major": 2,
       "version_minor": 0
      },
      "text/plain": [
       "Validation: |          | 0/? [00:00<?, ?it/s]"
      ]
     },
     "metadata": {},
     "output_type": "display_data"
    },
    {
     "data": {
      "application/vnd.jupyter.widget-view+json": {
       "model_id": "29f66e0aa36149fea6ba09484125248b",
       "version_major": 2,
       "version_minor": 0
      },
      "text/plain": [
       "Validation: |          | 0/? [00:00<?, ?it/s]"
      ]
     },
     "metadata": {},
     "output_type": "display_data"
    },
    {
     "data": {
      "application/vnd.jupyter.widget-view+json": {
       "model_id": "88f6c2d8da7a4714884412f7c7501d45",
       "version_major": 2,
       "version_minor": 0
      },
      "text/plain": [
       "Validation: |          | 0/? [00:00<?, ?it/s]"
      ]
     },
     "metadata": {},
     "output_type": "display_data"
    },
    {
     "data": {
      "application/vnd.jupyter.widget-view+json": {
       "model_id": "5fcc822ec41041bc9caee692d4e444c2",
       "version_major": 2,
       "version_minor": 0
      },
      "text/plain": [
       "Validation: |          | 0/? [00:00<?, ?it/s]"
      ]
     },
     "metadata": {},
     "output_type": "display_data"
    },
    {
     "data": {
      "application/vnd.jupyter.widget-view+json": {
       "model_id": "935683b3ac24452fb265addff26366ce",
       "version_major": 2,
       "version_minor": 0
      },
      "text/plain": [
       "Validation: |          | 0/? [00:00<?, ?it/s]"
      ]
     },
     "metadata": {},
     "output_type": "display_data"
    },
    {
     "data": {
      "application/vnd.jupyter.widget-view+json": {
       "model_id": "c7fa663b5154457aa5d3e6e34416cfc5",
       "version_major": 2,
       "version_minor": 0
      },
      "text/plain": [
       "Validation: |          | 0/? [00:00<?, ?it/s]"
      ]
     },
     "metadata": {},
     "output_type": "display_data"
    },
    {
     "data": {
      "application/vnd.jupyter.widget-view+json": {
       "model_id": "238af5688edd4062a9827b34b8d73b4d",
       "version_major": 2,
       "version_minor": 0
      },
      "text/plain": [
       "Validation: |          | 0/? [00:00<?, ?it/s]"
      ]
     },
     "metadata": {},
     "output_type": "display_data"
    },
    {
     "data": {
      "application/vnd.jupyter.widget-view+json": {
       "model_id": "6b3d85aa99b44afe92232026ecbc4844",
       "version_major": 2,
       "version_minor": 0
      },
      "text/plain": [
       "Validation: |          | 0/? [00:00<?, ?it/s]"
      ]
     },
     "metadata": {},
     "output_type": "display_data"
    },
    {
     "data": {
      "application/vnd.jupyter.widget-view+json": {
       "model_id": "d51e68f9f38c4ff4b68b49c3c6d681f9",
       "version_major": 2,
       "version_minor": 0
      },
      "text/plain": [
       "Validation: |          | 0/? [00:00<?, ?it/s]"
      ]
     },
     "metadata": {},
     "output_type": "display_data"
    },
    {
     "data": {
      "application/vnd.jupyter.widget-view+json": {
       "model_id": "6bbcc62988cc453f87b941b70e58a799",
       "version_major": 2,
       "version_minor": 0
      },
      "text/plain": [
       "Validation: |          | 0/? [00:00<?, ?it/s]"
      ]
     },
     "metadata": {},
     "output_type": "display_data"
    },
    {
     "data": {
      "application/vnd.jupyter.widget-view+json": {
       "model_id": "98940412a6cf469190e0963333f4da51",
       "version_major": 2,
       "version_minor": 0
      },
      "text/plain": [
       "Validation: |          | 0/? [00:00<?, ?it/s]"
      ]
     },
     "metadata": {},
     "output_type": "display_data"
    },
    {
     "data": {
      "application/vnd.jupyter.widget-view+json": {
       "model_id": "5156a6441f844d6190df5296901b86f8",
       "version_major": 2,
       "version_minor": 0
      },
      "text/plain": [
       "Validation: |          | 0/? [00:00<?, ?it/s]"
      ]
     },
     "metadata": {},
     "output_type": "display_data"
    },
    {
     "data": {
      "application/vnd.jupyter.widget-view+json": {
       "model_id": "3579b9bda527452c84e95c7a4dca21c3",
       "version_major": 2,
       "version_minor": 0
      },
      "text/plain": [
       "Validation: |          | 0/? [00:00<?, ?it/s]"
      ]
     },
     "metadata": {},
     "output_type": "display_data"
    },
    {
     "data": {
      "application/vnd.jupyter.widget-view+json": {
       "model_id": "4853fe36744e4fe6a916218c8c9ebf66",
       "version_major": 2,
       "version_minor": 0
      },
      "text/plain": [
       "Validation: |          | 0/? [00:00<?, ?it/s]"
      ]
     },
     "metadata": {},
     "output_type": "display_data"
    },
    {
     "name": "stderr",
     "output_type": "stream",
     "text": [
      "`Trainer.fit` stopped: `max_epochs=20` reached.\n"
     ]
    },
    {
     "data": {
      "text/html": [],
      "text/plain": [
       "<IPython.core.display.HTML object>"
      ]
     },
     "metadata": {},
     "output_type": "display_data"
    },
    {
     "data": {
      "text/html": [
       "<br>    <style><br>        .wandb-row {<br>            display: flex;<br>            flex-direction: row;<br>            flex-wrap: wrap;<br>            justify-content: flex-start;<br>            width: 100%;<br>        }<br>        .wandb-col {<br>            display: flex;<br>            flex-direction: column;<br>            flex-basis: 100%;<br>            flex: 1;<br>            padding: 10px;<br>        }<br>    </style><br><div class=\"wandb-row\"><div class=\"wandb-col\"><h3>Run history:</h3><br/><table class=\"wandb\"><tr><td>epoch</td><td>▁▁▁▁▂▂▂▂▂▂▃▃▃▃▄▄▄▄▄▄▅▅▅▅▅▅▆▆▆▆▇▇▇▇▇▇████</td></tr><tr><td>train_loss</td><td>█▇▆▆▆▅▄▄▄▃▃▃▂▂▂▂▂▁▁▁</td></tr><tr><td>trainer/global_step</td><td>▁▁▁▁▂▂▂▂▂▂▃▃▃▃▄▄▄▄▄▄▅▅▅▅▅▅▆▆▆▆▇▇▇▇▇▇████</td></tr><tr><td>val_acc</td><td>▁▃▃▃▄▄▄▅▅▅▆▇▆▇███▇██</td></tr><tr><td>val_loss</td><td>█▆▆▆▅▅▄▄▄▄▃▂▃▂▁▂▁▂▁▁</td></tr></table><br/></div><div class=\"wandb-col\"><h3>Run summary:</h3><br/><table class=\"wandb\"><tr><td>epoch</td><td>19</td></tr><tr><td>train_loss</td><td>2.11889</td></tr><tr><td>trainer/global_step</td><td>9979</td></tr><tr><td>val_acc</td><td>0.3225</td></tr><tr><td>val_loss</td><td>2.13148</td></tr></table><br/></div></div>"
      ],
      "text/plain": [
       "<IPython.core.display.HTML object>"
      ]
     },
     "metadata": {},
     "output_type": "display_data"
    },
    {
     "data": {
      "text/html": [
       " View run <strong style=\"color:#cdcd00\">bs_16_layer_act_LeakyReLU_epoch_20_filter_mul_1_num_filters_32</strong> at: <a href='https://wandb.ai/A2_DA6401_DL/Lightning_CNN/runs/juwmiw2f' target=\"_blank\">https://wandb.ai/A2_DA6401_DL/Lightning_CNN/runs/juwmiw2f</a><br> View project at: <a href='https://wandb.ai/A2_DA6401_DL/Lightning_CNN' target=\"_blank\">https://wandb.ai/A2_DA6401_DL/Lightning_CNN</a><br>Synced 5 W&B file(s), 0 media file(s), 0 artifact file(s) and 0 other file(s)"
      ],
      "text/plain": [
       "<IPython.core.display.HTML object>"
      ]
     },
     "metadata": {},
     "output_type": "display_data"
    },
    {
     "data": {
      "text/html": [
       "Find logs at: <code>./wandb/run-20250417_000409-juwmiw2f/logs</code>"
      ],
      "text/plain": [
       "<IPython.core.display.HTML object>"
      ]
     },
     "metadata": {},
     "output_type": "display_data"
    },
    {
     "name": "stderr",
     "output_type": "stream",
     "text": [
      "\u001b[34m\u001b[1mwandb\u001b[0m: Agent Starting Run: 4mvw4pyr with config:\n",
      "\u001b[34m\u001b[1mwandb\u001b[0m: \tbatch_norm_conv: True\n",
      "\u001b[34m\u001b[1mwandb\u001b[0m: \tbatch_norm_fc: True\n",
      "\u001b[34m\u001b[1mwandb\u001b[0m: \tbatch_size: 64\n",
      "\u001b[34m\u001b[1mwandb\u001b[0m: \tconv_1_filter_size: 5\n",
      "\u001b[34m\u001b[1mwandb\u001b[0m: \tconv_2_filter_size: 3\n",
      "\u001b[34m\u001b[1mwandb\u001b[0m: \tconv_3_filter_size: 3\n",
      "\u001b[34m\u001b[1mwandb\u001b[0m: \tconv_4_filter_size: 5\n",
      "\u001b[34m\u001b[1mwandb\u001b[0m: \tconv_5_filter_size: 3\n",
      "\u001b[34m\u001b[1mwandb\u001b[0m: \tconv_activation: GELU\n",
      "\u001b[34m\u001b[1mwandb\u001b[0m: \tconv_padding: [None, None, None, None, None]\n",
      "\u001b[34m\u001b[1mwandb\u001b[0m: \tconv_strides: [1, 1, 1, 1, 1]\n",
      "\u001b[34m\u001b[1mwandb\u001b[0m: \tdata_aug: True\n",
      "\u001b[34m\u001b[1mwandb\u001b[0m: \tdropout_conv: 0.1\n",
      "\u001b[34m\u001b[1mwandb\u001b[0m: \tdropout_fc: 0\n",
      "\u001b[34m\u001b[1mwandb\u001b[0m: \tepochs: 20\n",
      "\u001b[34m\u001b[1mwandb\u001b[0m: \tfc_activations: GELU\n",
      "\u001b[34m\u001b[1mwandb\u001b[0m: \tfc_neurons: 512\n",
      "\u001b[34m\u001b[1mwandb\u001b[0m: \tfilter_mul: 1\n",
      "\u001b[34m\u001b[1mwandb\u001b[0m: \tinput_channels: 3\n",
      "\u001b[34m\u001b[1mwandb\u001b[0m: \tinput_size: [256, 256]\n",
      "\u001b[34m\u001b[1mwandb\u001b[0m: \tlearning_rate: 0.0005\n",
      "\u001b[34m\u001b[1mwandb\u001b[0m: \tmp_layer1_kernel_size: 3\n",
      "\u001b[34m\u001b[1mwandb\u001b[0m: \tmp_layer1_stride: 2\n",
      "\u001b[34m\u001b[1mwandb\u001b[0m: \tmp_layer2_kernel_size: 3\n",
      "\u001b[34m\u001b[1mwandb\u001b[0m: \tmp_layer2_stride: 2\n",
      "\u001b[34m\u001b[1mwandb\u001b[0m: \tmp_layer3_kernel_size: 5\n",
      "\u001b[34m\u001b[1mwandb\u001b[0m: \tmp_layer3_stride: 2\n",
      "\u001b[34m\u001b[1mwandb\u001b[0m: \tmp_layer4_kernel_size: 2\n",
      "\u001b[34m\u001b[1mwandb\u001b[0m: \tmp_layer4_stride: 3\n",
      "\u001b[34m\u001b[1mwandb\u001b[0m: \tmp_layer5_kernel_size: 2\n",
      "\u001b[34m\u001b[1mwandb\u001b[0m: \tmp_layer5_stride: 2\n",
      "\u001b[34m\u001b[1mwandb\u001b[0m: \tno_of_conv_blocks: 5\n",
      "\u001b[34m\u001b[1mwandb\u001b[0m: \tno_of_fc_layers: 1\n",
      "\u001b[34m\u001b[1mwandb\u001b[0m: \tno_of_filters: 512\n",
      "\u001b[34m\u001b[1mwandb\u001b[0m: \tnum_classes: 10\n",
      "\u001b[34m\u001b[1mwandb\u001b[0m: \tnum_workers: 10\n"
     ]
    },
    {
     "data": {
      "text/html": [
       "Tracking run with wandb version 0.19.9"
      ],
      "text/plain": [
       "<IPython.core.display.HTML object>"
      ]
     },
     "metadata": {},
     "output_type": "display_data"
    },
    {
     "data": {
      "text/html": [
       "Run data is saved locally in <code>/home/joel/Pytorch_CUDA/wandb/run-20250417_001719-4mvw4pyr</code>"
      ],
      "text/plain": [
       "<IPython.core.display.HTML object>"
      ]
     },
     "metadata": {},
     "output_type": "display_data"
    },
    {
     "data": {
      "text/html": [
       "Syncing run <strong><a href='https://wandb.ai/A2_DA6401_DL/Lightning_CNN/runs/4mvw4pyr' target=\"_blank\">clear-sweep-415</a></strong> to <a href='https://wandb.ai/A2_DA6401_DL/Lightning_CNN' target=\"_blank\">Weights & Biases</a> (<a href='https://wandb.me/developer-guide' target=\"_blank\">docs</a>)<br>Sweep page: <a href='https://wandb.ai/A2_DA6401_DL/Lightning_CNN/sweeps/8km3fqmz' target=\"_blank\">https://wandb.ai/A2_DA6401_DL/Lightning_CNN/sweeps/8km3fqmz</a>"
      ],
      "text/plain": [
       "<IPython.core.display.HTML object>"
      ]
     },
     "metadata": {},
     "output_type": "display_data"
    },
    {
     "data": {
      "text/html": [
       " View project at <a href='https://wandb.ai/A2_DA6401_DL/Lightning_CNN' target=\"_blank\">https://wandb.ai/A2_DA6401_DL/Lightning_CNN</a>"
      ],
      "text/plain": [
       "<IPython.core.display.HTML object>"
      ]
     },
     "metadata": {},
     "output_type": "display_data"
    },
    {
     "data": {
      "text/html": [
       " View sweep at <a href='https://wandb.ai/A2_DA6401_DL/Lightning_CNN/sweeps/8km3fqmz' target=\"_blank\">https://wandb.ai/A2_DA6401_DL/Lightning_CNN/sweeps/8km3fqmz</a>"
      ],
      "text/plain": [
       "<IPython.core.display.HTML object>"
      ]
     },
     "metadata": {},
     "output_type": "display_data"
    },
    {
     "data": {
      "text/html": [
       " View run at <a href='https://wandb.ai/A2_DA6401_DL/Lightning_CNN/runs/4mvw4pyr' target=\"_blank\">https://wandb.ai/A2_DA6401_DL/Lightning_CNN/runs/4mvw4pyr</a>"
      ],
      "text/plain": [
       "<IPython.core.display.HTML object>"
      ]
     },
     "metadata": {},
     "output_type": "display_data"
    },
    {
     "name": "stdout",
     "output_type": "stream",
     "text": [
      "Not a good combination !!!\n"
     ]
    },
    {
     "data": {
      "text/html": [],
      "text/plain": [
       "<IPython.core.display.HTML object>"
      ]
     },
     "metadata": {},
     "output_type": "display_data"
    },
    {
     "data": {
      "text/html": [
       " View run <strong style=\"color:#cdcd00\">bs_64_layer_act_GELU_epoch_20_filter_mul_1_num_filters_512</strong> at: <a href='https://wandb.ai/A2_DA6401_DL/Lightning_CNN/runs/4mvw4pyr' target=\"_blank\">https://wandb.ai/A2_DA6401_DL/Lightning_CNN/runs/4mvw4pyr</a><br> View project at: <a href='https://wandb.ai/A2_DA6401_DL/Lightning_CNN' target=\"_blank\">https://wandb.ai/A2_DA6401_DL/Lightning_CNN</a><br>Synced 5 W&B file(s), 0 media file(s), 0 artifact file(s) and 0 other file(s)"
      ],
      "text/plain": [
       "<IPython.core.display.HTML object>"
      ]
     },
     "metadata": {},
     "output_type": "display_data"
    },
    {
     "data": {
      "text/html": [
       "Find logs at: <code>./wandb/run-20250417_001719-4mvw4pyr/logs</code>"
      ],
      "text/plain": [
       "<IPython.core.display.HTML object>"
      ]
     },
     "metadata": {},
     "output_type": "display_data"
    },
    {
     "name": "stderr",
     "output_type": "stream",
     "text": [
      "\u001b[34m\u001b[1mwandb\u001b[0m: Agent Starting Run: gmufe2z1 with config:\n",
      "\u001b[34m\u001b[1mwandb\u001b[0m: \tbatch_norm_conv: True\n",
      "\u001b[34m\u001b[1mwandb\u001b[0m: \tbatch_norm_fc: True\n",
      "\u001b[34m\u001b[1mwandb\u001b[0m: \tbatch_size: 32\n",
      "\u001b[34m\u001b[1mwandb\u001b[0m: \tconv_1_filter_size: 7\n",
      "\u001b[34m\u001b[1mwandb\u001b[0m: \tconv_2_filter_size: 7\n",
      "\u001b[34m\u001b[1mwandb\u001b[0m: \tconv_3_filter_size: 7\n",
      "\u001b[34m\u001b[1mwandb\u001b[0m: \tconv_4_filter_size: 5\n",
      "\u001b[34m\u001b[1mwandb\u001b[0m: \tconv_5_filter_size: 7\n",
      "\u001b[34m\u001b[1mwandb\u001b[0m: \tconv_activation: LeakyReLU\n",
      "\u001b[34m\u001b[1mwandb\u001b[0m: \tconv_padding: [None, None, None, None, None]\n",
      "\u001b[34m\u001b[1mwandb\u001b[0m: \tconv_strides: [1, 1, 1, 1, 1]\n",
      "\u001b[34m\u001b[1mwandb\u001b[0m: \tdata_aug: True\n",
      "\u001b[34m\u001b[1mwandb\u001b[0m: \tdropout_conv: 0.1\n",
      "\u001b[34m\u001b[1mwandb\u001b[0m: \tdropout_fc: 0\n",
      "\u001b[34m\u001b[1mwandb\u001b[0m: \tepochs: 20\n",
      "\u001b[34m\u001b[1mwandb\u001b[0m: \tfc_activations: Mish\n",
      "\u001b[34m\u001b[1mwandb\u001b[0m: \tfc_neurons: 512\n",
      "\u001b[34m\u001b[1mwandb\u001b[0m: \tfilter_mul: 0.5\n",
      "\u001b[34m\u001b[1mwandb\u001b[0m: \tinput_channels: 3\n",
      "\u001b[34m\u001b[1mwandb\u001b[0m: \tinput_size: [256, 256]\n",
      "\u001b[34m\u001b[1mwandb\u001b[0m: \tlearning_rate: 0.001\n",
      "\u001b[34m\u001b[1mwandb\u001b[0m: \tmp_layer1_kernel_size: 2\n",
      "\u001b[34m\u001b[1mwandb\u001b[0m: \tmp_layer1_stride: 3\n",
      "\u001b[34m\u001b[1mwandb\u001b[0m: \tmp_layer2_kernel_size: 2\n",
      "\u001b[34m\u001b[1mwandb\u001b[0m: \tmp_layer2_stride: 2\n",
      "\u001b[34m\u001b[1mwandb\u001b[0m: \tmp_layer3_kernel_size: 5\n",
      "\u001b[34m\u001b[1mwandb\u001b[0m: \tmp_layer3_stride: 3\n",
      "\u001b[34m\u001b[1mwandb\u001b[0m: \tmp_layer4_kernel_size: 3\n",
      "\u001b[34m\u001b[1mwandb\u001b[0m: \tmp_layer4_stride: 3\n",
      "\u001b[34m\u001b[1mwandb\u001b[0m: \tmp_layer5_kernel_size: 2\n",
      "\u001b[34m\u001b[1mwandb\u001b[0m: \tmp_layer5_stride: 3\n",
      "\u001b[34m\u001b[1mwandb\u001b[0m: \tno_of_conv_blocks: 5\n",
      "\u001b[34m\u001b[1mwandb\u001b[0m: \tno_of_fc_layers: 1\n",
      "\u001b[34m\u001b[1mwandb\u001b[0m: \tno_of_filters: 128\n",
      "\u001b[34m\u001b[1mwandb\u001b[0m: \tnum_classes: 10\n",
      "\u001b[34m\u001b[1mwandb\u001b[0m: \tnum_workers: 10\n"
     ]
    },
    {
     "data": {
      "text/html": [
       "Tracking run with wandb version 0.19.9"
      ],
      "text/plain": [
       "<IPython.core.display.HTML object>"
      ]
     },
     "metadata": {},
     "output_type": "display_data"
    },
    {
     "data": {
      "text/html": [
       "Run data is saved locally in <code>/home/joel/Pytorch_CUDA/wandb/run-20250417_001729-gmufe2z1</code>"
      ],
      "text/plain": [
       "<IPython.core.display.HTML object>"
      ]
     },
     "metadata": {},
     "output_type": "display_data"
    },
    {
     "data": {
      "text/html": [
       "Syncing run <strong><a href='https://wandb.ai/A2_DA6401_DL/Lightning_CNN/runs/gmufe2z1' target=\"_blank\">woven-sweep-416</a></strong> to <a href='https://wandb.ai/A2_DA6401_DL/Lightning_CNN' target=\"_blank\">Weights & Biases</a> (<a href='https://wandb.me/developer-guide' target=\"_blank\">docs</a>)<br>Sweep page: <a href='https://wandb.ai/A2_DA6401_DL/Lightning_CNN/sweeps/8km3fqmz' target=\"_blank\">https://wandb.ai/A2_DA6401_DL/Lightning_CNN/sweeps/8km3fqmz</a>"
      ],
      "text/plain": [
       "<IPython.core.display.HTML object>"
      ]
     },
     "metadata": {},
     "output_type": "display_data"
    },
    {
     "data": {
      "text/html": [
       " View project at <a href='https://wandb.ai/A2_DA6401_DL/Lightning_CNN' target=\"_blank\">https://wandb.ai/A2_DA6401_DL/Lightning_CNN</a>"
      ],
      "text/plain": [
       "<IPython.core.display.HTML object>"
      ]
     },
     "metadata": {},
     "output_type": "display_data"
    },
    {
     "data": {
      "text/html": [
       " View sweep at <a href='https://wandb.ai/A2_DA6401_DL/Lightning_CNN/sweeps/8km3fqmz' target=\"_blank\">https://wandb.ai/A2_DA6401_DL/Lightning_CNN/sweeps/8km3fqmz</a>"
      ],
      "text/plain": [
       "<IPython.core.display.HTML object>"
      ]
     },
     "metadata": {},
     "output_type": "display_data"
    },
    {
     "data": {
      "text/html": [
       " View run at <a href='https://wandb.ai/A2_DA6401_DL/Lightning_CNN/runs/gmufe2z1' target=\"_blank\">https://wandb.ai/A2_DA6401_DL/Lightning_CNN/runs/gmufe2z1</a>"
      ],
      "text/plain": [
       "<IPython.core.display.HTML object>"
      ]
     },
     "metadata": {},
     "output_type": "display_data"
    },
    {
     "name": "stderr",
     "output_type": "stream",
     "text": [
      "You are using the plain ModelCheckpoint callback. Consider using LitModelCheckpoint which with seamless uploading to Model registry.\n",
      "GPU available: True (cuda), used: True\n",
      "TPU available: False, using: 0 TPU cores\n",
      "HPU available: False, using: 0 HPUs\n",
      "/home/joel/Pytorch_CUDA/virt_env/lib/python3.12/site-packages/lightning/pytorch/loggers/wandb.py:397: There is a wandb run already in progress and newly created instances of `WandbLogger` will reuse this run. If this is not desired, call `wandb.finish()` before instantiating `WandbLogger`.\n",
      "LOCAL_RANK: 0 - CUDA_VISIBLE_DEVICES: [0]\n",
      "\n",
      "  | Name       | Type               | Params | Mode \n",
      "----------------------------------------------------------\n",
      "0 | model      | CNN_               | 551 K  | train\n",
      "1 | loss_fn    | CrossEntropyLoss   | 0      | train\n",
      "2 | acc_metric | MulticlassAccuracy | 0      | train\n",
      "----------------------------------------------------------\n",
      "551 K     Trainable params\n",
      "0         Non-trainable params\n",
      "551 K     Total params\n",
      "2.205     Total estimated model params size (MB)\n",
      "43        Modules in train mode\n",
      "0         Modules in eval mode\n"
     ]
    },
    {
     "data": {
      "application/vnd.jupyter.widget-view+json": {
       "model_id": "8054169ccec843e299c307190a02a02c",
       "version_major": 2,
       "version_minor": 0
      },
      "text/plain": [
       "Sanity Checking: |          | 0/? [00:00<?, ?it/s]"
      ]
     },
     "metadata": {},
     "output_type": "display_data"
    },
    {
     "data": {
      "application/vnd.jupyter.widget-view+json": {
       "model_id": "38fe7c9f61d343e89feb2ff601216ee8",
       "version_major": 2,
       "version_minor": 0
      },
      "text/plain": [
       "Training: |          | 0/? [00:00<?, ?it/s]"
      ]
     },
     "metadata": {},
     "output_type": "display_data"
    },
    {
     "name": "stdout",
     "output_type": "stream",
     "text": [
      "⚠️ CUDA Out Of Memory — skipping this run.\n"
     ]
    },
    {
     "data": {
      "text/html": [],
      "text/plain": [
       "<IPython.core.display.HTML object>"
      ]
     },
     "metadata": {},
     "output_type": "display_data"
    },
    {
     "data": {
      "text/html": [
       " View run <strong style=\"color:#cdcd00\">bs_32_layer_act_LeakyReLU_epoch_20_filter_mul_0.5_num_filters_128</strong> at: <a href='https://wandb.ai/A2_DA6401_DL/Lightning_CNN/runs/gmufe2z1' target=\"_blank\">https://wandb.ai/A2_DA6401_DL/Lightning_CNN/runs/gmufe2z1</a><br> View project at: <a href='https://wandb.ai/A2_DA6401_DL/Lightning_CNN' target=\"_blank\">https://wandb.ai/A2_DA6401_DL/Lightning_CNN</a><br>Synced 5 W&B file(s), 0 media file(s), 0 artifact file(s) and 0 other file(s)"
      ],
      "text/plain": [
       "<IPython.core.display.HTML object>"
      ]
     },
     "metadata": {},
     "output_type": "display_data"
    },
    {
     "data": {
      "text/html": [
       "Find logs at: <code>./wandb/run-20250417_001729-gmufe2z1/logs</code>"
      ],
      "text/plain": [
       "<IPython.core.display.HTML object>"
      ]
     },
     "metadata": {},
     "output_type": "display_data"
    },
    {
     "name": "stderr",
     "output_type": "stream",
     "text": [
      "\u001b[34m\u001b[1mwandb\u001b[0m: Sweep Agent: Waiting for job.\n",
      "\u001b[34m\u001b[1mwandb\u001b[0m: Job received.\n",
      "\u001b[34m\u001b[1mwandb\u001b[0m: Agent Starting Run: 1b9xzwpy with config:\n",
      "\u001b[34m\u001b[1mwandb\u001b[0m: \tbatch_norm_conv: False\n",
      "\u001b[34m\u001b[1mwandb\u001b[0m: \tbatch_norm_fc: True\n",
      "\u001b[34m\u001b[1mwandb\u001b[0m: \tbatch_size: 16\n",
      "\u001b[34m\u001b[1mwandb\u001b[0m: \tconv_1_filter_size: 5\n",
      "\u001b[34m\u001b[1mwandb\u001b[0m: \tconv_2_filter_size: 5\n",
      "\u001b[34m\u001b[1mwandb\u001b[0m: \tconv_3_filter_size: 3\n",
      "\u001b[34m\u001b[1mwandb\u001b[0m: \tconv_4_filter_size: 5\n",
      "\u001b[34m\u001b[1mwandb\u001b[0m: \tconv_5_filter_size: 7\n",
      "\u001b[34m\u001b[1mwandb\u001b[0m: \tconv_activation: Mish\n",
      "\u001b[34m\u001b[1mwandb\u001b[0m: \tconv_padding: [None, None, None, None, None]\n",
      "\u001b[34m\u001b[1mwandb\u001b[0m: \tconv_strides: [1, 1, 1, 1, 1]\n",
      "\u001b[34m\u001b[1mwandb\u001b[0m: \tdata_aug: False\n",
      "\u001b[34m\u001b[1mwandb\u001b[0m: \tdropout_conv: 0.2\n",
      "\u001b[34m\u001b[1mwandb\u001b[0m: \tdropout_fc: 0\n",
      "\u001b[34m\u001b[1mwandb\u001b[0m: \tepochs: 20\n",
      "\u001b[34m\u001b[1mwandb\u001b[0m: \tfc_activations: Mish\n",
      "\u001b[34m\u001b[1mwandb\u001b[0m: \tfc_neurons: 512\n",
      "\u001b[34m\u001b[1mwandb\u001b[0m: \tfilter_mul: 1\n",
      "\u001b[34m\u001b[1mwandb\u001b[0m: \tinput_channels: 3\n",
      "\u001b[34m\u001b[1mwandb\u001b[0m: \tinput_size: [256, 256]\n",
      "\u001b[34m\u001b[1mwandb\u001b[0m: \tlearning_rate: 0.001\n",
      "\u001b[34m\u001b[1mwandb\u001b[0m: \tmp_layer1_kernel_size: 2\n",
      "\u001b[34m\u001b[1mwandb\u001b[0m: \tmp_layer1_stride: 2\n",
      "\u001b[34m\u001b[1mwandb\u001b[0m: \tmp_layer2_kernel_size: 5\n",
      "\u001b[34m\u001b[1mwandb\u001b[0m: \tmp_layer2_stride: 2\n",
      "\u001b[34m\u001b[1mwandb\u001b[0m: \tmp_layer3_kernel_size: 3\n",
      "\u001b[34m\u001b[1mwandb\u001b[0m: \tmp_layer3_stride: 2\n",
      "\u001b[34m\u001b[1mwandb\u001b[0m: \tmp_layer4_kernel_size: 3\n",
      "\u001b[34m\u001b[1mwandb\u001b[0m: \tmp_layer4_stride: 2\n",
      "\u001b[34m\u001b[1mwandb\u001b[0m: \tmp_layer5_kernel_size: 3\n",
      "\u001b[34m\u001b[1mwandb\u001b[0m: \tmp_layer5_stride: 3\n",
      "\u001b[34m\u001b[1mwandb\u001b[0m: \tno_of_conv_blocks: 5\n",
      "\u001b[34m\u001b[1mwandb\u001b[0m: \tno_of_fc_layers: 1\n",
      "\u001b[34m\u001b[1mwandb\u001b[0m: \tno_of_filters: 64\n",
      "\u001b[34m\u001b[1mwandb\u001b[0m: \tnum_classes: 10\n",
      "\u001b[34m\u001b[1mwandb\u001b[0m: \tnum_workers: 10\n"
     ]
    },
    {
     "data": {
      "text/html": [
       "Tracking run with wandb version 0.19.9"
      ],
      "text/plain": [
       "<IPython.core.display.HTML object>"
      ]
     },
     "metadata": {},
     "output_type": "display_data"
    },
    {
     "data": {
      "text/html": [
       "Run data is saved locally in <code>/home/joel/Pytorch_CUDA/wandb/run-20250417_001744-1b9xzwpy</code>"
      ],
      "text/plain": [
       "<IPython.core.display.HTML object>"
      ]
     },
     "metadata": {},
     "output_type": "display_data"
    },
    {
     "data": {
      "text/html": [
       "Syncing run <strong><a href='https://wandb.ai/A2_DA6401_DL/Lightning_CNN/runs/1b9xzwpy' target=\"_blank\">kind-sweep-417</a></strong> to <a href='https://wandb.ai/A2_DA6401_DL/Lightning_CNN' target=\"_blank\">Weights & Biases</a> (<a href='https://wandb.me/developer-guide' target=\"_blank\">docs</a>)<br>Sweep page: <a href='https://wandb.ai/A2_DA6401_DL/Lightning_CNN/sweeps/8km3fqmz' target=\"_blank\">https://wandb.ai/A2_DA6401_DL/Lightning_CNN/sweeps/8km3fqmz</a>"
      ],
      "text/plain": [
       "<IPython.core.display.HTML object>"
      ]
     },
     "metadata": {},
     "output_type": "display_data"
    },
    {
     "data": {
      "text/html": [
       " View project at <a href='https://wandb.ai/A2_DA6401_DL/Lightning_CNN' target=\"_blank\">https://wandb.ai/A2_DA6401_DL/Lightning_CNN</a>"
      ],
      "text/plain": [
       "<IPython.core.display.HTML object>"
      ]
     },
     "metadata": {},
     "output_type": "display_data"
    },
    {
     "data": {
      "text/html": [
       " View sweep at <a href='https://wandb.ai/A2_DA6401_DL/Lightning_CNN/sweeps/8km3fqmz' target=\"_blank\">https://wandb.ai/A2_DA6401_DL/Lightning_CNN/sweeps/8km3fqmz</a>"
      ],
      "text/plain": [
       "<IPython.core.display.HTML object>"
      ]
     },
     "metadata": {},
     "output_type": "display_data"
    },
    {
     "data": {
      "text/html": [
       " View run at <a href='https://wandb.ai/A2_DA6401_DL/Lightning_CNN/runs/1b9xzwpy' target=\"_blank\">https://wandb.ai/A2_DA6401_DL/Lightning_CNN/runs/1b9xzwpy</a>"
      ],
      "text/plain": [
       "<IPython.core.display.HTML object>"
      ]
     },
     "metadata": {},
     "output_type": "display_data"
    },
    {
     "name": "stderr",
     "output_type": "stream",
     "text": [
      "You are using the plain ModelCheckpoint callback. Consider using LitModelCheckpoint which with seamless uploading to Model registry.\n",
      "GPU available: True (cuda), used: True\n",
      "TPU available: False, using: 0 TPU cores\n",
      "HPU available: False, using: 0 HPUs\n",
      "/home/joel/Pytorch_CUDA/virt_env/lib/python3.12/site-packages/lightning/pytorch/loggers/wandb.py:397: There is a wandb run already in progress and newly created instances of `WandbLogger` will reuse this run. If this is not desired, call `wandb.finish()` before instantiating `WandbLogger`.\n",
      "LOCAL_RANK: 0 - CUDA_VISIBLE_DEVICES: [0]\n",
      "\n",
      "  | Name       | Type               | Params | Mode \n",
      "----------------------------------------------------------\n",
      "0 | model      | CNN_               | 978 K  | train\n",
      "1 | loss_fn    | CrossEntropyLoss   | 0      | train\n",
      "2 | acc_metric | MulticlassAccuracy | 0      | train\n",
      "----------------------------------------------------------\n",
      "978 K     Trainable params\n",
      "0         Non-trainable params\n",
      "978 K     Total params\n",
      "3.914     Total estimated model params size (MB)\n",
      "43        Modules in train mode\n",
      "0         Modules in eval mode\n"
     ]
    },
    {
     "data": {
      "application/vnd.jupyter.widget-view+json": {
       "model_id": "db02f40f479c4e69b3face3d180a3f8e",
       "version_major": 2,
       "version_minor": 0
      },
      "text/plain": [
       "Sanity Checking: |          | 0/? [00:00<?, ?it/s]"
      ]
     },
     "metadata": {},
     "output_type": "display_data"
    },
    {
     "data": {
      "application/vnd.jupyter.widget-view+json": {
       "model_id": "25c95bc28a08456dbbf6c0ca0a93eacb",
       "version_major": 2,
       "version_minor": 0
      },
      "text/plain": [
       "Training: |          | 0/? [00:00<?, ?it/s]"
      ]
     },
     "metadata": {},
     "output_type": "display_data"
    },
    {
     "data": {
      "application/vnd.jupyter.widget-view+json": {
       "model_id": "a87e29b2abde4d248a8aa4f16f611601",
       "version_major": 2,
       "version_minor": 0
      },
      "text/plain": [
       "Validation: |          | 0/? [00:00<?, ?it/s]"
      ]
     },
     "metadata": {},
     "output_type": "display_data"
    },
    {
     "data": {
      "application/vnd.jupyter.widget-view+json": {
       "model_id": "24925fe92cdf4d3baf8371425cc221a6",
       "version_major": 2,
       "version_minor": 0
      },
      "text/plain": [
       "Validation: |          | 0/? [00:00<?, ?it/s]"
      ]
     },
     "metadata": {},
     "output_type": "display_data"
    },
    {
     "data": {
      "application/vnd.jupyter.widget-view+json": {
       "model_id": "7bbf0a8eb15740119ce2ae79e3c5f500",
       "version_major": 2,
       "version_minor": 0
      },
      "text/plain": [
       "Validation: |          | 0/? [00:00<?, ?it/s]"
      ]
     },
     "metadata": {},
     "output_type": "display_data"
    },
    {
     "data": {
      "application/vnd.jupyter.widget-view+json": {
       "model_id": "ff54ecdb645241928685d01e5489c894",
       "version_major": 2,
       "version_minor": 0
      },
      "text/plain": [
       "Validation: |          | 0/? [00:00<?, ?it/s]"
      ]
     },
     "metadata": {},
     "output_type": "display_data"
    },
    {
     "data": {
      "application/vnd.jupyter.widget-view+json": {
       "model_id": "722c49fc472c40a9b157d44f65935170",
       "version_major": 2,
       "version_minor": 0
      },
      "text/plain": [
       "Validation: |          | 0/? [00:00<?, ?it/s]"
      ]
     },
     "metadata": {},
     "output_type": "display_data"
    },
    {
     "data": {
      "application/vnd.jupyter.widget-view+json": {
       "model_id": "94dac5c087a7446c89e79b33c9e859da",
       "version_major": 2,
       "version_minor": 0
      },
      "text/plain": [
       "Validation: |          | 0/? [00:00<?, ?it/s]"
      ]
     },
     "metadata": {},
     "output_type": "display_data"
    },
    {
     "data": {
      "application/vnd.jupyter.widget-view+json": {
       "model_id": "ab0f89c949424d4f918ed7f10b4aa53c",
       "version_major": 2,
       "version_minor": 0
      },
      "text/plain": [
       "Validation: |          | 0/? [00:00<?, ?it/s]"
      ]
     },
     "metadata": {},
     "output_type": "display_data"
    },
    {
     "data": {
      "application/vnd.jupyter.widget-view+json": {
       "model_id": "b19bf958db134199821c20f3af4f7415",
       "version_major": 2,
       "version_minor": 0
      },
      "text/plain": [
       "Validation: |          | 0/? [00:00<?, ?it/s]"
      ]
     },
     "metadata": {},
     "output_type": "display_data"
    },
    {
     "data": {
      "application/vnd.jupyter.widget-view+json": {
       "model_id": "ae52e3565c1f40ebb85e0fc8d378dd48",
       "version_major": 2,
       "version_minor": 0
      },
      "text/plain": [
       "Validation: |          | 0/? [00:00<?, ?it/s]"
      ]
     },
     "metadata": {},
     "output_type": "display_data"
    },
    {
     "data": {
      "application/vnd.jupyter.widget-view+json": {
       "model_id": "fb33ffc952d34d8d8ddb85c52223c7d4",
       "version_major": 2,
       "version_minor": 0
      },
      "text/plain": [
       "Validation: |          | 0/? [00:00<?, ?it/s]"
      ]
     },
     "metadata": {},
     "output_type": "display_data"
    },
    {
     "data": {
      "application/vnd.jupyter.widget-view+json": {
       "model_id": "7fec246af4ed4fc0b03e78f27c747c46",
       "version_major": 2,
       "version_minor": 0
      },
      "text/plain": [
       "Validation: |          | 0/? [00:00<?, ?it/s]"
      ]
     },
     "metadata": {},
     "output_type": "display_data"
    },
    {
     "data": {
      "application/vnd.jupyter.widget-view+json": {
       "model_id": "8a403b1f90ed402db75a53e09affebc4",
       "version_major": 2,
       "version_minor": 0
      },
      "text/plain": [
       "Validation: |          | 0/? [00:00<?, ?it/s]"
      ]
     },
     "metadata": {},
     "output_type": "display_data"
    },
    {
     "data": {
      "application/vnd.jupyter.widget-view+json": {
       "model_id": "4296fd9649a24c869453bdcf1ac7930d",
       "version_major": 2,
       "version_minor": 0
      },
      "text/plain": [
       "Validation: |          | 0/? [00:00<?, ?it/s]"
      ]
     },
     "metadata": {},
     "output_type": "display_data"
    },
    {
     "data": {
      "application/vnd.jupyter.widget-view+json": {
       "model_id": "2d41ddca522c41e8a3048fe2f689bcd4",
       "version_major": 2,
       "version_minor": 0
      },
      "text/plain": [
       "Validation: |          | 0/? [00:00<?, ?it/s]"
      ]
     },
     "metadata": {},
     "output_type": "display_data"
    },
    {
     "data": {
      "application/vnd.jupyter.widget-view+json": {
       "model_id": "a0947016bfac4c97b03fdf73173ef88a",
       "version_major": 2,
       "version_minor": 0
      },
      "text/plain": [
       "Validation: |          | 0/? [00:00<?, ?it/s]"
      ]
     },
     "metadata": {},
     "output_type": "display_data"
    },
    {
     "data": {
      "application/vnd.jupyter.widget-view+json": {
       "model_id": "1828fdf957624f72b4c0b8474750a363",
       "version_major": 2,
       "version_minor": 0
      },
      "text/plain": [
       "Validation: |          | 0/? [00:00<?, ?it/s]"
      ]
     },
     "metadata": {},
     "output_type": "display_data"
    },
    {
     "data": {
      "application/vnd.jupyter.widget-view+json": {
       "model_id": "a579464781e8468a968ff0066929cdd7",
       "version_major": 2,
       "version_minor": 0
      },
      "text/plain": [
       "Validation: |          | 0/? [00:00<?, ?it/s]"
      ]
     },
     "metadata": {},
     "output_type": "display_data"
    },
    {
     "data": {
      "application/vnd.jupyter.widget-view+json": {
       "model_id": "4880a4f37bf6478194fa7c0bef052fb1",
       "version_major": 2,
       "version_minor": 0
      },
      "text/plain": [
       "Validation: |          | 0/? [00:00<?, ?it/s]"
      ]
     },
     "metadata": {},
     "output_type": "display_data"
    },
    {
     "data": {
      "application/vnd.jupyter.widget-view+json": {
       "model_id": "571129acb34c46be8bf09ab4fc88423c",
       "version_major": 2,
       "version_minor": 0
      },
      "text/plain": [
       "Validation: |          | 0/? [00:00<?, ?it/s]"
      ]
     },
     "metadata": {},
     "output_type": "display_data"
    },
    {
     "data": {
      "application/vnd.jupyter.widget-view+json": {
       "model_id": "7a39084e3b134e5fb0f392b64b895587",
       "version_major": 2,
       "version_minor": 0
      },
      "text/plain": [
       "Validation: |          | 0/? [00:00<?, ?it/s]"
      ]
     },
     "metadata": {},
     "output_type": "display_data"
    },
    {
     "name": "stderr",
     "output_type": "stream",
     "text": [
      "`Trainer.fit` stopped: `max_epochs=20` reached.\n"
     ]
    },
    {
     "data": {
      "text/html": [],
      "text/plain": [
       "<IPython.core.display.HTML object>"
      ]
     },
     "metadata": {},
     "output_type": "display_data"
    },
    {
     "data": {
      "text/html": [
       "<br>    <style><br>        .wandb-row {<br>            display: flex;<br>            flex-direction: row;<br>            flex-wrap: wrap;<br>            justify-content: flex-start;<br>            width: 100%;<br>        }<br>        .wandb-col {<br>            display: flex;<br>            flex-direction: column;<br>            flex-basis: 100%;<br>            flex: 1;<br>            padding: 10px;<br>        }<br>    </style><br><div class=\"wandb-row\"><div class=\"wandb-col\"><h3>Run history:</h3><br/><table class=\"wandb\"><tr><td>epoch</td><td>▁▁▁▁▂▂▂▂▂▂▃▃▃▃▄▄▄▄▄▄▅▅▅▅▅▅▆▆▆▆▇▇▇▇▇▇████</td></tr><tr><td>train_loss</td><td>█▇▆▆▅▄▄▄▄▃▃▃▃▂▂▂▂▁▁▁</td></tr><tr><td>trainer/global_step</td><td>▁▁▁▁▂▂▂▂▂▂▃▃▃▃▄▄▄▄▄▄▅▅▅▅▅▅▆▆▆▆▇▇▇▇▇▇████</td></tr><tr><td>val_acc</td><td>▁▁▃▃▃▃▄▄▄▅▅▄▆▅▅▆▆█▇▇</td></tr><tr><td>val_loss</td><td>██▆▆▆▅▄▅▅▄▄▅▃▄▄▂▂▁▁▂</td></tr></table><br/></div><div class=\"wandb-col\"><h3>Run summary:</h3><br/><table class=\"wandb\"><tr><td>epoch</td><td>19</td></tr><tr><td>train_loss</td><td>2.17133</td></tr><tr><td>trainer/global_step</td><td>9979</td></tr><tr><td>val_acc</td><td>0.265</td></tr><tr><td>val_loss</td><td>2.17711</td></tr></table><br/></div></div>"
      ],
      "text/plain": [
       "<IPython.core.display.HTML object>"
      ]
     },
     "metadata": {},
     "output_type": "display_data"
    },
    {
     "data": {
      "text/html": [
       " View run <strong style=\"color:#cdcd00\">bs_16_layer_act_Mish_epoch_20_filter_mul_1_num_filters_64</strong> at: <a href='https://wandb.ai/A2_DA6401_DL/Lightning_CNN/runs/1b9xzwpy' target=\"_blank\">https://wandb.ai/A2_DA6401_DL/Lightning_CNN/runs/1b9xzwpy</a><br> View project at: <a href='https://wandb.ai/A2_DA6401_DL/Lightning_CNN' target=\"_blank\">https://wandb.ai/A2_DA6401_DL/Lightning_CNN</a><br>Synced 5 W&B file(s), 0 media file(s), 0 artifact file(s) and 0 other file(s)"
      ],
      "text/plain": [
       "<IPython.core.display.HTML object>"
      ]
     },
     "metadata": {},
     "output_type": "display_data"
    },
    {
     "data": {
      "text/html": [
       "Find logs at: <code>./wandb/run-20250417_001744-1b9xzwpy/logs</code>"
      ],
      "text/plain": [
       "<IPython.core.display.HTML object>"
      ]
     },
     "metadata": {},
     "output_type": "display_data"
    },
    {
     "name": "stderr",
     "output_type": "stream",
     "text": [
      "\u001b[34m\u001b[1mwandb\u001b[0m: Sweep Agent: Waiting for job.\n",
      "\u001b[34m\u001b[1mwandb\u001b[0m: Ctrl + C detected. Stopping sweep.\n"
     ]
    }
   ],
   "source": [
    "sweep_id = \"8km3fqmz\" #wandb.sweep(sweep=sweep_config, project=\"Lightning_CNN\", entity=\"A2_DA6401_DL\")\n",
    "wandb.agent(sweep_id, function=trainloop_sweep,project=\"Lightning_CNN\", entity=\"A2_DA6401_DL\")"
   ]
  }
 ],
 "metadata": {
  "kernelspec": {
   "display_name": "virt_env",
   "language": "python",
   "name": "python3"
  },
  "language_info": {
   "codemirror_mode": {
    "name": "ipython",
    "version": 3
   },
   "file_extension": ".py",
   "mimetype": "text/x-python",
   "name": "python",
   "nbconvert_exporter": "python",
   "pygments_lexer": "ipython3",
   "version": "3.12.7"
  }
 },
 "nbformat": 4,
 "nbformat_minor": 5
}
