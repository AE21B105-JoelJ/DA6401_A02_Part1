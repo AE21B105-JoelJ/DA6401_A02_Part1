{
 "cells": [
  {
   "cell_type": "code",
   "execution_count": 1,
   "id": "af69ec63",
   "metadata": {},
   "outputs": [],
   "source": [
    "# Importing the necessary libraries #\n",
    "import torch\n",
    "import gc\n",
    "import numpy as np\n",
    "import torch.nn as nn\n",
    "import torchvision.transforms.functional as F\n",
    "import lightning as L\n",
    "from typing import List\n",
    "from lightning.pytorch import Trainer\n",
    "from torchvision.datasets import MNIST\n",
    "from torchvision import transforms, datasets\n",
    "from torch.utils.data import DataLoader, random_split, Subset\n",
    "from sklearn.metrics import precision_score\n",
    "from torchmetrics import Accuracy\n",
    "from sklearn.model_selection import train_test_split\n",
    "import os"
   ]
  },
  {
   "cell_type": "code",
   "execution_count": 2,
   "id": "35aa1191",
   "metadata": {},
   "outputs": [],
   "source": [
    "torch.cuda.empty_cache()\n",
    "torch.set_float32_matmul_precision(\"medium\")"
   ]
  },
  {
   "cell_type": "code",
   "execution_count": 3,
   "id": "711ef8f7",
   "metadata": {},
   "outputs": [
    {
     "name": "stderr",
     "output_type": "stream",
     "text": [
      "\u001b[34m\u001b[1mwandb\u001b[0m: Using wandb-core as the SDK backend.  Please refer to https://wandb.me/wandb-core for more information.\n",
      "\u001b[34m\u001b[1mwandb\u001b[0m: Currently logged in as: \u001b[33mae21b105\u001b[0m to \u001b[32mhttps://api.wandb.ai\u001b[0m. Use \u001b[1m`wandb login --relogin`\u001b[0m to force relogin\n"
     ]
    },
    {
     "data": {
      "text/plain": [
       "True"
      ]
     },
     "execution_count": 3,
     "metadata": {},
     "output_type": "execute_result"
    }
   ],
   "source": [
    "import wandb\n",
    "from lightning.pytorch.loggers import WandbLogger\n",
    "wandb.login()"
   ]
  },
  {
   "cell_type": "code",
   "execution_count": 4,
   "id": "3b35f7b9",
   "metadata": {},
   "outputs": [],
   "source": [
    "# Function to give the activation function #\n",
    "def create_activation_function(activation : str = \"ReLU\"):\n",
    "    possible_activations = [\"ReLU\", \"Mish\", \"GELU\", \"SELU\", \"SiLU\", \"LeakyReLU\" ]\n",
    "    # Assertion to be made for the activations possible #\n",
    "    assert activation in possible_activations, f\"activation not in {possible_activations}\"\n",
    "\n",
    "    if activation == \"ReLU\":\n",
    "        return nn.ReLU()\n",
    "    elif activation == \"GELU\":\n",
    "        return nn.GELU()\n",
    "    elif activation == \"SiLU\":\n",
    "        return nn.SiLU()\n",
    "    elif activation == \"SELU\":\n",
    "        return nn.SELU()\n",
    "    elif activation == \"Mish\":\n",
    "        return nn.Mish()\n",
    "    else:\n",
    "        return nn.LeakyReLU()"
   ]
  },
  {
   "cell_type": "code",
   "execution_count": 5,
   "id": "a308f424",
   "metadata": {},
   "outputs": [],
   "source": [
    "class CNN_(nn.Module):\n",
    "    def __init__(self, config = None):\n",
    "        super().__init__()\n",
    "        # Configuration to build the CNN #\n",
    "        self.config = config\n",
    "        \n",
    "        # Some assertions to be made #\n",
    "        assert config[\"no_of_conv_blocks\"]==len(config[\"no_of_filters\"]), \"The filter number do not match with number of conv layers\"\n",
    "        assert config[\"no_of_conv_blocks\"]==len(config[\"filter_sizes\"]), \"The filter sizes do not match with number of conv layers\"\n",
    "        assert config[\"no_of_conv_blocks\"]==len(config[\"conv_strides\"]), \"The strides do not match with number of conv layers\"\n",
    "        assert config[\"no_of_conv_blocks\"]==len(config[\"conv_padding\"]), \"The padding do not match with number of conv layers\"\n",
    "        assert config[\"no_of_conv_blocks\"]==len(config[\"max_pooling_stride\"]), \"The max pooling stride do not match with number of conv layers\"\n",
    "\n",
    "        # building the convolution blocks #\n",
    "        conv_blocks = []\n",
    "        for block_no in range(config[\"no_of_conv_blocks\"]):\n",
    "            # Getting the hyper-parameters from the config #\n",
    "            if block_no == 0:\n",
    "                in_channels = config[\"input_channels\"]\n",
    "            else:\n",
    "                in_channels = config[\"no_of_filters\"][block_no-1]\n",
    "            out_channels = config[\"no_of_filters\"][block_no]\n",
    "            filter_size = config[\"filter_sizes\"][block_no]\n",
    "            stride = config[\"conv_strides\"][block_no]\n",
    "            padding = config[\"conv_padding\"][block_no]\n",
    "            if padding == None:\n",
    "                padding = int((filter_size - 1)/2) if filter_size > 1 else 0\n",
    "            # Defining the block to add to conv_blocks #\n",
    "            block_add = nn.Sequential(\n",
    "                nn.Conv2d(in_channels=in_channels, out_channels=out_channels, kernel_size=filter_size, stride=stride, padding=padding),\n",
    "                nn.BatchNorm2d(num_features=out_channels) if config[\"batch_norm_conv\"] else nn.Identity(),\n",
    "                create_activation_function(activation=config[\"conv_activation\"][block_no]),\n",
    "                nn.MaxPool2d(kernel_size=config[\"max_pooling_kernel_size\"][block_no],stride=config[\"max_pooling_stride\"][block_no]) if config[\"max_pooling_stride\"][block_no] != None else nn.Identity(),\n",
    "                nn.Dropout(config[\"dropout_conv\"]) if config[\"dropout_conv\"]>0 else nn.Identity(),\n",
    "            )\n",
    "            # Appending the blocks to the total #\n",
    "            conv_blocks.append(block_add)\n",
    "\n",
    "        # Converting the list to a sequential module #\n",
    "        self.conv_blocks = nn.Sequential(*conv_blocks)\n",
    "\n",
    "        # Calculating the size of the output #\n",
    "        dummy_in = torch.randn(size=(1, config[\"input_channels\"],config[\"input_size\"][0], config[\"input_size\"][1]))\n",
    "        dummy_out = self.conv_blocks(dummy_in).flatten()\n",
    "        flat_size = len(dummy_out)\n",
    "\n",
    "        # building the fc blocks #\n",
    "        fc_blocks = []\n",
    "        for block_no in range(config[\"no_of_fc_layers\"]):\n",
    "            if block_no == 0:\n",
    "                in_channels = flat_size\n",
    "            else:\n",
    "                in_channels = config[\"fc_neurons\"][block_no-1]\n",
    "            out_channels = config[\"fc_neurons\"][block_no]\n",
    "            block_add = nn.Sequential(\n",
    "                nn.Linear(in_features=in_channels, out_features=out_channels),\n",
    "                nn.BatchNorm1d(out_channels) if config[\"batch_norm_fc\"] else nn.Identity(),\n",
    "                create_activation_function(activation=config[\"fc_activations\"][block_no]),\n",
    "                nn.Dropout(config[\"dropout_fc\"]) if config[\"dropout_fc\"]>0 else nn.Identity(),\n",
    "            )\n",
    "            # Appending to the fc final\n",
    "            fc_blocks.append(block_add)\n",
    "\n",
    "        # converting the list to a sequential module #\n",
    "        self.fc_layers = nn.Sequential(*fc_blocks)\n",
    "\n",
    "        # Output layer #\n",
    "        self.output_layer = nn.Sequential(\n",
    "            nn.Linear(in_features=config[\"fc_neurons\"][-1], out_features=config[\"num_classes\"]),\n",
    "            nn.Softmax(dim=1)\n",
    "        )\n",
    "\n",
    "    def forward(self, x):\n",
    "        x = self.conv_blocks(x)\n",
    "        x = x.view(x.size(0), -1)\n",
    "        x = self.fc_layers(x)\n",
    "        x = self.output_layer(x)\n",
    "        return x"
   ]
  },
  {
   "cell_type": "code",
   "execution_count": 6,
   "id": "9c130a30",
   "metadata": {},
   "outputs": [],
   "source": [
    "class Lightning_CNN(L.LightningModule):\n",
    "    def __init__(self, config):\n",
    "        super().__init__()\n",
    "        self.save_hyperparameters()\n",
    "\n",
    "        # Define the model\n",
    "        self.model = CNN_(config=config)\n",
    "\n",
    "        # Defining the loss and optimizers\n",
    "        self.loss_fn = nn.CrossEntropyLoss()\n",
    "        self.optimizer = torch.optim.Adam(self.parameters(), lr = config[\"learning_rate\"])\n",
    "\n",
    "        # Defining the metrics\n",
    "        self.acc_metric = Accuracy(task=\"multiclass\", num_classes=config[\"num_classes\"], average=\"weighted\")\n",
    "\n",
    "    def forward(self, x):\n",
    "        return self.model(x)\n",
    "    \n",
    "    def training_step(self, batch, batch_idx):\n",
    "        input_, target_ = batch\n",
    "        output_ = self(input_)\n",
    "        # Finding the loss to backprop #\n",
    "        loss = self.loss_fn(output_, target_)\n",
    "        # Logging the metrics #\n",
    "        self.log(\"train_loss\", loss, on_step=False, on_epoch=True, prog_bar=True, logger=True)\n",
    "        return loss\n",
    "    \n",
    "    def validation_step(self, batch, batch_idx):\n",
    "        input_, target_ = batch\n",
    "        output_ = self(input_)\n",
    "        # Finding the loss to backprop #\n",
    "        loss = self.loss_fn(output_, target_)\n",
    "\n",
    "        output_pred = torch.argmax(output_, dim=1) \n",
    "        acc = self.acc_metric(output_pred, target_)\n",
    "        # Logging the metrics #\n",
    "        self.log(\"val_loss\", loss, on_step=False, on_epoch=True, prog_bar=True, logger=True)\n",
    "        self.log(\"val_acc\", acc, on_step=False, on_epoch=True,prog_bar=True, logger=True)\n",
    "        return loss\n",
    "    \n",
    "    def test_step(self, batch, batch_idx):\n",
    "        input_, target_ = batch\n",
    "        output_ = self(input_)\n",
    "        # Finding the loss to backprop #\n",
    "        loss = self.loss_fn(output_, target_)\n",
    "        \n",
    "        output_pred = torch.argmax(output_, dim=1) \n",
    "        acc = self.acc_metric(output_pred, target_)\n",
    "        # Logging the metrics #\n",
    "        self.log(\"test_loss\", loss, prog_bar=True, logger=True, sync_dist=True)\n",
    "        self.log(\"test_acc\", acc, prog_bar=True, logger=True, sync_dist=True)\n",
    "        return loss\n",
    "    \n",
    "    def configure_optimizers(self):\n",
    "        return self.optimizer\n"
   ]
  },
  {
   "cell_type": "code",
   "execution_count": 7,
   "id": "18a9fd33",
   "metadata": {},
   "outputs": [],
   "source": [
    "# class to orient (all images to landscape)\n",
    "class OrientReshape:\n",
    "    def __init__(self, size = (256, 256)):\n",
    "        self.size = size\n",
    "    \n",
    "    def __call__(self, img):\n",
    "        # rotate the image to landscape if potrait #\n",
    "        if img.height > img.width:\n",
    "            img = img.rotate(90, expand = True)\n",
    "        # Reshape to target dimension #\n",
    "        img = F.resize(img, size = self.size)\n",
    "\n",
    "        return img\n",
    "    \n",
    "\n",
    "# Data augementation and transforms\n",
    "def create_data_augment_compose(input_size = (256, 256)):\n",
    "    data_transforms = {\n",
    "        \"orient_\" : transforms.Compose([\n",
    "            OrientReshape(size=input_size),\n",
    "            transforms.ToTensor()\n",
    "        ]),\n",
    "        \"train_\" : transforms.Compose([\n",
    "            transforms.RandomHorizontalFlip(p = 0.3),\n",
    "            transforms.RandomVerticalFlip(p = 0.3),\n",
    "            transforms.RandomRotation(degrees=15),\n",
    "            transforms.RandomAdjustSharpness(sharpness_factor=2, p=0.3),\n",
    "            transforms.GaussianBlur(kernel_size=3),\n",
    "            transforms.ToTensor(),\n",
    "            transforms.RandomErasing(p = 0.2, scale=(0.02, 0.075)),\n",
    "        ])\n",
    "    }\n",
    "\n",
    "    return data_transforms\n",
    "\n",
    "# Create a dataset with the image folders\n",
    "def create_dataset_image_folder(path_, input_size = (256,256)):\n",
    "    # Getting the transform\n",
    "    data_transforms = create_data_augment_compose(input_size)\n",
    "    # Path to dataset\n",
    "    data_dir = path_ #os.path.join(os.path.abspath(\"\"), \"nature_12K/inaturalist_12K/train/\") \n",
    "    # Creating dataset\n",
    "    full_dataset = datasets.ImageFolder(root=data_dir, transform=data_transforms[\"orient_\"])\n",
    "    # Getting the labels for stratified split\n",
    "    labels = [sample[1] for sample in full_dataset.samples]\n",
    "\n",
    "    # Stratified split\n",
    "    train_indices, val_indices = train_test_split(np.arange(len(labels)), test_size=0.2, stratify=labels, random_state=42)\n",
    "\n",
    "    # Create subsets\n",
    "    train_dataset = Subset(full_dataset, train_indices)\n",
    "    val_dataset = Subset(full_dataset, val_indices)\n",
    "    \n",
    "    return train_dataset, val_dataset, data_transforms\n",
    "\n",
    "def create_dataloaders(batch_size, num_workers, train_dataset, val_dataset, is_data_aug, data_transforms):\n",
    "    # Transforming the dataset with transforms\n",
    "    if is_data_aug:\n",
    "        train_dataset.dataset.transform = data_transforms['train_']\n",
    "    else:\n",
    "        train_dataset.dataset.transform = data_transforms['orient_']\n",
    "\n",
    "    val_dataset.dataset.transform = data_transforms['orient_']\n",
    "\n",
    "    train_loader = DataLoader(train_dataset, batch_size=batch_size, shuffle=True, num_workers=num_workers,drop_last=True)\n",
    "    val_loader = DataLoader(val_dataset, batch_size=batch_size, shuffle=False, num_workers=num_workers)\n",
    "\n",
    "    return train_loader, val_loader"
   ]
  },
  {
   "cell_type": "code",
   "execution_count": 8,
   "id": "6c3723d2",
   "metadata": {},
   "outputs": [],
   "source": [
    "def trainloop_sweep(config = None):\n",
    "    torch.cuda.empty_cache()\n",
    "    run = wandb.init(config=config)\n",
    "    config = dict(wandb.config)\n",
    "    run_name = f\"bs_{config[\"batch_size\"]}_layer_act_{config[\"conv_activation\"]}_epoch_{config[\"epochs\"]}_filter_mul_{config[\"filter_mul\"]}_num_filters_{config[\"no_of_filters\"]}\"\n",
    "    run.name = run_name\n",
    "\n",
    "    # Closing the runs which are not possible\n",
    "    if config[\"filter_mul\"] == 2 and config[\"no_of_filters\"]>=32:\n",
    "        print(\"Not a good combination !!!\")\n",
    "        wandb.finish()\n",
    "        return\n",
    "    \n",
    "    if config[\"filter_mul\"] == 1 and (config[\"no_of_filters\"]==512 or config[\"no_of_filters\"]==8 or config[\"no_of_filters\"]==16 or config[\"no_of_filters\"]==256) :\n",
    "        print(\"Not a good combination !!!\")\n",
    "        wandb.finish()\n",
    "        return\n",
    "    \n",
    "    if config[\"batch_size\"] == 64:\n",
    "        print(\"Not a good combination !!!\")\n",
    "        wandb.finish()\n",
    "        return\n",
    "    \n",
    "    # rechanging the configs to match the original config\n",
    "    config[\"conv_activation\"] = [config[\"conv_activation\"]]*5\n",
    "    nf, fm = config[\"no_of_filters\"], config[\"filter_mul\"]\n",
    "    config[\"no_of_filters\"] = list(map(int,[nf, nf*fm, nf*(fm**2), nf*(fm**3), nf*(fm**4)]))\n",
    "    config[\"filter_sizes\"] = [config[\"conv_1_filter_size\"], config[\"conv_2_filter_size\"], config[\"conv_3_filter_size\"], config[\"conv_4_filter_size\"], config[\"conv_5_filter_size\"]]\n",
    "    config[\"max_pooling_kernel_size\"] = [config[\"mp_layer1_kernel_size\"], config[\"mp_layer2_kernel_size\"], config[\"mp_layer3_kernel_size\"], config[\"mp_layer4_kernel_size\"], config[\"mp_layer5_kernel_size\"]]\n",
    "    config[\"max_pooling_stride\"] = [config[\"mp_layer1_stride\"], config[\"mp_layer2_stride\"], config[\"mp_layer3_stride\"], config[\"mp_layer4_stride\"], config[\"mp_layer5_stride\"]]\n",
    "    config[\"fc_activations\"] = [config[\"fc_activations\"]]\n",
    "    config[\"fc_neurons\"] = [config[\"fc_neurons\"]]\n",
    "    config[\"num_workers\"] = 2\n",
    "        \n",
    "    try:\n",
    "        # Loading the dataloaders\n",
    "        train_dataset, val_dataset, data_transforms = create_dataset_image_folder(path_=os.path.join(os.path.abspath(\"\"), \"nature_12K/inaturalist_12K/train/\"), input_size=config[\"input_size\"])\n",
    "        train_loader, val_loader = create_dataloaders(batch_size=config[\"batch_size\"], num_workers=config[\"num_workers\"], train_dataset=train_dataset, val_dataset=val_dataset, is_data_aug=config[\"data_aug\"], data_transforms = data_transforms)\n",
    "\n",
    "        wandb_logger = WandbLogger(log_model=False)\n",
    "        model = Lightning_CNN(config=config)\n",
    "        trainer = Trainer(max_epochs=config[\"epochs\"], accelerator=\"auto\", logger=wandb_logger)\n",
    "        trainer.fit(model, train_dataloaders=train_loader, val_dataloaders=val_loader)\n",
    "        wandb.finish()\n",
    "\n",
    "    except RuntimeError as e:\n",
    "        if \"out of memory\" in str(e):\n",
    "            print(\"⚠️ CUDA Out Of Memory — skipping this run.\")\n",
    "            gc.collect()\n",
    "            torch.cuda.empty_cache()\n",
    "        else:\n",
    "            raise e\n",
    "\n",
    "    finally:\n",
    "      wandb.finish()\n",
    "      del model"
   ]
  },
  {
   "cell_type": "code",
   "execution_count": 9,
   "id": "f96ea14c",
   "metadata": {},
   "outputs": [
    {
     "data": {
      "text/plain": [
       "'\\nInference from the earlier sweep\\n1) Smaller learning rate is prefered...\\n2) Filter multiplication positively correlated (removing 0.5)\\n3) Larger kernel sizes for convolution is not required... (more importantly in the last convolution layers)\\n4) ReLU activation is removed from both convolution anf fc layers\\n5) Removed False from data augmentation\\n6)\\n'"
      ]
     },
     "execution_count": 9,
     "metadata": {},
     "output_type": "execute_result"
    }
   ],
   "source": [
    "\"\"\"\n",
    "Inference from the earlier sweep\n",
    "1) Smaller learning rate is prefered...\n",
    "2) Filter multiplication positively correlated (removing 0.5)\n",
    "3) Larger kernel sizes for convolution is not required... (more importantly in the last convolution layers)\n",
    "4) ReLU activation is removed from both convolution anf fc layers\n",
    "5) Removed False from data augmentation\n",
    "6)\n",
    "\"\"\""
   ]
  },
  {
   "cell_type": "code",
   "execution_count": 10,
   "id": "d2438f4a",
   "metadata": {},
   "outputs": [],
   "source": [
    "sweep_config = {\n",
    "    \"name\" : \"Q1_CNN_bayes\",\n",
    "    \"method\" : \"bayes\",\n",
    "    \"metric\" : {\n",
    "        \"name\" : \"val_acc\",\n",
    "        \"goal\" : \"maximize\"\n",
    "    },\n",
    "    \"parameters\" : {\n",
    "        \"learning_rate\" : {\"values\" : [0.0005, 0.00025]}, \n",
    "        \"no_of_conv_blocks\" : {\"values\" : [5]},\n",
    "        \"input_size\" : {\"values\" : [(256, 256)]},\n",
    "        \"input_channels\" : {\"values\" : [3]},\n",
    "        \"num_classes\" : {\"values\" : [10]},\n",
    "        \"no_of_filters\" : {\"values\" : [8, 16, 32, 64, 128, 256, 512]},\n",
    "        \"filter_mul\" : {\"values\" : [1, 2]},\n",
    "        \"conv_activation\" : {\"values\" : [\"GELU\", \"SiLU\", \"SELU\", \"Mish\", \"LeakyReLU\"]},\n",
    "        # Layer wise kernel size\n",
    "        \"conv_1_filter_size\" : {\"values\" : [3, 5]},\n",
    "        \"conv_2_filter_size\" : {\"values\" : [3, 5]},\n",
    "        \"conv_3_filter_size\" : {\"values\" : [3, 5]},\n",
    "        \"conv_4_filter_size\" : {\"values\" : [3, 5]},\n",
    "        \"conv_5_filter_size\" : {\"values\" : [3, 5]},\n",
    "        # Strides are kept 1\n",
    "        \"conv_strides\" : {\"values\" : [(1, 1, 1, 1, 1)] },\n",
    "        \"conv_padding\" : {\"values\" : [(None, None, None, None, None)]}, # Use None if you want no reduction in size of image (stride = 1)\n",
    "        # Layer wise max pooling params\n",
    "        \"mp_layer1_kernel_size\" : {\"values\" : [2, 3, 5]},\n",
    "        \"mp_layer1_stride\" : {\"values\" : [2, 3, None]},\n",
    "        \"mp_layer2_kernel_size\" : {\"values\" : [2, 3, 5]},\n",
    "        \"mp_layer2_stride\" : {\"values\" : [2, 3, None]},\n",
    "        \"mp_layer3_kernel_size\" : {\"values\" : [2, 3, 5]},\n",
    "        \"mp_layer3_stride\" : {\"values\" : [2, 3]},\n",
    "        \"mp_layer4_kernel_size\" : {\"values\" : [2, 3]},\n",
    "        \"mp_layer4_stride\" : {\"values\" : [2, 3]},\n",
    "        \"mp_layer5_kernel_size\" : {\"values\" : [2, 3]},\n",
    "        \"mp_layer5_stride\" : {\"values\" : [2, 3]},\n",
    "        # batch norm conv\n",
    "        \"batch_norm_conv\" : {\"values\" : [True, False]},\n",
    "        \"dropout_conv\" : {\"values\" : [0, 0.1, 0.2]}, # if dont need use 0\n",
    "        # Fully connected layers\n",
    "        \"no_of_fc_layers\" : {\"values\" : [1]}, # Ignore the output layer\n",
    "        \"fc_activations\" : {\"values\" : [\"GELU\", \"SiLU\", \"SELU\", \"Mish\", \"LeakyReLU\"]},\n",
    "        \"fc_neurons\" : {\"values\" : [512, 1024]},\n",
    "        \"batch_norm_fc\" : {\"values\" : [True]},\n",
    "        \"dropout_fc\" : {\"values\" : [0, 0.2, 0.3]}, \n",
    "        # Batch size\n",
    "        \"batch_size\" : {\"values\" :  [16, 32, 64]},\n",
    "        \"data_aug\" : {\"values\" : [True]},\n",
    "        # Extras\n",
    "        \"num_workers\" : {\"values\" : [10]},\n",
    "        \"epochs\" : {\"values\" : [25]}\n",
    "    }\n",
    "}"
   ]
  },
  {
   "cell_type": "code",
   "execution_count": null,
   "id": "9c73dc3f",
   "metadata": {},
   "outputs": [
    {
     "data": {
      "application/vnd.jupyter.widget-view+json": {
       "model_id": "cf00177c3570418c9154784d6903da33",
       "version_major": 2,
       "version_minor": 0
      },
      "text/plain": [
       "Validation: |          | 0/? [00:00<?, ?it/s]"
      ]
     },
     "metadata": {},
     "output_type": "display_data"
    },
    {
     "data": {
      "application/vnd.jupyter.widget-view+json": {
       "model_id": "bce817e0024947789db36896a0f95fe5",
       "version_major": 2,
       "version_minor": 0
      },
      "text/plain": [
       "Validation: |          | 0/? [00:00<?, ?it/s]"
      ]
     },
     "metadata": {},
     "output_type": "display_data"
    },
    {
     "data": {
      "application/vnd.jupyter.widget-view+json": {
       "model_id": "3371d53fc79b420c9fea6792b91587d1",
       "version_major": 2,
       "version_minor": 0
      },
      "text/plain": [
       "Validation: |          | 0/? [00:00<?, ?it/s]"
      ]
     },
     "metadata": {},
     "output_type": "display_data"
    },
    {
     "data": {
      "application/vnd.jupyter.widget-view+json": {
       "model_id": "ce4013f38d284c89abf7f510f83aaf2b",
       "version_major": 2,
       "version_minor": 0
      },
      "text/plain": [
       "Validation: |          | 0/? [00:00<?, ?it/s]"
      ]
     },
     "metadata": {},
     "output_type": "display_data"
    },
    {
     "data": {
      "application/vnd.jupyter.widget-view+json": {
       "model_id": "1cacc1e100b24b8280d016332caf5f54",
       "version_major": 2,
       "version_minor": 0
      },
      "text/plain": [
       "Validation: |          | 0/? [00:00<?, ?it/s]"
      ]
     },
     "metadata": {},
     "output_type": "display_data"
    },
    {
     "data": {
      "application/vnd.jupyter.widget-view+json": {
       "model_id": "fac857f4d75047bf821d4b6b33f7fc1e",
       "version_major": 2,
       "version_minor": 0
      },
      "text/plain": [
       "Validation: |          | 0/? [00:00<?, ?it/s]"
      ]
     },
     "metadata": {},
     "output_type": "display_data"
    },
    {
     "data": {
      "application/vnd.jupyter.widget-view+json": {
       "model_id": "668f9bd2b6d34b4c9707c3d8f838f02a",
       "version_major": 2,
       "version_minor": 0
      },
      "text/plain": [
       "Validation: |          | 0/? [00:00<?, ?it/s]"
      ]
     },
     "metadata": {},
     "output_type": "display_data"
    },
    {
     "data": {
      "application/vnd.jupyter.widget-view+json": {
       "model_id": "2457e61afb0f4995855be673b44d8f8f",
       "version_major": 2,
       "version_minor": 0
      },
      "text/plain": [
       "Validation: |          | 0/? [00:00<?, ?it/s]"
      ]
     },
     "metadata": {},
     "output_type": "display_data"
    },
    {
     "data": {
      "application/vnd.jupyter.widget-view+json": {
       "model_id": "89aa2c2861264413b923b7249dc59828",
       "version_major": 2,
       "version_minor": 0
      },
      "text/plain": [
       "Validation: |          | 0/? [00:00<?, ?it/s]"
      ]
     },
     "metadata": {},
     "output_type": "display_data"
    },
    {
     "data": {
      "application/vnd.jupyter.widget-view+json": {
       "model_id": "2ec03cc793bb4dd0b9acfa324f59ee61",
       "version_major": 2,
       "version_minor": 0
      },
      "text/plain": [
       "Validation: |          | 0/? [00:00<?, ?it/s]"
      ]
     },
     "metadata": {},
     "output_type": "display_data"
    },
    {
     "name": "stderr",
     "output_type": "stream",
     "text": [
      "`Trainer.fit` stopped: `max_epochs=25` reached.\n"
     ]
    },
    {
     "data": {
      "text/html": [],
      "text/plain": [
       "<IPython.core.display.HTML object>"
      ]
     },
     "metadata": {},
     "output_type": "display_data"
    },
    {
     "data": {
      "text/html": [
       "<br>    <style><br>        .wandb-row {<br>            display: flex;<br>            flex-direction: row;<br>            flex-wrap: wrap;<br>            justify-content: flex-start;<br>            width: 100%;<br>        }<br>        .wandb-col {<br>            display: flex;<br>            flex-direction: column;<br>            flex-basis: 100%;<br>            flex: 1;<br>            padding: 10px;<br>        }<br>    </style><br><div class=\"wandb-row\"><div class=\"wandb-col\"><h3>Run history:</h3><br/><table class=\"wandb\"><tr><td>epoch</td><td>▁▁▁▁▂▂▂▂▂▂▃▃▃▃▃▄▄▄▄▄▅▅▅▅▅▆▆▆▆▆▇▇▇▇▇▇▇███</td></tr><tr><td>train_loss</td><td>█▇▇▇▆▆▅▅▄▄▃▃▃▂▂▂▂▂▁▁▁▁▁▁▁</td></tr><tr><td>trainer/global_step</td><td>▁▁▁▁▂▂▂▂▂▂▃▃▃▃▃▄▄▄▄▄▅▅▅▅▅▅▆▆▆▆▆▇▇▇▇▇▇███</td></tr><tr><td>val_acc</td><td>▁▄▇▇█▇▆▆▆█▇▆▆▇▇▆▅▆▆▄▅▆▅▅▅</td></tr><tr><td>val_loss</td><td>█▆▃▂▁▂▂▃▃▁▂▃▂▁▂▃▄▃▃▄▄▃▃▃▄</td></tr></table><br/></div><div class=\"wandb-col\"><h3>Run summary:</h3><br/><table class=\"wandb\"><tr><td>epoch</td><td>24</td></tr><tr><td>train_loss</td><td>1.59023</td></tr><tr><td>trainer/global_step</td><td>6224</td></tr><tr><td>val_acc</td><td>0.3255</td></tr><tr><td>val_loss</td><td>2.12093</td></tr></table><br/></div></div>"
      ],
      "text/plain": [
       "<IPython.core.display.HTML object>"
      ]
     },
     "metadata": {},
     "output_type": "display_data"
    },
    {
     "data": {
      "text/html": [
       " View run <strong style=\"color:#cdcd00\">bs_32_layer_act_GELU_epoch_25_filter_mul_1_num_filters_32</strong> at: <a href='https://wandb.ai/A2_DA6401_DL/Lightning_CNN/runs/qrfupsqt' target=\"_blank\">https://wandb.ai/A2_DA6401_DL/Lightning_CNN/runs/qrfupsqt</a><br> View project at: <a href='https://wandb.ai/A2_DA6401_DL/Lightning_CNN' target=\"_blank\">https://wandb.ai/A2_DA6401_DL/Lightning_CNN</a><br>Synced 5 W&B file(s), 0 media file(s), 0 artifact file(s) and 0 other file(s)"
      ],
      "text/plain": [
       "<IPython.core.display.HTML object>"
      ]
     },
     "metadata": {},
     "output_type": "display_data"
    },
    {
     "data": {
      "text/html": [
       "Find logs at: <code>./wandb/run-20250417_172715-qrfupsqt/logs</code>"
      ],
      "text/plain": [
       "<IPython.core.display.HTML object>"
      ]
     },
     "metadata": {},
     "output_type": "display_data"
    },
    {
     "name": "stderr",
     "output_type": "stream",
     "text": [
      "\u001b[34m\u001b[1mwandb\u001b[0m: Agent Starting Run: n1u0gw7j with config:\n",
      "\u001b[34m\u001b[1mwandb\u001b[0m: \tbatch_norm_conv: False\n",
      "\u001b[34m\u001b[1mwandb\u001b[0m: \tbatch_norm_fc: True\n",
      "\u001b[34m\u001b[1mwandb\u001b[0m: \tbatch_size: 16\n",
      "\u001b[34m\u001b[1mwandb\u001b[0m: \tconv_1_filter_size: 3\n",
      "\u001b[34m\u001b[1mwandb\u001b[0m: \tconv_2_filter_size: 5\n",
      "\u001b[34m\u001b[1mwandb\u001b[0m: \tconv_3_filter_size: 5\n",
      "\u001b[34m\u001b[1mwandb\u001b[0m: \tconv_4_filter_size: 5\n",
      "\u001b[34m\u001b[1mwandb\u001b[0m: \tconv_5_filter_size: 5\n",
      "\u001b[34m\u001b[1mwandb\u001b[0m: \tconv_activation: LeakyReLU\n",
      "\u001b[34m\u001b[1mwandb\u001b[0m: \tconv_padding: [None, None, None, None, None]\n",
      "\u001b[34m\u001b[1mwandb\u001b[0m: \tconv_strides: [1, 1, 1, 1, 1]\n",
      "\u001b[34m\u001b[1mwandb\u001b[0m: \tdata_aug: True\n",
      "\u001b[34m\u001b[1mwandb\u001b[0m: \tdropout_conv: 0.1\n",
      "\u001b[34m\u001b[1mwandb\u001b[0m: \tdropout_fc: 0.3\n",
      "\u001b[34m\u001b[1mwandb\u001b[0m: \tepochs: 25\n",
      "\u001b[34m\u001b[1mwandb\u001b[0m: \tfc_activations: GELU\n",
      "\u001b[34m\u001b[1mwandb\u001b[0m: \tfc_neurons: 512\n",
      "\u001b[34m\u001b[1mwandb\u001b[0m: \tfilter_mul: 1\n",
      "\u001b[34m\u001b[1mwandb\u001b[0m: \tinput_channels: 3\n",
      "\u001b[34m\u001b[1mwandb\u001b[0m: \tinput_size: [256, 256]\n",
      "\u001b[34m\u001b[1mwandb\u001b[0m: \tlearning_rate: 0.00025\n",
      "\u001b[34m\u001b[1mwandb\u001b[0m: \tmp_layer1_kernel_size: 3\n",
      "\u001b[34m\u001b[1mwandb\u001b[0m: \tmp_layer1_stride: 3\n",
      "\u001b[34m\u001b[1mwandb\u001b[0m: \tmp_layer2_kernel_size: 3\n",
      "\u001b[34m\u001b[1mwandb\u001b[0m: \tmp_layer2_stride: None\n",
      "\u001b[34m\u001b[1mwandb\u001b[0m: \tmp_layer3_kernel_size: 3\n",
      "\u001b[34m\u001b[1mwandb\u001b[0m: \tmp_layer3_stride: 3\n",
      "\u001b[34m\u001b[1mwandb\u001b[0m: \tmp_layer4_kernel_size: 3\n",
      "\u001b[34m\u001b[1mwandb\u001b[0m: \tmp_layer4_stride: 3\n",
      "\u001b[34m\u001b[1mwandb\u001b[0m: \tmp_layer5_kernel_size: 3\n",
      "\u001b[34m\u001b[1mwandb\u001b[0m: \tmp_layer5_stride: 3\n",
      "\u001b[34m\u001b[1mwandb\u001b[0m: \tno_of_conv_blocks: 5\n",
      "\u001b[34m\u001b[1mwandb\u001b[0m: \tno_of_fc_layers: 1\n",
      "\u001b[34m\u001b[1mwandb\u001b[0m: \tno_of_filters: 64\n",
      "\u001b[34m\u001b[1mwandb\u001b[0m: \tnum_classes: 10\n",
      "\u001b[34m\u001b[1mwandb\u001b[0m: \tnum_workers: 10\n"
     ]
    },
    {
     "data": {
      "text/html": [
       "Tracking run with wandb version 0.19.9"
      ],
      "text/plain": [
       "<IPython.core.display.HTML object>"
      ]
     },
     "metadata": {},
     "output_type": "display_data"
    },
    {
     "data": {
      "text/html": [
       "Run data is saved locally in <code>/home/joel/Pytorch_CUDA/wandb/run-20250417_181657-n1u0gw7j</code>"
      ],
      "text/plain": [
       "<IPython.core.display.HTML object>"
      ]
     },
     "metadata": {},
     "output_type": "display_data"
    },
    {
     "data": {
      "text/html": [
       "Syncing run <strong><a href='https://wandb.ai/A2_DA6401_DL/Lightning_CNN/runs/n1u0gw7j' target=\"_blank\">azure-sweep-102</a></strong> to <a href='https://wandb.ai/A2_DA6401_DL/Lightning_CNN' target=\"_blank\">Weights & Biases</a> (<a href='https://wandb.me/developer-guide' target=\"_blank\">docs</a>)<br>Sweep page: <a href='https://wandb.ai/A2_DA6401_DL/Lightning_CNN/sweeps/78djv91t' target=\"_blank\">https://wandb.ai/A2_DA6401_DL/Lightning_CNN/sweeps/78djv91t</a>"
      ],
      "text/plain": [
       "<IPython.core.display.HTML object>"
      ]
     },
     "metadata": {},
     "output_type": "display_data"
    },
    {
     "data": {
      "text/html": [
       " View project at <a href='https://wandb.ai/A2_DA6401_DL/Lightning_CNN' target=\"_blank\">https://wandb.ai/A2_DA6401_DL/Lightning_CNN</a>"
      ],
      "text/plain": [
       "<IPython.core.display.HTML object>"
      ]
     },
     "metadata": {},
     "output_type": "display_data"
    },
    {
     "data": {
      "text/html": [
       " View sweep at <a href='https://wandb.ai/A2_DA6401_DL/Lightning_CNN/sweeps/78djv91t' target=\"_blank\">https://wandb.ai/A2_DA6401_DL/Lightning_CNN/sweeps/78djv91t</a>"
      ],
      "text/plain": [
       "<IPython.core.display.HTML object>"
      ]
     },
     "metadata": {},
     "output_type": "display_data"
    },
    {
     "data": {
      "text/html": [
       " View run at <a href='https://wandb.ai/A2_DA6401_DL/Lightning_CNN/runs/n1u0gw7j' target=\"_blank\">https://wandb.ai/A2_DA6401_DL/Lightning_CNN/runs/n1u0gw7j</a>"
      ],
      "text/plain": [
       "<IPython.core.display.HTML object>"
      ]
     },
     "metadata": {},
     "output_type": "display_data"
    },
    {
     "name": "stderr",
     "output_type": "stream",
     "text": [
      "You are using the plain ModelCheckpoint callback. Consider using LitModelCheckpoint which with seamless uploading to Model registry.\n",
      "GPU available: True (cuda), used: True\n",
      "TPU available: False, using: 0 TPU cores\n",
      "HPU available: False, using: 0 HPUs\n",
      "/home/joel/Pytorch_CUDA/virt_env/lib/python3.12/site-packages/lightning/pytorch/loggers/wandb.py:397: There is a wandb run already in progress and newly created instances of `WandbLogger` will reuse this run. If this is not desired, call `wandb.finish()` before instantiating `WandbLogger`.\n",
      "LOCAL_RANK: 0 - CUDA_VISIBLE_DEVICES: [0]\n",
      "\n",
      "  | Name       | Type               | Params | Mode \n",
      "----------------------------------------------------------\n",
      "0 | model      | CNN_               | 713 K  | train\n",
      "1 | loss_fn    | CrossEntropyLoss   | 0      | train\n",
      "2 | acc_metric | MulticlassAccuracy | 0      | train\n",
      "----------------------------------------------------------\n",
      "713 K     Trainable params\n",
      "0         Non-trainable params\n",
      "713 K     Total params\n",
      "2.853     Total estimated model params size (MB)\n",
      "43        Modules in train mode\n",
      "0         Modules in eval mode\n"
     ]
    },
    {
     "data": {
      "application/vnd.jupyter.widget-view+json": {
       "model_id": "badfe0def631442587fc76346b1e47fd",
       "version_major": 2,
       "version_minor": 0
      },
      "text/plain": [
       "Sanity Checking: |          | 0/? [00:00<?, ?it/s]"
      ]
     },
     "metadata": {},
     "output_type": "display_data"
    },
    {
     "data": {
      "application/vnd.jupyter.widget-view+json": {
       "model_id": "553e3209d08c4a77a502d55e6214e540",
       "version_major": 2,
       "version_minor": 0
      },
      "text/plain": [
       "Training: |          | 0/? [00:00<?, ?it/s]"
      ]
     },
     "metadata": {},
     "output_type": "display_data"
    },
    {
     "data": {
      "application/vnd.jupyter.widget-view+json": {
       "model_id": "c358ab6b48dc440db346c1dde5bccb7c",
       "version_major": 2,
       "version_minor": 0
      },
      "text/plain": [
       "Validation: |          | 0/? [00:00<?, ?it/s]"
      ]
     },
     "metadata": {},
     "output_type": "display_data"
    },
    {
     "data": {
      "application/vnd.jupyter.widget-view+json": {
       "model_id": "a7ad778c5beb45c99056fdeefc7555ac",
       "version_major": 2,
       "version_minor": 0
      },
      "text/plain": [
       "Validation: |          | 0/? [00:00<?, ?it/s]"
      ]
     },
     "metadata": {},
     "output_type": "display_data"
    },
    {
     "data": {
      "application/vnd.jupyter.widget-view+json": {
       "model_id": "89a08c1d95fe4c4eb386c5780ba2c5e4",
       "version_major": 2,
       "version_minor": 0
      },
      "text/plain": [
       "Validation: |          | 0/? [00:00<?, ?it/s]"
      ]
     },
     "metadata": {},
     "output_type": "display_data"
    },
    {
     "data": {
      "application/vnd.jupyter.widget-view+json": {
       "model_id": "a755acfa2e9d4bc7858d730561b30d7b",
       "version_major": 2,
       "version_minor": 0
      },
      "text/plain": [
       "Validation: |          | 0/? [00:00<?, ?it/s]"
      ]
     },
     "metadata": {},
     "output_type": "display_data"
    },
    {
     "data": {
      "application/vnd.jupyter.widget-view+json": {
       "model_id": "cbf7b00a54654336b577e1feec054ac3",
       "version_major": 2,
       "version_minor": 0
      },
      "text/plain": [
       "Validation: |          | 0/? [00:00<?, ?it/s]"
      ]
     },
     "metadata": {},
     "output_type": "display_data"
    },
    {
     "data": {
      "application/vnd.jupyter.widget-view+json": {
       "model_id": "3693e53c788241a0819d2b2ba0429d5a",
       "version_major": 2,
       "version_minor": 0
      },
      "text/plain": [
       "Validation: |          | 0/? [00:00<?, ?it/s]"
      ]
     },
     "metadata": {},
     "output_type": "display_data"
    },
    {
     "data": {
      "application/vnd.jupyter.widget-view+json": {
       "model_id": "eaa56e8d98074efabcebe6403eec102c",
       "version_major": 2,
       "version_minor": 0
      },
      "text/plain": [
       "Validation: |          | 0/? [00:00<?, ?it/s]"
      ]
     },
     "metadata": {},
     "output_type": "display_data"
    },
    {
     "data": {
      "application/vnd.jupyter.widget-view+json": {
       "model_id": "ba16b601ef304ab68b27b0e6777a726c",
       "version_major": 2,
       "version_minor": 0
      },
      "text/plain": [
       "Validation: |          | 0/? [00:00<?, ?it/s]"
      ]
     },
     "metadata": {},
     "output_type": "display_data"
    },
    {
     "data": {
      "application/vnd.jupyter.widget-view+json": {
       "model_id": "3178b7e0d7f44e2aa54cc1b19e853e60",
       "version_major": 2,
       "version_minor": 0
      },
      "text/plain": [
       "Validation: |          | 0/? [00:00<?, ?it/s]"
      ]
     },
     "metadata": {},
     "output_type": "display_data"
    },
    {
     "data": {
      "application/vnd.jupyter.widget-view+json": {
       "model_id": "66688689235d480683e924334b4e8008",
       "version_major": 2,
       "version_minor": 0
      },
      "text/plain": [
       "Validation: |          | 0/? [00:00<?, ?it/s]"
      ]
     },
     "metadata": {},
     "output_type": "display_data"
    },
    {
     "data": {
      "application/vnd.jupyter.widget-view+json": {
       "model_id": "f958acf963e148dbb8eb2b4a4459395f",
       "version_major": 2,
       "version_minor": 0
      },
      "text/plain": [
       "Validation: |          | 0/? [00:00<?, ?it/s]"
      ]
     },
     "metadata": {},
     "output_type": "display_data"
    },
    {
     "data": {
      "application/vnd.jupyter.widget-view+json": {
       "model_id": "b25d95e96a934f069e5c36962a22bc24",
       "version_major": 2,
       "version_minor": 0
      },
      "text/plain": [
       "Validation: |          | 0/? [00:00<?, ?it/s]"
      ]
     },
     "metadata": {},
     "output_type": "display_data"
    },
    {
     "data": {
      "application/vnd.jupyter.widget-view+json": {
       "model_id": "a4c30f6f08c64daea6fcc5539fa06fdd",
       "version_major": 2,
       "version_minor": 0
      },
      "text/plain": [
       "Validation: |          | 0/? [00:00<?, ?it/s]"
      ]
     },
     "metadata": {},
     "output_type": "display_data"
    },
    {
     "data": {
      "application/vnd.jupyter.widget-view+json": {
       "model_id": "c44e3e6b46a0467ebc8bd43b6f6313da",
       "version_major": 2,
       "version_minor": 0
      },
      "text/plain": [
       "Validation: |          | 0/? [00:00<?, ?it/s]"
      ]
     },
     "metadata": {},
     "output_type": "display_data"
    },
    {
     "data": {
      "application/vnd.jupyter.widget-view+json": {
       "model_id": "a67d7a1f06304ed59ec220b6d5210693",
       "version_major": 2,
       "version_minor": 0
      },
      "text/plain": [
       "Validation: |          | 0/? [00:00<?, ?it/s]"
      ]
     },
     "metadata": {},
     "output_type": "display_data"
    },
    {
     "data": {
      "application/vnd.jupyter.widget-view+json": {
       "model_id": "878e18e3b2464cd59ee0ccbefefa286c",
       "version_major": 2,
       "version_minor": 0
      },
      "text/plain": [
       "Validation: |          | 0/? [00:00<?, ?it/s]"
      ]
     },
     "metadata": {},
     "output_type": "display_data"
    },
    {
     "data": {
      "application/vnd.jupyter.widget-view+json": {
       "model_id": "7f2fe3a950d6470bb77ea53111477ba6",
       "version_major": 2,
       "version_minor": 0
      },
      "text/plain": [
       "Validation: |          | 0/? [00:00<?, ?it/s]"
      ]
     },
     "metadata": {},
     "output_type": "display_data"
    },
    {
     "data": {
      "application/vnd.jupyter.widget-view+json": {
       "model_id": "4ad73242741941c8a6f7cc85502fddfe",
       "version_major": 2,
       "version_minor": 0
      },
      "text/plain": [
       "Validation: |          | 0/? [00:00<?, ?it/s]"
      ]
     },
     "metadata": {},
     "output_type": "display_data"
    },
    {
     "data": {
      "application/vnd.jupyter.widget-view+json": {
       "model_id": "ac8fdac656b34c009cfac47d9c1e218d",
       "version_major": 2,
       "version_minor": 0
      },
      "text/plain": [
       "Validation: |          | 0/? [00:00<?, ?it/s]"
      ]
     },
     "metadata": {},
     "output_type": "display_data"
    },
    {
     "data": {
      "application/vnd.jupyter.widget-view+json": {
       "model_id": "6a2a945ab5d84286a5be0c7089ff565f",
       "version_major": 2,
       "version_minor": 0
      },
      "text/plain": [
       "Validation: |          | 0/? [00:00<?, ?it/s]"
      ]
     },
     "metadata": {},
     "output_type": "display_data"
    },
    {
     "data": {
      "application/vnd.jupyter.widget-view+json": {
       "model_id": "fe1abe1281ac4262a0ec49d8f4b26449",
       "version_major": 2,
       "version_minor": 0
      },
      "text/plain": [
       "Validation: |          | 0/? [00:00<?, ?it/s]"
      ]
     },
     "metadata": {},
     "output_type": "display_data"
    },
    {
     "data": {
      "application/vnd.jupyter.widget-view+json": {
       "model_id": "206698bdab644184a65b2bf0f4549553",
       "version_major": 2,
       "version_minor": 0
      },
      "text/plain": [
       "Validation: |          | 0/? [00:00<?, ?it/s]"
      ]
     },
     "metadata": {},
     "output_type": "display_data"
    },
    {
     "data": {
      "application/vnd.jupyter.widget-view+json": {
       "model_id": "6233cc9baeb54fc39278bff423bdf6ff",
       "version_major": 2,
       "version_minor": 0
      },
      "text/plain": [
       "Validation: |          | 0/? [00:00<?, ?it/s]"
      ]
     },
     "metadata": {},
     "output_type": "display_data"
    },
    {
     "data": {
      "application/vnd.jupyter.widget-view+json": {
       "model_id": "e8fdb7e07f25419eaaf120fbb975426b",
       "version_major": 2,
       "version_minor": 0
      },
      "text/plain": [
       "Validation: |          | 0/? [00:00<?, ?it/s]"
      ]
     },
     "metadata": {},
     "output_type": "display_data"
    },
    {
     "data": {
      "application/vnd.jupyter.widget-view+json": {
       "model_id": "122b496b9f9146b3a2617a0e2d02fff7",
       "version_major": 2,
       "version_minor": 0
      },
      "text/plain": [
       "Validation: |          | 0/? [00:00<?, ?it/s]"
      ]
     },
     "metadata": {},
     "output_type": "display_data"
    },
    {
     "name": "stderr",
     "output_type": "stream",
     "text": [
      "`Trainer.fit` stopped: `max_epochs=25` reached.\n"
     ]
    },
    {
     "data": {
      "text/html": [],
      "text/plain": [
       "<IPython.core.display.HTML object>"
      ]
     },
     "metadata": {},
     "output_type": "display_data"
    },
    {
     "data": {
      "text/html": [
       "<br>    <style><br>        .wandb-row {<br>            display: flex;<br>            flex-direction: row;<br>            flex-wrap: wrap;<br>            justify-content: flex-start;<br>            width: 100%;<br>        }<br>        .wandb-col {<br>            display: flex;<br>            flex-direction: column;<br>            flex-basis: 100%;<br>            flex: 1;<br>            padding: 10px;<br>        }<br>    </style><br><div class=\"wandb-row\"><div class=\"wandb-col\"><h3>Run history:</h3><br/><table class=\"wandb\"><tr><td>epoch</td><td>▁▁▁▁▂▂▂▂▂▂▃▃▃▃▃▄▄▄▄▅▅▅▅▅▅▆▆▆▆▆▇▇▇▇▇▇▇███</td></tr><tr><td>train_loss</td><td>█▇▆▆▅▅▅▅▄▄▄▄▃▃▃▃▃▃▂▂▂▂▁▁▁</td></tr><tr><td>trainer/global_step</td><td>▁▁▁▁▂▂▂▂▂▂▃▃▃▃▃▄▄▄▄▄▅▅▅▅▅▅▆▆▆▆▇▇▇▇▇▇▇███</td></tr><tr><td>val_acc</td><td>▁▃▄▄▄▆▆▆▆▆▇▇▆▇▇▇▇███▇▇███</td></tr><tr><td>val_loss</td><td>█▆▅▅▅▄▄▃▃▃▂▂▃▂▃▂▂▁▁▁▂▂▁▁▁</td></tr></table><br/></div><div class=\"wandb-col\"><h3>Run summary:</h3><br/><table class=\"wandb\"><tr><td>epoch</td><td>24</td></tr><tr><td>train_loss</td><td>2.01274</td></tr><tr><td>trainer/global_step</td><td>12474</td></tr><tr><td>val_acc</td><td>0.3675</td></tr><tr><td>val_loss</td><td>2.08391</td></tr></table><br/></div></div>"
      ],
      "text/plain": [
       "<IPython.core.display.HTML object>"
      ]
     },
     "metadata": {},
     "output_type": "display_data"
    },
    {
     "data": {
      "text/html": [
       " View run <strong style=\"color:#cdcd00\">bs_16_layer_act_LeakyReLU_epoch_25_filter_mul_1_num_filters_64</strong> at: <a href='https://wandb.ai/A2_DA6401_DL/Lightning_CNN/runs/n1u0gw7j' target=\"_blank\">https://wandb.ai/A2_DA6401_DL/Lightning_CNN/runs/n1u0gw7j</a><br> View project at: <a href='https://wandb.ai/A2_DA6401_DL/Lightning_CNN' target=\"_blank\">https://wandb.ai/A2_DA6401_DL/Lightning_CNN</a><br>Synced 5 W&B file(s), 0 media file(s), 0 artifact file(s) and 0 other file(s)"
      ],
      "text/plain": [
       "<IPython.core.display.HTML object>"
      ]
     },
     "metadata": {},
     "output_type": "display_data"
    },
    {
     "data": {
      "text/html": [
       "Find logs at: <code>./wandb/run-20250417_181657-n1u0gw7j/logs</code>"
      ],
      "text/plain": [
       "<IPython.core.display.HTML object>"
      ]
     },
     "metadata": {},
     "output_type": "display_data"
    },
    {
     "name": "stderr",
     "output_type": "stream",
     "text": [
      "\u001b[34m\u001b[1mwandb\u001b[0m: Sweep Agent: Waiting for job.\n",
      "\u001b[34m\u001b[1mwandb\u001b[0m: Job received.\n",
      "\u001b[34m\u001b[1mwandb\u001b[0m: Agent Starting Run: oz8ab9nr with config:\n",
      "\u001b[34m\u001b[1mwandb\u001b[0m: \tbatch_norm_conv: True\n",
      "\u001b[34m\u001b[1mwandb\u001b[0m: \tbatch_norm_fc: True\n",
      "\u001b[34m\u001b[1mwandb\u001b[0m: \tbatch_size: 32\n",
      "\u001b[34m\u001b[1mwandb\u001b[0m: \tconv_1_filter_size: 3\n",
      "\u001b[34m\u001b[1mwandb\u001b[0m: \tconv_2_filter_size: 5\n",
      "\u001b[34m\u001b[1mwandb\u001b[0m: \tconv_3_filter_size: 5\n",
      "\u001b[34m\u001b[1mwandb\u001b[0m: \tconv_4_filter_size: 3\n",
      "\u001b[34m\u001b[1mwandb\u001b[0m: \tconv_5_filter_size: 5\n",
      "\u001b[34m\u001b[1mwandb\u001b[0m: \tconv_activation: LeakyReLU\n",
      "\u001b[34m\u001b[1mwandb\u001b[0m: \tconv_padding: [None, None, None, None, None]\n",
      "\u001b[34m\u001b[1mwandb\u001b[0m: \tconv_strides: [1, 1, 1, 1, 1]\n",
      "\u001b[34m\u001b[1mwandb\u001b[0m: \tdata_aug: True\n",
      "\u001b[34m\u001b[1mwandb\u001b[0m: \tdropout_conv: 0\n",
      "\u001b[34m\u001b[1mwandb\u001b[0m: \tdropout_fc: 0.2\n",
      "\u001b[34m\u001b[1mwandb\u001b[0m: \tepochs: 25\n",
      "\u001b[34m\u001b[1mwandb\u001b[0m: \tfc_activations: GELU\n",
      "\u001b[34m\u001b[1mwandb\u001b[0m: \tfc_neurons: 512\n",
      "\u001b[34m\u001b[1mwandb\u001b[0m: \tfilter_mul: 1\n",
      "\u001b[34m\u001b[1mwandb\u001b[0m: \tinput_channels: 3\n",
      "\u001b[34m\u001b[1mwandb\u001b[0m: \tinput_size: [256, 256]\n",
      "\u001b[34m\u001b[1mwandb\u001b[0m: \tlearning_rate: 0.00025\n",
      "\u001b[34m\u001b[1mwandb\u001b[0m: \tmp_layer1_kernel_size: 3\n",
      "\u001b[34m\u001b[1mwandb\u001b[0m: \tmp_layer1_stride: 3\n",
      "\u001b[34m\u001b[1mwandb\u001b[0m: \tmp_layer2_kernel_size: 3\n",
      "\u001b[34m\u001b[1mwandb\u001b[0m: \tmp_layer2_stride: 3\n",
      "\u001b[34m\u001b[1mwandb\u001b[0m: \tmp_layer3_kernel_size: 2\n",
      "\u001b[34m\u001b[1mwandb\u001b[0m: \tmp_layer3_stride: 3\n",
      "\u001b[34m\u001b[1mwandb\u001b[0m: \tmp_layer4_kernel_size: 2\n",
      "\u001b[34m\u001b[1mwandb\u001b[0m: \tmp_layer4_stride: 2\n",
      "\u001b[34m\u001b[1mwandb\u001b[0m: \tmp_layer5_kernel_size: 3\n",
      "\u001b[34m\u001b[1mwandb\u001b[0m: \tmp_layer5_stride: 3\n",
      "\u001b[34m\u001b[1mwandb\u001b[0m: \tno_of_conv_blocks: 5\n",
      "\u001b[34m\u001b[1mwandb\u001b[0m: \tno_of_fc_layers: 1\n",
      "\u001b[34m\u001b[1mwandb\u001b[0m: \tno_of_filters: 16\n",
      "\u001b[34m\u001b[1mwandb\u001b[0m: \tnum_classes: 10\n",
      "\u001b[34m\u001b[1mwandb\u001b[0m: \tnum_workers: 10\n"
     ]
    },
    {
     "data": {
      "text/html": [
       "Tracking run with wandb version 0.19.9"
      ],
      "text/plain": [
       "<IPython.core.display.HTML object>"
      ]
     },
     "metadata": {},
     "output_type": "display_data"
    },
    {
     "data": {
      "text/html": [
       "Run data is saved locally in <code>/home/joel/Pytorch_CUDA/wandb/run-20250417_183707-oz8ab9nr</code>"
      ],
      "text/plain": [
       "<IPython.core.display.HTML object>"
      ]
     },
     "metadata": {},
     "output_type": "display_data"
    },
    {
     "data": {
      "text/html": [
       "Syncing run <strong><a href='https://wandb.ai/A2_DA6401_DL/Lightning_CNN/runs/oz8ab9nr' target=\"_blank\">stellar-sweep-105</a></strong> to <a href='https://wandb.ai/A2_DA6401_DL/Lightning_CNN' target=\"_blank\">Weights & Biases</a> (<a href='https://wandb.me/developer-guide' target=\"_blank\">docs</a>)<br>Sweep page: <a href='https://wandb.ai/A2_DA6401_DL/Lightning_CNN/sweeps/78djv91t' target=\"_blank\">https://wandb.ai/A2_DA6401_DL/Lightning_CNN/sweeps/78djv91t</a>"
      ],
      "text/plain": [
       "<IPython.core.display.HTML object>"
      ]
     },
     "metadata": {},
     "output_type": "display_data"
    },
    {
     "data": {
      "text/html": [
       " View project at <a href='https://wandb.ai/A2_DA6401_DL/Lightning_CNN' target=\"_blank\">https://wandb.ai/A2_DA6401_DL/Lightning_CNN</a>"
      ],
      "text/plain": [
       "<IPython.core.display.HTML object>"
      ]
     },
     "metadata": {},
     "output_type": "display_data"
    },
    {
     "data": {
      "text/html": [
       " View sweep at <a href='https://wandb.ai/A2_DA6401_DL/Lightning_CNN/sweeps/78djv91t' target=\"_blank\">https://wandb.ai/A2_DA6401_DL/Lightning_CNN/sweeps/78djv91t</a>"
      ],
      "text/plain": [
       "<IPython.core.display.HTML object>"
      ]
     },
     "metadata": {},
     "output_type": "display_data"
    },
    {
     "data": {
      "text/html": [
       " View run at <a href='https://wandb.ai/A2_DA6401_DL/Lightning_CNN/runs/oz8ab9nr' target=\"_blank\">https://wandb.ai/A2_DA6401_DL/Lightning_CNN/runs/oz8ab9nr</a>"
      ],
      "text/plain": [
       "<IPython.core.display.HTML object>"
      ]
     },
     "metadata": {},
     "output_type": "display_data"
    },
    {
     "name": "stdout",
     "output_type": "stream",
     "text": [
      "Not a good combination !!!\n"
     ]
    },
    {
     "data": {
      "text/html": [],
      "text/plain": [
       "<IPython.core.display.HTML object>"
      ]
     },
     "metadata": {},
     "output_type": "display_data"
    },
    {
     "data": {
      "text/html": [
       " View run <strong style=\"color:#cdcd00\">bs_32_layer_act_LeakyReLU_epoch_25_filter_mul_1_num_filters_16</strong> at: <a href='https://wandb.ai/A2_DA6401_DL/Lightning_CNN/runs/oz8ab9nr' target=\"_blank\">https://wandb.ai/A2_DA6401_DL/Lightning_CNN/runs/oz8ab9nr</a><br> View project at: <a href='https://wandb.ai/A2_DA6401_DL/Lightning_CNN' target=\"_blank\">https://wandb.ai/A2_DA6401_DL/Lightning_CNN</a><br>Synced 5 W&B file(s), 0 media file(s), 0 artifact file(s) and 0 other file(s)"
      ],
      "text/plain": [
       "<IPython.core.display.HTML object>"
      ]
     },
     "metadata": {},
     "output_type": "display_data"
    },
    {
     "data": {
      "text/html": [
       "Find logs at: <code>./wandb/run-20250417_183707-oz8ab9nr/logs</code>"
      ],
      "text/plain": [
       "<IPython.core.display.HTML object>"
      ]
     },
     "metadata": {},
     "output_type": "display_data"
    },
    {
     "name": "stderr",
     "output_type": "stream",
     "text": [
      "\u001b[34m\u001b[1mwandb\u001b[0m: Agent Starting Run: thtvhi5j with config:\n",
      "\u001b[34m\u001b[1mwandb\u001b[0m: \tbatch_norm_conv: False\n",
      "\u001b[34m\u001b[1mwandb\u001b[0m: \tbatch_norm_fc: True\n",
      "\u001b[34m\u001b[1mwandb\u001b[0m: \tbatch_size: 64\n",
      "\u001b[34m\u001b[1mwandb\u001b[0m: \tconv_1_filter_size: 3\n",
      "\u001b[34m\u001b[1mwandb\u001b[0m: \tconv_2_filter_size: 3\n",
      "\u001b[34m\u001b[1mwandb\u001b[0m: \tconv_3_filter_size: 3\n",
      "\u001b[34m\u001b[1mwandb\u001b[0m: \tconv_4_filter_size: 3\n",
      "\u001b[34m\u001b[1mwandb\u001b[0m: \tconv_5_filter_size: 3\n",
      "\u001b[34m\u001b[1mwandb\u001b[0m: \tconv_activation: SiLU\n",
      "\u001b[34m\u001b[1mwandb\u001b[0m: \tconv_padding: [None, None, None, None, None]\n",
      "\u001b[34m\u001b[1mwandb\u001b[0m: \tconv_strides: [1, 1, 1, 1, 1]\n",
      "\u001b[34m\u001b[1mwandb\u001b[0m: \tdata_aug: True\n",
      "\u001b[34m\u001b[1mwandb\u001b[0m: \tdropout_conv: 0.2\n",
      "\u001b[34m\u001b[1mwandb\u001b[0m: \tdropout_fc: 0.2\n",
      "\u001b[34m\u001b[1mwandb\u001b[0m: \tepochs: 25\n",
      "\u001b[34m\u001b[1mwandb\u001b[0m: \tfc_activations: GELU\n",
      "\u001b[34m\u001b[1mwandb\u001b[0m: \tfc_neurons: 512\n",
      "\u001b[34m\u001b[1mwandb\u001b[0m: \tfilter_mul: 1\n",
      "\u001b[34m\u001b[1mwandb\u001b[0m: \tinput_channels: 3\n",
      "\u001b[34m\u001b[1mwandb\u001b[0m: \tinput_size: [256, 256]\n",
      "\u001b[34m\u001b[1mwandb\u001b[0m: \tlearning_rate: 0.0005\n",
      "\u001b[34m\u001b[1mwandb\u001b[0m: \tmp_layer1_kernel_size: 5\n",
      "\u001b[34m\u001b[1mwandb\u001b[0m: \tmp_layer1_stride: None\n",
      "\u001b[34m\u001b[1mwandb\u001b[0m: \tmp_layer2_kernel_size: 5\n",
      "\u001b[34m\u001b[1mwandb\u001b[0m: \tmp_layer2_stride: 2\n",
      "\u001b[34m\u001b[1mwandb\u001b[0m: \tmp_layer3_kernel_size: 3\n",
      "\u001b[34m\u001b[1mwandb\u001b[0m: \tmp_layer3_stride: 3\n",
      "\u001b[34m\u001b[1mwandb\u001b[0m: \tmp_layer4_kernel_size: 2\n",
      "\u001b[34m\u001b[1mwandb\u001b[0m: \tmp_layer4_stride: 2\n",
      "\u001b[34m\u001b[1mwandb\u001b[0m: \tmp_layer5_kernel_size: 3\n",
      "\u001b[34m\u001b[1mwandb\u001b[0m: \tmp_layer5_stride: 2\n",
      "\u001b[34m\u001b[1mwandb\u001b[0m: \tno_of_conv_blocks: 5\n",
      "\u001b[34m\u001b[1mwandb\u001b[0m: \tno_of_fc_layers: 1\n",
      "\u001b[34m\u001b[1mwandb\u001b[0m: \tno_of_filters: 64\n",
      "\u001b[34m\u001b[1mwandb\u001b[0m: \tnum_classes: 10\n",
      "\u001b[34m\u001b[1mwandb\u001b[0m: \tnum_workers: 10\n"
     ]
    },
    {
     "data": {
      "text/html": [
       "Tracking run with wandb version 0.19.9"
      ],
      "text/plain": [
       "<IPython.core.display.HTML object>"
      ]
     },
     "metadata": {},
     "output_type": "display_data"
    },
    {
     "data": {
      "text/html": [
       "Run data is saved locally in <code>/home/joel/Pytorch_CUDA/wandb/run-20250417_183714-thtvhi5j</code>"
      ],
      "text/plain": [
       "<IPython.core.display.HTML object>"
      ]
     },
     "metadata": {},
     "output_type": "display_data"
    },
    {
     "data": {
      "text/html": [
       "Syncing run <strong><a href='https://wandb.ai/A2_DA6401_DL/Lightning_CNN/runs/thtvhi5j' target=\"_blank\">stilted-sweep-106</a></strong> to <a href='https://wandb.ai/A2_DA6401_DL/Lightning_CNN' target=\"_blank\">Weights & Biases</a> (<a href='https://wandb.me/developer-guide' target=\"_blank\">docs</a>)<br>Sweep page: <a href='https://wandb.ai/A2_DA6401_DL/Lightning_CNN/sweeps/78djv91t' target=\"_blank\">https://wandb.ai/A2_DA6401_DL/Lightning_CNN/sweeps/78djv91t</a>"
      ],
      "text/plain": [
       "<IPython.core.display.HTML object>"
      ]
     },
     "metadata": {},
     "output_type": "display_data"
    },
    {
     "data": {
      "text/html": [
       " View project at <a href='https://wandb.ai/A2_DA6401_DL/Lightning_CNN' target=\"_blank\">https://wandb.ai/A2_DA6401_DL/Lightning_CNN</a>"
      ],
      "text/plain": [
       "<IPython.core.display.HTML object>"
      ]
     },
     "metadata": {},
     "output_type": "display_data"
    },
    {
     "data": {
      "text/html": [
       " View sweep at <a href='https://wandb.ai/A2_DA6401_DL/Lightning_CNN/sweeps/78djv91t' target=\"_blank\">https://wandb.ai/A2_DA6401_DL/Lightning_CNN/sweeps/78djv91t</a>"
      ],
      "text/plain": [
       "<IPython.core.display.HTML object>"
      ]
     },
     "metadata": {},
     "output_type": "display_data"
    },
    {
     "data": {
      "text/html": [
       " View run at <a href='https://wandb.ai/A2_DA6401_DL/Lightning_CNN/runs/thtvhi5j' target=\"_blank\">https://wandb.ai/A2_DA6401_DL/Lightning_CNN/runs/thtvhi5j</a>"
      ],
      "text/plain": [
       "<IPython.core.display.HTML object>"
      ]
     },
     "metadata": {},
     "output_type": "display_data"
    },
    {
     "name": "stdout",
     "output_type": "stream",
     "text": [
      "Not a good combination !!!\n"
     ]
    },
    {
     "data": {
      "text/html": [],
      "text/plain": [
       "<IPython.core.display.HTML object>"
      ]
     },
     "metadata": {},
     "output_type": "display_data"
    },
    {
     "data": {
      "text/html": [
       " View run <strong style=\"color:#cdcd00\">bs_64_layer_act_SiLU_epoch_25_filter_mul_1_num_filters_64</strong> at: <a href='https://wandb.ai/A2_DA6401_DL/Lightning_CNN/runs/thtvhi5j' target=\"_blank\">https://wandb.ai/A2_DA6401_DL/Lightning_CNN/runs/thtvhi5j</a><br> View project at: <a href='https://wandb.ai/A2_DA6401_DL/Lightning_CNN' target=\"_blank\">https://wandb.ai/A2_DA6401_DL/Lightning_CNN</a><br>Synced 5 W&B file(s), 0 media file(s), 0 artifact file(s) and 0 other file(s)"
      ],
      "text/plain": [
       "<IPython.core.display.HTML object>"
      ]
     },
     "metadata": {},
     "output_type": "display_data"
    },
    {
     "data": {
      "text/html": [
       "Find logs at: <code>./wandb/run-20250417_183714-thtvhi5j/logs</code>"
      ],
      "text/plain": [
       "<IPython.core.display.HTML object>"
      ]
     },
     "metadata": {},
     "output_type": "display_data"
    },
    {
     "name": "stderr",
     "output_type": "stream",
     "text": [
      "\u001b[34m\u001b[1mwandb\u001b[0m: Agent Starting Run: 9yn5xl00 with config:\n",
      "\u001b[34m\u001b[1mwandb\u001b[0m: \tbatch_norm_conv: True\n",
      "\u001b[34m\u001b[1mwandb\u001b[0m: \tbatch_norm_fc: True\n",
      "\u001b[34m\u001b[1mwandb\u001b[0m: \tbatch_size: 32\n",
      "\u001b[34m\u001b[1mwandb\u001b[0m: \tconv_1_filter_size: 3\n",
      "\u001b[34m\u001b[1mwandb\u001b[0m: \tconv_2_filter_size: 5\n",
      "\u001b[34m\u001b[1mwandb\u001b[0m: \tconv_3_filter_size: 5\n",
      "\u001b[34m\u001b[1mwandb\u001b[0m: \tconv_4_filter_size: 3\n",
      "\u001b[34m\u001b[1mwandb\u001b[0m: \tconv_5_filter_size: 5\n",
      "\u001b[34m\u001b[1mwandb\u001b[0m: \tconv_activation: SiLU\n",
      "\u001b[34m\u001b[1mwandb\u001b[0m: \tconv_padding: [None, None, None, None, None]\n",
      "\u001b[34m\u001b[1mwandb\u001b[0m: \tconv_strides: [1, 1, 1, 1, 1]\n",
      "\u001b[34m\u001b[1mwandb\u001b[0m: \tdata_aug: True\n",
      "\u001b[34m\u001b[1mwandb\u001b[0m: \tdropout_conv: 0\n",
      "\u001b[34m\u001b[1mwandb\u001b[0m: \tdropout_fc: 0\n",
      "\u001b[34m\u001b[1mwandb\u001b[0m: \tepochs: 25\n",
      "\u001b[34m\u001b[1mwandb\u001b[0m: \tfc_activations: GELU\n",
      "\u001b[34m\u001b[1mwandb\u001b[0m: \tfc_neurons: 1024\n",
      "\u001b[34m\u001b[1mwandb\u001b[0m: \tfilter_mul: 1\n",
      "\u001b[34m\u001b[1mwandb\u001b[0m: \tinput_channels: 3\n",
      "\u001b[34m\u001b[1mwandb\u001b[0m: \tinput_size: [256, 256]\n",
      "\u001b[34m\u001b[1mwandb\u001b[0m: \tlearning_rate: 0.00025\n",
      "\u001b[34m\u001b[1mwandb\u001b[0m: \tmp_layer1_kernel_size: 5\n",
      "\u001b[34m\u001b[1mwandb\u001b[0m: \tmp_layer1_stride: 3\n",
      "\u001b[34m\u001b[1mwandb\u001b[0m: \tmp_layer2_kernel_size: 2\n",
      "\u001b[34m\u001b[1mwandb\u001b[0m: \tmp_layer2_stride: 2\n",
      "\u001b[34m\u001b[1mwandb\u001b[0m: \tmp_layer3_kernel_size: 3\n",
      "\u001b[34m\u001b[1mwandb\u001b[0m: \tmp_layer3_stride: 2\n",
      "\u001b[34m\u001b[1mwandb\u001b[0m: \tmp_layer4_kernel_size: 2\n",
      "\u001b[34m\u001b[1mwandb\u001b[0m: \tmp_layer4_stride: 3\n",
      "\u001b[34m\u001b[1mwandb\u001b[0m: \tmp_layer5_kernel_size: 3\n",
      "\u001b[34m\u001b[1mwandb\u001b[0m: \tmp_layer5_stride: 2\n",
      "\u001b[34m\u001b[1mwandb\u001b[0m: \tno_of_conv_blocks: 5\n",
      "\u001b[34m\u001b[1mwandb\u001b[0m: \tno_of_fc_layers: 1\n",
      "\u001b[34m\u001b[1mwandb\u001b[0m: \tno_of_filters: 32\n",
      "\u001b[34m\u001b[1mwandb\u001b[0m: \tnum_classes: 10\n",
      "\u001b[34m\u001b[1mwandb\u001b[0m: \tnum_workers: 10\n"
     ]
    },
    {
     "data": {
      "text/html": [
       "Tracking run with wandb version 0.19.9"
      ],
      "text/plain": [
       "<IPython.core.display.HTML object>"
      ]
     },
     "metadata": {},
     "output_type": "display_data"
    },
    {
     "data": {
      "text/html": [
       "Run data is saved locally in <code>/home/joel/Pytorch_CUDA/wandb/run-20250417_183720-9yn5xl00</code>"
      ],
      "text/plain": [
       "<IPython.core.display.HTML object>"
      ]
     },
     "metadata": {},
     "output_type": "display_data"
    },
    {
     "data": {
      "text/html": [
       "Syncing run <strong><a href='https://wandb.ai/A2_DA6401_DL/Lightning_CNN/runs/9yn5xl00' target=\"_blank\">lemon-sweep-107</a></strong> to <a href='https://wandb.ai/A2_DA6401_DL/Lightning_CNN' target=\"_blank\">Weights & Biases</a> (<a href='https://wandb.me/developer-guide' target=\"_blank\">docs</a>)<br>Sweep page: <a href='https://wandb.ai/A2_DA6401_DL/Lightning_CNN/sweeps/78djv91t' target=\"_blank\">https://wandb.ai/A2_DA6401_DL/Lightning_CNN/sweeps/78djv91t</a>"
      ],
      "text/plain": [
       "<IPython.core.display.HTML object>"
      ]
     },
     "metadata": {},
     "output_type": "display_data"
    },
    {
     "data": {
      "text/html": [
       " View project at <a href='https://wandb.ai/A2_DA6401_DL/Lightning_CNN' target=\"_blank\">https://wandb.ai/A2_DA6401_DL/Lightning_CNN</a>"
      ],
      "text/plain": [
       "<IPython.core.display.HTML object>"
      ]
     },
     "metadata": {},
     "output_type": "display_data"
    },
    {
     "data": {
      "text/html": [
       " View sweep at <a href='https://wandb.ai/A2_DA6401_DL/Lightning_CNN/sweeps/78djv91t' target=\"_blank\">https://wandb.ai/A2_DA6401_DL/Lightning_CNN/sweeps/78djv91t</a>"
      ],
      "text/plain": [
       "<IPython.core.display.HTML object>"
      ]
     },
     "metadata": {},
     "output_type": "display_data"
    },
    {
     "data": {
      "text/html": [
       " View run at <a href='https://wandb.ai/A2_DA6401_DL/Lightning_CNN/runs/9yn5xl00' target=\"_blank\">https://wandb.ai/A2_DA6401_DL/Lightning_CNN/runs/9yn5xl00</a>"
      ],
      "text/plain": [
       "<IPython.core.display.HTML object>"
      ]
     },
     "metadata": {},
     "output_type": "display_data"
    },
    {
     "name": "stderr",
     "output_type": "stream",
     "text": [
      "You are using the plain ModelCheckpoint callback. Consider using LitModelCheckpoint which with seamless uploading to Model registry.\n",
      "GPU available: True (cuda), used: True\n",
      "TPU available: False, using: 0 TPU cores\n",
      "HPU available: False, using: 0 HPUs\n",
      "/home/joel/Pytorch_CUDA/virt_env/lib/python3.12/site-packages/lightning/pytorch/loggers/wandb.py:397: There is a wandb run already in progress and newly created instances of `WandbLogger` will reuse this run. If this is not desired, call `wandb.finish()` before instantiating `WandbLogger`.\n",
      "LOCAL_RANK: 0 - CUDA_VISIBLE_DEVICES: [0]\n",
      "\n",
      "  | Name       | Type               | Params | Mode \n",
      "----------------------------------------------------------\n",
      "0 | model      | CNN_               | 395 K  | train\n",
      "1 | loss_fn    | CrossEntropyLoss   | 0      | train\n",
      "2 | acc_metric | MulticlassAccuracy | 0      | train\n",
      "----------------------------------------------------------\n",
      "395 K     Trainable params\n",
      "0         Non-trainable params\n",
      "395 K     Total params\n",
      "1.582     Total estimated model params size (MB)\n",
      "43        Modules in train mode\n",
      "0         Modules in eval mode\n"
     ]
    },
    {
     "data": {
      "application/vnd.jupyter.widget-view+json": {
       "model_id": "6c5448ed815944cd9699748d5537b1b5",
       "version_major": 2,
       "version_minor": 0
      },
      "text/plain": [
       "Sanity Checking: |          | 0/? [00:00<?, ?it/s]"
      ]
     },
     "metadata": {},
     "output_type": "display_data"
    },
    {
     "data": {
      "application/vnd.jupyter.widget-view+json": {
       "model_id": "5877a19c18c24aeaafb16944f0ebe962",
       "version_major": 2,
       "version_minor": 0
      },
      "text/plain": [
       "Training: |          | 0/? [00:00<?, ?it/s]"
      ]
     },
     "metadata": {},
     "output_type": "display_data"
    },
    {
     "data": {
      "application/vnd.jupyter.widget-view+json": {
       "model_id": "377f4862bf144316b23abac9844e4288",
       "version_major": 2,
       "version_minor": 0
      },
      "text/plain": [
       "Validation: |          | 0/? [00:00<?, ?it/s]"
      ]
     },
     "metadata": {},
     "output_type": "display_data"
    },
    {
     "data": {
      "application/vnd.jupyter.widget-view+json": {
       "model_id": "6e1642622b104bb799a6753fc0690930",
       "version_major": 2,
       "version_minor": 0
      },
      "text/plain": [
       "Validation: |          | 0/? [00:00<?, ?it/s]"
      ]
     },
     "metadata": {},
     "output_type": "display_data"
    },
    {
     "data": {
      "application/vnd.jupyter.widget-view+json": {
       "model_id": "4f7e84905d8f4710b484c4b00c1df27f",
       "version_major": 2,
       "version_minor": 0
      },
      "text/plain": [
       "Validation: |          | 0/? [00:00<?, ?it/s]"
      ]
     },
     "metadata": {},
     "output_type": "display_data"
    },
    {
     "data": {
      "application/vnd.jupyter.widget-view+json": {
       "model_id": "e4e68616e10b4c558d8f688d6dac2885",
       "version_major": 2,
       "version_minor": 0
      },
      "text/plain": [
       "Validation: |          | 0/? [00:00<?, ?it/s]"
      ]
     },
     "metadata": {},
     "output_type": "display_data"
    },
    {
     "data": {
      "application/vnd.jupyter.widget-view+json": {
       "model_id": "5beab09c17594bc5b35a185c640677b2",
       "version_major": 2,
       "version_minor": 0
      },
      "text/plain": [
       "Validation: |          | 0/? [00:00<?, ?it/s]"
      ]
     },
     "metadata": {},
     "output_type": "display_data"
    },
    {
     "data": {
      "application/vnd.jupyter.widget-view+json": {
       "model_id": "7df337b3774942c7a4c5b0b72c784a99",
       "version_major": 2,
       "version_minor": 0
      },
      "text/plain": [
       "Validation: |          | 0/? [00:00<?, ?it/s]"
      ]
     },
     "metadata": {},
     "output_type": "display_data"
    },
    {
     "data": {
      "application/vnd.jupyter.widget-view+json": {
       "model_id": "d77ae1f084614899b121dbd9837c53e0",
       "version_major": 2,
       "version_minor": 0
      },
      "text/plain": [
       "Validation: |          | 0/? [00:00<?, ?it/s]"
      ]
     },
     "metadata": {},
     "output_type": "display_data"
    },
    {
     "data": {
      "application/vnd.jupyter.widget-view+json": {
       "model_id": "cdaeffddf26d426791660e250bd76e59",
       "version_major": 2,
       "version_minor": 0
      },
      "text/plain": [
       "Validation: |          | 0/? [00:00<?, ?it/s]"
      ]
     },
     "metadata": {},
     "output_type": "display_data"
    },
    {
     "data": {
      "application/vnd.jupyter.widget-view+json": {
       "model_id": "4b33f566058c4658b084db5b655879b8",
       "version_major": 2,
       "version_minor": 0
      },
      "text/plain": [
       "Validation: |          | 0/? [00:00<?, ?it/s]"
      ]
     },
     "metadata": {},
     "output_type": "display_data"
    },
    {
     "data": {
      "application/vnd.jupyter.widget-view+json": {
       "model_id": "29d91b11579d4c0484a444e944f50547",
       "version_major": 2,
       "version_minor": 0
      },
      "text/plain": [
       "Validation: |          | 0/? [00:00<?, ?it/s]"
      ]
     },
     "metadata": {},
     "output_type": "display_data"
    },
    {
     "data": {
      "application/vnd.jupyter.widget-view+json": {
       "model_id": "06e8f920d7dd4b4abc980f89d146b4eb",
       "version_major": 2,
       "version_minor": 0
      },
      "text/plain": [
       "Validation: |          | 0/? [00:00<?, ?it/s]"
      ]
     },
     "metadata": {},
     "output_type": "display_data"
    },
    {
     "data": {
      "application/vnd.jupyter.widget-view+json": {
       "model_id": "d60ea05b4c794b0baaa2f656d4373038",
       "version_major": 2,
       "version_minor": 0
      },
      "text/plain": [
       "Validation: |          | 0/? [00:00<?, ?it/s]"
      ]
     },
     "metadata": {},
     "output_type": "display_data"
    },
    {
     "data": {
      "application/vnd.jupyter.widget-view+json": {
       "model_id": "27cc6dc43b524ec5948e970376757776",
       "version_major": 2,
       "version_minor": 0
      },
      "text/plain": [
       "Validation: |          | 0/? [00:00<?, ?it/s]"
      ]
     },
     "metadata": {},
     "output_type": "display_data"
    },
    {
     "data": {
      "application/vnd.jupyter.widget-view+json": {
       "model_id": "4ec316fcfb314902a3a60298be11fbbb",
       "version_major": 2,
       "version_minor": 0
      },
      "text/plain": [
       "Validation: |          | 0/? [00:00<?, ?it/s]"
      ]
     },
     "metadata": {},
     "output_type": "display_data"
    },
    {
     "data": {
      "application/vnd.jupyter.widget-view+json": {
       "model_id": "b69275f0b59042209d6b0b5f161adbdd",
       "version_major": 2,
       "version_minor": 0
      },
      "text/plain": [
       "Validation: |          | 0/? [00:00<?, ?it/s]"
      ]
     },
     "metadata": {},
     "output_type": "display_data"
    },
    {
     "data": {
      "application/vnd.jupyter.widget-view+json": {
       "model_id": "d05062b919ac4842b3980b5619af4b91",
       "version_major": 2,
       "version_minor": 0
      },
      "text/plain": [
       "Validation: |          | 0/? [00:00<?, ?it/s]"
      ]
     },
     "metadata": {},
     "output_type": "display_data"
    },
    {
     "data": {
      "application/vnd.jupyter.widget-view+json": {
       "model_id": "a1f42a86f11742d985f0e3653d45c129",
       "version_major": 2,
       "version_minor": 0
      },
      "text/plain": [
       "Validation: |          | 0/? [00:00<?, ?it/s]"
      ]
     },
     "metadata": {},
     "output_type": "display_data"
    },
    {
     "data": {
      "application/vnd.jupyter.widget-view+json": {
       "model_id": "7dceddde939046118d75695fb2d254ce",
       "version_major": 2,
       "version_minor": 0
      },
      "text/plain": [
       "Validation: |          | 0/? [00:00<?, ?it/s]"
      ]
     },
     "metadata": {},
     "output_type": "display_data"
    },
    {
     "data": {
      "application/vnd.jupyter.widget-view+json": {
       "model_id": "dac6a89c7fbc42249d98b1dbb8f4b427",
       "version_major": 2,
       "version_minor": 0
      },
      "text/plain": [
       "Validation: |          | 0/? [00:00<?, ?it/s]"
      ]
     },
     "metadata": {},
     "output_type": "display_data"
    },
    {
     "data": {
      "application/vnd.jupyter.widget-view+json": {
       "model_id": "8e1885c96a9f4b599d3bde192742bc2b",
       "version_major": 2,
       "version_minor": 0
      },
      "text/plain": [
       "Validation: |          | 0/? [00:00<?, ?it/s]"
      ]
     },
     "metadata": {},
     "output_type": "display_data"
    },
    {
     "data": {
      "application/vnd.jupyter.widget-view+json": {
       "model_id": "d0261a06d1c447daab852462f472e28d",
       "version_major": 2,
       "version_minor": 0
      },
      "text/plain": [
       "Validation: |          | 0/? [00:00<?, ?it/s]"
      ]
     },
     "metadata": {},
     "output_type": "display_data"
    },
    {
     "data": {
      "application/vnd.jupyter.widget-view+json": {
       "model_id": "02383caef76d446298dc051e20be000b",
       "version_major": 2,
       "version_minor": 0
      },
      "text/plain": [
       "Validation: |          | 0/? [00:00<?, ?it/s]"
      ]
     },
     "metadata": {},
     "output_type": "display_data"
    },
    {
     "data": {
      "application/vnd.jupyter.widget-view+json": {
       "model_id": "4d4ff3325e3b4c6988d1613304d611e6",
       "version_major": 2,
       "version_minor": 0
      },
      "text/plain": [
       "Validation: |          | 0/? [00:00<?, ?it/s]"
      ]
     },
     "metadata": {},
     "output_type": "display_data"
    },
    {
     "data": {
      "application/vnd.jupyter.widget-view+json": {
       "model_id": "132245e576444db591432a130d329579",
       "version_major": 2,
       "version_minor": 0
      },
      "text/plain": [
       "Validation: |          | 0/? [00:00<?, ?it/s]"
      ]
     },
     "metadata": {},
     "output_type": "display_data"
    },
    {
     "data": {
      "application/vnd.jupyter.widget-view+json": {
       "model_id": "c7358e87b2ef4806b0b2df12190811e0",
       "version_major": 2,
       "version_minor": 0
      },
      "text/plain": [
       "Validation: |          | 0/? [00:00<?, ?it/s]"
      ]
     },
     "metadata": {},
     "output_type": "display_data"
    },
    {
     "name": "stderr",
     "output_type": "stream",
     "text": [
      "`Trainer.fit` stopped: `max_epochs=25` reached.\n"
     ]
    },
    {
     "data": {
      "text/html": [],
      "text/plain": [
       "<IPython.core.display.HTML object>"
      ]
     },
     "metadata": {},
     "output_type": "display_data"
    },
    {
     "data": {
      "text/html": [
       "<br>    <style><br>        .wandb-row {<br>            display: flex;<br>            flex-direction: row;<br>            flex-wrap: wrap;<br>            justify-content: flex-start;<br>            width: 100%;<br>        }<br>        .wandb-col {<br>            display: flex;<br>            flex-direction: column;<br>            flex-basis: 100%;<br>            flex: 1;<br>            padding: 10px;<br>        }<br>    </style><br><div class=\"wandb-row\"><div class=\"wandb-col\"><h3>Run history:</h3><br/><table class=\"wandb\"><tr><td>epoch</td><td>▁▁▁▁▂▂▂▂▂▂▃▃▃▃▃▄▄▄▄▄▅▅▅▅▅▅▆▆▆▆▆▇▇▇▇▇▇███</td></tr><tr><td>train_loss</td><td>█▇▇▆▆▆▅▅▄▄▄▃▃▃▃▂▂▂▂▂▁▁▁▁▁</td></tr><tr><td>trainer/global_step</td><td>▁▁▁▁▂▂▂▂▂▂▃▃▃▃▃▄▄▄▄▄▅▅▅▅▅▆▆▆▆▆▇▇▇▇▇▇▇███</td></tr><tr><td>val_acc</td><td>▁▃▃▃▄▄▃█▆▆█▇▇▇█▃▇▆▇▆▆▅▆▇▅</td></tr><tr><td>val_loss</td><td>█▆▆▅▄▅▄▁▂▃▁▂▂▂▁▅▂▂▂▂▂▄▃▂▃</td></tr></table><br/></div><div class=\"wandb-col\"><h3>Run summary:</h3><br/><table class=\"wandb\"><tr><td>epoch</td><td>24</td></tr><tr><td>train_loss</td><td>1.70905</td></tr><tr><td>trainer/global_step</td><td>6224</td></tr><tr><td>val_acc</td><td>0.3585</td></tr><tr><td>val_loss</td><td>2.09255</td></tr></table><br/></div></div>"
      ],
      "text/plain": [
       "<IPython.core.display.HTML object>"
      ]
     },
     "metadata": {},
     "output_type": "display_data"
    },
    {
     "data": {
      "text/html": [
       " View run <strong style=\"color:#cdcd00\">bs_32_layer_act_SiLU_epoch_25_filter_mul_1_num_filters_32</strong> at: <a href='https://wandb.ai/A2_DA6401_DL/Lightning_CNN/runs/9yn5xl00' target=\"_blank\">https://wandb.ai/A2_DA6401_DL/Lightning_CNN/runs/9yn5xl00</a><br> View project at: <a href='https://wandb.ai/A2_DA6401_DL/Lightning_CNN' target=\"_blank\">https://wandb.ai/A2_DA6401_DL/Lightning_CNN</a><br>Synced 5 W&B file(s), 0 media file(s), 0 artifact file(s) and 0 other file(s)"
      ],
      "text/plain": [
       "<IPython.core.display.HTML object>"
      ]
     },
     "metadata": {},
     "output_type": "display_data"
    },
    {
     "data": {
      "text/html": [
       "Find logs at: <code>./wandb/run-20250417_183720-9yn5xl00/logs</code>"
      ],
      "text/plain": [
       "<IPython.core.display.HTML object>"
      ]
     },
     "metadata": {},
     "output_type": "display_data"
    },
    {
     "name": "stderr",
     "output_type": "stream",
     "text": [
      "\u001b[34m\u001b[1mwandb\u001b[0m: Agent Starting Run: hhlrvld2 with config:\n",
      "\u001b[34m\u001b[1mwandb\u001b[0m: \tbatch_norm_conv: True\n",
      "\u001b[34m\u001b[1mwandb\u001b[0m: \tbatch_norm_fc: True\n",
      "\u001b[34m\u001b[1mwandb\u001b[0m: \tbatch_size: 64\n",
      "\u001b[34m\u001b[1mwandb\u001b[0m: \tconv_1_filter_size: 5\n",
      "\u001b[34m\u001b[1mwandb\u001b[0m: \tconv_2_filter_size: 3\n",
      "\u001b[34m\u001b[1mwandb\u001b[0m: \tconv_3_filter_size: 3\n",
      "\u001b[34m\u001b[1mwandb\u001b[0m: \tconv_4_filter_size: 5\n",
      "\u001b[34m\u001b[1mwandb\u001b[0m: \tconv_5_filter_size: 5\n",
      "\u001b[34m\u001b[1mwandb\u001b[0m: \tconv_activation: LeakyReLU\n",
      "\u001b[34m\u001b[1mwandb\u001b[0m: \tconv_padding: [None, None, None, None, None]\n",
      "\u001b[34m\u001b[1mwandb\u001b[0m: \tconv_strides: [1, 1, 1, 1, 1]\n",
      "\u001b[34m\u001b[1mwandb\u001b[0m: \tdata_aug: True\n",
      "\u001b[34m\u001b[1mwandb\u001b[0m: \tdropout_conv: 0\n",
      "\u001b[34m\u001b[1mwandb\u001b[0m: \tdropout_fc: 0.3\n",
      "\u001b[34m\u001b[1mwandb\u001b[0m: \tepochs: 25\n",
      "\u001b[34m\u001b[1mwandb\u001b[0m: \tfc_activations: GELU\n",
      "\u001b[34m\u001b[1mwandb\u001b[0m: \tfc_neurons: 512\n",
      "\u001b[34m\u001b[1mwandb\u001b[0m: \tfilter_mul: 2\n",
      "\u001b[34m\u001b[1mwandb\u001b[0m: \tinput_channels: 3\n",
      "\u001b[34m\u001b[1mwandb\u001b[0m: \tinput_size: [256, 256]\n",
      "\u001b[34m\u001b[1mwandb\u001b[0m: \tlearning_rate: 0.00025\n",
      "\u001b[34m\u001b[1mwandb\u001b[0m: \tmp_layer1_kernel_size: 3\n",
      "\u001b[34m\u001b[1mwandb\u001b[0m: \tmp_layer1_stride: 3\n",
      "\u001b[34m\u001b[1mwandb\u001b[0m: \tmp_layer2_kernel_size: 3\n",
      "\u001b[34m\u001b[1mwandb\u001b[0m: \tmp_layer2_stride: 2\n",
      "\u001b[34m\u001b[1mwandb\u001b[0m: \tmp_layer3_kernel_size: 5\n",
      "\u001b[34m\u001b[1mwandb\u001b[0m: \tmp_layer3_stride: 3\n",
      "\u001b[34m\u001b[1mwandb\u001b[0m: \tmp_layer4_kernel_size: 2\n",
      "\u001b[34m\u001b[1mwandb\u001b[0m: \tmp_layer4_stride: 3\n",
      "\u001b[34m\u001b[1mwandb\u001b[0m: \tmp_layer5_kernel_size: 3\n",
      "\u001b[34m\u001b[1mwandb\u001b[0m: \tmp_layer5_stride: 2\n",
      "\u001b[34m\u001b[1mwandb\u001b[0m: \tno_of_conv_blocks: 5\n",
      "\u001b[34m\u001b[1mwandb\u001b[0m: \tno_of_fc_layers: 1\n",
      "\u001b[34m\u001b[1mwandb\u001b[0m: \tno_of_filters: 128\n",
      "\u001b[34m\u001b[1mwandb\u001b[0m: \tnum_classes: 10\n",
      "\u001b[34m\u001b[1mwandb\u001b[0m: \tnum_workers: 10\n"
     ]
    },
    {
     "data": {
      "text/html": [
       "Tracking run with wandb version 0.19.9"
      ],
      "text/plain": [
       "<IPython.core.display.HTML object>"
      ]
     },
     "metadata": {},
     "output_type": "display_data"
    },
    {
     "data": {
      "text/html": [
       "Run data is saved locally in <code>/home/joel/Pytorch_CUDA/wandb/run-20250417_185246-hhlrvld2</code>"
      ],
      "text/plain": [
       "<IPython.core.display.HTML object>"
      ]
     },
     "metadata": {},
     "output_type": "display_data"
    },
    {
     "data": {
      "text/html": [
       "Syncing run <strong><a href='https://wandb.ai/A2_DA6401_DL/Lightning_CNN/runs/hhlrvld2' target=\"_blank\">serene-sweep-113</a></strong> to <a href='https://wandb.ai/A2_DA6401_DL/Lightning_CNN' target=\"_blank\">Weights & Biases</a> (<a href='https://wandb.me/developer-guide' target=\"_blank\">docs</a>)<br>Sweep page: <a href='https://wandb.ai/A2_DA6401_DL/Lightning_CNN/sweeps/78djv91t' target=\"_blank\">https://wandb.ai/A2_DA6401_DL/Lightning_CNN/sweeps/78djv91t</a>"
      ],
      "text/plain": [
       "<IPython.core.display.HTML object>"
      ]
     },
     "metadata": {},
     "output_type": "display_data"
    },
    {
     "data": {
      "text/html": [
       " View project at <a href='https://wandb.ai/A2_DA6401_DL/Lightning_CNN' target=\"_blank\">https://wandb.ai/A2_DA6401_DL/Lightning_CNN</a>"
      ],
      "text/plain": [
       "<IPython.core.display.HTML object>"
      ]
     },
     "metadata": {},
     "output_type": "display_data"
    },
    {
     "data": {
      "text/html": [
       " View sweep at <a href='https://wandb.ai/A2_DA6401_DL/Lightning_CNN/sweeps/78djv91t' target=\"_blank\">https://wandb.ai/A2_DA6401_DL/Lightning_CNN/sweeps/78djv91t</a>"
      ],
      "text/plain": [
       "<IPython.core.display.HTML object>"
      ]
     },
     "metadata": {},
     "output_type": "display_data"
    },
    {
     "data": {
      "text/html": [
       " View run at <a href='https://wandb.ai/A2_DA6401_DL/Lightning_CNN/runs/hhlrvld2' target=\"_blank\">https://wandb.ai/A2_DA6401_DL/Lightning_CNN/runs/hhlrvld2</a>"
      ],
      "text/plain": [
       "<IPython.core.display.HTML object>"
      ]
     },
     "metadata": {},
     "output_type": "display_data"
    },
    {
     "name": "stdout",
     "output_type": "stream",
     "text": [
      "Not a good combination !!!\n"
     ]
    },
    {
     "data": {
      "text/html": [],
      "text/plain": [
       "<IPython.core.display.HTML object>"
      ]
     },
     "metadata": {},
     "output_type": "display_data"
    },
    {
     "data": {
      "text/html": [
       " View run <strong style=\"color:#cdcd00\">bs_64_layer_act_LeakyReLU_epoch_25_filter_mul_2_num_filters_128</strong> at: <a href='https://wandb.ai/A2_DA6401_DL/Lightning_CNN/runs/hhlrvld2' target=\"_blank\">https://wandb.ai/A2_DA6401_DL/Lightning_CNN/runs/hhlrvld2</a><br> View project at: <a href='https://wandb.ai/A2_DA6401_DL/Lightning_CNN' target=\"_blank\">https://wandb.ai/A2_DA6401_DL/Lightning_CNN</a><br>Synced 5 W&B file(s), 0 media file(s), 0 artifact file(s) and 0 other file(s)"
      ],
      "text/plain": [
       "<IPython.core.display.HTML object>"
      ]
     },
     "metadata": {},
     "output_type": "display_data"
    },
    {
     "data": {
      "text/html": [
       "Find logs at: <code>./wandb/run-20250417_185246-hhlrvld2/logs</code>"
      ],
      "text/plain": [
       "<IPython.core.display.HTML object>"
      ]
     },
     "metadata": {},
     "output_type": "display_data"
    },
    {
     "name": "stderr",
     "output_type": "stream",
     "text": [
      "\u001b[34m\u001b[1mwandb\u001b[0m: Agent Starting Run: 331wofvq with config:\n",
      "\u001b[34m\u001b[1mwandb\u001b[0m: \tbatch_norm_conv: False\n",
      "\u001b[34m\u001b[1mwandb\u001b[0m: \tbatch_norm_fc: True\n",
      "\u001b[34m\u001b[1mwandb\u001b[0m: \tbatch_size: 32\n",
      "\u001b[34m\u001b[1mwandb\u001b[0m: \tconv_1_filter_size: 3\n",
      "\u001b[34m\u001b[1mwandb\u001b[0m: \tconv_2_filter_size: 5\n",
      "\u001b[34m\u001b[1mwandb\u001b[0m: \tconv_3_filter_size: 5\n",
      "\u001b[34m\u001b[1mwandb\u001b[0m: \tconv_4_filter_size: 5\n",
      "\u001b[34m\u001b[1mwandb\u001b[0m: \tconv_5_filter_size: 5\n",
      "\u001b[34m\u001b[1mwandb\u001b[0m: \tconv_activation: LeakyReLU\n",
      "\u001b[34m\u001b[1mwandb\u001b[0m: \tconv_padding: [None, None, None, None, None]\n",
      "\u001b[34m\u001b[1mwandb\u001b[0m: \tconv_strides: [1, 1, 1, 1, 1]\n",
      "\u001b[34m\u001b[1mwandb\u001b[0m: \tdata_aug: True\n",
      "\u001b[34m\u001b[1mwandb\u001b[0m: \tdropout_conv: 0.1\n",
      "\u001b[34m\u001b[1mwandb\u001b[0m: \tdropout_fc: 0\n",
      "\u001b[34m\u001b[1mwandb\u001b[0m: \tepochs: 25\n",
      "\u001b[34m\u001b[1mwandb\u001b[0m: \tfc_activations: GELU\n",
      "\u001b[34m\u001b[1mwandb\u001b[0m: \tfc_neurons: 1024\n",
      "\u001b[34m\u001b[1mwandb\u001b[0m: \tfilter_mul: 1\n",
      "\u001b[34m\u001b[1mwandb\u001b[0m: \tinput_channels: 3\n",
      "\u001b[34m\u001b[1mwandb\u001b[0m: \tinput_size: [256, 256]\n",
      "\u001b[34m\u001b[1mwandb\u001b[0m: \tlearning_rate: 0.00025\n",
      "\u001b[34m\u001b[1mwandb\u001b[0m: \tmp_layer1_kernel_size: 3\n",
      "\u001b[34m\u001b[1mwandb\u001b[0m: \tmp_layer1_stride: 2\n",
      "\u001b[34m\u001b[1mwandb\u001b[0m: \tmp_layer2_kernel_size: 5\n",
      "\u001b[34m\u001b[1mwandb\u001b[0m: \tmp_layer2_stride: None\n",
      "\u001b[34m\u001b[1mwandb\u001b[0m: \tmp_layer3_kernel_size: 3\n",
      "\u001b[34m\u001b[1mwandb\u001b[0m: \tmp_layer3_stride: 3\n",
      "\u001b[34m\u001b[1mwandb\u001b[0m: \tmp_layer4_kernel_size: 3\n",
      "\u001b[34m\u001b[1mwandb\u001b[0m: \tmp_layer4_stride: 2\n",
      "\u001b[34m\u001b[1mwandb\u001b[0m: \tmp_layer5_kernel_size: 3\n",
      "\u001b[34m\u001b[1mwandb\u001b[0m: \tmp_layer5_stride: 3\n",
      "\u001b[34m\u001b[1mwandb\u001b[0m: \tno_of_conv_blocks: 5\n",
      "\u001b[34m\u001b[1mwandb\u001b[0m: \tno_of_fc_layers: 1\n",
      "\u001b[34m\u001b[1mwandb\u001b[0m: \tno_of_filters: 16\n",
      "\u001b[34m\u001b[1mwandb\u001b[0m: \tnum_classes: 10\n",
      "\u001b[34m\u001b[1mwandb\u001b[0m: \tnum_workers: 10\n"
     ]
    },
    {
     "data": {
      "text/html": [
       "Tracking run with wandb version 0.19.9"
      ],
      "text/plain": [
       "<IPython.core.display.HTML object>"
      ]
     },
     "metadata": {},
     "output_type": "display_data"
    },
    {
     "data": {
      "text/html": [
       "Run data is saved locally in <code>/home/joel/Pytorch_CUDA/wandb/run-20250417_185252-331wofvq</code>"
      ],
      "text/plain": [
       "<IPython.core.display.HTML object>"
      ]
     },
     "metadata": {},
     "output_type": "display_data"
    },
    {
     "data": {
      "text/html": [
       "Syncing run <strong><a href='https://wandb.ai/A2_DA6401_DL/Lightning_CNN/runs/331wofvq' target=\"_blank\">polar-sweep-114</a></strong> to <a href='https://wandb.ai/A2_DA6401_DL/Lightning_CNN' target=\"_blank\">Weights & Biases</a> (<a href='https://wandb.me/developer-guide' target=\"_blank\">docs</a>)<br>Sweep page: <a href='https://wandb.ai/A2_DA6401_DL/Lightning_CNN/sweeps/78djv91t' target=\"_blank\">https://wandb.ai/A2_DA6401_DL/Lightning_CNN/sweeps/78djv91t</a>"
      ],
      "text/plain": [
       "<IPython.core.display.HTML object>"
      ]
     },
     "metadata": {},
     "output_type": "display_data"
    },
    {
     "data": {
      "text/html": [
       " View project at <a href='https://wandb.ai/A2_DA6401_DL/Lightning_CNN' target=\"_blank\">https://wandb.ai/A2_DA6401_DL/Lightning_CNN</a>"
      ],
      "text/plain": [
       "<IPython.core.display.HTML object>"
      ]
     },
     "metadata": {},
     "output_type": "display_data"
    },
    {
     "data": {
      "text/html": [
       " View sweep at <a href='https://wandb.ai/A2_DA6401_DL/Lightning_CNN/sweeps/78djv91t' target=\"_blank\">https://wandb.ai/A2_DA6401_DL/Lightning_CNN/sweeps/78djv91t</a>"
      ],
      "text/plain": [
       "<IPython.core.display.HTML object>"
      ]
     },
     "metadata": {},
     "output_type": "display_data"
    },
    {
     "data": {
      "text/html": [
       " View run at <a href='https://wandb.ai/A2_DA6401_DL/Lightning_CNN/runs/331wofvq' target=\"_blank\">https://wandb.ai/A2_DA6401_DL/Lightning_CNN/runs/331wofvq</a>"
      ],
      "text/plain": [
       "<IPython.core.display.HTML object>"
      ]
     },
     "metadata": {},
     "output_type": "display_data"
    },
    {
     "name": "stdout",
     "output_type": "stream",
     "text": [
      "Not a good combination !!!\n"
     ]
    },
    {
     "data": {
      "text/html": [],
      "text/plain": [
       "<IPython.core.display.HTML object>"
      ]
     },
     "metadata": {},
     "output_type": "display_data"
    },
    {
     "data": {
      "text/html": [
       " View run <strong style=\"color:#cdcd00\">bs_32_layer_act_LeakyReLU_epoch_25_filter_mul_1_num_filters_16</strong> at: <a href='https://wandb.ai/A2_DA6401_DL/Lightning_CNN/runs/331wofvq' target=\"_blank\">https://wandb.ai/A2_DA6401_DL/Lightning_CNN/runs/331wofvq</a><br> View project at: <a href='https://wandb.ai/A2_DA6401_DL/Lightning_CNN' target=\"_blank\">https://wandb.ai/A2_DA6401_DL/Lightning_CNN</a><br>Synced 5 W&B file(s), 0 media file(s), 0 artifact file(s) and 0 other file(s)"
      ],
      "text/plain": [
       "<IPython.core.display.HTML object>"
      ]
     },
     "metadata": {},
     "output_type": "display_data"
    },
    {
     "data": {
      "text/html": [
       "Find logs at: <code>./wandb/run-20250417_185252-331wofvq/logs</code>"
      ],
      "text/plain": [
       "<IPython.core.display.HTML object>"
      ]
     },
     "metadata": {},
     "output_type": "display_data"
    },
    {
     "name": "stderr",
     "output_type": "stream",
     "text": [
      "\u001b[34m\u001b[1mwandb\u001b[0m: Agent Starting Run: kp8l5mec with config:\n",
      "\u001b[34m\u001b[1mwandb\u001b[0m: \tbatch_norm_conv: False\n",
      "\u001b[34m\u001b[1mwandb\u001b[0m: \tbatch_norm_fc: True\n",
      "\u001b[34m\u001b[1mwandb\u001b[0m: \tbatch_size: 32\n",
      "\u001b[34m\u001b[1mwandb\u001b[0m: \tconv_1_filter_size: 3\n",
      "\u001b[34m\u001b[1mwandb\u001b[0m: \tconv_2_filter_size: 3\n",
      "\u001b[34m\u001b[1mwandb\u001b[0m: \tconv_3_filter_size: 3\n",
      "\u001b[34m\u001b[1mwandb\u001b[0m: \tconv_4_filter_size: 3\n",
      "\u001b[34m\u001b[1mwandb\u001b[0m: \tconv_5_filter_size: 3\n",
      "\u001b[34m\u001b[1mwandb\u001b[0m: \tconv_activation: LeakyReLU\n",
      "\u001b[34m\u001b[1mwandb\u001b[0m: \tconv_padding: [None, None, None, None, None]\n",
      "\u001b[34m\u001b[1mwandb\u001b[0m: \tconv_strides: [1, 1, 1, 1, 1]\n",
      "\u001b[34m\u001b[1mwandb\u001b[0m: \tdata_aug: True\n",
      "\u001b[34m\u001b[1mwandb\u001b[0m: \tdropout_conv: 0.2\n",
      "\u001b[34m\u001b[1mwandb\u001b[0m: \tdropout_fc: 0\n",
      "\u001b[34m\u001b[1mwandb\u001b[0m: \tepochs: 25\n",
      "\u001b[34m\u001b[1mwandb\u001b[0m: \tfc_activations: LeakyReLU\n",
      "\u001b[34m\u001b[1mwandb\u001b[0m: \tfc_neurons: 512\n",
      "\u001b[34m\u001b[1mwandb\u001b[0m: \tfilter_mul: 1\n",
      "\u001b[34m\u001b[1mwandb\u001b[0m: \tinput_channels: 3\n",
      "\u001b[34m\u001b[1mwandb\u001b[0m: \tinput_size: [256, 256]\n",
      "\u001b[34m\u001b[1mwandb\u001b[0m: \tlearning_rate: 0.00025\n",
      "\u001b[34m\u001b[1mwandb\u001b[0m: \tmp_layer1_kernel_size: 5\n",
      "\u001b[34m\u001b[1mwandb\u001b[0m: \tmp_layer1_stride: None\n",
      "\u001b[34m\u001b[1mwandb\u001b[0m: \tmp_layer2_kernel_size: 5\n",
      "\u001b[34m\u001b[1mwandb\u001b[0m: \tmp_layer2_stride: 3\n",
      "\u001b[34m\u001b[1mwandb\u001b[0m: \tmp_layer3_kernel_size: 2\n",
      "\u001b[34m\u001b[1mwandb\u001b[0m: \tmp_layer3_stride: 3\n",
      "\u001b[34m\u001b[1mwandb\u001b[0m: \tmp_layer4_kernel_size: 3\n",
      "\u001b[34m\u001b[1mwandb\u001b[0m: \tmp_layer4_stride: 2\n",
      "\u001b[34m\u001b[1mwandb\u001b[0m: \tmp_layer5_kernel_size: 3\n",
      "\u001b[34m\u001b[1mwandb\u001b[0m: \tmp_layer5_stride: 2\n",
      "\u001b[34m\u001b[1mwandb\u001b[0m: \tno_of_conv_blocks: 5\n",
      "\u001b[34m\u001b[1mwandb\u001b[0m: \tno_of_fc_layers: 1\n",
      "\u001b[34m\u001b[1mwandb\u001b[0m: \tno_of_filters: 32\n",
      "\u001b[34m\u001b[1mwandb\u001b[0m: \tnum_classes: 10\n",
      "\u001b[34m\u001b[1mwandb\u001b[0m: \tnum_workers: 10\n"
     ]
    },
    {
     "data": {
      "text/html": [
       "Tracking run with wandb version 0.19.9"
      ],
      "text/plain": [
       "<IPython.core.display.HTML object>"
      ]
     },
     "metadata": {},
     "output_type": "display_data"
    },
    {
     "data": {
      "text/html": [
       "Run data is saved locally in <code>/home/joel/Pytorch_CUDA/wandb/run-20250417_185258-kp8l5mec</code>"
      ],
      "text/plain": [
       "<IPython.core.display.HTML object>"
      ]
     },
     "metadata": {},
     "output_type": "display_data"
    },
    {
     "data": {
      "text/html": [
       "Syncing run <strong><a href='https://wandb.ai/A2_DA6401_DL/Lightning_CNN/runs/kp8l5mec' target=\"_blank\">morning-sweep-115</a></strong> to <a href='https://wandb.ai/A2_DA6401_DL/Lightning_CNN' target=\"_blank\">Weights & Biases</a> (<a href='https://wandb.me/developer-guide' target=\"_blank\">docs</a>)<br>Sweep page: <a href='https://wandb.ai/A2_DA6401_DL/Lightning_CNN/sweeps/78djv91t' target=\"_blank\">https://wandb.ai/A2_DA6401_DL/Lightning_CNN/sweeps/78djv91t</a>"
      ],
      "text/plain": [
       "<IPython.core.display.HTML object>"
      ]
     },
     "metadata": {},
     "output_type": "display_data"
    },
    {
     "data": {
      "text/html": [
       " View project at <a href='https://wandb.ai/A2_DA6401_DL/Lightning_CNN' target=\"_blank\">https://wandb.ai/A2_DA6401_DL/Lightning_CNN</a>"
      ],
      "text/plain": [
       "<IPython.core.display.HTML object>"
      ]
     },
     "metadata": {},
     "output_type": "display_data"
    },
    {
     "data": {
      "text/html": [
       " View sweep at <a href='https://wandb.ai/A2_DA6401_DL/Lightning_CNN/sweeps/78djv91t' target=\"_blank\">https://wandb.ai/A2_DA6401_DL/Lightning_CNN/sweeps/78djv91t</a>"
      ],
      "text/plain": [
       "<IPython.core.display.HTML object>"
      ]
     },
     "metadata": {},
     "output_type": "display_data"
    },
    {
     "data": {
      "text/html": [
       " View run at <a href='https://wandb.ai/A2_DA6401_DL/Lightning_CNN/runs/kp8l5mec' target=\"_blank\">https://wandb.ai/A2_DA6401_DL/Lightning_CNN/runs/kp8l5mec</a>"
      ],
      "text/plain": [
       "<IPython.core.display.HTML object>"
      ]
     },
     "metadata": {},
     "output_type": "display_data"
    },
    {
     "name": "stderr",
     "output_type": "stream",
     "text": [
      "You are using the plain ModelCheckpoint callback. Consider using LitModelCheckpoint which with seamless uploading to Model registry.\n",
      "GPU available: True (cuda), used: True\n",
      "TPU available: False, using: 0 TPU cores\n",
      "HPU available: False, using: 0 HPUs\n",
      "/home/joel/Pytorch_CUDA/virt_env/lib/python3.12/site-packages/lightning/pytorch/loggers/wandb.py:397: There is a wandb run already in progress and newly created instances of `WandbLogger` will reuse this run. If this is not desired, call `wandb.finish()` before instantiating `WandbLogger`.\n",
      "LOCAL_RANK: 0 - CUDA_VISIBLE_DEVICES: [0]\n",
      "\n",
      "  | Name       | Type               | Params | Mode \n",
      "----------------------------------------------------------\n",
      "0 | model      | CNN_               | 634 K  | train\n",
      "1 | loss_fn    | CrossEntropyLoss   | 0      | train\n",
      "2 | acc_metric | MulticlassAccuracy | 0      | train\n",
      "----------------------------------------------------------\n",
      "634 K     Trainable params\n",
      "0         Non-trainable params\n",
      "634 K     Total params\n",
      "2.538     Total estimated model params size (MB)\n",
      "43        Modules in train mode\n",
      "0         Modules in eval mode\n"
     ]
    },
    {
     "data": {
      "application/vnd.jupyter.widget-view+json": {
       "model_id": "771ab4248378414984df10e54ad2a5c6",
       "version_major": 2,
       "version_minor": 0
      },
      "text/plain": [
       "Sanity Checking: |          | 0/? [00:00<?, ?it/s]"
      ]
     },
     "metadata": {},
     "output_type": "display_data"
    },
    {
     "data": {
      "application/vnd.jupyter.widget-view+json": {
       "model_id": "5fd960e01903487fb8f2f033d52ea597",
       "version_major": 2,
       "version_minor": 0
      },
      "text/plain": [
       "Training: |          | 0/? [00:00<?, ?it/s]"
      ]
     },
     "metadata": {},
     "output_type": "display_data"
    },
    {
     "data": {
      "application/vnd.jupyter.widget-view+json": {
       "model_id": "c503c96be33d4a7f89bb2a4223f72d2f",
       "version_major": 2,
       "version_minor": 0
      },
      "text/plain": [
       "Validation: |          | 0/? [00:00<?, ?it/s]"
      ]
     },
     "metadata": {},
     "output_type": "display_data"
    },
    {
     "data": {
      "application/vnd.jupyter.widget-view+json": {
       "model_id": "2dc21f23cbd24cf5ab3a065c3bc24c23",
       "version_major": 2,
       "version_minor": 0
      },
      "text/plain": [
       "Validation: |          | 0/? [00:00<?, ?it/s]"
      ]
     },
     "metadata": {},
     "output_type": "display_data"
    },
    {
     "data": {
      "application/vnd.jupyter.widget-view+json": {
       "model_id": "eaed07d271bf4fb8a5a7e68177fd2448",
       "version_major": 2,
       "version_minor": 0
      },
      "text/plain": [
       "Validation: |          | 0/? [00:00<?, ?it/s]"
      ]
     },
     "metadata": {},
     "output_type": "display_data"
    },
    {
     "data": {
      "application/vnd.jupyter.widget-view+json": {
       "model_id": "372afdad42804914b6ab0429f4fc0031",
       "version_major": 2,
       "version_minor": 0
      },
      "text/plain": [
       "Validation: |          | 0/? [00:00<?, ?it/s]"
      ]
     },
     "metadata": {},
     "output_type": "display_data"
    },
    {
     "data": {
      "application/vnd.jupyter.widget-view+json": {
       "model_id": "81d7bb093af44a92b23c0895eeaf1dd1",
       "version_major": 2,
       "version_minor": 0
      },
      "text/plain": [
       "Validation: |          | 0/? [00:00<?, ?it/s]"
      ]
     },
     "metadata": {},
     "output_type": "display_data"
    },
    {
     "data": {
      "application/vnd.jupyter.widget-view+json": {
       "model_id": "698295811bc74690aefafde901f5ae85",
       "version_major": 2,
       "version_minor": 0
      },
      "text/plain": [
       "Validation: |          | 0/? [00:00<?, ?it/s]"
      ]
     },
     "metadata": {},
     "output_type": "display_data"
    },
    {
     "data": {
      "application/vnd.jupyter.widget-view+json": {
       "model_id": "9b0058d1e0a1442687869d05f18e1651",
       "version_major": 2,
       "version_minor": 0
      },
      "text/plain": [
       "Validation: |          | 0/? [00:00<?, ?it/s]"
      ]
     },
     "metadata": {},
     "output_type": "display_data"
    },
    {
     "data": {
      "application/vnd.jupyter.widget-view+json": {
       "model_id": "9a61df9005b64e57a919725b58b0f0a4",
       "version_major": 2,
       "version_minor": 0
      },
      "text/plain": [
       "Validation: |          | 0/? [00:00<?, ?it/s]"
      ]
     },
     "metadata": {},
     "output_type": "display_data"
    },
    {
     "data": {
      "application/vnd.jupyter.widget-view+json": {
       "model_id": "977c024669284754a9762bb5263de7d7",
       "version_major": 2,
       "version_minor": 0
      },
      "text/plain": [
       "Validation: |          | 0/? [00:00<?, ?it/s]"
      ]
     },
     "metadata": {},
     "output_type": "display_data"
    },
    {
     "data": {
      "application/vnd.jupyter.widget-view+json": {
       "model_id": "6642ae55d1314db6ad38e53ff7d97d21",
       "version_major": 2,
       "version_minor": 0
      },
      "text/plain": [
       "Validation: |          | 0/? [00:00<?, ?it/s]"
      ]
     },
     "metadata": {},
     "output_type": "display_data"
    },
    {
     "data": {
      "application/vnd.jupyter.widget-view+json": {
       "model_id": "4f622ea53c7349c6a49394309a188418",
       "version_major": 2,
       "version_minor": 0
      },
      "text/plain": [
       "Validation: |          | 0/? [00:00<?, ?it/s]"
      ]
     },
     "metadata": {},
     "output_type": "display_data"
    },
    {
     "data": {
      "application/vnd.jupyter.widget-view+json": {
       "model_id": "e6b26306ef3a4790ad5cc3a248863fc9",
       "version_major": 2,
       "version_minor": 0
      },
      "text/plain": [
       "Validation: |          | 0/? [00:00<?, ?it/s]"
      ]
     },
     "metadata": {},
     "output_type": "display_data"
    },
    {
     "data": {
      "application/vnd.jupyter.widget-view+json": {
       "model_id": "0666c67cf69d45fb8a3962764214fdc4",
       "version_major": 2,
       "version_minor": 0
      },
      "text/plain": [
       "Validation: |          | 0/? [00:00<?, ?it/s]"
      ]
     },
     "metadata": {},
     "output_type": "display_data"
    },
    {
     "data": {
      "application/vnd.jupyter.widget-view+json": {
       "model_id": "087e1ef47cbf44909cf459f90ae8a4ca",
       "version_major": 2,
       "version_minor": 0
      },
      "text/plain": [
       "Validation: |          | 0/? [00:00<?, ?it/s]"
      ]
     },
     "metadata": {},
     "output_type": "display_data"
    },
    {
     "data": {
      "application/vnd.jupyter.widget-view+json": {
       "model_id": "0eb88bd9b11147eab624d51f317015af",
       "version_major": 2,
       "version_minor": 0
      },
      "text/plain": [
       "Validation: |          | 0/? [00:00<?, ?it/s]"
      ]
     },
     "metadata": {},
     "output_type": "display_data"
    },
    {
     "data": {
      "application/vnd.jupyter.widget-view+json": {
       "model_id": "99cbd8971a7f459e9060b28c9c0a08ed",
       "version_major": 2,
       "version_minor": 0
      },
      "text/plain": [
       "Validation: |          | 0/? [00:00<?, ?it/s]"
      ]
     },
     "metadata": {},
     "output_type": "display_data"
    },
    {
     "data": {
      "application/vnd.jupyter.widget-view+json": {
       "model_id": "23e958c16dda4aa4b13e640d96ca9c9d",
       "version_major": 2,
       "version_minor": 0
      },
      "text/plain": [
       "Validation: |          | 0/? [00:00<?, ?it/s]"
      ]
     },
     "metadata": {},
     "output_type": "display_data"
    },
    {
     "data": {
      "application/vnd.jupyter.widget-view+json": {
       "model_id": "257a5aabdc244a0781bdaaa357318513",
       "version_major": 2,
       "version_minor": 0
      },
      "text/plain": [
       "Validation: |          | 0/? [00:00<?, ?it/s]"
      ]
     },
     "metadata": {},
     "output_type": "display_data"
    },
    {
     "data": {
      "application/vnd.jupyter.widget-view+json": {
       "model_id": "e831327bf20643b8a3d41d7056eee94d",
       "version_major": 2,
       "version_minor": 0
      },
      "text/plain": [
       "Validation: |          | 0/? [00:00<?, ?it/s]"
      ]
     },
     "metadata": {},
     "output_type": "display_data"
    },
    {
     "data": {
      "application/vnd.jupyter.widget-view+json": {
       "model_id": "dd710a890e844986b7ce45d3fa31da34",
       "version_major": 2,
       "version_minor": 0
      },
      "text/plain": [
       "Validation: |          | 0/? [00:00<?, ?it/s]"
      ]
     },
     "metadata": {},
     "output_type": "display_data"
    },
    {
     "data": {
      "application/vnd.jupyter.widget-view+json": {
       "model_id": "ac9f95ed105d4a9a88fbe2bc2ece5b35",
       "version_major": 2,
       "version_minor": 0
      },
      "text/plain": [
       "Validation: |          | 0/? [00:00<?, ?it/s]"
      ]
     },
     "metadata": {},
     "output_type": "display_data"
    },
    {
     "data": {
      "application/vnd.jupyter.widget-view+json": {
       "model_id": "2211d63296cb45e0ba29efd3631f3e98",
       "version_major": 2,
       "version_minor": 0
      },
      "text/plain": [
       "Validation: |          | 0/? [00:00<?, ?it/s]"
      ]
     },
     "metadata": {},
     "output_type": "display_data"
    },
    {
     "data": {
      "application/vnd.jupyter.widget-view+json": {
       "model_id": "ad44eaa59d924f6cbcc182cda881863d",
       "version_major": 2,
       "version_minor": 0
      },
      "text/plain": [
       "Validation: |          | 0/? [00:00<?, ?it/s]"
      ]
     },
     "metadata": {},
     "output_type": "display_data"
    },
    {
     "data": {
      "application/vnd.jupyter.widget-view+json": {
       "model_id": "ce59e616a0a04f438e1d8f54d7decb7f",
       "version_major": 2,
       "version_minor": 0
      },
      "text/plain": [
       "Validation: |          | 0/? [00:00<?, ?it/s]"
      ]
     },
     "metadata": {},
     "output_type": "display_data"
    },
    {
     "data": {
      "application/vnd.jupyter.widget-view+json": {
       "model_id": "104601ed5d3a4e0297934c08cde51961",
       "version_major": 2,
       "version_minor": 0
      },
      "text/plain": [
       "Validation: |          | 0/? [00:00<?, ?it/s]"
      ]
     },
     "metadata": {},
     "output_type": "display_data"
    },
    {
     "name": "stderr",
     "output_type": "stream",
     "text": [
      "`Trainer.fit` stopped: `max_epochs=25` reached.\n"
     ]
    },
    {
     "data": {
      "text/html": [],
      "text/plain": [
       "<IPython.core.display.HTML object>"
      ]
     },
     "metadata": {},
     "output_type": "display_data"
    },
    {
     "data": {
      "text/html": [
       "<br>    <style><br>        .wandb-row {<br>            display: flex;<br>            flex-direction: row;<br>            flex-wrap: wrap;<br>            justify-content: flex-start;<br>            width: 100%;<br>        }<br>        .wandb-col {<br>            display: flex;<br>            flex-direction: column;<br>            flex-basis: 100%;<br>            flex: 1;<br>            padding: 10px;<br>        }<br>    </style><br><div class=\"wandb-row\"><div class=\"wandb-col\"><h3>Run history:</h3><br/><table class=\"wandb\"><tr><td>epoch</td><td>▁▁▁▁▂▂▂▂▂▂▃▃▃▃▃▄▄▄▄▄▅▅▅▅▅▅▆▆▆▆▇▇▇▇▇▇▇███</td></tr><tr><td>train_loss</td><td>█▇▆▆▅▅▅▄▄▄▄▃▃▃▃▃▂▂▂▂▂▁▁▁▁</td></tr><tr><td>trainer/global_step</td><td>▁▁▁▂▂▂▂▂▂▂▃▃▃▃▃▄▄▄▄▄▅▅▅▅▅▆▆▆▆▆▇▇▇▇▇▇▇███</td></tr><tr><td>val_acc</td><td>▁▃▄▄▄▃▃▅▅▅▆▆▅▆▇▆▇▇███▇█▇█</td></tr><tr><td>val_loss</td><td>█▆▆▆▅▅▆▄▅▄▃▃▄▃▂▃▃▂▂▁▁▂▁▂▁</td></tr></table><br/></div><div class=\"wandb-col\"><h3>Run summary:</h3><br/><table class=\"wandb\"><tr><td>epoch</td><td>24</td></tr><tr><td>train_loss</td><td>2.04737</td></tr><tr><td>trainer/global_step</td><td>6224</td></tr><tr><td>val_acc</td><td>0.3065</td></tr><tr><td>val_loss</td><td>2.14334</td></tr></table><br/></div></div>"
      ],
      "text/plain": [
       "<IPython.core.display.HTML object>"
      ]
     },
     "metadata": {},
     "output_type": "display_data"
    },
    {
     "data": {
      "text/html": [
       " View run <strong style=\"color:#cdcd00\">bs_32_layer_act_LeakyReLU_epoch_25_filter_mul_1_num_filters_32</strong> at: <a href='https://wandb.ai/A2_DA6401_DL/Lightning_CNN/runs/kp8l5mec' target=\"_blank\">https://wandb.ai/A2_DA6401_DL/Lightning_CNN/runs/kp8l5mec</a><br> View project at: <a href='https://wandb.ai/A2_DA6401_DL/Lightning_CNN' target=\"_blank\">https://wandb.ai/A2_DA6401_DL/Lightning_CNN</a><br>Synced 5 W&B file(s), 0 media file(s), 0 artifact file(s) and 0 other file(s)"
      ],
      "text/plain": [
       "<IPython.core.display.HTML object>"
      ]
     },
     "metadata": {},
     "output_type": "display_data"
    },
    {
     "data": {
      "text/html": [
       "Find logs at: <code>./wandb/run-20250417_185258-kp8l5mec/logs</code>"
      ],
      "text/plain": [
       "<IPython.core.display.HTML object>"
      ]
     },
     "metadata": {},
     "output_type": "display_data"
    },
    {
     "name": "stderr",
     "output_type": "stream",
     "text": [
      "\u001b[34m\u001b[1mwandb\u001b[0m: Sweep Agent: Waiting for job.\n",
      "\u001b[34m\u001b[1mwandb\u001b[0m: Job received.\n",
      "\u001b[34m\u001b[1mwandb\u001b[0m: Agent Starting Run: x5ei23hm with config:\n",
      "\u001b[34m\u001b[1mwandb\u001b[0m: \tbatch_norm_conv: True\n",
      "\u001b[34m\u001b[1mwandb\u001b[0m: \tbatch_norm_fc: True\n",
      "\u001b[34m\u001b[1mwandb\u001b[0m: \tbatch_size: 64\n",
      "\u001b[34m\u001b[1mwandb\u001b[0m: \tconv_1_filter_size: 5\n",
      "\u001b[34m\u001b[1mwandb\u001b[0m: \tconv_2_filter_size: 5\n",
      "\u001b[34m\u001b[1mwandb\u001b[0m: \tconv_3_filter_size: 3\n",
      "\u001b[34m\u001b[1mwandb\u001b[0m: \tconv_4_filter_size: 5\n",
      "\u001b[34m\u001b[1mwandb\u001b[0m: \tconv_5_filter_size: 3\n",
      "\u001b[34m\u001b[1mwandb\u001b[0m: \tconv_activation: Mish\n",
      "\u001b[34m\u001b[1mwandb\u001b[0m: \tconv_padding: [None, None, None, None, None]\n",
      "\u001b[34m\u001b[1mwandb\u001b[0m: \tconv_strides: [1, 1, 1, 1, 1]\n",
      "\u001b[34m\u001b[1mwandb\u001b[0m: \tdata_aug: True\n",
      "\u001b[34m\u001b[1mwandb\u001b[0m: \tdropout_conv: 0.1\n",
      "\u001b[34m\u001b[1mwandb\u001b[0m: \tdropout_fc: 0.2\n",
      "\u001b[34m\u001b[1mwandb\u001b[0m: \tepochs: 25\n",
      "\u001b[34m\u001b[1mwandb\u001b[0m: \tfc_activations: SELU\n",
      "\u001b[34m\u001b[1mwandb\u001b[0m: \tfc_neurons: 512\n",
      "\u001b[34m\u001b[1mwandb\u001b[0m: \tfilter_mul: 2\n",
      "\u001b[34m\u001b[1mwandb\u001b[0m: \tinput_channels: 3\n",
      "\u001b[34m\u001b[1mwandb\u001b[0m: \tinput_size: [256, 256]\n",
      "\u001b[34m\u001b[1mwandb\u001b[0m: \tlearning_rate: 0.00025\n",
      "\u001b[34m\u001b[1mwandb\u001b[0m: \tmp_layer1_kernel_size: 3\n",
      "\u001b[34m\u001b[1mwandb\u001b[0m: \tmp_layer1_stride: None\n",
      "\u001b[34m\u001b[1mwandb\u001b[0m: \tmp_layer2_kernel_size: 2\n",
      "\u001b[34m\u001b[1mwandb\u001b[0m: \tmp_layer2_stride: 2\n",
      "\u001b[34m\u001b[1mwandb\u001b[0m: \tmp_layer3_kernel_size: 3\n",
      "\u001b[34m\u001b[1mwandb\u001b[0m: \tmp_layer3_stride: 2\n",
      "\u001b[34m\u001b[1mwandb\u001b[0m: \tmp_layer4_kernel_size: 2\n",
      "\u001b[34m\u001b[1mwandb\u001b[0m: \tmp_layer4_stride: 2\n",
      "\u001b[34m\u001b[1mwandb\u001b[0m: \tmp_layer5_kernel_size: 3\n",
      "\u001b[34m\u001b[1mwandb\u001b[0m: \tmp_layer5_stride: 3\n",
      "\u001b[34m\u001b[1mwandb\u001b[0m: \tno_of_conv_blocks: 5\n",
      "\u001b[34m\u001b[1mwandb\u001b[0m: \tno_of_fc_layers: 1\n",
      "\u001b[34m\u001b[1mwandb\u001b[0m: \tno_of_filters: 256\n",
      "\u001b[34m\u001b[1mwandb\u001b[0m: \tnum_classes: 10\n",
      "\u001b[34m\u001b[1mwandb\u001b[0m: \tnum_workers: 10\n"
     ]
    },
    {
     "data": {
      "text/html": [
       "Tracking run with wandb version 0.19.9"
      ],
      "text/plain": [
       "<IPython.core.display.HTML object>"
      ]
     },
     "metadata": {},
     "output_type": "display_data"
    },
    {
     "data": {
      "text/html": [
       "Run data is saved locally in <code>/home/joel/Pytorch_CUDA/wandb/run-20250417_191101-x5ei23hm</code>"
      ],
      "text/plain": [
       "<IPython.core.display.HTML object>"
      ]
     },
     "metadata": {},
     "output_type": "display_data"
    },
    {
     "data": {
      "text/html": [
       "Syncing run <strong><a href='https://wandb.ai/A2_DA6401_DL/Lightning_CNN/runs/x5ei23hm' target=\"_blank\">winter-sweep-118</a></strong> to <a href='https://wandb.ai/A2_DA6401_DL/Lightning_CNN' target=\"_blank\">Weights & Biases</a> (<a href='https://wandb.me/developer-guide' target=\"_blank\">docs</a>)<br>Sweep page: <a href='https://wandb.ai/A2_DA6401_DL/Lightning_CNN/sweeps/78djv91t' target=\"_blank\">https://wandb.ai/A2_DA6401_DL/Lightning_CNN/sweeps/78djv91t</a>"
      ],
      "text/plain": [
       "<IPython.core.display.HTML object>"
      ]
     },
     "metadata": {},
     "output_type": "display_data"
    },
    {
     "data": {
      "text/html": [
       " View project at <a href='https://wandb.ai/A2_DA6401_DL/Lightning_CNN' target=\"_blank\">https://wandb.ai/A2_DA6401_DL/Lightning_CNN</a>"
      ],
      "text/plain": [
       "<IPython.core.display.HTML object>"
      ]
     },
     "metadata": {},
     "output_type": "display_data"
    },
    {
     "data": {
      "text/html": [
       " View sweep at <a href='https://wandb.ai/A2_DA6401_DL/Lightning_CNN/sweeps/78djv91t' target=\"_blank\">https://wandb.ai/A2_DA6401_DL/Lightning_CNN/sweeps/78djv91t</a>"
      ],
      "text/plain": [
       "<IPython.core.display.HTML object>"
      ]
     },
     "metadata": {},
     "output_type": "display_data"
    },
    {
     "data": {
      "text/html": [
       " View run at <a href='https://wandb.ai/A2_DA6401_DL/Lightning_CNN/runs/x5ei23hm' target=\"_blank\">https://wandb.ai/A2_DA6401_DL/Lightning_CNN/runs/x5ei23hm</a>"
      ],
      "text/plain": [
       "<IPython.core.display.HTML object>"
      ]
     },
     "metadata": {},
     "output_type": "display_data"
    },
    {
     "name": "stdout",
     "output_type": "stream",
     "text": [
      "Not a good combination !!!\n"
     ]
    },
    {
     "data": {
      "text/html": [],
      "text/plain": [
       "<IPython.core.display.HTML object>"
      ]
     },
     "metadata": {},
     "output_type": "display_data"
    },
    {
     "data": {
      "text/html": [
       " View run <strong style=\"color:#cdcd00\">bs_64_layer_act_Mish_epoch_25_filter_mul_2_num_filters_256</strong> at: <a href='https://wandb.ai/A2_DA6401_DL/Lightning_CNN/runs/x5ei23hm' target=\"_blank\">https://wandb.ai/A2_DA6401_DL/Lightning_CNN/runs/x5ei23hm</a><br> View project at: <a href='https://wandb.ai/A2_DA6401_DL/Lightning_CNN' target=\"_blank\">https://wandb.ai/A2_DA6401_DL/Lightning_CNN</a><br>Synced 5 W&B file(s), 0 media file(s), 0 artifact file(s) and 0 other file(s)"
      ],
      "text/plain": [
       "<IPython.core.display.HTML object>"
      ]
     },
     "metadata": {},
     "output_type": "display_data"
    },
    {
     "data": {
      "text/html": [
       "Find logs at: <code>./wandb/run-20250417_191101-x5ei23hm/logs</code>"
      ],
      "text/plain": [
       "<IPython.core.display.HTML object>"
      ]
     },
     "metadata": {},
     "output_type": "display_data"
    },
    {
     "name": "stderr",
     "output_type": "stream",
     "text": [
      "\u001b[34m\u001b[1mwandb\u001b[0m: Agent Starting Run: utxh4pnk with config:\n",
      "\u001b[34m\u001b[1mwandb\u001b[0m: \tbatch_norm_conv: False\n",
      "\u001b[34m\u001b[1mwandb\u001b[0m: \tbatch_norm_fc: True\n",
      "\u001b[34m\u001b[1mwandb\u001b[0m: \tbatch_size: 64\n",
      "\u001b[34m\u001b[1mwandb\u001b[0m: \tconv_1_filter_size: 5\n",
      "\u001b[34m\u001b[1mwandb\u001b[0m: \tconv_2_filter_size: 5\n",
      "\u001b[34m\u001b[1mwandb\u001b[0m: \tconv_3_filter_size: 5\n",
      "\u001b[34m\u001b[1mwandb\u001b[0m: \tconv_4_filter_size: 3\n",
      "\u001b[34m\u001b[1mwandb\u001b[0m: \tconv_5_filter_size: 3\n",
      "\u001b[34m\u001b[1mwandb\u001b[0m: \tconv_activation: GELU\n",
      "\u001b[34m\u001b[1mwandb\u001b[0m: \tconv_padding: [None, None, None, None, None]\n",
      "\u001b[34m\u001b[1mwandb\u001b[0m: \tconv_strides: [1, 1, 1, 1, 1]\n",
      "\u001b[34m\u001b[1mwandb\u001b[0m: \tdata_aug: True\n",
      "\u001b[34m\u001b[1mwandb\u001b[0m: \tdropout_conv: 0\n",
      "\u001b[34m\u001b[1mwandb\u001b[0m: \tdropout_fc: 0\n",
      "\u001b[34m\u001b[1mwandb\u001b[0m: \tepochs: 25\n",
      "\u001b[34m\u001b[1mwandb\u001b[0m: \tfc_activations: Mish\n",
      "\u001b[34m\u001b[1mwandb\u001b[0m: \tfc_neurons: 1024\n",
      "\u001b[34m\u001b[1mwandb\u001b[0m: \tfilter_mul: 1\n",
      "\u001b[34m\u001b[1mwandb\u001b[0m: \tinput_channels: 3\n",
      "\u001b[34m\u001b[1mwandb\u001b[0m: \tinput_size: [256, 256]\n",
      "\u001b[34m\u001b[1mwandb\u001b[0m: \tlearning_rate: 0.00025\n",
      "\u001b[34m\u001b[1mwandb\u001b[0m: \tmp_layer1_kernel_size: 3\n",
      "\u001b[34m\u001b[1mwandb\u001b[0m: \tmp_layer1_stride: None\n",
      "\u001b[34m\u001b[1mwandb\u001b[0m: \tmp_layer2_kernel_size: 3\n",
      "\u001b[34m\u001b[1mwandb\u001b[0m: \tmp_layer2_stride: 3\n",
      "\u001b[34m\u001b[1mwandb\u001b[0m: \tmp_layer3_kernel_size: 5\n",
      "\u001b[34m\u001b[1mwandb\u001b[0m: \tmp_layer3_stride: 3\n",
      "\u001b[34m\u001b[1mwandb\u001b[0m: \tmp_layer4_kernel_size: 3\n",
      "\u001b[34m\u001b[1mwandb\u001b[0m: \tmp_layer4_stride: 2\n",
      "\u001b[34m\u001b[1mwandb\u001b[0m: \tmp_layer5_kernel_size: 3\n",
      "\u001b[34m\u001b[1mwandb\u001b[0m: \tmp_layer5_stride: 3\n",
      "\u001b[34m\u001b[1mwandb\u001b[0m: \tno_of_conv_blocks: 5\n",
      "\u001b[34m\u001b[1mwandb\u001b[0m: \tno_of_fc_layers: 1\n",
      "\u001b[34m\u001b[1mwandb\u001b[0m: \tno_of_filters: 256\n",
      "\u001b[34m\u001b[1mwandb\u001b[0m: \tnum_classes: 10\n",
      "\u001b[34m\u001b[1mwandb\u001b[0m: \tnum_workers: 10\n"
     ]
    },
    {
     "data": {
      "text/html": [
       "Tracking run with wandb version 0.19.9"
      ],
      "text/plain": [
       "<IPython.core.display.HTML object>"
      ]
     },
     "metadata": {},
     "output_type": "display_data"
    },
    {
     "data": {
      "text/html": [
       "Run data is saved locally in <code>/home/joel/Pytorch_CUDA/wandb/run-20250417_191109-utxh4pnk</code>"
      ],
      "text/plain": [
       "<IPython.core.display.HTML object>"
      ]
     },
     "metadata": {},
     "output_type": "display_data"
    },
    {
     "data": {
      "text/html": [
       "Syncing run <strong><a href='https://wandb.ai/A2_DA6401_DL/Lightning_CNN/runs/utxh4pnk' target=\"_blank\">lilac-sweep-119</a></strong> to <a href='https://wandb.ai/A2_DA6401_DL/Lightning_CNN' target=\"_blank\">Weights & Biases</a> (<a href='https://wandb.me/developer-guide' target=\"_blank\">docs</a>)<br>Sweep page: <a href='https://wandb.ai/A2_DA6401_DL/Lightning_CNN/sweeps/78djv91t' target=\"_blank\">https://wandb.ai/A2_DA6401_DL/Lightning_CNN/sweeps/78djv91t</a>"
      ],
      "text/plain": [
       "<IPython.core.display.HTML object>"
      ]
     },
     "metadata": {},
     "output_type": "display_data"
    },
    {
     "data": {
      "text/html": [
       " View project at <a href='https://wandb.ai/A2_DA6401_DL/Lightning_CNN' target=\"_blank\">https://wandb.ai/A2_DA6401_DL/Lightning_CNN</a>"
      ],
      "text/plain": [
       "<IPython.core.display.HTML object>"
      ]
     },
     "metadata": {},
     "output_type": "display_data"
    },
    {
     "data": {
      "text/html": [
       " View sweep at <a href='https://wandb.ai/A2_DA6401_DL/Lightning_CNN/sweeps/78djv91t' target=\"_blank\">https://wandb.ai/A2_DA6401_DL/Lightning_CNN/sweeps/78djv91t</a>"
      ],
      "text/plain": [
       "<IPython.core.display.HTML object>"
      ]
     },
     "metadata": {},
     "output_type": "display_data"
    },
    {
     "data": {
      "text/html": [
       " View run at <a href='https://wandb.ai/A2_DA6401_DL/Lightning_CNN/runs/utxh4pnk' target=\"_blank\">https://wandb.ai/A2_DA6401_DL/Lightning_CNN/runs/utxh4pnk</a>"
      ],
      "text/plain": [
       "<IPython.core.display.HTML object>"
      ]
     },
     "metadata": {},
     "output_type": "display_data"
    },
    {
     "name": "stdout",
     "output_type": "stream",
     "text": [
      "Not a good combination !!!\n"
     ]
    },
    {
     "data": {
      "text/html": [],
      "text/plain": [
       "<IPython.core.display.HTML object>"
      ]
     },
     "metadata": {},
     "output_type": "display_data"
    },
    {
     "data": {
      "text/html": [
       " View run <strong style=\"color:#cdcd00\">bs_64_layer_act_GELU_epoch_25_filter_mul_1_num_filters_256</strong> at: <a href='https://wandb.ai/A2_DA6401_DL/Lightning_CNN/runs/utxh4pnk' target=\"_blank\">https://wandb.ai/A2_DA6401_DL/Lightning_CNN/runs/utxh4pnk</a><br> View project at: <a href='https://wandb.ai/A2_DA6401_DL/Lightning_CNN' target=\"_blank\">https://wandb.ai/A2_DA6401_DL/Lightning_CNN</a><br>Synced 5 W&B file(s), 0 media file(s), 0 artifact file(s) and 0 other file(s)"
      ],
      "text/plain": [
       "<IPython.core.display.HTML object>"
      ]
     },
     "metadata": {},
     "output_type": "display_data"
    },
    {
     "data": {
      "text/html": [
       "Find logs at: <code>./wandb/run-20250417_191109-utxh4pnk/logs</code>"
      ],
      "text/plain": [
       "<IPython.core.display.HTML object>"
      ]
     },
     "metadata": {},
     "output_type": "display_data"
    },
    {
     "name": "stderr",
     "output_type": "stream",
     "text": [
      "\u001b[34m\u001b[1mwandb\u001b[0m: Agent Starting Run: rv5rtjqi with config:\n",
      "\u001b[34m\u001b[1mwandb\u001b[0m: \tbatch_norm_conv: False\n",
      "\u001b[34m\u001b[1mwandb\u001b[0m: \tbatch_norm_fc: True\n",
      "\u001b[34m\u001b[1mwandb\u001b[0m: \tbatch_size: 64\n",
      "\u001b[34m\u001b[1mwandb\u001b[0m: \tconv_1_filter_size: 5\n",
      "\u001b[34m\u001b[1mwandb\u001b[0m: \tconv_2_filter_size: 3\n",
      "\u001b[34m\u001b[1mwandb\u001b[0m: \tconv_3_filter_size: 5\n",
      "\u001b[34m\u001b[1mwandb\u001b[0m: \tconv_4_filter_size: 3\n",
      "\u001b[34m\u001b[1mwandb\u001b[0m: \tconv_5_filter_size: 5\n",
      "\u001b[34m\u001b[1mwandb\u001b[0m: \tconv_activation: SiLU\n",
      "\u001b[34m\u001b[1mwandb\u001b[0m: \tconv_padding: [None, None, None, None, None]\n",
      "\u001b[34m\u001b[1mwandb\u001b[0m: \tconv_strides: [1, 1, 1, 1, 1]\n",
      "\u001b[34m\u001b[1mwandb\u001b[0m: \tdata_aug: True\n",
      "\u001b[34m\u001b[1mwandb\u001b[0m: \tdropout_conv: 0.2\n",
      "\u001b[34m\u001b[1mwandb\u001b[0m: \tdropout_fc: 0\n",
      "\u001b[34m\u001b[1mwandb\u001b[0m: \tepochs: 25\n",
      "\u001b[34m\u001b[1mwandb\u001b[0m: \tfc_activations: LeakyReLU\n",
      "\u001b[34m\u001b[1mwandb\u001b[0m: \tfc_neurons: 512\n",
      "\u001b[34m\u001b[1mwandb\u001b[0m: \tfilter_mul: 1\n",
      "\u001b[34m\u001b[1mwandb\u001b[0m: \tinput_channels: 3\n",
      "\u001b[34m\u001b[1mwandb\u001b[0m: \tinput_size: [256, 256]\n",
      "\u001b[34m\u001b[1mwandb\u001b[0m: \tlearning_rate: 0.00025\n",
      "\u001b[34m\u001b[1mwandb\u001b[0m: \tmp_layer1_kernel_size: 5\n",
      "\u001b[34m\u001b[1mwandb\u001b[0m: \tmp_layer1_stride: 2\n",
      "\u001b[34m\u001b[1mwandb\u001b[0m: \tmp_layer2_kernel_size: 5\n",
      "\u001b[34m\u001b[1mwandb\u001b[0m: \tmp_layer2_stride: None\n",
      "\u001b[34m\u001b[1mwandb\u001b[0m: \tmp_layer3_kernel_size: 5\n",
      "\u001b[34m\u001b[1mwandb\u001b[0m: \tmp_layer3_stride: 2\n",
      "\u001b[34m\u001b[1mwandb\u001b[0m: \tmp_layer4_kernel_size: 3\n",
      "\u001b[34m\u001b[1mwandb\u001b[0m: \tmp_layer4_stride: 2\n",
      "\u001b[34m\u001b[1mwandb\u001b[0m: \tmp_layer5_kernel_size: 2\n",
      "\u001b[34m\u001b[1mwandb\u001b[0m: \tmp_layer5_stride: 3\n",
      "\u001b[34m\u001b[1mwandb\u001b[0m: \tno_of_conv_blocks: 5\n",
      "\u001b[34m\u001b[1mwandb\u001b[0m: \tno_of_fc_layers: 1\n",
      "\u001b[34m\u001b[1mwandb\u001b[0m: \tno_of_filters: 512\n",
      "\u001b[34m\u001b[1mwandb\u001b[0m: \tnum_classes: 10\n",
      "\u001b[34m\u001b[1mwandb\u001b[0m: \tnum_workers: 10\n"
     ]
    },
    {
     "data": {
      "text/html": [
       "Tracking run with wandb version 0.19.9"
      ],
      "text/plain": [
       "<IPython.core.display.HTML object>"
      ]
     },
     "metadata": {},
     "output_type": "display_data"
    },
    {
     "data": {
      "text/html": [
       "Run data is saved locally in <code>/home/joel/Pytorch_CUDA/wandb/run-20250417_191115-rv5rtjqi</code>"
      ],
      "text/plain": [
       "<IPython.core.display.HTML object>"
      ]
     },
     "metadata": {},
     "output_type": "display_data"
    },
    {
     "data": {
      "text/html": [
       "Syncing run <strong><a href='https://wandb.ai/A2_DA6401_DL/Lightning_CNN/runs/rv5rtjqi' target=\"_blank\">stellar-sweep-120</a></strong> to <a href='https://wandb.ai/A2_DA6401_DL/Lightning_CNN' target=\"_blank\">Weights & Biases</a> (<a href='https://wandb.me/developer-guide' target=\"_blank\">docs</a>)<br>Sweep page: <a href='https://wandb.ai/A2_DA6401_DL/Lightning_CNN/sweeps/78djv91t' target=\"_blank\">https://wandb.ai/A2_DA6401_DL/Lightning_CNN/sweeps/78djv91t</a>"
      ],
      "text/plain": [
       "<IPython.core.display.HTML object>"
      ]
     },
     "metadata": {},
     "output_type": "display_data"
    },
    {
     "data": {
      "text/html": [
       " View project at <a href='https://wandb.ai/A2_DA6401_DL/Lightning_CNN' target=\"_blank\">https://wandb.ai/A2_DA6401_DL/Lightning_CNN</a>"
      ],
      "text/plain": [
       "<IPython.core.display.HTML object>"
      ]
     },
     "metadata": {},
     "output_type": "display_data"
    },
    {
     "data": {
      "text/html": [
       " View sweep at <a href='https://wandb.ai/A2_DA6401_DL/Lightning_CNN/sweeps/78djv91t' target=\"_blank\">https://wandb.ai/A2_DA6401_DL/Lightning_CNN/sweeps/78djv91t</a>"
      ],
      "text/plain": [
       "<IPython.core.display.HTML object>"
      ]
     },
     "metadata": {},
     "output_type": "display_data"
    },
    {
     "data": {
      "text/html": [
       " View run at <a href='https://wandb.ai/A2_DA6401_DL/Lightning_CNN/runs/rv5rtjqi' target=\"_blank\">https://wandb.ai/A2_DA6401_DL/Lightning_CNN/runs/rv5rtjqi</a>"
      ],
      "text/plain": [
       "<IPython.core.display.HTML object>"
      ]
     },
     "metadata": {},
     "output_type": "display_data"
    },
    {
     "name": "stdout",
     "output_type": "stream",
     "text": [
      "Not a good combination !!!\n"
     ]
    },
    {
     "data": {
      "text/html": [],
      "text/plain": [
       "<IPython.core.display.HTML object>"
      ]
     },
     "metadata": {},
     "output_type": "display_data"
    },
    {
     "data": {
      "text/html": [
       " View run <strong style=\"color:#cdcd00\">bs_64_layer_act_SiLU_epoch_25_filter_mul_1_num_filters_512</strong> at: <a href='https://wandb.ai/A2_DA6401_DL/Lightning_CNN/runs/rv5rtjqi' target=\"_blank\">https://wandb.ai/A2_DA6401_DL/Lightning_CNN/runs/rv5rtjqi</a><br> View project at: <a href='https://wandb.ai/A2_DA6401_DL/Lightning_CNN' target=\"_blank\">https://wandb.ai/A2_DA6401_DL/Lightning_CNN</a><br>Synced 5 W&B file(s), 0 media file(s), 0 artifact file(s) and 0 other file(s)"
      ],
      "text/plain": [
       "<IPython.core.display.HTML object>"
      ]
     },
     "metadata": {},
     "output_type": "display_data"
    },
    {
     "data": {
      "text/html": [
       "Find logs at: <code>./wandb/run-20250417_191115-rv5rtjqi/logs</code>"
      ],
      "text/plain": [
       "<IPython.core.display.HTML object>"
      ]
     },
     "metadata": {},
     "output_type": "display_data"
    },
    {
     "name": "stderr",
     "output_type": "stream",
     "text": [
      "\u001b[34m\u001b[1mwandb\u001b[0m: Agent Starting Run: 24iuqgcw with config:\n",
      "\u001b[34m\u001b[1mwandb\u001b[0m: \tbatch_norm_conv: False\n",
      "\u001b[34m\u001b[1mwandb\u001b[0m: \tbatch_norm_fc: True\n",
      "\u001b[34m\u001b[1mwandb\u001b[0m: \tbatch_size: 32\n",
      "\u001b[34m\u001b[1mwandb\u001b[0m: \tconv_1_filter_size: 3\n",
      "\u001b[34m\u001b[1mwandb\u001b[0m: \tconv_2_filter_size: 3\n",
      "\u001b[34m\u001b[1mwandb\u001b[0m: \tconv_3_filter_size: 3\n",
      "\u001b[34m\u001b[1mwandb\u001b[0m: \tconv_4_filter_size: 5\n",
      "\u001b[34m\u001b[1mwandb\u001b[0m: \tconv_5_filter_size: 3\n",
      "\u001b[34m\u001b[1mwandb\u001b[0m: \tconv_activation: LeakyReLU\n",
      "\u001b[34m\u001b[1mwandb\u001b[0m: \tconv_padding: [None, None, None, None, None]\n",
      "\u001b[34m\u001b[1mwandb\u001b[0m: \tconv_strides: [1, 1, 1, 1, 1]\n",
      "\u001b[34m\u001b[1mwandb\u001b[0m: \tdata_aug: True\n",
      "\u001b[34m\u001b[1mwandb\u001b[0m: \tdropout_conv: 0\n",
      "\u001b[34m\u001b[1mwandb\u001b[0m: \tdropout_fc: 0.3\n",
      "\u001b[34m\u001b[1mwandb\u001b[0m: \tepochs: 25\n",
      "\u001b[34m\u001b[1mwandb\u001b[0m: \tfc_activations: LeakyReLU\n",
      "\u001b[34m\u001b[1mwandb\u001b[0m: \tfc_neurons: 512\n",
      "\u001b[34m\u001b[1mwandb\u001b[0m: \tfilter_mul: 1\n",
      "\u001b[34m\u001b[1mwandb\u001b[0m: \tinput_channels: 3\n",
      "\u001b[34m\u001b[1mwandb\u001b[0m: \tinput_size: [256, 256]\n",
      "\u001b[34m\u001b[1mwandb\u001b[0m: \tlearning_rate: 0.0005\n",
      "\u001b[34m\u001b[1mwandb\u001b[0m: \tmp_layer1_kernel_size: 5\n",
      "\u001b[34m\u001b[1mwandb\u001b[0m: \tmp_layer1_stride: 2\n",
      "\u001b[34m\u001b[1mwandb\u001b[0m: \tmp_layer2_kernel_size: 5\n",
      "\u001b[34m\u001b[1mwandb\u001b[0m: \tmp_layer2_stride: 2\n",
      "\u001b[34m\u001b[1mwandb\u001b[0m: \tmp_layer3_kernel_size: 2\n",
      "\u001b[34m\u001b[1mwandb\u001b[0m: \tmp_layer3_stride: 2\n",
      "\u001b[34m\u001b[1mwandb\u001b[0m: \tmp_layer4_kernel_size: 3\n",
      "\u001b[34m\u001b[1mwandb\u001b[0m: \tmp_layer4_stride: 3\n",
      "\u001b[34m\u001b[1mwandb\u001b[0m: \tmp_layer5_kernel_size: 3\n",
      "\u001b[34m\u001b[1mwandb\u001b[0m: \tmp_layer5_stride: 3\n",
      "\u001b[34m\u001b[1mwandb\u001b[0m: \tno_of_conv_blocks: 5\n",
      "\u001b[34m\u001b[1mwandb\u001b[0m: \tno_of_fc_layers: 1\n",
      "\u001b[34m\u001b[1mwandb\u001b[0m: \tno_of_filters: 512\n",
      "\u001b[34m\u001b[1mwandb\u001b[0m: \tnum_classes: 10\n",
      "\u001b[34m\u001b[1mwandb\u001b[0m: \tnum_workers: 10\n"
     ]
    },
    {
     "data": {
      "text/html": [
       "Tracking run with wandb version 0.19.9"
      ],
      "text/plain": [
       "<IPython.core.display.HTML object>"
      ]
     },
     "metadata": {},
     "output_type": "display_data"
    },
    {
     "data": {
      "text/html": [
       "Run data is saved locally in <code>/home/joel/Pytorch_CUDA/wandb/run-20250417_191122-24iuqgcw</code>"
      ],
      "text/plain": [
       "<IPython.core.display.HTML object>"
      ]
     },
     "metadata": {},
     "output_type": "display_data"
    },
    {
     "data": {
      "text/html": [
       "Syncing run <strong><a href='https://wandb.ai/A2_DA6401_DL/Lightning_CNN/runs/24iuqgcw' target=\"_blank\">misunderstood-sweep-121</a></strong> to <a href='https://wandb.ai/A2_DA6401_DL/Lightning_CNN' target=\"_blank\">Weights & Biases</a> (<a href='https://wandb.me/developer-guide' target=\"_blank\">docs</a>)<br>Sweep page: <a href='https://wandb.ai/A2_DA6401_DL/Lightning_CNN/sweeps/78djv91t' target=\"_blank\">https://wandb.ai/A2_DA6401_DL/Lightning_CNN/sweeps/78djv91t</a>"
      ],
      "text/plain": [
       "<IPython.core.display.HTML object>"
      ]
     },
     "metadata": {},
     "output_type": "display_data"
    },
    {
     "data": {
      "text/html": [
       " View project at <a href='https://wandb.ai/A2_DA6401_DL/Lightning_CNN' target=\"_blank\">https://wandb.ai/A2_DA6401_DL/Lightning_CNN</a>"
      ],
      "text/plain": [
       "<IPython.core.display.HTML object>"
      ]
     },
     "metadata": {},
     "output_type": "display_data"
    },
    {
     "data": {
      "text/html": [
       " View sweep at <a href='https://wandb.ai/A2_DA6401_DL/Lightning_CNN/sweeps/78djv91t' target=\"_blank\">https://wandb.ai/A2_DA6401_DL/Lightning_CNN/sweeps/78djv91t</a>"
      ],
      "text/plain": [
       "<IPython.core.display.HTML object>"
      ]
     },
     "metadata": {},
     "output_type": "display_data"
    },
    {
     "data": {
      "text/html": [
       " View run at <a href='https://wandb.ai/A2_DA6401_DL/Lightning_CNN/runs/24iuqgcw' target=\"_blank\">https://wandb.ai/A2_DA6401_DL/Lightning_CNN/runs/24iuqgcw</a>"
      ],
      "text/plain": [
       "<IPython.core.display.HTML object>"
      ]
     },
     "metadata": {},
     "output_type": "display_data"
    },
    {
     "name": "stdout",
     "output_type": "stream",
     "text": [
      "Not a good combination !!!\n"
     ]
    },
    {
     "data": {
      "text/html": [],
      "text/plain": [
       "<IPython.core.display.HTML object>"
      ]
     },
     "metadata": {},
     "output_type": "display_data"
    },
    {
     "data": {
      "text/html": [
       " View run <strong style=\"color:#cdcd00\">bs_32_layer_act_LeakyReLU_epoch_25_filter_mul_1_num_filters_512</strong> at: <a href='https://wandb.ai/A2_DA6401_DL/Lightning_CNN/runs/24iuqgcw' target=\"_blank\">https://wandb.ai/A2_DA6401_DL/Lightning_CNN/runs/24iuqgcw</a><br> View project at: <a href='https://wandb.ai/A2_DA6401_DL/Lightning_CNN' target=\"_blank\">https://wandb.ai/A2_DA6401_DL/Lightning_CNN</a><br>Synced 5 W&B file(s), 0 media file(s), 0 artifact file(s) and 0 other file(s)"
      ],
      "text/plain": [
       "<IPython.core.display.HTML object>"
      ]
     },
     "metadata": {},
     "output_type": "display_data"
    },
    {
     "data": {
      "text/html": [
       "Find logs at: <code>./wandb/run-20250417_191122-24iuqgcw/logs</code>"
      ],
      "text/plain": [
       "<IPython.core.display.HTML object>"
      ]
     },
     "metadata": {},
     "output_type": "display_data"
    },
    {
     "name": "stderr",
     "output_type": "stream",
     "text": [
      "\u001b[34m\u001b[1mwandb\u001b[0m: Sweep Agent: Waiting for job.\n",
      "\u001b[34m\u001b[1mwandb\u001b[0m: Job received.\n",
      "\u001b[34m\u001b[1mwandb\u001b[0m: Agent Starting Run: csxmu0ku with config:\n",
      "\u001b[34m\u001b[1mwandb\u001b[0m: \tbatch_norm_conv: True\n",
      "\u001b[34m\u001b[1mwandb\u001b[0m: \tbatch_norm_fc: True\n",
      "\u001b[34m\u001b[1mwandb\u001b[0m: \tbatch_size: 32\n",
      "\u001b[34m\u001b[1mwandb\u001b[0m: \tconv_1_filter_size: 3\n",
      "\u001b[34m\u001b[1mwandb\u001b[0m: \tconv_2_filter_size: 5\n",
      "\u001b[34m\u001b[1mwandb\u001b[0m: \tconv_3_filter_size: 3\n",
      "\u001b[34m\u001b[1mwandb\u001b[0m: \tconv_4_filter_size: 5\n",
      "\u001b[34m\u001b[1mwandb\u001b[0m: \tconv_5_filter_size: 3\n",
      "\u001b[34m\u001b[1mwandb\u001b[0m: \tconv_activation: SiLU\n",
      "\u001b[34m\u001b[1mwandb\u001b[0m: \tconv_padding: [None, None, None, None, None]\n",
      "\u001b[34m\u001b[1mwandb\u001b[0m: \tconv_strides: [1, 1, 1, 1, 1]\n",
      "\u001b[34m\u001b[1mwandb\u001b[0m: \tdata_aug: True\n",
      "\u001b[34m\u001b[1mwandb\u001b[0m: \tdropout_conv: 0\n",
      "\u001b[34m\u001b[1mwandb\u001b[0m: \tdropout_fc: 0.2\n",
      "\u001b[34m\u001b[1mwandb\u001b[0m: \tepochs: 25\n",
      "\u001b[34m\u001b[1mwandb\u001b[0m: \tfc_activations: SiLU\n",
      "\u001b[34m\u001b[1mwandb\u001b[0m: \tfc_neurons: 1024\n",
      "\u001b[34m\u001b[1mwandb\u001b[0m: \tfilter_mul: 1\n",
      "\u001b[34m\u001b[1mwandb\u001b[0m: \tinput_channels: 3\n",
      "\u001b[34m\u001b[1mwandb\u001b[0m: \tinput_size: [256, 256]\n",
      "\u001b[34m\u001b[1mwandb\u001b[0m: \tlearning_rate: 0.0005\n",
      "\u001b[34m\u001b[1mwandb\u001b[0m: \tmp_layer1_kernel_size: 5\n",
      "\u001b[34m\u001b[1mwandb\u001b[0m: \tmp_layer1_stride: 3\n",
      "\u001b[34m\u001b[1mwandb\u001b[0m: \tmp_layer2_kernel_size: 3\n",
      "\u001b[34m\u001b[1mwandb\u001b[0m: \tmp_layer2_stride: 2\n",
      "\u001b[34m\u001b[1mwandb\u001b[0m: \tmp_layer3_kernel_size: 2\n",
      "\u001b[34m\u001b[1mwandb\u001b[0m: \tmp_layer3_stride: 3\n",
      "\u001b[34m\u001b[1mwandb\u001b[0m: \tmp_layer4_kernel_size: 2\n",
      "\u001b[34m\u001b[1mwandb\u001b[0m: \tmp_layer4_stride: 3\n",
      "\u001b[34m\u001b[1mwandb\u001b[0m: \tmp_layer5_kernel_size: 3\n",
      "\u001b[34m\u001b[1mwandb\u001b[0m: \tmp_layer5_stride: 3\n",
      "\u001b[34m\u001b[1mwandb\u001b[0m: \tno_of_conv_blocks: 5\n",
      "\u001b[34m\u001b[1mwandb\u001b[0m: \tno_of_fc_layers: 1\n",
      "\u001b[34m\u001b[1mwandb\u001b[0m: \tno_of_filters: 512\n",
      "\u001b[34m\u001b[1mwandb\u001b[0m: \tnum_classes: 10\n",
      "\u001b[34m\u001b[1mwandb\u001b[0m: \tnum_workers: 10\n"
     ]
    },
    {
     "data": {
      "text/html": [
       "Tracking run with wandb version 0.19.9"
      ],
      "text/plain": [
       "<IPython.core.display.HTML object>"
      ]
     },
     "metadata": {},
     "output_type": "display_data"
    },
    {
     "data": {
      "text/html": [
       "Run data is saved locally in <code>/home/joel/Pytorch_CUDA/wandb/run-20250417_191137-csxmu0ku</code>"
      ],
      "text/plain": [
       "<IPython.core.display.HTML object>"
      ]
     },
     "metadata": {},
     "output_type": "display_data"
    },
    {
     "data": {
      "text/html": [
       "Syncing run <strong><a href='https://wandb.ai/A2_DA6401_DL/Lightning_CNN/runs/csxmu0ku' target=\"_blank\">lucky-sweep-122</a></strong> to <a href='https://wandb.ai/A2_DA6401_DL/Lightning_CNN' target=\"_blank\">Weights & Biases</a> (<a href='https://wandb.me/developer-guide' target=\"_blank\">docs</a>)<br>Sweep page: <a href='https://wandb.ai/A2_DA6401_DL/Lightning_CNN/sweeps/78djv91t' target=\"_blank\">https://wandb.ai/A2_DA6401_DL/Lightning_CNN/sweeps/78djv91t</a>"
      ],
      "text/plain": [
       "<IPython.core.display.HTML object>"
      ]
     },
     "metadata": {},
     "output_type": "display_data"
    },
    {
     "data": {
      "text/html": [
       " View project at <a href='https://wandb.ai/A2_DA6401_DL/Lightning_CNN' target=\"_blank\">https://wandb.ai/A2_DA6401_DL/Lightning_CNN</a>"
      ],
      "text/plain": [
       "<IPython.core.display.HTML object>"
      ]
     },
     "metadata": {},
     "output_type": "display_data"
    },
    {
     "data": {
      "text/html": [
       " View sweep at <a href='https://wandb.ai/A2_DA6401_DL/Lightning_CNN/sweeps/78djv91t' target=\"_blank\">https://wandb.ai/A2_DA6401_DL/Lightning_CNN/sweeps/78djv91t</a>"
      ],
      "text/plain": [
       "<IPython.core.display.HTML object>"
      ]
     },
     "metadata": {},
     "output_type": "display_data"
    },
    {
     "data": {
      "text/html": [
       " View run at <a href='https://wandb.ai/A2_DA6401_DL/Lightning_CNN/runs/csxmu0ku' target=\"_blank\">https://wandb.ai/A2_DA6401_DL/Lightning_CNN/runs/csxmu0ku</a>"
      ],
      "text/plain": [
       "<IPython.core.display.HTML object>"
      ]
     },
     "metadata": {},
     "output_type": "display_data"
    },
    {
     "name": "stdout",
     "output_type": "stream",
     "text": [
      "Not a good combination !!!\n"
     ]
    },
    {
     "data": {
      "text/html": [],
      "text/plain": [
       "<IPython.core.display.HTML object>"
      ]
     },
     "metadata": {},
     "output_type": "display_data"
    },
    {
     "data": {
      "text/html": [
       " View run <strong style=\"color:#cdcd00\">bs_32_layer_act_SiLU_epoch_25_filter_mul_1_num_filters_512</strong> at: <a href='https://wandb.ai/A2_DA6401_DL/Lightning_CNN/runs/csxmu0ku' target=\"_blank\">https://wandb.ai/A2_DA6401_DL/Lightning_CNN/runs/csxmu0ku</a><br> View project at: <a href='https://wandb.ai/A2_DA6401_DL/Lightning_CNN' target=\"_blank\">https://wandb.ai/A2_DA6401_DL/Lightning_CNN</a><br>Synced 5 W&B file(s), 0 media file(s), 0 artifact file(s) and 0 other file(s)"
      ],
      "text/plain": [
       "<IPython.core.display.HTML object>"
      ]
     },
     "metadata": {},
     "output_type": "display_data"
    },
    {
     "data": {
      "text/html": [
       "Find logs at: <code>./wandb/run-20250417_191137-csxmu0ku/logs</code>"
      ],
      "text/plain": [
       "<IPython.core.display.HTML object>"
      ]
     },
     "metadata": {},
     "output_type": "display_data"
    },
    {
     "name": "stderr",
     "output_type": "stream",
     "text": [
      "\u001b[34m\u001b[1mwandb\u001b[0m: Agent Starting Run: yx25d0id with config:\n",
      "\u001b[34m\u001b[1mwandb\u001b[0m: \tbatch_norm_conv: True\n",
      "\u001b[34m\u001b[1mwandb\u001b[0m: \tbatch_norm_fc: True\n",
      "\u001b[34m\u001b[1mwandb\u001b[0m: \tbatch_size: 16\n",
      "\u001b[34m\u001b[1mwandb\u001b[0m: \tconv_1_filter_size: 5\n",
      "\u001b[34m\u001b[1mwandb\u001b[0m: \tconv_2_filter_size: 5\n",
      "\u001b[34m\u001b[1mwandb\u001b[0m: \tconv_3_filter_size: 5\n",
      "\u001b[34m\u001b[1mwandb\u001b[0m: \tconv_4_filter_size: 5\n",
      "\u001b[34m\u001b[1mwandb\u001b[0m: \tconv_5_filter_size: 3\n",
      "\u001b[34m\u001b[1mwandb\u001b[0m: \tconv_activation: SELU\n",
      "\u001b[34m\u001b[1mwandb\u001b[0m: \tconv_padding: [None, None, None, None, None]\n",
      "\u001b[34m\u001b[1mwandb\u001b[0m: \tconv_strides: [1, 1, 1, 1, 1]\n",
      "\u001b[34m\u001b[1mwandb\u001b[0m: \tdata_aug: True\n",
      "\u001b[34m\u001b[1mwandb\u001b[0m: \tdropout_conv: 0.1\n",
      "\u001b[34m\u001b[1mwandb\u001b[0m: \tdropout_fc: 0.3\n",
      "\u001b[34m\u001b[1mwandb\u001b[0m: \tepochs: 25\n",
      "\u001b[34m\u001b[1mwandb\u001b[0m: \tfc_activations: SELU\n",
      "\u001b[34m\u001b[1mwandb\u001b[0m: \tfc_neurons: 512\n",
      "\u001b[34m\u001b[1mwandb\u001b[0m: \tfilter_mul: 2\n",
      "\u001b[34m\u001b[1mwandb\u001b[0m: \tinput_channels: 3\n",
      "\u001b[34m\u001b[1mwandb\u001b[0m: \tinput_size: [256, 256]\n",
      "\u001b[34m\u001b[1mwandb\u001b[0m: \tlearning_rate: 0.00025\n",
      "\u001b[34m\u001b[1mwandb\u001b[0m: \tmp_layer1_kernel_size: 2\n",
      "\u001b[34m\u001b[1mwandb\u001b[0m: \tmp_layer1_stride: 2\n",
      "\u001b[34m\u001b[1mwandb\u001b[0m: \tmp_layer2_kernel_size: 3\n",
      "\u001b[34m\u001b[1mwandb\u001b[0m: \tmp_layer2_stride: 3\n",
      "\u001b[34m\u001b[1mwandb\u001b[0m: \tmp_layer3_kernel_size: 3\n",
      "\u001b[34m\u001b[1mwandb\u001b[0m: \tmp_layer3_stride: 2\n",
      "\u001b[34m\u001b[1mwandb\u001b[0m: \tmp_layer4_kernel_size: 2\n",
      "\u001b[34m\u001b[1mwandb\u001b[0m: \tmp_layer4_stride: 2\n",
      "\u001b[34m\u001b[1mwandb\u001b[0m: \tmp_layer5_kernel_size: 2\n",
      "\u001b[34m\u001b[1mwandb\u001b[0m: \tmp_layer5_stride: 3\n",
      "\u001b[34m\u001b[1mwandb\u001b[0m: \tno_of_conv_blocks: 5\n",
      "\u001b[34m\u001b[1mwandb\u001b[0m: \tno_of_fc_layers: 1\n",
      "\u001b[34m\u001b[1mwandb\u001b[0m: \tno_of_filters: 128\n",
      "\u001b[34m\u001b[1mwandb\u001b[0m: \tnum_classes: 10\n",
      "\u001b[34m\u001b[1mwandb\u001b[0m: \tnum_workers: 10\n"
     ]
    },
    {
     "data": {
      "text/html": [
       "Tracking run with wandb version 0.19.9"
      ],
      "text/plain": [
       "<IPython.core.display.HTML object>"
      ]
     },
     "metadata": {},
     "output_type": "display_data"
    },
    {
     "data": {
      "text/html": [
       "Run data is saved locally in <code>/home/joel/Pytorch_CUDA/wandb/run-20250417_191145-yx25d0id</code>"
      ],
      "text/plain": [
       "<IPython.core.display.HTML object>"
      ]
     },
     "metadata": {},
     "output_type": "display_data"
    },
    {
     "data": {
      "text/html": [
       "Syncing run <strong><a href='https://wandb.ai/A2_DA6401_DL/Lightning_CNN/runs/yx25d0id' target=\"_blank\">cerulean-sweep-123</a></strong> to <a href='https://wandb.ai/A2_DA6401_DL/Lightning_CNN' target=\"_blank\">Weights & Biases</a> (<a href='https://wandb.me/developer-guide' target=\"_blank\">docs</a>)<br>Sweep page: <a href='https://wandb.ai/A2_DA6401_DL/Lightning_CNN/sweeps/78djv91t' target=\"_blank\">https://wandb.ai/A2_DA6401_DL/Lightning_CNN/sweeps/78djv91t</a>"
      ],
      "text/plain": [
       "<IPython.core.display.HTML object>"
      ]
     },
     "metadata": {},
     "output_type": "display_data"
    },
    {
     "data": {
      "text/html": [
       " View project at <a href='https://wandb.ai/A2_DA6401_DL/Lightning_CNN' target=\"_blank\">https://wandb.ai/A2_DA6401_DL/Lightning_CNN</a>"
      ],
      "text/plain": [
       "<IPython.core.display.HTML object>"
      ]
     },
     "metadata": {},
     "output_type": "display_data"
    },
    {
     "data": {
      "text/html": [
       " View sweep at <a href='https://wandb.ai/A2_DA6401_DL/Lightning_CNN/sweeps/78djv91t' target=\"_blank\">https://wandb.ai/A2_DA6401_DL/Lightning_CNN/sweeps/78djv91t</a>"
      ],
      "text/plain": [
       "<IPython.core.display.HTML object>"
      ]
     },
     "metadata": {},
     "output_type": "display_data"
    },
    {
     "data": {
      "text/html": [
       " View run at <a href='https://wandb.ai/A2_DA6401_DL/Lightning_CNN/runs/yx25d0id' target=\"_blank\">https://wandb.ai/A2_DA6401_DL/Lightning_CNN/runs/yx25d0id</a>"
      ],
      "text/plain": [
       "<IPython.core.display.HTML object>"
      ]
     },
     "metadata": {},
     "output_type": "display_data"
    },
    {
     "name": "stdout",
     "output_type": "stream",
     "text": [
      "Not a good combination !!!\n"
     ]
    },
    {
     "data": {
      "text/html": [],
      "text/plain": [
       "<IPython.core.display.HTML object>"
      ]
     },
     "metadata": {},
     "output_type": "display_data"
    },
    {
     "data": {
      "text/html": [
       " View run <strong style=\"color:#cdcd00\">bs_16_layer_act_SELU_epoch_25_filter_mul_2_num_filters_128</strong> at: <a href='https://wandb.ai/A2_DA6401_DL/Lightning_CNN/runs/yx25d0id' target=\"_blank\">https://wandb.ai/A2_DA6401_DL/Lightning_CNN/runs/yx25d0id</a><br> View project at: <a href='https://wandb.ai/A2_DA6401_DL/Lightning_CNN' target=\"_blank\">https://wandb.ai/A2_DA6401_DL/Lightning_CNN</a><br>Synced 5 W&B file(s), 0 media file(s), 0 artifact file(s) and 0 other file(s)"
      ],
      "text/plain": [
       "<IPython.core.display.HTML object>"
      ]
     },
     "metadata": {},
     "output_type": "display_data"
    },
    {
     "data": {
      "text/html": [
       "Find logs at: <code>./wandb/run-20250417_191145-yx25d0id/logs</code>"
      ],
      "text/plain": [
       "<IPython.core.display.HTML object>"
      ]
     },
     "metadata": {},
     "output_type": "display_data"
    },
    {
     "name": "stderr",
     "output_type": "stream",
     "text": [
      "\u001b[34m\u001b[1mwandb\u001b[0m: Agent Starting Run: pwkh8nv5 with config:\n",
      "\u001b[34m\u001b[1mwandb\u001b[0m: \tbatch_norm_conv: False\n",
      "\u001b[34m\u001b[1mwandb\u001b[0m: \tbatch_norm_fc: True\n",
      "\u001b[34m\u001b[1mwandb\u001b[0m: \tbatch_size: 32\n",
      "\u001b[34m\u001b[1mwandb\u001b[0m: \tconv_1_filter_size: 5\n",
      "\u001b[34m\u001b[1mwandb\u001b[0m: \tconv_2_filter_size: 5\n",
      "\u001b[34m\u001b[1mwandb\u001b[0m: \tconv_3_filter_size: 5\n",
      "\u001b[34m\u001b[1mwandb\u001b[0m: \tconv_4_filter_size: 3\n",
      "\u001b[34m\u001b[1mwandb\u001b[0m: \tconv_5_filter_size: 5\n",
      "\u001b[34m\u001b[1mwandb\u001b[0m: \tconv_activation: Mish\n",
      "\u001b[34m\u001b[1mwandb\u001b[0m: \tconv_padding: [None, None, None, None, None]\n",
      "\u001b[34m\u001b[1mwandb\u001b[0m: \tconv_strides: [1, 1, 1, 1, 1]\n",
      "\u001b[34m\u001b[1mwandb\u001b[0m: \tdata_aug: True\n",
      "\u001b[34m\u001b[1mwandb\u001b[0m: \tdropout_conv: 0.2\n",
      "\u001b[34m\u001b[1mwandb\u001b[0m: \tdropout_fc: 0\n",
      "\u001b[34m\u001b[1mwandb\u001b[0m: \tepochs: 25\n",
      "\u001b[34m\u001b[1mwandb\u001b[0m: \tfc_activations: GELU\n",
      "\u001b[34m\u001b[1mwandb\u001b[0m: \tfc_neurons: 1024\n",
      "\u001b[34m\u001b[1mwandb\u001b[0m: \tfilter_mul: 1\n",
      "\u001b[34m\u001b[1mwandb\u001b[0m: \tinput_channels: 3\n",
      "\u001b[34m\u001b[1mwandb\u001b[0m: \tinput_size: [256, 256]\n",
      "\u001b[34m\u001b[1mwandb\u001b[0m: \tlearning_rate: 0.00025\n",
      "\u001b[34m\u001b[1mwandb\u001b[0m: \tmp_layer1_kernel_size: 2\n",
      "\u001b[34m\u001b[1mwandb\u001b[0m: \tmp_layer1_stride: None\n",
      "\u001b[34m\u001b[1mwandb\u001b[0m: \tmp_layer2_kernel_size: 3\n",
      "\u001b[34m\u001b[1mwandb\u001b[0m: \tmp_layer2_stride: 3\n",
      "\u001b[34m\u001b[1mwandb\u001b[0m: \tmp_layer3_kernel_size: 5\n",
      "\u001b[34m\u001b[1mwandb\u001b[0m: \tmp_layer3_stride: 3\n",
      "\u001b[34m\u001b[1mwandb\u001b[0m: \tmp_layer4_kernel_size: 2\n",
      "\u001b[34m\u001b[1mwandb\u001b[0m: \tmp_layer4_stride: 2\n",
      "\u001b[34m\u001b[1mwandb\u001b[0m: \tmp_layer5_kernel_size: 3\n",
      "\u001b[34m\u001b[1mwandb\u001b[0m: \tmp_layer5_stride: 2\n",
      "\u001b[34m\u001b[1mwandb\u001b[0m: \tno_of_conv_blocks: 5\n",
      "\u001b[34m\u001b[1mwandb\u001b[0m: \tno_of_fc_layers: 1\n",
      "\u001b[34m\u001b[1mwandb\u001b[0m: \tno_of_filters: 512\n",
      "\u001b[34m\u001b[1mwandb\u001b[0m: \tnum_classes: 10\n",
      "\u001b[34m\u001b[1mwandb\u001b[0m: \tnum_workers: 10\n"
     ]
    },
    {
     "data": {
      "text/html": [
       "Tracking run with wandb version 0.19.9"
      ],
      "text/plain": [
       "<IPython.core.display.HTML object>"
      ]
     },
     "metadata": {},
     "output_type": "display_data"
    },
    {
     "data": {
      "text/html": [
       "Run data is saved locally in <code>/home/joel/Pytorch_CUDA/wandb/run-20250417_191151-pwkh8nv5</code>"
      ],
      "text/plain": [
       "<IPython.core.display.HTML object>"
      ]
     },
     "metadata": {},
     "output_type": "display_data"
    },
    {
     "data": {
      "text/html": [
       "Syncing run <strong><a href='https://wandb.ai/A2_DA6401_DL/Lightning_CNN/runs/pwkh8nv5' target=\"_blank\">atomic-sweep-124</a></strong> to <a href='https://wandb.ai/A2_DA6401_DL/Lightning_CNN' target=\"_blank\">Weights & Biases</a> (<a href='https://wandb.me/developer-guide' target=\"_blank\">docs</a>)<br>Sweep page: <a href='https://wandb.ai/A2_DA6401_DL/Lightning_CNN/sweeps/78djv91t' target=\"_blank\">https://wandb.ai/A2_DA6401_DL/Lightning_CNN/sweeps/78djv91t</a>"
      ],
      "text/plain": [
       "<IPython.core.display.HTML object>"
      ]
     },
     "metadata": {},
     "output_type": "display_data"
    },
    {
     "data": {
      "text/html": [
       " View project at <a href='https://wandb.ai/A2_DA6401_DL/Lightning_CNN' target=\"_blank\">https://wandb.ai/A2_DA6401_DL/Lightning_CNN</a>"
      ],
      "text/plain": [
       "<IPython.core.display.HTML object>"
      ]
     },
     "metadata": {},
     "output_type": "display_data"
    },
    {
     "data": {
      "text/html": [
       " View sweep at <a href='https://wandb.ai/A2_DA6401_DL/Lightning_CNN/sweeps/78djv91t' target=\"_blank\">https://wandb.ai/A2_DA6401_DL/Lightning_CNN/sweeps/78djv91t</a>"
      ],
      "text/plain": [
       "<IPython.core.display.HTML object>"
      ]
     },
     "metadata": {},
     "output_type": "display_data"
    },
    {
     "data": {
      "text/html": [
       " View run at <a href='https://wandb.ai/A2_DA6401_DL/Lightning_CNN/runs/pwkh8nv5' target=\"_blank\">https://wandb.ai/A2_DA6401_DL/Lightning_CNN/runs/pwkh8nv5</a>"
      ],
      "text/plain": [
       "<IPython.core.display.HTML object>"
      ]
     },
     "metadata": {},
     "output_type": "display_data"
    },
    {
     "name": "stdout",
     "output_type": "stream",
     "text": [
      "Not a good combination !!!\n"
     ]
    },
    {
     "data": {
      "text/html": [],
      "text/plain": [
       "<IPython.core.display.HTML object>"
      ]
     },
     "metadata": {},
     "output_type": "display_data"
    },
    {
     "data": {
      "text/html": [
       " View run <strong style=\"color:#cdcd00\">bs_32_layer_act_Mish_epoch_25_filter_mul_1_num_filters_512</strong> at: <a href='https://wandb.ai/A2_DA6401_DL/Lightning_CNN/runs/pwkh8nv5' target=\"_blank\">https://wandb.ai/A2_DA6401_DL/Lightning_CNN/runs/pwkh8nv5</a><br> View project at: <a href='https://wandb.ai/A2_DA6401_DL/Lightning_CNN' target=\"_blank\">https://wandb.ai/A2_DA6401_DL/Lightning_CNN</a><br>Synced 5 W&B file(s), 0 media file(s), 0 artifact file(s) and 0 other file(s)"
      ],
      "text/plain": [
       "<IPython.core.display.HTML object>"
      ]
     },
     "metadata": {},
     "output_type": "display_data"
    },
    {
     "data": {
      "text/html": [
       "Find logs at: <code>./wandb/run-20250417_191151-pwkh8nv5/logs</code>"
      ],
      "text/plain": [
       "<IPython.core.display.HTML object>"
      ]
     },
     "metadata": {},
     "output_type": "display_data"
    },
    {
     "name": "stderr",
     "output_type": "stream",
     "text": [
      "\u001b[34m\u001b[1mwandb\u001b[0m: Agent Starting Run: 1og2bpnh with config:\n",
      "\u001b[34m\u001b[1mwandb\u001b[0m: \tbatch_norm_conv: False\n",
      "\u001b[34m\u001b[1mwandb\u001b[0m: \tbatch_norm_fc: True\n",
      "\u001b[34m\u001b[1mwandb\u001b[0m: \tbatch_size: 16\n",
      "\u001b[34m\u001b[1mwandb\u001b[0m: \tconv_1_filter_size: 3\n",
      "\u001b[34m\u001b[1mwandb\u001b[0m: \tconv_2_filter_size: 5\n",
      "\u001b[34m\u001b[1mwandb\u001b[0m: \tconv_3_filter_size: 5\n",
      "\u001b[34m\u001b[1mwandb\u001b[0m: \tconv_4_filter_size: 3\n",
      "\u001b[34m\u001b[1mwandb\u001b[0m: \tconv_5_filter_size: 5\n",
      "\u001b[34m\u001b[1mwandb\u001b[0m: \tconv_activation: Mish\n",
      "\u001b[34m\u001b[1mwandb\u001b[0m: \tconv_padding: [None, None, None, None, None]\n",
      "\u001b[34m\u001b[1mwandb\u001b[0m: \tconv_strides: [1, 1, 1, 1, 1]\n",
      "\u001b[34m\u001b[1mwandb\u001b[0m: \tdata_aug: True\n",
      "\u001b[34m\u001b[1mwandb\u001b[0m: \tdropout_conv: 0.1\n",
      "\u001b[34m\u001b[1mwandb\u001b[0m: \tdropout_fc: 0.3\n",
      "\u001b[34m\u001b[1mwandb\u001b[0m: \tepochs: 25\n",
      "\u001b[34m\u001b[1mwandb\u001b[0m: \tfc_activations: GELU\n",
      "\u001b[34m\u001b[1mwandb\u001b[0m: \tfc_neurons: 1024\n",
      "\u001b[34m\u001b[1mwandb\u001b[0m: \tfilter_mul: 1\n",
      "\u001b[34m\u001b[1mwandb\u001b[0m: \tinput_channels: 3\n",
      "\u001b[34m\u001b[1mwandb\u001b[0m: \tinput_size: [256, 256]\n",
      "\u001b[34m\u001b[1mwandb\u001b[0m: \tlearning_rate: 0.00025\n",
      "\u001b[34m\u001b[1mwandb\u001b[0m: \tmp_layer1_kernel_size: 5\n",
      "\u001b[34m\u001b[1mwandb\u001b[0m: \tmp_layer1_stride: 3\n",
      "\u001b[34m\u001b[1mwandb\u001b[0m: \tmp_layer2_kernel_size: 5\n",
      "\u001b[34m\u001b[1mwandb\u001b[0m: \tmp_layer2_stride: 3\n",
      "\u001b[34m\u001b[1mwandb\u001b[0m: \tmp_layer3_kernel_size: 3\n",
      "\u001b[34m\u001b[1mwandb\u001b[0m: \tmp_layer3_stride: 2\n",
      "\u001b[34m\u001b[1mwandb\u001b[0m: \tmp_layer4_kernel_size: 3\n",
      "\u001b[34m\u001b[1mwandb\u001b[0m: \tmp_layer4_stride: 2\n",
      "\u001b[34m\u001b[1mwandb\u001b[0m: \tmp_layer5_kernel_size: 3\n",
      "\u001b[34m\u001b[1mwandb\u001b[0m: \tmp_layer5_stride: 3\n",
      "\u001b[34m\u001b[1mwandb\u001b[0m: \tno_of_conv_blocks: 5\n",
      "\u001b[34m\u001b[1mwandb\u001b[0m: \tno_of_fc_layers: 1\n",
      "\u001b[34m\u001b[1mwandb\u001b[0m: \tno_of_filters: 16\n",
      "\u001b[34m\u001b[1mwandb\u001b[0m: \tnum_classes: 10\n",
      "\u001b[34m\u001b[1mwandb\u001b[0m: \tnum_workers: 10\n"
     ]
    },
    {
     "data": {
      "text/html": [
       "Tracking run with wandb version 0.19.9"
      ],
      "text/plain": [
       "<IPython.core.display.HTML object>"
      ]
     },
     "metadata": {},
     "output_type": "display_data"
    },
    {
     "data": {
      "text/html": [
       "Run data is saved locally in <code>/home/joel/Pytorch_CUDA/wandb/run-20250417_191157-1og2bpnh</code>"
      ],
      "text/plain": [
       "<IPython.core.display.HTML object>"
      ]
     },
     "metadata": {},
     "output_type": "display_data"
    },
    {
     "data": {
      "text/html": [
       "Syncing run <strong><a href='https://wandb.ai/A2_DA6401_DL/Lightning_CNN/runs/1og2bpnh' target=\"_blank\">volcanic-sweep-125</a></strong> to <a href='https://wandb.ai/A2_DA6401_DL/Lightning_CNN' target=\"_blank\">Weights & Biases</a> (<a href='https://wandb.me/developer-guide' target=\"_blank\">docs</a>)<br>Sweep page: <a href='https://wandb.ai/A2_DA6401_DL/Lightning_CNN/sweeps/78djv91t' target=\"_blank\">https://wandb.ai/A2_DA6401_DL/Lightning_CNN/sweeps/78djv91t</a>"
      ],
      "text/plain": [
       "<IPython.core.display.HTML object>"
      ]
     },
     "metadata": {},
     "output_type": "display_data"
    },
    {
     "data": {
      "text/html": [
       " View project at <a href='https://wandb.ai/A2_DA6401_DL/Lightning_CNN' target=\"_blank\">https://wandb.ai/A2_DA6401_DL/Lightning_CNN</a>"
      ],
      "text/plain": [
       "<IPython.core.display.HTML object>"
      ]
     },
     "metadata": {},
     "output_type": "display_data"
    },
    {
     "data": {
      "text/html": [
       " View sweep at <a href='https://wandb.ai/A2_DA6401_DL/Lightning_CNN/sweeps/78djv91t' target=\"_blank\">https://wandb.ai/A2_DA6401_DL/Lightning_CNN/sweeps/78djv91t</a>"
      ],
      "text/plain": [
       "<IPython.core.display.HTML object>"
      ]
     },
     "metadata": {},
     "output_type": "display_data"
    },
    {
     "data": {
      "text/html": [
       " View run at <a href='https://wandb.ai/A2_DA6401_DL/Lightning_CNN/runs/1og2bpnh' target=\"_blank\">https://wandb.ai/A2_DA6401_DL/Lightning_CNN/runs/1og2bpnh</a>"
      ],
      "text/plain": [
       "<IPython.core.display.HTML object>"
      ]
     },
     "metadata": {},
     "output_type": "display_data"
    },
    {
     "name": "stdout",
     "output_type": "stream",
     "text": [
      "Not a good combination !!!\n"
     ]
    },
    {
     "data": {
      "text/html": [],
      "text/plain": [
       "<IPython.core.display.HTML object>"
      ]
     },
     "metadata": {},
     "output_type": "display_data"
    },
    {
     "data": {
      "text/html": [
       " View run <strong style=\"color:#cdcd00\">bs_16_layer_act_Mish_epoch_25_filter_mul_1_num_filters_16</strong> at: <a href='https://wandb.ai/A2_DA6401_DL/Lightning_CNN/runs/1og2bpnh' target=\"_blank\">https://wandb.ai/A2_DA6401_DL/Lightning_CNN/runs/1og2bpnh</a><br> View project at: <a href='https://wandb.ai/A2_DA6401_DL/Lightning_CNN' target=\"_blank\">https://wandb.ai/A2_DA6401_DL/Lightning_CNN</a><br>Synced 5 W&B file(s), 0 media file(s), 0 artifact file(s) and 0 other file(s)"
      ],
      "text/plain": [
       "<IPython.core.display.HTML object>"
      ]
     },
     "metadata": {},
     "output_type": "display_data"
    },
    {
     "data": {
      "text/html": [
       "Find logs at: <code>./wandb/run-20250417_191157-1og2bpnh/logs</code>"
      ],
      "text/plain": [
       "<IPython.core.display.HTML object>"
      ]
     },
     "metadata": {},
     "output_type": "display_data"
    },
    {
     "name": "stderr",
     "output_type": "stream",
     "text": [
      "\u001b[34m\u001b[1mwandb\u001b[0m: Agent Starting Run: ziba54hp with config:\n",
      "\u001b[34m\u001b[1mwandb\u001b[0m: \tbatch_norm_conv: False\n",
      "\u001b[34m\u001b[1mwandb\u001b[0m: \tbatch_norm_fc: True\n",
      "\u001b[34m\u001b[1mwandb\u001b[0m: \tbatch_size: 64\n",
      "\u001b[34m\u001b[1mwandb\u001b[0m: \tconv_1_filter_size: 5\n",
      "\u001b[34m\u001b[1mwandb\u001b[0m: \tconv_2_filter_size: 5\n",
      "\u001b[34m\u001b[1mwandb\u001b[0m: \tconv_3_filter_size: 5\n",
      "\u001b[34m\u001b[1mwandb\u001b[0m: \tconv_4_filter_size: 3\n",
      "\u001b[34m\u001b[1mwandb\u001b[0m: \tconv_5_filter_size: 5\n",
      "\u001b[34m\u001b[1mwandb\u001b[0m: \tconv_activation: SELU\n",
      "\u001b[34m\u001b[1mwandb\u001b[0m: \tconv_padding: [None, None, None, None, None]\n",
      "\u001b[34m\u001b[1mwandb\u001b[0m: \tconv_strides: [1, 1, 1, 1, 1]\n",
      "\u001b[34m\u001b[1mwandb\u001b[0m: \tdata_aug: True\n",
      "\u001b[34m\u001b[1mwandb\u001b[0m: \tdropout_conv: 0.2\n",
      "\u001b[34m\u001b[1mwandb\u001b[0m: \tdropout_fc: 0\n",
      "\u001b[34m\u001b[1mwandb\u001b[0m: \tepochs: 25\n",
      "\u001b[34m\u001b[1mwandb\u001b[0m: \tfc_activations: Mish\n",
      "\u001b[34m\u001b[1mwandb\u001b[0m: \tfc_neurons: 512\n",
      "\u001b[34m\u001b[1mwandb\u001b[0m: \tfilter_mul: 1\n",
      "\u001b[34m\u001b[1mwandb\u001b[0m: \tinput_channels: 3\n",
      "\u001b[34m\u001b[1mwandb\u001b[0m: \tinput_size: [256, 256]\n",
      "\u001b[34m\u001b[1mwandb\u001b[0m: \tlearning_rate: 0.00025\n",
      "\u001b[34m\u001b[1mwandb\u001b[0m: \tmp_layer1_kernel_size: 3\n",
      "\u001b[34m\u001b[1mwandb\u001b[0m: \tmp_layer1_stride: 3\n",
      "\u001b[34m\u001b[1mwandb\u001b[0m: \tmp_layer2_kernel_size: 5\n",
      "\u001b[34m\u001b[1mwandb\u001b[0m: \tmp_layer2_stride: 2\n",
      "\u001b[34m\u001b[1mwandb\u001b[0m: \tmp_layer3_kernel_size: 3\n",
      "\u001b[34m\u001b[1mwandb\u001b[0m: \tmp_layer3_stride: 3\n",
      "\u001b[34m\u001b[1mwandb\u001b[0m: \tmp_layer4_kernel_size: 3\n",
      "\u001b[34m\u001b[1mwandb\u001b[0m: \tmp_layer4_stride: 3\n",
      "\u001b[34m\u001b[1mwandb\u001b[0m: \tmp_layer5_kernel_size: 3\n",
      "\u001b[34m\u001b[1mwandb\u001b[0m: \tmp_layer5_stride: 3\n",
      "\u001b[34m\u001b[1mwandb\u001b[0m: \tno_of_conv_blocks: 5\n",
      "\u001b[34m\u001b[1mwandb\u001b[0m: \tno_of_fc_layers: 1\n",
      "\u001b[34m\u001b[1mwandb\u001b[0m: \tno_of_filters: 256\n",
      "\u001b[34m\u001b[1mwandb\u001b[0m: \tnum_classes: 10\n",
      "\u001b[34m\u001b[1mwandb\u001b[0m: \tnum_workers: 10\n"
     ]
    },
    {
     "data": {
      "text/html": [
       "Tracking run with wandb version 0.19.9"
      ],
      "text/plain": [
       "<IPython.core.display.HTML object>"
      ]
     },
     "metadata": {},
     "output_type": "display_data"
    },
    {
     "data": {
      "text/html": [
       "Run data is saved locally in <code>/home/joel/Pytorch_CUDA/wandb/run-20250417_191202-ziba54hp</code>"
      ],
      "text/plain": [
       "<IPython.core.display.HTML object>"
      ]
     },
     "metadata": {},
     "output_type": "display_data"
    },
    {
     "data": {
      "text/html": [
       "Syncing run <strong><a href='https://wandb.ai/A2_DA6401_DL/Lightning_CNN/runs/ziba54hp' target=\"_blank\">sweet-sweep-126</a></strong> to <a href='https://wandb.ai/A2_DA6401_DL/Lightning_CNN' target=\"_blank\">Weights & Biases</a> (<a href='https://wandb.me/developer-guide' target=\"_blank\">docs</a>)<br>Sweep page: <a href='https://wandb.ai/A2_DA6401_DL/Lightning_CNN/sweeps/78djv91t' target=\"_blank\">https://wandb.ai/A2_DA6401_DL/Lightning_CNN/sweeps/78djv91t</a>"
      ],
      "text/plain": [
       "<IPython.core.display.HTML object>"
      ]
     },
     "metadata": {},
     "output_type": "display_data"
    },
    {
     "data": {
      "text/html": [
       " View project at <a href='https://wandb.ai/A2_DA6401_DL/Lightning_CNN' target=\"_blank\">https://wandb.ai/A2_DA6401_DL/Lightning_CNN</a>"
      ],
      "text/plain": [
       "<IPython.core.display.HTML object>"
      ]
     },
     "metadata": {},
     "output_type": "display_data"
    },
    {
     "data": {
      "text/html": [
       " View sweep at <a href='https://wandb.ai/A2_DA6401_DL/Lightning_CNN/sweeps/78djv91t' target=\"_blank\">https://wandb.ai/A2_DA6401_DL/Lightning_CNN/sweeps/78djv91t</a>"
      ],
      "text/plain": [
       "<IPython.core.display.HTML object>"
      ]
     },
     "metadata": {},
     "output_type": "display_data"
    },
    {
     "data": {
      "text/html": [
       " View run at <a href='https://wandb.ai/A2_DA6401_DL/Lightning_CNN/runs/ziba54hp' target=\"_blank\">https://wandb.ai/A2_DA6401_DL/Lightning_CNN/runs/ziba54hp</a>"
      ],
      "text/plain": [
       "<IPython.core.display.HTML object>"
      ]
     },
     "metadata": {},
     "output_type": "display_data"
    },
    {
     "name": "stdout",
     "output_type": "stream",
     "text": [
      "Not a good combination !!!\n"
     ]
    },
    {
     "data": {
      "text/html": [],
      "text/plain": [
       "<IPython.core.display.HTML object>"
      ]
     },
     "metadata": {},
     "output_type": "display_data"
    },
    {
     "data": {
      "text/html": [
       " View run <strong style=\"color:#cdcd00\">bs_64_layer_act_SELU_epoch_25_filter_mul_1_num_filters_256</strong> at: <a href='https://wandb.ai/A2_DA6401_DL/Lightning_CNN/runs/ziba54hp' target=\"_blank\">https://wandb.ai/A2_DA6401_DL/Lightning_CNN/runs/ziba54hp</a><br> View project at: <a href='https://wandb.ai/A2_DA6401_DL/Lightning_CNN' target=\"_blank\">https://wandb.ai/A2_DA6401_DL/Lightning_CNN</a><br>Synced 5 W&B file(s), 0 media file(s), 0 artifact file(s) and 0 other file(s)"
      ],
      "text/plain": [
       "<IPython.core.display.HTML object>"
      ]
     },
     "metadata": {},
     "output_type": "display_data"
    },
    {
     "data": {
      "text/html": [
       "Find logs at: <code>./wandb/run-20250417_191202-ziba54hp/logs</code>"
      ],
      "text/plain": [
       "<IPython.core.display.HTML object>"
      ]
     },
     "metadata": {},
     "output_type": "display_data"
    },
    {
     "name": "stderr",
     "output_type": "stream",
     "text": [
      "\u001b[34m\u001b[1mwandb\u001b[0m: Agent Starting Run: wowcadg6 with config:\n",
      "\u001b[34m\u001b[1mwandb\u001b[0m: \tbatch_norm_conv: True\n",
      "\u001b[34m\u001b[1mwandb\u001b[0m: \tbatch_norm_fc: True\n",
      "\u001b[34m\u001b[1mwandb\u001b[0m: \tbatch_size: 32\n",
      "\u001b[34m\u001b[1mwandb\u001b[0m: \tconv_1_filter_size: 3\n",
      "\u001b[34m\u001b[1mwandb\u001b[0m: \tconv_2_filter_size: 3\n",
      "\u001b[34m\u001b[1mwandb\u001b[0m: \tconv_3_filter_size: 5\n",
      "\u001b[34m\u001b[1mwandb\u001b[0m: \tconv_4_filter_size: 5\n",
      "\u001b[34m\u001b[1mwandb\u001b[0m: \tconv_5_filter_size: 5\n",
      "\u001b[34m\u001b[1mwandb\u001b[0m: \tconv_activation: SiLU\n",
      "\u001b[34m\u001b[1mwandb\u001b[0m: \tconv_padding: [None, None, None, None, None]\n",
      "\u001b[34m\u001b[1mwandb\u001b[0m: \tconv_strides: [1, 1, 1, 1, 1]\n",
      "\u001b[34m\u001b[1mwandb\u001b[0m: \tdata_aug: True\n",
      "\u001b[34m\u001b[1mwandb\u001b[0m: \tdropout_conv: 0.2\n",
      "\u001b[34m\u001b[1mwandb\u001b[0m: \tdropout_fc: 0\n",
      "\u001b[34m\u001b[1mwandb\u001b[0m: \tepochs: 25\n",
      "\u001b[34m\u001b[1mwandb\u001b[0m: \tfc_activations: LeakyReLU\n",
      "\u001b[34m\u001b[1mwandb\u001b[0m: \tfc_neurons: 1024\n",
      "\u001b[34m\u001b[1mwandb\u001b[0m: \tfilter_mul: 1\n",
      "\u001b[34m\u001b[1mwandb\u001b[0m: \tinput_channels: 3\n",
      "\u001b[34m\u001b[1mwandb\u001b[0m: \tinput_size: [256, 256]\n",
      "\u001b[34m\u001b[1mwandb\u001b[0m: \tlearning_rate: 0.00025\n",
      "\u001b[34m\u001b[1mwandb\u001b[0m: \tmp_layer1_kernel_size: 3\n",
      "\u001b[34m\u001b[1mwandb\u001b[0m: \tmp_layer1_stride: None\n",
      "\u001b[34m\u001b[1mwandb\u001b[0m: \tmp_layer2_kernel_size: 2\n",
      "\u001b[34m\u001b[1mwandb\u001b[0m: \tmp_layer2_stride: 3\n",
      "\u001b[34m\u001b[1mwandb\u001b[0m: \tmp_layer3_kernel_size: 3\n",
      "\u001b[34m\u001b[1mwandb\u001b[0m: \tmp_layer3_stride: 3\n",
      "\u001b[34m\u001b[1mwandb\u001b[0m: \tmp_layer4_kernel_size: 3\n",
      "\u001b[34m\u001b[1mwandb\u001b[0m: \tmp_layer4_stride: 3\n",
      "\u001b[34m\u001b[1mwandb\u001b[0m: \tmp_layer5_kernel_size: 2\n",
      "\u001b[34m\u001b[1mwandb\u001b[0m: \tmp_layer5_stride: 3\n",
      "\u001b[34m\u001b[1mwandb\u001b[0m: \tno_of_conv_blocks: 5\n",
      "\u001b[34m\u001b[1mwandb\u001b[0m: \tno_of_fc_layers: 1\n",
      "\u001b[34m\u001b[1mwandb\u001b[0m: \tno_of_filters: 256\n",
      "\u001b[34m\u001b[1mwandb\u001b[0m: \tnum_classes: 10\n",
      "\u001b[34m\u001b[1mwandb\u001b[0m: \tnum_workers: 10\n"
     ]
    },
    {
     "data": {
      "text/html": [
       "Tracking run with wandb version 0.19.9"
      ],
      "text/plain": [
       "<IPython.core.display.HTML object>"
      ]
     },
     "metadata": {},
     "output_type": "display_data"
    },
    {
     "data": {
      "text/html": [
       "Run data is saved locally in <code>/home/joel/Pytorch_CUDA/wandb/run-20250417_191209-wowcadg6</code>"
      ],
      "text/plain": [
       "<IPython.core.display.HTML object>"
      ]
     },
     "metadata": {},
     "output_type": "display_data"
    },
    {
     "data": {
      "text/html": [
       "Syncing run <strong><a href='https://wandb.ai/A2_DA6401_DL/Lightning_CNN/runs/wowcadg6' target=\"_blank\">fragrant-sweep-127</a></strong> to <a href='https://wandb.ai/A2_DA6401_DL/Lightning_CNN' target=\"_blank\">Weights & Biases</a> (<a href='https://wandb.me/developer-guide' target=\"_blank\">docs</a>)<br>Sweep page: <a href='https://wandb.ai/A2_DA6401_DL/Lightning_CNN/sweeps/78djv91t' target=\"_blank\">https://wandb.ai/A2_DA6401_DL/Lightning_CNN/sweeps/78djv91t</a>"
      ],
      "text/plain": [
       "<IPython.core.display.HTML object>"
      ]
     },
     "metadata": {},
     "output_type": "display_data"
    },
    {
     "data": {
      "text/html": [
       " View project at <a href='https://wandb.ai/A2_DA6401_DL/Lightning_CNN' target=\"_blank\">https://wandb.ai/A2_DA6401_DL/Lightning_CNN</a>"
      ],
      "text/plain": [
       "<IPython.core.display.HTML object>"
      ]
     },
     "metadata": {},
     "output_type": "display_data"
    },
    {
     "data": {
      "text/html": [
       " View sweep at <a href='https://wandb.ai/A2_DA6401_DL/Lightning_CNN/sweeps/78djv91t' target=\"_blank\">https://wandb.ai/A2_DA6401_DL/Lightning_CNN/sweeps/78djv91t</a>"
      ],
      "text/plain": [
       "<IPython.core.display.HTML object>"
      ]
     },
     "metadata": {},
     "output_type": "display_data"
    },
    {
     "data": {
      "text/html": [
       " View run at <a href='https://wandb.ai/A2_DA6401_DL/Lightning_CNN/runs/wowcadg6' target=\"_blank\">https://wandb.ai/A2_DA6401_DL/Lightning_CNN/runs/wowcadg6</a>"
      ],
      "text/plain": [
       "<IPython.core.display.HTML object>"
      ]
     },
     "metadata": {},
     "output_type": "display_data"
    },
    {
     "name": "stdout",
     "output_type": "stream",
     "text": [
      "Not a good combination !!!\n"
     ]
    },
    {
     "data": {
      "text/html": [],
      "text/plain": [
       "<IPython.core.display.HTML object>"
      ]
     },
     "metadata": {},
     "output_type": "display_data"
    },
    {
     "data": {
      "text/html": [
       " View run <strong style=\"color:#cdcd00\">bs_32_layer_act_SiLU_epoch_25_filter_mul_1_num_filters_256</strong> at: <a href='https://wandb.ai/A2_DA6401_DL/Lightning_CNN/runs/wowcadg6' target=\"_blank\">https://wandb.ai/A2_DA6401_DL/Lightning_CNN/runs/wowcadg6</a><br> View project at: <a href='https://wandb.ai/A2_DA6401_DL/Lightning_CNN' target=\"_blank\">https://wandb.ai/A2_DA6401_DL/Lightning_CNN</a><br>Synced 5 W&B file(s), 0 media file(s), 0 artifact file(s) and 0 other file(s)"
      ],
      "text/plain": [
       "<IPython.core.display.HTML object>"
      ]
     },
     "metadata": {},
     "output_type": "display_data"
    },
    {
     "data": {
      "text/html": [
       "Find logs at: <code>./wandb/run-20250417_191209-wowcadg6/logs</code>"
      ],
      "text/plain": [
       "<IPython.core.display.HTML object>"
      ]
     },
     "metadata": {},
     "output_type": "display_data"
    },
    {
     "name": "stderr",
     "output_type": "stream",
     "text": [
      "\u001b[34m\u001b[1mwandb\u001b[0m: Sweep Agent: Waiting for job.\n",
      "\u001b[34m\u001b[1mwandb\u001b[0m: Job received.\n",
      "\u001b[34m\u001b[1mwandb\u001b[0m: Agent Starting Run: hfmxe2o2 with config:\n",
      "\u001b[34m\u001b[1mwandb\u001b[0m: \tbatch_norm_conv: True\n",
      "\u001b[34m\u001b[1mwandb\u001b[0m: \tbatch_norm_fc: True\n",
      "\u001b[34m\u001b[1mwandb\u001b[0m: \tbatch_size: 64\n",
      "\u001b[34m\u001b[1mwandb\u001b[0m: \tconv_1_filter_size: 5\n",
      "\u001b[34m\u001b[1mwandb\u001b[0m: \tconv_2_filter_size: 5\n",
      "\u001b[34m\u001b[1mwandb\u001b[0m: \tconv_3_filter_size: 5\n",
      "\u001b[34m\u001b[1mwandb\u001b[0m: \tconv_4_filter_size: 5\n",
      "\u001b[34m\u001b[1mwandb\u001b[0m: \tconv_5_filter_size: 5\n",
      "\u001b[34m\u001b[1mwandb\u001b[0m: \tconv_activation: Mish\n",
      "\u001b[34m\u001b[1mwandb\u001b[0m: \tconv_padding: [None, None, None, None, None]\n",
      "\u001b[34m\u001b[1mwandb\u001b[0m: \tconv_strides: [1, 1, 1, 1, 1]\n",
      "\u001b[34m\u001b[1mwandb\u001b[0m: \tdata_aug: True\n",
      "\u001b[34m\u001b[1mwandb\u001b[0m: \tdropout_conv: 0.1\n",
      "\u001b[34m\u001b[1mwandb\u001b[0m: \tdropout_fc: 0\n",
      "\u001b[34m\u001b[1mwandb\u001b[0m: \tepochs: 25\n",
      "\u001b[34m\u001b[1mwandb\u001b[0m: \tfc_activations: GELU\n",
      "\u001b[34m\u001b[1mwandb\u001b[0m: \tfc_neurons: 512\n",
      "\u001b[34m\u001b[1mwandb\u001b[0m: \tfilter_mul: 1\n",
      "\u001b[34m\u001b[1mwandb\u001b[0m: \tinput_channels: 3\n",
      "\u001b[34m\u001b[1mwandb\u001b[0m: \tinput_size: [256, 256]\n",
      "\u001b[34m\u001b[1mwandb\u001b[0m: \tlearning_rate: 0.0005\n",
      "\u001b[34m\u001b[1mwandb\u001b[0m: \tmp_layer1_kernel_size: 5\n",
      "\u001b[34m\u001b[1mwandb\u001b[0m: \tmp_layer1_stride: None\n",
      "\u001b[34m\u001b[1mwandb\u001b[0m: \tmp_layer2_kernel_size: 3\n",
      "\u001b[34m\u001b[1mwandb\u001b[0m: \tmp_layer2_stride: None\n",
      "\u001b[34m\u001b[1mwandb\u001b[0m: \tmp_layer3_kernel_size: 3\n",
      "\u001b[34m\u001b[1mwandb\u001b[0m: \tmp_layer3_stride: 2\n",
      "\u001b[34m\u001b[1mwandb\u001b[0m: \tmp_layer4_kernel_size: 3\n",
      "\u001b[34m\u001b[1mwandb\u001b[0m: \tmp_layer4_stride: 2\n",
      "\u001b[34m\u001b[1mwandb\u001b[0m: \tmp_layer5_kernel_size: 3\n",
      "\u001b[34m\u001b[1mwandb\u001b[0m: \tmp_layer5_stride: 3\n",
      "\u001b[34m\u001b[1mwandb\u001b[0m: \tno_of_conv_blocks: 5\n",
      "\u001b[34m\u001b[1mwandb\u001b[0m: \tno_of_fc_layers: 1\n",
      "\u001b[34m\u001b[1mwandb\u001b[0m: \tno_of_filters: 64\n",
      "\u001b[34m\u001b[1mwandb\u001b[0m: \tnum_classes: 10\n",
      "\u001b[34m\u001b[1mwandb\u001b[0m: \tnum_workers: 10\n"
     ]
    },
    {
     "data": {
      "text/html": [
       "Tracking run with wandb version 0.19.9"
      ],
      "text/plain": [
       "<IPython.core.display.HTML object>"
      ]
     },
     "metadata": {},
     "output_type": "display_data"
    },
    {
     "data": {
      "text/html": [
       "Run data is saved locally in <code>/home/joel/Pytorch_CUDA/wandb/run-20250417_191223-hfmxe2o2</code>"
      ],
      "text/plain": [
       "<IPython.core.display.HTML object>"
      ]
     },
     "metadata": {},
     "output_type": "display_data"
    },
    {
     "data": {
      "text/html": [
       "Syncing run <strong><a href='https://wandb.ai/A2_DA6401_DL/Lightning_CNN/runs/hfmxe2o2' target=\"_blank\">polished-sweep-128</a></strong> to <a href='https://wandb.ai/A2_DA6401_DL/Lightning_CNN' target=\"_blank\">Weights & Biases</a> (<a href='https://wandb.me/developer-guide' target=\"_blank\">docs</a>)<br>Sweep page: <a href='https://wandb.ai/A2_DA6401_DL/Lightning_CNN/sweeps/78djv91t' target=\"_blank\">https://wandb.ai/A2_DA6401_DL/Lightning_CNN/sweeps/78djv91t</a>"
      ],
      "text/plain": [
       "<IPython.core.display.HTML object>"
      ]
     },
     "metadata": {},
     "output_type": "display_data"
    },
    {
     "data": {
      "text/html": [
       " View project at <a href='https://wandb.ai/A2_DA6401_DL/Lightning_CNN' target=\"_blank\">https://wandb.ai/A2_DA6401_DL/Lightning_CNN</a>"
      ],
      "text/plain": [
       "<IPython.core.display.HTML object>"
      ]
     },
     "metadata": {},
     "output_type": "display_data"
    },
    {
     "data": {
      "text/html": [
       " View sweep at <a href='https://wandb.ai/A2_DA6401_DL/Lightning_CNN/sweeps/78djv91t' target=\"_blank\">https://wandb.ai/A2_DA6401_DL/Lightning_CNN/sweeps/78djv91t</a>"
      ],
      "text/plain": [
       "<IPython.core.display.HTML object>"
      ]
     },
     "metadata": {},
     "output_type": "display_data"
    },
    {
     "data": {
      "text/html": [
       " View run at <a href='https://wandb.ai/A2_DA6401_DL/Lightning_CNN/runs/hfmxe2o2' target=\"_blank\">https://wandb.ai/A2_DA6401_DL/Lightning_CNN/runs/hfmxe2o2</a>"
      ],
      "text/plain": [
       "<IPython.core.display.HTML object>"
      ]
     },
     "metadata": {},
     "output_type": "display_data"
    },
    {
     "name": "stdout",
     "output_type": "stream",
     "text": [
      "Not a good combination !!!\n"
     ]
    },
    {
     "data": {
      "text/html": [],
      "text/plain": [
       "<IPython.core.display.HTML object>"
      ]
     },
     "metadata": {},
     "output_type": "display_data"
    },
    {
     "data": {
      "text/html": [
       " View run <strong style=\"color:#cdcd00\">bs_64_layer_act_Mish_epoch_25_filter_mul_1_num_filters_64</strong> at: <a href='https://wandb.ai/A2_DA6401_DL/Lightning_CNN/runs/hfmxe2o2' target=\"_blank\">https://wandb.ai/A2_DA6401_DL/Lightning_CNN/runs/hfmxe2o2</a><br> View project at: <a href='https://wandb.ai/A2_DA6401_DL/Lightning_CNN' target=\"_blank\">https://wandb.ai/A2_DA6401_DL/Lightning_CNN</a><br>Synced 5 W&B file(s), 0 media file(s), 0 artifact file(s) and 0 other file(s)"
      ],
      "text/plain": [
       "<IPython.core.display.HTML object>"
      ]
     },
     "metadata": {},
     "output_type": "display_data"
    },
    {
     "data": {
      "text/html": [
       "Find logs at: <code>./wandb/run-20250417_191223-hfmxe2o2/logs</code>"
      ],
      "text/plain": [
       "<IPython.core.display.HTML object>"
      ]
     },
     "metadata": {},
     "output_type": "display_data"
    },
    {
     "name": "stderr",
     "output_type": "stream",
     "text": [
      "\u001b[34m\u001b[1mwandb\u001b[0m: Agent Starting Run: gwxajnt3 with config:\n",
      "\u001b[34m\u001b[1mwandb\u001b[0m: \tbatch_norm_conv: False\n",
      "\u001b[34m\u001b[1mwandb\u001b[0m: \tbatch_norm_fc: True\n",
      "\u001b[34m\u001b[1mwandb\u001b[0m: \tbatch_size: 32\n",
      "\u001b[34m\u001b[1mwandb\u001b[0m: \tconv_1_filter_size: 3\n",
      "\u001b[34m\u001b[1mwandb\u001b[0m: \tconv_2_filter_size: 5\n",
      "\u001b[34m\u001b[1mwandb\u001b[0m: \tconv_3_filter_size: 5\n",
      "\u001b[34m\u001b[1mwandb\u001b[0m: \tconv_4_filter_size: 3\n",
      "\u001b[34m\u001b[1mwandb\u001b[0m: \tconv_5_filter_size: 5\n",
      "\u001b[34m\u001b[1mwandb\u001b[0m: \tconv_activation: GELU\n",
      "\u001b[34m\u001b[1mwandb\u001b[0m: \tconv_padding: [None, None, None, None, None]\n",
      "\u001b[34m\u001b[1mwandb\u001b[0m: \tconv_strides: [1, 1, 1, 1, 1]\n",
      "\u001b[34m\u001b[1mwandb\u001b[0m: \tdata_aug: True\n",
      "\u001b[34m\u001b[1mwandb\u001b[0m: \tdropout_conv: 0.1\n",
      "\u001b[34m\u001b[1mwandb\u001b[0m: \tdropout_fc: 0\n",
      "\u001b[34m\u001b[1mwandb\u001b[0m: \tepochs: 25\n",
      "\u001b[34m\u001b[1mwandb\u001b[0m: \tfc_activations: GELU\n",
      "\u001b[34m\u001b[1mwandb\u001b[0m: \tfc_neurons: 1024\n",
      "\u001b[34m\u001b[1mwandb\u001b[0m: \tfilter_mul: 1\n",
      "\u001b[34m\u001b[1mwandb\u001b[0m: \tinput_channels: 3\n",
      "\u001b[34m\u001b[1mwandb\u001b[0m: \tinput_size: [256, 256]\n",
      "\u001b[34m\u001b[1mwandb\u001b[0m: \tlearning_rate: 0.0005\n",
      "\u001b[34m\u001b[1mwandb\u001b[0m: \tmp_layer1_kernel_size: 5\n",
      "\u001b[34m\u001b[1mwandb\u001b[0m: \tmp_layer1_stride: 3\n",
      "\u001b[34m\u001b[1mwandb\u001b[0m: \tmp_layer2_kernel_size: 2\n",
      "\u001b[34m\u001b[1mwandb\u001b[0m: \tmp_layer2_stride: 3\n",
      "\u001b[34m\u001b[1mwandb\u001b[0m: \tmp_layer3_kernel_size: 3\n",
      "\u001b[34m\u001b[1mwandb\u001b[0m: \tmp_layer3_stride: 3\n",
      "\u001b[34m\u001b[1mwandb\u001b[0m: \tmp_layer4_kernel_size: 3\n",
      "\u001b[34m\u001b[1mwandb\u001b[0m: \tmp_layer4_stride: 2\n",
      "\u001b[34m\u001b[1mwandb\u001b[0m: \tmp_layer5_kernel_size: 2\n",
      "\u001b[34m\u001b[1mwandb\u001b[0m: \tmp_layer5_stride: 3\n",
      "\u001b[34m\u001b[1mwandb\u001b[0m: \tno_of_conv_blocks: 5\n",
      "\u001b[34m\u001b[1mwandb\u001b[0m: \tno_of_fc_layers: 1\n",
      "\u001b[34m\u001b[1mwandb\u001b[0m: \tno_of_filters: 16\n",
      "\u001b[34m\u001b[1mwandb\u001b[0m: \tnum_classes: 10\n",
      "\u001b[34m\u001b[1mwandb\u001b[0m: \tnum_workers: 10\n"
     ]
    },
    {
     "data": {
      "text/html": [
       "Tracking run with wandb version 0.19.9"
      ],
      "text/plain": [
       "<IPython.core.display.HTML object>"
      ]
     },
     "metadata": {},
     "output_type": "display_data"
    },
    {
     "data": {
      "text/html": [
       "Run data is saved locally in <code>/home/joel/Pytorch_CUDA/wandb/run-20250417_191231-gwxajnt3</code>"
      ],
      "text/plain": [
       "<IPython.core.display.HTML object>"
      ]
     },
     "metadata": {},
     "output_type": "display_data"
    },
    {
     "data": {
      "text/html": [
       "Syncing run <strong><a href='https://wandb.ai/A2_DA6401_DL/Lightning_CNN/runs/gwxajnt3' target=\"_blank\">graceful-sweep-129</a></strong> to <a href='https://wandb.ai/A2_DA6401_DL/Lightning_CNN' target=\"_blank\">Weights & Biases</a> (<a href='https://wandb.me/developer-guide' target=\"_blank\">docs</a>)<br>Sweep page: <a href='https://wandb.ai/A2_DA6401_DL/Lightning_CNN/sweeps/78djv91t' target=\"_blank\">https://wandb.ai/A2_DA6401_DL/Lightning_CNN/sweeps/78djv91t</a>"
      ],
      "text/plain": [
       "<IPython.core.display.HTML object>"
      ]
     },
     "metadata": {},
     "output_type": "display_data"
    },
    {
     "data": {
      "text/html": [
       " View project at <a href='https://wandb.ai/A2_DA6401_DL/Lightning_CNN' target=\"_blank\">https://wandb.ai/A2_DA6401_DL/Lightning_CNN</a>"
      ],
      "text/plain": [
       "<IPython.core.display.HTML object>"
      ]
     },
     "metadata": {},
     "output_type": "display_data"
    },
    {
     "data": {
      "text/html": [
       " View sweep at <a href='https://wandb.ai/A2_DA6401_DL/Lightning_CNN/sweeps/78djv91t' target=\"_blank\">https://wandb.ai/A2_DA6401_DL/Lightning_CNN/sweeps/78djv91t</a>"
      ],
      "text/plain": [
       "<IPython.core.display.HTML object>"
      ]
     },
     "metadata": {},
     "output_type": "display_data"
    },
    {
     "data": {
      "text/html": [
       " View run at <a href='https://wandb.ai/A2_DA6401_DL/Lightning_CNN/runs/gwxajnt3' target=\"_blank\">https://wandb.ai/A2_DA6401_DL/Lightning_CNN/runs/gwxajnt3</a>"
      ],
      "text/plain": [
       "<IPython.core.display.HTML object>"
      ]
     },
     "metadata": {},
     "output_type": "display_data"
    },
    {
     "name": "stdout",
     "output_type": "stream",
     "text": [
      "Not a good combination !!!\n"
     ]
    },
    {
     "data": {
      "text/html": [],
      "text/plain": [
       "<IPython.core.display.HTML object>"
      ]
     },
     "metadata": {},
     "output_type": "display_data"
    },
    {
     "data": {
      "text/html": [
       " View run <strong style=\"color:#cdcd00\">bs_32_layer_act_GELU_epoch_25_filter_mul_1_num_filters_16</strong> at: <a href='https://wandb.ai/A2_DA6401_DL/Lightning_CNN/runs/gwxajnt3' target=\"_blank\">https://wandb.ai/A2_DA6401_DL/Lightning_CNN/runs/gwxajnt3</a><br> View project at: <a href='https://wandb.ai/A2_DA6401_DL/Lightning_CNN' target=\"_blank\">https://wandb.ai/A2_DA6401_DL/Lightning_CNN</a><br>Synced 5 W&B file(s), 0 media file(s), 0 artifact file(s) and 0 other file(s)"
      ],
      "text/plain": [
       "<IPython.core.display.HTML object>"
      ]
     },
     "metadata": {},
     "output_type": "display_data"
    },
    {
     "data": {
      "text/html": [
       "Find logs at: <code>./wandb/run-20250417_191231-gwxajnt3/logs</code>"
      ],
      "text/plain": [
       "<IPython.core.display.HTML object>"
      ]
     },
     "metadata": {},
     "output_type": "display_data"
    },
    {
     "name": "stderr",
     "output_type": "stream",
     "text": [
      "\u001b[34m\u001b[1mwandb\u001b[0m: Agent Starting Run: znagd365 with config:\n",
      "\u001b[34m\u001b[1mwandb\u001b[0m: \tbatch_norm_conv: True\n",
      "\u001b[34m\u001b[1mwandb\u001b[0m: \tbatch_norm_fc: True\n",
      "\u001b[34m\u001b[1mwandb\u001b[0m: \tbatch_size: 32\n",
      "\u001b[34m\u001b[1mwandb\u001b[0m: \tconv_1_filter_size: 5\n",
      "\u001b[34m\u001b[1mwandb\u001b[0m: \tconv_2_filter_size: 3\n",
      "\u001b[34m\u001b[1mwandb\u001b[0m: \tconv_3_filter_size: 3\n",
      "\u001b[34m\u001b[1mwandb\u001b[0m: \tconv_4_filter_size: 3\n",
      "\u001b[34m\u001b[1mwandb\u001b[0m: \tconv_5_filter_size: 5\n",
      "\u001b[34m\u001b[1mwandb\u001b[0m: \tconv_activation: SiLU\n",
      "\u001b[34m\u001b[1mwandb\u001b[0m: \tconv_padding: [None, None, None, None, None]\n",
      "\u001b[34m\u001b[1mwandb\u001b[0m: \tconv_strides: [1, 1, 1, 1, 1]\n",
      "\u001b[34m\u001b[1mwandb\u001b[0m: \tdata_aug: True\n",
      "\u001b[34m\u001b[1mwandb\u001b[0m: \tdropout_conv: 0.2\n",
      "\u001b[34m\u001b[1mwandb\u001b[0m: \tdropout_fc: 0.3\n",
      "\u001b[34m\u001b[1mwandb\u001b[0m: \tepochs: 25\n",
      "\u001b[34m\u001b[1mwandb\u001b[0m: \tfc_activations: LeakyReLU\n",
      "\u001b[34m\u001b[1mwandb\u001b[0m: \tfc_neurons: 512\n",
      "\u001b[34m\u001b[1mwandb\u001b[0m: \tfilter_mul: 2\n",
      "\u001b[34m\u001b[1mwandb\u001b[0m: \tinput_channels: 3\n",
      "\u001b[34m\u001b[1mwandb\u001b[0m: \tinput_size: [256, 256]\n",
      "\u001b[34m\u001b[1mwandb\u001b[0m: \tlearning_rate: 0.00025\n",
      "\u001b[34m\u001b[1mwandb\u001b[0m: \tmp_layer1_kernel_size: 3\n",
      "\u001b[34m\u001b[1mwandb\u001b[0m: \tmp_layer1_stride: 2\n",
      "\u001b[34m\u001b[1mwandb\u001b[0m: \tmp_layer2_kernel_size: 3\n",
      "\u001b[34m\u001b[1mwandb\u001b[0m: \tmp_layer2_stride: None\n",
      "\u001b[34m\u001b[1mwandb\u001b[0m: \tmp_layer3_kernel_size: 2\n",
      "\u001b[34m\u001b[1mwandb\u001b[0m: \tmp_layer3_stride: 2\n",
      "\u001b[34m\u001b[1mwandb\u001b[0m: \tmp_layer4_kernel_size: 3\n",
      "\u001b[34m\u001b[1mwandb\u001b[0m: \tmp_layer4_stride: 2\n",
      "\u001b[34m\u001b[1mwandb\u001b[0m: \tmp_layer5_kernel_size: 2\n",
      "\u001b[34m\u001b[1mwandb\u001b[0m: \tmp_layer5_stride: 3\n",
      "\u001b[34m\u001b[1mwandb\u001b[0m: \tno_of_conv_blocks: 5\n",
      "\u001b[34m\u001b[1mwandb\u001b[0m: \tno_of_fc_layers: 1\n",
      "\u001b[34m\u001b[1mwandb\u001b[0m: \tno_of_filters: 64\n",
      "\u001b[34m\u001b[1mwandb\u001b[0m: \tnum_classes: 10\n",
      "\u001b[34m\u001b[1mwandb\u001b[0m: \tnum_workers: 10\n"
     ]
    },
    {
     "data": {
      "text/html": [
       "Tracking run with wandb version 0.19.9"
      ],
      "text/plain": [
       "<IPython.core.display.HTML object>"
      ]
     },
     "metadata": {},
     "output_type": "display_data"
    },
    {
     "data": {
      "text/html": [
       "Run data is saved locally in <code>/home/joel/Pytorch_CUDA/wandb/run-20250417_191237-znagd365</code>"
      ],
      "text/plain": [
       "<IPython.core.display.HTML object>"
      ]
     },
     "metadata": {},
     "output_type": "display_data"
    },
    {
     "data": {
      "text/html": [
       "Syncing run <strong><a href='https://wandb.ai/A2_DA6401_DL/Lightning_CNN/runs/znagd365' target=\"_blank\">lilac-sweep-130</a></strong> to <a href='https://wandb.ai/A2_DA6401_DL/Lightning_CNN' target=\"_blank\">Weights & Biases</a> (<a href='https://wandb.me/developer-guide' target=\"_blank\">docs</a>)<br>Sweep page: <a href='https://wandb.ai/A2_DA6401_DL/Lightning_CNN/sweeps/78djv91t' target=\"_blank\">https://wandb.ai/A2_DA6401_DL/Lightning_CNN/sweeps/78djv91t</a>"
      ],
      "text/plain": [
       "<IPython.core.display.HTML object>"
      ]
     },
     "metadata": {},
     "output_type": "display_data"
    },
    {
     "data": {
      "text/html": [
       " View project at <a href='https://wandb.ai/A2_DA6401_DL/Lightning_CNN' target=\"_blank\">https://wandb.ai/A2_DA6401_DL/Lightning_CNN</a>"
      ],
      "text/plain": [
       "<IPython.core.display.HTML object>"
      ]
     },
     "metadata": {},
     "output_type": "display_data"
    },
    {
     "data": {
      "text/html": [
       " View sweep at <a href='https://wandb.ai/A2_DA6401_DL/Lightning_CNN/sweeps/78djv91t' target=\"_blank\">https://wandb.ai/A2_DA6401_DL/Lightning_CNN/sweeps/78djv91t</a>"
      ],
      "text/plain": [
       "<IPython.core.display.HTML object>"
      ]
     },
     "metadata": {},
     "output_type": "display_data"
    },
    {
     "data": {
      "text/html": [
       " View run at <a href='https://wandb.ai/A2_DA6401_DL/Lightning_CNN/runs/znagd365' target=\"_blank\">https://wandb.ai/A2_DA6401_DL/Lightning_CNN/runs/znagd365</a>"
      ],
      "text/plain": [
       "<IPython.core.display.HTML object>"
      ]
     },
     "metadata": {},
     "output_type": "display_data"
    },
    {
     "name": "stdout",
     "output_type": "stream",
     "text": [
      "Not a good combination !!!\n"
     ]
    },
    {
     "data": {
      "text/html": [],
      "text/plain": [
       "<IPython.core.display.HTML object>"
      ]
     },
     "metadata": {},
     "output_type": "display_data"
    },
    {
     "data": {
      "text/html": [
       " View run <strong style=\"color:#cdcd00\">bs_32_layer_act_SiLU_epoch_25_filter_mul_2_num_filters_64</strong> at: <a href='https://wandb.ai/A2_DA6401_DL/Lightning_CNN/runs/znagd365' target=\"_blank\">https://wandb.ai/A2_DA6401_DL/Lightning_CNN/runs/znagd365</a><br> View project at: <a href='https://wandb.ai/A2_DA6401_DL/Lightning_CNN' target=\"_blank\">https://wandb.ai/A2_DA6401_DL/Lightning_CNN</a><br>Synced 5 W&B file(s), 0 media file(s), 0 artifact file(s) and 0 other file(s)"
      ],
      "text/plain": [
       "<IPython.core.display.HTML object>"
      ]
     },
     "metadata": {},
     "output_type": "display_data"
    },
    {
     "data": {
      "text/html": [
       "Find logs at: <code>./wandb/run-20250417_191237-znagd365/logs</code>"
      ],
      "text/plain": [
       "<IPython.core.display.HTML object>"
      ]
     },
     "metadata": {},
     "output_type": "display_data"
    },
    {
     "name": "stderr",
     "output_type": "stream",
     "text": [
      "\u001b[34m\u001b[1mwandb\u001b[0m: Agent Starting Run: nvukzxl1 with config:\n",
      "\u001b[34m\u001b[1mwandb\u001b[0m: \tbatch_norm_conv: True\n",
      "\u001b[34m\u001b[1mwandb\u001b[0m: \tbatch_norm_fc: True\n",
      "\u001b[34m\u001b[1mwandb\u001b[0m: \tbatch_size: 16\n",
      "\u001b[34m\u001b[1mwandb\u001b[0m: \tconv_1_filter_size: 3\n",
      "\u001b[34m\u001b[1mwandb\u001b[0m: \tconv_2_filter_size: 5\n",
      "\u001b[34m\u001b[1mwandb\u001b[0m: \tconv_3_filter_size: 5\n",
      "\u001b[34m\u001b[1mwandb\u001b[0m: \tconv_4_filter_size: 3\n",
      "\u001b[34m\u001b[1mwandb\u001b[0m: \tconv_5_filter_size: 5\n",
      "\u001b[34m\u001b[1mwandb\u001b[0m: \tconv_activation: Mish\n",
      "\u001b[34m\u001b[1mwandb\u001b[0m: \tconv_padding: [None, None, None, None, None]\n",
      "\u001b[34m\u001b[1mwandb\u001b[0m: \tconv_strides: [1, 1, 1, 1, 1]\n",
      "\u001b[34m\u001b[1mwandb\u001b[0m: \tdata_aug: True\n",
      "\u001b[34m\u001b[1mwandb\u001b[0m: \tdropout_conv: 0.2\n",
      "\u001b[34m\u001b[1mwandb\u001b[0m: \tdropout_fc: 0.2\n",
      "\u001b[34m\u001b[1mwandb\u001b[0m: \tepochs: 25\n",
      "\u001b[34m\u001b[1mwandb\u001b[0m: \tfc_activations: LeakyReLU\n",
      "\u001b[34m\u001b[1mwandb\u001b[0m: \tfc_neurons: 512\n",
      "\u001b[34m\u001b[1mwandb\u001b[0m: \tfilter_mul: 1\n",
      "\u001b[34m\u001b[1mwandb\u001b[0m: \tinput_channels: 3\n",
      "\u001b[34m\u001b[1mwandb\u001b[0m: \tinput_size: [256, 256]\n",
      "\u001b[34m\u001b[1mwandb\u001b[0m: \tlearning_rate: 0.00025\n",
      "\u001b[34m\u001b[1mwandb\u001b[0m: \tmp_layer1_kernel_size: 5\n",
      "\u001b[34m\u001b[1mwandb\u001b[0m: \tmp_layer1_stride: 2\n",
      "\u001b[34m\u001b[1mwandb\u001b[0m: \tmp_layer2_kernel_size: 5\n",
      "\u001b[34m\u001b[1mwandb\u001b[0m: \tmp_layer2_stride: 3\n",
      "\u001b[34m\u001b[1mwandb\u001b[0m: \tmp_layer3_kernel_size: 3\n",
      "\u001b[34m\u001b[1mwandb\u001b[0m: \tmp_layer3_stride: 3\n",
      "\u001b[34m\u001b[1mwandb\u001b[0m: \tmp_layer4_kernel_size: 3\n",
      "\u001b[34m\u001b[1mwandb\u001b[0m: \tmp_layer4_stride: 3\n",
      "\u001b[34m\u001b[1mwandb\u001b[0m: \tmp_layer5_kernel_size: 2\n",
      "\u001b[34m\u001b[1mwandb\u001b[0m: \tmp_layer5_stride: 2\n",
      "\u001b[34m\u001b[1mwandb\u001b[0m: \tno_of_conv_blocks: 5\n",
      "\u001b[34m\u001b[1mwandb\u001b[0m: \tno_of_fc_layers: 1\n",
      "\u001b[34m\u001b[1mwandb\u001b[0m: \tno_of_filters: 256\n",
      "\u001b[34m\u001b[1mwandb\u001b[0m: \tnum_classes: 10\n",
      "\u001b[34m\u001b[1mwandb\u001b[0m: \tnum_workers: 10\n"
     ]
    },
    {
     "data": {
      "text/html": [
       "Tracking run with wandb version 0.19.9"
      ],
      "text/plain": [
       "<IPython.core.display.HTML object>"
      ]
     },
     "metadata": {},
     "output_type": "display_data"
    },
    {
     "data": {
      "text/html": [
       "Run data is saved locally in <code>/home/joel/Pytorch_CUDA/wandb/run-20250417_191243-nvukzxl1</code>"
      ],
      "text/plain": [
       "<IPython.core.display.HTML object>"
      ]
     },
     "metadata": {},
     "output_type": "display_data"
    },
    {
     "data": {
      "text/html": [
       "Syncing run <strong><a href='https://wandb.ai/A2_DA6401_DL/Lightning_CNN/runs/nvukzxl1' target=\"_blank\">upbeat-sweep-131</a></strong> to <a href='https://wandb.ai/A2_DA6401_DL/Lightning_CNN' target=\"_blank\">Weights & Biases</a> (<a href='https://wandb.me/developer-guide' target=\"_blank\">docs</a>)<br>Sweep page: <a href='https://wandb.ai/A2_DA6401_DL/Lightning_CNN/sweeps/78djv91t' target=\"_blank\">https://wandb.ai/A2_DA6401_DL/Lightning_CNN/sweeps/78djv91t</a>"
      ],
      "text/plain": [
       "<IPython.core.display.HTML object>"
      ]
     },
     "metadata": {},
     "output_type": "display_data"
    },
    {
     "data": {
      "text/html": [
       " View project at <a href='https://wandb.ai/A2_DA6401_DL/Lightning_CNN' target=\"_blank\">https://wandb.ai/A2_DA6401_DL/Lightning_CNN</a>"
      ],
      "text/plain": [
       "<IPython.core.display.HTML object>"
      ]
     },
     "metadata": {},
     "output_type": "display_data"
    },
    {
     "data": {
      "text/html": [
       " View sweep at <a href='https://wandb.ai/A2_DA6401_DL/Lightning_CNN/sweeps/78djv91t' target=\"_blank\">https://wandb.ai/A2_DA6401_DL/Lightning_CNN/sweeps/78djv91t</a>"
      ],
      "text/plain": [
       "<IPython.core.display.HTML object>"
      ]
     },
     "metadata": {},
     "output_type": "display_data"
    },
    {
     "data": {
      "text/html": [
       " View run at <a href='https://wandb.ai/A2_DA6401_DL/Lightning_CNN/runs/nvukzxl1' target=\"_blank\">https://wandb.ai/A2_DA6401_DL/Lightning_CNN/runs/nvukzxl1</a>"
      ],
      "text/plain": [
       "<IPython.core.display.HTML object>"
      ]
     },
     "metadata": {},
     "output_type": "display_data"
    },
    {
     "name": "stdout",
     "output_type": "stream",
     "text": [
      "Not a good combination !!!\n"
     ]
    },
    {
     "data": {
      "text/html": [],
      "text/plain": [
       "<IPython.core.display.HTML object>"
      ]
     },
     "metadata": {},
     "output_type": "display_data"
    },
    {
     "data": {
      "text/html": [
       " View run <strong style=\"color:#cdcd00\">bs_16_layer_act_Mish_epoch_25_filter_mul_1_num_filters_256</strong> at: <a href='https://wandb.ai/A2_DA6401_DL/Lightning_CNN/runs/nvukzxl1' target=\"_blank\">https://wandb.ai/A2_DA6401_DL/Lightning_CNN/runs/nvukzxl1</a><br> View project at: <a href='https://wandb.ai/A2_DA6401_DL/Lightning_CNN' target=\"_blank\">https://wandb.ai/A2_DA6401_DL/Lightning_CNN</a><br>Synced 5 W&B file(s), 0 media file(s), 0 artifact file(s) and 0 other file(s)"
      ],
      "text/plain": [
       "<IPython.core.display.HTML object>"
      ]
     },
     "metadata": {},
     "output_type": "display_data"
    },
    {
     "data": {
      "text/html": [
       "Find logs at: <code>./wandb/run-20250417_191243-nvukzxl1/logs</code>"
      ],
      "text/plain": [
       "<IPython.core.display.HTML object>"
      ]
     },
     "metadata": {},
     "output_type": "display_data"
    },
    {
     "name": "stderr",
     "output_type": "stream",
     "text": [
      "\u001b[34m\u001b[1mwandb\u001b[0m: Agent Starting Run: ymwhs6v7 with config:\n",
      "\u001b[34m\u001b[1mwandb\u001b[0m: \tbatch_norm_conv: False\n",
      "\u001b[34m\u001b[1mwandb\u001b[0m: \tbatch_norm_fc: True\n",
      "\u001b[34m\u001b[1mwandb\u001b[0m: \tbatch_size: 32\n",
      "\u001b[34m\u001b[1mwandb\u001b[0m: \tconv_1_filter_size: 3\n",
      "\u001b[34m\u001b[1mwandb\u001b[0m: \tconv_2_filter_size: 5\n",
      "\u001b[34m\u001b[1mwandb\u001b[0m: \tconv_3_filter_size: 5\n",
      "\u001b[34m\u001b[1mwandb\u001b[0m: \tconv_4_filter_size: 3\n",
      "\u001b[34m\u001b[1mwandb\u001b[0m: \tconv_5_filter_size: 5\n",
      "\u001b[34m\u001b[1mwandb\u001b[0m: \tconv_activation: SiLU\n",
      "\u001b[34m\u001b[1mwandb\u001b[0m: \tconv_padding: [None, None, None, None, None]\n",
      "\u001b[34m\u001b[1mwandb\u001b[0m: \tconv_strides: [1, 1, 1, 1, 1]\n",
      "\u001b[34m\u001b[1mwandb\u001b[0m: \tdata_aug: True\n",
      "\u001b[34m\u001b[1mwandb\u001b[0m: \tdropout_conv: 0.2\n",
      "\u001b[34m\u001b[1mwandb\u001b[0m: \tdropout_fc: 0\n",
      "\u001b[34m\u001b[1mwandb\u001b[0m: \tepochs: 25\n",
      "\u001b[34m\u001b[1mwandb\u001b[0m: \tfc_activations: SELU\n",
      "\u001b[34m\u001b[1mwandb\u001b[0m: \tfc_neurons: 512\n",
      "\u001b[34m\u001b[1mwandb\u001b[0m: \tfilter_mul: 1\n",
      "\u001b[34m\u001b[1mwandb\u001b[0m: \tinput_channels: 3\n",
      "\u001b[34m\u001b[1mwandb\u001b[0m: \tinput_size: [256, 256]\n",
      "\u001b[34m\u001b[1mwandb\u001b[0m: \tlearning_rate: 0.0005\n",
      "\u001b[34m\u001b[1mwandb\u001b[0m: \tmp_layer1_kernel_size: 3\n",
      "\u001b[34m\u001b[1mwandb\u001b[0m: \tmp_layer1_stride: 2\n",
      "\u001b[34m\u001b[1mwandb\u001b[0m: \tmp_layer2_kernel_size: 3\n",
      "\u001b[34m\u001b[1mwandb\u001b[0m: \tmp_layer2_stride: 2\n",
      "\u001b[34m\u001b[1mwandb\u001b[0m: \tmp_layer3_kernel_size: 3\n",
      "\u001b[34m\u001b[1mwandb\u001b[0m: \tmp_layer3_stride: 2\n",
      "\u001b[34m\u001b[1mwandb\u001b[0m: \tmp_layer4_kernel_size: 2\n",
      "\u001b[34m\u001b[1mwandb\u001b[0m: \tmp_layer4_stride: 3\n",
      "\u001b[34m\u001b[1mwandb\u001b[0m: \tmp_layer5_kernel_size: 3\n",
      "\u001b[34m\u001b[1mwandb\u001b[0m: \tmp_layer5_stride: 3\n",
      "\u001b[34m\u001b[1mwandb\u001b[0m: \tno_of_conv_blocks: 5\n",
      "\u001b[34m\u001b[1mwandb\u001b[0m: \tno_of_fc_layers: 1\n",
      "\u001b[34m\u001b[1mwandb\u001b[0m: \tno_of_filters: 16\n",
      "\u001b[34m\u001b[1mwandb\u001b[0m: \tnum_classes: 10\n",
      "\u001b[34m\u001b[1mwandb\u001b[0m: \tnum_workers: 10\n"
     ]
    },
    {
     "data": {
      "text/html": [
       "Tracking run with wandb version 0.19.9"
      ],
      "text/plain": [
       "<IPython.core.display.HTML object>"
      ]
     },
     "metadata": {},
     "output_type": "display_data"
    },
    {
     "data": {
      "text/html": [
       "Run data is saved locally in <code>/home/joel/Pytorch_CUDA/wandb/run-20250417_191249-ymwhs6v7</code>"
      ],
      "text/plain": [
       "<IPython.core.display.HTML object>"
      ]
     },
     "metadata": {},
     "output_type": "display_data"
    },
    {
     "data": {
      "text/html": [
       "Syncing run <strong><a href='https://wandb.ai/A2_DA6401_DL/Lightning_CNN/runs/ymwhs6v7' target=\"_blank\">deep-sweep-132</a></strong> to <a href='https://wandb.ai/A2_DA6401_DL/Lightning_CNN' target=\"_blank\">Weights & Biases</a> (<a href='https://wandb.me/developer-guide' target=\"_blank\">docs</a>)<br>Sweep page: <a href='https://wandb.ai/A2_DA6401_DL/Lightning_CNN/sweeps/78djv91t' target=\"_blank\">https://wandb.ai/A2_DA6401_DL/Lightning_CNN/sweeps/78djv91t</a>"
      ],
      "text/plain": [
       "<IPython.core.display.HTML object>"
      ]
     },
     "metadata": {},
     "output_type": "display_data"
    },
    {
     "data": {
      "text/html": [
       " View project at <a href='https://wandb.ai/A2_DA6401_DL/Lightning_CNN' target=\"_blank\">https://wandb.ai/A2_DA6401_DL/Lightning_CNN</a>"
      ],
      "text/plain": [
       "<IPython.core.display.HTML object>"
      ]
     },
     "metadata": {},
     "output_type": "display_data"
    },
    {
     "data": {
      "text/html": [
       " View sweep at <a href='https://wandb.ai/A2_DA6401_DL/Lightning_CNN/sweeps/78djv91t' target=\"_blank\">https://wandb.ai/A2_DA6401_DL/Lightning_CNN/sweeps/78djv91t</a>"
      ],
      "text/plain": [
       "<IPython.core.display.HTML object>"
      ]
     },
     "metadata": {},
     "output_type": "display_data"
    },
    {
     "data": {
      "text/html": [
       " View run at <a href='https://wandb.ai/A2_DA6401_DL/Lightning_CNN/runs/ymwhs6v7' target=\"_blank\">https://wandb.ai/A2_DA6401_DL/Lightning_CNN/runs/ymwhs6v7</a>"
      ],
      "text/plain": [
       "<IPython.core.display.HTML object>"
      ]
     },
     "metadata": {},
     "output_type": "display_data"
    },
    {
     "name": "stdout",
     "output_type": "stream",
     "text": [
      "Not a good combination !!!\n"
     ]
    },
    {
     "data": {
      "text/html": [],
      "text/plain": [
       "<IPython.core.display.HTML object>"
      ]
     },
     "metadata": {},
     "output_type": "display_data"
    },
    {
     "data": {
      "text/html": [
       " View run <strong style=\"color:#cdcd00\">bs_32_layer_act_SiLU_epoch_25_filter_mul_1_num_filters_16</strong> at: <a href='https://wandb.ai/A2_DA6401_DL/Lightning_CNN/runs/ymwhs6v7' target=\"_blank\">https://wandb.ai/A2_DA6401_DL/Lightning_CNN/runs/ymwhs6v7</a><br> View project at: <a href='https://wandb.ai/A2_DA6401_DL/Lightning_CNN' target=\"_blank\">https://wandb.ai/A2_DA6401_DL/Lightning_CNN</a><br>Synced 5 W&B file(s), 0 media file(s), 0 artifact file(s) and 0 other file(s)"
      ],
      "text/plain": [
       "<IPython.core.display.HTML object>"
      ]
     },
     "metadata": {},
     "output_type": "display_data"
    },
    {
     "data": {
      "text/html": [
       "Find logs at: <code>./wandb/run-20250417_191249-ymwhs6v7/logs</code>"
      ],
      "text/plain": [
       "<IPython.core.display.HTML object>"
      ]
     },
     "metadata": {},
     "output_type": "display_data"
    },
    {
     "name": "stderr",
     "output_type": "stream",
     "text": [
      "\u001b[34m\u001b[1mwandb\u001b[0m: Sweep Agent: Waiting for job.\n",
      "\u001b[34m\u001b[1mwandb\u001b[0m: Job received.\n",
      "\u001b[34m\u001b[1mwandb\u001b[0m: Agent Starting Run: 59eh678e with config:\n",
      "\u001b[34m\u001b[1mwandb\u001b[0m: \tbatch_norm_conv: True\n",
      "\u001b[34m\u001b[1mwandb\u001b[0m: \tbatch_norm_fc: True\n",
      "\u001b[34m\u001b[1mwandb\u001b[0m: \tbatch_size: 32\n",
      "\u001b[34m\u001b[1mwandb\u001b[0m: \tconv_1_filter_size: 5\n",
      "\u001b[34m\u001b[1mwandb\u001b[0m: \tconv_2_filter_size: 5\n",
      "\u001b[34m\u001b[1mwandb\u001b[0m: \tconv_3_filter_size: 5\n",
      "\u001b[34m\u001b[1mwandb\u001b[0m: \tconv_4_filter_size: 5\n",
      "\u001b[34m\u001b[1mwandb\u001b[0m: \tconv_5_filter_size: 5\n",
      "\u001b[34m\u001b[1mwandb\u001b[0m: \tconv_activation: SiLU\n",
      "\u001b[34m\u001b[1mwandb\u001b[0m: \tconv_padding: [None, None, None, None, None]\n",
      "\u001b[34m\u001b[1mwandb\u001b[0m: \tconv_strides: [1, 1, 1, 1, 1]\n",
      "\u001b[34m\u001b[1mwandb\u001b[0m: \tdata_aug: True\n",
      "\u001b[34m\u001b[1mwandb\u001b[0m: \tdropout_conv: 0\n",
      "\u001b[34m\u001b[1mwandb\u001b[0m: \tdropout_fc: 0.3\n",
      "\u001b[34m\u001b[1mwandb\u001b[0m: \tepochs: 25\n",
      "\u001b[34m\u001b[1mwandb\u001b[0m: \tfc_activations: LeakyReLU\n",
      "\u001b[34m\u001b[1mwandb\u001b[0m: \tfc_neurons: 1024\n",
      "\u001b[34m\u001b[1mwandb\u001b[0m: \tfilter_mul: 1\n",
      "\u001b[34m\u001b[1mwandb\u001b[0m: \tinput_channels: 3\n",
      "\u001b[34m\u001b[1mwandb\u001b[0m: \tinput_size: [256, 256]\n",
      "\u001b[34m\u001b[1mwandb\u001b[0m: \tlearning_rate: 0.00025\n",
      "\u001b[34m\u001b[1mwandb\u001b[0m: \tmp_layer1_kernel_size: 3\n",
      "\u001b[34m\u001b[1mwandb\u001b[0m: \tmp_layer1_stride: 2\n",
      "\u001b[34m\u001b[1mwandb\u001b[0m: \tmp_layer2_kernel_size: 2\n",
      "\u001b[34m\u001b[1mwandb\u001b[0m: \tmp_layer2_stride: None\n",
      "\u001b[34m\u001b[1mwandb\u001b[0m: \tmp_layer3_kernel_size: 3\n",
      "\u001b[34m\u001b[1mwandb\u001b[0m: \tmp_layer3_stride: 3\n",
      "\u001b[34m\u001b[1mwandb\u001b[0m: \tmp_layer4_kernel_size: 3\n",
      "\u001b[34m\u001b[1mwandb\u001b[0m: \tmp_layer4_stride: 3\n",
      "\u001b[34m\u001b[1mwandb\u001b[0m: \tmp_layer5_kernel_size: 2\n",
      "\u001b[34m\u001b[1mwandb\u001b[0m: \tmp_layer5_stride: 2\n",
      "\u001b[34m\u001b[1mwandb\u001b[0m: \tno_of_conv_blocks: 5\n",
      "\u001b[34m\u001b[1mwandb\u001b[0m: \tno_of_fc_layers: 1\n",
      "\u001b[34m\u001b[1mwandb\u001b[0m: \tno_of_filters: 8\n",
      "\u001b[34m\u001b[1mwandb\u001b[0m: \tnum_classes: 10\n",
      "\u001b[34m\u001b[1mwandb\u001b[0m: \tnum_workers: 10\n"
     ]
    },
    {
     "data": {
      "text/html": [
       "Tracking run with wandb version 0.19.9"
      ],
      "text/plain": [
       "<IPython.core.display.HTML object>"
      ]
     },
     "metadata": {},
     "output_type": "display_data"
    },
    {
     "data": {
      "text/html": [
       "Run data is saved locally in <code>/home/joel/Pytorch_CUDA/wandb/run-20250417_191303-59eh678e</code>"
      ],
      "text/plain": [
       "<IPython.core.display.HTML object>"
      ]
     },
     "metadata": {},
     "output_type": "display_data"
    },
    {
     "data": {
      "text/html": [
       "Syncing run <strong><a href='https://wandb.ai/A2_DA6401_DL/Lightning_CNN/runs/59eh678e' target=\"_blank\">different-sweep-133</a></strong> to <a href='https://wandb.ai/A2_DA6401_DL/Lightning_CNN' target=\"_blank\">Weights & Biases</a> (<a href='https://wandb.me/developer-guide' target=\"_blank\">docs</a>)<br>Sweep page: <a href='https://wandb.ai/A2_DA6401_DL/Lightning_CNN/sweeps/78djv91t' target=\"_blank\">https://wandb.ai/A2_DA6401_DL/Lightning_CNN/sweeps/78djv91t</a>"
      ],
      "text/plain": [
       "<IPython.core.display.HTML object>"
      ]
     },
     "metadata": {},
     "output_type": "display_data"
    },
    {
     "data": {
      "text/html": [
       " View project at <a href='https://wandb.ai/A2_DA6401_DL/Lightning_CNN' target=\"_blank\">https://wandb.ai/A2_DA6401_DL/Lightning_CNN</a>"
      ],
      "text/plain": [
       "<IPython.core.display.HTML object>"
      ]
     },
     "metadata": {},
     "output_type": "display_data"
    },
    {
     "data": {
      "text/html": [
       " View sweep at <a href='https://wandb.ai/A2_DA6401_DL/Lightning_CNN/sweeps/78djv91t' target=\"_blank\">https://wandb.ai/A2_DA6401_DL/Lightning_CNN/sweeps/78djv91t</a>"
      ],
      "text/plain": [
       "<IPython.core.display.HTML object>"
      ]
     },
     "metadata": {},
     "output_type": "display_data"
    },
    {
     "data": {
      "text/html": [
       " View run at <a href='https://wandb.ai/A2_DA6401_DL/Lightning_CNN/runs/59eh678e' target=\"_blank\">https://wandb.ai/A2_DA6401_DL/Lightning_CNN/runs/59eh678e</a>"
      ],
      "text/plain": [
       "<IPython.core.display.HTML object>"
      ]
     },
     "metadata": {},
     "output_type": "display_data"
    },
    {
     "name": "stdout",
     "output_type": "stream",
     "text": [
      "Not a good combination !!!\n"
     ]
    },
    {
     "data": {
      "text/html": [],
      "text/plain": [
       "<IPython.core.display.HTML object>"
      ]
     },
     "metadata": {},
     "output_type": "display_data"
    },
    {
     "data": {
      "text/html": [
       " View run <strong style=\"color:#cdcd00\">bs_32_layer_act_SiLU_epoch_25_filter_mul_1_num_filters_8</strong> at: <a href='https://wandb.ai/A2_DA6401_DL/Lightning_CNN/runs/59eh678e' target=\"_blank\">https://wandb.ai/A2_DA6401_DL/Lightning_CNN/runs/59eh678e</a><br> View project at: <a href='https://wandb.ai/A2_DA6401_DL/Lightning_CNN' target=\"_blank\">https://wandb.ai/A2_DA6401_DL/Lightning_CNN</a><br>Synced 5 W&B file(s), 0 media file(s), 0 artifact file(s) and 0 other file(s)"
      ],
      "text/plain": [
       "<IPython.core.display.HTML object>"
      ]
     },
     "metadata": {},
     "output_type": "display_data"
    },
    {
     "data": {
      "text/html": [
       "Find logs at: <code>./wandb/run-20250417_191303-59eh678e/logs</code>"
      ],
      "text/plain": [
       "<IPython.core.display.HTML object>"
      ]
     },
     "metadata": {},
     "output_type": "display_data"
    },
    {
     "name": "stderr",
     "output_type": "stream",
     "text": [
      "\u001b[34m\u001b[1mwandb\u001b[0m: Agent Starting Run: gjfjhc4l with config:\n",
      "\u001b[34m\u001b[1mwandb\u001b[0m: \tbatch_norm_conv: False\n",
      "\u001b[34m\u001b[1mwandb\u001b[0m: \tbatch_norm_fc: True\n",
      "\u001b[34m\u001b[1mwandb\u001b[0m: \tbatch_size: 64\n",
      "\u001b[34m\u001b[1mwandb\u001b[0m: \tconv_1_filter_size: 5\n",
      "\u001b[34m\u001b[1mwandb\u001b[0m: \tconv_2_filter_size: 3\n",
      "\u001b[34m\u001b[1mwandb\u001b[0m: \tconv_3_filter_size: 3\n",
      "\u001b[34m\u001b[1mwandb\u001b[0m: \tconv_4_filter_size: 5\n",
      "\u001b[34m\u001b[1mwandb\u001b[0m: \tconv_5_filter_size: 5\n",
      "\u001b[34m\u001b[1mwandb\u001b[0m: \tconv_activation: SiLU\n",
      "\u001b[34m\u001b[1mwandb\u001b[0m: \tconv_padding: [None, None, None, None, None]\n",
      "\u001b[34m\u001b[1mwandb\u001b[0m: \tconv_strides: [1, 1, 1, 1, 1]\n",
      "\u001b[34m\u001b[1mwandb\u001b[0m: \tdata_aug: True\n",
      "\u001b[34m\u001b[1mwandb\u001b[0m: \tdropout_conv: 0.1\n",
      "\u001b[34m\u001b[1mwandb\u001b[0m: \tdropout_fc: 0.3\n",
      "\u001b[34m\u001b[1mwandb\u001b[0m: \tepochs: 25\n",
      "\u001b[34m\u001b[1mwandb\u001b[0m: \tfc_activations: Mish\n",
      "\u001b[34m\u001b[1mwandb\u001b[0m: \tfc_neurons: 1024\n",
      "\u001b[34m\u001b[1mwandb\u001b[0m: \tfilter_mul: 1\n",
      "\u001b[34m\u001b[1mwandb\u001b[0m: \tinput_channels: 3\n",
      "\u001b[34m\u001b[1mwandb\u001b[0m: \tinput_size: [256, 256]\n",
      "\u001b[34m\u001b[1mwandb\u001b[0m: \tlearning_rate: 0.00025\n",
      "\u001b[34m\u001b[1mwandb\u001b[0m: \tmp_layer1_kernel_size: 3\n",
      "\u001b[34m\u001b[1mwandb\u001b[0m: \tmp_layer1_stride: None\n",
      "\u001b[34m\u001b[1mwandb\u001b[0m: \tmp_layer2_kernel_size: 3\n",
      "\u001b[34m\u001b[1mwandb\u001b[0m: \tmp_layer2_stride: None\n",
      "\u001b[34m\u001b[1mwandb\u001b[0m: \tmp_layer3_kernel_size: 2\n",
      "\u001b[34m\u001b[1mwandb\u001b[0m: \tmp_layer3_stride: 3\n",
      "\u001b[34m\u001b[1mwandb\u001b[0m: \tmp_layer4_kernel_size: 2\n",
      "\u001b[34m\u001b[1mwandb\u001b[0m: \tmp_layer4_stride: 3\n",
      "\u001b[34m\u001b[1mwandb\u001b[0m: \tmp_layer5_kernel_size: 3\n",
      "\u001b[34m\u001b[1mwandb\u001b[0m: \tmp_layer5_stride: 3\n",
      "\u001b[34m\u001b[1mwandb\u001b[0m: \tno_of_conv_blocks: 5\n",
      "\u001b[34m\u001b[1mwandb\u001b[0m: \tno_of_fc_layers: 1\n",
      "\u001b[34m\u001b[1mwandb\u001b[0m: \tno_of_filters: 32\n",
      "\u001b[34m\u001b[1mwandb\u001b[0m: \tnum_classes: 10\n",
      "\u001b[34m\u001b[1mwandb\u001b[0m: \tnum_workers: 10\n"
     ]
    },
    {
     "data": {
      "text/html": [
       "Tracking run with wandb version 0.19.9"
      ],
      "text/plain": [
       "<IPython.core.display.HTML object>"
      ]
     },
     "metadata": {},
     "output_type": "display_data"
    },
    {
     "data": {
      "text/html": [
       "Run data is saved locally in <code>/home/joel/Pytorch_CUDA/wandb/run-20250417_191311-gjfjhc4l</code>"
      ],
      "text/plain": [
       "<IPython.core.display.HTML object>"
      ]
     },
     "metadata": {},
     "output_type": "display_data"
    },
    {
     "data": {
      "text/html": [
       "Syncing run <strong><a href='https://wandb.ai/A2_DA6401_DL/Lightning_CNN/runs/gjfjhc4l' target=\"_blank\">restful-sweep-134</a></strong> to <a href='https://wandb.ai/A2_DA6401_DL/Lightning_CNN' target=\"_blank\">Weights & Biases</a> (<a href='https://wandb.me/developer-guide' target=\"_blank\">docs</a>)<br>Sweep page: <a href='https://wandb.ai/A2_DA6401_DL/Lightning_CNN/sweeps/78djv91t' target=\"_blank\">https://wandb.ai/A2_DA6401_DL/Lightning_CNN/sweeps/78djv91t</a>"
      ],
      "text/plain": [
       "<IPython.core.display.HTML object>"
      ]
     },
     "metadata": {},
     "output_type": "display_data"
    },
    {
     "data": {
      "text/html": [
       " View project at <a href='https://wandb.ai/A2_DA6401_DL/Lightning_CNN' target=\"_blank\">https://wandb.ai/A2_DA6401_DL/Lightning_CNN</a>"
      ],
      "text/plain": [
       "<IPython.core.display.HTML object>"
      ]
     },
     "metadata": {},
     "output_type": "display_data"
    },
    {
     "data": {
      "text/html": [
       " View sweep at <a href='https://wandb.ai/A2_DA6401_DL/Lightning_CNN/sweeps/78djv91t' target=\"_blank\">https://wandb.ai/A2_DA6401_DL/Lightning_CNN/sweeps/78djv91t</a>"
      ],
      "text/plain": [
       "<IPython.core.display.HTML object>"
      ]
     },
     "metadata": {},
     "output_type": "display_data"
    },
    {
     "data": {
      "text/html": [
       " View run at <a href='https://wandb.ai/A2_DA6401_DL/Lightning_CNN/runs/gjfjhc4l' target=\"_blank\">https://wandb.ai/A2_DA6401_DL/Lightning_CNN/runs/gjfjhc4l</a>"
      ],
      "text/plain": [
       "<IPython.core.display.HTML object>"
      ]
     },
     "metadata": {},
     "output_type": "display_data"
    },
    {
     "name": "stdout",
     "output_type": "stream",
     "text": [
      "Not a good combination !!!\n"
     ]
    },
    {
     "data": {
      "text/html": [],
      "text/plain": [
       "<IPython.core.display.HTML object>"
      ]
     },
     "metadata": {},
     "output_type": "display_data"
    },
    {
     "data": {
      "text/html": [
       " View run <strong style=\"color:#cdcd00\">bs_64_layer_act_SiLU_epoch_25_filter_mul_1_num_filters_32</strong> at: <a href='https://wandb.ai/A2_DA6401_DL/Lightning_CNN/runs/gjfjhc4l' target=\"_blank\">https://wandb.ai/A2_DA6401_DL/Lightning_CNN/runs/gjfjhc4l</a><br> View project at: <a href='https://wandb.ai/A2_DA6401_DL/Lightning_CNN' target=\"_blank\">https://wandb.ai/A2_DA6401_DL/Lightning_CNN</a><br>Synced 5 W&B file(s), 0 media file(s), 0 artifact file(s) and 0 other file(s)"
      ],
      "text/plain": [
       "<IPython.core.display.HTML object>"
      ]
     },
     "metadata": {},
     "output_type": "display_data"
    },
    {
     "data": {
      "text/html": [
       "Find logs at: <code>./wandb/run-20250417_191311-gjfjhc4l/logs</code>"
      ],
      "text/plain": [
       "<IPython.core.display.HTML object>"
      ]
     },
     "metadata": {},
     "output_type": "display_data"
    },
    {
     "name": "stderr",
     "output_type": "stream",
     "text": [
      "\u001b[34m\u001b[1mwandb\u001b[0m: Agent Starting Run: f0bzgmd1 with config:\n",
      "\u001b[34m\u001b[1mwandb\u001b[0m: \tbatch_norm_conv: True\n",
      "\u001b[34m\u001b[1mwandb\u001b[0m: \tbatch_norm_fc: True\n",
      "\u001b[34m\u001b[1mwandb\u001b[0m: \tbatch_size: 16\n",
      "\u001b[34m\u001b[1mwandb\u001b[0m: \tconv_1_filter_size: 3\n",
      "\u001b[34m\u001b[1mwandb\u001b[0m: \tconv_2_filter_size: 5\n",
      "\u001b[34m\u001b[1mwandb\u001b[0m: \tconv_3_filter_size: 3\n",
      "\u001b[34m\u001b[1mwandb\u001b[0m: \tconv_4_filter_size: 3\n",
      "\u001b[34m\u001b[1mwandb\u001b[0m: \tconv_5_filter_size: 5\n",
      "\u001b[34m\u001b[1mwandb\u001b[0m: \tconv_activation: Mish\n",
      "\u001b[34m\u001b[1mwandb\u001b[0m: \tconv_padding: [None, None, None, None, None]\n",
      "\u001b[34m\u001b[1mwandb\u001b[0m: \tconv_strides: [1, 1, 1, 1, 1]\n",
      "\u001b[34m\u001b[1mwandb\u001b[0m: \tdata_aug: True\n",
      "\u001b[34m\u001b[1mwandb\u001b[0m: \tdropout_conv: 0.1\n",
      "\u001b[34m\u001b[1mwandb\u001b[0m: \tdropout_fc: 0\n",
      "\u001b[34m\u001b[1mwandb\u001b[0m: \tepochs: 25\n",
      "\u001b[34m\u001b[1mwandb\u001b[0m: \tfc_activations: Mish\n",
      "\u001b[34m\u001b[1mwandb\u001b[0m: \tfc_neurons: 1024\n",
      "\u001b[34m\u001b[1mwandb\u001b[0m: \tfilter_mul: 1\n",
      "\u001b[34m\u001b[1mwandb\u001b[0m: \tinput_channels: 3\n",
      "\u001b[34m\u001b[1mwandb\u001b[0m: \tinput_size: [256, 256]\n",
      "\u001b[34m\u001b[1mwandb\u001b[0m: \tlearning_rate: 0.00025\n",
      "\u001b[34m\u001b[1mwandb\u001b[0m: \tmp_layer1_kernel_size: 3\n",
      "\u001b[34m\u001b[1mwandb\u001b[0m: \tmp_layer1_stride: 2\n",
      "\u001b[34m\u001b[1mwandb\u001b[0m: \tmp_layer2_kernel_size: 5\n",
      "\u001b[34m\u001b[1mwandb\u001b[0m: \tmp_layer2_stride: None\n",
      "\u001b[34m\u001b[1mwandb\u001b[0m: \tmp_layer3_kernel_size: 2\n",
      "\u001b[34m\u001b[1mwandb\u001b[0m: \tmp_layer3_stride: 3\n",
      "\u001b[34m\u001b[1mwandb\u001b[0m: \tmp_layer4_kernel_size: 2\n",
      "\u001b[34m\u001b[1mwandb\u001b[0m: \tmp_layer4_stride: 2\n",
      "\u001b[34m\u001b[1mwandb\u001b[0m: \tmp_layer5_kernel_size: 3\n",
      "\u001b[34m\u001b[1mwandb\u001b[0m: \tmp_layer5_stride: 3\n",
      "\u001b[34m\u001b[1mwandb\u001b[0m: \tno_of_conv_blocks: 5\n",
      "\u001b[34m\u001b[1mwandb\u001b[0m: \tno_of_fc_layers: 1\n",
      "\u001b[34m\u001b[1mwandb\u001b[0m: \tno_of_filters: 8\n",
      "\u001b[34m\u001b[1mwandb\u001b[0m: \tnum_classes: 10\n",
      "\u001b[34m\u001b[1mwandb\u001b[0m: \tnum_workers: 10\n"
     ]
    },
    {
     "data": {
      "text/html": [],
      "text/plain": [
       "<IPython.core.display.HTML object>"
      ]
     },
     "metadata": {},
     "output_type": "display_data"
    },
    {
     "data": {
      "text/html": [
       "Tracking run with wandb version 0.19.9"
      ],
      "text/plain": [
       "<IPython.core.display.HTML object>"
      ]
     },
     "metadata": {},
     "output_type": "display_data"
    },
    {
     "data": {
      "text/html": [
       "Run data is saved locally in <code>/home/joel/Pytorch_CUDA/wandb/run-20250417_191318-f0bzgmd1</code>"
      ],
      "text/plain": [
       "<IPython.core.display.HTML object>"
      ]
     },
     "metadata": {},
     "output_type": "display_data"
    },
    {
     "data": {
      "text/html": [
       "Syncing run <strong><a href='https://wandb.ai/A2_DA6401_DL/Lightning_CNN/runs/f0bzgmd1' target=\"_blank\">efficient-sweep-135</a></strong> to <a href='https://wandb.ai/A2_DA6401_DL/Lightning_CNN' target=\"_blank\">Weights & Biases</a> (<a href='https://wandb.me/developer-guide' target=\"_blank\">docs</a>)<br>Sweep page: <a href='https://wandb.ai/A2_DA6401_DL/Lightning_CNN/sweeps/78djv91t' target=\"_blank\">https://wandb.ai/A2_DA6401_DL/Lightning_CNN/sweeps/78djv91t</a>"
      ],
      "text/plain": [
       "<IPython.core.display.HTML object>"
      ]
     },
     "metadata": {},
     "output_type": "display_data"
    },
    {
     "data": {
      "text/html": [
       " View project at <a href='https://wandb.ai/A2_DA6401_DL/Lightning_CNN' target=\"_blank\">https://wandb.ai/A2_DA6401_DL/Lightning_CNN</a>"
      ],
      "text/plain": [
       "<IPython.core.display.HTML object>"
      ]
     },
     "metadata": {},
     "output_type": "display_data"
    },
    {
     "data": {
      "text/html": [
       " View sweep at <a href='https://wandb.ai/A2_DA6401_DL/Lightning_CNN/sweeps/78djv91t' target=\"_blank\">https://wandb.ai/A2_DA6401_DL/Lightning_CNN/sweeps/78djv91t</a>"
      ],
      "text/plain": [
       "<IPython.core.display.HTML object>"
      ]
     },
     "metadata": {},
     "output_type": "display_data"
    },
    {
     "data": {
      "text/html": [
       " View run at <a href='https://wandb.ai/A2_DA6401_DL/Lightning_CNN/runs/f0bzgmd1' target=\"_blank\">https://wandb.ai/A2_DA6401_DL/Lightning_CNN/runs/f0bzgmd1</a>"
      ],
      "text/plain": [
       "<IPython.core.display.HTML object>"
      ]
     },
     "metadata": {},
     "output_type": "display_data"
    },
    {
     "name": "stdout",
     "output_type": "stream",
     "text": [
      "Not a good combination !!!\n"
     ]
    },
    {
     "data": {
      "text/html": [],
      "text/plain": [
       "<IPython.core.display.HTML object>"
      ]
     },
     "metadata": {},
     "output_type": "display_data"
    },
    {
     "data": {
      "text/html": [
       " View run <strong style=\"color:#cdcd00\">bs_16_layer_act_Mish_epoch_25_filter_mul_1_num_filters_8</strong> at: <a href='https://wandb.ai/A2_DA6401_DL/Lightning_CNN/runs/f0bzgmd1' target=\"_blank\">https://wandb.ai/A2_DA6401_DL/Lightning_CNN/runs/f0bzgmd1</a><br> View project at: <a href='https://wandb.ai/A2_DA6401_DL/Lightning_CNN' target=\"_blank\">https://wandb.ai/A2_DA6401_DL/Lightning_CNN</a><br>Synced 5 W&B file(s), 0 media file(s), 0 artifact file(s) and 0 other file(s)"
      ],
      "text/plain": [
       "<IPython.core.display.HTML object>"
      ]
     },
     "metadata": {},
     "output_type": "display_data"
    },
    {
     "data": {
      "text/html": [
       "Find logs at: <code>./wandb/run-20250417_191318-f0bzgmd1/logs</code>"
      ],
      "text/plain": [
       "<IPython.core.display.HTML object>"
      ]
     },
     "metadata": {},
     "output_type": "display_data"
    },
    {
     "name": "stderr",
     "output_type": "stream",
     "text": [
      "\u001b[34m\u001b[1mwandb\u001b[0m: Agent Starting Run: rfpozsno with config:\n",
      "\u001b[34m\u001b[1mwandb\u001b[0m: \tbatch_norm_conv: False\n",
      "\u001b[34m\u001b[1mwandb\u001b[0m: \tbatch_norm_fc: True\n",
      "\u001b[34m\u001b[1mwandb\u001b[0m: \tbatch_size: 64\n",
      "\u001b[34m\u001b[1mwandb\u001b[0m: \tconv_1_filter_size: 5\n",
      "\u001b[34m\u001b[1mwandb\u001b[0m: \tconv_2_filter_size: 5\n",
      "\u001b[34m\u001b[1mwandb\u001b[0m: \tconv_3_filter_size: 3\n",
      "\u001b[34m\u001b[1mwandb\u001b[0m: \tconv_4_filter_size: 5\n",
      "\u001b[34m\u001b[1mwandb\u001b[0m: \tconv_5_filter_size: 5\n",
      "\u001b[34m\u001b[1mwandb\u001b[0m: \tconv_activation: Mish\n",
      "\u001b[34m\u001b[1mwandb\u001b[0m: \tconv_padding: [None, None, None, None, None]\n",
      "\u001b[34m\u001b[1mwandb\u001b[0m: \tconv_strides: [1, 1, 1, 1, 1]\n",
      "\u001b[34m\u001b[1mwandb\u001b[0m: \tdata_aug: True\n",
      "\u001b[34m\u001b[1mwandb\u001b[0m: \tdropout_conv: 0\n",
      "\u001b[34m\u001b[1mwandb\u001b[0m: \tdropout_fc: 0.2\n",
      "\u001b[34m\u001b[1mwandb\u001b[0m: \tepochs: 25\n",
      "\u001b[34m\u001b[1mwandb\u001b[0m: \tfc_activations: LeakyReLU\n",
      "\u001b[34m\u001b[1mwandb\u001b[0m: \tfc_neurons: 1024\n",
      "\u001b[34m\u001b[1mwandb\u001b[0m: \tfilter_mul: 1\n",
      "\u001b[34m\u001b[1mwandb\u001b[0m: \tinput_channels: 3\n",
      "\u001b[34m\u001b[1mwandb\u001b[0m: \tinput_size: [256, 256]\n",
      "\u001b[34m\u001b[1mwandb\u001b[0m: \tlearning_rate: 0.00025\n",
      "\u001b[34m\u001b[1mwandb\u001b[0m: \tmp_layer1_kernel_size: 3\n",
      "\u001b[34m\u001b[1mwandb\u001b[0m: \tmp_layer1_stride: None\n",
      "\u001b[34m\u001b[1mwandb\u001b[0m: \tmp_layer2_kernel_size: 3\n",
      "\u001b[34m\u001b[1mwandb\u001b[0m: \tmp_layer2_stride: 2\n",
      "\u001b[34m\u001b[1mwandb\u001b[0m: \tmp_layer3_kernel_size: 5\n",
      "\u001b[34m\u001b[1mwandb\u001b[0m: \tmp_layer3_stride: 3\n",
      "\u001b[34m\u001b[1mwandb\u001b[0m: \tmp_layer4_kernel_size: 3\n",
      "\u001b[34m\u001b[1mwandb\u001b[0m: \tmp_layer4_stride: 3\n",
      "\u001b[34m\u001b[1mwandb\u001b[0m: \tmp_layer5_kernel_size: 3\n",
      "\u001b[34m\u001b[1mwandb\u001b[0m: \tmp_layer5_stride: 3\n",
      "\u001b[34m\u001b[1mwandb\u001b[0m: \tno_of_conv_blocks: 5\n",
      "\u001b[34m\u001b[1mwandb\u001b[0m: \tno_of_fc_layers: 1\n",
      "\u001b[34m\u001b[1mwandb\u001b[0m: \tno_of_filters: 256\n",
      "\u001b[34m\u001b[1mwandb\u001b[0m: \tnum_classes: 10\n",
      "\u001b[34m\u001b[1mwandb\u001b[0m: \tnum_workers: 10\n",
      "\u001b[34m\u001b[1mwandb\u001b[0m: W&B API key is configured. Use \u001b[1m`wandb login --relogin`\u001b[0m to force relogin\n"
     ]
    },
    {
     "data": {
      "text/html": [
       "Tracking run with wandb version 0.19.9"
      ],
      "text/plain": [
       "<IPython.core.display.HTML object>"
      ]
     },
     "metadata": {},
     "output_type": "display_data"
    },
    {
     "data": {
      "text/html": [
       "Run data is saved locally in <code>/home/joel/Pytorch_CUDA/wandb/run-20250417_191334-rfpozsno</code>"
      ],
      "text/plain": [
       "<IPython.core.display.HTML object>"
      ]
     },
     "metadata": {},
     "output_type": "display_data"
    },
    {
     "data": {
      "text/html": [
       "Syncing run <strong><a href='https://wandb.ai/A2_DA6401_DL/Lightning_CNN/runs/rfpozsno' target=\"_blank\">azure-sweep-136</a></strong> to <a href='https://wandb.ai/A2_DA6401_DL/Lightning_CNN' target=\"_blank\">Weights & Biases</a> (<a href='https://wandb.me/developer-guide' target=\"_blank\">docs</a>)<br>Sweep page: <a href='https://wandb.ai/A2_DA6401_DL/Lightning_CNN/sweeps/78djv91t' target=\"_blank\">https://wandb.ai/A2_DA6401_DL/Lightning_CNN/sweeps/78djv91t</a>"
      ],
      "text/plain": [
       "<IPython.core.display.HTML object>"
      ]
     },
     "metadata": {},
     "output_type": "display_data"
    },
    {
     "data": {
      "text/html": [
       " View project at <a href='https://wandb.ai/A2_DA6401_DL/Lightning_CNN' target=\"_blank\">https://wandb.ai/A2_DA6401_DL/Lightning_CNN</a>"
      ],
      "text/plain": [
       "<IPython.core.display.HTML object>"
      ]
     },
     "metadata": {},
     "output_type": "display_data"
    },
    {
     "data": {
      "text/html": [
       " View sweep at <a href='https://wandb.ai/A2_DA6401_DL/Lightning_CNN/sweeps/78djv91t' target=\"_blank\">https://wandb.ai/A2_DA6401_DL/Lightning_CNN/sweeps/78djv91t</a>"
      ],
      "text/plain": [
       "<IPython.core.display.HTML object>"
      ]
     },
     "metadata": {},
     "output_type": "display_data"
    },
    {
     "data": {
      "text/html": [
       " View run at <a href='https://wandb.ai/A2_DA6401_DL/Lightning_CNN/runs/rfpozsno' target=\"_blank\">https://wandb.ai/A2_DA6401_DL/Lightning_CNN/runs/rfpozsno</a>"
      ],
      "text/plain": [
       "<IPython.core.display.HTML object>"
      ]
     },
     "metadata": {},
     "output_type": "display_data"
    },
    {
     "name": "stdout",
     "output_type": "stream",
     "text": [
      "Not a good combination !!!\n"
     ]
    },
    {
     "data": {
      "text/html": [],
      "text/plain": [
       "<IPython.core.display.HTML object>"
      ]
     },
     "metadata": {},
     "output_type": "display_data"
    },
    {
     "data": {
      "text/html": [
       " View run <strong style=\"color:#cdcd00\">bs_64_layer_act_Mish_epoch_25_filter_mul_1_num_filters_256</strong> at: <a href='https://wandb.ai/A2_DA6401_DL/Lightning_CNN/runs/rfpozsno' target=\"_blank\">https://wandb.ai/A2_DA6401_DL/Lightning_CNN/runs/rfpozsno</a><br> View project at: <a href='https://wandb.ai/A2_DA6401_DL/Lightning_CNN' target=\"_blank\">https://wandb.ai/A2_DA6401_DL/Lightning_CNN</a><br>Synced 5 W&B file(s), 0 media file(s), 0 artifact file(s) and 0 other file(s)"
      ],
      "text/plain": [
       "<IPython.core.display.HTML object>"
      ]
     },
     "metadata": {},
     "output_type": "display_data"
    },
    {
     "data": {
      "text/html": [
       "Find logs at: <code>./wandb/run-20250417_191334-rfpozsno/logs</code>"
      ],
      "text/plain": [
       "<IPython.core.display.HTML object>"
      ]
     },
     "metadata": {},
     "output_type": "display_data"
    },
    {
     "name": "stderr",
     "output_type": "stream",
     "text": [
      "\u001b[34m\u001b[1mwandb\u001b[0m: Agent Starting Run: cbuew2ek with config:\n",
      "\u001b[34m\u001b[1mwandb\u001b[0m: \tbatch_norm_conv: False\n",
      "\u001b[34m\u001b[1mwandb\u001b[0m: \tbatch_norm_fc: True\n",
      "\u001b[34m\u001b[1mwandb\u001b[0m: \tbatch_size: 64\n",
      "\u001b[34m\u001b[1mwandb\u001b[0m: \tconv_1_filter_size: 3\n",
      "\u001b[34m\u001b[1mwandb\u001b[0m: \tconv_2_filter_size: 5\n",
      "\u001b[34m\u001b[1mwandb\u001b[0m: \tconv_3_filter_size: 5\n",
      "\u001b[34m\u001b[1mwandb\u001b[0m: \tconv_4_filter_size: 5\n",
      "\u001b[34m\u001b[1mwandb\u001b[0m: \tconv_5_filter_size: 5\n",
      "\u001b[34m\u001b[1mwandb\u001b[0m: \tconv_activation: SiLU\n",
      "\u001b[34m\u001b[1mwandb\u001b[0m: \tconv_padding: [None, None, None, None, None]\n",
      "\u001b[34m\u001b[1mwandb\u001b[0m: \tconv_strides: [1, 1, 1, 1, 1]\n",
      "\u001b[34m\u001b[1mwandb\u001b[0m: \tdata_aug: True\n",
      "\u001b[34m\u001b[1mwandb\u001b[0m: \tdropout_conv: 0\n",
      "\u001b[34m\u001b[1mwandb\u001b[0m: \tdropout_fc: 0.2\n",
      "\u001b[34m\u001b[1mwandb\u001b[0m: \tepochs: 25\n",
      "\u001b[34m\u001b[1mwandb\u001b[0m: \tfc_activations: Mish\n",
      "\u001b[34m\u001b[1mwandb\u001b[0m: \tfc_neurons: 512\n",
      "\u001b[34m\u001b[1mwandb\u001b[0m: \tfilter_mul: 1\n",
      "\u001b[34m\u001b[1mwandb\u001b[0m: \tinput_channels: 3\n",
      "\u001b[34m\u001b[1mwandb\u001b[0m: \tinput_size: [256, 256]\n",
      "\u001b[34m\u001b[1mwandb\u001b[0m: \tlearning_rate: 0.00025\n",
      "\u001b[34m\u001b[1mwandb\u001b[0m: \tmp_layer1_kernel_size: 5\n",
      "\u001b[34m\u001b[1mwandb\u001b[0m: \tmp_layer1_stride: None\n",
      "\u001b[34m\u001b[1mwandb\u001b[0m: \tmp_layer2_kernel_size: 3\n",
      "\u001b[34m\u001b[1mwandb\u001b[0m: \tmp_layer2_stride: 2\n",
      "\u001b[34m\u001b[1mwandb\u001b[0m: \tmp_layer3_kernel_size: 2\n",
      "\u001b[34m\u001b[1mwandb\u001b[0m: \tmp_layer3_stride: 3\n",
      "\u001b[34m\u001b[1mwandb\u001b[0m: \tmp_layer4_kernel_size: 3\n",
      "\u001b[34m\u001b[1mwandb\u001b[0m: \tmp_layer4_stride: 3\n",
      "\u001b[34m\u001b[1mwandb\u001b[0m: \tmp_layer5_kernel_size: 3\n",
      "\u001b[34m\u001b[1mwandb\u001b[0m: \tmp_layer5_stride: 3\n",
      "\u001b[34m\u001b[1mwandb\u001b[0m: \tno_of_conv_blocks: 5\n",
      "\u001b[34m\u001b[1mwandb\u001b[0m: \tno_of_fc_layers: 1\n",
      "\u001b[34m\u001b[1mwandb\u001b[0m: \tno_of_filters: 16\n",
      "\u001b[34m\u001b[1mwandb\u001b[0m: \tnum_classes: 10\n",
      "\u001b[34m\u001b[1mwandb\u001b[0m: \tnum_workers: 10\n"
     ]
    },
    {
     "data": {
      "text/html": [
       "Tracking run with wandb version 0.19.9"
      ],
      "text/plain": [
       "<IPython.core.display.HTML object>"
      ]
     },
     "metadata": {},
     "output_type": "display_data"
    },
    {
     "data": {
      "text/html": [
       "Run data is saved locally in <code>/home/joel/Pytorch_CUDA/wandb/run-20250417_191341-cbuew2ek</code>"
      ],
      "text/plain": [
       "<IPython.core.display.HTML object>"
      ]
     },
     "metadata": {},
     "output_type": "display_data"
    },
    {
     "data": {
      "text/html": [
       "Syncing run <strong><a href='https://wandb.ai/A2_DA6401_DL/Lightning_CNN/runs/cbuew2ek' target=\"_blank\">young-sweep-137</a></strong> to <a href='https://wandb.ai/A2_DA6401_DL/Lightning_CNN' target=\"_blank\">Weights & Biases</a> (<a href='https://wandb.me/developer-guide' target=\"_blank\">docs</a>)<br>Sweep page: <a href='https://wandb.ai/A2_DA6401_DL/Lightning_CNN/sweeps/78djv91t' target=\"_blank\">https://wandb.ai/A2_DA6401_DL/Lightning_CNN/sweeps/78djv91t</a>"
      ],
      "text/plain": [
       "<IPython.core.display.HTML object>"
      ]
     },
     "metadata": {},
     "output_type": "display_data"
    },
    {
     "data": {
      "text/html": [
       " View project at <a href='https://wandb.ai/A2_DA6401_DL/Lightning_CNN' target=\"_blank\">https://wandb.ai/A2_DA6401_DL/Lightning_CNN</a>"
      ],
      "text/plain": [
       "<IPython.core.display.HTML object>"
      ]
     },
     "metadata": {},
     "output_type": "display_data"
    },
    {
     "data": {
      "text/html": [
       " View sweep at <a href='https://wandb.ai/A2_DA6401_DL/Lightning_CNN/sweeps/78djv91t' target=\"_blank\">https://wandb.ai/A2_DA6401_DL/Lightning_CNN/sweeps/78djv91t</a>"
      ],
      "text/plain": [
       "<IPython.core.display.HTML object>"
      ]
     },
     "metadata": {},
     "output_type": "display_data"
    },
    {
     "data": {
      "text/html": [
       " View run at <a href='https://wandb.ai/A2_DA6401_DL/Lightning_CNN/runs/cbuew2ek' target=\"_blank\">https://wandb.ai/A2_DA6401_DL/Lightning_CNN/runs/cbuew2ek</a>"
      ],
      "text/plain": [
       "<IPython.core.display.HTML object>"
      ]
     },
     "metadata": {},
     "output_type": "display_data"
    },
    {
     "name": "stdout",
     "output_type": "stream",
     "text": [
      "Not a good combination !!!\n"
     ]
    },
    {
     "data": {
      "text/html": [],
      "text/plain": [
       "<IPython.core.display.HTML object>"
      ]
     },
     "metadata": {},
     "output_type": "display_data"
    },
    {
     "data": {
      "text/html": [
       " View run <strong style=\"color:#cdcd00\">bs_64_layer_act_SiLU_epoch_25_filter_mul_1_num_filters_16</strong> at: <a href='https://wandb.ai/A2_DA6401_DL/Lightning_CNN/runs/cbuew2ek' target=\"_blank\">https://wandb.ai/A2_DA6401_DL/Lightning_CNN/runs/cbuew2ek</a><br> View project at: <a href='https://wandb.ai/A2_DA6401_DL/Lightning_CNN' target=\"_blank\">https://wandb.ai/A2_DA6401_DL/Lightning_CNN</a><br>Synced 5 W&B file(s), 0 media file(s), 0 artifact file(s) and 0 other file(s)"
      ],
      "text/plain": [
       "<IPython.core.display.HTML object>"
      ]
     },
     "metadata": {},
     "output_type": "display_data"
    },
    {
     "data": {
      "text/html": [
       "Find logs at: <code>./wandb/run-20250417_191341-cbuew2ek/logs</code>"
      ],
      "text/plain": [
       "<IPython.core.display.HTML object>"
      ]
     },
     "metadata": {},
     "output_type": "display_data"
    },
    {
     "name": "stderr",
     "output_type": "stream",
     "text": [
      "\u001b[34m\u001b[1mwandb\u001b[0m: Agent Starting Run: dl9s287h with config:\n",
      "\u001b[34m\u001b[1mwandb\u001b[0m: \tbatch_norm_conv: True\n",
      "\u001b[34m\u001b[1mwandb\u001b[0m: \tbatch_norm_fc: True\n",
      "\u001b[34m\u001b[1mwandb\u001b[0m: \tbatch_size: 64\n",
      "\u001b[34m\u001b[1mwandb\u001b[0m: \tconv_1_filter_size: 3\n",
      "\u001b[34m\u001b[1mwandb\u001b[0m: \tconv_2_filter_size: 5\n",
      "\u001b[34m\u001b[1mwandb\u001b[0m: \tconv_3_filter_size: 5\n",
      "\u001b[34m\u001b[1mwandb\u001b[0m: \tconv_4_filter_size: 3\n",
      "\u001b[34m\u001b[1mwandb\u001b[0m: \tconv_5_filter_size: 3\n",
      "\u001b[34m\u001b[1mwandb\u001b[0m: \tconv_activation: Mish\n",
      "\u001b[34m\u001b[1mwandb\u001b[0m: \tconv_padding: [None, None, None, None, None]\n",
      "\u001b[34m\u001b[1mwandb\u001b[0m: \tconv_strides: [1, 1, 1, 1, 1]\n",
      "\u001b[34m\u001b[1mwandb\u001b[0m: \tdata_aug: True\n",
      "\u001b[34m\u001b[1mwandb\u001b[0m: \tdropout_conv: 0\n",
      "\u001b[34m\u001b[1mwandb\u001b[0m: \tdropout_fc: 0.3\n",
      "\u001b[34m\u001b[1mwandb\u001b[0m: \tepochs: 25\n",
      "\u001b[34m\u001b[1mwandb\u001b[0m: \tfc_activations: SELU\n",
      "\u001b[34m\u001b[1mwandb\u001b[0m: \tfc_neurons: 512\n",
      "\u001b[34m\u001b[1mwandb\u001b[0m: \tfilter_mul: 1\n",
      "\u001b[34m\u001b[1mwandb\u001b[0m: \tinput_channels: 3\n",
      "\u001b[34m\u001b[1mwandb\u001b[0m: \tinput_size: [256, 256]\n",
      "\u001b[34m\u001b[1mwandb\u001b[0m: \tlearning_rate: 0.0005\n",
      "\u001b[34m\u001b[1mwandb\u001b[0m: \tmp_layer1_kernel_size: 3\n",
      "\u001b[34m\u001b[1mwandb\u001b[0m: \tmp_layer1_stride: 2\n",
      "\u001b[34m\u001b[1mwandb\u001b[0m: \tmp_layer2_kernel_size: 2\n",
      "\u001b[34m\u001b[1mwandb\u001b[0m: \tmp_layer2_stride: None\n",
      "\u001b[34m\u001b[1mwandb\u001b[0m: \tmp_layer3_kernel_size: 3\n",
      "\u001b[34m\u001b[1mwandb\u001b[0m: \tmp_layer3_stride: 3\n",
      "\u001b[34m\u001b[1mwandb\u001b[0m: \tmp_layer4_kernel_size: 3\n",
      "\u001b[34m\u001b[1mwandb\u001b[0m: \tmp_layer4_stride: 2\n",
      "\u001b[34m\u001b[1mwandb\u001b[0m: \tmp_layer5_kernel_size: 2\n",
      "\u001b[34m\u001b[1mwandb\u001b[0m: \tmp_layer5_stride: 3\n",
      "\u001b[34m\u001b[1mwandb\u001b[0m: \tno_of_conv_blocks: 5\n",
      "\u001b[34m\u001b[1mwandb\u001b[0m: \tno_of_fc_layers: 1\n",
      "\u001b[34m\u001b[1mwandb\u001b[0m: \tno_of_filters: 64\n",
      "\u001b[34m\u001b[1mwandb\u001b[0m: \tnum_classes: 10\n",
      "\u001b[34m\u001b[1mwandb\u001b[0m: \tnum_workers: 10\n"
     ]
    },
    {
     "data": {
      "text/html": [
       "Tracking run with wandb version 0.19.9"
      ],
      "text/plain": [
       "<IPython.core.display.HTML object>"
      ]
     },
     "metadata": {},
     "output_type": "display_data"
    },
    {
     "data": {
      "text/html": [
       "Run data is saved locally in <code>/home/joel/Pytorch_CUDA/wandb/run-20250417_191347-dl9s287h</code>"
      ],
      "text/plain": [
       "<IPython.core.display.HTML object>"
      ]
     },
     "metadata": {},
     "output_type": "display_data"
    },
    {
     "data": {
      "text/html": [
       "Syncing run <strong><a href='https://wandb.ai/A2_DA6401_DL/Lightning_CNN/runs/dl9s287h' target=\"_blank\">stoic-sweep-138</a></strong> to <a href='https://wandb.ai/A2_DA6401_DL/Lightning_CNN' target=\"_blank\">Weights & Biases</a> (<a href='https://wandb.me/developer-guide' target=\"_blank\">docs</a>)<br>Sweep page: <a href='https://wandb.ai/A2_DA6401_DL/Lightning_CNN/sweeps/78djv91t' target=\"_blank\">https://wandb.ai/A2_DA6401_DL/Lightning_CNN/sweeps/78djv91t</a>"
      ],
      "text/plain": [
       "<IPython.core.display.HTML object>"
      ]
     },
     "metadata": {},
     "output_type": "display_data"
    },
    {
     "data": {
      "text/html": [
       " View project at <a href='https://wandb.ai/A2_DA6401_DL/Lightning_CNN' target=\"_blank\">https://wandb.ai/A2_DA6401_DL/Lightning_CNN</a>"
      ],
      "text/plain": [
       "<IPython.core.display.HTML object>"
      ]
     },
     "metadata": {},
     "output_type": "display_data"
    },
    {
     "data": {
      "text/html": [
       " View sweep at <a href='https://wandb.ai/A2_DA6401_DL/Lightning_CNN/sweeps/78djv91t' target=\"_blank\">https://wandb.ai/A2_DA6401_DL/Lightning_CNN/sweeps/78djv91t</a>"
      ],
      "text/plain": [
       "<IPython.core.display.HTML object>"
      ]
     },
     "metadata": {},
     "output_type": "display_data"
    },
    {
     "data": {
      "text/html": [
       " View run at <a href='https://wandb.ai/A2_DA6401_DL/Lightning_CNN/runs/dl9s287h' target=\"_blank\">https://wandb.ai/A2_DA6401_DL/Lightning_CNN/runs/dl9s287h</a>"
      ],
      "text/plain": [
       "<IPython.core.display.HTML object>"
      ]
     },
     "metadata": {},
     "output_type": "display_data"
    },
    {
     "name": "stdout",
     "output_type": "stream",
     "text": [
      "Not a good combination !!!\n"
     ]
    },
    {
     "data": {
      "text/html": [],
      "text/plain": [
       "<IPython.core.display.HTML object>"
      ]
     },
     "metadata": {},
     "output_type": "display_data"
    },
    {
     "data": {
      "text/html": [
       " View run <strong style=\"color:#cdcd00\">bs_64_layer_act_Mish_epoch_25_filter_mul_1_num_filters_64</strong> at: <a href='https://wandb.ai/A2_DA6401_DL/Lightning_CNN/runs/dl9s287h' target=\"_blank\">https://wandb.ai/A2_DA6401_DL/Lightning_CNN/runs/dl9s287h</a><br> View project at: <a href='https://wandb.ai/A2_DA6401_DL/Lightning_CNN' target=\"_blank\">https://wandb.ai/A2_DA6401_DL/Lightning_CNN</a><br>Synced 5 W&B file(s), 0 media file(s), 0 artifact file(s) and 0 other file(s)"
      ],
      "text/plain": [
       "<IPython.core.display.HTML object>"
      ]
     },
     "metadata": {},
     "output_type": "display_data"
    },
    {
     "data": {
      "text/html": [
       "Find logs at: <code>./wandb/run-20250417_191347-dl9s287h/logs</code>"
      ],
      "text/plain": [
       "<IPython.core.display.HTML object>"
      ]
     },
     "metadata": {},
     "output_type": "display_data"
    },
    {
     "name": "stderr",
     "output_type": "stream",
     "text": [
      "\u001b[34m\u001b[1mwandb\u001b[0m: Agent Starting Run: qklgbvq6 with config:\n",
      "\u001b[34m\u001b[1mwandb\u001b[0m: \tbatch_norm_conv: True\n",
      "\u001b[34m\u001b[1mwandb\u001b[0m: \tbatch_norm_fc: True\n",
      "\u001b[34m\u001b[1mwandb\u001b[0m: \tbatch_size: 16\n",
      "\u001b[34m\u001b[1mwandb\u001b[0m: \tconv_1_filter_size: 3\n",
      "\u001b[34m\u001b[1mwandb\u001b[0m: \tconv_2_filter_size: 5\n",
      "\u001b[34m\u001b[1mwandb\u001b[0m: \tconv_3_filter_size: 3\n",
      "\u001b[34m\u001b[1mwandb\u001b[0m: \tconv_4_filter_size: 3\n",
      "\u001b[34m\u001b[1mwandb\u001b[0m: \tconv_5_filter_size: 3\n",
      "\u001b[34m\u001b[1mwandb\u001b[0m: \tconv_activation: SiLU\n",
      "\u001b[34m\u001b[1mwandb\u001b[0m: \tconv_padding: [None, None, None, None, None]\n",
      "\u001b[34m\u001b[1mwandb\u001b[0m: \tconv_strides: [1, 1, 1, 1, 1]\n",
      "\u001b[34m\u001b[1mwandb\u001b[0m: \tdata_aug: True\n",
      "\u001b[34m\u001b[1mwandb\u001b[0m: \tdropout_conv: 0\n",
      "\u001b[34m\u001b[1mwandb\u001b[0m: \tdropout_fc: 0\n",
      "\u001b[34m\u001b[1mwandb\u001b[0m: \tepochs: 25\n",
      "\u001b[34m\u001b[1mwandb\u001b[0m: \tfc_activations: Mish\n",
      "\u001b[34m\u001b[1mwandb\u001b[0m: \tfc_neurons: 1024\n",
      "\u001b[34m\u001b[1mwandb\u001b[0m: \tfilter_mul: 1\n",
      "\u001b[34m\u001b[1mwandb\u001b[0m: \tinput_channels: 3\n",
      "\u001b[34m\u001b[1mwandb\u001b[0m: \tinput_size: [256, 256]\n",
      "\u001b[34m\u001b[1mwandb\u001b[0m: \tlearning_rate: 0.0005\n",
      "\u001b[34m\u001b[1mwandb\u001b[0m: \tmp_layer1_kernel_size: 3\n",
      "\u001b[34m\u001b[1mwandb\u001b[0m: \tmp_layer1_stride: 3\n",
      "\u001b[34m\u001b[1mwandb\u001b[0m: \tmp_layer2_kernel_size: 3\n",
      "\u001b[34m\u001b[1mwandb\u001b[0m: \tmp_layer2_stride: 2\n",
      "\u001b[34m\u001b[1mwandb\u001b[0m: \tmp_layer3_kernel_size: 5\n",
      "\u001b[34m\u001b[1mwandb\u001b[0m: \tmp_layer3_stride: 3\n",
      "\u001b[34m\u001b[1mwandb\u001b[0m: \tmp_layer4_kernel_size: 2\n",
      "\u001b[34m\u001b[1mwandb\u001b[0m: \tmp_layer4_stride: 2\n",
      "\u001b[34m\u001b[1mwandb\u001b[0m: \tmp_layer5_kernel_size: 3\n",
      "\u001b[34m\u001b[1mwandb\u001b[0m: \tmp_layer5_stride: 3\n",
      "\u001b[34m\u001b[1mwandb\u001b[0m: \tno_of_conv_blocks: 5\n",
      "\u001b[34m\u001b[1mwandb\u001b[0m: \tno_of_fc_layers: 1\n",
      "\u001b[34m\u001b[1mwandb\u001b[0m: \tno_of_filters: 16\n",
      "\u001b[34m\u001b[1mwandb\u001b[0m: \tnum_classes: 10\n",
      "\u001b[34m\u001b[1mwandb\u001b[0m: \tnum_workers: 10\n"
     ]
    },
    {
     "data": {
      "text/html": [
       "Tracking run with wandb version 0.19.9"
      ],
      "text/plain": [
       "<IPython.core.display.HTML object>"
      ]
     },
     "metadata": {},
     "output_type": "display_data"
    },
    {
     "data": {
      "text/html": [
       "Run data is saved locally in <code>/home/joel/Pytorch_CUDA/wandb/run-20250417_191353-qklgbvq6</code>"
      ],
      "text/plain": [
       "<IPython.core.display.HTML object>"
      ]
     },
     "metadata": {},
     "output_type": "display_data"
    },
    {
     "data": {
      "text/html": [
       "Syncing run <strong><a href='https://wandb.ai/A2_DA6401_DL/Lightning_CNN/runs/qklgbvq6' target=\"_blank\">confused-sweep-139</a></strong> to <a href='https://wandb.ai/A2_DA6401_DL/Lightning_CNN' target=\"_blank\">Weights & Biases</a> (<a href='https://wandb.me/developer-guide' target=\"_blank\">docs</a>)<br>Sweep page: <a href='https://wandb.ai/A2_DA6401_DL/Lightning_CNN/sweeps/78djv91t' target=\"_blank\">https://wandb.ai/A2_DA6401_DL/Lightning_CNN/sweeps/78djv91t</a>"
      ],
      "text/plain": [
       "<IPython.core.display.HTML object>"
      ]
     },
     "metadata": {},
     "output_type": "display_data"
    },
    {
     "data": {
      "text/html": [
       " View project at <a href='https://wandb.ai/A2_DA6401_DL/Lightning_CNN' target=\"_blank\">https://wandb.ai/A2_DA6401_DL/Lightning_CNN</a>"
      ],
      "text/plain": [
       "<IPython.core.display.HTML object>"
      ]
     },
     "metadata": {},
     "output_type": "display_data"
    },
    {
     "data": {
      "text/html": [
       " View sweep at <a href='https://wandb.ai/A2_DA6401_DL/Lightning_CNN/sweeps/78djv91t' target=\"_blank\">https://wandb.ai/A2_DA6401_DL/Lightning_CNN/sweeps/78djv91t</a>"
      ],
      "text/plain": [
       "<IPython.core.display.HTML object>"
      ]
     },
     "metadata": {},
     "output_type": "display_data"
    },
    {
     "data": {
      "text/html": [
       " View run at <a href='https://wandb.ai/A2_DA6401_DL/Lightning_CNN/runs/qklgbvq6' target=\"_blank\">https://wandb.ai/A2_DA6401_DL/Lightning_CNN/runs/qklgbvq6</a>"
      ],
      "text/plain": [
       "<IPython.core.display.HTML object>"
      ]
     },
     "metadata": {},
     "output_type": "display_data"
    },
    {
     "name": "stdout",
     "output_type": "stream",
     "text": [
      "Not a good combination !!!\n"
     ]
    },
    {
     "data": {
      "text/html": [],
      "text/plain": [
       "<IPython.core.display.HTML object>"
      ]
     },
     "metadata": {},
     "output_type": "display_data"
    },
    {
     "data": {
      "text/html": [
       " View run <strong style=\"color:#cdcd00\">bs_16_layer_act_SiLU_epoch_25_filter_mul_1_num_filters_16</strong> at: <a href='https://wandb.ai/A2_DA6401_DL/Lightning_CNN/runs/qklgbvq6' target=\"_blank\">https://wandb.ai/A2_DA6401_DL/Lightning_CNN/runs/qklgbvq6</a><br> View project at: <a href='https://wandb.ai/A2_DA6401_DL/Lightning_CNN' target=\"_blank\">https://wandb.ai/A2_DA6401_DL/Lightning_CNN</a><br>Synced 5 W&B file(s), 0 media file(s), 0 artifact file(s) and 0 other file(s)"
      ],
      "text/plain": [
       "<IPython.core.display.HTML object>"
      ]
     },
     "metadata": {},
     "output_type": "display_data"
    },
    {
     "data": {
      "text/html": [
       "Find logs at: <code>./wandb/run-20250417_191353-qklgbvq6/logs</code>"
      ],
      "text/plain": [
       "<IPython.core.display.HTML object>"
      ]
     },
     "metadata": {},
     "output_type": "display_data"
    },
    {
     "name": "stderr",
     "output_type": "stream",
     "text": [
      "\u001b[34m\u001b[1mwandb\u001b[0m: Sweep Agent: Waiting for job.\n",
      "\u001b[34m\u001b[1mwandb\u001b[0m: Job received.\n",
      "\u001b[34m\u001b[1mwandb\u001b[0m: Agent Starting Run: 1t36iwc3 with config:\n",
      "\u001b[34m\u001b[1mwandb\u001b[0m: \tbatch_norm_conv: True\n",
      "\u001b[34m\u001b[1mwandb\u001b[0m: \tbatch_norm_fc: True\n",
      "\u001b[34m\u001b[1mwandb\u001b[0m: \tbatch_size: 16\n",
      "\u001b[34m\u001b[1mwandb\u001b[0m: \tconv_1_filter_size: 3\n",
      "\u001b[34m\u001b[1mwandb\u001b[0m: \tconv_2_filter_size: 5\n",
      "\u001b[34m\u001b[1mwandb\u001b[0m: \tconv_3_filter_size: 5\n",
      "\u001b[34m\u001b[1mwandb\u001b[0m: \tconv_4_filter_size: 3\n",
      "\u001b[34m\u001b[1mwandb\u001b[0m: \tconv_5_filter_size: 3\n",
      "\u001b[34m\u001b[1mwandb\u001b[0m: \tconv_activation: SELU\n",
      "\u001b[34m\u001b[1mwandb\u001b[0m: \tconv_padding: [None, None, None, None, None]\n",
      "\u001b[34m\u001b[1mwandb\u001b[0m: \tconv_strides: [1, 1, 1, 1, 1]\n",
      "\u001b[34m\u001b[1mwandb\u001b[0m: \tdata_aug: True\n",
      "\u001b[34m\u001b[1mwandb\u001b[0m: \tdropout_conv: 0\n",
      "\u001b[34m\u001b[1mwandb\u001b[0m: \tdropout_fc: 0.2\n",
      "\u001b[34m\u001b[1mwandb\u001b[0m: \tepochs: 25\n",
      "\u001b[34m\u001b[1mwandb\u001b[0m: \tfc_activations: GELU\n",
      "\u001b[34m\u001b[1mwandb\u001b[0m: \tfc_neurons: 512\n",
      "\u001b[34m\u001b[1mwandb\u001b[0m: \tfilter_mul: 2\n",
      "\u001b[34m\u001b[1mwandb\u001b[0m: \tinput_channels: 3\n",
      "\u001b[34m\u001b[1mwandb\u001b[0m: \tinput_size: [256, 256]\n",
      "\u001b[34m\u001b[1mwandb\u001b[0m: \tlearning_rate: 0.00025\n",
      "\u001b[34m\u001b[1mwandb\u001b[0m: \tmp_layer1_kernel_size: 5\n",
      "\u001b[34m\u001b[1mwandb\u001b[0m: \tmp_layer1_stride: 3\n",
      "\u001b[34m\u001b[1mwandb\u001b[0m: \tmp_layer2_kernel_size: 2\n",
      "\u001b[34m\u001b[1mwandb\u001b[0m: \tmp_layer2_stride: 2\n",
      "\u001b[34m\u001b[1mwandb\u001b[0m: \tmp_layer3_kernel_size: 5\n",
      "\u001b[34m\u001b[1mwandb\u001b[0m: \tmp_layer3_stride: 2\n",
      "\u001b[34m\u001b[1mwandb\u001b[0m: \tmp_layer4_kernel_size: 3\n",
      "\u001b[34m\u001b[1mwandb\u001b[0m: \tmp_layer4_stride: 3\n",
      "\u001b[34m\u001b[1mwandb\u001b[0m: \tmp_layer5_kernel_size: 2\n",
      "\u001b[34m\u001b[1mwandb\u001b[0m: \tmp_layer5_stride: 3\n",
      "\u001b[34m\u001b[1mwandb\u001b[0m: \tno_of_conv_blocks: 5\n",
      "\u001b[34m\u001b[1mwandb\u001b[0m: \tno_of_fc_layers: 1\n",
      "\u001b[34m\u001b[1mwandb\u001b[0m: \tno_of_filters: 512\n",
      "\u001b[34m\u001b[1mwandb\u001b[0m: \tnum_classes: 10\n",
      "\u001b[34m\u001b[1mwandb\u001b[0m: \tnum_workers: 10\n"
     ]
    },
    {
     "data": {
      "text/html": [
       "Tracking run with wandb version 0.19.9"
      ],
      "text/plain": [
       "<IPython.core.display.HTML object>"
      ]
     },
     "metadata": {},
     "output_type": "display_data"
    },
    {
     "data": {
      "text/html": [
       "Run data is saved locally in <code>/home/joel/Pytorch_CUDA/wandb/run-20250417_191408-1t36iwc3</code>"
      ],
      "text/plain": [
       "<IPython.core.display.HTML object>"
      ]
     },
     "metadata": {},
     "output_type": "display_data"
    },
    {
     "data": {
      "text/html": [
       "Syncing run <strong><a href='https://wandb.ai/A2_DA6401_DL/Lightning_CNN/runs/1t36iwc3' target=\"_blank\">lively-sweep-140</a></strong> to <a href='https://wandb.ai/A2_DA6401_DL/Lightning_CNN' target=\"_blank\">Weights & Biases</a> (<a href='https://wandb.me/developer-guide' target=\"_blank\">docs</a>)<br>Sweep page: <a href='https://wandb.ai/A2_DA6401_DL/Lightning_CNN/sweeps/78djv91t' target=\"_blank\">https://wandb.ai/A2_DA6401_DL/Lightning_CNN/sweeps/78djv91t</a>"
      ],
      "text/plain": [
       "<IPython.core.display.HTML object>"
      ]
     },
     "metadata": {},
     "output_type": "display_data"
    },
    {
     "data": {
      "text/html": [
       " View project at <a href='https://wandb.ai/A2_DA6401_DL/Lightning_CNN' target=\"_blank\">https://wandb.ai/A2_DA6401_DL/Lightning_CNN</a>"
      ],
      "text/plain": [
       "<IPython.core.display.HTML object>"
      ]
     },
     "metadata": {},
     "output_type": "display_data"
    },
    {
     "data": {
      "text/html": [
       " View sweep at <a href='https://wandb.ai/A2_DA6401_DL/Lightning_CNN/sweeps/78djv91t' target=\"_blank\">https://wandb.ai/A2_DA6401_DL/Lightning_CNN/sweeps/78djv91t</a>"
      ],
      "text/plain": [
       "<IPython.core.display.HTML object>"
      ]
     },
     "metadata": {},
     "output_type": "display_data"
    },
    {
     "data": {
      "text/html": [
       " View run at <a href='https://wandb.ai/A2_DA6401_DL/Lightning_CNN/runs/1t36iwc3' target=\"_blank\">https://wandb.ai/A2_DA6401_DL/Lightning_CNN/runs/1t36iwc3</a>"
      ],
      "text/plain": [
       "<IPython.core.display.HTML object>"
      ]
     },
     "metadata": {},
     "output_type": "display_data"
    },
    {
     "name": "stdout",
     "output_type": "stream",
     "text": [
      "Not a good combination !!!\n"
     ]
    },
    {
     "data": {
      "text/html": [],
      "text/plain": [
       "<IPython.core.display.HTML object>"
      ]
     },
     "metadata": {},
     "output_type": "display_data"
    },
    {
     "data": {
      "text/html": [
       " View run <strong style=\"color:#cdcd00\">bs_16_layer_act_SELU_epoch_25_filter_mul_2_num_filters_512</strong> at: <a href='https://wandb.ai/A2_DA6401_DL/Lightning_CNN/runs/1t36iwc3' target=\"_blank\">https://wandb.ai/A2_DA6401_DL/Lightning_CNN/runs/1t36iwc3</a><br> View project at: <a href='https://wandb.ai/A2_DA6401_DL/Lightning_CNN' target=\"_blank\">https://wandb.ai/A2_DA6401_DL/Lightning_CNN</a><br>Synced 5 W&B file(s), 0 media file(s), 0 artifact file(s) and 0 other file(s)"
      ],
      "text/plain": [
       "<IPython.core.display.HTML object>"
      ]
     },
     "metadata": {},
     "output_type": "display_data"
    },
    {
     "data": {
      "text/html": [
       "Find logs at: <code>./wandb/run-20250417_191408-1t36iwc3/logs</code>"
      ],
      "text/plain": [
       "<IPython.core.display.HTML object>"
      ]
     },
     "metadata": {},
     "output_type": "display_data"
    },
    {
     "name": "stderr",
     "output_type": "stream",
     "text": [
      "\u001b[34m\u001b[1mwandb\u001b[0m: Agent Starting Run: v3q7b2s4 with config:\n",
      "\u001b[34m\u001b[1mwandb\u001b[0m: \tbatch_norm_conv: False\n",
      "\u001b[34m\u001b[1mwandb\u001b[0m: \tbatch_norm_fc: True\n",
      "\u001b[34m\u001b[1mwandb\u001b[0m: \tbatch_size: 32\n",
      "\u001b[34m\u001b[1mwandb\u001b[0m: \tconv_1_filter_size: 3\n",
      "\u001b[34m\u001b[1mwandb\u001b[0m: \tconv_2_filter_size: 3\n",
      "\u001b[34m\u001b[1mwandb\u001b[0m: \tconv_3_filter_size: 5\n",
      "\u001b[34m\u001b[1mwandb\u001b[0m: \tconv_4_filter_size: 5\n",
      "\u001b[34m\u001b[1mwandb\u001b[0m: \tconv_5_filter_size: 5\n",
      "\u001b[34m\u001b[1mwandb\u001b[0m: \tconv_activation: LeakyReLU\n",
      "\u001b[34m\u001b[1mwandb\u001b[0m: \tconv_padding: [None, None, None, None, None]\n",
      "\u001b[34m\u001b[1mwandb\u001b[0m: \tconv_strides: [1, 1, 1, 1, 1]\n",
      "\u001b[34m\u001b[1mwandb\u001b[0m: \tdata_aug: True\n",
      "\u001b[34m\u001b[1mwandb\u001b[0m: \tdropout_conv: 0.1\n",
      "\u001b[34m\u001b[1mwandb\u001b[0m: \tdropout_fc: 0.3\n",
      "\u001b[34m\u001b[1mwandb\u001b[0m: \tepochs: 25\n",
      "\u001b[34m\u001b[1mwandb\u001b[0m: \tfc_activations: GELU\n",
      "\u001b[34m\u001b[1mwandb\u001b[0m: \tfc_neurons: 512\n",
      "\u001b[34m\u001b[1mwandb\u001b[0m: \tfilter_mul: 2\n",
      "\u001b[34m\u001b[1mwandb\u001b[0m: \tinput_channels: 3\n",
      "\u001b[34m\u001b[1mwandb\u001b[0m: \tinput_size: [256, 256]\n",
      "\u001b[34m\u001b[1mwandb\u001b[0m: \tlearning_rate: 0.00025\n",
      "\u001b[34m\u001b[1mwandb\u001b[0m: \tmp_layer1_kernel_size: 5\n",
      "\u001b[34m\u001b[1mwandb\u001b[0m: \tmp_layer1_stride: None\n",
      "\u001b[34m\u001b[1mwandb\u001b[0m: \tmp_layer2_kernel_size: 2\n",
      "\u001b[34m\u001b[1mwandb\u001b[0m: \tmp_layer2_stride: 3\n",
      "\u001b[34m\u001b[1mwandb\u001b[0m: \tmp_layer3_kernel_size: 5\n",
      "\u001b[34m\u001b[1mwandb\u001b[0m: \tmp_layer3_stride: 2\n",
      "\u001b[34m\u001b[1mwandb\u001b[0m: \tmp_layer4_kernel_size: 3\n",
      "\u001b[34m\u001b[1mwandb\u001b[0m: \tmp_layer4_stride: 3\n",
      "\u001b[34m\u001b[1mwandb\u001b[0m: \tmp_layer5_kernel_size: 3\n",
      "\u001b[34m\u001b[1mwandb\u001b[0m: \tmp_layer5_stride: 2\n",
      "\u001b[34m\u001b[1mwandb\u001b[0m: \tno_of_conv_blocks: 5\n",
      "\u001b[34m\u001b[1mwandb\u001b[0m: \tno_of_fc_layers: 1\n",
      "\u001b[34m\u001b[1mwandb\u001b[0m: \tno_of_filters: 16\n",
      "\u001b[34m\u001b[1mwandb\u001b[0m: \tnum_classes: 10\n",
      "\u001b[34m\u001b[1mwandb\u001b[0m: \tnum_workers: 10\n"
     ]
    },
    {
     "data": {
      "text/html": [
       "Tracking run with wandb version 0.19.9"
      ],
      "text/plain": [
       "<IPython.core.display.HTML object>"
      ]
     },
     "metadata": {},
     "output_type": "display_data"
    },
    {
     "data": {
      "text/html": [
       "Run data is saved locally in <code>/home/joel/Pytorch_CUDA/wandb/run-20250417_191415-v3q7b2s4</code>"
      ],
      "text/plain": [
       "<IPython.core.display.HTML object>"
      ]
     },
     "metadata": {},
     "output_type": "display_data"
    },
    {
     "data": {
      "text/html": [
       "Syncing run <strong><a href='https://wandb.ai/A2_DA6401_DL/Lightning_CNN/runs/v3q7b2s4' target=\"_blank\">distinctive-sweep-141</a></strong> to <a href='https://wandb.ai/A2_DA6401_DL/Lightning_CNN' target=\"_blank\">Weights & Biases</a> (<a href='https://wandb.me/developer-guide' target=\"_blank\">docs</a>)<br>Sweep page: <a href='https://wandb.ai/A2_DA6401_DL/Lightning_CNN/sweeps/78djv91t' target=\"_blank\">https://wandb.ai/A2_DA6401_DL/Lightning_CNN/sweeps/78djv91t</a>"
      ],
      "text/plain": [
       "<IPython.core.display.HTML object>"
      ]
     },
     "metadata": {},
     "output_type": "display_data"
    },
    {
     "data": {
      "text/html": [
       " View project at <a href='https://wandb.ai/A2_DA6401_DL/Lightning_CNN' target=\"_blank\">https://wandb.ai/A2_DA6401_DL/Lightning_CNN</a>"
      ],
      "text/plain": [
       "<IPython.core.display.HTML object>"
      ]
     },
     "metadata": {},
     "output_type": "display_data"
    },
    {
     "data": {
      "text/html": [
       " View sweep at <a href='https://wandb.ai/A2_DA6401_DL/Lightning_CNN/sweeps/78djv91t' target=\"_blank\">https://wandb.ai/A2_DA6401_DL/Lightning_CNN/sweeps/78djv91t</a>"
      ],
      "text/plain": [
       "<IPython.core.display.HTML object>"
      ]
     },
     "metadata": {},
     "output_type": "display_data"
    },
    {
     "data": {
      "text/html": [
       " View run at <a href='https://wandb.ai/A2_DA6401_DL/Lightning_CNN/runs/v3q7b2s4' target=\"_blank\">https://wandb.ai/A2_DA6401_DL/Lightning_CNN/runs/v3q7b2s4</a>"
      ],
      "text/plain": [
       "<IPython.core.display.HTML object>"
      ]
     },
     "metadata": {},
     "output_type": "display_data"
    },
    {
     "name": "stderr",
     "output_type": "stream",
     "text": [
      "You are using the plain ModelCheckpoint callback. Consider using LitModelCheckpoint which with seamless uploading to Model registry.\n",
      "GPU available: True (cuda), used: True\n",
      "TPU available: False, using: 0 TPU cores\n",
      "HPU available: False, using: 0 HPUs\n",
      "/home/joel/Pytorch_CUDA/virt_env/lib/python3.12/site-packages/lightning/pytorch/loggers/wandb.py:397: There is a wandb run already in progress and newly created instances of `WandbLogger` will reuse this run. If this is not desired, call `wandb.finish()` before instantiating `WandbLogger`.\n",
      "LOCAL_RANK: 0 - CUDA_VISIBLE_DEVICES: [0]\n",
      "\n",
      "  | Name       | Type               | Params | Mode \n",
      "----------------------------------------------------------\n",
      "0 | model      | CNN_               | 5.8 M  | train\n",
      "1 | loss_fn    | CrossEntropyLoss   | 0      | train\n",
      "2 | acc_metric | MulticlassAccuracy | 0      | train\n",
      "----------------------------------------------------------\n",
      "5.8 M     Trainable params\n",
      "0         Non-trainable params\n",
      "5.8 M     Total params\n",
      "23.224    Total estimated model params size (MB)\n",
      "43        Modules in train mode\n",
      "0         Modules in eval mode\n"
     ]
    },
    {
     "data": {
      "application/vnd.jupyter.widget-view+json": {
       "model_id": "f1ad3913d7174714ae3ebd7029ebaa9e",
       "version_major": 2,
       "version_minor": 0
      },
      "text/plain": [
       "Sanity Checking: |          | 0/? [00:00<?, ?it/s]"
      ]
     },
     "metadata": {},
     "output_type": "display_data"
    },
    {
     "data": {
      "application/vnd.jupyter.widget-view+json": {
       "model_id": "16a4d6596f68447aae14f45881e99374",
       "version_major": 2,
       "version_minor": 0
      },
      "text/plain": [
       "Training: |          | 0/? [00:00<?, ?it/s]"
      ]
     },
     "metadata": {},
     "output_type": "display_data"
    },
    {
     "data": {
      "application/vnd.jupyter.widget-view+json": {
       "model_id": "6024523449fe48c3b45d4e84f3712f3b",
       "version_major": 2,
       "version_minor": 0
      },
      "text/plain": [
       "Validation: |          | 0/? [00:00<?, ?it/s]"
      ]
     },
     "metadata": {},
     "output_type": "display_data"
    },
    {
     "data": {
      "application/vnd.jupyter.widget-view+json": {
       "model_id": "5f345b456f7a4c53b505803793ad0863",
       "version_major": 2,
       "version_minor": 0
      },
      "text/plain": [
       "Validation: |          | 0/? [00:00<?, ?it/s]"
      ]
     },
     "metadata": {},
     "output_type": "display_data"
    },
    {
     "data": {
      "application/vnd.jupyter.widget-view+json": {
       "model_id": "2f68861eacc2431198622e8eb4ba924d",
       "version_major": 2,
       "version_minor": 0
      },
      "text/plain": [
       "Validation: |          | 0/? [00:00<?, ?it/s]"
      ]
     },
     "metadata": {},
     "output_type": "display_data"
    },
    {
     "data": {
      "application/vnd.jupyter.widget-view+json": {
       "model_id": "f1129780fc2b46138cc7a1bc643d2599",
       "version_major": 2,
       "version_minor": 0
      },
      "text/plain": [
       "Validation: |          | 0/? [00:00<?, ?it/s]"
      ]
     },
     "metadata": {},
     "output_type": "display_data"
    },
    {
     "data": {
      "application/vnd.jupyter.widget-view+json": {
       "model_id": "3737c1aed54f4aef828224b91028e7ea",
       "version_major": 2,
       "version_minor": 0
      },
      "text/plain": [
       "Validation: |          | 0/? [00:00<?, ?it/s]"
      ]
     },
     "metadata": {},
     "output_type": "display_data"
    },
    {
     "data": {
      "application/vnd.jupyter.widget-view+json": {
       "model_id": "f44e53c9af9c4865a57ca0efb8f3dd90",
       "version_major": 2,
       "version_minor": 0
      },
      "text/plain": [
       "Validation: |          | 0/? [00:00<?, ?it/s]"
      ]
     },
     "metadata": {},
     "output_type": "display_data"
    },
    {
     "data": {
      "application/vnd.jupyter.widget-view+json": {
       "model_id": "18eb62866bcf420ebda7c08e4ab1f3b0",
       "version_major": 2,
       "version_minor": 0
      },
      "text/plain": [
       "Validation: |          | 0/? [00:00<?, ?it/s]"
      ]
     },
     "metadata": {},
     "output_type": "display_data"
    },
    {
     "data": {
      "application/vnd.jupyter.widget-view+json": {
       "model_id": "43b9c8b629684474912813610ee5e473",
       "version_major": 2,
       "version_minor": 0
      },
      "text/plain": [
       "Validation: |          | 0/? [00:00<?, ?it/s]"
      ]
     },
     "metadata": {},
     "output_type": "display_data"
    },
    {
     "data": {
      "application/vnd.jupyter.widget-view+json": {
       "model_id": "9628152f35fc4d87b216cac451124c92",
       "version_major": 2,
       "version_minor": 0
      },
      "text/plain": [
       "Validation: |          | 0/? [00:00<?, ?it/s]"
      ]
     },
     "metadata": {},
     "output_type": "display_data"
    },
    {
     "data": {
      "application/vnd.jupyter.widget-view+json": {
       "model_id": "aa923c2f17b740acb416e546406bbc19",
       "version_major": 2,
       "version_minor": 0
      },
      "text/plain": [
       "Validation: |          | 0/? [00:00<?, ?it/s]"
      ]
     },
     "metadata": {},
     "output_type": "display_data"
    },
    {
     "data": {
      "application/vnd.jupyter.widget-view+json": {
       "model_id": "c900f6f77e9544e48ad8244894da0625",
       "version_major": 2,
       "version_minor": 0
      },
      "text/plain": [
       "Validation: |          | 0/? [00:00<?, ?it/s]"
      ]
     },
     "metadata": {},
     "output_type": "display_data"
    },
    {
     "data": {
      "application/vnd.jupyter.widget-view+json": {
       "model_id": "c81c0a7a65f049f48942cc935168f1dc",
       "version_major": 2,
       "version_minor": 0
      },
      "text/plain": [
       "Validation: |          | 0/? [00:00<?, ?it/s]"
      ]
     },
     "metadata": {},
     "output_type": "display_data"
    },
    {
     "data": {
      "application/vnd.jupyter.widget-view+json": {
       "model_id": "0471509e31ee47e39e456e955fa060a9",
       "version_major": 2,
       "version_minor": 0
      },
      "text/plain": [
       "Validation: |          | 0/? [00:00<?, ?it/s]"
      ]
     },
     "metadata": {},
     "output_type": "display_data"
    },
    {
     "data": {
      "application/vnd.jupyter.widget-view+json": {
       "model_id": "23f7e3254a2c4a7ab7fb6c352560b3e1",
       "version_major": 2,
       "version_minor": 0
      },
      "text/plain": [
       "Validation: |          | 0/? [00:00<?, ?it/s]"
      ]
     },
     "metadata": {},
     "output_type": "display_data"
    },
    {
     "data": {
      "application/vnd.jupyter.widget-view+json": {
       "model_id": "0e5d8f22779a4dc7a7628152db7f49bb",
       "version_major": 2,
       "version_minor": 0
      },
      "text/plain": [
       "Validation: |          | 0/? [00:00<?, ?it/s]"
      ]
     },
     "metadata": {},
     "output_type": "display_data"
    },
    {
     "data": {
      "application/vnd.jupyter.widget-view+json": {
       "model_id": "90669471b3d54b96b6cd53ffecb0b0c6",
       "version_major": 2,
       "version_minor": 0
      },
      "text/plain": [
       "Validation: |          | 0/? [00:00<?, ?it/s]"
      ]
     },
     "metadata": {},
     "output_type": "display_data"
    },
    {
     "data": {
      "application/vnd.jupyter.widget-view+json": {
       "model_id": "5d5f7bd30d2645c98a219051ae8e0458",
       "version_major": 2,
       "version_minor": 0
      },
      "text/plain": [
       "Validation: |          | 0/? [00:00<?, ?it/s]"
      ]
     },
     "metadata": {},
     "output_type": "display_data"
    },
    {
     "data": {
      "application/vnd.jupyter.widget-view+json": {
       "model_id": "043869ea943f485c9c2a3c4a423be672",
       "version_major": 2,
       "version_minor": 0
      },
      "text/plain": [
       "Validation: |          | 0/? [00:00<?, ?it/s]"
      ]
     },
     "metadata": {},
     "output_type": "display_data"
    },
    {
     "data": {
      "application/vnd.jupyter.widget-view+json": {
       "model_id": "dec30516416e48c090ea69ba1faa7fe7",
       "version_major": 2,
       "version_minor": 0
      },
      "text/plain": [
       "Validation: |          | 0/? [00:00<?, ?it/s]"
      ]
     },
     "metadata": {},
     "output_type": "display_data"
    },
    {
     "data": {
      "application/vnd.jupyter.widget-view+json": {
       "model_id": "38abe32c116d4cbbb54fa3a7d72ee88f",
       "version_major": 2,
       "version_minor": 0
      },
      "text/plain": [
       "Validation: |          | 0/? [00:00<?, ?it/s]"
      ]
     },
     "metadata": {},
     "output_type": "display_data"
    },
    {
     "data": {
      "application/vnd.jupyter.widget-view+json": {
       "model_id": "f3de47d3324f41beaafc4f8f0096b5ef",
       "version_major": 2,
       "version_minor": 0
      },
      "text/plain": [
       "Validation: |          | 0/? [00:00<?, ?it/s]"
      ]
     },
     "metadata": {},
     "output_type": "display_data"
    },
    {
     "data": {
      "application/vnd.jupyter.widget-view+json": {
       "model_id": "6a72d23b6184494493baac094e404cb5",
       "version_major": 2,
       "version_minor": 0
      },
      "text/plain": [
       "Validation: |          | 0/? [00:00<?, ?it/s]"
      ]
     },
     "metadata": {},
     "output_type": "display_data"
    },
    {
     "data": {
      "application/vnd.jupyter.widget-view+json": {
       "model_id": "1f9b2af4c4484d4390f7e0ef2cb2973e",
       "version_major": 2,
       "version_minor": 0
      },
      "text/plain": [
       "Validation: |          | 0/? [00:00<?, ?it/s]"
      ]
     },
     "metadata": {},
     "output_type": "display_data"
    },
    {
     "data": {
      "application/vnd.jupyter.widget-view+json": {
       "model_id": "1a0638e6d9b746d28428b524fa53aa0c",
       "version_major": 2,
       "version_minor": 0
      },
      "text/plain": [
       "Validation: |          | 0/? [00:00<?, ?it/s]"
      ]
     },
     "metadata": {},
     "output_type": "display_data"
    },
    {
     "data": {
      "application/vnd.jupyter.widget-view+json": {
       "model_id": "49e04ba9ebe14b7bac8b6462310ee84f",
       "version_major": 2,
       "version_minor": 0
      },
      "text/plain": [
       "Validation: |          | 0/? [00:00<?, ?it/s]"
      ]
     },
     "metadata": {},
     "output_type": "display_data"
    },
    {
     "name": "stderr",
     "output_type": "stream",
     "text": [
      "`Trainer.fit` stopped: `max_epochs=25` reached.\n"
     ]
    },
    {
     "data": {
      "text/html": [],
      "text/plain": [
       "<IPython.core.display.HTML object>"
      ]
     },
     "metadata": {},
     "output_type": "display_data"
    },
    {
     "data": {
      "text/html": [
       "<br>    <style><br>        .wandb-row {<br>            display: flex;<br>            flex-direction: row;<br>            flex-wrap: wrap;<br>            justify-content: flex-start;<br>            width: 100%;<br>        }<br>        .wandb-col {<br>            display: flex;<br>            flex-direction: column;<br>            flex-basis: 100%;<br>            flex: 1;<br>            padding: 10px;<br>        }<br>    </style><br><div class=\"wandb-row\"><div class=\"wandb-col\"><h3>Run history:</h3><br/><table class=\"wandb\"><tr><td>epoch</td><td>▁▁▁▁▂▂▂▂▂▂▃▃▃▃▃▄▄▄▄▄▅▅▅▅▅▅▆▆▆▆▆▇▇▇▇▇▇███</td></tr><tr><td>train_loss</td><td>█▇▇▆▆▆▆▆▅▅▅▅▄▄▄▄▃▃▃▃▂▂▂▁▁</td></tr><tr><td>trainer/global_step</td><td>▁▁▁▂▂▂▂▂▂▂▃▃▃▃▃▄▄▄▄▄▅▅▅▅▅▆▆▆▆▆▇▇▇▇▇▇▇███</td></tr><tr><td>val_acc</td><td>▁▂▃▃▄▅▅▅▆▇▇▇▇▇▇▇█▇███████</td></tr><tr><td>val_loss</td><td>█▇▆▆▅▄▄▄▃▂▂▂▂▂▂▂▁▂▁▁▂▁▁▁▁</td></tr></table><br/></div><div class=\"wandb-col\"><h3>Run summary:</h3><br/><table class=\"wandb\"><tr><td>epoch</td><td>24</td></tr><tr><td>train_loss</td><td>1.85434</td></tr><tr><td>trainer/global_step</td><td>6224</td></tr><tr><td>val_acc</td><td>0.3675</td></tr><tr><td>val_loss</td><td>2.08561</td></tr></table><br/></div></div>"
      ],
      "text/plain": [
       "<IPython.core.display.HTML object>"
      ]
     },
     "metadata": {},
     "output_type": "display_data"
    },
    {
     "data": {
      "text/html": [
       " View run <strong style=\"color:#cdcd00\">bs_32_layer_act_LeakyReLU_epoch_25_filter_mul_2_num_filters_16</strong> at: <a href='https://wandb.ai/A2_DA6401_DL/Lightning_CNN/runs/v3q7b2s4' target=\"_blank\">https://wandb.ai/A2_DA6401_DL/Lightning_CNN/runs/v3q7b2s4</a><br> View project at: <a href='https://wandb.ai/A2_DA6401_DL/Lightning_CNN' target=\"_blank\">https://wandb.ai/A2_DA6401_DL/Lightning_CNN</a><br>Synced 5 W&B file(s), 0 media file(s), 0 artifact file(s) and 0 other file(s)"
      ],
      "text/plain": [
       "<IPython.core.display.HTML object>"
      ]
     },
     "metadata": {},
     "output_type": "display_data"
    },
    {
     "data": {
      "text/html": [
       "Find logs at: <code>./wandb/run-20250417_191415-v3q7b2s4/logs</code>"
      ],
      "text/plain": [
       "<IPython.core.display.HTML object>"
      ]
     },
     "metadata": {},
     "output_type": "display_data"
    },
    {
     "name": "stderr",
     "output_type": "stream",
     "text": [
      "\u001b[34m\u001b[1mwandb\u001b[0m: Sweep Agent: Waiting for job.\n",
      "\u001b[34m\u001b[1mwandb\u001b[0m: Job received.\n",
      "\u001b[34m\u001b[1mwandb\u001b[0m: Agent Starting Run: atsu1v3a with config:\n",
      "\u001b[34m\u001b[1mwandb\u001b[0m: \tbatch_norm_conv: False\n",
      "\u001b[34m\u001b[1mwandb\u001b[0m: \tbatch_norm_fc: True\n",
      "\u001b[34m\u001b[1mwandb\u001b[0m: \tbatch_size: 16\n",
      "\u001b[34m\u001b[1mwandb\u001b[0m: \tconv_1_filter_size: 5\n",
      "\u001b[34m\u001b[1mwandb\u001b[0m: \tconv_2_filter_size: 5\n",
      "\u001b[34m\u001b[1mwandb\u001b[0m: \tconv_3_filter_size: 5\n",
      "\u001b[34m\u001b[1mwandb\u001b[0m: \tconv_4_filter_size: 3\n",
      "\u001b[34m\u001b[1mwandb\u001b[0m: \tconv_5_filter_size: 3\n",
      "\u001b[34m\u001b[1mwandb\u001b[0m: \tconv_activation: SiLU\n",
      "\u001b[34m\u001b[1mwandb\u001b[0m: \tconv_padding: [None, None, None, None, None]\n",
      "\u001b[34m\u001b[1mwandb\u001b[0m: \tconv_strides: [1, 1, 1, 1, 1]\n",
      "\u001b[34m\u001b[1mwandb\u001b[0m: \tdata_aug: True\n",
      "\u001b[34m\u001b[1mwandb\u001b[0m: \tdropout_conv: 0.1\n",
      "\u001b[34m\u001b[1mwandb\u001b[0m: \tdropout_fc: 0.2\n",
      "\u001b[34m\u001b[1mwandb\u001b[0m: \tepochs: 25\n",
      "\u001b[34m\u001b[1mwandb\u001b[0m: \tfc_activations: SELU\n",
      "\u001b[34m\u001b[1mwandb\u001b[0m: \tfc_neurons: 512\n",
      "\u001b[34m\u001b[1mwandb\u001b[0m: \tfilter_mul: 1\n",
      "\u001b[34m\u001b[1mwandb\u001b[0m: \tinput_channels: 3\n",
      "\u001b[34m\u001b[1mwandb\u001b[0m: \tinput_size: [256, 256]\n",
      "\u001b[34m\u001b[1mwandb\u001b[0m: \tlearning_rate: 0.00025\n",
      "\u001b[34m\u001b[1mwandb\u001b[0m: \tmp_layer1_kernel_size: 5\n",
      "\u001b[34m\u001b[1mwandb\u001b[0m: \tmp_layer1_stride: None\n",
      "\u001b[34m\u001b[1mwandb\u001b[0m: \tmp_layer2_kernel_size: 5\n",
      "\u001b[34m\u001b[1mwandb\u001b[0m: \tmp_layer2_stride: 2\n",
      "\u001b[34m\u001b[1mwandb\u001b[0m: \tmp_layer3_kernel_size: 2\n",
      "\u001b[34m\u001b[1mwandb\u001b[0m: \tmp_layer3_stride: 2\n",
      "\u001b[34m\u001b[1mwandb\u001b[0m: \tmp_layer4_kernel_size: 2\n",
      "\u001b[34m\u001b[1mwandb\u001b[0m: \tmp_layer4_stride: 3\n",
      "\u001b[34m\u001b[1mwandb\u001b[0m: \tmp_layer5_kernel_size: 3\n",
      "\u001b[34m\u001b[1mwandb\u001b[0m: \tmp_layer5_stride: 3\n",
      "\u001b[34m\u001b[1mwandb\u001b[0m: \tno_of_conv_blocks: 5\n",
      "\u001b[34m\u001b[1mwandb\u001b[0m: \tno_of_fc_layers: 1\n",
      "\u001b[34m\u001b[1mwandb\u001b[0m: \tno_of_filters: 16\n",
      "\u001b[34m\u001b[1mwandb\u001b[0m: \tnum_classes: 10\n",
      "\u001b[34m\u001b[1mwandb\u001b[0m: \tnum_workers: 10\n"
     ]
    },
    {
     "data": {
      "text/html": [
       "Tracking run with wandb version 0.19.9"
      ],
      "text/plain": [
       "<IPython.core.display.HTML object>"
      ]
     },
     "metadata": {},
     "output_type": "display_data"
    },
    {
     "data": {
      "text/html": [
       "Run data is saved locally in <code>/home/joel/Pytorch_CUDA/wandb/run-20250417_193355-atsu1v3a</code>"
      ],
      "text/plain": [
       "<IPython.core.display.HTML object>"
      ]
     },
     "metadata": {},
     "output_type": "display_data"
    },
    {
     "data": {
      "text/html": [
       "Syncing run <strong><a href='https://wandb.ai/A2_DA6401_DL/Lightning_CNN/runs/atsu1v3a' target=\"_blank\">youthful-sweep-142</a></strong> to <a href='https://wandb.ai/A2_DA6401_DL/Lightning_CNN' target=\"_blank\">Weights & Biases</a> (<a href='https://wandb.me/developer-guide' target=\"_blank\">docs</a>)<br>Sweep page: <a href='https://wandb.ai/A2_DA6401_DL/Lightning_CNN/sweeps/78djv91t' target=\"_blank\">https://wandb.ai/A2_DA6401_DL/Lightning_CNN/sweeps/78djv91t</a>"
      ],
      "text/plain": [
       "<IPython.core.display.HTML object>"
      ]
     },
     "metadata": {},
     "output_type": "display_data"
    },
    {
     "data": {
      "text/html": [
       " View project at <a href='https://wandb.ai/A2_DA6401_DL/Lightning_CNN' target=\"_blank\">https://wandb.ai/A2_DA6401_DL/Lightning_CNN</a>"
      ],
      "text/plain": [
       "<IPython.core.display.HTML object>"
      ]
     },
     "metadata": {},
     "output_type": "display_data"
    },
    {
     "data": {
      "text/html": [
       " View sweep at <a href='https://wandb.ai/A2_DA6401_DL/Lightning_CNN/sweeps/78djv91t' target=\"_blank\">https://wandb.ai/A2_DA6401_DL/Lightning_CNN/sweeps/78djv91t</a>"
      ],
      "text/plain": [
       "<IPython.core.display.HTML object>"
      ]
     },
     "metadata": {},
     "output_type": "display_data"
    },
    {
     "data": {
      "text/html": [
       " View run at <a href='https://wandb.ai/A2_DA6401_DL/Lightning_CNN/runs/atsu1v3a' target=\"_blank\">https://wandb.ai/A2_DA6401_DL/Lightning_CNN/runs/atsu1v3a</a>"
      ],
      "text/plain": [
       "<IPython.core.display.HTML object>"
      ]
     },
     "metadata": {},
     "output_type": "display_data"
    },
    {
     "name": "stdout",
     "output_type": "stream",
     "text": [
      "Not a good combination !!!\n"
     ]
    },
    {
     "data": {
      "text/html": [],
      "text/plain": [
       "<IPython.core.display.HTML object>"
      ]
     },
     "metadata": {},
     "output_type": "display_data"
    },
    {
     "data": {
      "text/html": [
       " View run <strong style=\"color:#cdcd00\">bs_16_layer_act_SiLU_epoch_25_filter_mul_1_num_filters_16</strong> at: <a href='https://wandb.ai/A2_DA6401_DL/Lightning_CNN/runs/atsu1v3a' target=\"_blank\">https://wandb.ai/A2_DA6401_DL/Lightning_CNN/runs/atsu1v3a</a><br> View project at: <a href='https://wandb.ai/A2_DA6401_DL/Lightning_CNN' target=\"_blank\">https://wandb.ai/A2_DA6401_DL/Lightning_CNN</a><br>Synced 5 W&B file(s), 0 media file(s), 0 artifact file(s) and 0 other file(s)"
      ],
      "text/plain": [
       "<IPython.core.display.HTML object>"
      ]
     },
     "metadata": {},
     "output_type": "display_data"
    },
    {
     "data": {
      "text/html": [
       "Find logs at: <code>./wandb/run-20250417_193355-atsu1v3a/logs</code>"
      ],
      "text/plain": [
       "<IPython.core.display.HTML object>"
      ]
     },
     "metadata": {},
     "output_type": "display_data"
    },
    {
     "name": "stderr",
     "output_type": "stream",
     "text": [
      "\u001b[34m\u001b[1mwandb\u001b[0m: Agent Starting Run: mx1jepl9 with config:\n",
      "\u001b[34m\u001b[1mwandb\u001b[0m: \tbatch_norm_conv: True\n",
      "\u001b[34m\u001b[1mwandb\u001b[0m: \tbatch_norm_fc: True\n",
      "\u001b[34m\u001b[1mwandb\u001b[0m: \tbatch_size: 32\n",
      "\u001b[34m\u001b[1mwandb\u001b[0m: \tconv_1_filter_size: 3\n",
      "\u001b[34m\u001b[1mwandb\u001b[0m: \tconv_2_filter_size: 3\n",
      "\u001b[34m\u001b[1mwandb\u001b[0m: \tconv_3_filter_size: 5\n",
      "\u001b[34m\u001b[1mwandb\u001b[0m: \tconv_4_filter_size: 3\n",
      "\u001b[34m\u001b[1mwandb\u001b[0m: \tconv_5_filter_size: 5\n",
      "\u001b[34m\u001b[1mwandb\u001b[0m: \tconv_activation: LeakyReLU\n",
      "\u001b[34m\u001b[1mwandb\u001b[0m: \tconv_padding: [None, None, None, None, None]\n",
      "\u001b[34m\u001b[1mwandb\u001b[0m: \tconv_strides: [1, 1, 1, 1, 1]\n",
      "\u001b[34m\u001b[1mwandb\u001b[0m: \tdata_aug: True\n",
      "\u001b[34m\u001b[1mwandb\u001b[0m: \tdropout_conv: 0.1\n",
      "\u001b[34m\u001b[1mwandb\u001b[0m: \tdropout_fc: 0\n",
      "\u001b[34m\u001b[1mwandb\u001b[0m: \tepochs: 25\n",
      "\u001b[34m\u001b[1mwandb\u001b[0m: \tfc_activations: SELU\n",
      "\u001b[34m\u001b[1mwandb\u001b[0m: \tfc_neurons: 512\n",
      "\u001b[34m\u001b[1mwandb\u001b[0m: \tfilter_mul: 2\n",
      "\u001b[34m\u001b[1mwandb\u001b[0m: \tinput_channels: 3\n",
      "\u001b[34m\u001b[1mwandb\u001b[0m: \tinput_size: [256, 256]\n",
      "\u001b[34m\u001b[1mwandb\u001b[0m: \tlearning_rate: 0.00025\n",
      "\u001b[34m\u001b[1mwandb\u001b[0m: \tmp_layer1_kernel_size: 5\n",
      "\u001b[34m\u001b[1mwandb\u001b[0m: \tmp_layer1_stride: None\n",
      "\u001b[34m\u001b[1mwandb\u001b[0m: \tmp_layer2_kernel_size: 3\n",
      "\u001b[34m\u001b[1mwandb\u001b[0m: \tmp_layer2_stride: None\n",
      "\u001b[34m\u001b[1mwandb\u001b[0m: \tmp_layer3_kernel_size: 3\n",
      "\u001b[34m\u001b[1mwandb\u001b[0m: \tmp_layer3_stride: 2\n",
      "\u001b[34m\u001b[1mwandb\u001b[0m: \tmp_layer4_kernel_size: 2\n",
      "\u001b[34m\u001b[1mwandb\u001b[0m: \tmp_layer4_stride: 3\n",
      "\u001b[34m\u001b[1mwandb\u001b[0m: \tmp_layer5_kernel_size: 3\n",
      "\u001b[34m\u001b[1mwandb\u001b[0m: \tmp_layer5_stride: 3\n",
      "\u001b[34m\u001b[1mwandb\u001b[0m: \tno_of_conv_blocks: 5\n",
      "\u001b[34m\u001b[1mwandb\u001b[0m: \tno_of_fc_layers: 1\n",
      "\u001b[34m\u001b[1mwandb\u001b[0m: \tno_of_filters: 8\n",
      "\u001b[34m\u001b[1mwandb\u001b[0m: \tnum_classes: 10\n",
      "\u001b[34m\u001b[1mwandb\u001b[0m: \tnum_workers: 10\n"
     ]
    },
    {
     "data": {
      "text/html": [
       "Tracking run with wandb version 0.19.9"
      ],
      "text/plain": [
       "<IPython.core.display.HTML object>"
      ]
     },
     "metadata": {},
     "output_type": "display_data"
    },
    {
     "data": {
      "text/html": [
       "Run data is saved locally in <code>/home/joel/Pytorch_CUDA/wandb/run-20250417_193408-mx1jepl9</code>"
      ],
      "text/plain": [
       "<IPython.core.display.HTML object>"
      ]
     },
     "metadata": {},
     "output_type": "display_data"
    },
    {
     "data": {
      "text/html": [
       "Syncing run <strong><a href='https://wandb.ai/A2_DA6401_DL/Lightning_CNN/runs/mx1jepl9' target=\"_blank\">fast-sweep-143</a></strong> to <a href='https://wandb.ai/A2_DA6401_DL/Lightning_CNN' target=\"_blank\">Weights & Biases</a> (<a href='https://wandb.me/developer-guide' target=\"_blank\">docs</a>)<br>Sweep page: <a href='https://wandb.ai/A2_DA6401_DL/Lightning_CNN/sweeps/78djv91t' target=\"_blank\">https://wandb.ai/A2_DA6401_DL/Lightning_CNN/sweeps/78djv91t</a>"
      ],
      "text/plain": [
       "<IPython.core.display.HTML object>"
      ]
     },
     "metadata": {},
     "output_type": "display_data"
    },
    {
     "data": {
      "text/html": [
       " View project at <a href='https://wandb.ai/A2_DA6401_DL/Lightning_CNN' target=\"_blank\">https://wandb.ai/A2_DA6401_DL/Lightning_CNN</a>"
      ],
      "text/plain": [
       "<IPython.core.display.HTML object>"
      ]
     },
     "metadata": {},
     "output_type": "display_data"
    },
    {
     "data": {
      "text/html": [
       " View sweep at <a href='https://wandb.ai/A2_DA6401_DL/Lightning_CNN/sweeps/78djv91t' target=\"_blank\">https://wandb.ai/A2_DA6401_DL/Lightning_CNN/sweeps/78djv91t</a>"
      ],
      "text/plain": [
       "<IPython.core.display.HTML object>"
      ]
     },
     "metadata": {},
     "output_type": "display_data"
    },
    {
     "data": {
      "text/html": [
       " View run at <a href='https://wandb.ai/A2_DA6401_DL/Lightning_CNN/runs/mx1jepl9' target=\"_blank\">https://wandb.ai/A2_DA6401_DL/Lightning_CNN/runs/mx1jepl9</a>"
      ],
      "text/plain": [
       "<IPython.core.display.HTML object>"
      ]
     },
     "metadata": {},
     "output_type": "display_data"
    },
    {
     "name": "stderr",
     "output_type": "stream",
     "text": [
      "You are using the plain ModelCheckpoint callback. Consider using LitModelCheckpoint which with seamless uploading to Model registry.\n",
      "GPU available: True (cuda), used: True\n",
      "TPU available: False, using: 0 TPU cores\n",
      "HPU available: False, using: 0 HPUs\n",
      "/home/joel/Pytorch_CUDA/virt_env/lib/python3.12/site-packages/lightning/pytorch/loggers/wandb.py:397: There is a wandb run already in progress and newly created instances of `WandbLogger` will reuse this run. If this is not desired, call `wandb.finish()` before instantiating `WandbLogger`.\n",
      "LOCAL_RANK: 0 - CUDA_VISIBLE_DEVICES: [0]\n",
      "\n",
      "  | Name       | Type               | Params | Mode \n",
      "----------------------------------------------------------\n",
      "0 | model      | CNN_               | 13.1 M | train\n",
      "1 | loss_fn    | CrossEntropyLoss   | 0      | train\n",
      "2 | acc_metric | MulticlassAccuracy | 0      | train\n",
      "----------------------------------------------------------\n",
      "13.1 M    Trainable params\n",
      "0         Non-trainable params\n",
      "13.1 M    Total params\n",
      "52.359    Total estimated model params size (MB)\n",
      "43        Modules in train mode\n",
      "0         Modules in eval mode\n"
     ]
    },
    {
     "data": {
      "application/vnd.jupyter.widget-view+json": {
       "model_id": "fffa8745081a481a9ed2db6024e82c63",
       "version_major": 2,
       "version_minor": 0
      },
      "text/plain": [
       "Sanity Checking: |          | 0/? [00:00<?, ?it/s]"
      ]
     },
     "metadata": {},
     "output_type": "display_data"
    },
    {
     "data": {
      "application/vnd.jupyter.widget-view+json": {
       "model_id": "665d7208cdf6458ab55aa0f743539ac7",
       "version_major": 2,
       "version_minor": 0
      },
      "text/plain": [
       "Training: |          | 0/? [00:00<?, ?it/s]"
      ]
     },
     "metadata": {},
     "output_type": "display_data"
    },
    {
     "data": {
      "application/vnd.jupyter.widget-view+json": {
       "model_id": "79120b80e6554a26b5c8b9cd5416a831",
       "version_major": 2,
       "version_minor": 0
      },
      "text/plain": [
       "Validation: |          | 0/? [00:00<?, ?it/s]"
      ]
     },
     "metadata": {},
     "output_type": "display_data"
    },
    {
     "data": {
      "application/vnd.jupyter.widget-view+json": {
       "model_id": "b3144786dcf34581aa1e1cabbd9a4c1b",
       "version_major": 2,
       "version_minor": 0
      },
      "text/plain": [
       "Validation: |          | 0/? [00:00<?, ?it/s]"
      ]
     },
     "metadata": {},
     "output_type": "display_data"
    },
    {
     "data": {
      "application/vnd.jupyter.widget-view+json": {
       "model_id": "5c953f2e34094d7a962e21134b309a5d",
       "version_major": 2,
       "version_minor": 0
      },
      "text/plain": [
       "Validation: |          | 0/? [00:00<?, ?it/s]"
      ]
     },
     "metadata": {},
     "output_type": "display_data"
    },
    {
     "data": {
      "application/vnd.jupyter.widget-view+json": {
       "model_id": "71953e20e9dc494faccd61fa8aca2e75",
       "version_major": 2,
       "version_minor": 0
      },
      "text/plain": [
       "Validation: |          | 0/? [00:00<?, ?it/s]"
      ]
     },
     "metadata": {},
     "output_type": "display_data"
    },
    {
     "data": {
      "application/vnd.jupyter.widget-view+json": {
       "model_id": "cd05446fd6fe498c85b5cde9f44194f0",
       "version_major": 2,
       "version_minor": 0
      },
      "text/plain": [
       "Validation: |          | 0/? [00:00<?, ?it/s]"
      ]
     },
     "metadata": {},
     "output_type": "display_data"
    },
    {
     "data": {
      "application/vnd.jupyter.widget-view+json": {
       "model_id": "dcf0da7fe14442c491ab245291c64852",
       "version_major": 2,
       "version_minor": 0
      },
      "text/plain": [
       "Validation: |          | 0/? [00:00<?, ?it/s]"
      ]
     },
     "metadata": {},
     "output_type": "display_data"
    },
    {
     "data": {
      "application/vnd.jupyter.widget-view+json": {
       "model_id": "a54303a5be8c4a01816fb3e7384dcca1",
       "version_major": 2,
       "version_minor": 0
      },
      "text/plain": [
       "Validation: |          | 0/? [00:00<?, ?it/s]"
      ]
     },
     "metadata": {},
     "output_type": "display_data"
    },
    {
     "data": {
      "application/vnd.jupyter.widget-view+json": {
       "model_id": "c21b20e4d7984666bed1978dac3f4740",
       "version_major": 2,
       "version_minor": 0
      },
      "text/plain": [
       "Validation: |          | 0/? [00:00<?, ?it/s]"
      ]
     },
     "metadata": {},
     "output_type": "display_data"
    },
    {
     "data": {
      "application/vnd.jupyter.widget-view+json": {
       "model_id": "712abf21b2104b0a868c889ce6d70451",
       "version_major": 2,
       "version_minor": 0
      },
      "text/plain": [
       "Validation: |          | 0/? [00:00<?, ?it/s]"
      ]
     },
     "metadata": {},
     "output_type": "display_data"
    },
    {
     "data": {
      "application/vnd.jupyter.widget-view+json": {
       "model_id": "64dd1ccb817b449dae39f98794a1de80",
       "version_major": 2,
       "version_minor": 0
      },
      "text/plain": [
       "Validation: |          | 0/? [00:00<?, ?it/s]"
      ]
     },
     "metadata": {},
     "output_type": "display_data"
    },
    {
     "data": {
      "application/vnd.jupyter.widget-view+json": {
       "model_id": "d117179099b04457aff06ae5d2433266",
       "version_major": 2,
       "version_minor": 0
      },
      "text/plain": [
       "Validation: |          | 0/? [00:00<?, ?it/s]"
      ]
     },
     "metadata": {},
     "output_type": "display_data"
    },
    {
     "data": {
      "application/vnd.jupyter.widget-view+json": {
       "model_id": "1460be2d76e84728ba898b222d92e337",
       "version_major": 2,
       "version_minor": 0
      },
      "text/plain": [
       "Validation: |          | 0/? [00:00<?, ?it/s]"
      ]
     },
     "metadata": {},
     "output_type": "display_data"
    },
    {
     "data": {
      "application/vnd.jupyter.widget-view+json": {
       "model_id": "9828e21f75d34059bf3cadcbcf146723",
       "version_major": 2,
       "version_minor": 0
      },
      "text/plain": [
       "Validation: |          | 0/? [00:00<?, ?it/s]"
      ]
     },
     "metadata": {},
     "output_type": "display_data"
    },
    {
     "data": {
      "application/vnd.jupyter.widget-view+json": {
       "model_id": "c0ef1336349944d685ce43f6606e0188",
       "version_major": 2,
       "version_minor": 0
      },
      "text/plain": [
       "Validation: |          | 0/? [00:00<?, ?it/s]"
      ]
     },
     "metadata": {},
     "output_type": "display_data"
    },
    {
     "data": {
      "application/vnd.jupyter.widget-view+json": {
       "model_id": "84e4afac47664d78ac44a58e5e5562e0",
       "version_major": 2,
       "version_minor": 0
      },
      "text/plain": [
       "Validation: |          | 0/? [00:00<?, ?it/s]"
      ]
     },
     "metadata": {},
     "output_type": "display_data"
    },
    {
     "data": {
      "application/vnd.jupyter.widget-view+json": {
       "model_id": "c784670f95f84f28b2e144540670a56c",
       "version_major": 2,
       "version_minor": 0
      },
      "text/plain": [
       "Validation: |          | 0/? [00:00<?, ?it/s]"
      ]
     },
     "metadata": {},
     "output_type": "display_data"
    },
    {
     "data": {
      "application/vnd.jupyter.widget-view+json": {
       "model_id": "91d19f80309549b2a92cd96938f37c55",
       "version_major": 2,
       "version_minor": 0
      },
      "text/plain": [
       "Validation: |          | 0/? [00:00<?, ?it/s]"
      ]
     },
     "metadata": {},
     "output_type": "display_data"
    },
    {
     "data": {
      "application/vnd.jupyter.widget-view+json": {
       "model_id": "0fd690f30da64608b3336220e65f6a00",
       "version_major": 2,
       "version_minor": 0
      },
      "text/plain": [
       "Validation: |          | 0/? [00:00<?, ?it/s]"
      ]
     },
     "metadata": {},
     "output_type": "display_data"
    },
    {
     "data": {
      "application/vnd.jupyter.widget-view+json": {
       "model_id": "518bd6dc6f154e64ac9139e0e49bd685",
       "version_major": 2,
       "version_minor": 0
      },
      "text/plain": [
       "Validation: |          | 0/? [00:00<?, ?it/s]"
      ]
     },
     "metadata": {},
     "output_type": "display_data"
    },
    {
     "data": {
      "application/vnd.jupyter.widget-view+json": {
       "model_id": "1ec9269beb9b430fb46a78bec54615c5",
       "version_major": 2,
       "version_minor": 0
      },
      "text/plain": [
       "Validation: |          | 0/? [00:00<?, ?it/s]"
      ]
     },
     "metadata": {},
     "output_type": "display_data"
    },
    {
     "data": {
      "application/vnd.jupyter.widget-view+json": {
       "model_id": "d796d1667e894c3d86fd0fd958916c70",
       "version_major": 2,
       "version_minor": 0
      },
      "text/plain": [
       "Validation: |          | 0/? [00:00<?, ?it/s]"
      ]
     },
     "metadata": {},
     "output_type": "display_data"
    },
    {
     "data": {
      "application/vnd.jupyter.widget-view+json": {
       "model_id": "02879d9095be4065b583e1e09f3cafc2",
       "version_major": 2,
       "version_minor": 0
      },
      "text/plain": [
       "Validation: |          | 0/? [00:00<?, ?it/s]"
      ]
     },
     "metadata": {},
     "output_type": "display_data"
    },
    {
     "data": {
      "application/vnd.jupyter.widget-view+json": {
       "model_id": "37a1558fa4e9471d9a1f3ca16312f887",
       "version_major": 2,
       "version_minor": 0
      },
      "text/plain": [
       "Validation: |          | 0/? [00:00<?, ?it/s]"
      ]
     },
     "metadata": {},
     "output_type": "display_data"
    },
    {
     "data": {
      "application/vnd.jupyter.widget-view+json": {
       "model_id": "d39b965a9b1344c9bfed9534883300c5",
       "version_major": 2,
       "version_minor": 0
      },
      "text/plain": [
       "Validation: |          | 0/? [00:00<?, ?it/s]"
      ]
     },
     "metadata": {},
     "output_type": "display_data"
    },
    {
     "data": {
      "application/vnd.jupyter.widget-view+json": {
       "model_id": "92e5935d81e949bda8366fed9deac450",
       "version_major": 2,
       "version_minor": 0
      },
      "text/plain": [
       "Validation: |          | 0/? [00:00<?, ?it/s]"
      ]
     },
     "metadata": {},
     "output_type": "display_data"
    },
    {
     "name": "stderr",
     "output_type": "stream",
     "text": [
      "`Trainer.fit` stopped: `max_epochs=25` reached.\n"
     ]
    },
    {
     "data": {
      "text/html": [],
      "text/plain": [
       "<IPython.core.display.HTML object>"
      ]
     },
     "metadata": {},
     "output_type": "display_data"
    },
    {
     "data": {
      "text/html": [
       "<br>    <style><br>        .wandb-row {<br>            display: flex;<br>            flex-direction: row;<br>            flex-wrap: wrap;<br>            justify-content: flex-start;<br>            width: 100%;<br>        }<br>        .wandb-col {<br>            display: flex;<br>            flex-direction: column;<br>            flex-basis: 100%;<br>            flex: 1;<br>            padding: 10px;<br>        }<br>    </style><br><div class=\"wandb-row\"><div class=\"wandb-col\"><h3>Run history:</h3><br/><table class=\"wandb\"><tr><td>epoch</td><td>▁▁▁▁▂▂▂▂▂▂▃▃▃▃▃▄▄▄▄▄▅▅▅▅▅▅▆▆▆▆▆▇▇▇▇▇▇███</td></tr><tr><td>train_loss</td><td>█▇▇▆▆▆▅▅▅▄▄▃▃▃▃▂▂▂▂▂▁▁▁▁▁</td></tr><tr><td>trainer/global_step</td><td>▁▁▁▁▂▂▂▂▂▂▃▃▃▃▃▄▄▄▄▄▅▅▅▅▅▅▆▆▆▆▇▇▇▇▇▇▇███</td></tr><tr><td>val_acc</td><td>▁▅▅▄█▆▆▇▆▇▆▇▆█▇█▇▇▇█▇▇▆██</td></tr><tr><td>val_loss</td><td>█▄▄▅▁▂▃▂▃▂▃▂▃▁▂▁▂▂▂▁▂▂▃▁▁</td></tr></table><br/></div><div class=\"wandb-col\"><h3>Run summary:</h3><br/><table class=\"wandb\"><tr><td>epoch</td><td>24</td></tr><tr><td>train_loss</td><td>1.72577</td></tr><tr><td>trainer/global_step</td><td>6224</td></tr><tr><td>val_acc</td><td>0.334</td></tr><tr><td>val_loss</td><td>2.12486</td></tr></table><br/></div></div>"
      ],
      "text/plain": [
       "<IPython.core.display.HTML object>"
      ]
     },
     "metadata": {},
     "output_type": "display_data"
    },
    {
     "data": {
      "text/html": [
       " View run <strong style=\"color:#cdcd00\">bs_32_layer_act_LeakyReLU_epoch_25_filter_mul_2_num_filters_8</strong> at: <a href='https://wandb.ai/A2_DA6401_DL/Lightning_CNN/runs/mx1jepl9' target=\"_blank\">https://wandb.ai/A2_DA6401_DL/Lightning_CNN/runs/mx1jepl9</a><br> View project at: <a href='https://wandb.ai/A2_DA6401_DL/Lightning_CNN' target=\"_blank\">https://wandb.ai/A2_DA6401_DL/Lightning_CNN</a><br>Synced 5 W&B file(s), 0 media file(s), 0 artifact file(s) and 0 other file(s)"
      ],
      "text/plain": [
       "<IPython.core.display.HTML object>"
      ]
     },
     "metadata": {},
     "output_type": "display_data"
    },
    {
     "data": {
      "text/html": [
       "Find logs at: <code>./wandb/run-20250417_193408-mx1jepl9/logs</code>"
      ],
      "text/plain": [
       "<IPython.core.display.HTML object>"
      ]
     },
     "metadata": {},
     "output_type": "display_data"
    },
    {
     "name": "stderr",
     "output_type": "stream",
     "text": [
      "\u001b[34m\u001b[1mwandb\u001b[0m: Sweep Agent: Waiting for job.\n",
      "\u001b[34m\u001b[1mwandb\u001b[0m: Job received.\n",
      "\u001b[34m\u001b[1mwandb\u001b[0m: Agent Starting Run: xp2e5ysv with config:\n",
      "\u001b[34m\u001b[1mwandb\u001b[0m: \tbatch_norm_conv: True\n",
      "\u001b[34m\u001b[1mwandb\u001b[0m: \tbatch_norm_fc: True\n",
      "\u001b[34m\u001b[1mwandb\u001b[0m: \tbatch_size: 16\n",
      "\u001b[34m\u001b[1mwandb\u001b[0m: \tconv_1_filter_size: 5\n",
      "\u001b[34m\u001b[1mwandb\u001b[0m: \tconv_2_filter_size: 5\n",
      "\u001b[34m\u001b[1mwandb\u001b[0m: \tconv_3_filter_size: 5\n",
      "\u001b[34m\u001b[1mwandb\u001b[0m: \tconv_4_filter_size: 3\n",
      "\u001b[34m\u001b[1mwandb\u001b[0m: \tconv_5_filter_size: 5\n",
      "\u001b[34m\u001b[1mwandb\u001b[0m: \tconv_activation: Mish\n",
      "\u001b[34m\u001b[1mwandb\u001b[0m: \tconv_padding: [None, None, None, None, None]\n",
      "\u001b[34m\u001b[1mwandb\u001b[0m: \tconv_strides: [1, 1, 1, 1, 1]\n",
      "\u001b[34m\u001b[1mwandb\u001b[0m: \tdata_aug: True\n",
      "\u001b[34m\u001b[1mwandb\u001b[0m: \tdropout_conv: 0.1\n",
      "\u001b[34m\u001b[1mwandb\u001b[0m: \tdropout_fc: 0.2\n",
      "\u001b[34m\u001b[1mwandb\u001b[0m: \tepochs: 25\n",
      "\u001b[34m\u001b[1mwandb\u001b[0m: \tfc_activations: Mish\n",
      "\u001b[34m\u001b[1mwandb\u001b[0m: \tfc_neurons: 1024\n",
      "\u001b[34m\u001b[1mwandb\u001b[0m: \tfilter_mul: 2\n",
      "\u001b[34m\u001b[1mwandb\u001b[0m: \tinput_channels: 3\n",
      "\u001b[34m\u001b[1mwandb\u001b[0m: \tinput_size: [256, 256]\n",
      "\u001b[34m\u001b[1mwandb\u001b[0m: \tlearning_rate: 0.00025\n",
      "\u001b[34m\u001b[1mwandb\u001b[0m: \tmp_layer1_kernel_size: 2\n",
      "\u001b[34m\u001b[1mwandb\u001b[0m: \tmp_layer1_stride: 3\n",
      "\u001b[34m\u001b[1mwandb\u001b[0m: \tmp_layer2_kernel_size: 5\n",
      "\u001b[34m\u001b[1mwandb\u001b[0m: \tmp_layer2_stride: None\n",
      "\u001b[34m\u001b[1mwandb\u001b[0m: \tmp_layer3_kernel_size: 5\n",
      "\u001b[34m\u001b[1mwandb\u001b[0m: \tmp_layer3_stride: 3\n",
      "\u001b[34m\u001b[1mwandb\u001b[0m: \tmp_layer4_kernel_size: 3\n",
      "\u001b[34m\u001b[1mwandb\u001b[0m: \tmp_layer4_stride: 2\n",
      "\u001b[34m\u001b[1mwandb\u001b[0m: \tmp_layer5_kernel_size: 3\n",
      "\u001b[34m\u001b[1mwandb\u001b[0m: \tmp_layer5_stride: 2\n",
      "\u001b[34m\u001b[1mwandb\u001b[0m: \tno_of_conv_blocks: 5\n",
      "\u001b[34m\u001b[1mwandb\u001b[0m: \tno_of_fc_layers: 1\n",
      "\u001b[34m\u001b[1mwandb\u001b[0m: \tno_of_filters: 512\n",
      "\u001b[34m\u001b[1mwandb\u001b[0m: \tnum_classes: 10\n",
      "\u001b[34m\u001b[1mwandb\u001b[0m: \tnum_workers: 10\n"
     ]
    },
    {
     "data": {
      "text/html": [
       "Tracking run with wandb version 0.19.9"
      ],
      "text/plain": [
       "<IPython.core.display.HTML object>"
      ]
     },
     "metadata": {},
     "output_type": "display_data"
    },
    {
     "data": {
      "text/html": [
       "Run data is saved locally in <code>/home/joel/Pytorch_CUDA/wandb/run-20250417_200737-xp2e5ysv</code>"
      ],
      "text/plain": [
       "<IPython.core.display.HTML object>"
      ]
     },
     "metadata": {},
     "output_type": "display_data"
    },
    {
     "data": {
      "text/html": [
       "Syncing run <strong><a href='https://wandb.ai/A2_DA6401_DL/Lightning_CNN/runs/xp2e5ysv' target=\"_blank\">hearty-sweep-151</a></strong> to <a href='https://wandb.ai/A2_DA6401_DL/Lightning_CNN' target=\"_blank\">Weights & Biases</a> (<a href='https://wandb.me/developer-guide' target=\"_blank\">docs</a>)<br>Sweep page: <a href='https://wandb.ai/A2_DA6401_DL/Lightning_CNN/sweeps/78djv91t' target=\"_blank\">https://wandb.ai/A2_DA6401_DL/Lightning_CNN/sweeps/78djv91t</a>"
      ],
      "text/plain": [
       "<IPython.core.display.HTML object>"
      ]
     },
     "metadata": {},
     "output_type": "display_data"
    },
    {
     "data": {
      "text/html": [
       " View project at <a href='https://wandb.ai/A2_DA6401_DL/Lightning_CNN' target=\"_blank\">https://wandb.ai/A2_DA6401_DL/Lightning_CNN</a>"
      ],
      "text/plain": [
       "<IPython.core.display.HTML object>"
      ]
     },
     "metadata": {},
     "output_type": "display_data"
    },
    {
     "data": {
      "text/html": [
       " View sweep at <a href='https://wandb.ai/A2_DA6401_DL/Lightning_CNN/sweeps/78djv91t' target=\"_blank\">https://wandb.ai/A2_DA6401_DL/Lightning_CNN/sweeps/78djv91t</a>"
      ],
      "text/plain": [
       "<IPython.core.display.HTML object>"
      ]
     },
     "metadata": {},
     "output_type": "display_data"
    },
    {
     "data": {
      "text/html": [
       " View run at <a href='https://wandb.ai/A2_DA6401_DL/Lightning_CNN/runs/xp2e5ysv' target=\"_blank\">https://wandb.ai/A2_DA6401_DL/Lightning_CNN/runs/xp2e5ysv</a>"
      ],
      "text/plain": [
       "<IPython.core.display.HTML object>"
      ]
     },
     "metadata": {},
     "output_type": "display_data"
    },
    {
     "name": "stdout",
     "output_type": "stream",
     "text": [
      "Not a good combination !!!\n"
     ]
    },
    {
     "data": {
      "text/html": [],
      "text/plain": [
       "<IPython.core.display.HTML object>"
      ]
     },
     "metadata": {},
     "output_type": "display_data"
    },
    {
     "data": {
      "text/html": [
       " View run <strong style=\"color:#cdcd00\">bs_16_layer_act_Mish_epoch_25_filter_mul_2_num_filters_512</strong> at: <a href='https://wandb.ai/A2_DA6401_DL/Lightning_CNN/runs/xp2e5ysv' target=\"_blank\">https://wandb.ai/A2_DA6401_DL/Lightning_CNN/runs/xp2e5ysv</a><br> View project at: <a href='https://wandb.ai/A2_DA6401_DL/Lightning_CNN' target=\"_blank\">https://wandb.ai/A2_DA6401_DL/Lightning_CNN</a><br>Synced 5 W&B file(s), 0 media file(s), 0 artifact file(s) and 0 other file(s)"
      ],
      "text/plain": [
       "<IPython.core.display.HTML object>"
      ]
     },
     "metadata": {},
     "output_type": "display_data"
    },
    {
     "data": {
      "text/html": [
       "Find logs at: <code>./wandb/run-20250417_200737-xp2e5ysv/logs</code>"
      ],
      "text/plain": [
       "<IPython.core.display.HTML object>"
      ]
     },
     "metadata": {},
     "output_type": "display_data"
    },
    {
     "name": "stderr",
     "output_type": "stream",
     "text": [
      "\u001b[34m\u001b[1mwandb\u001b[0m: Sweep Agent: Waiting for job.\n",
      "\u001b[34m\u001b[1mwandb\u001b[0m: Job received.\n",
      "\u001b[34m\u001b[1mwandb\u001b[0m: Agent Starting Run: pk6x32yx with config:\n",
      "\u001b[34m\u001b[1mwandb\u001b[0m: \tbatch_norm_conv: False\n",
      "\u001b[34m\u001b[1mwandb\u001b[0m: \tbatch_norm_fc: True\n",
      "\u001b[34m\u001b[1mwandb\u001b[0m: \tbatch_size: 16\n",
      "\u001b[34m\u001b[1mwandb\u001b[0m: \tconv_1_filter_size: 3\n",
      "\u001b[34m\u001b[1mwandb\u001b[0m: \tconv_2_filter_size: 5\n",
      "\u001b[34m\u001b[1mwandb\u001b[0m: \tconv_3_filter_size: 5\n",
      "\u001b[34m\u001b[1mwandb\u001b[0m: \tconv_4_filter_size: 3\n",
      "\u001b[34m\u001b[1mwandb\u001b[0m: \tconv_5_filter_size: 5\n",
      "\u001b[34m\u001b[1mwandb\u001b[0m: \tconv_activation: SiLU\n",
      "\u001b[34m\u001b[1mwandb\u001b[0m: \tconv_padding: [None, None, None, None, None]\n",
      "\u001b[34m\u001b[1mwandb\u001b[0m: \tconv_strides: [1, 1, 1, 1, 1]\n",
      "\u001b[34m\u001b[1mwandb\u001b[0m: \tdata_aug: True\n",
      "\u001b[34m\u001b[1mwandb\u001b[0m: \tdropout_conv: 0.2\n",
      "\u001b[34m\u001b[1mwandb\u001b[0m: \tdropout_fc: 0.2\n",
      "\u001b[34m\u001b[1mwandb\u001b[0m: \tepochs: 25\n",
      "\u001b[34m\u001b[1mwandb\u001b[0m: \tfc_activations: Mish\n",
      "\u001b[34m\u001b[1mwandb\u001b[0m: \tfc_neurons: 512\n",
      "\u001b[34m\u001b[1mwandb\u001b[0m: \tfilter_mul: 2\n",
      "\u001b[34m\u001b[1mwandb\u001b[0m: \tinput_channels: 3\n",
      "\u001b[34m\u001b[1mwandb\u001b[0m: \tinput_size: [256, 256]\n",
      "\u001b[34m\u001b[1mwandb\u001b[0m: \tlearning_rate: 0.00025\n",
      "\u001b[34m\u001b[1mwandb\u001b[0m: \tmp_layer1_kernel_size: 2\n",
      "\u001b[34m\u001b[1mwandb\u001b[0m: \tmp_layer1_stride: 3\n",
      "\u001b[34m\u001b[1mwandb\u001b[0m: \tmp_layer2_kernel_size: 2\n",
      "\u001b[34m\u001b[1mwandb\u001b[0m: \tmp_layer2_stride: 3\n",
      "\u001b[34m\u001b[1mwandb\u001b[0m: \tmp_layer3_kernel_size: 3\n",
      "\u001b[34m\u001b[1mwandb\u001b[0m: \tmp_layer3_stride: 3\n",
      "\u001b[34m\u001b[1mwandb\u001b[0m: \tmp_layer4_kernel_size: 3\n",
      "\u001b[34m\u001b[1mwandb\u001b[0m: \tmp_layer4_stride: 2\n",
      "\u001b[34m\u001b[1mwandb\u001b[0m: \tmp_layer5_kernel_size: 2\n",
      "\u001b[34m\u001b[1mwandb\u001b[0m: \tmp_layer5_stride: 3\n",
      "\u001b[34m\u001b[1mwandb\u001b[0m: \tno_of_conv_blocks: 5\n",
      "\u001b[34m\u001b[1mwandb\u001b[0m: \tno_of_fc_layers: 1\n",
      "\u001b[34m\u001b[1mwandb\u001b[0m: \tno_of_filters: 16\n",
      "\u001b[34m\u001b[1mwandb\u001b[0m: \tnum_classes: 10\n",
      "\u001b[34m\u001b[1mwandb\u001b[0m: \tnum_workers: 10\n"
     ]
    },
    {
     "data": {
      "text/html": [
       "Tracking run with wandb version 0.19.9"
      ],
      "text/plain": [
       "<IPython.core.display.HTML object>"
      ]
     },
     "metadata": {},
     "output_type": "display_data"
    },
    {
     "data": {
      "text/html": [
       "Run data is saved locally in <code>/home/joel/Pytorch_CUDA/wandb/run-20250417_200751-pk6x32yx</code>"
      ],
      "text/plain": [
       "<IPython.core.display.HTML object>"
      ]
     },
     "metadata": {},
     "output_type": "display_data"
    },
    {
     "data": {
      "text/html": [
       "Syncing run <strong><a href='https://wandb.ai/A2_DA6401_DL/Lightning_CNN/runs/pk6x32yx' target=\"_blank\">olive-sweep-152</a></strong> to <a href='https://wandb.ai/A2_DA6401_DL/Lightning_CNN' target=\"_blank\">Weights & Biases</a> (<a href='https://wandb.me/developer-guide' target=\"_blank\">docs</a>)<br>Sweep page: <a href='https://wandb.ai/A2_DA6401_DL/Lightning_CNN/sweeps/78djv91t' target=\"_blank\">https://wandb.ai/A2_DA6401_DL/Lightning_CNN/sweeps/78djv91t</a>"
      ],
      "text/plain": [
       "<IPython.core.display.HTML object>"
      ]
     },
     "metadata": {},
     "output_type": "display_data"
    },
    {
     "data": {
      "text/html": [
       " View project at <a href='https://wandb.ai/A2_DA6401_DL/Lightning_CNN' target=\"_blank\">https://wandb.ai/A2_DA6401_DL/Lightning_CNN</a>"
      ],
      "text/plain": [
       "<IPython.core.display.HTML object>"
      ]
     },
     "metadata": {},
     "output_type": "display_data"
    },
    {
     "data": {
      "text/html": [
       " View sweep at <a href='https://wandb.ai/A2_DA6401_DL/Lightning_CNN/sweeps/78djv91t' target=\"_blank\">https://wandb.ai/A2_DA6401_DL/Lightning_CNN/sweeps/78djv91t</a>"
      ],
      "text/plain": [
       "<IPython.core.display.HTML object>"
      ]
     },
     "metadata": {},
     "output_type": "display_data"
    },
    {
     "data": {
      "text/html": [
       " View run at <a href='https://wandb.ai/A2_DA6401_DL/Lightning_CNN/runs/pk6x32yx' target=\"_blank\">https://wandb.ai/A2_DA6401_DL/Lightning_CNN/runs/pk6x32yx</a>"
      ],
      "text/plain": [
       "<IPython.core.display.HTML object>"
      ]
     },
     "metadata": {},
     "output_type": "display_data"
    },
    {
     "name": "stderr",
     "output_type": "stream",
     "text": [
      "You are using the plain ModelCheckpoint callback. Consider using LitModelCheckpoint which with seamless uploading to Model registry.\n",
      "GPU available: True (cuda), used: True\n",
      "TPU available: False, using: 0 TPU cores\n",
      "HPU available: False, using: 0 HPUs\n",
      "/home/joel/Pytorch_CUDA/virt_env/lib/python3.12/site-packages/lightning/pytorch/loggers/wandb.py:397: There is a wandb run already in progress and newly created instances of `WandbLogger` will reuse this run. If this is not desired, call `wandb.finish()` before instantiating `WandbLogger`.\n",
      "LOCAL_RANK: 0 - CUDA_VISIBLE_DEVICES: [0]\n",
      "\n",
      "  | Name       | Type               | Params | Mode \n",
      "----------------------------------------------------------\n",
      "0 | model      | CNN_               | 1.1 M  | train\n",
      "1 | loss_fn    | CrossEntropyLoss   | 0      | train\n",
      "2 | acc_metric | MulticlassAccuracy | 0      | train\n",
      "----------------------------------------------------------\n",
      "1.1 M     Trainable params\n",
      "0         Non-trainable params\n",
      "1.1 M     Total params\n",
      "4.382     Total estimated model params size (MB)\n",
      "43        Modules in train mode\n",
      "0         Modules in eval mode\n"
     ]
    },
    {
     "data": {
      "application/vnd.jupyter.widget-view+json": {
       "model_id": "878f57ba13fb434e889cb0348d677f20",
       "version_major": 2,
       "version_minor": 0
      },
      "text/plain": [
       "Sanity Checking: |          | 0/? [00:00<?, ?it/s]"
      ]
     },
     "metadata": {},
     "output_type": "display_data"
    },
    {
     "data": {
      "application/vnd.jupyter.widget-view+json": {
       "model_id": "ed1a65514a3948d4bf9e3b9c6d635957",
       "version_major": 2,
       "version_minor": 0
      },
      "text/plain": [
       "Training: |          | 0/? [00:00<?, ?it/s]"
      ]
     },
     "metadata": {},
     "output_type": "display_data"
    },
    {
     "data": {
      "application/vnd.jupyter.widget-view+json": {
       "model_id": "1a9e142437504b508c7bdd8ed08de613",
       "version_major": 2,
       "version_minor": 0
      },
      "text/plain": [
       "Validation: |          | 0/? [00:00<?, ?it/s]"
      ]
     },
     "metadata": {},
     "output_type": "display_data"
    },
    {
     "data": {
      "application/vnd.jupyter.widget-view+json": {
       "model_id": "843ab618f7944b95a4d2e178bb8dd71f",
       "version_major": 2,
       "version_minor": 0
      },
      "text/plain": [
       "Validation: |          | 0/? [00:00<?, ?it/s]"
      ]
     },
     "metadata": {},
     "output_type": "display_data"
    },
    {
     "data": {
      "application/vnd.jupyter.widget-view+json": {
       "model_id": "dfdf54e305924ecbb5d03c13adcb5acc",
       "version_major": 2,
       "version_minor": 0
      },
      "text/plain": [
       "Validation: |          | 0/? [00:00<?, ?it/s]"
      ]
     },
     "metadata": {},
     "output_type": "display_data"
    },
    {
     "data": {
      "application/vnd.jupyter.widget-view+json": {
       "model_id": "a8b6f733fab24937bff3ee7b493e108a",
       "version_major": 2,
       "version_minor": 0
      },
      "text/plain": [
       "Validation: |          | 0/? [00:00<?, ?it/s]"
      ]
     },
     "metadata": {},
     "output_type": "display_data"
    },
    {
     "data": {
      "application/vnd.jupyter.widget-view+json": {
       "model_id": "473760164e7643e68feb8e7581a6524a",
       "version_major": 2,
       "version_minor": 0
      },
      "text/plain": [
       "Validation: |          | 0/? [00:00<?, ?it/s]"
      ]
     },
     "metadata": {},
     "output_type": "display_data"
    },
    {
     "data": {
      "application/vnd.jupyter.widget-view+json": {
       "model_id": "87b250acde2c4fb6b778bc81b1f86a7f",
       "version_major": 2,
       "version_minor": 0
      },
      "text/plain": [
       "Validation: |          | 0/? [00:00<?, ?it/s]"
      ]
     },
     "metadata": {},
     "output_type": "display_data"
    },
    {
     "data": {
      "application/vnd.jupyter.widget-view+json": {
       "model_id": "df6b5481445a41fea6d8de8c34c45322",
       "version_major": 2,
       "version_minor": 0
      },
      "text/plain": [
       "Validation: |          | 0/? [00:00<?, ?it/s]"
      ]
     },
     "metadata": {},
     "output_type": "display_data"
    },
    {
     "data": {
      "application/vnd.jupyter.widget-view+json": {
       "model_id": "0b115eb8785b43509a6261add0097694",
       "version_major": 2,
       "version_minor": 0
      },
      "text/plain": [
       "Validation: |          | 0/? [00:00<?, ?it/s]"
      ]
     },
     "metadata": {},
     "output_type": "display_data"
    },
    {
     "data": {
      "application/vnd.jupyter.widget-view+json": {
       "model_id": "f67d5312c2e84288abe85352ffdee492",
       "version_major": 2,
       "version_minor": 0
      },
      "text/plain": [
       "Validation: |          | 0/? [00:00<?, ?it/s]"
      ]
     },
     "metadata": {},
     "output_type": "display_data"
    },
    {
     "data": {
      "application/vnd.jupyter.widget-view+json": {
       "model_id": "83f3d96ebe3048c0a8dc33505114fff1",
       "version_major": 2,
       "version_minor": 0
      },
      "text/plain": [
       "Validation: |          | 0/? [00:00<?, ?it/s]"
      ]
     },
     "metadata": {},
     "output_type": "display_data"
    },
    {
     "data": {
      "application/vnd.jupyter.widget-view+json": {
       "model_id": "e0d81a5486d0411191241d8bfb2f9b02",
       "version_major": 2,
       "version_minor": 0
      },
      "text/plain": [
       "Validation: |          | 0/? [00:00<?, ?it/s]"
      ]
     },
     "metadata": {},
     "output_type": "display_data"
    },
    {
     "data": {
      "application/vnd.jupyter.widget-view+json": {
       "model_id": "de2bdf9d0ee04e7a90e3be518486ef03",
       "version_major": 2,
       "version_minor": 0
      },
      "text/plain": [
       "Validation: |          | 0/? [00:00<?, ?it/s]"
      ]
     },
     "metadata": {},
     "output_type": "display_data"
    },
    {
     "data": {
      "application/vnd.jupyter.widget-view+json": {
       "model_id": "86ab25a987c842be84f3cb84b6cb0fc6",
       "version_major": 2,
       "version_minor": 0
      },
      "text/plain": [
       "Validation: |          | 0/? [00:00<?, ?it/s]"
      ]
     },
     "metadata": {},
     "output_type": "display_data"
    },
    {
     "data": {
      "application/vnd.jupyter.widget-view+json": {
       "model_id": "8ea395e4191846d9a9783ae8295d3a27",
       "version_major": 2,
       "version_minor": 0
      },
      "text/plain": [
       "Validation: |          | 0/? [00:00<?, ?it/s]"
      ]
     },
     "metadata": {},
     "output_type": "display_data"
    },
    {
     "data": {
      "application/vnd.jupyter.widget-view+json": {
       "model_id": "87e13861ab6d41c5adc8fb444acb6a45",
       "version_major": 2,
       "version_minor": 0
      },
      "text/plain": [
       "Validation: |          | 0/? [00:00<?, ?it/s]"
      ]
     },
     "metadata": {},
     "output_type": "display_data"
    },
    {
     "data": {
      "application/vnd.jupyter.widget-view+json": {
       "model_id": "45e54e751bfb4c4ea79e90b915f603d5",
       "version_major": 2,
       "version_minor": 0
      },
      "text/plain": [
       "Validation: |          | 0/? [00:00<?, ?it/s]"
      ]
     },
     "metadata": {},
     "output_type": "display_data"
    },
    {
     "data": {
      "application/vnd.jupyter.widget-view+json": {
       "model_id": "19121a2aa1c945999c8a6fa2dbb759bb",
       "version_major": 2,
       "version_minor": 0
      },
      "text/plain": [
       "Validation: |          | 0/? [00:00<?, ?it/s]"
      ]
     },
     "metadata": {},
     "output_type": "display_data"
    },
    {
     "data": {
      "application/vnd.jupyter.widget-view+json": {
       "model_id": "6c132cdd7a4e44819c93539c83cb1154",
       "version_major": 2,
       "version_minor": 0
      },
      "text/plain": [
       "Validation: |          | 0/? [00:00<?, ?it/s]"
      ]
     },
     "metadata": {},
     "output_type": "display_data"
    },
    {
     "data": {
      "application/vnd.jupyter.widget-view+json": {
       "model_id": "13a1c8e63b034c29a8a64f1a521fc992",
       "version_major": 2,
       "version_minor": 0
      },
      "text/plain": [
       "Validation: |          | 0/? [00:00<?, ?it/s]"
      ]
     },
     "metadata": {},
     "output_type": "display_data"
    },
    {
     "data": {
      "application/vnd.jupyter.widget-view+json": {
       "model_id": "4f33f4636eda435f974c152fd49cd254",
       "version_major": 2,
       "version_minor": 0
      },
      "text/plain": [
       "Validation: |          | 0/? [00:00<?, ?it/s]"
      ]
     },
     "metadata": {},
     "output_type": "display_data"
    },
    {
     "data": {
      "application/vnd.jupyter.widget-view+json": {
       "model_id": "ce6952a88fee4bef892f592302ab6a4e",
       "version_major": 2,
       "version_minor": 0
      },
      "text/plain": [
       "Validation: |          | 0/? [00:00<?, ?it/s]"
      ]
     },
     "metadata": {},
     "output_type": "display_data"
    },
    {
     "data": {
      "application/vnd.jupyter.widget-view+json": {
       "model_id": "c430fe55ce814cfb97dd4dfc74b4c2b8",
       "version_major": 2,
       "version_minor": 0
      },
      "text/plain": [
       "Validation: |          | 0/? [00:00<?, ?it/s]"
      ]
     },
     "metadata": {},
     "output_type": "display_data"
    },
    {
     "data": {
      "application/vnd.jupyter.widget-view+json": {
       "model_id": "8e63460420984fa88fa4705ea159984e",
       "version_major": 2,
       "version_minor": 0
      },
      "text/plain": [
       "Validation: |          | 0/? [00:00<?, ?it/s]"
      ]
     },
     "metadata": {},
     "output_type": "display_data"
    },
    {
     "data": {
      "application/vnd.jupyter.widget-view+json": {
       "model_id": "ef345d3546dc4b4eb58d217845dd5797",
       "version_major": 2,
       "version_minor": 0
      },
      "text/plain": [
       "Validation: |          | 0/? [00:00<?, ?it/s]"
      ]
     },
     "metadata": {},
     "output_type": "display_data"
    },
    {
     "data": {
      "application/vnd.jupyter.widget-view+json": {
       "model_id": "8c4b26891eee407d93bffe8ad904dfe2",
       "version_major": 2,
       "version_minor": 0
      },
      "text/plain": [
       "Validation: |          | 0/? [00:00<?, ?it/s]"
      ]
     },
     "metadata": {},
     "output_type": "display_data"
    },
    {
     "name": "stderr",
     "output_type": "stream",
     "text": [
      "`Trainer.fit` stopped: `max_epochs=25` reached.\n"
     ]
    },
    {
     "data": {
      "text/html": [],
      "text/plain": [
       "<IPython.core.display.HTML object>"
      ]
     },
     "metadata": {},
     "output_type": "display_data"
    },
    {
     "data": {
      "text/html": [
       "<br>    <style><br>        .wandb-row {<br>            display: flex;<br>            flex-direction: row;<br>            flex-wrap: wrap;<br>            justify-content: flex-start;<br>            width: 100%;<br>        }<br>        .wandb-col {<br>            display: flex;<br>            flex-direction: column;<br>            flex-basis: 100%;<br>            flex: 1;<br>            padding: 10px;<br>        }<br>    </style><br><div class=\"wandb-row\"><div class=\"wandb-col\"><h3>Run history:</h3><br/><table class=\"wandb\"><tr><td>epoch</td><td>▁▁▁▁▂▂▂▂▂▂▃▃▃▃▃▄▄▄▄▅▅▅▅▅▅▆▆▆▆▆▇▇▇▇▇▇▇███</td></tr><tr><td>train_loss</td><td>█▇▇▆▆▅▅▅▅▄▄▄▄▄▃▃▃▃▃▂▂▂▂▁▁</td></tr><tr><td>trainer/global_step</td><td>▁▁▁▁▂▂▂▂▂▂▃▃▃▃▃▄▄▄▄▄▅▅▅▅▅▅▅▆▆▆▆▆▇▇▇▇▇▇██</td></tr><tr><td>val_acc</td><td>▁▄▄▄▅▄▆▄▆▆▆▆▇▆▇▇▇▇▇▇█▇█▇█</td></tr><tr><td>val_loss</td><td>█▆▆▅▅▅▃▅▃▃▃▃▃▃▂▂▂▃▂▂▁▂▂▂▁</td></tr></table><br/></div><div class=\"wandb-col\"><h3>Run summary:</h3><br/><table class=\"wandb\"><tr><td>epoch</td><td>24</td></tr><tr><td>train_loss</td><td>1.97501</td></tr><tr><td>trainer/global_step</td><td>12474</td></tr><tr><td>val_acc</td><td>0.3755</td></tr><tr><td>val_loss</td><td>2.07935</td></tr></table><br/></div></div>"
      ],
      "text/plain": [
       "<IPython.core.display.HTML object>"
      ]
     },
     "metadata": {},
     "output_type": "display_data"
    },
    {
     "data": {
      "text/html": [
       " View run <strong style=\"color:#cdcd00\">bs_16_layer_act_SiLU_epoch_25_filter_mul_2_num_filters_16</strong> at: <a href='https://wandb.ai/A2_DA6401_DL/Lightning_CNN/runs/pk6x32yx' target=\"_blank\">https://wandb.ai/A2_DA6401_DL/Lightning_CNN/runs/pk6x32yx</a><br> View project at: <a href='https://wandb.ai/A2_DA6401_DL/Lightning_CNN' target=\"_blank\">https://wandb.ai/A2_DA6401_DL/Lightning_CNN</a><br>Synced 5 W&B file(s), 0 media file(s), 0 artifact file(s) and 0 other file(s)"
      ],
      "text/plain": [
       "<IPython.core.display.HTML object>"
      ]
     },
     "metadata": {},
     "output_type": "display_data"
    },
    {
     "data": {
      "text/html": [
       "Find logs at: <code>./wandb/run-20250417_200751-pk6x32yx/logs</code>"
      ],
      "text/plain": [
       "<IPython.core.display.HTML object>"
      ]
     },
     "metadata": {},
     "output_type": "display_data"
    },
    {
     "name": "stderr",
     "output_type": "stream",
     "text": [
      "\u001b[34m\u001b[1mwandb\u001b[0m: Sweep Agent: Waiting for job.\n",
      "\u001b[34m\u001b[1mwandb\u001b[0m: Job received.\n",
      "\u001b[34m\u001b[1mwandb\u001b[0m: Agent Starting Run: tvbiyc1p with config:\n",
      "\u001b[34m\u001b[1mwandb\u001b[0m: \tbatch_norm_conv: True\n",
      "\u001b[34m\u001b[1mwandb\u001b[0m: \tbatch_norm_fc: True\n",
      "\u001b[34m\u001b[1mwandb\u001b[0m: \tbatch_size: 32\n",
      "\u001b[34m\u001b[1mwandb\u001b[0m: \tconv_1_filter_size: 3\n",
      "\u001b[34m\u001b[1mwandb\u001b[0m: \tconv_2_filter_size: 3\n",
      "\u001b[34m\u001b[1mwandb\u001b[0m: \tconv_3_filter_size: 5\n",
      "\u001b[34m\u001b[1mwandb\u001b[0m: \tconv_4_filter_size: 3\n",
      "\u001b[34m\u001b[1mwandb\u001b[0m: \tconv_5_filter_size: 5\n",
      "\u001b[34m\u001b[1mwandb\u001b[0m: \tconv_activation: SiLU\n",
      "\u001b[34m\u001b[1mwandb\u001b[0m: \tconv_padding: [None, None, None, None, None]\n",
      "\u001b[34m\u001b[1mwandb\u001b[0m: \tconv_strides: [1, 1, 1, 1, 1]\n",
      "\u001b[34m\u001b[1mwandb\u001b[0m: \tdata_aug: True\n",
      "\u001b[34m\u001b[1mwandb\u001b[0m: \tdropout_conv: 0.2\n",
      "\u001b[34m\u001b[1mwandb\u001b[0m: \tdropout_fc: 0.3\n",
      "\u001b[34m\u001b[1mwandb\u001b[0m: \tepochs: 25\n",
      "\u001b[34m\u001b[1mwandb\u001b[0m: \tfc_activations: SELU\n",
      "\u001b[34m\u001b[1mwandb\u001b[0m: \tfc_neurons: 512\n",
      "\u001b[34m\u001b[1mwandb\u001b[0m: \tfilter_mul: 2\n",
      "\u001b[34m\u001b[1mwandb\u001b[0m: \tinput_channels: 3\n",
      "\u001b[34m\u001b[1mwandb\u001b[0m: \tinput_size: [256, 256]\n",
      "\u001b[34m\u001b[1mwandb\u001b[0m: \tlearning_rate: 0.00025\n",
      "\u001b[34m\u001b[1mwandb\u001b[0m: \tmp_layer1_kernel_size: 3\n",
      "\u001b[34m\u001b[1mwandb\u001b[0m: \tmp_layer1_stride: 3\n",
      "\u001b[34m\u001b[1mwandb\u001b[0m: \tmp_layer2_kernel_size: 2\n",
      "\u001b[34m\u001b[1mwandb\u001b[0m: \tmp_layer2_stride: None\n",
      "\u001b[34m\u001b[1mwandb\u001b[0m: \tmp_layer3_kernel_size: 2\n",
      "\u001b[34m\u001b[1mwandb\u001b[0m: \tmp_layer3_stride: 3\n",
      "\u001b[34m\u001b[1mwandb\u001b[0m: \tmp_layer4_kernel_size: 2\n",
      "\u001b[34m\u001b[1mwandb\u001b[0m: \tmp_layer4_stride: 3\n",
      "\u001b[34m\u001b[1mwandb\u001b[0m: \tmp_layer5_kernel_size: 2\n",
      "\u001b[34m\u001b[1mwandb\u001b[0m: \tmp_layer5_stride: 3\n",
      "\u001b[34m\u001b[1mwandb\u001b[0m: \tno_of_conv_blocks: 5\n",
      "\u001b[34m\u001b[1mwandb\u001b[0m: \tno_of_fc_layers: 1\n",
      "\u001b[34m\u001b[1mwandb\u001b[0m: \tno_of_filters: 8\n",
      "\u001b[34m\u001b[1mwandb\u001b[0m: \tnum_classes: 10\n",
      "\u001b[34m\u001b[1mwandb\u001b[0m: \tnum_workers: 10\n"
     ]
    },
    {
     "data": {
      "text/html": [
       "Tracking run with wandb version 0.19.9"
      ],
      "text/plain": [
       "<IPython.core.display.HTML object>"
      ]
     },
     "metadata": {},
     "output_type": "display_data"
    },
    {
     "data": {
      "text/html": [
       "Run data is saved locally in <code>/home/joel/Pytorch_CUDA/wandb/run-20250417_202301-tvbiyc1p</code>"
      ],
      "text/plain": [
       "<IPython.core.display.HTML object>"
      ]
     },
     "metadata": {},
     "output_type": "display_data"
    },
    {
     "data": {
      "text/html": [
       "Syncing run <strong><a href='https://wandb.ai/A2_DA6401_DL/Lightning_CNN/runs/tvbiyc1p' target=\"_blank\">jumping-sweep-153</a></strong> to <a href='https://wandb.ai/A2_DA6401_DL/Lightning_CNN' target=\"_blank\">Weights & Biases</a> (<a href='https://wandb.me/developer-guide' target=\"_blank\">docs</a>)<br>Sweep page: <a href='https://wandb.ai/A2_DA6401_DL/Lightning_CNN/sweeps/78djv91t' target=\"_blank\">https://wandb.ai/A2_DA6401_DL/Lightning_CNN/sweeps/78djv91t</a>"
      ],
      "text/plain": [
       "<IPython.core.display.HTML object>"
      ]
     },
     "metadata": {},
     "output_type": "display_data"
    },
    {
     "data": {
      "text/html": [
       " View project at <a href='https://wandb.ai/A2_DA6401_DL/Lightning_CNN' target=\"_blank\">https://wandb.ai/A2_DA6401_DL/Lightning_CNN</a>"
      ],
      "text/plain": [
       "<IPython.core.display.HTML object>"
      ]
     },
     "metadata": {},
     "output_type": "display_data"
    },
    {
     "data": {
      "text/html": [
       " View sweep at <a href='https://wandb.ai/A2_DA6401_DL/Lightning_CNN/sweeps/78djv91t' target=\"_blank\">https://wandb.ai/A2_DA6401_DL/Lightning_CNN/sweeps/78djv91t</a>"
      ],
      "text/plain": [
       "<IPython.core.display.HTML object>"
      ]
     },
     "metadata": {},
     "output_type": "display_data"
    },
    {
     "data": {
      "text/html": [
       " View run at <a href='https://wandb.ai/A2_DA6401_DL/Lightning_CNN/runs/tvbiyc1p' target=\"_blank\">https://wandb.ai/A2_DA6401_DL/Lightning_CNN/runs/tvbiyc1p</a>"
      ],
      "text/plain": [
       "<IPython.core.display.HTML object>"
      ]
     },
     "metadata": {},
     "output_type": "display_data"
    },
    {
     "name": "stderr",
     "output_type": "stream",
     "text": [
      "You are using the plain ModelCheckpoint callback. Consider using LitModelCheckpoint which with seamless uploading to Model registry.\n",
      "GPU available: True (cuda), used: True\n",
      "TPU available: False, using: 0 TPU cores\n",
      "HPU available: False, using: 0 HPUs\n",
      "/home/joel/Pytorch_CUDA/virt_env/lib/python3.12/site-packages/lightning/pytorch/loggers/wandb.py:397: There is a wandb run already in progress and newly created instances of `WandbLogger` will reuse this run. If this is not desired, call `wandb.finish()` before instantiating `WandbLogger`.\n",
      "LOCAL_RANK: 0 - CUDA_VISIBLE_DEVICES: [0]\n",
      "\n",
      "  | Name       | Type               | Params | Mode \n",
      "----------------------------------------------------------\n",
      "0 | model      | CNN_               | 834 K  | train\n",
      "1 | loss_fn    | CrossEntropyLoss   | 0      | train\n",
      "2 | acc_metric | MulticlassAccuracy | 0      | train\n",
      "----------------------------------------------------------\n",
      "834 K     Trainable params\n",
      "0         Non-trainable params\n",
      "834 K     Total params\n",
      "3.339     Total estimated model params size (MB)\n",
      "43        Modules in train mode\n",
      "0         Modules in eval mode\n"
     ]
    },
    {
     "data": {
      "application/vnd.jupyter.widget-view+json": {
       "model_id": "25dbd82c28964db9955ff8940088daf2",
       "version_major": 2,
       "version_minor": 0
      },
      "text/plain": [
       "Sanity Checking: |          | 0/? [00:00<?, ?it/s]"
      ]
     },
     "metadata": {},
     "output_type": "display_data"
    },
    {
     "data": {
      "application/vnd.jupyter.widget-view+json": {
       "model_id": "8387b1de7df145368dd5939893d87c37",
       "version_major": 2,
       "version_minor": 0
      },
      "text/plain": [
       "Training: |          | 0/? [00:00<?, ?it/s]"
      ]
     },
     "metadata": {},
     "output_type": "display_data"
    },
    {
     "data": {
      "application/vnd.jupyter.widget-view+json": {
       "model_id": "f3a7ad3b9f1a4a568a8bda2ab58b1197",
       "version_major": 2,
       "version_minor": 0
      },
      "text/plain": [
       "Validation: |          | 0/? [00:00<?, ?it/s]"
      ]
     },
     "metadata": {},
     "output_type": "display_data"
    },
    {
     "data": {
      "application/vnd.jupyter.widget-view+json": {
       "model_id": "1c91d4ff3d8144e0826daebcf85d0387",
       "version_major": 2,
       "version_minor": 0
      },
      "text/plain": [
       "Validation: |          | 0/? [00:00<?, ?it/s]"
      ]
     },
     "metadata": {},
     "output_type": "display_data"
    },
    {
     "data": {
      "application/vnd.jupyter.widget-view+json": {
       "model_id": "ff43d52d87844d318962fa743d6ebb41",
       "version_major": 2,
       "version_minor": 0
      },
      "text/plain": [
       "Validation: |          | 0/? [00:00<?, ?it/s]"
      ]
     },
     "metadata": {},
     "output_type": "display_data"
    },
    {
     "data": {
      "application/vnd.jupyter.widget-view+json": {
       "model_id": "30876d95059c467a82edef454cba8b88",
       "version_major": 2,
       "version_minor": 0
      },
      "text/plain": [
       "Validation: |          | 0/? [00:00<?, ?it/s]"
      ]
     },
     "metadata": {},
     "output_type": "display_data"
    },
    {
     "data": {
      "application/vnd.jupyter.widget-view+json": {
       "model_id": "06ae095700c24a18bd20c221890edda3",
       "version_major": 2,
       "version_minor": 0
      },
      "text/plain": [
       "Validation: |          | 0/? [00:00<?, ?it/s]"
      ]
     },
     "metadata": {},
     "output_type": "display_data"
    },
    {
     "data": {
      "application/vnd.jupyter.widget-view+json": {
       "model_id": "2098d8a6220b4753a0264022c4eda037",
       "version_major": 2,
       "version_minor": 0
      },
      "text/plain": [
       "Validation: |          | 0/? [00:00<?, ?it/s]"
      ]
     },
     "metadata": {},
     "output_type": "display_data"
    },
    {
     "data": {
      "application/vnd.jupyter.widget-view+json": {
       "model_id": "22a4fce6bbf04364922df0101010a358",
       "version_major": 2,
       "version_minor": 0
      },
      "text/plain": [
       "Validation: |          | 0/? [00:00<?, ?it/s]"
      ]
     },
     "metadata": {},
     "output_type": "display_data"
    },
    {
     "data": {
      "application/vnd.jupyter.widget-view+json": {
       "model_id": "845e8f7fd9784141bc14dbea5ee94d8d",
       "version_major": 2,
       "version_minor": 0
      },
      "text/plain": [
       "Validation: |          | 0/? [00:00<?, ?it/s]"
      ]
     },
     "metadata": {},
     "output_type": "display_data"
    },
    {
     "data": {
      "application/vnd.jupyter.widget-view+json": {
       "model_id": "d4abb387494144c3b50374432cebac66",
       "version_major": 2,
       "version_minor": 0
      },
      "text/plain": [
       "Validation: |          | 0/? [00:00<?, ?it/s]"
      ]
     },
     "metadata": {},
     "output_type": "display_data"
    },
    {
     "data": {
      "application/vnd.jupyter.widget-view+json": {
       "model_id": "64dfc3d8aff240a28aa642c083413eed",
       "version_major": 2,
       "version_minor": 0
      },
      "text/plain": [
       "Validation: |          | 0/? [00:00<?, ?it/s]"
      ]
     },
     "metadata": {},
     "output_type": "display_data"
    },
    {
     "data": {
      "application/vnd.jupyter.widget-view+json": {
       "model_id": "1051edee95404d8eac713ce65aab5cd7",
       "version_major": 2,
       "version_minor": 0
      },
      "text/plain": [
       "Validation: |          | 0/? [00:00<?, ?it/s]"
      ]
     },
     "metadata": {},
     "output_type": "display_data"
    },
    {
     "data": {
      "application/vnd.jupyter.widget-view+json": {
       "model_id": "4023c6cf7b4243fb969f1ebcf850f404",
       "version_major": 2,
       "version_minor": 0
      },
      "text/plain": [
       "Validation: |          | 0/? [00:00<?, ?it/s]"
      ]
     },
     "metadata": {},
     "output_type": "display_data"
    },
    {
     "data": {
      "application/vnd.jupyter.widget-view+json": {
       "model_id": "6c1fd6abbafe450293bcd1e40dc73ceb",
       "version_major": 2,
       "version_minor": 0
      },
      "text/plain": [
       "Validation: |          | 0/? [00:00<?, ?it/s]"
      ]
     },
     "metadata": {},
     "output_type": "display_data"
    },
    {
     "data": {
      "application/vnd.jupyter.widget-view+json": {
       "model_id": "a39b247cec6242cd928ef4d576bf7493",
       "version_major": 2,
       "version_minor": 0
      },
      "text/plain": [
       "Validation: |          | 0/? [00:00<?, ?it/s]"
      ]
     },
     "metadata": {},
     "output_type": "display_data"
    },
    {
     "data": {
      "application/vnd.jupyter.widget-view+json": {
       "model_id": "02fa9da551be4d6ebd7bbde37b00a971",
       "version_major": 2,
       "version_minor": 0
      },
      "text/plain": [
       "Validation: |          | 0/? [00:00<?, ?it/s]"
      ]
     },
     "metadata": {},
     "output_type": "display_data"
    },
    {
     "data": {
      "application/vnd.jupyter.widget-view+json": {
       "model_id": "ae4c389d8f404108ae1abc84bde0d025",
       "version_major": 2,
       "version_minor": 0
      },
      "text/plain": [
       "Validation: |          | 0/? [00:00<?, ?it/s]"
      ]
     },
     "metadata": {},
     "output_type": "display_data"
    },
    {
     "data": {
      "application/vnd.jupyter.widget-view+json": {
       "model_id": "44bb8a048ef5461ebbbb233b0637d931",
       "version_major": 2,
       "version_minor": 0
      },
      "text/plain": [
       "Validation: |          | 0/? [00:00<?, ?it/s]"
      ]
     },
     "metadata": {},
     "output_type": "display_data"
    },
    {
     "data": {
      "application/vnd.jupyter.widget-view+json": {
       "model_id": "6bf4b73609754aeba778e0ccb3a13600",
       "version_major": 2,
       "version_minor": 0
      },
      "text/plain": [
       "Validation: |          | 0/? [00:00<?, ?it/s]"
      ]
     },
     "metadata": {},
     "output_type": "display_data"
    },
    {
     "data": {
      "application/vnd.jupyter.widget-view+json": {
       "model_id": "5ae7ae59193d47fe842113f3b4fbbd86",
       "version_major": 2,
       "version_minor": 0
      },
      "text/plain": [
       "Validation: |          | 0/? [00:00<?, ?it/s]"
      ]
     },
     "metadata": {},
     "output_type": "display_data"
    },
    {
     "data": {
      "application/vnd.jupyter.widget-view+json": {
       "model_id": "7c8f9335cadc47f3a8019aab2976cbc4",
       "version_major": 2,
       "version_minor": 0
      },
      "text/plain": [
       "Validation: |          | 0/? [00:00<?, ?it/s]"
      ]
     },
     "metadata": {},
     "output_type": "display_data"
    },
    {
     "data": {
      "application/vnd.jupyter.widget-view+json": {
       "model_id": "8bac63ede90642698c0c939bf6e7ebff",
       "version_major": 2,
       "version_minor": 0
      },
      "text/plain": [
       "Validation: |          | 0/? [00:00<?, ?it/s]"
      ]
     },
     "metadata": {},
     "output_type": "display_data"
    },
    {
     "data": {
      "application/vnd.jupyter.widget-view+json": {
       "model_id": "0ea0792cfec34f32ae1976244b3fa1a6",
       "version_major": 2,
       "version_minor": 0
      },
      "text/plain": [
       "Validation: |          | 0/? [00:00<?, ?it/s]"
      ]
     },
     "metadata": {},
     "output_type": "display_data"
    },
    {
     "data": {
      "application/vnd.jupyter.widget-view+json": {
       "model_id": "14c0f674aa0545b4b667928408e0cfb4",
       "version_major": 2,
       "version_minor": 0
      },
      "text/plain": [
       "Validation: |          | 0/? [00:00<?, ?it/s]"
      ]
     },
     "metadata": {},
     "output_type": "display_data"
    },
    {
     "data": {
      "application/vnd.jupyter.widget-view+json": {
       "model_id": "d61e75f8f6a549029f5b8622ae887faa",
       "version_major": 2,
       "version_minor": 0
      },
      "text/plain": [
       "Validation: |          | 0/? [00:00<?, ?it/s]"
      ]
     },
     "metadata": {},
     "output_type": "display_data"
    },
    {
     "data": {
      "application/vnd.jupyter.widget-view+json": {
       "model_id": "38ed7639bfeb428a8432f80124921838",
       "version_major": 2,
       "version_minor": 0
      },
      "text/plain": [
       "Validation: |          | 0/? [00:00<?, ?it/s]"
      ]
     },
     "metadata": {},
     "output_type": "display_data"
    },
    {
     "name": "stderr",
     "output_type": "stream",
     "text": [
      "`Trainer.fit` stopped: `max_epochs=25` reached.\n"
     ]
    },
    {
     "data": {
      "text/html": [],
      "text/plain": [
       "<IPython.core.display.HTML object>"
      ]
     },
     "metadata": {},
     "output_type": "display_data"
    },
    {
     "data": {
      "text/html": [
       "<br>    <style><br>        .wandb-row {<br>            display: flex;<br>            flex-direction: row;<br>            flex-wrap: wrap;<br>            justify-content: flex-start;<br>            width: 100%;<br>        }<br>        .wandb-col {<br>            display: flex;<br>            flex-direction: column;<br>            flex-basis: 100%;<br>            flex: 1;<br>            padding: 10px;<br>        }<br>    </style><br><div class=\"wandb-row\"><div class=\"wandb-col\"><h3>Run history:</h3><br/><table class=\"wandb\"><tr><td>epoch</td><td>▁▁▁▁▂▂▂▂▂▂▃▃▃▃▄▄▄▄▄▅▅▅▅▅▅▆▆▆▆▆▇▇▇▇▇▇▇███</td></tr><tr><td>train_loss</td><td>█▇▆▆▅▅▅▅▄▄▄▄▃▃▃▃▃▂▂▂▂▂▁▁▁</td></tr><tr><td>trainer/global_step</td><td>▁▁▁▁▂▂▂▂▂▂▃▃▃▃▃▄▄▄▄▄▅▅▅▅▅▅▆▆▆▆▆▇▇▇▇▇▇▇██</td></tr><tr><td>val_acc</td><td>▁▃▂▂▄▄▄▆▄▆▆▆▆▆▆▇▇▆██▇▇█▇█</td></tr><tr><td>val_loss</td><td>█▇▇▇▆▅▆▃▅▃▃▃▃▃▃▁▂▃▁▁▂▁▁▂▁</td></tr></table><br/></div><div class=\"wandb-col\"><h3>Run summary:</h3><br/><table class=\"wandb\"><tr><td>epoch</td><td>24</td></tr><tr><td>train_loss</td><td>1.96522</td></tr><tr><td>trainer/global_step</td><td>6224</td></tr><tr><td>val_acc</td><td>0.3485</td></tr><tr><td>val_loss</td><td>2.10767</td></tr></table><br/></div></div>"
      ],
      "text/plain": [
       "<IPython.core.display.HTML object>"
      ]
     },
     "metadata": {},
     "output_type": "display_data"
    },
    {
     "data": {
      "text/html": [
       " View run <strong style=\"color:#cdcd00\">bs_32_layer_act_SiLU_epoch_25_filter_mul_2_num_filters_8</strong> at: <a href='https://wandb.ai/A2_DA6401_DL/Lightning_CNN/runs/tvbiyc1p' target=\"_blank\">https://wandb.ai/A2_DA6401_DL/Lightning_CNN/runs/tvbiyc1p</a><br> View project at: <a href='https://wandb.ai/A2_DA6401_DL/Lightning_CNN' target=\"_blank\">https://wandb.ai/A2_DA6401_DL/Lightning_CNN</a><br>Synced 5 W&B file(s), 0 media file(s), 0 artifact file(s) and 0 other file(s)"
      ],
      "text/plain": [
       "<IPython.core.display.HTML object>"
      ]
     },
     "metadata": {},
     "output_type": "display_data"
    },
    {
     "data": {
      "text/html": [
       "Find logs at: <code>./wandb/run-20250417_202301-tvbiyc1p/logs</code>"
      ],
      "text/plain": [
       "<IPython.core.display.HTML object>"
      ]
     },
     "metadata": {},
     "output_type": "display_data"
    },
    {
     "name": "stderr",
     "output_type": "stream",
     "text": [
      "\u001b[34m\u001b[1mwandb\u001b[0m: Agent Starting Run: chbrpkpl with config:\n",
      "\u001b[34m\u001b[1mwandb\u001b[0m: \tbatch_norm_conv: False\n",
      "\u001b[34m\u001b[1mwandb\u001b[0m: \tbatch_norm_fc: True\n",
      "\u001b[34m\u001b[1mwandb\u001b[0m: \tbatch_size: 32\n",
      "\u001b[34m\u001b[1mwandb\u001b[0m: \tconv_1_filter_size: 3\n",
      "\u001b[34m\u001b[1mwandb\u001b[0m: \tconv_2_filter_size: 5\n",
      "\u001b[34m\u001b[1mwandb\u001b[0m: \tconv_3_filter_size: 5\n",
      "\u001b[34m\u001b[1mwandb\u001b[0m: \tconv_4_filter_size: 3\n",
      "\u001b[34m\u001b[1mwandb\u001b[0m: \tconv_5_filter_size: 5\n",
      "\u001b[34m\u001b[1mwandb\u001b[0m: \tconv_activation: GELU\n",
      "\u001b[34m\u001b[1mwandb\u001b[0m: \tconv_padding: [None, None, None, None, None]\n",
      "\u001b[34m\u001b[1mwandb\u001b[0m: \tconv_strides: [1, 1, 1, 1, 1]\n",
      "\u001b[34m\u001b[1mwandb\u001b[0m: \tdata_aug: True\n",
      "\u001b[34m\u001b[1mwandb\u001b[0m: \tdropout_conv: 0.2\n",
      "\u001b[34m\u001b[1mwandb\u001b[0m: \tdropout_fc: 0\n",
      "\u001b[34m\u001b[1mwandb\u001b[0m: \tepochs: 25\n",
      "\u001b[34m\u001b[1mwandb\u001b[0m: \tfc_activations: Mish\n",
      "\u001b[34m\u001b[1mwandb\u001b[0m: \tfc_neurons: 512\n",
      "\u001b[34m\u001b[1mwandb\u001b[0m: \tfilter_mul: 1\n",
      "\u001b[34m\u001b[1mwandb\u001b[0m: \tinput_channels: 3\n",
      "\u001b[34m\u001b[1mwandb\u001b[0m: \tinput_size: [256, 256]\n",
      "\u001b[34m\u001b[1mwandb\u001b[0m: \tlearning_rate: 0.00025\n",
      "\u001b[34m\u001b[1mwandb\u001b[0m: \tmp_layer1_kernel_size: 5\n",
      "\u001b[34m\u001b[1mwandb\u001b[0m: \tmp_layer1_stride: None\n",
      "\u001b[34m\u001b[1mwandb\u001b[0m: \tmp_layer2_kernel_size: 5\n",
      "\u001b[34m\u001b[1mwandb\u001b[0m: \tmp_layer2_stride: None\n",
      "\u001b[34m\u001b[1mwandb\u001b[0m: \tmp_layer3_kernel_size: 5\n",
      "\u001b[34m\u001b[1mwandb\u001b[0m: \tmp_layer3_stride: 3\n",
      "\u001b[34m\u001b[1mwandb\u001b[0m: \tmp_layer4_kernel_size: 2\n",
      "\u001b[34m\u001b[1mwandb\u001b[0m: \tmp_layer4_stride: 2\n",
      "\u001b[34m\u001b[1mwandb\u001b[0m: \tmp_layer5_kernel_size: 3\n",
      "\u001b[34m\u001b[1mwandb\u001b[0m: \tmp_layer5_stride: 2\n",
      "\u001b[34m\u001b[1mwandb\u001b[0m: \tno_of_conv_blocks: 5\n",
      "\u001b[34m\u001b[1mwandb\u001b[0m: \tno_of_fc_layers: 1\n",
      "\u001b[34m\u001b[1mwandb\u001b[0m: \tno_of_filters: 8\n",
      "\u001b[34m\u001b[1mwandb\u001b[0m: \tnum_classes: 10\n",
      "\u001b[34m\u001b[1mwandb\u001b[0m: \tnum_workers: 10\n"
     ]
    },
    {
     "data": {
      "text/html": [
       "Tracking run with wandb version 0.19.9"
      ],
      "text/plain": [
       "<IPython.core.display.HTML object>"
      ]
     },
     "metadata": {},
     "output_type": "display_data"
    },
    {
     "data": {
      "text/html": [
       "Run data is saved locally in <code>/home/joel/Pytorch_CUDA/wandb/run-20250417_203742-chbrpkpl</code>"
      ],
      "text/plain": [
       "<IPython.core.display.HTML object>"
      ]
     },
     "metadata": {},
     "output_type": "display_data"
    },
    {
     "data": {
      "text/html": [
       "Syncing run <strong><a href='https://wandb.ai/A2_DA6401_DL/Lightning_CNN/runs/chbrpkpl' target=\"_blank\">driven-sweep-157</a></strong> to <a href='https://wandb.ai/A2_DA6401_DL/Lightning_CNN' target=\"_blank\">Weights & Biases</a> (<a href='https://wandb.me/developer-guide' target=\"_blank\">docs</a>)<br>Sweep page: <a href='https://wandb.ai/A2_DA6401_DL/Lightning_CNN/sweeps/78djv91t' target=\"_blank\">https://wandb.ai/A2_DA6401_DL/Lightning_CNN/sweeps/78djv91t</a>"
      ],
      "text/plain": [
       "<IPython.core.display.HTML object>"
      ]
     },
     "metadata": {},
     "output_type": "display_data"
    },
    {
     "data": {
      "text/html": [
       " View project at <a href='https://wandb.ai/A2_DA6401_DL/Lightning_CNN' target=\"_blank\">https://wandb.ai/A2_DA6401_DL/Lightning_CNN</a>"
      ],
      "text/plain": [
       "<IPython.core.display.HTML object>"
      ]
     },
     "metadata": {},
     "output_type": "display_data"
    },
    {
     "data": {
      "text/html": [
       " View sweep at <a href='https://wandb.ai/A2_DA6401_DL/Lightning_CNN/sweeps/78djv91t' target=\"_blank\">https://wandb.ai/A2_DA6401_DL/Lightning_CNN/sweeps/78djv91t</a>"
      ],
      "text/plain": [
       "<IPython.core.display.HTML object>"
      ]
     },
     "metadata": {},
     "output_type": "display_data"
    },
    {
     "data": {
      "text/html": [
       " View run at <a href='https://wandb.ai/A2_DA6401_DL/Lightning_CNN/runs/chbrpkpl' target=\"_blank\">https://wandb.ai/A2_DA6401_DL/Lightning_CNN/runs/chbrpkpl</a>"
      ],
      "text/plain": [
       "<IPython.core.display.HTML object>"
      ]
     },
     "metadata": {},
     "output_type": "display_data"
    },
    {
     "name": "stdout",
     "output_type": "stream",
     "text": [
      "Not a good combination !!!\n"
     ]
    },
    {
     "data": {
      "text/html": [],
      "text/plain": [
       "<IPython.core.display.HTML object>"
      ]
     },
     "metadata": {},
     "output_type": "display_data"
    },
    {
     "data": {
      "text/html": [
       " View run <strong style=\"color:#cdcd00\">bs_32_layer_act_GELU_epoch_25_filter_mul_1_num_filters_8</strong> at: <a href='https://wandb.ai/A2_DA6401_DL/Lightning_CNN/runs/chbrpkpl' target=\"_blank\">https://wandb.ai/A2_DA6401_DL/Lightning_CNN/runs/chbrpkpl</a><br> View project at: <a href='https://wandb.ai/A2_DA6401_DL/Lightning_CNN' target=\"_blank\">https://wandb.ai/A2_DA6401_DL/Lightning_CNN</a><br>Synced 5 W&B file(s), 0 media file(s), 0 artifact file(s) and 0 other file(s)"
      ],
      "text/plain": [
       "<IPython.core.display.HTML object>"
      ]
     },
     "metadata": {},
     "output_type": "display_data"
    },
    {
     "data": {
      "text/html": [
       "Find logs at: <code>./wandb/run-20250417_203742-chbrpkpl/logs</code>"
      ],
      "text/plain": [
       "<IPython.core.display.HTML object>"
      ]
     },
     "metadata": {},
     "output_type": "display_data"
    },
    {
     "name": "stderr",
     "output_type": "stream",
     "text": [
      "\u001b[34m\u001b[1mwandb\u001b[0m: Agent Starting Run: umo7vne6 with config:\n",
      "\u001b[34m\u001b[1mwandb\u001b[0m: \tbatch_norm_conv: False\n",
      "\u001b[34m\u001b[1mwandb\u001b[0m: \tbatch_norm_fc: True\n",
      "\u001b[34m\u001b[1mwandb\u001b[0m: \tbatch_size: 16\n",
      "\u001b[34m\u001b[1mwandb\u001b[0m: \tconv_1_filter_size: 5\n",
      "\u001b[34m\u001b[1mwandb\u001b[0m: \tconv_2_filter_size: 3\n",
      "\u001b[34m\u001b[1mwandb\u001b[0m: \tconv_3_filter_size: 5\n",
      "\u001b[34m\u001b[1mwandb\u001b[0m: \tconv_4_filter_size: 3\n",
      "\u001b[34m\u001b[1mwandb\u001b[0m: \tconv_5_filter_size: 5\n",
      "\u001b[34m\u001b[1mwandb\u001b[0m: \tconv_activation: LeakyReLU\n",
      "\u001b[34m\u001b[1mwandb\u001b[0m: \tconv_padding: [None, None, None, None, None]\n",
      "\u001b[34m\u001b[1mwandb\u001b[0m: \tconv_strides: [1, 1, 1, 1, 1]\n",
      "\u001b[34m\u001b[1mwandb\u001b[0m: \tdata_aug: True\n",
      "\u001b[34m\u001b[1mwandb\u001b[0m: \tdropout_conv: 0.2\n",
      "\u001b[34m\u001b[1mwandb\u001b[0m: \tdropout_fc: 0\n",
      "\u001b[34m\u001b[1mwandb\u001b[0m: \tepochs: 25\n",
      "\u001b[34m\u001b[1mwandb\u001b[0m: \tfc_activations: SELU\n",
      "\u001b[34m\u001b[1mwandb\u001b[0m: \tfc_neurons: 1024\n",
      "\u001b[34m\u001b[1mwandb\u001b[0m: \tfilter_mul: 1\n",
      "\u001b[34m\u001b[1mwandb\u001b[0m: \tinput_channels: 3\n",
      "\u001b[34m\u001b[1mwandb\u001b[0m: \tinput_size: [256, 256]\n",
      "\u001b[34m\u001b[1mwandb\u001b[0m: \tlearning_rate: 0.00025\n",
      "\u001b[34m\u001b[1mwandb\u001b[0m: \tmp_layer1_kernel_size: 5\n",
      "\u001b[34m\u001b[1mwandb\u001b[0m: \tmp_layer1_stride: None\n",
      "\u001b[34m\u001b[1mwandb\u001b[0m: \tmp_layer2_kernel_size: 5\n",
      "\u001b[34m\u001b[1mwandb\u001b[0m: \tmp_layer2_stride: None\n",
      "\u001b[34m\u001b[1mwandb\u001b[0m: \tmp_layer3_kernel_size: 5\n",
      "\u001b[34m\u001b[1mwandb\u001b[0m: \tmp_layer3_stride: 3\n",
      "\u001b[34m\u001b[1mwandb\u001b[0m: \tmp_layer4_kernel_size: 3\n",
      "\u001b[34m\u001b[1mwandb\u001b[0m: \tmp_layer4_stride: 2\n",
      "\u001b[34m\u001b[1mwandb\u001b[0m: \tmp_layer5_kernel_size: 3\n",
      "\u001b[34m\u001b[1mwandb\u001b[0m: \tmp_layer5_stride: 3\n",
      "\u001b[34m\u001b[1mwandb\u001b[0m: \tno_of_conv_blocks: 5\n",
      "\u001b[34m\u001b[1mwandb\u001b[0m: \tno_of_fc_layers: 1\n",
      "\u001b[34m\u001b[1mwandb\u001b[0m: \tno_of_filters: 8\n",
      "\u001b[34m\u001b[1mwandb\u001b[0m: \tnum_classes: 10\n",
      "\u001b[34m\u001b[1mwandb\u001b[0m: \tnum_workers: 10\n"
     ]
    },
    {
     "data": {
      "text/html": [
       "Tracking run with wandb version 0.19.9"
      ],
      "text/plain": [
       "<IPython.core.display.HTML object>"
      ]
     },
     "metadata": {},
     "output_type": "display_data"
    },
    {
     "data": {
      "text/html": [
       "Run data is saved locally in <code>/home/joel/Pytorch_CUDA/wandb/run-20250417_203748-umo7vne6</code>"
      ],
      "text/plain": [
       "<IPython.core.display.HTML object>"
      ]
     },
     "metadata": {},
     "output_type": "display_data"
    },
    {
     "data": {
      "text/html": [
       "Syncing run <strong><a href='https://wandb.ai/A2_DA6401_DL/Lightning_CNN/runs/umo7vne6' target=\"_blank\">charmed-sweep-158</a></strong> to <a href='https://wandb.ai/A2_DA6401_DL/Lightning_CNN' target=\"_blank\">Weights & Biases</a> (<a href='https://wandb.me/developer-guide' target=\"_blank\">docs</a>)<br>Sweep page: <a href='https://wandb.ai/A2_DA6401_DL/Lightning_CNN/sweeps/78djv91t' target=\"_blank\">https://wandb.ai/A2_DA6401_DL/Lightning_CNN/sweeps/78djv91t</a>"
      ],
      "text/plain": [
       "<IPython.core.display.HTML object>"
      ]
     },
     "metadata": {},
     "output_type": "display_data"
    },
    {
     "data": {
      "text/html": [
       " View project at <a href='https://wandb.ai/A2_DA6401_DL/Lightning_CNN' target=\"_blank\">https://wandb.ai/A2_DA6401_DL/Lightning_CNN</a>"
      ],
      "text/plain": [
       "<IPython.core.display.HTML object>"
      ]
     },
     "metadata": {},
     "output_type": "display_data"
    },
    {
     "data": {
      "text/html": [
       " View sweep at <a href='https://wandb.ai/A2_DA6401_DL/Lightning_CNN/sweeps/78djv91t' target=\"_blank\">https://wandb.ai/A2_DA6401_DL/Lightning_CNN/sweeps/78djv91t</a>"
      ],
      "text/plain": [
       "<IPython.core.display.HTML object>"
      ]
     },
     "metadata": {},
     "output_type": "display_data"
    },
    {
     "data": {
      "text/html": [
       " View run at <a href='https://wandb.ai/A2_DA6401_DL/Lightning_CNN/runs/umo7vne6' target=\"_blank\">https://wandb.ai/A2_DA6401_DL/Lightning_CNN/runs/umo7vne6</a>"
      ],
      "text/plain": [
       "<IPython.core.display.HTML object>"
      ]
     },
     "metadata": {},
     "output_type": "display_data"
    },
    {
     "name": "stdout",
     "output_type": "stream",
     "text": [
      "Not a good combination !!!\n"
     ]
    },
    {
     "data": {
      "text/html": [],
      "text/plain": [
       "<IPython.core.display.HTML object>"
      ]
     },
     "metadata": {},
     "output_type": "display_data"
    },
    {
     "data": {
      "text/html": [
       " View run <strong style=\"color:#cdcd00\">bs_16_layer_act_LeakyReLU_epoch_25_filter_mul_1_num_filters_8</strong> at: <a href='https://wandb.ai/A2_DA6401_DL/Lightning_CNN/runs/umo7vne6' target=\"_blank\">https://wandb.ai/A2_DA6401_DL/Lightning_CNN/runs/umo7vne6</a><br> View project at: <a href='https://wandb.ai/A2_DA6401_DL/Lightning_CNN' target=\"_blank\">https://wandb.ai/A2_DA6401_DL/Lightning_CNN</a><br>Synced 5 W&B file(s), 0 media file(s), 0 artifact file(s) and 0 other file(s)"
      ],
      "text/plain": [
       "<IPython.core.display.HTML object>"
      ]
     },
     "metadata": {},
     "output_type": "display_data"
    },
    {
     "data": {
      "text/html": [
       "Find logs at: <code>./wandb/run-20250417_203748-umo7vne6/logs</code>"
      ],
      "text/plain": [
       "<IPython.core.display.HTML object>"
      ]
     },
     "metadata": {},
     "output_type": "display_data"
    },
    {
     "name": "stderr",
     "output_type": "stream",
     "text": [
      "\u001b[34m\u001b[1mwandb\u001b[0m: Sweep Agent: Waiting for job.\n",
      "\u001b[34m\u001b[1mwandb\u001b[0m: Job received.\n",
      "\u001b[34m\u001b[1mwandb\u001b[0m: Agent Starting Run: sh5isz0f with config:\n",
      "\u001b[34m\u001b[1mwandb\u001b[0m: \tbatch_norm_conv: True\n",
      "\u001b[34m\u001b[1mwandb\u001b[0m: \tbatch_norm_fc: True\n",
      "\u001b[34m\u001b[1mwandb\u001b[0m: \tbatch_size: 32\n",
      "\u001b[34m\u001b[1mwandb\u001b[0m: \tconv_1_filter_size: 3\n",
      "\u001b[34m\u001b[1mwandb\u001b[0m: \tconv_2_filter_size: 5\n",
      "\u001b[34m\u001b[1mwandb\u001b[0m: \tconv_3_filter_size: 5\n",
      "\u001b[34m\u001b[1mwandb\u001b[0m: \tconv_4_filter_size: 3\n",
      "\u001b[34m\u001b[1mwandb\u001b[0m: \tconv_5_filter_size: 5\n",
      "\u001b[34m\u001b[1mwandb\u001b[0m: \tconv_activation: SiLU\n",
      "\u001b[34m\u001b[1mwandb\u001b[0m: \tconv_padding: [None, None, None, None, None]\n",
      "\u001b[34m\u001b[1mwandb\u001b[0m: \tconv_strides: [1, 1, 1, 1, 1]\n",
      "\u001b[34m\u001b[1mwandb\u001b[0m: \tdata_aug: True\n",
      "\u001b[34m\u001b[1mwandb\u001b[0m: \tdropout_conv: 0.1\n",
      "\u001b[34m\u001b[1mwandb\u001b[0m: \tdropout_fc: 0.2\n",
      "\u001b[34m\u001b[1mwandb\u001b[0m: \tepochs: 25\n",
      "\u001b[34m\u001b[1mwandb\u001b[0m: \tfc_activations: LeakyReLU\n",
      "\u001b[34m\u001b[1mwandb\u001b[0m: \tfc_neurons: 1024\n",
      "\u001b[34m\u001b[1mwandb\u001b[0m: \tfilter_mul: 1\n",
      "\u001b[34m\u001b[1mwandb\u001b[0m: \tinput_channels: 3\n",
      "\u001b[34m\u001b[1mwandb\u001b[0m: \tinput_size: [256, 256]\n",
      "\u001b[34m\u001b[1mwandb\u001b[0m: \tlearning_rate: 0.00025\n",
      "\u001b[34m\u001b[1mwandb\u001b[0m: \tmp_layer1_kernel_size: 5\n",
      "\u001b[34m\u001b[1mwandb\u001b[0m: \tmp_layer1_stride: None\n",
      "\u001b[34m\u001b[1mwandb\u001b[0m: \tmp_layer2_kernel_size: 5\n",
      "\u001b[34m\u001b[1mwandb\u001b[0m: \tmp_layer2_stride: 3\n",
      "\u001b[34m\u001b[1mwandb\u001b[0m: \tmp_layer3_kernel_size: 5\n",
      "\u001b[34m\u001b[1mwandb\u001b[0m: \tmp_layer3_stride: 3\n",
      "\u001b[34m\u001b[1mwandb\u001b[0m: \tmp_layer4_kernel_size: 2\n",
      "\u001b[34m\u001b[1mwandb\u001b[0m: \tmp_layer4_stride: 2\n",
      "\u001b[34m\u001b[1mwandb\u001b[0m: \tmp_layer5_kernel_size: 3\n",
      "\u001b[34m\u001b[1mwandb\u001b[0m: \tmp_layer5_stride: 2\n",
      "\u001b[34m\u001b[1mwandb\u001b[0m: \tno_of_conv_blocks: 5\n",
      "\u001b[34m\u001b[1mwandb\u001b[0m: \tno_of_fc_layers: 1\n",
      "\u001b[34m\u001b[1mwandb\u001b[0m: \tno_of_filters: 512\n",
      "\u001b[34m\u001b[1mwandb\u001b[0m: \tnum_classes: 10\n",
      "\u001b[34m\u001b[1mwandb\u001b[0m: \tnum_workers: 10\n"
     ]
    },
    {
     "data": {
      "text/html": [
       "Tracking run with wandb version 0.19.9"
      ],
      "text/plain": [
       "<IPython.core.display.HTML object>"
      ]
     },
     "metadata": {},
     "output_type": "display_data"
    },
    {
     "data": {
      "text/html": [
       "Run data is saved locally in <code>/home/joel/Pytorch_CUDA/wandb/run-20250417_203803-sh5isz0f</code>"
      ],
      "text/plain": [
       "<IPython.core.display.HTML object>"
      ]
     },
     "metadata": {},
     "output_type": "display_data"
    },
    {
     "data": {
      "text/html": [
       "Syncing run <strong><a href='https://wandb.ai/A2_DA6401_DL/Lightning_CNN/runs/sh5isz0f' target=\"_blank\">fresh-sweep-159</a></strong> to <a href='https://wandb.ai/A2_DA6401_DL/Lightning_CNN' target=\"_blank\">Weights & Biases</a> (<a href='https://wandb.me/developer-guide' target=\"_blank\">docs</a>)<br>Sweep page: <a href='https://wandb.ai/A2_DA6401_DL/Lightning_CNN/sweeps/78djv91t' target=\"_blank\">https://wandb.ai/A2_DA6401_DL/Lightning_CNN/sweeps/78djv91t</a>"
      ],
      "text/plain": [
       "<IPython.core.display.HTML object>"
      ]
     },
     "metadata": {},
     "output_type": "display_data"
    },
    {
     "data": {
      "text/html": [
       " View project at <a href='https://wandb.ai/A2_DA6401_DL/Lightning_CNN' target=\"_blank\">https://wandb.ai/A2_DA6401_DL/Lightning_CNN</a>"
      ],
      "text/plain": [
       "<IPython.core.display.HTML object>"
      ]
     },
     "metadata": {},
     "output_type": "display_data"
    },
    {
     "data": {
      "text/html": [
       " View sweep at <a href='https://wandb.ai/A2_DA6401_DL/Lightning_CNN/sweeps/78djv91t' target=\"_blank\">https://wandb.ai/A2_DA6401_DL/Lightning_CNN/sweeps/78djv91t</a>"
      ],
      "text/plain": [
       "<IPython.core.display.HTML object>"
      ]
     },
     "metadata": {},
     "output_type": "display_data"
    },
    {
     "data": {
      "text/html": [
       " View run at <a href='https://wandb.ai/A2_DA6401_DL/Lightning_CNN/runs/sh5isz0f' target=\"_blank\">https://wandb.ai/A2_DA6401_DL/Lightning_CNN/runs/sh5isz0f</a>"
      ],
      "text/plain": [
       "<IPython.core.display.HTML object>"
      ]
     },
     "metadata": {},
     "output_type": "display_data"
    },
    {
     "name": "stdout",
     "output_type": "stream",
     "text": [
      "Not a good combination !!!\n"
     ]
    },
    {
     "data": {
      "text/html": [],
      "text/plain": [
       "<IPython.core.display.HTML object>"
      ]
     },
     "metadata": {},
     "output_type": "display_data"
    },
    {
     "data": {
      "text/html": [
       " View run <strong style=\"color:#cdcd00\">bs_32_layer_act_SiLU_epoch_25_filter_mul_1_num_filters_512</strong> at: <a href='https://wandb.ai/A2_DA6401_DL/Lightning_CNN/runs/sh5isz0f' target=\"_blank\">https://wandb.ai/A2_DA6401_DL/Lightning_CNN/runs/sh5isz0f</a><br> View project at: <a href='https://wandb.ai/A2_DA6401_DL/Lightning_CNN' target=\"_blank\">https://wandb.ai/A2_DA6401_DL/Lightning_CNN</a><br>Synced 5 W&B file(s), 0 media file(s), 0 artifact file(s) and 0 other file(s)"
      ],
      "text/plain": [
       "<IPython.core.display.HTML object>"
      ]
     },
     "metadata": {},
     "output_type": "display_data"
    },
    {
     "data": {
      "text/html": [
       "Find logs at: <code>./wandb/run-20250417_203803-sh5isz0f/logs</code>"
      ],
      "text/plain": [
       "<IPython.core.display.HTML object>"
      ]
     },
     "metadata": {},
     "output_type": "display_data"
    },
    {
     "name": "stderr",
     "output_type": "stream",
     "text": [
      "\u001b[34m\u001b[1mwandb\u001b[0m: Agent Starting Run: pn09eiuo with config:\n",
      "\u001b[34m\u001b[1mwandb\u001b[0m: \tbatch_norm_conv: True\n",
      "\u001b[34m\u001b[1mwandb\u001b[0m: \tbatch_norm_fc: True\n",
      "\u001b[34m\u001b[1mwandb\u001b[0m: \tbatch_size: 16\n",
      "\u001b[34m\u001b[1mwandb\u001b[0m: \tconv_1_filter_size: 3\n",
      "\u001b[34m\u001b[1mwandb\u001b[0m: \tconv_2_filter_size: 5\n",
      "\u001b[34m\u001b[1mwandb\u001b[0m: \tconv_3_filter_size: 3\n",
      "\u001b[34m\u001b[1mwandb\u001b[0m: \tconv_4_filter_size: 5\n",
      "\u001b[34m\u001b[1mwandb\u001b[0m: \tconv_5_filter_size: 3\n",
      "\u001b[34m\u001b[1mwandb\u001b[0m: \tconv_activation: LeakyReLU\n",
      "\u001b[34m\u001b[1mwandb\u001b[0m: \tconv_padding: [None, None, None, None, None]\n",
      "\u001b[34m\u001b[1mwandb\u001b[0m: \tconv_strides: [1, 1, 1, 1, 1]\n",
      "\u001b[34m\u001b[1mwandb\u001b[0m: \tdata_aug: True\n",
      "\u001b[34m\u001b[1mwandb\u001b[0m: \tdropout_conv: 0.2\n",
      "\u001b[34m\u001b[1mwandb\u001b[0m: \tdropout_fc: 0.3\n",
      "\u001b[34m\u001b[1mwandb\u001b[0m: \tepochs: 25\n",
      "\u001b[34m\u001b[1mwandb\u001b[0m: \tfc_activations: SiLU\n",
      "\u001b[34m\u001b[1mwandb\u001b[0m: \tfc_neurons: 1024\n",
      "\u001b[34m\u001b[1mwandb\u001b[0m: \tfilter_mul: 1\n",
      "\u001b[34m\u001b[1mwandb\u001b[0m: \tinput_channels: 3\n",
      "\u001b[34m\u001b[1mwandb\u001b[0m: \tinput_size: [256, 256]\n",
      "\u001b[34m\u001b[1mwandb\u001b[0m: \tlearning_rate: 0.00025\n",
      "\u001b[34m\u001b[1mwandb\u001b[0m: \tmp_layer1_kernel_size: 3\n",
      "\u001b[34m\u001b[1mwandb\u001b[0m: \tmp_layer1_stride: None\n",
      "\u001b[34m\u001b[1mwandb\u001b[0m: \tmp_layer2_kernel_size: 5\n",
      "\u001b[34m\u001b[1mwandb\u001b[0m: \tmp_layer2_stride: 2\n",
      "\u001b[34m\u001b[1mwandb\u001b[0m: \tmp_layer3_kernel_size: 2\n",
      "\u001b[34m\u001b[1mwandb\u001b[0m: \tmp_layer3_stride: 2\n",
      "\u001b[34m\u001b[1mwandb\u001b[0m: \tmp_layer4_kernel_size: 3\n",
      "\u001b[34m\u001b[1mwandb\u001b[0m: \tmp_layer4_stride: 2\n",
      "\u001b[34m\u001b[1mwandb\u001b[0m: \tmp_layer5_kernel_size: 2\n",
      "\u001b[34m\u001b[1mwandb\u001b[0m: \tmp_layer5_stride: 2\n",
      "\u001b[34m\u001b[1mwandb\u001b[0m: \tno_of_conv_blocks: 5\n",
      "\u001b[34m\u001b[1mwandb\u001b[0m: \tno_of_fc_layers: 1\n",
      "\u001b[34m\u001b[1mwandb\u001b[0m: \tno_of_filters: 256\n",
      "\u001b[34m\u001b[1mwandb\u001b[0m: \tnum_classes: 10\n",
      "\u001b[34m\u001b[1mwandb\u001b[0m: \tnum_workers: 10\n"
     ]
    },
    {
     "data": {
      "text/html": [
       "Tracking run with wandb version 0.19.9"
      ],
      "text/plain": [
       "<IPython.core.display.HTML object>"
      ]
     },
     "metadata": {},
     "output_type": "display_data"
    },
    {
     "data": {
      "text/html": [
       "Run data is saved locally in <code>/home/joel/Pytorch_CUDA/wandb/run-20250417_203811-pn09eiuo</code>"
      ],
      "text/plain": [
       "<IPython.core.display.HTML object>"
      ]
     },
     "metadata": {},
     "output_type": "display_data"
    },
    {
     "data": {
      "text/html": [
       "Syncing run <strong><a href='https://wandb.ai/A2_DA6401_DL/Lightning_CNN/runs/pn09eiuo' target=\"_blank\">desert-sweep-160</a></strong> to <a href='https://wandb.ai/A2_DA6401_DL/Lightning_CNN' target=\"_blank\">Weights & Biases</a> (<a href='https://wandb.me/developer-guide' target=\"_blank\">docs</a>)<br>Sweep page: <a href='https://wandb.ai/A2_DA6401_DL/Lightning_CNN/sweeps/78djv91t' target=\"_blank\">https://wandb.ai/A2_DA6401_DL/Lightning_CNN/sweeps/78djv91t</a>"
      ],
      "text/plain": [
       "<IPython.core.display.HTML object>"
      ]
     },
     "metadata": {},
     "output_type": "display_data"
    },
    {
     "data": {
      "text/html": [
       " View project at <a href='https://wandb.ai/A2_DA6401_DL/Lightning_CNN' target=\"_blank\">https://wandb.ai/A2_DA6401_DL/Lightning_CNN</a>"
      ],
      "text/plain": [
       "<IPython.core.display.HTML object>"
      ]
     },
     "metadata": {},
     "output_type": "display_data"
    },
    {
     "data": {
      "text/html": [
       " View sweep at <a href='https://wandb.ai/A2_DA6401_DL/Lightning_CNN/sweeps/78djv91t' target=\"_blank\">https://wandb.ai/A2_DA6401_DL/Lightning_CNN/sweeps/78djv91t</a>"
      ],
      "text/plain": [
       "<IPython.core.display.HTML object>"
      ]
     },
     "metadata": {},
     "output_type": "display_data"
    },
    {
     "data": {
      "text/html": [
       " View run at <a href='https://wandb.ai/A2_DA6401_DL/Lightning_CNN/runs/pn09eiuo' target=\"_blank\">https://wandb.ai/A2_DA6401_DL/Lightning_CNN/runs/pn09eiuo</a>"
      ],
      "text/plain": [
       "<IPython.core.display.HTML object>"
      ]
     },
     "metadata": {},
     "output_type": "display_data"
    },
    {
     "name": "stdout",
     "output_type": "stream",
     "text": [
      "Not a good combination !!!\n"
     ]
    },
    {
     "data": {
      "text/html": [],
      "text/plain": [
       "<IPython.core.display.HTML object>"
      ]
     },
     "metadata": {},
     "output_type": "display_data"
    },
    {
     "data": {
      "text/html": [
       " View run <strong style=\"color:#cdcd00\">bs_16_layer_act_LeakyReLU_epoch_25_filter_mul_1_num_filters_256</strong> at: <a href='https://wandb.ai/A2_DA6401_DL/Lightning_CNN/runs/pn09eiuo' target=\"_blank\">https://wandb.ai/A2_DA6401_DL/Lightning_CNN/runs/pn09eiuo</a><br> View project at: <a href='https://wandb.ai/A2_DA6401_DL/Lightning_CNN' target=\"_blank\">https://wandb.ai/A2_DA6401_DL/Lightning_CNN</a><br>Synced 5 W&B file(s), 0 media file(s), 0 artifact file(s) and 0 other file(s)"
      ],
      "text/plain": [
       "<IPython.core.display.HTML object>"
      ]
     },
     "metadata": {},
     "output_type": "display_data"
    },
    {
     "data": {
      "text/html": [
       "Find logs at: <code>./wandb/run-20250417_203811-pn09eiuo/logs</code>"
      ],
      "text/plain": [
       "<IPython.core.display.HTML object>"
      ]
     },
     "metadata": {},
     "output_type": "display_data"
    },
    {
     "name": "stderr",
     "output_type": "stream",
     "text": [
      "\u001b[34m\u001b[1mwandb\u001b[0m: Agent Starting Run: itmufg6i with config:\n",
      "\u001b[34m\u001b[1mwandb\u001b[0m: \tbatch_norm_conv: False\n",
      "\u001b[34m\u001b[1mwandb\u001b[0m: \tbatch_norm_fc: True\n",
      "\u001b[34m\u001b[1mwandb\u001b[0m: \tbatch_size: 32\n",
      "\u001b[34m\u001b[1mwandb\u001b[0m: \tconv_1_filter_size: 3\n",
      "\u001b[34m\u001b[1mwandb\u001b[0m: \tconv_2_filter_size: 5\n",
      "\u001b[34m\u001b[1mwandb\u001b[0m: \tconv_3_filter_size: 3\n",
      "\u001b[34m\u001b[1mwandb\u001b[0m: \tconv_4_filter_size: 5\n",
      "\u001b[34m\u001b[1mwandb\u001b[0m: \tconv_5_filter_size: 3\n",
      "\u001b[34m\u001b[1mwandb\u001b[0m: \tconv_activation: LeakyReLU\n",
      "\u001b[34m\u001b[1mwandb\u001b[0m: \tconv_padding: [None, None, None, None, None]\n",
      "\u001b[34m\u001b[1mwandb\u001b[0m: \tconv_strides: [1, 1, 1, 1, 1]\n",
      "\u001b[34m\u001b[1mwandb\u001b[0m: \tdata_aug: True\n",
      "\u001b[34m\u001b[1mwandb\u001b[0m: \tdropout_conv: 0\n",
      "\u001b[34m\u001b[1mwandb\u001b[0m: \tdropout_fc: 0.2\n",
      "\u001b[34m\u001b[1mwandb\u001b[0m: \tepochs: 25\n",
      "\u001b[34m\u001b[1mwandb\u001b[0m: \tfc_activations: LeakyReLU\n",
      "\u001b[34m\u001b[1mwandb\u001b[0m: \tfc_neurons: 512\n",
      "\u001b[34m\u001b[1mwandb\u001b[0m: \tfilter_mul: 1\n",
      "\u001b[34m\u001b[1mwandb\u001b[0m: \tinput_channels: 3\n",
      "\u001b[34m\u001b[1mwandb\u001b[0m: \tinput_size: [256, 256]\n",
      "\u001b[34m\u001b[1mwandb\u001b[0m: \tlearning_rate: 0.0005\n",
      "\u001b[34m\u001b[1mwandb\u001b[0m: \tmp_layer1_kernel_size: 5\n",
      "\u001b[34m\u001b[1mwandb\u001b[0m: \tmp_layer1_stride: 3\n",
      "\u001b[34m\u001b[1mwandb\u001b[0m: \tmp_layer2_kernel_size: 2\n",
      "\u001b[34m\u001b[1mwandb\u001b[0m: \tmp_layer2_stride: None\n",
      "\u001b[34m\u001b[1mwandb\u001b[0m: \tmp_layer3_kernel_size: 2\n",
      "\u001b[34m\u001b[1mwandb\u001b[0m: \tmp_layer3_stride: 3\n",
      "\u001b[34m\u001b[1mwandb\u001b[0m: \tmp_layer4_kernel_size: 3\n",
      "\u001b[34m\u001b[1mwandb\u001b[0m: \tmp_layer4_stride: 3\n",
      "\u001b[34m\u001b[1mwandb\u001b[0m: \tmp_layer5_kernel_size: 3\n",
      "\u001b[34m\u001b[1mwandb\u001b[0m: \tmp_layer5_stride: 2\n",
      "\u001b[34m\u001b[1mwandb\u001b[0m: \tno_of_conv_blocks: 5\n",
      "\u001b[34m\u001b[1mwandb\u001b[0m: \tno_of_fc_layers: 1\n",
      "\u001b[34m\u001b[1mwandb\u001b[0m: \tno_of_filters: 256\n",
      "\u001b[34m\u001b[1mwandb\u001b[0m: \tnum_classes: 10\n",
      "\u001b[34m\u001b[1mwandb\u001b[0m: \tnum_workers: 10\n"
     ]
    },
    {
     "data": {
      "text/html": [
       "Tracking run with wandb version 0.19.9"
      ],
      "text/plain": [
       "<IPython.core.display.HTML object>"
      ]
     },
     "metadata": {},
     "output_type": "display_data"
    },
    {
     "data": {
      "text/html": [
       "Run data is saved locally in <code>/home/joel/Pytorch_CUDA/wandb/run-20250417_203817-itmufg6i</code>"
      ],
      "text/plain": [
       "<IPython.core.display.HTML object>"
      ]
     },
     "metadata": {},
     "output_type": "display_data"
    },
    {
     "data": {
      "text/html": [
       "Syncing run <strong><a href='https://wandb.ai/A2_DA6401_DL/Lightning_CNN/runs/itmufg6i' target=\"_blank\">super-sweep-161</a></strong> to <a href='https://wandb.ai/A2_DA6401_DL/Lightning_CNN' target=\"_blank\">Weights & Biases</a> (<a href='https://wandb.me/developer-guide' target=\"_blank\">docs</a>)<br>Sweep page: <a href='https://wandb.ai/A2_DA6401_DL/Lightning_CNN/sweeps/78djv91t' target=\"_blank\">https://wandb.ai/A2_DA6401_DL/Lightning_CNN/sweeps/78djv91t</a>"
      ],
      "text/plain": [
       "<IPython.core.display.HTML object>"
      ]
     },
     "metadata": {},
     "output_type": "display_data"
    },
    {
     "data": {
      "text/html": [
       " View project at <a href='https://wandb.ai/A2_DA6401_DL/Lightning_CNN' target=\"_blank\">https://wandb.ai/A2_DA6401_DL/Lightning_CNN</a>"
      ],
      "text/plain": [
       "<IPython.core.display.HTML object>"
      ]
     },
     "metadata": {},
     "output_type": "display_data"
    },
    {
     "data": {
      "text/html": [
       " View sweep at <a href='https://wandb.ai/A2_DA6401_DL/Lightning_CNN/sweeps/78djv91t' target=\"_blank\">https://wandb.ai/A2_DA6401_DL/Lightning_CNN/sweeps/78djv91t</a>"
      ],
      "text/plain": [
       "<IPython.core.display.HTML object>"
      ]
     },
     "metadata": {},
     "output_type": "display_data"
    },
    {
     "data": {
      "text/html": [
       " View run at <a href='https://wandb.ai/A2_DA6401_DL/Lightning_CNN/runs/itmufg6i' target=\"_blank\">https://wandb.ai/A2_DA6401_DL/Lightning_CNN/runs/itmufg6i</a>"
      ],
      "text/plain": [
       "<IPython.core.display.HTML object>"
      ]
     },
     "metadata": {},
     "output_type": "display_data"
    },
    {
     "name": "stdout",
     "output_type": "stream",
     "text": [
      "Not a good combination !!!\n"
     ]
    },
    {
     "data": {
      "text/html": [],
      "text/plain": [
       "<IPython.core.display.HTML object>"
      ]
     },
     "metadata": {},
     "output_type": "display_data"
    },
    {
     "data": {
      "text/html": [
       " View run <strong style=\"color:#cdcd00\">bs_32_layer_act_LeakyReLU_epoch_25_filter_mul_1_num_filters_256</strong> at: <a href='https://wandb.ai/A2_DA6401_DL/Lightning_CNN/runs/itmufg6i' target=\"_blank\">https://wandb.ai/A2_DA6401_DL/Lightning_CNN/runs/itmufg6i</a><br> View project at: <a href='https://wandb.ai/A2_DA6401_DL/Lightning_CNN' target=\"_blank\">https://wandb.ai/A2_DA6401_DL/Lightning_CNN</a><br>Synced 5 W&B file(s), 0 media file(s), 0 artifact file(s) and 0 other file(s)"
      ],
      "text/plain": [
       "<IPython.core.display.HTML object>"
      ]
     },
     "metadata": {},
     "output_type": "display_data"
    },
    {
     "data": {
      "text/html": [
       "Find logs at: <code>./wandb/run-20250417_203817-itmufg6i/logs</code>"
      ],
      "text/plain": [
       "<IPython.core.display.HTML object>"
      ]
     },
     "metadata": {},
     "output_type": "display_data"
    },
    {
     "name": "stderr",
     "output_type": "stream",
     "text": [
      "\u001b[34m\u001b[1mwandb\u001b[0m: Sweep Agent: Waiting for job.\n",
      "\u001b[34m\u001b[1mwandb\u001b[0m: Job received.\n",
      "\u001b[34m\u001b[1mwandb\u001b[0m: Agent Starting Run: 0qnif9b9 with config:\n",
      "\u001b[34m\u001b[1mwandb\u001b[0m: \tbatch_norm_conv: False\n",
      "\u001b[34m\u001b[1mwandb\u001b[0m: \tbatch_norm_fc: True\n",
      "\u001b[34m\u001b[1mwandb\u001b[0m: \tbatch_size: 32\n",
      "\u001b[34m\u001b[1mwandb\u001b[0m: \tconv_1_filter_size: 3\n",
      "\u001b[34m\u001b[1mwandb\u001b[0m: \tconv_2_filter_size: 5\n",
      "\u001b[34m\u001b[1mwandb\u001b[0m: \tconv_3_filter_size: 5\n",
      "\u001b[34m\u001b[1mwandb\u001b[0m: \tconv_4_filter_size: 5\n",
      "\u001b[34m\u001b[1mwandb\u001b[0m: \tconv_5_filter_size: 5\n",
      "\u001b[34m\u001b[1mwandb\u001b[0m: \tconv_activation: Mish\n",
      "\u001b[34m\u001b[1mwandb\u001b[0m: \tconv_padding: [None, None, None, None, None]\n",
      "\u001b[34m\u001b[1mwandb\u001b[0m: \tconv_strides: [1, 1, 1, 1, 1]\n",
      "\u001b[34m\u001b[1mwandb\u001b[0m: \tdata_aug: True\n",
      "\u001b[34m\u001b[1mwandb\u001b[0m: \tdropout_conv: 0.2\n",
      "\u001b[34m\u001b[1mwandb\u001b[0m: \tdropout_fc: 0.3\n",
      "\u001b[34m\u001b[1mwandb\u001b[0m: \tepochs: 25\n",
      "\u001b[34m\u001b[1mwandb\u001b[0m: \tfc_activations: SELU\n",
      "\u001b[34m\u001b[1mwandb\u001b[0m: \tfc_neurons: 1024\n",
      "\u001b[34m\u001b[1mwandb\u001b[0m: \tfilter_mul: 1\n",
      "\u001b[34m\u001b[1mwandb\u001b[0m: \tinput_channels: 3\n",
      "\u001b[34m\u001b[1mwandb\u001b[0m: \tinput_size: [256, 256]\n",
      "\u001b[34m\u001b[1mwandb\u001b[0m: \tlearning_rate: 0.00025\n",
      "\u001b[34m\u001b[1mwandb\u001b[0m: \tmp_layer1_kernel_size: 3\n",
      "\u001b[34m\u001b[1mwandb\u001b[0m: \tmp_layer1_stride: 3\n",
      "\u001b[34m\u001b[1mwandb\u001b[0m: \tmp_layer2_kernel_size: 5\n",
      "\u001b[34m\u001b[1mwandb\u001b[0m: \tmp_layer2_stride: 2\n",
      "\u001b[34m\u001b[1mwandb\u001b[0m: \tmp_layer3_kernel_size: 2\n",
      "\u001b[34m\u001b[1mwandb\u001b[0m: \tmp_layer3_stride: 3\n",
      "\u001b[34m\u001b[1mwandb\u001b[0m: \tmp_layer4_kernel_size: 2\n",
      "\u001b[34m\u001b[1mwandb\u001b[0m: \tmp_layer4_stride: 2\n",
      "\u001b[34m\u001b[1mwandb\u001b[0m: \tmp_layer5_kernel_size: 3\n",
      "\u001b[34m\u001b[1mwandb\u001b[0m: \tmp_layer5_stride: 3\n",
      "\u001b[34m\u001b[1mwandb\u001b[0m: \tno_of_conv_blocks: 5\n",
      "\u001b[34m\u001b[1mwandb\u001b[0m: \tno_of_fc_layers: 1\n",
      "\u001b[34m\u001b[1mwandb\u001b[0m: \tno_of_filters: 16\n",
      "\u001b[34m\u001b[1mwandb\u001b[0m: \tnum_classes: 10\n",
      "\u001b[34m\u001b[1mwandb\u001b[0m: \tnum_workers: 10\n"
     ]
    },
    {
     "data": {
      "text/html": [
       "Tracking run with wandb version 0.19.9"
      ],
      "text/plain": [
       "<IPython.core.display.HTML object>"
      ]
     },
     "metadata": {},
     "output_type": "display_data"
    },
    {
     "data": {
      "text/html": [
       "Run data is saved locally in <code>/home/joel/Pytorch_CUDA/wandb/run-20250417_203832-0qnif9b9</code>"
      ],
      "text/plain": [
       "<IPython.core.display.HTML object>"
      ]
     },
     "metadata": {},
     "output_type": "display_data"
    },
    {
     "data": {
      "text/html": [
       "Syncing run <strong><a href='https://wandb.ai/A2_DA6401_DL/Lightning_CNN/runs/0qnif9b9' target=\"_blank\">vivid-sweep-162</a></strong> to <a href='https://wandb.ai/A2_DA6401_DL/Lightning_CNN' target=\"_blank\">Weights & Biases</a> (<a href='https://wandb.me/developer-guide' target=\"_blank\">docs</a>)<br>Sweep page: <a href='https://wandb.ai/A2_DA6401_DL/Lightning_CNN/sweeps/78djv91t' target=\"_blank\">https://wandb.ai/A2_DA6401_DL/Lightning_CNN/sweeps/78djv91t</a>"
      ],
      "text/plain": [
       "<IPython.core.display.HTML object>"
      ]
     },
     "metadata": {},
     "output_type": "display_data"
    },
    {
     "data": {
      "text/html": [
       " View project at <a href='https://wandb.ai/A2_DA6401_DL/Lightning_CNN' target=\"_blank\">https://wandb.ai/A2_DA6401_DL/Lightning_CNN</a>"
      ],
      "text/plain": [
       "<IPython.core.display.HTML object>"
      ]
     },
     "metadata": {},
     "output_type": "display_data"
    },
    {
     "data": {
      "text/html": [
       " View sweep at <a href='https://wandb.ai/A2_DA6401_DL/Lightning_CNN/sweeps/78djv91t' target=\"_blank\">https://wandb.ai/A2_DA6401_DL/Lightning_CNN/sweeps/78djv91t</a>"
      ],
      "text/plain": [
       "<IPython.core.display.HTML object>"
      ]
     },
     "metadata": {},
     "output_type": "display_data"
    },
    {
     "data": {
      "text/html": [
       " View run at <a href='https://wandb.ai/A2_DA6401_DL/Lightning_CNN/runs/0qnif9b9' target=\"_blank\">https://wandb.ai/A2_DA6401_DL/Lightning_CNN/runs/0qnif9b9</a>"
      ],
      "text/plain": [
       "<IPython.core.display.HTML object>"
      ]
     },
     "metadata": {},
     "output_type": "display_data"
    },
    {
     "name": "stdout",
     "output_type": "stream",
     "text": [
      "Not a good combination !!!\n"
     ]
    },
    {
     "data": {
      "text/html": [],
      "text/plain": [
       "<IPython.core.display.HTML object>"
      ]
     },
     "metadata": {},
     "output_type": "display_data"
    },
    {
     "data": {
      "text/html": [
       " View run <strong style=\"color:#cdcd00\">bs_32_layer_act_Mish_epoch_25_filter_mul_1_num_filters_16</strong> at: <a href='https://wandb.ai/A2_DA6401_DL/Lightning_CNN/runs/0qnif9b9' target=\"_blank\">https://wandb.ai/A2_DA6401_DL/Lightning_CNN/runs/0qnif9b9</a><br> View project at: <a href='https://wandb.ai/A2_DA6401_DL/Lightning_CNN' target=\"_blank\">https://wandb.ai/A2_DA6401_DL/Lightning_CNN</a><br>Synced 5 W&B file(s), 0 media file(s), 0 artifact file(s) and 0 other file(s)"
      ],
      "text/plain": [
       "<IPython.core.display.HTML object>"
      ]
     },
     "metadata": {},
     "output_type": "display_data"
    },
    {
     "data": {
      "text/html": [
       "Find logs at: <code>./wandb/run-20250417_203832-0qnif9b9/logs</code>"
      ],
      "text/plain": [
       "<IPython.core.display.HTML object>"
      ]
     },
     "metadata": {},
     "output_type": "display_data"
    },
    {
     "name": "stderr",
     "output_type": "stream",
     "text": [
      "\u001b[34m\u001b[1mwandb\u001b[0m: Agent Starting Run: 0zf68z2c with config:\n",
      "\u001b[34m\u001b[1mwandb\u001b[0m: \tbatch_norm_conv: True\n",
      "\u001b[34m\u001b[1mwandb\u001b[0m: \tbatch_norm_fc: True\n",
      "\u001b[34m\u001b[1mwandb\u001b[0m: \tbatch_size: 16\n",
      "\u001b[34m\u001b[1mwandb\u001b[0m: \tconv_1_filter_size: 3\n",
      "\u001b[34m\u001b[1mwandb\u001b[0m: \tconv_2_filter_size: 5\n",
      "\u001b[34m\u001b[1mwandb\u001b[0m: \tconv_3_filter_size: 5\n",
      "\u001b[34m\u001b[1mwandb\u001b[0m: \tconv_4_filter_size: 3\n",
      "\u001b[34m\u001b[1mwandb\u001b[0m: \tconv_5_filter_size: 5\n",
      "\u001b[34m\u001b[1mwandb\u001b[0m: \tconv_activation: Mish\n",
      "\u001b[34m\u001b[1mwandb\u001b[0m: \tconv_padding: [None, None, None, None, None]\n",
      "\u001b[34m\u001b[1mwandb\u001b[0m: \tconv_strides: [1, 1, 1, 1, 1]\n",
      "\u001b[34m\u001b[1mwandb\u001b[0m: \tdata_aug: True\n",
      "\u001b[34m\u001b[1mwandb\u001b[0m: \tdropout_conv: 0.2\n",
      "\u001b[34m\u001b[1mwandb\u001b[0m: \tdropout_fc: 0.2\n",
      "\u001b[34m\u001b[1mwandb\u001b[0m: \tepochs: 25\n",
      "\u001b[34m\u001b[1mwandb\u001b[0m: \tfc_activations: Mish\n",
      "\u001b[34m\u001b[1mwandb\u001b[0m: \tfc_neurons: 512\n",
      "\u001b[34m\u001b[1mwandb\u001b[0m: \tfilter_mul: 2\n",
      "\u001b[34m\u001b[1mwandb\u001b[0m: \tinput_channels: 3\n",
      "\u001b[34m\u001b[1mwandb\u001b[0m: \tinput_size: [256, 256]\n",
      "\u001b[34m\u001b[1mwandb\u001b[0m: \tlearning_rate: 0.0005\n",
      "\u001b[34m\u001b[1mwandb\u001b[0m: \tmp_layer1_kernel_size: 3\n",
      "\u001b[34m\u001b[1mwandb\u001b[0m: \tmp_layer1_stride: 3\n",
      "\u001b[34m\u001b[1mwandb\u001b[0m: \tmp_layer2_kernel_size: 3\n",
      "\u001b[34m\u001b[1mwandb\u001b[0m: \tmp_layer2_stride: 3\n",
      "\u001b[34m\u001b[1mwandb\u001b[0m: \tmp_layer3_kernel_size: 3\n",
      "\u001b[34m\u001b[1mwandb\u001b[0m: \tmp_layer3_stride: 3\n",
      "\u001b[34m\u001b[1mwandb\u001b[0m: \tmp_layer4_kernel_size: 3\n",
      "\u001b[34m\u001b[1mwandb\u001b[0m: \tmp_layer4_stride: 2\n",
      "\u001b[34m\u001b[1mwandb\u001b[0m: \tmp_layer5_kernel_size: 3\n",
      "\u001b[34m\u001b[1mwandb\u001b[0m: \tmp_layer5_stride: 2\n",
      "\u001b[34m\u001b[1mwandb\u001b[0m: \tno_of_conv_blocks: 5\n",
      "\u001b[34m\u001b[1mwandb\u001b[0m: \tno_of_fc_layers: 1\n",
      "\u001b[34m\u001b[1mwandb\u001b[0m: \tno_of_filters: 16\n",
      "\u001b[34m\u001b[1mwandb\u001b[0m: \tnum_classes: 10\n",
      "\u001b[34m\u001b[1mwandb\u001b[0m: \tnum_workers: 10\n"
     ]
    },
    {
     "data": {
      "text/html": [],
      "text/plain": [
       "<IPython.core.display.HTML object>"
      ]
     },
     "metadata": {},
     "output_type": "display_data"
    },
    {
     "data": {
      "text/html": [
       "Tracking run with wandb version 0.19.9"
      ],
      "text/plain": [
       "<IPython.core.display.HTML object>"
      ]
     },
     "metadata": {},
     "output_type": "display_data"
    },
    {
     "data": {
      "text/html": [
       "Run data is saved locally in <code>/home/joel/Pytorch_CUDA/wandb/run-20250417_203839-0zf68z2c</code>"
      ],
      "text/plain": [
       "<IPython.core.display.HTML object>"
      ]
     },
     "metadata": {},
     "output_type": "display_data"
    },
    {
     "data": {
      "text/html": [
       "Syncing run <strong><a href='https://wandb.ai/A2_DA6401_DL/Lightning_CNN/runs/0zf68z2c' target=\"_blank\">clean-sweep-163</a></strong> to <a href='https://wandb.ai/A2_DA6401_DL/Lightning_CNN' target=\"_blank\">Weights & Biases</a> (<a href='https://wandb.me/developer-guide' target=\"_blank\">docs</a>)<br>Sweep page: <a href='https://wandb.ai/A2_DA6401_DL/Lightning_CNN/sweeps/78djv91t' target=\"_blank\">https://wandb.ai/A2_DA6401_DL/Lightning_CNN/sweeps/78djv91t</a>"
      ],
      "text/plain": [
       "<IPython.core.display.HTML object>"
      ]
     },
     "metadata": {},
     "output_type": "display_data"
    },
    {
     "data": {
      "text/html": [
       " View project at <a href='https://wandb.ai/A2_DA6401_DL/Lightning_CNN' target=\"_blank\">https://wandb.ai/A2_DA6401_DL/Lightning_CNN</a>"
      ],
      "text/plain": [
       "<IPython.core.display.HTML object>"
      ]
     },
     "metadata": {},
     "output_type": "display_data"
    },
    {
     "data": {
      "text/html": [
       " View sweep at <a href='https://wandb.ai/A2_DA6401_DL/Lightning_CNN/sweeps/78djv91t' target=\"_blank\">https://wandb.ai/A2_DA6401_DL/Lightning_CNN/sweeps/78djv91t</a>"
      ],
      "text/plain": [
       "<IPython.core.display.HTML object>"
      ]
     },
     "metadata": {},
     "output_type": "display_data"
    },
    {
     "data": {
      "text/html": [
       " View run at <a href='https://wandb.ai/A2_DA6401_DL/Lightning_CNN/runs/0zf68z2c' target=\"_blank\">https://wandb.ai/A2_DA6401_DL/Lightning_CNN/runs/0zf68z2c</a>"
      ],
      "text/plain": [
       "<IPython.core.display.HTML object>"
      ]
     },
     "metadata": {},
     "output_type": "display_data"
    },
    {
     "name": "stderr",
     "output_type": "stream",
     "text": [
      "You are using the plain ModelCheckpoint callback. Consider using LitModelCheckpoint which with seamless uploading to Model registry.\n",
      "GPU available: True (cuda), used: True\n",
      "TPU available: False, using: 0 TPU cores\n",
      "HPU available: False, using: 0 HPUs\n",
      "/home/joel/Pytorch_CUDA/virt_env/lib/python3.12/site-packages/lightning/pytorch/loggers/wandb.py:397: There is a wandb run already in progress and newly created instances of `WandbLogger` will reuse this run. If this is not desired, call `wandb.finish()` before instantiating `WandbLogger`.\n",
      "LOCAL_RANK: 0 - CUDA_VISIBLE_DEVICES: [0]\n",
      "\n",
      "  | Name       | Type               | Params | Mode \n",
      "----------------------------------------------------------\n",
      "0 | model      | CNN_               | 1.1 M  | train\n",
      "1 | loss_fn    | CrossEntropyLoss   | 0      | train\n",
      "2 | acc_metric | MulticlassAccuracy | 0      | train\n",
      "----------------------------------------------------------\n",
      "1.1 M     Trainable params\n",
      "0         Non-trainable params\n",
      "1.1 M     Total params\n",
      "4.386     Total estimated model params size (MB)\n",
      "43        Modules in train mode\n",
      "0         Modules in eval mode\n"
     ]
    },
    {
     "data": {
      "application/vnd.jupyter.widget-view+json": {
       "model_id": "2a5edfa101554e26ad310a36363a5e9d",
       "version_major": 2,
       "version_minor": 0
      },
      "text/plain": [
       "Sanity Checking: |          | 0/? [00:00<?, ?it/s]"
      ]
     },
     "metadata": {},
     "output_type": "display_data"
    },
    {
     "data": {
      "application/vnd.jupyter.widget-view+json": {
       "model_id": "f8bb2c9361f149b5ac1878363b9828bf",
       "version_major": 2,
       "version_minor": 0
      },
      "text/plain": [
       "Training: |          | 0/? [00:00<?, ?it/s]"
      ]
     },
     "metadata": {},
     "output_type": "display_data"
    },
    {
     "data": {
      "application/vnd.jupyter.widget-view+json": {
       "model_id": "db1117aa06e44961a1f53d7e3418c490",
       "version_major": 2,
       "version_minor": 0
      },
      "text/plain": [
       "Validation: |          | 0/? [00:00<?, ?it/s]"
      ]
     },
     "metadata": {},
     "output_type": "display_data"
    },
    {
     "data": {
      "application/vnd.jupyter.widget-view+json": {
       "model_id": "8ecf708a95b340e88865b8574503dde6",
       "version_major": 2,
       "version_minor": 0
      },
      "text/plain": [
       "Validation: |          | 0/? [00:00<?, ?it/s]"
      ]
     },
     "metadata": {},
     "output_type": "display_data"
    },
    {
     "data": {
      "application/vnd.jupyter.widget-view+json": {
       "model_id": "390dde55aaf04507b4b6545e33547269",
       "version_major": 2,
       "version_minor": 0
      },
      "text/plain": [
       "Validation: |          | 0/? [00:00<?, ?it/s]"
      ]
     },
     "metadata": {},
     "output_type": "display_data"
    },
    {
     "data": {
      "application/vnd.jupyter.widget-view+json": {
       "model_id": "a1c39a2cee94479bb68718954c20d3f0",
       "version_major": 2,
       "version_minor": 0
      },
      "text/plain": [
       "Validation: |          | 0/? [00:00<?, ?it/s]"
      ]
     },
     "metadata": {},
     "output_type": "display_data"
    },
    {
     "data": {
      "application/vnd.jupyter.widget-view+json": {
       "model_id": "1838a3d2263543d0a2445f1170137411",
       "version_major": 2,
       "version_minor": 0
      },
      "text/plain": [
       "Validation: |          | 0/? [00:00<?, ?it/s]"
      ]
     },
     "metadata": {},
     "output_type": "display_data"
    },
    {
     "data": {
      "application/vnd.jupyter.widget-view+json": {
       "model_id": "813f95be50744cbcba3ff90fe5b7d59f",
       "version_major": 2,
       "version_minor": 0
      },
      "text/plain": [
       "Validation: |          | 0/? [00:00<?, ?it/s]"
      ]
     },
     "metadata": {},
     "output_type": "display_data"
    },
    {
     "data": {
      "application/vnd.jupyter.widget-view+json": {
       "model_id": "0a55763c6cb84c8abcb19a886596f779",
       "version_major": 2,
       "version_minor": 0
      },
      "text/plain": [
       "Validation: |          | 0/? [00:00<?, ?it/s]"
      ]
     },
     "metadata": {},
     "output_type": "display_data"
    },
    {
     "data": {
      "application/vnd.jupyter.widget-view+json": {
       "model_id": "08d7478110f4412983f4aa7c93e17ff1",
       "version_major": 2,
       "version_minor": 0
      },
      "text/plain": [
       "Validation: |          | 0/? [00:00<?, ?it/s]"
      ]
     },
     "metadata": {},
     "output_type": "display_data"
    },
    {
     "data": {
      "application/vnd.jupyter.widget-view+json": {
       "model_id": "6c1ea14137114bb89f6fa8b0ed8e0459",
       "version_major": 2,
       "version_minor": 0
      },
      "text/plain": [
       "Validation: |          | 0/? [00:00<?, ?it/s]"
      ]
     },
     "metadata": {},
     "output_type": "display_data"
    },
    {
     "data": {
      "application/vnd.jupyter.widget-view+json": {
       "model_id": "43011a390456438ea3a95983693b9f75",
       "version_major": 2,
       "version_minor": 0
      },
      "text/plain": [
       "Validation: |          | 0/? [00:00<?, ?it/s]"
      ]
     },
     "metadata": {},
     "output_type": "display_data"
    },
    {
     "data": {
      "application/vnd.jupyter.widget-view+json": {
       "model_id": "edec247f33904095a8451e410892244a",
       "version_major": 2,
       "version_minor": 0
      },
      "text/plain": [
       "Validation: |          | 0/? [00:00<?, ?it/s]"
      ]
     },
     "metadata": {},
     "output_type": "display_data"
    },
    {
     "data": {
      "application/vnd.jupyter.widget-view+json": {
       "model_id": "3e2244a97b4645b98e71bf9fe5f91c31",
       "version_major": 2,
       "version_minor": 0
      },
      "text/plain": [
       "Validation: |          | 0/? [00:00<?, ?it/s]"
      ]
     },
     "metadata": {},
     "output_type": "display_data"
    },
    {
     "data": {
      "application/vnd.jupyter.widget-view+json": {
       "model_id": "37ff4a955e4544528c1a8a2ff9590537",
       "version_major": 2,
       "version_minor": 0
      },
      "text/plain": [
       "Validation: |          | 0/? [00:00<?, ?it/s]"
      ]
     },
     "metadata": {},
     "output_type": "display_data"
    },
    {
     "data": {
      "application/vnd.jupyter.widget-view+json": {
       "model_id": "f10a48486b4d412f86c10a454d051e46",
       "version_major": 2,
       "version_minor": 0
      },
      "text/plain": [
       "Validation: |          | 0/? [00:00<?, ?it/s]"
      ]
     },
     "metadata": {},
     "output_type": "display_data"
    },
    {
     "data": {
      "application/vnd.jupyter.widget-view+json": {
       "model_id": "cb9215c6829f4978a44589382e3d718d",
       "version_major": 2,
       "version_minor": 0
      },
      "text/plain": [
       "Validation: |          | 0/? [00:00<?, ?it/s]"
      ]
     },
     "metadata": {},
     "output_type": "display_data"
    },
    {
     "data": {
      "application/vnd.jupyter.widget-view+json": {
       "model_id": "e3c05368507a4ecc833aaf890277f604",
       "version_major": 2,
       "version_minor": 0
      },
      "text/plain": [
       "Validation: |          | 0/? [00:00<?, ?it/s]"
      ]
     },
     "metadata": {},
     "output_type": "display_data"
    },
    {
     "data": {
      "application/vnd.jupyter.widget-view+json": {
       "model_id": "f7c3690117dd44a0928c4ccdb95f3949",
       "version_major": 2,
       "version_minor": 0
      },
      "text/plain": [
       "Validation: |          | 0/? [00:00<?, ?it/s]"
      ]
     },
     "metadata": {},
     "output_type": "display_data"
    },
    {
     "data": {
      "application/vnd.jupyter.widget-view+json": {
       "model_id": "b0b51d6a293d40d3b8a2a06034bd31d6",
       "version_major": 2,
       "version_minor": 0
      },
      "text/plain": [
       "Validation: |          | 0/? [00:00<?, ?it/s]"
      ]
     },
     "metadata": {},
     "output_type": "display_data"
    },
    {
     "data": {
      "application/vnd.jupyter.widget-view+json": {
       "model_id": "6858aa7e8e434a1cb32aa3f3c81c9003",
       "version_major": 2,
       "version_minor": 0
      },
      "text/plain": [
       "Validation: |          | 0/? [00:00<?, ?it/s]"
      ]
     },
     "metadata": {},
     "output_type": "display_data"
    },
    {
     "data": {
      "application/vnd.jupyter.widget-view+json": {
       "model_id": "ac96dcb291d74c27a84ec056993c367f",
       "version_major": 2,
       "version_minor": 0
      },
      "text/plain": [
       "Validation: |          | 0/? [00:00<?, ?it/s]"
      ]
     },
     "metadata": {},
     "output_type": "display_data"
    },
    {
     "data": {
      "application/vnd.jupyter.widget-view+json": {
       "model_id": "065587d41bb34982805cbba65273eeb9",
       "version_major": 2,
       "version_minor": 0
      },
      "text/plain": [
       "Validation: |          | 0/? [00:00<?, ?it/s]"
      ]
     },
     "metadata": {},
     "output_type": "display_data"
    },
    {
     "data": {
      "application/vnd.jupyter.widget-view+json": {
       "model_id": "644f8f4683b44a7983ad1f02385f58ad",
       "version_major": 2,
       "version_minor": 0
      },
      "text/plain": [
       "Validation: |          | 0/? [00:00<?, ?it/s]"
      ]
     },
     "metadata": {},
     "output_type": "display_data"
    },
    {
     "data": {
      "application/vnd.jupyter.widget-view+json": {
       "model_id": "bafc046b8f424e06a35dad8c4874e38b",
       "version_major": 2,
       "version_minor": 0
      },
      "text/plain": [
       "Validation: |          | 0/? [00:00<?, ?it/s]"
      ]
     },
     "metadata": {},
     "output_type": "display_data"
    },
    {
     "data": {
      "application/vnd.jupyter.widget-view+json": {
       "model_id": "5b9f4b0bcd924eceaea8555f44a4c4e8",
       "version_major": 2,
       "version_minor": 0
      },
      "text/plain": [
       "Validation: |          | 0/? [00:00<?, ?it/s]"
      ]
     },
     "metadata": {},
     "output_type": "display_data"
    },
    {
     "data": {
      "application/vnd.jupyter.widget-view+json": {
       "model_id": "1c665db48c724d178fc092168cba51e7",
       "version_major": 2,
       "version_minor": 0
      },
      "text/plain": [
       "Validation: |          | 0/? [00:00<?, ?it/s]"
      ]
     },
     "metadata": {},
     "output_type": "display_data"
    },
    {
     "name": "stderr",
     "output_type": "stream",
     "text": [
      "`Trainer.fit` stopped: `max_epochs=25` reached.\n"
     ]
    },
    {
     "data": {
      "text/html": [],
      "text/plain": [
       "<IPython.core.display.HTML object>"
      ]
     },
     "metadata": {},
     "output_type": "display_data"
    },
    {
     "data": {
      "text/html": [
       "<br>    <style><br>        .wandb-row {<br>            display: flex;<br>            flex-direction: row;<br>            flex-wrap: wrap;<br>            justify-content: flex-start;<br>            width: 100%;<br>        }<br>        .wandb-col {<br>            display: flex;<br>            flex-direction: column;<br>            flex-basis: 100%;<br>            flex: 1;<br>            padding: 10px;<br>        }<br>    </style><br><div class=\"wandb-row\"><div class=\"wandb-col\"><h3>Run history:</h3><br/><table class=\"wandb\"><tr><td>epoch</td><td>▁▁▁▁▂▂▂▂▂▂▃▃▃▃▃▄▄▄▄▄▅▅▅▅▅▅▆▆▆▆▆▇▇▇▇▇▇███</td></tr><tr><td>train_loss</td><td>█▇▆▅▅▅▄▄▄▄▃▄▃▃▃▃▂▂▂▂▂▂▁▁▁</td></tr><tr><td>trainer/global_step</td><td>▁▁▁▁▂▂▂▂▂▂▃▃▃▃▄▄▄▄▄▅▅▅▅▅▅▆▆▆▆▆▇▇▇▇▇▇▇███</td></tr><tr><td>val_acc</td><td>▁▂▃▄▄▄▅▆▅▄▅▆▆▆▅▆▆▆▇▆███▇▇</td></tr><tr><td>val_loss</td><td>█▇▆▅▅▅▅▃▄▅▄▃▃▂▄▃▂▃▂▃▁▁▁▂▂</td></tr></table><br/></div><div class=\"wandb-col\"><h3>Run summary:</h3><br/><table class=\"wandb\"><tr><td>epoch</td><td>24</td></tr><tr><td>train_loss</td><td>2.03546</td></tr><tr><td>trainer/global_step</td><td>12474</td></tr><tr><td>val_acc</td><td>0.3785</td></tr><tr><td>val_loss</td><td>2.07911</td></tr></table><br/></div></div>"
      ],
      "text/plain": [
       "<IPython.core.display.HTML object>"
      ]
     },
     "metadata": {},
     "output_type": "display_data"
    },
    {
     "data": {
      "text/html": [
       " View run <strong style=\"color:#cdcd00\">bs_16_layer_act_Mish_epoch_25_filter_mul_2_num_filters_16</strong> at: <a href='https://wandb.ai/A2_DA6401_DL/Lightning_CNN/runs/0zf68z2c' target=\"_blank\">https://wandb.ai/A2_DA6401_DL/Lightning_CNN/runs/0zf68z2c</a><br> View project at: <a href='https://wandb.ai/A2_DA6401_DL/Lightning_CNN' target=\"_blank\">https://wandb.ai/A2_DA6401_DL/Lightning_CNN</a><br>Synced 5 W&B file(s), 0 media file(s), 0 artifact file(s) and 0 other file(s)"
      ],
      "text/plain": [
       "<IPython.core.display.HTML object>"
      ]
     },
     "metadata": {},
     "output_type": "display_data"
    },
    {
     "data": {
      "text/html": [
       "Find logs at: <code>./wandb/run-20250417_203839-0zf68z2c/logs</code>"
      ],
      "text/plain": [
       "<IPython.core.display.HTML object>"
      ]
     },
     "metadata": {},
     "output_type": "display_data"
    },
    {
     "name": "stderr",
     "output_type": "stream",
     "text": [
      "\u001b[34m\u001b[1mwandb\u001b[0m: Sweep Agent: Waiting for job.\n",
      "\u001b[34m\u001b[1mwandb\u001b[0m: Job received.\n",
      "\u001b[34m\u001b[1mwandb\u001b[0m: Agent Starting Run: y4xxr21k with config:\n",
      "\u001b[34m\u001b[1mwandb\u001b[0m: \tbatch_norm_conv: True\n",
      "\u001b[34m\u001b[1mwandb\u001b[0m: \tbatch_norm_fc: True\n",
      "\u001b[34m\u001b[1mwandb\u001b[0m: \tbatch_size: 16\n",
      "\u001b[34m\u001b[1mwandb\u001b[0m: \tconv_1_filter_size: 3\n",
      "\u001b[34m\u001b[1mwandb\u001b[0m: \tconv_2_filter_size: 5\n",
      "\u001b[34m\u001b[1mwandb\u001b[0m: \tconv_3_filter_size: 5\n",
      "\u001b[34m\u001b[1mwandb\u001b[0m: \tconv_4_filter_size: 3\n",
      "\u001b[34m\u001b[1mwandb\u001b[0m: \tconv_5_filter_size: 3\n",
      "\u001b[34m\u001b[1mwandb\u001b[0m: \tconv_activation: LeakyReLU\n",
      "\u001b[34m\u001b[1mwandb\u001b[0m: \tconv_padding: [None, None, None, None, None]\n",
      "\u001b[34m\u001b[1mwandb\u001b[0m: \tconv_strides: [1, 1, 1, 1, 1]\n",
      "\u001b[34m\u001b[1mwandb\u001b[0m: \tdata_aug: True\n",
      "\u001b[34m\u001b[1mwandb\u001b[0m: \tdropout_conv: 0.1\n",
      "\u001b[34m\u001b[1mwandb\u001b[0m: \tdropout_fc: 0.3\n",
      "\u001b[34m\u001b[1mwandb\u001b[0m: \tepochs: 25\n",
      "\u001b[34m\u001b[1mwandb\u001b[0m: \tfc_activations: GELU\n",
      "\u001b[34m\u001b[1mwandb\u001b[0m: \tfc_neurons: 512\n",
      "\u001b[34m\u001b[1mwandb\u001b[0m: \tfilter_mul: 1\n",
      "\u001b[34m\u001b[1mwandb\u001b[0m: \tinput_channels: 3\n",
      "\u001b[34m\u001b[1mwandb\u001b[0m: \tinput_size: [256, 256]\n",
      "\u001b[34m\u001b[1mwandb\u001b[0m: \tlearning_rate: 0.00025\n",
      "\u001b[34m\u001b[1mwandb\u001b[0m: \tmp_layer1_kernel_size: 2\n",
      "\u001b[34m\u001b[1mwandb\u001b[0m: \tmp_layer1_stride: 3\n",
      "\u001b[34m\u001b[1mwandb\u001b[0m: \tmp_layer2_kernel_size: 2\n",
      "\u001b[34m\u001b[1mwandb\u001b[0m: \tmp_layer2_stride: 3\n",
      "\u001b[34m\u001b[1mwandb\u001b[0m: \tmp_layer3_kernel_size: 5\n",
      "\u001b[34m\u001b[1mwandb\u001b[0m: \tmp_layer3_stride: 2\n",
      "\u001b[34m\u001b[1mwandb\u001b[0m: \tmp_layer4_kernel_size: 3\n",
      "\u001b[34m\u001b[1mwandb\u001b[0m: \tmp_layer4_stride: 3\n",
      "\u001b[34m\u001b[1mwandb\u001b[0m: \tmp_layer5_kernel_size: 3\n",
      "\u001b[34m\u001b[1mwandb\u001b[0m: \tmp_layer5_stride: 3\n",
      "\u001b[34m\u001b[1mwandb\u001b[0m: \tno_of_conv_blocks: 5\n",
      "\u001b[34m\u001b[1mwandb\u001b[0m: \tno_of_fc_layers: 1\n",
      "\u001b[34m\u001b[1mwandb\u001b[0m: \tno_of_filters: 64\n",
      "\u001b[34m\u001b[1mwandb\u001b[0m: \tnum_classes: 10\n",
      "\u001b[34m\u001b[1mwandb\u001b[0m: \tnum_workers: 10\n"
     ]
    },
    {
     "data": {
      "text/html": [
       "Tracking run with wandb version 0.19.9"
      ],
      "text/plain": [
       "<IPython.core.display.HTML object>"
      ]
     },
     "metadata": {},
     "output_type": "display_data"
    },
    {
     "data": {
      "text/html": [
       "Run data is saved locally in <code>/home/joel/Pytorch_CUDA/wandb/run-20250417_205342-y4xxr21k</code>"
      ],
      "text/plain": [
       "<IPython.core.display.HTML object>"
      ]
     },
     "metadata": {},
     "output_type": "display_data"
    },
    {
     "data": {
      "text/html": [
       "Syncing run <strong><a href='https://wandb.ai/A2_DA6401_DL/Lightning_CNN/runs/y4xxr21k' target=\"_blank\">rural-sweep-164</a></strong> to <a href='https://wandb.ai/A2_DA6401_DL/Lightning_CNN' target=\"_blank\">Weights & Biases</a> (<a href='https://wandb.me/developer-guide' target=\"_blank\">docs</a>)<br>Sweep page: <a href='https://wandb.ai/A2_DA6401_DL/Lightning_CNN/sweeps/78djv91t' target=\"_blank\">https://wandb.ai/A2_DA6401_DL/Lightning_CNN/sweeps/78djv91t</a>"
      ],
      "text/plain": [
       "<IPython.core.display.HTML object>"
      ]
     },
     "metadata": {},
     "output_type": "display_data"
    },
    {
     "data": {
      "text/html": [
       " View project at <a href='https://wandb.ai/A2_DA6401_DL/Lightning_CNN' target=\"_blank\">https://wandb.ai/A2_DA6401_DL/Lightning_CNN</a>"
      ],
      "text/plain": [
       "<IPython.core.display.HTML object>"
      ]
     },
     "metadata": {},
     "output_type": "display_data"
    },
    {
     "data": {
      "text/html": [
       " View sweep at <a href='https://wandb.ai/A2_DA6401_DL/Lightning_CNN/sweeps/78djv91t' target=\"_blank\">https://wandb.ai/A2_DA6401_DL/Lightning_CNN/sweeps/78djv91t</a>"
      ],
      "text/plain": [
       "<IPython.core.display.HTML object>"
      ]
     },
     "metadata": {},
     "output_type": "display_data"
    },
    {
     "data": {
      "text/html": [
       " View run at <a href='https://wandb.ai/A2_DA6401_DL/Lightning_CNN/runs/y4xxr21k' target=\"_blank\">https://wandb.ai/A2_DA6401_DL/Lightning_CNN/runs/y4xxr21k</a>"
      ],
      "text/plain": [
       "<IPython.core.display.HTML object>"
      ]
     },
     "metadata": {},
     "output_type": "display_data"
    },
    {
     "name": "stderr",
     "output_type": "stream",
     "text": [
      "You are using the plain ModelCheckpoint callback. Consider using LitModelCheckpoint which with seamless uploading to Model registry.\n",
      "GPU available: True (cuda), used: True\n",
      "TPU available: False, using: 0 TPU cores\n",
      "HPU available: False, using: 0 HPUs\n",
      "/home/joel/Pytorch_CUDA/virt_env/lib/python3.12/site-packages/lightning/pytorch/loggers/wandb.py:397: There is a wandb run already in progress and newly created instances of `WandbLogger` will reuse this run. If this is not desired, call `wandb.finish()` before instantiating `WandbLogger`.\n",
      "LOCAL_RANK: 0 - CUDA_VISIBLE_DEVICES: [0]\n",
      "\n",
      "  | Name       | Type               | Params | Mode \n",
      "----------------------------------------------------------\n",
      "0 | model      | CNN_               | 320 K  | train\n",
      "1 | loss_fn    | CrossEntropyLoss   | 0      | train\n",
      "2 | acc_metric | MulticlassAccuracy | 0      | train\n",
      "----------------------------------------------------------\n",
      "320 K     Trainable params\n",
      "0         Non-trainable params\n",
      "320 K     Total params\n",
      "1.283     Total estimated model params size (MB)\n",
      "43        Modules in train mode\n",
      "0         Modules in eval mode\n"
     ]
    },
    {
     "data": {
      "application/vnd.jupyter.widget-view+json": {
       "model_id": "e196208b74694ac78401f9b52ee0003b",
       "version_major": 2,
       "version_minor": 0
      },
      "text/plain": [
       "Sanity Checking: |          | 0/? [00:00<?, ?it/s]"
      ]
     },
     "metadata": {},
     "output_type": "display_data"
    },
    {
     "data": {
      "application/vnd.jupyter.widget-view+json": {
       "model_id": "a73477fad14c4f9ca949dc7c6433659c",
       "version_major": 2,
       "version_minor": 0
      },
      "text/plain": [
       "Training: |          | 0/? [00:00<?, ?it/s]"
      ]
     },
     "metadata": {},
     "output_type": "display_data"
    },
    {
     "data": {
      "application/vnd.jupyter.widget-view+json": {
       "model_id": "acceda86ffa540069f6f1fda4db08499",
       "version_major": 2,
       "version_minor": 0
      },
      "text/plain": [
       "Validation: |          | 0/? [00:00<?, ?it/s]"
      ]
     },
     "metadata": {},
     "output_type": "display_data"
    },
    {
     "name": "stderr",
     "output_type": "stream",
     "text": [
      "\u001b[34m\u001b[1mwandb\u001b[0m: Ctrl + C detected. Stopping sweep.\n"
     ]
    },
    {
     "name": "stderr",
     "output_type": "stream",
     "text": [
      "Exception in thread Thread-255 (_run_job):\n",
      "Traceback (most recent call last):\n",
      "  File \"/home/joel/Pytorch_CUDA/virt_env/lib/python3.12/site-packages/torch/utils/data/dataloader.py\", line 1251, in _try_get_data\n",
      "    data = self._data_queue.get(timeout=timeout)\n",
      "           ^^^^^^^^^^^^^^^^^^^^^^^^^^^^^^^^^^^^^\n",
      "  File \"/usr/lib/python3.12/multiprocessing/queues.py\", line 122, in get\n",
      "    return _ForkingPickler.loads(res)\n",
      "           ^^^^^^^^^^^^^^^^^^^^^^^^^^\n",
      "  File \"/home/joel/Pytorch_CUDA/virt_env/lib/python3.12/site-packages/torch/multiprocessing/reductions.py\", line 541, in rebuild_storage_fd\n",
      "    fd = df.detach()\n",
      "         ^^^^^^^^^^^\n",
      "  File \"/usr/lib/python3.12/multiprocessing/resource_sharer.py\", line 57, in detach\n",
      "    with _resource_sharer.get_connection(self._id) as conn:\n",
      "         ^^^^^^^^^^^^^^^^^^^^^^^^^^^^^^^^^^^^^^^^^\n",
      "  File \"/usr/lib/python3.12/multiprocessing/resource_sharer.py\", line 86, in get_connection\n",
      "    c = Client(address, authkey=process.current_process().authkey)\n",
      "        ^^^^^^^^^^^^^^^^^^^^^^^^^^^^^^^^^^^^^^^^^^^^^^^^^^^^^^^^^^\n",
      "  File \"/usr/lib/python3.12/multiprocessing/connection.py\", line 519, in Client\n",
      "    c = SocketClient(address)\n",
      "        ^^^^^^^^^^^^^^^^^^^^^\n",
      "  File \"/usr/lib/python3.12/multiprocessing/connection.py\", line 647, in SocketClient\n",
      "    s.connect(address)\n",
      "FileNotFoundError: [Errno 2] No such file or directory\n",
      "\n",
      "The above exception was the direct cause of the following exception:\n",
      "\n",
      "Traceback (most recent call last):\n",
      "  File \"/tmp/ipykernel_7158/2510514841.py\", line 52, in trainloop_sweep\n",
      "  File \"/tmp/ipykernel_7158/2510514841.py\", line 43, in trainloop_sweep\n",
      "  File \"/home/joel/Pytorch_CUDA/virt_env/lib/python3.12/site-packages/lightning/pytorch/trainer/trainer.py\", line 561, in fit\n",
      "    call._call_and_handle_interrupt(\n",
      "  File \"/home/joel/Pytorch_CUDA/virt_env/lib/python3.12/site-packages/lightning/pytorch/trainer/call.py\", line 48, in _call_and_handle_interrupt\n",
      "    return trainer_fn(*args, **kwargs)\n",
      "           ^^^^^^^^^^^^^^^^^^^^^^^^^^^\n",
      "  File \"/home/joel/Pytorch_CUDA/virt_env/lib/python3.12/site-packages/lightning/pytorch/trainer/trainer.py\", line 599, in _fit_impl\n",
      "    self._run(model, ckpt_path=ckpt_path)\n",
      "  File \"/home/joel/Pytorch_CUDA/virt_env/lib/python3.12/site-packages/lightning/pytorch/trainer/trainer.py\", line 1012, in _run\n",
      "    results = self._run_stage()\n",
      "              ^^^^^^^^^^^^^^^^^\n",
      "  File \"/home/joel/Pytorch_CUDA/virt_env/lib/python3.12/site-packages/lightning/pytorch/trainer/trainer.py\", line 1056, in _run_stage\n",
      "    self.fit_loop.run()\n",
      "  File \"/home/joel/Pytorch_CUDA/virt_env/lib/python3.12/site-packages/lightning/pytorch/loops/fit_loop.py\", line 216, in run\n",
      "    self.advance()\n",
      "  File \"/home/joel/Pytorch_CUDA/virt_env/lib/python3.12/site-packages/lightning/pytorch/loops/fit_loop.py\", line 455, in advance\n",
      "    self.epoch_loop.run(self._data_fetcher)\n",
      "  File \"/home/joel/Pytorch_CUDA/virt_env/lib/python3.12/site-packages/lightning/pytorch/loops/training_epoch_loop.py\", line 150, in run\n",
      "    self.advance(data_fetcher)\n",
      "  File \"/home/joel/Pytorch_CUDA/virt_env/lib/python3.12/site-packages/lightning/pytorch/loops/training_epoch_loop.py\", line 282, in advance\n",
      "    batch, _, __ = next(data_fetcher)\n",
      "                   ^^^^^^^^^^^^^^^^^^\n",
      "  File \"/home/joel/Pytorch_CUDA/virt_env/lib/python3.12/site-packages/lightning/pytorch/loops/fetchers.py\", line 134, in __next__\n",
      "    batch = super().__next__()\n",
      "            ^^^^^^^^^^^^^^^^^^\n",
      "  File \"/home/joel/Pytorch_CUDA/virt_env/lib/python3.12/site-packages/lightning/pytorch/loops/fetchers.py\", line 61, in __next__\n",
      "    batch = next(self.iterator)\n",
      "            ^^^^^^^^^^^^^^^^^^^\n",
      "  File \"/home/joel/Pytorch_CUDA/virt_env/lib/python3.12/site-packages/lightning/pytorch/utilities/combined_loader.py\", line 341, in __next__\n",
      "    out = next(self._iterator)\n",
      "          ^^^^^^^^^^^^^^^^^^^^\n",
      "  File \"/home/joel/Pytorch_CUDA/virt_env/lib/python3.12/site-packages/lightning/pytorch/utilities/combined_loader.py\", line 78, in __next__\n",
      "    out[i] = next(self.iterators[i])\n",
      "             ^^^^^^^^^^^^^^^^^^^^^^^\n",
      "  File \"/home/joel/Pytorch_CUDA/virt_env/lib/python3.12/site-packages/torch/utils/data/dataloader.py\", line 708, in __next__\n",
      "    data = self._next_data()\n",
      "           ^^^^^^^^^^^^^^^^^\n",
      "  File \"/home/joel/Pytorch_CUDA/virt_env/lib/python3.12/site-packages/torch/utils/data/dataloader.py\", line 1458, in _next_data\n",
      "    idx, data = self._get_data()\n",
      "                ^^^^^^^^^^^^^^^^\n",
      "  File \"/home/joel/Pytorch_CUDA/virt_env/lib/python3.12/site-packages/torch/utils/data/dataloader.py\", line 1420, in _get_data\n",
      "    success, data = self._try_get_data()\n",
      "                    ^^^^^^^^^^^^^^^^^^^^\n",
      "  File \"/home/joel/Pytorch_CUDA/virt_env/lib/python3.12/site-packages/torch/utils/data/dataloader.py\", line 1264, in _try_get_data\n",
      "    raise RuntimeError(\n",
      "RuntimeError: DataLoader worker (pid(s) 50815, 50817) exited unexpectedly\n",
      "\n",
      "During handling of the above exception, another exception occurred:\n",
      "\n",
      "Traceback (most recent call last):\n",
      "  File \"/home/joel/Pytorch_CUDA/virt_env/lib/python3.12/site-packages/wandb/agents/pyagent.py\", line 306, in _run_job\n",
      "    self._function()\n",
      "  File \"/tmp/ipykernel_7158/2510514841.py\", line 55, in trainloop_sweep\n",
      "  File \"/home/joel/Pytorch_CUDA/virt_env/lib/python3.12/site-packages/wandb/sdk/wandb_run.py\", line 4238, in finish\n",
      "    wandb.run.finish(exit_code=exit_code, quiet=quiet)\n",
      "  File \"/home/joel/Pytorch_CUDA/virt_env/lib/python3.12/site-packages/wandb/sdk/wandb_run.py\", line 387, in wrapper\n",
      "    return func(self, *args, **kwargs)\n",
      "           ^^^^^^^^^^^^^^^^^^^^^^^^^^^\n",
      "  File \"/home/joel/Pytorch_CUDA/virt_env/lib/python3.12/site-packages/wandb/sdk/wandb_run.py\", line 483, in wrapper\n",
      "    return func(self, *args, **kwargs)\n",
      "           ^^^^^^^^^^^^^^^^^^^^^^^^^^^\n",
      "  File \"/home/joel/Pytorch_CUDA/virt_env/lib/python3.12/site-packages/wandb/sdk/wandb_run.py\", line 425, in wrapper\n",
      "    return func(self, *args, **kwargs)\n",
      "           ^^^^^^^^^^^^^^^^^^^^^^^^^^^\n",
      "  File \"/home/joel/Pytorch_CUDA/virt_env/lib/python3.12/site-packages/wandb/sdk/wandb_run.py\", line 2182, in finish\n",
      "    return self._finish(exit_code)\n",
      "           ^^^^^^^^^^^^^^^^^^^^^^^\n",
      "  File \"/home/joel/Pytorch_CUDA/virt_env/lib/python3.12/site-packages/wandb/sdk/wandb_run.py\", line 387, in wrapper\n",
      "    return func(self, *args, **kwargs)\n",
      "           ^^^^^^^^^^^^^^^^^^^^^^^^^^^\n",
      "  File \"/home/joel/Pytorch_CUDA/virt_env/lib/python3.12/site-packages/wandb/sdk/wandb_run.py\", line 2190, in _finish\n",
      "    with telemetry.context(run=self) as tel:\n",
      "         ^^^^^^^^^^^^^^^^^^^^^^^^^^^\n",
      "  File \"/home/joel/Pytorch_CUDA/virt_env/lib/python3.12/site-packages/wandb/sdk/lib/telemetry.py\", line 42, in __exit__\n",
      "    self._run._telemetry_callback(self._obj)\n",
      "  File \"/home/joel/Pytorch_CUDA/virt_env/lib/python3.12/site-packages/wandb/sdk/wandb_run.py\", line 783, in _telemetry_callback\n",
      "    self._telemetry_flush()\n",
      "  File \"/home/joel/Pytorch_CUDA/virt_env/lib/python3.12/site-packages/wandb/sdk/wandb_run.py\", line 796, in _telemetry_flush\n",
      "    self._backend.interface._publish_telemetry(self._telemetry_obj)\n",
      "  File \"/home/joel/Pytorch_CUDA/virt_env/lib/python3.12/site-packages/wandb/sdk/interface/interface_shared.py\", line 60, in _publish_telemetry\n",
      "    self._publish(rec)\n",
      "  File \"/home/joel/Pytorch_CUDA/virt_env/lib/python3.12/site-packages/wandb/sdk/interface/interface_sock.py\", line 39, in _publish\n",
      "    self._sock_client.send_record_publish(record)\n",
      "  File \"/home/joel/Pytorch_CUDA/virt_env/lib/python3.12/site-packages/wandb/sdk/lib/sock_client.py\", line 174, in send_record_publish\n",
      "    self.send_server_request(server_req)\n",
      "  File \"/home/joel/Pytorch_CUDA/virt_env/lib/python3.12/site-packages/wandb/sdk/lib/sock_client.py\", line 154, in send_server_request\n",
      "    self._send_message(msg)\n",
      "  File \"/home/joel/Pytorch_CUDA/virt_env/lib/python3.12/site-packages/wandb/sdk/lib/sock_client.py\", line 151, in _send_message\n",
      "    self._sendall_with_error_handle(header + data)\n",
      "  File \"/home/joel/Pytorch_CUDA/virt_env/lib/python3.12/site-packages/wandb/sdk/lib/sock_client.py\", line 130, in _sendall_with_error_handle\n",
      "    sent = self._sock.send(data)\n",
      "           ^^^^^^^^^^^^^^^^^^^^^\n",
      "BrokenPipeError: [Errno 32] Broken pipe\n",
      "\n",
      "During handling of the above exception, another exception occurred:\n",
      "\n",
      "Traceback (most recent call last):\n",
      "  File \"/usr/lib/python3.12/threading.py\", line 1075, in _bootstrap_inner\n",
      "    self.run()\n",
      "  File \"/home/joel/Pytorch_CUDA/virt_env/lib/python3.12/site-packages/ipykernel/ipkernel.py\", line 766, in run_closure\n",
      "    _threading_Thread_run(self)\n",
      "  File \"/usr/lib/python3.12/threading.py\", line 1012, in run\n",
      "    self._target(*self._args, **self._kwargs)\n",
      "  File \"/home/joel/Pytorch_CUDA/virt_env/lib/python3.12/site-packages/wandb/agents/pyagent.py\", line 311, in _run_job\n",
      "    wandb.finish(exit_code=1)\n",
      "  File \"/home/joel/Pytorch_CUDA/virt_env/lib/python3.12/site-packages/wandb/sdk/wandb_run.py\", line 4238, in finish\n",
      "    wandb.run.finish(exit_code=exit_code, quiet=quiet)\n",
      "  File \"/home/joel/Pytorch_CUDA/virt_env/lib/python3.12/site-packages/wandb/sdk/wandb_run.py\", line 387, in wrapper\n",
      "    return func(self, *args, **kwargs)\n",
      "           ^^^^^^^^^^^^^^^^^^^^^^^^^^^\n",
      "  File \"/home/joel/Pytorch_CUDA/virt_env/lib/python3.12/site-packages/wandb/sdk/wandb_run.py\", line 483, in wrapper\n",
      "    return func(self, *args, **kwargs)\n",
      "           ^^^^^^^^^^^^^^^^^^^^^^^^^^^\n",
      "  File \"/home/joel/Pytorch_CUDA/virt_env/lib/python3.12/site-packages/wandb/sdk/wandb_run.py\", line 425, in wrapper\n",
      "    return func(self, *args, **kwargs)\n",
      "           ^^^^^^^^^^^^^^^^^^^^^^^^^^^\n",
      "  File \"/home/joel/Pytorch_CUDA/virt_env/lib/python3.12/site-packages/wandb/sdk/wandb_run.py\", line 2182, in finish\n",
      "    return self._finish(exit_code)\n",
      "           ^^^^^^^^^^^^^^^^^^^^^^^\n",
      "  File \"/home/joel/Pytorch_CUDA/virt_env/lib/python3.12/site-packages/wandb/sdk/wandb_run.py\", line 387, in wrapper\n",
      "    return func(self, *args, **kwargs)\n",
      "           ^^^^^^^^^^^^^^^^^^^^^^^^^^^\n",
      "  File \"/home/joel/Pytorch_CUDA/virt_env/lib/python3.12/site-packages/wandb/sdk/wandb_run.py\", line 2190, in _finish\n",
      "    with telemetry.context(run=self) as tel:\n",
      "         ^^^^^^^^^^^^^^^^^^^^^^^^^^^\n",
      "  File \"/home/joel/Pytorch_CUDA/virt_env/lib/python3.12/site-packages/wandb/sdk/lib/telemetry.py\", line 42, in __exit__\n",
      "    self._run._telemetry_callback(self._obj)\n",
      "  File \"/home/joel/Pytorch_CUDA/virt_env/lib/python3.12/site-packages/wandb/sdk/wandb_run.py\", line 783, in _telemetry_callback\n",
      "    self._telemetry_flush()\n",
      "  File \"/home/joel/Pytorch_CUDA/virt_env/lib/python3.12/site-packages/wandb/sdk/wandb_run.py\", line 796, in _telemetry_flush\n",
      "    self._backend.interface._publish_telemetry(self._telemetry_obj)\n",
      "  File \"/home/joel/Pytorch_CUDA/virt_env/lib/python3.12/site-packages/wandb/sdk/interface/interface_shared.py\", line 60, in _publish_telemetry\n",
      "    self._publish(rec)\n",
      "  File \"/home/joel/Pytorch_CUDA/virt_env/lib/python3.12/site-packages/wandb/sdk/interface/interface_sock.py\", line 39, in _publish\n",
      "    self._sock_client.send_record_publish(record)\n",
      "  File \"/home/joel/Pytorch_CUDA/virt_env/lib/python3.12/site-packages/wandb/sdk/lib/sock_client.py\", line 174, in send_record_publish\n",
      "    self.send_server_request(server_req)\n",
      "  File \"/home/joel/Pytorch_CUDA/virt_env/lib/python3.12/site-packages/wandb/sdk/lib/sock_client.py\", line 154, in send_server_request\n",
      "    self._send_message(msg)\n",
      "  File \"/home/joel/Pytorch_CUDA/virt_env/lib/python3.12/site-packages/wandb/sdk/lib/sock_client.py\", line 151, in _send_message\n",
      "    self._sendall_with_error_handle(header + data)\n",
      "  File \"/home/joel/Pytorch_CUDA/virt_env/lib/python3.12/site-packages/wandb/sdk/lib/sock_client.py\", line 130, in _sendall_with_error_handle\n",
      "    sent = self._sock.send(data)\n",
      "           ^^^^^^^^^^^^^^^^^^^^^\n",
      "BrokenPipeError: [Errno 32] Broken pipe\n"
     ]
    }
   ],
   "source": [
    "sweep_id = wandb.sweep(sweep=sweep_config, project=\"Lightning_CNN\", entity=\"A2_DA6401_DL\")\n",
    "wandb.agent(sweep_id, function=trainloop_sweep,project=\"Lightning_CNN\", entity=\"A2_DA6401_DL\")"
   ]
  }
 ],
 "metadata": {
  "kernelspec": {
   "display_name": "virt_env",
   "language": "python",
   "name": "python3"
  },
  "language_info": {
   "codemirror_mode": {
    "name": "ipython",
    "version": 3
   },
   "file_extension": ".py",
   "mimetype": "text/x-python",
   "name": "python",
   "nbconvert_exporter": "python",
   "pygments_lexer": "ipython3",
   "version": "3.12.7"
  }
 },
 "nbformat": 4,
 "nbformat_minor": 5
}
